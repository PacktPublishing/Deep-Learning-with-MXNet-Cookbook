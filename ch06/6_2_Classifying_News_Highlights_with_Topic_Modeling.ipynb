{
 "cells": [
  {
   "cell_type": "code",
   "execution_count": 109,
   "id": "14d14a53",
   "metadata": {},
   "outputs": [],
   "source": [
    "import mxnet as mx\n",
    "import gluonnlp as nlp\n",
    "import matplotlib.pyplot as plt\n",
    "import numpy as np\n",
    "import pandas as pd\n",
    "\n",
    "from tqdm.notebook import tqdm"
   ]
  },
  {
   "cell_type": "code",
   "execution_count": 2,
   "id": "ccaa33dc",
   "metadata": {},
   "outputs": [],
   "source": [
    "w2v = nlp.embedding.Word2Vec()"
   ]
  },
  {
   "cell_type": "code",
   "execution_count": 3,
   "id": "8bcec847",
   "metadata": {},
   "outputs": [
    {
     "data": {
      "text/plain": [
       "['GoogleNews-vectors-negative300',\n",
       " 'freebase-vectors-skipgram1000-en',\n",
       " 'freebase-vectors-skipgram1000']"
      ]
     },
     "execution_count": 3,
     "metadata": {},
     "output_type": "execute_result"
    }
   ],
   "source": [
    "nlp.embedding.list_sources('Word2Vec')"
   ]
  },
  {
   "cell_type": "code",
   "execution_count": 4,
   "id": "c4fbc633",
   "metadata": {},
   "outputs": [
    {
     "data": {
      "text/plain": [
       "300"
      ]
     },
     "execution_count": 4,
     "metadata": {},
     "output_type": "execute_result"
    }
   ],
   "source": [
    "len(w2v[\"man\"])"
   ]
  },
  {
   "cell_type": "code",
   "execution_count": 5,
   "id": "4810d452",
   "metadata": {
    "scrolled": false
   },
   "outputs": [
    {
     "name": "stdout",
     "output_type": "stream",
     "text": [
      "\n",
      "[0.034043 0.038907 0.018783 0.044944 0.037397]\n",
      "<NDArray 5 @cpu(0)>\n",
      "\n",
      "[ 0.065388  0.064402  0.077874  0.013472 -0.026287]\n",
      "<NDArray 5 @cpu(0)>\n",
      "\n",
      "[ 0.013913  0.108777  0.112993 -0.089383  0.045324]\n",
      "<NDArray 5 @cpu(0)>\n"
     ]
    },
    {
     "data": {
      "text/plain": [
       "\n",
       "[ 0.03778133  0.07069533  0.06988334 -0.01032233  0.01881133]\n",
       "<NDArray 5 @cpu(0)>"
      ]
     },
     "execution_count": 5,
     "metadata": {},
     "output_type": "execute_result"
    }
   ],
   "source": [
    "# Test 1st 3 words of 1st headline: \"aba decides against...\"\n",
    "print(w2v[\"aba\"][:5])\n",
    "print(w2v[\"decides\"][:5])\n",
    "print(w2v[\"against\"][:5])\n",
    "\n",
    "concat_array = mx.nd.concat(w2v[\"aba\"].reshape(1, 300), w2v[\"decides\"].reshape(1, 300), w2v[\"against\"].reshape(1, 300), dim=0)\n",
    "mx.nd.mean(concat_array, axis=0)[:5]"
   ]
  },
  {
   "cell_type": "code",
   "execution_count": 76,
   "id": "bc2d88a3",
   "metadata": {},
   "outputs": [],
   "source": [
    "# Download and uncompress this public domain dataset from:\n",
    "# https://www.kaggle.com/datasets/therohk/million-headlines\n",
    "headlines_full = pd.read_csv('abcnews-date-text.csv',parse_dates=[0], infer_datetime_format=True)"
   ]
  },
  {
   "cell_type": "code",
   "execution_count": 77,
   "id": "690a151d",
   "metadata": {},
   "outputs": [
    {
     "data": {
      "text/html": [
       "<div>\n",
       "<style scoped>\n",
       "    .dataframe tbody tr th:only-of-type {\n",
       "        vertical-align: middle;\n",
       "    }\n",
       "\n",
       "    .dataframe tbody tr th {\n",
       "        vertical-align: top;\n",
       "    }\n",
       "\n",
       "    .dataframe thead th {\n",
       "        text-align: right;\n",
       "    }\n",
       "</style>\n",
       "<table border=\"1\" class=\"dataframe\">\n",
       "  <thead>\n",
       "    <tr style=\"text-align: right;\">\n",
       "      <th></th>\n",
       "      <th>publish_date</th>\n",
       "      <th>headline_text</th>\n",
       "    </tr>\n",
       "  </thead>\n",
       "  <tbody>\n",
       "    <tr>\n",
       "      <th>0</th>\n",
       "      <td>2003-02-19</td>\n",
       "      <td>aba decides against community broadcasting lic...</td>\n",
       "    </tr>\n",
       "    <tr>\n",
       "      <th>1</th>\n",
       "      <td>2003-02-19</td>\n",
       "      <td>act fire witnesses must be aware of defamation</td>\n",
       "    </tr>\n",
       "    <tr>\n",
       "      <th>2</th>\n",
       "      <td>2003-02-19</td>\n",
       "      <td>a g calls for infrastructure protection summit</td>\n",
       "    </tr>\n",
       "    <tr>\n",
       "      <th>3</th>\n",
       "      <td>2003-02-19</td>\n",
       "      <td>air nz staff in aust strike for pay rise</td>\n",
       "    </tr>\n",
       "    <tr>\n",
       "      <th>4</th>\n",
       "      <td>2003-02-19</td>\n",
       "      <td>air nz strike to affect australian travellers</td>\n",
       "    </tr>\n",
       "  </tbody>\n",
       "</table>\n",
       "</div>"
      ],
      "text/plain": [
       "  publish_date                                      headline_text\n",
       "0   2003-02-19  aba decides against community broadcasting lic...\n",
       "1   2003-02-19     act fire witnesses must be aware of defamation\n",
       "2   2003-02-19     a g calls for infrastructure protection summit\n",
       "3   2003-02-19           air nz staff in aust strike for pay rise\n",
       "4   2003-02-19      air nz strike to affect australian travellers"
      ]
     },
     "execution_count": 77,
     "metadata": {},
     "output_type": "execute_result"
    }
   ],
   "source": [
    "headlines_full.head()"
   ]
  },
  {
   "cell_type": "code",
   "execution_count": 78,
   "id": "5c9f9f6b",
   "metadata": {
    "scrolled": true
   },
   "outputs": [
    {
     "name": "stdout",
     "output_type": "stream",
     "text": [
      "1244184\n"
     ]
    }
   ],
   "source": [
    "number_headlines = len(headlines)\n",
    "print(number_headlines)"
   ]
  },
  {
   "cell_type": "code",
   "execution_count": 127,
   "id": "91511cff",
   "metadata": {},
   "outputs": [
    {
     "name": "stdout",
     "output_type": "stream",
     "text": [
      "62209\n"
     ]
    }
   ],
   "source": [
    "reduced_number_headlines = int(0.05 * number_headlines)\n",
    "print(reduced_number_headlines)"
   ]
  },
  {
   "cell_type": "code",
   "execution_count": 129,
   "id": "e7fb13ef",
   "metadata": {},
   "outputs": [],
   "source": [
    "# loc includes the last index, so to keep everything in order, we remove that last index\n",
    "headlines = headlines_full.loc[:reduced_number_headlines - 1].copy()"
   ]
  },
  {
   "cell_type": "code",
   "execution_count": 131,
   "id": "496d6535",
   "metadata": {},
   "outputs": [
    {
     "data": {
      "text/html": [
       "<div>\n",
       "<style scoped>\n",
       "    .dataframe tbody tr th:only-of-type {\n",
       "        vertical-align: middle;\n",
       "    }\n",
       "\n",
       "    .dataframe tbody tr th {\n",
       "        vertical-align: top;\n",
       "    }\n",
       "\n",
       "    .dataframe thead th {\n",
       "        text-align: right;\n",
       "    }\n",
       "</style>\n",
       "<table border=\"1\" class=\"dataframe\">\n",
       "  <thead>\n",
       "    <tr style=\"text-align: right;\">\n",
       "      <th></th>\n",
       "      <th>publish_date</th>\n",
       "      <th>headline_text</th>\n",
       "      <th>headline_text_clean</th>\n",
       "    </tr>\n",
       "  </thead>\n",
       "  <tbody>\n",
       "    <tr>\n",
       "      <th>0</th>\n",
       "      <td>2003-02-19</td>\n",
       "      <td>aba decides against community broadcasting lic...</td>\n",
       "      <td>aba decides against community broadcasting lic...</td>\n",
       "    </tr>\n",
       "    <tr>\n",
       "      <th>1</th>\n",
       "      <td>2003-02-19</td>\n",
       "      <td>act fire witnesses must be aware of defamation</td>\n",
       "      <td>act fire witnesses must aware defamation</td>\n",
       "    </tr>\n",
       "    <tr>\n",
       "      <th>2</th>\n",
       "      <td>2003-02-19</td>\n",
       "      <td>a g calls for infrastructure protection summit</td>\n",
       "      <td>calls for infrastructure protection summit</td>\n",
       "    </tr>\n",
       "    <tr>\n",
       "      <th>3</th>\n",
       "      <td>2003-02-19</td>\n",
       "      <td>air nz staff in aust strike for pay rise</td>\n",
       "      <td>air staff aust strike for pay rise</td>\n",
       "    </tr>\n",
       "    <tr>\n",
       "      <th>4</th>\n",
       "      <td>2003-02-19</td>\n",
       "      <td>air nz strike to affect australian travellers</td>\n",
       "      <td>air strike affect australian travellers</td>\n",
       "    </tr>\n",
       "  </tbody>\n",
       "</table>\n",
       "</div>"
      ],
      "text/plain": [
       "  publish_date                                      headline_text  \\\n",
       "0   2003-02-19  aba decides against community broadcasting lic...   \n",
       "1   2003-02-19     act fire witnesses must be aware of defamation   \n",
       "2   2003-02-19     a g calls for infrastructure protection summit   \n",
       "3   2003-02-19           air nz staff in aust strike for pay rise   \n",
       "4   2003-02-19      air nz strike to affect australian travellers   \n",
       "\n",
       "                                 headline_text_clean  \n",
       "0  aba decides against community broadcasting lic...  \n",
       "1           act fire witnesses must aware defamation  \n",
       "2         calls for infrastructure protection summit  \n",
       "3                 air staff aust strike for pay rise  \n",
       "4            air strike affect australian travellers  "
      ]
     },
     "execution_count": 131,
     "metadata": {},
     "output_type": "execute_result"
    }
   ],
   "source": [
    "import re\n",
    "import string\n",
    "\n",
    "# Cleaning the corpus\n",
    "def clean_text(text):\n",
    "    \"\"\"\n",
    "    Makes text lowercase for better comparison.\n",
    "    Removes punctuation, trailing characters, text between\n",
    "    square brackets, words containing numbers and links.\n",
    "    Similar function to the one built for Chapter 2, Recipe 4\n",
    "    \"\"\"\n",
    "    text = str(text).lower()\n",
    "    text = re.sub(\"\\[.*?\\']\", '', text)\n",
    "    text = re.sub(\"https?://\\S+|www\\.\\S+\", '', text)\n",
    "    text = re.sub(\"<.*?>+\", '', text)\n",
    "    text = re.sub(\"[%s]\" % re.escape(string.punctuation), '', text)\n",
    "    text = re.sub(\"\\n\", ' ', text)\n",
    "    text = re.sub(\"\\w*\\d\\w*\", '', text)\n",
    "    # No emails, so word subject can be interesting and is not removed\n",
    "    # text = re.sub(\"subject\", '', text)\n",
    "    text = re.sub(\"\\\\r\", ' ', text)\n",
    "    punct = \"/-'?!.,#$%\\'()*+-/:;<=>@[\\\\]^_`{|}~`\" + '\"\"“”’' + '∞θ÷α•à−β∅³π‘₹´°£€\\×™√²—–&'\n",
    "    for p in punct:\n",
    "        text = text.replace(p, '')\n",
    "    return text\n",
    "\n",
    "headlines[\"headline_text_clean\"] = headlines[\"headline_text\"].apply(clean_text)\n",
    "\n",
    "# This deletes short words (2 characters or less)\n",
    "headlines['headline_text_clean'] = headlines['headline_text_clean'].apply(lambda x: ' '.join([w for w in x.split() if len(w) > 2]))\n",
    "\n",
    "headlines.head()"
   ]
  },
  {
   "cell_type": "code",
   "execution_count": 132,
   "id": "b0fb1c4a",
   "metadata": {
    "scrolled": true
   },
   "outputs": [
    {
     "data": {
      "image/png": "[encoded data removed]",
      "text/plain": [
       "<Figure size 432x288 with 1 Axes>"
      ]
     },
     "metadata": {
      "needs_background": "light"
     },
     "output_type": "display_data"
    }
   ],
   "source": [
    "headlines['NumWords'] = headlines['headline_text_clean'].apply(lambda x: len(x.split()))\n",
    "headlines[['NumWords']].hist()\n",
    "plt.title(\"Distribution of headlines by number of words\");"
   ]
  },
  {
   "cell_type": "code",
   "execution_count": 133,
   "id": "740084f4",
   "metadata": {},
   "outputs": [
    {
     "name": "stderr",
     "output_type": "stream",
     "text": [
      "[nltk_data] Downloading package punkt to /home/andreto/nltk_data...\n",
      "[nltk_data]   Package punkt is already up-to-date!\n",
      "[nltk_data] Downloading package stopwords to\n",
      "[nltk_data]     /home/andreto/nltk_data...\n",
      "[nltk_data]   Package stopwords is already up-to-date!\n",
      "[nltk_data] Downloading package wordnet to /home/andreto/nltk_data...\n",
      "[nltk_data]   Package wordnet is already up-to-date!\n",
      "[nltk_data] Downloading package omw-1.4 to /home/andreto/nltk_data...\n",
      "[nltk_data]   Package omw-1.4 is already up-to-date!\n"
     ]
    }
   ],
   "source": [
    "# Apply stop-words, stemming, lemmatization to all words\n",
    "\n",
    "import nltk\n",
    "nltk.download(\"punkt\")\n",
    "nltk.download(\"stopwords\")\n",
    "nltk.download(\"wordnet\")\n",
    "nltk.download('omw-1.4')\n",
    "\n",
    "stemmer = nltk.stem.snowball.EnglishStemmer()\n",
    "lemmatizer = nltk.stem.WordNetLemmatizer()"
   ]
  },
  {
   "cell_type": "code",
   "execution_count": 134,
   "id": "5a3f3160",
   "metadata": {},
   "outputs": [],
   "source": [
    "# Stop Words\n",
    "stop_words = set(nltk.corpus.stopwords.words(\"english\"))"
   ]
  },
  {
   "cell_type": "code",
   "execution_count": 135,
   "id": "7dac53ee",
   "metadata": {},
   "outputs": [],
   "source": [
    "def process_words(\n",
    "    text,\n",
    "    stop_words=stop_words,\n",
    "    stemmer = stemmer,\n",
    "    lemmatizer = lemmatizer):\n",
    "    \n",
    "    words = nltk.tokenize.word_tokenize(text)\n",
    "       \n",
    "    filtered_words_pre = []\n",
    "    \n",
    "    for word in words:\n",
    "        \n",
    "        if word not in stop_words and word.isalpha():\n",
    "            word = stemmer.stem(word)\n",
    "            filtered_words_pre.append(lemmatizer.lemmatize(word))\n",
    "            \n",
    "    filtered_words_pre = \" \".join(filtered_words_pre) \n",
    "    \n",
    "    return filtered_words_pre"
   ]
  },
  {
   "cell_type": "code",
   "execution_count": 136,
   "id": "3a1c2b05",
   "metadata": {},
   "outputs": [],
   "source": [
    "headlines[\"headline_text_pre\"] = headlines[\"headline_text_clean\"].apply(process_words)"
   ]
  },
  {
   "cell_type": "code",
   "execution_count": 137,
   "id": "4e09f4cb",
   "metadata": {},
   "outputs": [
    {
     "data": {
      "text/html": [
       "<div>\n",
       "<style scoped>\n",
       "    .dataframe tbody tr th:only-of-type {\n",
       "        vertical-align: middle;\n",
       "    }\n",
       "\n",
       "    .dataframe tbody tr th {\n",
       "        vertical-align: top;\n",
       "    }\n",
       "\n",
       "    .dataframe thead th {\n",
       "        text-align: right;\n",
       "    }\n",
       "</style>\n",
       "<table border=\"1\" class=\"dataframe\">\n",
       "  <thead>\n",
       "    <tr style=\"text-align: right;\">\n",
       "      <th></th>\n",
       "      <th>publish_date</th>\n",
       "      <th>headline_text</th>\n",
       "      <th>headline_text_clean</th>\n",
       "      <th>NumWords</th>\n",
       "      <th>headline_text_pre</th>\n",
       "    </tr>\n",
       "  </thead>\n",
       "  <tbody>\n",
       "    <tr>\n",
       "      <th>0</th>\n",
       "      <td>2003-02-19</td>\n",
       "      <td>aba decides against community broadcasting lic...</td>\n",
       "      <td>aba decides against community broadcasting lic...</td>\n",
       "      <td>6</td>\n",
       "      <td>aba decid communiti broadcast licenc</td>\n",
       "    </tr>\n",
       "    <tr>\n",
       "      <th>1</th>\n",
       "      <td>2003-02-19</td>\n",
       "      <td>act fire witnesses must be aware of defamation</td>\n",
       "      <td>act fire witnesses must aware defamation</td>\n",
       "      <td>6</td>\n",
       "      <td>act fire wit must awar defam</td>\n",
       "    </tr>\n",
       "    <tr>\n",
       "      <th>2</th>\n",
       "      <td>2003-02-19</td>\n",
       "      <td>a g calls for infrastructure protection summit</td>\n",
       "      <td>calls for infrastructure protection summit</td>\n",
       "      <td>5</td>\n",
       "      <td>call infrastructur protect summit</td>\n",
       "    </tr>\n",
       "    <tr>\n",
       "      <th>3</th>\n",
       "      <td>2003-02-19</td>\n",
       "      <td>air nz staff in aust strike for pay rise</td>\n",
       "      <td>air staff aust strike for pay rise</td>\n",
       "      <td>7</td>\n",
       "      <td>air staff aust strike pay rise</td>\n",
       "    </tr>\n",
       "    <tr>\n",
       "      <th>4</th>\n",
       "      <td>2003-02-19</td>\n",
       "      <td>air nz strike to affect australian travellers</td>\n",
       "      <td>air strike affect australian travellers</td>\n",
       "      <td>5</td>\n",
       "      <td>air strike affect australian travel</td>\n",
       "    </tr>\n",
       "  </tbody>\n",
       "</table>\n",
       "</div>"
      ],
      "text/plain": [
       "  publish_date                                      headline_text  \\\n",
       "0   2003-02-19  aba decides against community broadcasting lic...   \n",
       "1   2003-02-19     act fire witnesses must be aware of defamation   \n",
       "2   2003-02-19     a g calls for infrastructure protection summit   \n",
       "3   2003-02-19           air nz staff in aust strike for pay rise   \n",
       "4   2003-02-19      air nz strike to affect australian travellers   \n",
       "\n",
       "                                 headline_text_clean  NumWords  \\\n",
       "0  aba decides against community broadcasting lic...         6   \n",
       "1           act fire witnesses must aware defamation         6   \n",
       "2         calls for infrastructure protection summit         5   \n",
       "3                 air staff aust strike for pay rise         7   \n",
       "4            air strike affect australian travellers         5   \n",
       "\n",
       "                      headline_text_pre  \n",
       "0  aba decid communiti broadcast licenc  \n",
       "1          act fire wit must awar defam  \n",
       "2     call infrastructur protect summit  \n",
       "3        air staff aust strike pay rise  \n",
       "4   air strike affect australian travel  "
      ]
     },
     "execution_count": 137,
     "metadata": {},
     "output_type": "execute_result"
    }
   ],
   "source": [
    "headlines.head()"
   ]
  },
  {
   "cell_type": "code",
   "execution_count": 138,
   "id": "7587e9b6",
   "metadata": {
    "scrolled": true
   },
   "outputs": [
    {
     "data": {
      "application/vnd.jupyter.widget-view+json": {
       "model_id": "4015639d011d4ed3b848389da21d7a37",
       "version_major": 2,
       "version_minor": 0
      },
      "text/plain": [
       "  0%|          | 0/62209 [00:00<?, ?it/s]"
      ]
     },
     "metadata": {},
     "output_type": "display_data"
    }
   ],
   "source": [
    "# Pre-processing\n",
    "# MXNet pre-trained model works with 300 embedding features\n",
    "embedding_features = 300\n",
    "\n",
    "# This is a very time-consuming process\n",
    "average_embeddings_headlines_pre = mx.nd.empty((reduced_number_headlines, embedding_features))\n",
    "\n",
    "for index, bag_of_words in tqdm(enumerate(headlines[\"headline_text_pre\"]), total=reduced_number_headlines):\n",
    "    bag_of_words_list = bag_of_words.split()\n",
    "    number_of_words = len(bag_of_words_list)\n",
    "    \n",
    "    # Process 1st word (to be able to concatenate)\n",
    "    word_embeddings_array = w2v[bag_of_words_list[0]].reshape(1, embedding_features)\n",
    "\n",
    "    # To manage headlines with just 1 meaningful word\n",
    "    word_index = -1\n",
    "    for word_index, word in enumerate(bag_of_words_list[1:]):\n",
    "        word_embeddings = w2v[word].reshape(1, embedding_features)\n",
    "        word_embeddings_array = mx.nd.concat(word_embeddings_array, word_embeddings, dim=0)\n",
    "    \n",
    "    assert(number_of_words == word_index + 2)\n",
    "\n",
    "    average_embedding_headline_pre = mx.nd.mean(word_embeddings_array, axis=0)\n",
    "    average_embeddings_headlines_pre[index] = average_embedding_headline_pre"
   ]
  },
  {
   "cell_type": "code",
   "execution_count": 139,
   "id": "a4f3a794",
   "metadata": {},
   "outputs": [
    {
     "data": {
      "text/plain": [
       "62209"
      ]
     },
     "execution_count": 139,
     "metadata": {},
     "output_type": "execute_result"
    }
   ],
   "source": [
    "len(average_embeddings_headlines_pre)"
   ]
  },
  {
   "cell_type": "code",
   "execution_count": 140,
   "id": "68c2c27b",
   "metadata": {},
   "outputs": [
    {
     "data": {
      "text/plain": [
       "(300,)"
      ]
     },
     "execution_count": 140,
     "metadata": {},
     "output_type": "execute_result"
    }
   ],
   "source": [
    "average_embeddings_headlines_pre[0].shape"
   ]
  },
  {
   "cell_type": "code",
   "execution_count": 141,
   "id": "9d8963a5",
   "metadata": {},
   "outputs": [],
   "source": [
    "from sklearn.cluster import KMeans\n",
    "\n",
    "cluster_km = KMeans(\n",
    "    n_clusters=4,\n",
    "    init='random',\n",
    "    n_init=10,\n",
    "    max_iter=300, \n",
    "    tol=1e-04,\n",
    "    random_state=0\n",
    ")\n",
    "\n",
    "cluster_km_values = cluster_km.fit_predict(average_embeddings_headlines_pre.asnumpy())"
   ]
  },
  {
   "cell_type": "code",
   "execution_count": 142,
   "id": "ab4b4932",
   "metadata": {},
   "outputs": [],
   "source": [
    "headlines[\"topic_cluster\"] = cluster_km"
   ]
  },
  {
   "cell_type": "code",
   "execution_count": 158,
   "id": "bb1726a0",
   "metadata": {},
   "outputs": [
    {
     "data": {
      "text/html": [
       "<div>\n",
       "<style scoped>\n",
       "    .dataframe tbody tr th:only-of-type {\n",
       "        vertical-align: middle;\n",
       "    }\n",
       "\n",
       "    .dataframe tbody tr th {\n",
       "        vertical-align: top;\n",
       "    }\n",
       "\n",
       "    .dataframe thead th {\n",
       "        text-align: right;\n",
       "    }\n",
       "</style>\n",
       "<table border=\"1\" class=\"dataframe\">\n",
       "  <thead>\n",
       "    <tr style=\"text-align: right;\">\n",
       "      <th></th>\n",
       "      <th>publish_date</th>\n",
       "      <th>headline_text</th>\n",
       "      <th>headline_text_clean</th>\n",
       "      <th>NumWords</th>\n",
       "      <th>headline_text_pre</th>\n",
       "      <th>topic_cluster</th>\n",
       "    </tr>\n",
       "  </thead>\n",
       "  <tbody>\n",
       "    <tr>\n",
       "      <th>0</th>\n",
       "      <td>2003-02-19</td>\n",
       "      <td>aba decides against community broadcasting lic...</td>\n",
       "      <td>aba decides against community broadcasting lic...</td>\n",
       "      <td>6</td>\n",
       "      <td>aba decid communiti broadcast licenc</td>\n",
       "      <td>1</td>\n",
       "    </tr>\n",
       "    <tr>\n",
       "      <th>1</th>\n",
       "      <td>2003-02-19</td>\n",
       "      <td>act fire witnesses must be aware of defamation</td>\n",
       "      <td>act fire witnesses must aware defamation</td>\n",
       "      <td>6</td>\n",
       "      <td>act fire wit must awar defam</td>\n",
       "      <td>2</td>\n",
       "    </tr>\n",
       "    <tr>\n",
       "      <th>2</th>\n",
       "      <td>2003-02-19</td>\n",
       "      <td>a g calls for infrastructure protection summit</td>\n",
       "      <td>calls for infrastructure protection summit</td>\n",
       "      <td>5</td>\n",
       "      <td>call infrastructur protect summit</td>\n",
       "      <td>2</td>\n",
       "    </tr>\n",
       "    <tr>\n",
       "      <th>3</th>\n",
       "      <td>2003-02-19</td>\n",
       "      <td>air nz staff in aust strike for pay rise</td>\n",
       "      <td>air staff aust strike for pay rise</td>\n",
       "      <td>7</td>\n",
       "      <td>air staff aust strike pay rise</td>\n",
       "      <td>2</td>\n",
       "    </tr>\n",
       "    <tr>\n",
       "      <th>4</th>\n",
       "      <td>2003-02-19</td>\n",
       "      <td>air nz strike to affect australian travellers</td>\n",
       "      <td>air strike affect australian travellers</td>\n",
       "      <td>5</td>\n",
       "      <td>air strike affect australian travel</td>\n",
       "      <td>2</td>\n",
       "    </tr>\n",
       "  </tbody>\n",
       "</table>\n",
       "</div>"
      ],
      "text/plain": [
       "  publish_date                                      headline_text  \\\n",
       "0   2003-02-19  aba decides against community broadcasting lic...   \n",
       "1   2003-02-19     act fire witnesses must be aware of defamation   \n",
       "2   2003-02-19     a g calls for infrastructure protection summit   \n",
       "3   2003-02-19           air nz staff in aust strike for pay rise   \n",
       "4   2003-02-19      air nz strike to affect australian travellers   \n",
       "\n",
       "                                 headline_text_clean  NumWords  \\\n",
       "0  aba decides against community broadcasting lic...         6   \n",
       "1           act fire witnesses must aware defamation         6   \n",
       "2         calls for infrastructure protection summit         5   \n",
       "3                 air staff aust strike for pay rise         7   \n",
       "4            air strike affect australian travellers         5   \n",
       "\n",
       "                      headline_text_pre  topic_cluster  \n",
       "0  aba decid communiti broadcast licenc              1  \n",
       "1          act fire wit must awar defam              2  \n",
       "2     call infrastructur protect summit              2  \n",
       "3        air staff aust strike pay rise              2  \n",
       "4   air strike affect australian travel              2  "
      ]
     },
     "execution_count": 158,
     "metadata": {},
     "output_type": "execute_result"
    }
   ],
   "source": [
    "headlines.head()"
   ]
  },
  {
   "cell_type": "code",
   "execution_count": 159,
   "id": "9bca787a",
   "metadata": {},
   "outputs": [],
   "source": [
    "# Compute indexes per cluster\n",
    "indexes_cluster_pre = []\n",
    "indexes_cluster_pre.append(headlines[\"topic_cluster\"] == 0)\n",
    "indexes_cluster_pre.append(headlines[\"topic_cluster\"] == 1)\n",
    "indexes_cluster_pre.append(headlines[\"topic_cluster\"] == 2)\n",
    "indexes_cluster_pre.append(headlines[\"topic_cluster\"] == 3)"
   ]
  },
  {
   "cell_type": "code",
   "execution_count": 160,
   "id": "03dd70ef",
   "metadata": {},
   "outputs": [],
   "source": [
    "from sklearn.feature_extraction.text import CountVectorizer\n",
    "\n",
    "def get_top_n_words(corpus, n=10):\n",
    "    vec = CountVectorizer(stop_words='english').fit(corpus)\n",
    "    bag_of_words = vec.transform(corpus)\n",
    "    sum_words = bag_of_words.sum(axis=0) \n",
    "    words_freq = [(word, sum_words[0, idx]) for word, idx in   vec.vocabulary_.items()]\n",
    "    words_freq =sorted(words_freq, key = lambda x: x[1], reverse=True)\n",
    "    return words_freq[:n]"
   ]
  },
  {
   "cell_type": "code",
   "execution_count": 161,
   "id": "d127ce68",
   "metadata": {},
   "outputs": [],
   "source": [
    "# Top-15 words per cluster\n",
    "cluster_words = []\n",
    "cluster_words.append(get_top_n_words(headlines[indexes_cluster_pre[0]][\"headline_text_pre\"], 15))\n",
    "cluster_words.append(get_top_n_words(headlines[indexes_cluster_pre[1]][\"headline_text_pre\"], 15))\n",
    "cluster_words.append(get_top_n_words(headlines[indexes_cluster_pre[2]][\"headline_text_pre\"], 15))\n",
    "cluster_words.append(get_top_n_words(headlines[indexes_cluster_pre[3]][\"headline_text_pre\"], 15))"
   ]
  },
  {
   "cell_type": "code",
   "execution_count": 162,
   "id": "d0bdd2b7",
   "metadata": {
    "scrolled": true
   },
   "outputs": [
    {
     "data": {
      "text/html": [
       "<div>\n",
       "<style scoped>\n",
       "    .dataframe tbody tr th:only-of-type {\n",
       "        vertical-align: middle;\n",
       "    }\n",
       "\n",
       "    .dataframe tbody tr th {\n",
       "        vertical-align: top;\n",
       "    }\n",
       "\n",
       "    .dataframe thead th {\n",
       "        text-align: right;\n",
       "    }\n",
       "</style>\n",
       "<table border=\"1\" class=\"dataframe\">\n",
       "  <thead>\n",
       "    <tr style=\"text-align: right;\">\n",
       "      <th></th>\n",
       "      <th>publish_date</th>\n",
       "      <th>headline_text</th>\n",
       "      <th>headline_text_clean</th>\n",
       "      <th>NumWords</th>\n",
       "      <th>headline_text_pre</th>\n",
       "      <th>topic_cluster</th>\n",
       "    </tr>\n",
       "  </thead>\n",
       "  <tbody>\n",
       "    <tr>\n",
       "      <th>5</th>\n",
       "      <td>2003-02-19</td>\n",
       "      <td>ambitious olsson wins triple jump</td>\n",
       "      <td>ambitious olsson wins triple jump</td>\n",
       "      <td>5</td>\n",
       "      <td>ambiti olsson win tripl jump</td>\n",
       "      <td>0</td>\n",
       "    </tr>\n",
       "    <tr>\n",
       "      <th>6</th>\n",
       "      <td>2003-02-19</td>\n",
       "      <td>antic delighted with record breaking barca</td>\n",
       "      <td>antic delighted with record breaking barca</td>\n",
       "      <td>6</td>\n",
       "      <td>antic delight record break barca</td>\n",
       "      <td>0</td>\n",
       "    </tr>\n",
       "    <tr>\n",
       "      <th>13</th>\n",
       "      <td>2003-02-19</td>\n",
       "      <td>big hopes for launceston cycling championship</td>\n",
       "      <td>big hopes for launceston cycling championship</td>\n",
       "      <td>6</td>\n",
       "      <td>big hope launceston cycl championship</td>\n",
       "      <td>0</td>\n",
       "    </tr>\n",
       "    <tr>\n",
       "      <th>18</th>\n",
       "      <td>2003-02-19</td>\n",
       "      <td>bryant leads lakers to double overtime win</td>\n",
       "      <td>bryant leads lakers double overtime win</td>\n",
       "      <td>6</td>\n",
       "      <td>bryant lead laker doubl overtim win</td>\n",
       "      <td>0</td>\n",
       "    </tr>\n",
       "    <tr>\n",
       "      <th>21</th>\n",
       "      <td>2003-02-19</td>\n",
       "      <td>calleri avenges final defeat to eliminate massu</td>\n",
       "      <td>calleri avenges final defeat eliminate massu</td>\n",
       "      <td>6</td>\n",
       "      <td>calleri aveng final defeat elimin massu</td>\n",
       "      <td>0</td>\n",
       "    </tr>\n",
       "  </tbody>\n",
       "</table>\n",
       "</div>"
      ],
      "text/plain": [
       "   publish_date                                    headline_text  \\\n",
       "5    2003-02-19                ambitious olsson wins triple jump   \n",
       "6    2003-02-19       antic delighted with record breaking barca   \n",
       "13   2003-02-19    big hopes for launceston cycling championship   \n",
       "18   2003-02-19       bryant leads lakers to double overtime win   \n",
       "21   2003-02-19  calleri avenges final defeat to eliminate massu   \n",
       "\n",
       "                              headline_text_clean  NumWords  \\\n",
       "5               ambitious olsson wins triple jump         5   \n",
       "6      antic delighted with record breaking barca         6   \n",
       "13  big hopes for launceston cycling championship         6   \n",
       "18        bryant leads lakers double overtime win         6   \n",
       "21   calleri avenges final defeat eliminate massu         6   \n",
       "\n",
       "                          headline_text_pre  topic_cluster  \n",
       "5              ambiti olsson win tripl jump              0  \n",
       "6          antic delight record break barca              0  \n",
       "13    big hope launceston cycl championship              0  \n",
       "18      bryant lead laker doubl overtim win              0  \n",
       "21  calleri aveng final defeat elimin massu              0  "
      ]
     },
     "execution_count": 162,
     "metadata": {},
     "output_type": "execute_result"
    }
   ],
   "source": [
    "# Examples Cluster 0\n",
    "headlines[indexes_cluster_pre[0]].head()"
   ]
  },
  {
   "cell_type": "code",
   "execution_count": 163,
   "id": "43249ab8",
   "metadata": {},
   "outputs": [
    {
     "data": {
      "image/png": "[encoded data removed]",
      "text/plain": [
       "<Figure size 1152x576 with 1 Axes>"
      ]
     },
     "metadata": {
      "needs_background": "light"
     },
     "output_type": "display_data"
    }
   ],
   "source": [
    "words = []\n",
    "word_values = []\n",
    "\n",
    "for i, j in cluster_words[0]:\n",
    "    words.append(i)\n",
    "    word_values.append(j)\n",
    "\n",
    "fig, ax = plt.subplots(figsize=(16,8))\n",
    "ax.bar(range(len(words)), word_values);\n",
    "ax.set_xticks(range(len(words)));\n",
    "ax.set_xticklabels(words, rotation='vertical');\n",
    "ax.set_title('Top 15 words in cluster 0');\n",
    "ax.set_xlabel('Word');\n",
    "ax.set_ylabel('Number of occurences');\n",
    "plt.show()"
   ]
  },
  {
   "cell_type": "code",
   "execution_count": 164,
   "id": "2f57c29f",
   "metadata": {},
   "outputs": [
    {
     "data": {
      "text/html": [
       "<div>\n",
       "<style scoped>\n",
       "    .dataframe tbody tr th:only-of-type {\n",
       "        vertical-align: middle;\n",
       "    }\n",
       "\n",
       "    .dataframe tbody tr th {\n",
       "        vertical-align: top;\n",
       "    }\n",
       "\n",
       "    .dataframe thead th {\n",
       "        text-align: right;\n",
       "    }\n",
       "</style>\n",
       "<table border=\"1\" class=\"dataframe\">\n",
       "  <thead>\n",
       "    <tr style=\"text-align: right;\">\n",
       "      <th></th>\n",
       "      <th>publish_date</th>\n",
       "      <th>headline_text</th>\n",
       "      <th>headline_text_clean</th>\n",
       "      <th>NumWords</th>\n",
       "      <th>headline_text_pre</th>\n",
       "      <th>topic_cluster</th>\n",
       "    </tr>\n",
       "  </thead>\n",
       "  <tbody>\n",
       "    <tr>\n",
       "      <th>0</th>\n",
       "      <td>2003-02-19</td>\n",
       "      <td>aba decides against community broadcasting lic...</td>\n",
       "      <td>aba decides against community broadcasting lic...</td>\n",
       "      <td>6</td>\n",
       "      <td>aba decid communiti broadcast licenc</td>\n",
       "      <td>1</td>\n",
       "    </tr>\n",
       "    <tr>\n",
       "      <th>7</th>\n",
       "      <td>2003-02-19</td>\n",
       "      <td>aussie qualifier stosur wastes four memphis match</td>\n",
       "      <td>aussie qualifier stosur wastes four memphis match</td>\n",
       "      <td>7</td>\n",
       "      <td>aussi qualifi stosur wast four memphi match</td>\n",
       "      <td>1</td>\n",
       "    </tr>\n",
       "    <tr>\n",
       "      <th>8</th>\n",
       "      <td>2003-02-19</td>\n",
       "      <td>aust addresses un security council over iraq</td>\n",
       "      <td>aust addresses security council over iraq</td>\n",
       "      <td>6</td>\n",
       "      <td>aust address secur council iraq</td>\n",
       "      <td>1</td>\n",
       "    </tr>\n",
       "    <tr>\n",
       "      <th>9</th>\n",
       "      <td>2003-02-19</td>\n",
       "      <td>australia is locked into war timetable opp</td>\n",
       "      <td>australia locked into war timetable opp</td>\n",
       "      <td>6</td>\n",
       "      <td>australia lock war timet opp</td>\n",
       "      <td>1</td>\n",
       "    </tr>\n",
       "    <tr>\n",
       "      <th>10</th>\n",
       "      <td>2003-02-19</td>\n",
       "      <td>australia to contribute 10 million in aid to iraq</td>\n",
       "      <td>australia contribute million aid iraq</td>\n",
       "      <td>5</td>\n",
       "      <td>australia contribut million aid iraq</td>\n",
       "      <td>1</td>\n",
       "    </tr>\n",
       "  </tbody>\n",
       "</table>\n",
       "</div>"
      ],
      "text/plain": [
       "   publish_date                                      headline_text  \\\n",
       "0    2003-02-19  aba decides against community broadcasting lic...   \n",
       "7    2003-02-19  aussie qualifier stosur wastes four memphis match   \n",
       "8    2003-02-19       aust addresses un security council over iraq   \n",
       "9    2003-02-19         australia is locked into war timetable opp   \n",
       "10   2003-02-19  australia to contribute 10 million in aid to iraq   \n",
       "\n",
       "                                  headline_text_clean  NumWords  \\\n",
       "0   aba decides against community broadcasting lic...         6   \n",
       "7   aussie qualifier stosur wastes four memphis match         7   \n",
       "8           aust addresses security council over iraq         6   \n",
       "9             australia locked into war timetable opp         6   \n",
       "10              australia contribute million aid iraq         5   \n",
       "\n",
       "                              headline_text_pre  topic_cluster  \n",
       "0          aba decid communiti broadcast licenc              1  \n",
       "7   aussi qualifi stosur wast four memphi match              1  \n",
       "8               aust address secur council iraq              1  \n",
       "9                  australia lock war timet opp              1  \n",
       "10         australia contribut million aid iraq              1  "
      ]
     },
     "execution_count": 164,
     "metadata": {},
     "output_type": "execute_result"
    }
   ],
   "source": [
    "# Examples Cluster 1\n",
    "headlines[indexes_cluster_pre[1]].head()"
   ]
  },
  {
   "cell_type": "code",
   "execution_count": 165,
   "id": "30e82e70",
   "metadata": {},
   "outputs": [
    {
     "data": {
      "image/png": "[encoded data removed]",
      "text/plain": [
       "<Figure size 1152x576 with 1 Axes>"
      ]
     },
     "metadata": {
      "needs_background": "light"
     },
     "output_type": "display_data"
    }
   ],
   "source": [
    "words = []\n",
    "word_values = []\n",
    "\n",
    "for i, j in cluster_words[1]:\n",
    "    words.append(i)\n",
    "    word_values.append(j)\n",
    "\n",
    "fig, ax = plt.subplots(figsize=(16,8))\n",
    "ax.bar(range(len(words)), word_values);\n",
    "ax.set_xticks(range(len(words)));\n",
    "ax.set_xticklabels(words, rotation='vertical');\n",
    "ax.set_title('Top 15 words in cluster 1');\n",
    "ax.set_xlabel('Word');\n",
    "ax.set_ylabel('Number of occurences');\n",
    "plt.show()"
   ]
  },
  {
   "cell_type": "code",
   "execution_count": 166,
   "id": "b1be3524",
   "metadata": {},
   "outputs": [
    {
     "data": {
      "text/html": [
       "<div>\n",
       "<style scoped>\n",
       "    .dataframe tbody tr th:only-of-type {\n",
       "        vertical-align: middle;\n",
       "    }\n",
       "\n",
       "    .dataframe tbody tr th {\n",
       "        vertical-align: top;\n",
       "    }\n",
       "\n",
       "    .dataframe thead th {\n",
       "        text-align: right;\n",
       "    }\n",
       "</style>\n",
       "<table border=\"1\" class=\"dataframe\">\n",
       "  <thead>\n",
       "    <tr style=\"text-align: right;\">\n",
       "      <th></th>\n",
       "      <th>publish_date</th>\n",
       "      <th>headline_text</th>\n",
       "      <th>headline_text_clean</th>\n",
       "      <th>NumWords</th>\n",
       "      <th>headline_text_pre</th>\n",
       "      <th>topic_cluster</th>\n",
       "    </tr>\n",
       "  </thead>\n",
       "  <tbody>\n",
       "    <tr>\n",
       "      <th>1</th>\n",
       "      <td>2003-02-19</td>\n",
       "      <td>act fire witnesses must be aware of defamation</td>\n",
       "      <td>act fire witnesses must aware defamation</td>\n",
       "      <td>6</td>\n",
       "      <td>act fire wit must awar defam</td>\n",
       "      <td>2</td>\n",
       "    </tr>\n",
       "    <tr>\n",
       "      <th>2</th>\n",
       "      <td>2003-02-19</td>\n",
       "      <td>a g calls for infrastructure protection summit</td>\n",
       "      <td>calls for infrastructure protection summit</td>\n",
       "      <td>5</td>\n",
       "      <td>call infrastructur protect summit</td>\n",
       "      <td>2</td>\n",
       "    </tr>\n",
       "    <tr>\n",
       "      <th>3</th>\n",
       "      <td>2003-02-19</td>\n",
       "      <td>air nz staff in aust strike for pay rise</td>\n",
       "      <td>air staff aust strike for pay rise</td>\n",
       "      <td>7</td>\n",
       "      <td>air staff aust strike pay rise</td>\n",
       "      <td>2</td>\n",
       "    </tr>\n",
       "    <tr>\n",
       "      <th>4</th>\n",
       "      <td>2003-02-19</td>\n",
       "      <td>air nz strike to affect australian travellers</td>\n",
       "      <td>air strike affect australian travellers</td>\n",
       "      <td>5</td>\n",
       "      <td>air strike affect australian travel</td>\n",
       "      <td>2</td>\n",
       "    </tr>\n",
       "    <tr>\n",
       "      <th>12</th>\n",
       "      <td>2003-02-19</td>\n",
       "      <td>bathhouse plans move ahead</td>\n",
       "      <td>bathhouse plans move ahead</td>\n",
       "      <td>4</td>\n",
       "      <td>bathhous plan move ahead</td>\n",
       "      <td>2</td>\n",
       "    </tr>\n",
       "  </tbody>\n",
       "</table>\n",
       "</div>"
      ],
      "text/plain": [
       "   publish_date                                   headline_text  \\\n",
       "1    2003-02-19  act fire witnesses must be aware of defamation   \n",
       "2    2003-02-19  a g calls for infrastructure protection summit   \n",
       "3    2003-02-19        air nz staff in aust strike for pay rise   \n",
       "4    2003-02-19   air nz strike to affect australian travellers   \n",
       "12   2003-02-19                      bathhouse plans move ahead   \n",
       "\n",
       "                           headline_text_clean  NumWords  \\\n",
       "1     act fire witnesses must aware defamation         6   \n",
       "2   calls for infrastructure protection summit         5   \n",
       "3           air staff aust strike for pay rise         7   \n",
       "4      air strike affect australian travellers         5   \n",
       "12                  bathhouse plans move ahead         4   \n",
       "\n",
       "                      headline_text_pre  topic_cluster  \n",
       "1          act fire wit must awar defam              2  \n",
       "2     call infrastructur protect summit              2  \n",
       "3        air staff aust strike pay rise              2  \n",
       "4   air strike affect australian travel              2  \n",
       "12             bathhous plan move ahead              2  "
      ]
     },
     "execution_count": 166,
     "metadata": {},
     "output_type": "execute_result"
    }
   ],
   "source": [
    "# Examples Cluster 2\n",
    "headlines[indexes_cluster_pre[2]].head()"
   ]
  },
  {
   "cell_type": "code",
   "execution_count": 167,
   "id": "a175c5d3",
   "metadata": {},
   "outputs": [
    {
     "data": {
      "image/png": "[encoded data removed]",
      "text/plain": [
       "<Figure size 1152x576 with 1 Axes>"
      ]
     },
     "metadata": {
      "needs_background": "light"
     },
     "output_type": "display_data"
    }
   ],
   "source": [
    "words = []\n",
    "word_values = []\n",
    "\n",
    "for i, j in cluster_words[2]:\n",
    "    words.append(i)\n",
    "    word_values.append(j)\n",
    "\n",
    "fig, ax = plt.subplots(figsize=(16,8))\n",
    "ax.bar(range(len(words)), word_values);\n",
    "ax.set_xticks(range(len(words)));\n",
    "ax.set_xticklabels(words, rotation='vertical');\n",
    "ax.set_title('Top 15 words in cluster 2');\n",
    "ax.set_xlabel('Word');\n",
    "ax.set_ylabel('Number of occurences');\n",
    "plt.show()"
   ]
  },
  {
   "cell_type": "code",
   "execution_count": 168,
   "id": "a7514653",
   "metadata": {},
   "outputs": [
    {
     "data": {
      "text/html": [
       "<div>\n",
       "<style scoped>\n",
       "    .dataframe tbody tr th:only-of-type {\n",
       "        vertical-align: middle;\n",
       "    }\n",
       "\n",
       "    .dataframe tbody tr th {\n",
       "        vertical-align: top;\n",
       "    }\n",
       "\n",
       "    .dataframe thead th {\n",
       "        text-align: right;\n",
       "    }\n",
       "</style>\n",
       "<table border=\"1\" class=\"dataframe\">\n",
       "  <thead>\n",
       "    <tr style=\"text-align: right;\">\n",
       "      <th></th>\n",
       "      <th>publish_date</th>\n",
       "      <th>headline_text</th>\n",
       "      <th>headline_text_clean</th>\n",
       "      <th>NumWords</th>\n",
       "      <th>headline_text_pre</th>\n",
       "      <th>topic_cluster</th>\n",
       "    </tr>\n",
       "  </thead>\n",
       "  <tbody>\n",
       "    <tr>\n",
       "      <th>19</th>\n",
       "      <td>2003-02-19</td>\n",
       "      <td>bushfire victims urged to see centrelink</td>\n",
       "      <td>bushfire victims urged see centrelink</td>\n",
       "      <td>5</td>\n",
       "      <td>bushfir victim urg see centrelink</td>\n",
       "      <td>3</td>\n",
       "    </tr>\n",
       "    <tr>\n",
       "      <th>42</th>\n",
       "      <td>2003-02-19</td>\n",
       "      <td>dog mauls 18 month old toddler in nsw</td>\n",
       "      <td>dog mauls month old toddler nsw</td>\n",
       "      <td>6</td>\n",
       "      <td>dog maul month old toddler nsw</td>\n",
       "      <td>3</td>\n",
       "    </tr>\n",
       "    <tr>\n",
       "      <th>48</th>\n",
       "      <td>2003-02-19</td>\n",
       "      <td>firefighters contain acid spill</td>\n",
       "      <td>firefighters contain acid spill</td>\n",
       "      <td>4</td>\n",
       "      <td>firefight contain acid spill</td>\n",
       "      <td>3</td>\n",
       "    </tr>\n",
       "    <tr>\n",
       "      <th>49</th>\n",
       "      <td>2003-02-19</td>\n",
       "      <td>four injured in head on highway crash</td>\n",
       "      <td>four injured head highway crash</td>\n",
       "      <td>5</td>\n",
       "      <td>four injur head highway crash</td>\n",
       "      <td>3</td>\n",
       "    </tr>\n",
       "    <tr>\n",
       "      <th>58</th>\n",
       "      <td>2003-02-19</td>\n",
       "      <td>girl injured in head on highway crash</td>\n",
       "      <td>girl injured head highway crash</td>\n",
       "      <td>5</td>\n",
       "      <td>girl injur head highway crash</td>\n",
       "      <td>3</td>\n",
       "    </tr>\n",
       "  </tbody>\n",
       "</table>\n",
       "</div>"
      ],
      "text/plain": [
       "   publish_date                             headline_text  \\\n",
       "19   2003-02-19  bushfire victims urged to see centrelink   \n",
       "42   2003-02-19     dog mauls 18 month old toddler in nsw   \n",
       "48   2003-02-19           firefighters contain acid spill   \n",
       "49   2003-02-19     four injured in head on highway crash   \n",
       "58   2003-02-19     girl injured in head on highway crash   \n",
       "\n",
       "                      headline_text_clean  NumWords  \\\n",
       "19  bushfire victims urged see centrelink         5   \n",
       "42        dog mauls month old toddler nsw         6   \n",
       "48        firefighters contain acid spill         4   \n",
       "49        four injured head highway crash         5   \n",
       "58        girl injured head highway crash         5   \n",
       "\n",
       "                    headline_text_pre  topic_cluster  \n",
       "19  bushfir victim urg see centrelink              3  \n",
       "42     dog maul month old toddler nsw              3  \n",
       "48       firefight contain acid spill              3  \n",
       "49      four injur head highway crash              3  \n",
       "58      girl injur head highway crash              3  "
      ]
     },
     "execution_count": 168,
     "metadata": {},
     "output_type": "execute_result"
    }
   ],
   "source": [
    "# Examples Cluster 3\n",
    "headlines[indexes_cluster_pre[3]].head()"
   ]
  },
  {
   "cell_type": "code",
   "execution_count": 171,
   "id": "87130cca",
   "metadata": {
    "scrolled": false
   },
   "outputs": [
    {
     "data": {
      "image/png": "[encoded data removed]",
      "text/plain": [
       "<Figure size 1152x576 with 1 Axes>"
      ]
     },
     "metadata": {
      "needs_background": "light"
     },
     "output_type": "display_data"
    }
   ],
   "source": [
    "words = []\n",
    "word_values = []\n",
    "\n",
    "for i, j in cluster_words[3]:\n",
    "    words.append(i)\n",
    "    word_values.append(j)\n",
    "\n",
    "fig, ax = plt.subplots(figsize=(16,8))\n",
    "ax.bar(range(len(words)), word_values);\n",
    "ax.set_xticks(range(len(words)));\n",
    "ax.set_xticklabels(words, rotation='vertical');\n",
    "ax.set_title('Top 15 words in cluster 3');\n",
    "ax.set_xlabel('Word');\n",
    "ax.set_ylabel('Number of occurences');\n",
    "plt.show()"
   ]
  },
  {
   "cell_type": "code",
   "execution_count": 219,
   "id": "f666c8ea",
   "metadata": {},
   "outputs": [
    {
     "name": "stdout",
     "output_type": "stream",
     "text": [
      "Cluster 0 : ['win', 'world', 'cup', 'final', 'lead', 'set', 'hit', 'face', 'record', 'open', 'year', 'miss', 'test', 'new', 'day']\n",
      "\n",
      "Cluster 1 : ['govt', 'iraq', 'urg', 'nsw', 'polic', 'continu', 'say', 'australia', 'vic', 'consid', 'qld', 'iraqi', 'forc', 'secur', 'sar']\n",
      "\n",
      "Cluster 2 : ['plan', 'council', 'new', 'govt', 'fund', 'say', 'boost', 'group', 'water', 'concern', 'health', 'report', 'claim', 'seek', 'warn']\n",
      "\n",
      "Cluster 3 : ['polic', 'man', 'kill', 'charg', 'court', 'murder', 'crash', 'death', 'attack', 'woman', 'face', 'arrest', 'probe', 'car', 'dead']\n",
      "\n"
     ]
    }
   ],
   "source": [
    "for cluster_index in range(4):\n",
    "    print(\"Cluster\", cluster_index, \":\", [word[0] for word in cluster_words[cluster_index]], end='')\n",
    "    print(\"\\n\")"
   ]
  },
  {
   "cell_type": "code",
   "execution_count": 192,
   "id": "61fb7278",
   "metadata": {},
   "outputs": [
    {
     "name": "stdout",
     "output_type": "stream",
     "text": [
      "771004 waratahs count cost with loss to cheetahs\n"
     ]
    }
   ],
   "source": [
    "import random\n",
    "\n",
    "random_index = random.randint(0, len(headlines_full))\n",
    "random_headline = headlines_full[\"headline_text\"][random_index]\n",
    "print(random_index, random_headline)"
   ]
  },
  {
   "cell_type": "code",
   "execution_count": 214,
   "id": "c34973bf",
   "metadata": {},
   "outputs": [],
   "source": [
    "def predict(cluster_km, headline):\n",
    "    \"\"\"\n",
    "    This function predicts the cluster  of a headline via K-Means\n",
    "    \"\"\"\n",
    "    # Cleaning\n",
    "    headline_clean = clean_text(headline)\n",
    "    headline_pre = process_words(headline_clean)  \n",
    "\n",
    "    # Embeddings\n",
    "    bag_of_words_list = headline_pre.split()\n",
    "    number_of_words = len(bag_of_words_list)\n",
    "\n",
    "    # Process 1st word (to be able to concatenate)\n",
    "    word_embeddings_array = w2v[bag_of_words_list[0]].reshape(1, embedding_features)\n",
    "\n",
    "    # To manage headlines with just 1 meaningful word\n",
    "    word_index = -1\n",
    "    for word_index, word in enumerate(bag_of_words_list[1:]):\n",
    "        word_embeddings = w2v[word].reshape(1, embedding_features)\n",
    "        word_embeddings_array = mx.nd.concat(word_embeddings_array, word_embeddings, dim=0)\n",
    "\n",
    "    assert(number_of_words == word_index + 2)\n",
    "\n",
    "    average_embedding_headline_pre = mx.nd.mean(word_embeddings_array, axis=0).reshape(1, embedding_features)\n",
    "\n",
    "    # Clustering\n",
    "    selected_cluster = cluster_km.predict(average_embedding_headline_pre.asnumpy())\n",
    "    \n",
    "    return selected_cluster    "
   ]
  },
  {
   "cell_type": "code",
   "execution_count": 215,
   "id": "cf39f026",
   "metadata": {
    "scrolled": false
   },
   "outputs": [
    {
     "name": "stdout",
     "output_type": "stream",
     "text": [
      "[0]\n"
     ]
    }
   ],
   "source": [
    "predicted_cluster = predict(km, random_headline)\n",
    "print(predicted_cluster)"
   ]
  }
 ],
 "metadata": {
  "kernelspec": {
   "display_name": "Python 3",
   "language": "python",
   "name": "python3"
  },
  "language_info": {
   "codemirror_mode": {
    "name": "ipython",
    "version": 3
   },
   "file_extension": ".py",
   "mimetype": "text/x-python",
   "name": "python",
   "nbconvert_exporter": "python",
   "pygments_lexer": "ipython3",
   "version": "3.7.10"
  }
 },
 "nbformat": 4,
 "nbformat_minor": 5
}
