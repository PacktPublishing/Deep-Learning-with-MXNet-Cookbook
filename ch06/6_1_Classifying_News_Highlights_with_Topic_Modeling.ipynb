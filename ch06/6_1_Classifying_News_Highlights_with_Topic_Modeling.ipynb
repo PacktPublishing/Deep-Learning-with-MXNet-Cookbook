{
 "cells": [
  {
   "cell_type": "code",
   "execution_count": 1,
   "id": "14d14a53",
   "metadata": {},
   "outputs": [],
   "source": [
    "import mxnet as mx\n",
    "import gluonnlp as nlp\n",
    "import numpy as np\n",
    "import pandas as pd\n",
    "\n",
    "from tqdm import tqdm"
   ]
  },
  {
   "cell_type": "code",
   "execution_count": 2,
   "id": "ccaa33dc",
   "metadata": {},
   "outputs": [],
   "source": [
    "w2v = nlp.embedding.Word2Vec()"
   ]
  },
  {
   "cell_type": "code",
   "execution_count": 3,
   "id": "8bcec847",
   "metadata": {},
   "outputs": [
    {
     "data": {
      "text/plain": [
       "['GoogleNews-vectors-negative300',\n",
       " 'freebase-vectors-skipgram1000-en',\n",
       " 'freebase-vectors-skipgram1000']"
      ]
     },
     "execution_count": 3,
     "metadata": {},
     "output_type": "execute_result"
    }
   ],
   "source": [
    "nlp.embedding.list_sources('Word2Vec')"
   ]
  },
  {
   "cell_type": "code",
   "execution_count": 4,
   "id": "c4fbc633",
   "metadata": {},
   "outputs": [
    {
     "data": {
      "text/plain": [
       "300"
      ]
     },
     "execution_count": 4,
     "metadata": {},
     "output_type": "execute_result"
    }
   ],
   "source": [
    "len(w2v[\"man\"])"
   ]
  },
  {
   "cell_type": "code",
   "execution_count": 6,
   "id": "bc2d88a3",
   "metadata": {},
   "outputs": [],
   "source": [
    "headlines = pd.read_csv('abcnews-date-text.csv',parse_dates=[0], infer_datetime_format=True)"
   ]
  },
  {
   "cell_type": "code",
   "execution_count": 7,
   "id": "690a151d",
   "metadata": {},
   "outputs": [
    {
     "data": {
      "text/html": [
       "<div>\n",
       "<style scoped>\n",
       "    .dataframe tbody tr th:only-of-type {\n",
       "        vertical-align: middle;\n",
       "    }\n",
       "\n",
       "    .dataframe tbody tr th {\n",
       "        vertical-align: top;\n",
       "    }\n",
       "\n",
       "    .dataframe thead th {\n",
       "        text-align: right;\n",
       "    }\n",
       "</style>\n",
       "<table border=\"1\" class=\"dataframe\">\n",
       "  <thead>\n",
       "    <tr style=\"text-align: right;\">\n",
       "      <th></th>\n",
       "      <th>publish_date</th>\n",
       "      <th>headline_text</th>\n",
       "    </tr>\n",
       "  </thead>\n",
       "  <tbody>\n",
       "    <tr>\n",
       "      <th>0</th>\n",
       "      <td>2003-02-19</td>\n",
       "      <td>aba decides against community broadcasting lic...</td>\n",
       "    </tr>\n",
       "    <tr>\n",
       "      <th>1</th>\n",
       "      <td>2003-02-19</td>\n",
       "      <td>act fire witnesses must be aware of defamation</td>\n",
       "    </tr>\n",
       "    <tr>\n",
       "      <th>2</th>\n",
       "      <td>2003-02-19</td>\n",
       "      <td>a g calls for infrastructure protection summit</td>\n",
       "    </tr>\n",
       "    <tr>\n",
       "      <th>3</th>\n",
       "      <td>2003-02-19</td>\n",
       "      <td>air nz staff in aust strike for pay rise</td>\n",
       "    </tr>\n",
       "    <tr>\n",
       "      <th>4</th>\n",
       "      <td>2003-02-19</td>\n",
       "      <td>air nz strike to affect australian travellers</td>\n",
       "    </tr>\n",
       "  </tbody>\n",
       "</table>\n",
       "</div>"
      ],
      "text/plain": [
       "  publish_date                                      headline_text\n",
       "0   2003-02-19  aba decides against community broadcasting lic...\n",
       "1   2003-02-19     act fire witnesses must be aware of defamation\n",
       "2   2003-02-19     a g calls for infrastructure protection summit\n",
       "3   2003-02-19           air nz staff in aust strike for pay rise\n",
       "4   2003-02-19      air nz strike to affect australian travellers"
      ]
     },
     "execution_count": 7,
     "metadata": {},
     "output_type": "execute_result"
    }
   ],
   "source": [
    "headlines.head()"
   ]
  },
  {
   "cell_type": "code",
   "execution_count": 41,
   "id": "496d6535",
   "metadata": {},
   "outputs": [],
   "source": [
    "import re\n",
    "import string\n",
    "\n",
    "# Cleaning the corpus\n",
    "def clean_text(text):\n",
    "    \"\"\"\n",
    "    Makes text lowercase for better comparison.\n",
    "    Removes punctuation, trailing characters, text between\n",
    "    square brackets, words containing numbers and links.\n",
    "    Similar function to the one built for Chapter 2, Recipe 4\n",
    "    \"\"\"\n",
    "    text = str(text).lower()\n",
    "    text = re.sub(\"\\[.*?\\']\", '', text)\n",
    "    text = re.sub(\"https?://\\S+|www\\.\\S+\", '', text)\n",
    "    text = re.sub(\"<.*?>+\", '', text)\n",
    "    text = re.sub(\"[%s]\" % re.escape(string.punctuation), '', text)\n",
    "    text = re.sub(\"\\n\", ' ', text)\n",
    "    text = re.sub(\"\\w*\\d\\w*\", '', text)\n",
    "    # No emails, so word subject can be interesting and is not removed\n",
    "    # text = re.sub(\"subject\", '', text)\n",
    "    text = re.sub(\"\\\\r\", ' ', text)\n",
    "    punct = \"/-'?!.,#$%\\'()*+-/:;<=>@[\\\\]^_`{|}~`\" + '\"\"“”’' + '∞θ÷α•à−β∅³π‘₹´°£€\\×™√²—–&'\n",
    "    for p in punct:\n",
    "        text = text.replace(p, '')\n",
    "    return text\n",
    "\n",
    "headlines[\"headline_text\"] = headlines[\"headline_text\"].apply(clean_text)\n",
    "# # This deletes short words (2 characters or less)\n",
    "headlines['headline_text'] = headlines['headline_text'].apply(lambda x: ' '.join([w for w in x.split() if len(w) > 2]))\n",
    "\n",
    "headlines.head()"
   ]
  },
  {
   "cell_type": "code",
   "execution_count": 42,
   "id": "5c9f9f6b",
   "metadata": {
    "scrolled": true
   },
   "outputs": [
    {
     "name": "stdout",
     "output_type": "stream",
     "text": [
      "1226258\n"
     ]
    }
   ],
   "source": [
    "number_headlines = len(headlines)\n",
    "print(number_headlines)"
   ]
  },
  {
   "cell_type": "code",
   "execution_count": 43,
   "id": "91511cff",
   "metadata": {},
   "outputs": [
    {
     "name": "stdout",
     "output_type": "stream",
     "text": [
      "61312\n"
     ]
    }
   ],
   "source": [
    "reduced_number_headlines = int(0.05 * number_headlines)\n",
    "print(reduced_number_headlines)"
   ]
  },
  {
   "cell_type": "code",
   "execution_count": 44,
   "id": "4810d452",
   "metadata": {
    "scrolled": false
   },
   "outputs": [
    {
     "name": "stdout",
     "output_type": "stream",
     "text": [
      "\n",
      "[0.034043 0.038907 0.018783 0.044944 0.037397]\n",
      "<NDArray 5 @cpu(0)>\n",
      "\n",
      "[ 0.065388  0.064402  0.077874  0.013472 -0.026287]\n",
      "<NDArray 5 @cpu(0)>\n",
      "\n",
      "[ 0.013913  0.108777  0.112993 -0.089383  0.045324]\n",
      "<NDArray 5 @cpu(0)>\n"
     ]
    },
    {
     "data": {
      "text/plain": [
       "\n",
       "[ 0.03778133  0.07069533  0.06988334 -0.01032233  0.01881133]\n",
       "<NDArray 5 @cpu(0)>"
      ]
     },
     "execution_count": 44,
     "metadata": {},
     "output_type": "execute_result"
    }
   ],
   "source": [
    "# Test 1st 2 words of 1st headline: \"aba decides ...\"\n",
    "print(w2v[\"aba\"][:5])\n",
    "print(w2v[\"decides\"][:5])\n",
    "print(w2v[\"against\"][:5])\n",
    "\n",
    "concat_array = mx.nd.concat(w2v[\"aba\"].reshape(1, 300), w2v[\"decides\"].reshape(1, 300), w2v[\"against\"].reshape(1, 300), dim=0)\n",
    "mx.nd.mean(concat_array, axis=0)[:5]"
   ]
  },
  {
   "cell_type": "code",
   "execution_count": 45,
   "id": "e662cba0",
   "metadata": {
    "scrolled": false
   },
   "outputs": [
    {
     "name": "stderr",
     "output_type": "stream",
     "text": [
      "100%|████████████████████████████████████| 61312/61312 [02:40<00:00, 382.90it/s]\n"
     ]
    }
   ],
   "source": [
    "# Pre-processing\n",
    "# MXNet pre-trained model works with 300 embedding features\n",
    "embedding_features = 300\n",
    "\n",
    "# This is a very time-consuming process\n",
    "average_embeddings_headlines = mx.nd.empty((reduced_number_headlines, embedding_features))\n",
    "\n",
    "for index, headline in tqdm(enumerate(headlines[\"headline_text\"][:reduced_number_headlines]), total=reduced_number_headlines):\n",
    "    bag_of_words = headline.split()\n",
    "    number_of_words = len(bag_of_words)\n",
    "    \n",
    "    # Process 1st word (to be able to concatenate)\n",
    "    word_embeddings_array = w2v[bag_of_words[0]].reshape(1, embedding_features)\n",
    "    \n",
    "    for word in bag_of_words[1:]:\n",
    "        word_embeddings = w2v[word].reshape(1, embedding_features)\n",
    "        word_embeddings_array = mx.nd.concat(word_embeddings_array, word_embeddings, dim=0)\n",
    "    \n",
    "    average_embedding_headline = mx.nd.mean(word_embeddings_array, axis=0)\n",
    "    average_embeddings_headlines[index] = average_embedding_headline"
   ]
  },
  {
   "cell_type": "code",
   "execution_count": 46,
   "id": "44d870d9",
   "metadata": {
    "scrolled": true
   },
   "outputs": [
    {
     "data": {
      "text/plain": [
       "61312"
      ]
     },
     "execution_count": 46,
     "metadata": {},
     "output_type": "execute_result"
    }
   ],
   "source": [
    "len(average_embeddings_headlines)"
   ]
  },
  {
   "cell_type": "code",
   "execution_count": 47,
   "id": "5adce1ee",
   "metadata": {},
   "outputs": [
    {
     "data": {
      "text/plain": [
       "(300,)"
      ]
     },
     "execution_count": 47,
     "metadata": {},
     "output_type": "execute_result"
    }
   ],
   "source": [
    "average_embeddings_headlines[0].shape"
   ]
  },
  {
   "cell_type": "code",
   "execution_count": 82,
   "id": "438e09a3",
   "metadata": {},
   "outputs": [],
   "source": [
    "from sklearn.cluster import KMeans\n",
    "km = KMeans(\n",
    "    n_clusters=4, init='random',\n",
    "    n_init=10, max_iter=300, \n",
    "    tol=1e-04, random_state=0\n",
    ")\n",
    "y_km = km.fit_predict(average_embeddings_headlines.asnumpy())"
   ]
  },
  {
   "cell_type": "code",
   "execution_count": 83,
   "id": "72d1dd27",
   "metadata": {},
   "outputs": [],
   "source": [
    "df = pd.DataFrame({\"headlines\": headlines.headline_text[0:len(average_embeddings_headlines)], \"topic_cluster\": y_km})"
   ]
  },
  {
   "cell_type": "code",
   "execution_count": 84,
   "id": "34cd1180",
   "metadata": {},
   "outputs": [
    {
     "data": {
      "text/html": [
       "<div>\n",
       "<style scoped>\n",
       "    .dataframe tbody tr th:only-of-type {\n",
       "        vertical-align: middle;\n",
       "    }\n",
       "\n",
       "    .dataframe tbody tr th {\n",
       "        vertical-align: top;\n",
       "    }\n",
       "\n",
       "    .dataframe thead th {\n",
       "        text-align: right;\n",
       "    }\n",
       "</style>\n",
       "<table border=\"1\" class=\"dataframe\">\n",
       "  <thead>\n",
       "    <tr style=\"text-align: right;\">\n",
       "      <th></th>\n",
       "      <th>headlines</th>\n",
       "      <th>topic_cluster</th>\n",
       "    </tr>\n",
       "  </thead>\n",
       "  <tbody>\n",
       "    <tr>\n",
       "      <th>0</th>\n",
       "      <td>aba decides against community broadcasting lic...</td>\n",
       "      <td>3</td>\n",
       "    </tr>\n",
       "    <tr>\n",
       "      <th>1</th>\n",
       "      <td>act fire witnesses must aware defamation</td>\n",
       "      <td>0</td>\n",
       "    </tr>\n",
       "    <tr>\n",
       "      <th>2</th>\n",
       "      <td>calls for infrastructure protection summit</td>\n",
       "      <td>2</td>\n",
       "    </tr>\n",
       "    <tr>\n",
       "      <th>3</th>\n",
       "      <td>air staff aust strike for pay rise</td>\n",
       "      <td>2</td>\n",
       "    </tr>\n",
       "    <tr>\n",
       "      <th>4</th>\n",
       "      <td>air strike affect australian travellers</td>\n",
       "      <td>3</td>\n",
       "    </tr>\n",
       "  </tbody>\n",
       "</table>\n",
       "</div>"
      ],
      "text/plain": [
       "                                           headlines  topic_cluster\n",
       "0  aba decides against community broadcasting lic...              3\n",
       "1           act fire witnesses must aware defamation              0\n",
       "2         calls for infrastructure protection summit              2\n",
       "3                 air staff aust strike for pay rise              2\n",
       "4            air strike affect australian travellers              3"
      ]
     },
     "execution_count": 84,
     "metadata": {},
     "output_type": "execute_result"
    }
   ],
   "source": [
    "df.head()"
   ]
  },
  {
   "cell_type": "code",
   "execution_count": 85,
   "id": "5e0d9ef5",
   "metadata": {},
   "outputs": [],
   "source": [
    "from sklearn.feature_extraction.text import CountVectorizer\n",
    "\n",
    "def get_top_n_words(corpus, n=10):\n",
    "  vec = CountVectorizer(stop_words='english').fit(corpus)\n",
    "  bag_of_words = vec.transform(corpus)\n",
    "  sum_words = bag_of_words.sum(axis=0) \n",
    "  words_freq = [(word, sum_words[0, idx]) for word, idx in   vec.vocabulary_.items()]\n",
    "  words_freq =sorted(words_freq, key = lambda x: x[1], reverse=True)\n",
    "  return words_freq[:n]"
   ]
  },
  {
   "cell_type": "code",
   "execution_count": 100,
   "id": "be22417e",
   "metadata": {},
   "outputs": [
    {
     "data": {
      "text/html": [
       "<div>\n",
       "<style scoped>\n",
       "    .dataframe tbody tr th:only-of-type {\n",
       "        vertical-align: middle;\n",
       "    }\n",
       "\n",
       "    .dataframe tbody tr th {\n",
       "        vertical-align: top;\n",
       "    }\n",
       "\n",
       "    .dataframe thead th {\n",
       "        text-align: right;\n",
       "    }\n",
       "</style>\n",
       "<table border=\"1\" class=\"dataframe\">\n",
       "  <thead>\n",
       "    <tr style=\"text-align: right;\">\n",
       "      <th></th>\n",
       "      <th>headlines</th>\n",
       "      <th>topic_cluster</th>\n",
       "    </tr>\n",
       "  </thead>\n",
       "  <tbody>\n",
       "    <tr>\n",
       "      <th>0</th>\n",
       "      <td>aba decides against community broadcasting lic...</td>\n",
       "      <td>3</td>\n",
       "    </tr>\n",
       "    <tr>\n",
       "      <th>4</th>\n",
       "      <td>air strike affect australian travellers</td>\n",
       "      <td>3</td>\n",
       "    </tr>\n",
       "    <tr>\n",
       "      <th>9</th>\n",
       "      <td>australia locked into war timetable opp</td>\n",
       "      <td>3</td>\n",
       "    </tr>\n",
       "    <tr>\n",
       "      <th>10</th>\n",
       "      <td>australia contribute million aid iraq</td>\n",
       "      <td>3</td>\n",
       "    </tr>\n",
       "    <tr>\n",
       "      <th>11</th>\n",
       "      <td>barca take record robson celebrates birthday</td>\n",
       "      <td>3</td>\n",
       "    </tr>\n",
       "  </tbody>\n",
       "</table>\n",
       "</div>"
      ],
      "text/plain": [
       "                                            headlines  topic_cluster\n",
       "0   aba decides against community broadcasting lic...              3\n",
       "4             air strike affect australian travellers              3\n",
       "9             australia locked into war timetable opp              3\n",
       "10              australia contribute million aid iraq              3\n",
       "11       barca take record robson celebrates birthday              3"
      ]
     },
     "execution_count": 100,
     "metadata": {},
     "output_type": "execute_result"
    }
   ],
   "source": [
    "import matplotlib.pyplot as plt\n",
    "\n",
    "words = []\n",
    "word_values = []\n",
    "cluster = 3\n",
    "indexes_cluster = (df[\"topic_cluster\"] == cluster)\n",
    "\n",
    "df[indexes_cluster].head()"
   ]
  },
  {
   "cell_type": "code",
   "execution_count": 101,
   "id": "2f1eddd9",
   "metadata": {},
   "outputs": [
    {
     "data": {
      "image/png": "[encoded data removed]",
      "text/plain": [
       "<Figure size 1152x576 with 1 Axes>"
      ]
     },
     "metadata": {
      "needs_background": "light"
     },
     "output_type": "display_data"
    }
   ],
   "source": [
    "for i,j in get_top_n_words(df[indexes_cluster][\"headlines\"], 15):\n",
    "  words.append(i)\n",
    "  word_values.append(j)\n",
    "fig, ax = plt.subplots(figsize=(16,8))\n",
    "ax.bar(range(len(words)), word_values);\n",
    "ax.set_xticks(range(len(words)));\n",
    "ax.set_xticklabels(words, rotation='vertical');\n",
    "ax.set_title('Top 15 words in the headlines dataset');\n",
    "ax.set_xlabel('Word');\n",
    "ax.set_ylabel('Number of occurences');\n",
    "plt.show()"
   ]
  },
  {
   "cell_type": "code",
   "execution_count": 102,
   "id": "740084f4",
   "metadata": {},
   "outputs": [
    {
     "name": "stderr",
     "output_type": "stream",
     "text": [
      "[nltk_data] Downloading package punkt to /home/andres/nltk_data...\n",
      "[nltk_data]   Unzipping tokenizers/punkt.zip.\n",
      "[nltk_data] Downloading package stopwords to /home/andres/nltk_data...\n",
      "[nltk_data]   Package stopwords is already up-to-date!\n",
      "[nltk_data] Downloading package wordnet to /home/andres/nltk_data...\n",
      "[nltk_data]   Package wordnet is already up-to-date!\n"
     ]
    }
   ],
   "source": [
    "# Apply stop-words, stemming, lemmatization to all words\n",
    "\n",
    "import nltk\n",
    "nltk.download(\"punkt\")\n",
    "nltk.download(\"stopwords\")\n",
    "nltk.download(\"wordnet\")\n",
    "\n",
    "stemmer = nltk.stem.snowball.EnglishStemmer()\n",
    "lemmatizer = nltk.stem.WordNetLemmatizer()"
   ]
  },
  {
   "cell_type": "code",
   "execution_count": 103,
   "id": "5a3f3160",
   "metadata": {},
   "outputs": [],
   "source": [
    "# Stop Words\n",
    "stop_words = set(nltk.corpus.stopwords.words(\"english\"))"
   ]
  },
  {
   "cell_type": "code",
   "execution_count": 105,
   "id": "7dac53ee",
   "metadata": {},
   "outputs": [],
   "source": [
    "def process_words(\n",
    "    text,\n",
    "    stop_words=stop_words,\n",
    "    stemmer = stemmer,\n",
    "    lemmatizer = lemmatizer):\n",
    "    \n",
    "    words = nltk.tokenize.word_tokenize(text)\n",
    "       \n",
    "    filtered_words_pre = []\n",
    "    filtered_words_post = []\n",
    "    \n",
    "    for word in words:\n",
    "        \n",
    "        if word not in stop_words and word.isalpha():\n",
    "            filtered_words_pre.append(word)\n",
    "            word = stemmer.stem(word)\n",
    "            filtered_words_post.append(lemmatizer.lemmatize(word))\n",
    "    \n",
    "    return filtered_words_post"
   ]
  },
  {
   "cell_type": "code",
   "execution_count": 106,
   "id": "3a1c2b05",
   "metadata": {},
   "outputs": [],
   "source": [
    "headlines[\"headline_text_post\"] = headlines[\"headline_text\"].apply(process_words)"
   ]
  },
  {
   "cell_type": "code",
   "execution_count": 107,
   "id": "4e09f4cb",
   "metadata": {},
   "outputs": [
    {
     "data": {
      "text/html": [
       "<div>\n",
       "<style scoped>\n",
       "    .dataframe tbody tr th:only-of-type {\n",
       "        vertical-align: middle;\n",
       "    }\n",
       "\n",
       "    .dataframe tbody tr th {\n",
       "        vertical-align: top;\n",
       "    }\n",
       "\n",
       "    .dataframe thead th {\n",
       "        text-align: right;\n",
       "    }\n",
       "</style>\n",
       "<table border=\"1\" class=\"dataframe\">\n",
       "  <thead>\n",
       "    <tr style=\"text-align: right;\">\n",
       "      <th></th>\n",
       "      <th>publish_date</th>\n",
       "      <th>headline_text</th>\n",
       "      <th>headline_text_post</th>\n",
       "    </tr>\n",
       "  </thead>\n",
       "  <tbody>\n",
       "    <tr>\n",
       "      <th>0</th>\n",
       "      <td>2003-02-19</td>\n",
       "      <td>aba decides against community broadcasting lic...</td>\n",
       "      <td>[aba, decid, communiti, broadcast, licenc]</td>\n",
       "    </tr>\n",
       "    <tr>\n",
       "      <th>1</th>\n",
       "      <td>2003-02-19</td>\n",
       "      <td>act fire witnesses must aware defamation</td>\n",
       "      <td>[act, fire, wit, must, awar, defam]</td>\n",
       "    </tr>\n",
       "    <tr>\n",
       "      <th>2</th>\n",
       "      <td>2003-02-19</td>\n",
       "      <td>calls for infrastructure protection summit</td>\n",
       "      <td>[call, infrastructur, protect, summit]</td>\n",
       "    </tr>\n",
       "    <tr>\n",
       "      <th>3</th>\n",
       "      <td>2003-02-19</td>\n",
       "      <td>air staff aust strike for pay rise</td>\n",
       "      <td>[air, staff, aust, strike, pay, rise]</td>\n",
       "    </tr>\n",
       "    <tr>\n",
       "      <th>4</th>\n",
       "      <td>2003-02-19</td>\n",
       "      <td>air strike affect australian travellers</td>\n",
       "      <td>[air, strike, affect, australian, travel]</td>\n",
       "    </tr>\n",
       "  </tbody>\n",
       "</table>\n",
       "</div>"
      ],
      "text/plain": [
       "  publish_date                                      headline_text  \\\n",
       "0   2003-02-19  aba decides against community broadcasting lic...   \n",
       "1   2003-02-19           act fire witnesses must aware defamation   \n",
       "2   2003-02-19         calls for infrastructure protection summit   \n",
       "3   2003-02-19                 air staff aust strike for pay rise   \n",
       "4   2003-02-19            air strike affect australian travellers   \n",
       "\n",
       "                           headline_text_post  \n",
       "0  [aba, decid, communiti, broadcast, licenc]  \n",
       "1         [act, fire, wit, must, awar, defam]  \n",
       "2      [call, infrastructur, protect, summit]  \n",
       "3       [air, staff, aust, strike, pay, rise]  \n",
       "4   [air, strike, affect, australian, travel]  "
      ]
     },
     "execution_count": 107,
     "metadata": {},
     "output_type": "execute_result"
    }
   ],
   "source": [
    "headlines.head()"
   ]
  },
  {
   "cell_type": "code",
   "execution_count": 111,
   "id": "7587e9b6",
   "metadata": {
    "scrolled": false
   },
   "outputs": [
    {
     "name": "stderr",
     "output_type": "stream",
     "text": [
      "100%|████████████████████████████████████| 61312/61312 [02:29<00:00, 410.78it/s]\n"
     ]
    }
   ],
   "source": [
    "# This is a very time-consuming process\n",
    "average_embeddings_headlines = mx.nd.empty((reduced_number_headlines, embedding_features))\n",
    "\n",
    "for index, bag_of_words in tqdm(enumerate(headlines[\"headline_text_post\"][:reduced_number_headlines]), total=reduced_number_headlines):\n",
    "    number_of_words = len(bag_of_words)\n",
    "    \n",
    "    # Process 1st word (to be able to concatenate)\n",
    "    word_embeddings_array = w2v[bag_of_words[0]].reshape(1, embedding_features)\n",
    "    \n",
    "    for word in bag_of_words[1:]:\n",
    "        word_embeddings = w2v[word].reshape(1, embedding_features)\n",
    "        word_embeddings_array = mx.nd.concat(word_embeddings_array, word_embeddings, dim=0)\n",
    "    \n",
    "    averate_embedding_headline = mx.nd.mean(word_embeddings_array, axis=0)\n",
    "    average_embeddings_headlines[index] = averate_embedding_headline"
   ]
  },
  {
   "cell_type": "code",
   "execution_count": 112,
   "id": "9d8963a5",
   "metadata": {},
   "outputs": [],
   "source": [
    "from sklearn.cluster import KMeans\n",
    "km = KMeans(\n",
    "    n_clusters=4, init='random',\n",
    "    n_init=10, max_iter=300, \n",
    "    tol=1e-04, random_state=0\n",
    ")\n",
    "y_km = km.fit_predict(average_embeddings_headlines.asnumpy())"
   ]
  },
  {
   "cell_type": "code",
   "execution_count": 113,
   "id": "bc6d978f",
   "metadata": {},
   "outputs": [],
   "source": [
    "df = pd.DataFrame({\"headlines\": headlines.headline_text[0:len(average_embeddings_headlines)], \"topic_cluster\": y_km})"
   ]
  },
  {
   "cell_type": "code",
   "execution_count": 114,
   "id": "bb1726a0",
   "metadata": {},
   "outputs": [
    {
     "data": {
      "text/html": [
       "<div>\n",
       "<style scoped>\n",
       "    .dataframe tbody tr th:only-of-type {\n",
       "        vertical-align: middle;\n",
       "    }\n",
       "\n",
       "    .dataframe tbody tr th {\n",
       "        vertical-align: top;\n",
       "    }\n",
       "\n",
       "    .dataframe thead th {\n",
       "        text-align: right;\n",
       "    }\n",
       "</style>\n",
       "<table border=\"1\" class=\"dataframe\">\n",
       "  <thead>\n",
       "    <tr style=\"text-align: right;\">\n",
       "      <th></th>\n",
       "      <th>headlines</th>\n",
       "      <th>topic_cluster</th>\n",
       "    </tr>\n",
       "  </thead>\n",
       "  <tbody>\n",
       "    <tr>\n",
       "      <th>0</th>\n",
       "      <td>aba decides against community broadcasting lic...</td>\n",
       "      <td>0</td>\n",
       "    </tr>\n",
       "    <tr>\n",
       "      <th>1</th>\n",
       "      <td>act fire witnesses must aware defamation</td>\n",
       "      <td>1</td>\n",
       "    </tr>\n",
       "    <tr>\n",
       "      <th>2</th>\n",
       "      <td>calls for infrastructure protection summit</td>\n",
       "      <td>1</td>\n",
       "    </tr>\n",
       "    <tr>\n",
       "      <th>3</th>\n",
       "      <td>air staff aust strike for pay rise</td>\n",
       "      <td>1</td>\n",
       "    </tr>\n",
       "    <tr>\n",
       "      <th>4</th>\n",
       "      <td>air strike affect australian travellers</td>\n",
       "      <td>1</td>\n",
       "    </tr>\n",
       "  </tbody>\n",
       "</table>\n",
       "</div>"
      ],
      "text/plain": [
       "                                           headlines  topic_cluster\n",
       "0  aba decides against community broadcasting lic...              0\n",
       "1           act fire witnesses must aware defamation              1\n",
       "2         calls for infrastructure protection summit              1\n",
       "3                 air staff aust strike for pay rise              1\n",
       "4            air strike affect australian travellers              1"
      ]
     },
     "execution_count": 114,
     "metadata": {},
     "output_type": "execute_result"
    }
   ],
   "source": [
    "df.head()"
   ]
  },
  {
   "cell_type": "code",
   "execution_count": 115,
   "id": "03dd70ef",
   "metadata": {},
   "outputs": [],
   "source": [
    "from sklearn.feature_extraction.text import CountVectorizer\n",
    "\n",
    "def get_top_n_words(corpus, n=10):\n",
    "  vec = CountVectorizer(stop_words='english').fit(corpus)\n",
    "  bag_of_words = vec.transform(corpus)\n",
    "  sum_words = bag_of_words.sum(axis=0) \n",
    "  words_freq = [(word, sum_words[0, idx]) for word, idx in   vec.vocabulary_.items()]\n",
    "  words_freq =sorted(words_freq, key = lambda x: x[1], reverse=True)\n",
    "  return words_freq[:n]"
   ]
  },
  {
   "cell_type": "code",
   "execution_count": 125,
   "id": "9bca787a",
   "metadata": {},
   "outputs": [
    {
     "data": {
      "text/html": [
       "<div>\n",
       "<style scoped>\n",
       "    .dataframe tbody tr th:only-of-type {\n",
       "        vertical-align: middle;\n",
       "    }\n",
       "\n",
       "    .dataframe tbody tr th {\n",
       "        vertical-align: top;\n",
       "    }\n",
       "\n",
       "    .dataframe thead th {\n",
       "        text-align: right;\n",
       "    }\n",
       "</style>\n",
       "<table border=\"1\" class=\"dataframe\">\n",
       "  <thead>\n",
       "    <tr style=\"text-align: right;\">\n",
       "      <th></th>\n",
       "      <th>headlines</th>\n",
       "      <th>topic_cluster</th>\n",
       "    </tr>\n",
       "  </thead>\n",
       "  <tbody>\n",
       "    <tr>\n",
       "      <th>5</th>\n",
       "      <td>ambitious olsson wins triple jump</td>\n",
       "      <td>3</td>\n",
       "    </tr>\n",
       "    <tr>\n",
       "      <th>6</th>\n",
       "      <td>antic delighted with record breaking barca</td>\n",
       "      <td>3</td>\n",
       "    </tr>\n",
       "    <tr>\n",
       "      <th>13</th>\n",
       "      <td>big hopes for launceston cycling championship</td>\n",
       "      <td>3</td>\n",
       "    </tr>\n",
       "    <tr>\n",
       "      <th>18</th>\n",
       "      <td>bryant leads lakers double overtime win</td>\n",
       "      <td>3</td>\n",
       "    </tr>\n",
       "    <tr>\n",
       "      <th>21</th>\n",
       "      <td>calleri avenges final defeat eliminate massu</td>\n",
       "      <td>3</td>\n",
       "    </tr>\n",
       "  </tbody>\n",
       "</table>\n",
       "</div>"
      ],
      "text/plain": [
       "                                        headlines  topic_cluster\n",
       "5               ambitious olsson wins triple jump              3\n",
       "6      antic delighted with record breaking barca              3\n",
       "13  big hopes for launceston cycling championship              3\n",
       "18        bryant leads lakers double overtime win              3\n",
       "21   calleri avenges final defeat eliminate massu              3"
      ]
     },
     "execution_count": 125,
     "metadata": {},
     "output_type": "execute_result"
    }
   ],
   "source": [
    "import matplotlib.pyplot as plt\n",
    "\n",
    "words = []\n",
    "word_values = []\n",
    "cluster = 3\n",
    "indexes_cluster = (df[\"topic_cluster\"] == cluster)\n",
    "\n",
    "df[indexes_cluster].head()"
   ]
  },
  {
   "cell_type": "code",
   "execution_count": 126,
   "id": "43249ab8",
   "metadata": {},
   "outputs": [
    {
     "data": {
      "image/png": "[encoded data removed]",
      "text/plain": [
       "<Figure size 1152x576 with 1 Axes>"
      ]
     },
     "metadata": {
      "needs_background": "light"
     },
     "output_type": "display_data"
    }
   ],
   "source": [
    "for i,j in get_top_n_words(df[indexes_cluster][\"headlines\"], 15):\n",
    "  words.append(i)\n",
    "  word_values.append(j)\n",
    "fig, ax = plt.subplots(figsize=(16,8))\n",
    "ax.bar(range(len(words)), word_values);\n",
    "ax.set_xticks(range(len(words)));\n",
    "ax.set_xticklabels(words, rotation='vertical');\n",
    "ax.set_title('Top 15 words in the headlines dataset');\n",
    "ax.set_xlabel('Word');\n",
    "ax.set_ylabel('Number of occurences');\n",
    "plt.show()"
   ]
  },
  {
   "cell_type": "code",
   "execution_count": null,
   "id": "02ff0b1b",
   "metadata": {},
   "outputs": [],
   "source": []
  }
 ],
 "metadata": {
  "kernelspec": {
   "display_name": "Python 3",
   "language": "python",
   "name": "python3"
  },
  "language_info": {
   "codemirror_mode": {
    "name": "ipython",
    "version": 3
   },
   "file_extension": ".py",
   "mimetype": "text/x-python",
   "name": "python",
   "nbconvert_exporter": "python",
   "pygments_lexer": "ipython3",
   "version": "3.7.10"
  }
 },
 "nbformat": 4,
 "nbformat_minor": 5
}
