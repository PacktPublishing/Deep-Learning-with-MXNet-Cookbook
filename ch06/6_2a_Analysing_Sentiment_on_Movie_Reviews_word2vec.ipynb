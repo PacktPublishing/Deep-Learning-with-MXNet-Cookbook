{
 "cells": [
  {
   "cell_type": "code",
   "execution_count": 1,
   "id": "14d14a53",
   "metadata": {},
   "outputs": [
    {
     "name": "stderr",
     "output_type": "stream",
     "text": [
      "[nltk_data] Downloading package punkt to /home/andres/nltk_data...\n",
      "[nltk_data]   Package punkt is already up-to-date!\n",
      "[nltk_data] Downloading package stopwords to /home/andres/nltk_data...\n",
      "[nltk_data]   Package stopwords is already up-to-date!\n",
      "[nltk_data] Downloading package wordnet to /home/andres/nltk_data...\n",
      "[nltk_data]   Package wordnet is already up-to-date!\n"
     ]
    }
   ],
   "source": [
    "import mxnet as mx\n",
    "import gluonnlp as nlp\n",
    "import numpy as np\n",
    "from sklearn import metrics\n",
    "import matplotlib.pyplot as plt\n",
    "from tqdm import tqdm\n",
    "\n",
    "# Set Context (change to cpu if no gpu available)\n",
    "# ctx = mx.cpu()\n",
    "ctx = mx.gpu()\n",
    "\n",
    "# Local Libraries\n",
    "# Load Model locally\n",
    "import textcnn\n",
    "# Load helper functions\n",
    "import utils"
   ]
  },
  {
   "cell_type": "code",
   "execution_count": null,
   "id": "ccaa33dc",
   "metadata": {},
   "outputs": [],
   "source": [
    "w2v = nlp.embedding.Word2Vec()"
   ]
  },
  {
   "cell_type": "code",
   "execution_count": null,
   "id": "8bcec847",
   "metadata": {},
   "outputs": [],
   "source": [
    "nlp.embedding.list_sources('Word2Vec')"
   ]
  },
  {
   "cell_type": "code",
   "execution_count": null,
   "id": "c4fbc633",
   "metadata": {
    "scrolled": false
   },
   "outputs": [],
   "source": [
    "embed_size = len(w2v[\"man\"])\n",
    "print(embed_size)"
   ]
  },
  {
   "cell_type": "code",
   "execution_count": null,
   "id": "dbe78d50",
   "metadata": {},
   "outputs": [],
   "source": [
    "# References\n",
    "\n",
    "# Loading data for NLP\n",
    "# https://nlp.gluon.ai/api/notes/data_api.html\n",
    "\n",
    "# TextCNN from D2L\n",
    "# https://d2l.ai/chapter_natural-language-processing-applications/sentiment-analysis-cnn.html\n",
    "\n",
    "# d2l: Load data IMDB\n",
    "# https://d2l.ai/chapter_natural-language-processing-applications/sentiment-analysis-and-dataset.html\n",
    "\n",
    "# Handling strings in dataloader\n",
    "# https://stackoverflow.com/questions/56755384/mxnet-ndarray-with-dtype-string\n",
    "\n",
    "# TextCNN with Keras\n",
    "# https://towardsdatascience.com/cnn-sentiment-analysis-1d16b7c5a0e7\n",
    "\n",
    "# https://machinelearningmastery.com/develop-word-embedding-model-predicting-movie-review-sentiment/\n",
    "# https://colab.research.google.com/github/dipanjanS/nlp_workshop_odsc19/blob/master/Module05%20-%20NLP%20Applications/Project07B%20-%20Text%20Classification%20Deep%20Learning%20CNN%20Models.ipynb#scrollTo=9X_4ticSpxUC"
   ]
  },
  {
   "cell_type": "code",
   "execution_count": null,
   "id": "bc2d88a3",
   "metadata": {},
   "outputs": [],
   "source": [
    "# Loading the dataset\n",
    "full_train_dataset, test_dataset = [nlp.data.IMDB(root='data/imdb', segment=segment)\n",
    "                               for segment in ('train', 'test')]\n",
    "\n",
    "# Dataset Sizes\n",
    "print(\"Size of Train Set:\", len(full_train_dataset), \" (no valid split yet)\")\n",
    "print(\"Size of Test  Set:\", len(test_dataset))\n",
    "\n",
    "# # Filtering for size\n",
    "# full_train_dataset = full_train_dataset[:6250]\n",
    "# test_dataset = test_dataset[:1250]\n",
    "# print(\"Size of Train Set (Post-filter):\", len(full_train_dataset), \" (no valid split yet)\")\n",
    "# print(\"Size of Test  Set (Post-filter):\", len(test_dataset))"
   ]
  },
  {
   "cell_type": "code",
   "execution_count": null,
   "id": "3a1c2b05",
   "metadata": {
    "scrolled": true
   },
   "outputs": [],
   "source": [
    "print(test_dataset[0][0])\n",
    "sequence_test = utils.process_words(utils.clean_text(test_dataset[0][0]))\n",
    "print(sequence_test)"
   ]
  },
  {
   "cell_type": "code",
   "execution_count": null,
   "id": "dd218249",
   "metadata": {},
   "outputs": [],
   "source": [
    "# Dataset Split 40/10/50\n",
    "# Test dataset at 50% is given by library, validation dataset is 20% of train dataset\n",
    "from sklearn.model_selection import train_test_split\n",
    "\n",
    "train_dataset, val_dataset = train_test_split(full_train_dataset, test_size=int(0.2*len(full_train_dataset)), random_state=42)"
   ]
  },
  {
   "cell_type": "code",
   "execution_count": null,
   "id": "2afd567a",
   "metadata": {},
   "outputs": [],
   "source": [
    "# Final Dataset Sizes\n",
    "print(\"Size of Train Set:\", len(train_dataset))\n",
    "print(\"Size of Val   Set:\", len(val_dataset))\n",
    "print(\"Size of Test  Set:\", len(test_dataset))"
   ]
  },
  {
   "cell_type": "code",
   "execution_count": null,
   "id": "f613761d",
   "metadata": {},
   "outputs": [],
   "source": [
    "# Each input in a batch, needs to have the same length\n",
    "# We need to apply a batchify function to pad with zeros (if necessary)\n",
    "# On the output, we just stack them together to get a batch-size array\n",
    "batchify_fn = nlp.data.batchify.Tuple(nlp.data.batchify.Pad(axis=1, pad_val=0),\n",
    "                                      nlp.data.batchify.Stack())"
   ]
  },
  {
   "cell_type": "code",
   "execution_count": null,
   "id": "dd2f1abd",
   "metadata": {
    "scrolled": false
   },
   "outputs": [],
   "source": [
    "from importlib import reload\n",
    "reload(textcnn)\n",
    "\n",
    "# CNN with 3 parallel filters\n",
    "text_cnn = textcnn.TextCNN([3, 4, 5], [embed_size, embed_size, embed_size])\n",
    "text_cnn.initialize(mx.init.MSRAPrelu(), ctx)\n",
    "\n",
    "# Formatting single input as expected for the network\n",
    "direct_embeddings_test = w2v[sequence_test]\n",
    "direct_embeddings_reshaped_test = direct_embeddings_test.transpose()\n",
    "# Transform it into a batch of size 1\n",
    "direct_embeddings_reshaped_test = mx.nd.expand_dims(direct_embeddings_reshaped_test, axis = 0)\n",
    "final_embeddings_test = direct_embeddings_reshaped_test.as_in_context(ctx)\n",
    "\n",
    "print(direct_embeddings_reshaped_test.shape)\n",
    "\n",
    "text_cnn.summary(final_embeddings_test)"
   ]
  },
  {
   "cell_type": "code",
   "execution_count": null,
   "id": "c2652a54",
   "metadata": {},
   "outputs": [],
   "source": [
    "review_sentiment = text_cnn(final_embeddings_test)\n",
    "# We can omit sigmoid processing, outputs of the network\n",
    "# with positive values are positive reviews\n",
    "if review_sentiment >= 0:\n",
    "    print(review_sentiment, \"The review is positive\")\n",
    "else:\n",
    "    print(review_sentiment, \"The review is negative\")"
   ]
  },
  {
   "cell_type": "code",
   "execution_count": 17,
   "id": "2a833307",
   "metadata": {},
   "outputs": [],
   "source": [
    "# Dataset processing\n",
    "train_set = []\n",
    "for review, score in train_dataset:\n",
    "    # Processing inputs & applying embeddings\n",
    "    processed_review = utils.process_words(utils.clean_text(review))\n",
    "    embeddings = w2v[processed_review].transpose()\n",
    "    \n",
    "    # A negative review has a score <= 4\n",
    "    # A positive review has a score >= 7 out of 10\n",
    "    sentiment = int(score > 5)\n",
    "    train_set.append((embeddings, sentiment))"
   ]
  },
  {
   "cell_type": "code",
   "execution_count": 18,
   "id": "4520fd2c",
   "metadata": {},
   "outputs": [],
   "source": [
    "val_set = []\n",
    "for review, score in val_dataset:\n",
    "    # Processing inputs & applying embeddings\n",
    "    processed_review = utils.process_words(utils.clean_text(review))\n",
    "    embeddings = w2v[processed_review].transpose()\n",
    "    \n",
    "    # A negative review has a score <= 4\n",
    "    # A positive review has a score >= 7 out of 10\n",
    "    sentiment = int(score > 5)\n",
    "    val_set.append((embeddings, sentiment))"
   ]
  },
  {
   "cell_type": "code",
   "execution_count": 19,
   "id": "ac0e0dd6",
   "metadata": {
    "scrolled": false
   },
   "outputs": [
    {
     "name": "stderr",
     "output_type": "stream",
     "text": [
      "  0%|                                                     | 0/5 [00:00<?, ?it/s]/home/andres/.local/lib/python3.8/site-packages/gluonnlp/data/batchify/batchify.py:268: UserWarning: Using Pad with NDArrays is discouraged for speed reasons. Instead you should pad your data while it is still a list and before converting to an NDArray. Alternatively you can consider inputting a numpy.ndarray.\n",
      "  warnings.warn(\n",
      "[10:55:19] ../src/operator/nn/./cudnn/./cudnn_algoreg-inl.h:97: Running performance tests to find the best convolution algorithm, this can take a while... (set the environment variable MXNET_CUDNN_AUTOTUNE_DEFAULT to 0 to disable)\n",
      "[10:55:20] ../src/operator/nn/./cudnn/./cudnn_algoreg-inl.h:97: Running performance tests to find the best convolution algorithm, this can take a while... (set the environment variable MXNET_CUDNN_AUTOTUNE_DEFAULT to 0 to disable)\n",
      "[10:55:21] ../src/operator/nn/./cudnn/./cudnn_algoreg-inl.h:97: Running performance tests to find the best convolution algorithm, this can take a while... (set the environment variable MXNET_CUDNN_AUTOTUNE_DEFAULT to 0 to disable)\n",
      "[10:55:21] ../src/operator/nn/./cudnn/./cudnn_algoreg-inl.h:97: Running performance tests to find the best convolution algorithm, this can take a while... (set the environment variable MXNET_CUDNN_AUTOTUNE_DEFAULT to 0 to disable)\n",
      "[10:55:22] ../src/operator/nn/./cudnn/./cudnn_algoreg-inl.h:97: Running performance tests to find the best convolution algorithm, this can take a while... (set the environment variable MXNET_CUDNN_AUTOTUNE_DEFAULT to 0 to disable)\n",
      "[10:55:23] ../src/operator/nn/./cudnn/./cudnn_algoreg-inl.h:97: Running performance tests to find the best convolution algorithm, this can take a while... (set the environment variable MXNET_CUDNN_AUTOTUNE_DEFAULT to 0 to disable)\n",
      "[10:55:24] ../src/operator/nn/./cudnn/./cudnn_algoreg-inl.h:97: Running performance tests to find the best convolution algorithm, this can take a while... (set the environment variable MXNET_CUDNN_AUTOTUNE_DEFAULT to 0 to disable)\n",
      "[10:55:24] ../src/operator/nn/./cudnn/./cudnn_algoreg-inl.h:97: Running performance tests to find the best convolution algorithm, this can take a while... (set the environment variable MXNET_CUDNN_AUTOTUNE_DEFAULT to 0 to disable)\n",
      "[10:55:25] ../src/operator/nn/./cudnn/./cudnn_algoreg-inl.h:97: Running performance tests to find the best convolution algorithm, this can take a while... (set the environment variable MXNET_CUDNN_AUTOTUNE_DEFAULT to 0 to disable)\n",
      "[10:55:26] ../src/operator/nn/./cudnn/./cudnn_algoreg-inl.h:97: Running performance tests to find the best convolution algorithm, this can take a while... (set the environment variable MXNET_CUDNN_AUTOTUNE_DEFAULT to 0 to disable)\n",
      "[10:55:27] ../src/operator/nn/./cudnn/./cudnn_algoreg-inl.h:97: Running performance tests to find the best convolution algorithm, this can take a while... (set the environment variable MXNET_CUDNN_AUTOTUNE_DEFAULT to 0 to disable)\n",
      "[10:55:29] ../src/operator/nn/./cudnn/./cudnn_algoreg-inl.h:97: Running performance tests to find the best convolution algorithm, this can take a while... (set the environment variable MXNET_CUDNN_AUTOTUNE_DEFAULT to 0 to disable)\n",
      "[10:55:29] ../src/operator/nn/./cudnn/./cudnn_algoreg-inl.h:97: Running performance tests to find the best convolution algorithm, this can take a while... (set the environment variable MXNET_CUDNN_AUTOTUNE_DEFAULT to 0 to disable)\n",
      "[10:55:30] ../src/operator/nn/./cudnn/./cudnn_algoreg-inl.h:97: Running performance tests to find the best convolution algorithm, this can take a while... (set the environment variable MXNET_CUDNN_AUTOTUNE_DEFAULT to 0 to disable)\n",
      "[10:55:31] ../src/operator/nn/./cudnn/./cudnn_algoreg-inl.h:97: Running performance tests to find the best convolution algorithm, this can take a while... (set the environment variable MXNET_CUDNN_AUTOTUNE_DEFAULT to 0 to disable)\n",
      "[10:55:33] ../src/operator/nn/./cudnn/./cudnn_algoreg-inl.h:97: Running performance tests to find the best convolution algorithm, this can take a while... (set the environment variable MXNET_CUDNN_AUTOTUNE_DEFAULT to 0 to disable)\n",
      "[10:55:34] ../src/operator/nn/./cudnn/./cudnn_algoreg-inl.h:97: Running performance tests to find the best convolution algorithm, this can take a while... (set the environment variable MXNET_CUDNN_AUTOTUNE_DEFAULT to 0 to disable)\n",
      "[10:55:35] ../src/operator/nn/./cudnn/./cudnn_algoreg-inl.h:97: Running performance tests to find the best convolution algorithm, this can take a while... (set the environment variable MXNET_CUDNN_AUTOTUNE_DEFAULT to 0 to disable)\n",
      "[10:55:38] ../src/operator/nn/./cudnn/./cudnn_algoreg-inl.h:97: Running performance tests to find the best convolution algorithm, this can take a while... (set the environment variable MXNET_CUDNN_AUTOTUNE_DEFAULT to 0 to disable)\n",
      "[10:55:39] ../src/operator/nn/./cudnn/./cudnn_algoreg-inl.h:97: Running performance tests to find the best convolution algorithm, this can take a while... (set the environment variable MXNET_CUDNN_AUTOTUNE_DEFAULT to 0 to disable)\n",
      "[10:55:39] ../src/operator/nn/./cudnn/./cudnn_algoreg-inl.h:104: If you see this message in the middle of training, you are probably using bucketing. Consider setting env variable MXNET_CUDNN_AUTOTUNE_DEFAULT to 0 to disable cudnn tuning.\n",
      "[10:55:40] ../src/operator/nn/./cudnn/./cudnn_algoreg-inl.h:97: Running performance tests to find the best convolution algorithm, this can take a while... (set the environment variable MXNET_CUDNN_AUTOTUNE_DEFAULT to 0 to disable)\n",
      "[10:55:42] ../src/operator/nn/./cudnn/./cudnn_algoreg-inl.h:97: Running performance tests to find the best convolution algorithm, this can take a while... (set the environment variable MXNET_CUDNN_AUTOTUNE_DEFAULT to 0 to disable)\n",
      "[10:55:43] ../src/operator/nn/./cudnn/./cudnn_algoreg-inl.h:97: Running performance tests to find the best convolution algorithm, this can take a while... (set the environment variable MXNET_CUDNN_AUTOTUNE_DEFAULT to 0 to disable)\n",
      "[10:55:45] ../src/operator/nn/./cudnn/./cudnn_algoreg-inl.h:97: Running performance tests to find the best convolution algorithm, this can take a while... (set the environment variable MXNET_CUDNN_AUTOTUNE_DEFAULT to 0 to disable)\n",
      "[10:55:46] ../src/operator/nn/./cudnn/./cudnn_algoreg-inl.h:97: Running performance tests to find the best convolution algorithm, this can take a while... (set the environment variable MXNET_CUDNN_AUTOTUNE_DEFAULT to 0 to disable)\n",
      "[10:55:48] ../src/operator/nn/./cudnn/./cudnn_algoreg-inl.h:97: Running performance tests to find the best convolution algorithm, this can take a while... (set the environment variable MXNET_CUDNN_AUTOTUNE_DEFAULT to 0 to disable)\n",
      "[10:55:50] ../src/operator/nn/./cudnn/./cudnn_algoreg-inl.h:97: Running performance tests to find the best convolution algorithm, this can take a while... (set the environment variable MXNET_CUDNN_AUTOTUNE_DEFAULT to 0 to disable)\n",
      "[10:55:52] ../src/operator/nn/./cudnn/./cudnn_algoreg-inl.h:97: Running performance tests to find the best convolution algorithm, this can take a while... (set the environment variable MXNET_CUDNN_AUTOTUNE_DEFAULT to 0 to disable)\n",
      "[10:55:55] ../src/operator/nn/./cudnn/./cudnn_algoreg-inl.h:97: Running performance tests to find the best convolution algorithm, this can take a while... (set the environment variable MXNET_CUDNN_AUTOTUNE_DEFAULT to 0 to disable)\n",
      "[10:56:02] ../src/operator/nn/./cudnn/./cudnn_algoreg-inl.h:97: Running performance tests to find the best convolution algorithm, this can take a while... (set the environment variable MXNET_CUDNN_AUTOTUNE_DEFAULT to 0 to disable)\n",
      "[10:56:14] ../src/operator/nn/./cudnn/./cudnn_algoreg-inl.h:97: Running performance tests to find the best convolution algorithm, this can take a while... (set the environment variable MXNET_CUDNN_AUTOTUNE_DEFAULT to 0 to disable)\n",
      " 20%|█████████                                    | 1/5 [00:56<03:47, 56.82s/it]"
     ]
    },
    {
     "name": "stdout",
     "output_type": "stream",
     "text": [
      "E:    0, TrL: 0.445796, VL: 0.393460, VAcc: 0.814000 --- Updating saved model\n"
     ]
    },
    {
     "name": "stderr",
     "output_type": "stream",
     "text": [
      "\r",
      " 40%|██████████████████                           | 2/5 [01:42<02:30, 50.13s/it]"
     ]
    },
    {
     "name": "stdout",
     "output_type": "stream",
     "text": [
      "E:    1, TrL: 0.339468, VL: 0.343387, VAcc: 0.850400 --- Updating saved model\n"
     ]
    },
    {
     "name": "stderr",
     "output_type": "stream",
     "text": [
      "\r",
      " 60%|███████████████████████████                  | 3/5 [02:28<01:36, 48.43s/it]"
     ]
    },
    {
     "name": "stdout",
     "output_type": "stream",
     "text": [
      "E:    2, TrL: 0.269836, VL: 0.355075, VAcc: 0.850400\n"
     ]
    },
    {
     "name": "stderr",
     "output_type": "stream",
     "text": [
      "\r",
      " 80%|████████████████████████████████████         | 4/5 [03:13<00:47, 47.19s/it]"
     ]
    },
    {
     "name": "stdout",
     "output_type": "stream",
     "text": [
      "E:    3, TrL: 0.206903, VL: 0.329245, VAcc: 0.866200 --- Updating saved model\n"
     ]
    },
    {
     "name": "stderr",
     "output_type": "stream",
     "text": [
      "100%|█████████████████████████████████████████████| 5/5 [04:00<00:00, 48.00s/it]"
     ]
    },
    {
     "name": "stdout",
     "output_type": "stream",
     "text": [
      "E:    4, TrL: 0.153115, VL: 0.368850, VAcc: 0.860000\n"
     ]
    },
    {
     "name": "stderr",
     "output_type": "stream",
     "text": [
      "\n"
     ]
    }
   ],
   "source": [
    "epochs = 5\n",
    "batch_size = 4\n",
    "\n",
    "model_file_name = \"w2v_textcnn.params\"\n",
    "\n",
    "loss_fn = mx.gluon.loss.SigmoidBCELoss()\n",
    "trainer = mx.gluon.Trainer(text_cnn.collect_params(), \"adam\", {\"learning_rate\": 0.001})\n",
    "\n",
    "training_loss, validation_loss, validation_acc = text_cnn.train(\n",
    "    loss_fn,\n",
    "    trainer,\n",
    "    epochs,\n",
    "    batch_size,\n",
    "    train_set,\n",
    "    val_set,  \n",
    "    batchify_fn,\n",
    "    ctx,\n",
    "    model_file_name)"
   ]
  },
  {
   "cell_type": "code",
   "execution_count": 20,
   "id": "e34365bd",
   "metadata": {},
   "outputs": [
    {
     "name": "stdout",
     "output_type": "stream",
     "text": [
      "[[-1.0106202]] @gpu(0) The review is negative\n"
     ]
    }
   ],
   "source": [
    "review_sentiment = text_cnn(final_embeddings_test)\n",
    "# We can omit sigmoid processing, outputs of the network\n",
    "# with positive values are positive reviews\n",
    "if review_sentiment >= 0:\n",
    "    print(review_sentiment, \"The review is positive\")\n",
    "else:\n",
    "    print(review_sentiment, \"The review is negative\")"
   ]
  },
  {
   "cell_type": "code",
   "execution_count": 21,
   "id": "76982d4c",
   "metadata": {},
   "outputs": [
    {
     "data": {
      "image/png": "[encoded data removed]",
      "text/plain": [
       "<Figure size 432x288 with 1 Axes>"
      ]
     },
     "metadata": {},
     "output_type": "display_data"
    }
   ],
   "source": [
    "# plot losses and validation accuracy\n",
    "epochs = 5\n",
    "\n",
    "plt.style.use(\"ggplot\")\n",
    "plt.figure()\n",
    "plt.plot(np.arange(0, epochs), validation_loss[:epochs], label=\"Validation Loss\")\n",
    "plt.plot(np.arange(0, epochs), training_loss[:epochs], label=\"Training Loss\")\n",
    "plt.plot(np.arange(0, epochs), validation_acc[:epochs], label=\"Validation Accuracy\")\n",
    "plt.xlabel(\"Epoch\")\n",
    "plt.ylabel(\"Loss\")\n",
    "plt.legend(loc=\"upper right\")\n",
    "plt.title(\"Losses\")\n",
    "plt.show()"
   ]
  },
  {
   "cell_type": "code",
   "execution_count": null,
   "id": "02292133",
   "metadata": {},
   "outputs": [],
   "source": [
    "# Quantitative Evaluation on Test Set\n",
    "test_set = []\n",
    "\n",
    "# Limiting test set size to 5000 samples for memory constrains\n",
    "# It is encouraged to increase this value up to 25000 (actual size of test set)\n",
    "# if your memory permits\n",
    "for review, score in test_dataset[:5000]:\n",
    "    # Processing inputs & applying embeddings\n",
    "    processed_review = utils.process_words(utils.clean_text(review))\n",
    "    embeddings = w2v[processed_review].transpose()\n",
    "    \n",
    "    # A negative review has a score <= 4\n",
    "    # A positive review has a score >= 7 out of 10\n",
    "    sentiment = int(score > 5)\n",
    "    test_set.append((embeddings, sentiment))"
   ]
  },
  {
   "cell_type": "code",
   "execution_count": 24,
   "id": "6ae75405",
   "metadata": {},
   "outputs": [],
   "source": [
    "# Processing Test dataset for confussion matrix\n",
    "num_test_batches = len(test_set) / batch_size\n",
    "\n",
    "# Iterator on Test dataset\n",
    "test_data_iterator = mx.gluon.data.DataLoader(\n",
    "    test_set,\n",
    "    batch_size=batch_size,\n",
    "    shuffle=False,\n",
    "    batchify_fn=batchify_fn)"
   ]
  },
  {
   "cell_type": "code",
   "execution_count": 25,
   "id": "98b2fb6b",
   "metadata": {},
   "outputs": [
    {
     "name": "stderr",
     "output_type": "stream",
     "text": [
      " 83%|██████████████████████████████████       | 260/313 [00:03<00:00, 94.09it/s][17:32:11] ../src/operator/nn/./cudnn/./cudnn_algoreg-inl.h:97: Running performance tests to find the best convolution algorithm, this can take a while... (set the environment variable MXNET_CUDNN_AUTOTUNE_DEFAULT to 0 to disable)\n",
      "100%|█████████████████████████████████████████| 313/313 [00:05<00:00, 53.60it/s]"
     ]
    },
    {
     "name": "stdout",
     "output_type": "stream",
     "text": [
      "Final Test Accuracy: 1.0\n"
     ]
    },
    {
     "name": "stderr",
     "output_type": "stream",
     "text": [
      "\n"
     ]
    }
   ],
   "source": [
    "# Confussion Matrix Computation (Test set)\n",
    "class_outputs = mx.nd.empty(shape=(len(test_set),))\n",
    "labels = mx.nd.empty(shape=(len(test_set),))\n",
    "\n",
    "test_acc = mx.metric.Accuracy()\n",
    "cumulative_test_loss = 0\n",
    "\n",
    "for index, (data, label) in enumerate(tqdm(test_data_iterator)):\n",
    "    \n",
    "    # Add labels for Confussion Matrix\n",
    "    labels[index * batch_size:(index + 1) * batch_size] = label\n",
    "                \n",
    "    # Processing data from data iterator\n",
    "    data_np = data.as_np_ndarray().as_in_context(ctx)\n",
    "    label_np = label.as_np_ndarray().as_in_context(ctx)\n",
    "\n",
    "    output_np = text_cnn(data_np)\n",
    "    test_loss = loss_fn(output_np, label_np)\n",
    "    current_test_loss = mx.np.mean(test_loss)\n",
    "    cumulative_test_loss += current_test_loss / num_test_batches\n",
    "\n",
    "    # Accuracy\n",
    "    # Comparison between  labels and values output\n",
    "    # Applying threshold for binary classification\n",
    "    # No sigmoid necessary as outputs of the network\n",
    "    # with positive values are positive reviews\n",
    "    class_output = (output_np.as_nd_ndarray() >= 0).astype(\"uint8\").transpose()\n",
    "    class_outputs[index * batch_size:(index + 1) * batch_size] = class_output\n",
    "    test_acc.update(label.as_in_context(ctx), class_output[0])\n",
    "\n",
    "test_acc_value = test_acc.get()[1]\n",
    "print(\"Final Test Accuracy:\", test_acc_value)"
   ]
  },
  {
   "cell_type": "code",
   "execution_count": 26,
   "id": "fb17c0ed",
   "metadata": {},
   "outputs": [
    {
     "data": {
      "text/plain": [
       "<sklearn.metrics._plot.confusion_matrix.ConfusionMatrixDisplay at 0x7fac90118550>"
      ]
     },
     "execution_count": 26,
     "metadata": {},
     "output_type": "execute_result"
    },
    {
     "data": {
      "image/png": "[encoded data removed]",
      "text/plain": [
       "<Figure size 432x288 with 2 Axes>"
      ]
     },
     "metadata": {},
     "output_type": "display_data"
    }
   ],
   "source": [
    "# Plot the CM\n",
    "confusion_matrix = metrics.confusion_matrix(labels.asnumpy(), class_outputs.asnumpy())\n",
    "disp = metrics.ConfusionMatrixDisplay(confusion_matrix)\n",
    "disp.plot()"
   ]
  }
 ],
 "metadata": {
  "kernelspec": {
   "display_name": "Python 3 (ipykernel)",
   "language": "python",
   "name": "python3"
  },
  "language_info": {
   "codemirror_mode": {
    "name": "ipython",
    "version": 3
   },
   "file_extension": ".py",
   "mimetype": "text/x-python",
   "name": "python",
   "nbconvert_exporter": "python",
   "pygments_lexer": "ipython3",
   "version": "3.8.10"
  }
 },
 "nbformat": 4,
 "nbformat_minor": 5
}
