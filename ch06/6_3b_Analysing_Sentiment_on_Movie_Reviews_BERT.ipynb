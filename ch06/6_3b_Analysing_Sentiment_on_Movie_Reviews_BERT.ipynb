{
 "cells": [
  {
   "cell_type": "code",
   "execution_count": 52,
   "id": "fbbe216b",
   "metadata": {},
   "outputs": [],
   "source": [
    "import mxnet as mx\n",
    "import gluonnlp as nlp\n",
    "import matplotlib.pyplot as plt\n",
    "import sklearn\n",
    "from tqdm.notebook import tqdm\n",
    "\n",
    "# Local Libraries\n",
    "# Load Model locally\n",
    "import textcnn\n",
    "# Load helper functions\n",
    "import utils\n",
    "\n",
    "# Set Context (change to cpu if no gpu available)\n",
    "# ctx = mx.cpu()\n",
    "ctx = mx.gpu()"
   ]
  },
  {
   "cell_type": "code",
   "execution_count": 5,
   "id": "a1f77292",
   "metadata": {
    "scrolled": true
   },
   "outputs": [
    {
     "name": "stdout",
     "output_type": "stream",
     "text": [
      "Size of Train Set: 25000  (no valid split yet)\n",
      "Size of Test  Set: 25000\n"
     ]
    }
   ],
   "source": [
    "# Loading the dataset\n",
    "full_train_dataset, test_dataset = [nlp.data.IMDB(root='data/imdb', segment=segment)\n",
    "                               for segment in ('train', 'test')]\n",
    "\n",
    "# Dataset Sizes\n",
    "print(\"Size of Train Set:\", len(full_train_dataset), \" (no valid split yet)\")\n",
    "print(\"Size of Test  Set:\", len(test_dataset))"
   ]
  },
  {
   "cell_type": "code",
   "execution_count": 6,
   "id": "7c6921ee",
   "metadata": {},
   "outputs": [
    {
     "name": "stdout",
     "output_type": "stream",
     "text": [
      "I went and saw this movie last night after being coaxed to by a few friends of mine. I'll admit that I was reluctant to see it because from what I knew of Ashton Kutcher he was only able to do comedy. I was wrong. Kutcher played the character of Jake Fischer very well, and Kevin Costner played Ben Randall with such professionalism. The sign of a good movie is that it can toy with our emotions. This one did exactly that. The entire theater (which was sold out) was overcome by laughter during the first half of the movie, and were moved to tears during the second half. While exiting the theater I not only saw many women in tears, but many full grown men as well, trying desperately not to let anyone see them crying. This movie was great, and I suggest that you go see it before you judge.\n"
     ]
    }
   ],
   "source": [
    "print(test_dataset[0][0])"
   ]
  },
  {
   "cell_type": "code",
   "execution_count": 7,
   "id": "3f26e83e",
   "metadata": {},
   "outputs": [
    {
     "name": "stdout",
     "output_type": "stream",
     "text": [
      "Size of Train Set (Post-filter): 6250  (no valid split yet)\n",
      "Size of Test  Set (Post-filter): 1250\n"
     ]
    }
   ],
   "source": [
    "# Filtering for size\n",
    "# Starting data samples are positive reviews, and ending data samples are negative reviews\n",
    "# Retrieving a balanced sample of both sentiments\n",
    "full_train_dataset = full_train_dataset[:3125] + full_train_dataset[-3125:]\n",
    "print(\"Size of Train Set (Post-filter):\", len(full_train_dataset), \" (no valid split yet)\")\n",
    "print(\"Size of Test  Set (Post-filter):\", len(test_dataset))"
   ]
  },
  {
   "cell_type": "code",
   "execution_count": 8,
   "id": "7791838e",
   "metadata": {},
   "outputs": [],
   "source": [
    "# Training Dataset Split 40/10\n",
    "# Test Dataset already provided separately\n",
    "from sklearn.model_selection import train_test_split\n",
    "\n",
    "train_dataset, val_dataset = train_test_split(full_train_dataset, test_size=int(0.2*len(full_train_dataset)), random_state=42)"
   ]
  },
  {
   "cell_type": "code",
   "execution_count": 9,
   "id": "6a7b312d",
   "metadata": {},
   "outputs": [
    {
     "name": "stdout",
     "output_type": "stream",
     "text": [
      "Size of Train Set: 5000\n",
      "Size of Val   Set: 1250\n",
      "Size of Test  Set: 1250\n"
     ]
    }
   ],
   "source": [
    "# Final Dataset Sizes\n",
    "print(\"Size of Train Set:\", len(train_dataset))\n",
    "print(\"Size of Val   Set:\", len(val_dataset))\n",
    "print(\"Size of Test  Set:\", len(test_dataset))"
   ]
  },
  {
   "cell_type": "code",
   "execution_count": 2,
   "id": "3f17f9f1",
   "metadata": {},
   "outputs": [],
   "source": [
    "bert_model, vocab = nlp.model.get_model(\n",
    "    'bert_12_768_12',\n",
    "    dataset_name='book_corpus_wiki_en_uncased',\n",
    "    use_classifier=False,\n",
    "    use_decoder=False,\n",
    "    ctx=ctx)"
   ]
  },
  {
   "cell_type": "code",
   "execution_count": 3,
   "id": "4bac926f",
   "metadata": {},
   "outputs": [
    {
     "name": "stdout",
     "output_type": "stream",
     "text": [
      "Extension horovod.torch has not been built: /home/ubuntu/anaconda3/envs/mxnet_p37/lib/python3.7/site-packages/horovod/torch/mpi_lib/_mpi_lib.cpython-37m-x86_64-linux-gnu.so not found\n",
      "If this is not expected, reinstall Horovod with HOROVOD_WITH_PYTORCH=1 to debug the build error.\n",
      "Warning! MPI libs are missing, but python applications are still avaiable.\n",
      "[2022-08-02 12:27:23.848 ip-172-31-28-47:2663 INFO utils.py:27] RULE_JOB_STOP_SIGNAL_FILENAME: None\n",
      "[2022-08-02 12:27:23.876 ip-172-31-28-47:2663 INFO profiler_config_parser.py:111] Unable to find config at /opt/ml/input/config/profilerconfig.json. Profiler is disabled.\n"
     ]
    }
   ],
   "source": [
    "tokenizer = nlp.data.BERTTokenizer(vocab, lower=True)\n",
    "transform = nlp.data.BERTSentenceTransform(tokenizer, max_seq_length=512, pair=False, pad=False)\n",
    "sample = transform([\"man\"])\n",
    "words, valid_len, segments = mx.nd.array([sample[0]], ctx=ctx), mx.nd.array([sample[1]], ctx=ctx), mx.nd.array([sample[2]], ctx=ctx)\n",
    "seq_encoding, _ = bert_model(words, segments, valid_len)"
   ]
  },
  {
   "cell_type": "code",
   "execution_count": 4,
   "id": "6aa0bda3",
   "metadata": {},
   "outputs": [
    {
     "name": "stdout",
     "output_type": "stream",
     "text": [
      "768\n"
     ]
    }
   ],
   "source": [
    "embed_size = seq_encoding.shape[2]\n",
    "print(embed_size)"
   ]
  },
  {
   "cell_type": "code",
   "execution_count": 10,
   "id": "75b75eaf",
   "metadata": {},
   "outputs": [],
   "source": [
    "# Each input in a batch, needs to have the same length\n",
    "# We need to apply a batchify function to pad with zeros (if necessary)\n",
    "# On the output, we just stack them together to get a batch-size array\n",
    "batchify_fn = nlp.data.batchify.Tuple(nlp.data.batchify.Pad(axis=1, pad_val=0),\n",
    "                                      nlp.data.batchify.Stack())"
   ]
  },
  {
   "cell_type": "code",
   "execution_count": 11,
   "id": "10929866",
   "metadata": {},
   "outputs": [],
   "source": [
    "def process_dataset_sample(review, score=None):\n",
    "    # Processing inputs & applying embeddings\n",
    "    direct_embeddings_test = transform([review])\n",
    "    words = mx.nd.array([direct_embeddings_test[0]], ctx=ctx)\n",
    "    valid_len = mx.nd.array([direct_embeddings_test[1]], ctx=ctx)\n",
    "    segments = mx.nd.array([direct_embeddings_test[2]], ctx=ctx)\n",
    "    seq_output, _ = bert_model(words, segments, valid_len)\n",
    "    embeddings = seq_output.squeeze(0).transpose().asnumpy()\n",
    "\n",
    "    # A negative review has a score <= 4\n",
    "    # A positive review has a score >= 7 out of 10\n",
    "    sentiment = None\n",
    "    if score:\n",
    "        sentiment = mx.nd.array(score > 5, dtype='float32', ctx=mx.cpu()).asnumpy()\n",
    "    return embeddings, sentiment"
   ]
  },
  {
   "cell_type": "code",
   "execution_count": 12,
   "id": "022bffad",
   "metadata": {},
   "outputs": [
    {
     "data": {
      "application/vnd.jupyter.widget-view+json": {
       "model_id": "b3367a1a25404729be1d7b336c9a4b3e",
       "version_major": 2,
       "version_minor": 0
      },
      "text/plain": [
       "  0%|          | 0/5000 [00:00<?, ?it/s]"
      ]
     },
     "metadata": {},
     "output_type": "display_data"
    }
   ],
   "source": [
    "# Dataset processing\n",
    "train_set = []\n",
    "for review, score in tqdm(train_dataset):\n",
    "    embeddings, sentiment = process_dataset_sample(review, score)\n",
    "    train_set.append((embeddings, sentiment))"
   ]
  },
  {
   "cell_type": "code",
   "execution_count": 19,
   "id": "1931f375",
   "metadata": {},
   "outputs": [
    {
     "data": {
      "application/vnd.jupyter.widget-view+json": {
       "model_id": "8b6db73f07ae4c2aaf1eb3099704554a",
       "version_major": 2,
       "version_minor": 0
      },
      "text/plain": [
       "  0%|          | 0/1250 [00:00<?, ?it/s]"
      ]
     },
     "metadata": {},
     "output_type": "display_data"
    }
   ],
   "source": [
    "val_set = []\n",
    "for review, score in tqdm(val_dataset):\n",
    "    embeddings, sentiment = process_dataset_sample(review, score)\n",
    "    val_set.append((embeddings, sentiment))"
   ]
  },
  {
   "cell_type": "code",
   "execution_count": 34,
   "id": "0b1e5898",
   "metadata": {
    "scrolled": false
   },
   "outputs": [
    {
     "name": "stdout",
     "output_type": "stream",
     "text": [
      "(1, 768, 179)\n",
      "--------------------------------------------------------------------------------\n",
      "        Layer (type)                                Output Shape         Param #\n",
      "================================================================================\n",
      "               Input                               (1, 768, 179)               0\n",
      "        Activation-1                    <Symbol conv24_relu_fwd>               0\n",
      "        Activation-2                               (1, 768, 177)               0\n",
      "            Conv1D-3                               (1, 768, 177)         1770240\n",
      "   GlobalMaxPool1D-4                                 (1, 768, 1)               0\n",
      "        Activation-5                    <Symbol conv25_relu_fwd>               0\n",
      "        Activation-6                               (1, 768, 176)               0\n",
      "            Conv1D-7                               (1, 768, 176)         2360064\n",
      "   GlobalMaxPool1D-8                                 (1, 768, 1)               0\n",
      "        Activation-9                    <Symbol conv26_relu_fwd>               0\n",
      "       Activation-10                               (1, 768, 175)               0\n",
      "           Conv1D-11                               (1, 768, 175)         2949888\n",
      "  GlobalMaxPool1D-12                                 (1, 768, 1)               0\n",
      "          Dropout-13                                   (1, 2304)               0\n",
      "            Dense-14                                      (1, 1)            2305\n",
      "          TextCNN-15                                      (1, 1)               0\n",
      "================================================================================\n",
      "Parameters in forward computation graph, duplicate included\n",
      "   Total params: 7082497\n",
      "   Trainable params: 7082497\n",
      "   Non-trainable params: 0\n",
      "Shared params in forward computation graph: 0\n",
      "Unique parameters in model: 7082497\n",
      "--------------------------------------------------------------------------------\n"
     ]
    }
   ],
   "source": [
    "from importlib import reload\n",
    "reload(textcnn)\n",
    "\n",
    "# CNN with 3 parallel filters\n",
    "text_cnn = textcnn.TextCNN([3, 4, 5], [embed_size, embed_size, embed_size])\n",
    "text_cnn.initialize(mx.init.MSRAPrelu(), ctx)\n",
    "\n",
    "# Formatting single input as expected for the network\n",
    "seq_output, _ = process_dataset_sample(test_dataset[0][0])\n",
    "seq_output_reshaped = mx.nd.array(seq_output, ctx=ctx).expand_dims(axis=0)\n",
    "\n",
    "print(seq_output_reshaped.shape)\n",
    "\n",
    "text_cnn.summary(seq_output_reshaped)"
   ]
  },
  {
   "cell_type": "code",
   "execution_count": 35,
   "id": "0f7f2939",
   "metadata": {},
   "outputs": [
    {
     "name": "stdout",
     "output_type": "stream",
     "text": [
      "\n",
      "[[-1.7136904]]\n",
      "<NDArray 1x1 @gpu(0)> The review is negative\n"
     ]
    }
   ],
   "source": [
    "# Initial test with network randomly initialized\n",
    "# Example review is positive, negative review can be expected\n",
    "review_sentiment = text_cnn(seq_output_reshaped)\n",
    "# We can omit sigmoid processing, outputs of the network\n",
    "# with positive values are positive reviews\n",
    "if review_sentiment >= 0:\n",
    "    print(review_sentiment, \"The review is positive\")\n",
    "else:\n",
    "    print(review_sentiment, \"The review is negative\")"
   ]
  },
  {
   "cell_type": "code",
   "execution_count": 36,
   "id": "6b7d484b",
   "metadata": {
    "scrolled": false
   },
   "outputs": [
    {
     "data": {
      "application/vnd.jupyter.widget-view+json": {
       "model_id": "a73982430be14e5ca9ba38330bedfc5a",
       "version_major": 2,
       "version_minor": 0
      },
      "text/plain": [
       "  0%|          | 0/5 [00:00<?, ?it/s]"
      ]
     },
     "metadata": {},
     "output_type": "display_data"
    },
    {
     "data": {
      "application/vnd.jupyter.widget-view+json": {
       "model_id": "e9b76db6186f4041873f3bb3701f4eb3",
       "version_major": 2,
       "version_minor": 0
      },
      "text/plain": [
       "  0%|          | 0/1250 [00:00<?, ?it/s]"
      ]
     },
     "metadata": {},
     "output_type": "display_data"
    },
    {
     "data": {
      "application/vnd.jupyter.widget-view+json": {
       "model_id": "687128ffe72b4302b62e4aa6f4a2903d",
       "version_major": 2,
       "version_minor": 0
      },
      "text/plain": [
       "  0%|          | 0/312 [00:00<?, ?it/s]"
      ]
     },
     "metadata": {},
     "output_type": "display_data"
    },
    {
     "name": "stdout",
     "output_type": "stream",
     "text": [
      "E:    0, TrL: 2.174368, VL: 0.687861, VAcc: 0.880800 --- Updating saved model\n"
     ]
    },
    {
     "data": {
      "application/vnd.jupyter.widget-view+json": {
       "model_id": "09750d7458984e2995480aa7a67d246c",
       "version_major": 2,
       "version_minor": 0
      },
      "text/plain": [
       "  0%|          | 0/1250 [00:00<?, ?it/s]"
      ]
     },
     "metadata": {},
     "output_type": "display_data"
    },
    {
     "data": {
      "application/vnd.jupyter.widget-view+json": {
       "model_id": "cab08ce55afd4ddbb0828e353d26f007",
       "version_major": 2,
       "version_minor": 0
      },
      "text/plain": [
       "  0%|          | 0/312 [00:00<?, ?it/s]"
      ]
     },
     "metadata": {},
     "output_type": "display_data"
    },
    {
     "name": "stdout",
     "output_type": "stream",
     "text": [
      "E:    1, TrL: 0.811239, VL: 0.448174, VAcc: 0.892800 --- Updating saved model\n"
     ]
    },
    {
     "data": {
      "application/vnd.jupyter.widget-view+json": {
       "model_id": "f2ab20280cc940b895f50a5963808ecc",
       "version_major": 2,
       "version_minor": 0
      },
      "text/plain": [
       "  0%|          | 0/1250 [00:00<?, ?it/s]"
      ]
     },
     "metadata": {},
     "output_type": "display_data"
    },
    {
     "data": {
      "application/vnd.jupyter.widget-view+json": {
       "model_id": "152eeadeb9c94593b9e96e931949688a",
       "version_major": 2,
       "version_minor": 0
      },
      "text/plain": [
       "  0%|          | 0/312 [00:00<?, ?it/s]"
      ]
     },
     "metadata": {},
     "output_type": "display_data"
    },
    {
     "name": "stdout",
     "output_type": "stream",
     "text": [
      "E:    2, TrL: 0.425020, VL: 1.030787, VAcc: 0.828000\n"
     ]
    },
    {
     "data": {
      "application/vnd.jupyter.widget-view+json": {
       "model_id": "8160a62ac3e04808b92b359febeafec9",
       "version_major": 2,
       "version_minor": 0
      },
      "text/plain": [
       "  0%|          | 0/1250 [00:00<?, ?it/s]"
      ]
     },
     "metadata": {},
     "output_type": "display_data"
    },
    {
     "data": {
      "application/vnd.jupyter.widget-view+json": {
       "model_id": "85b606b8c7634b9f8e00ab2afc245c9c",
       "version_major": 2,
       "version_minor": 0
      },
      "text/plain": [
       "  0%|          | 0/312 [00:00<?, ?it/s]"
      ]
     },
     "metadata": {},
     "output_type": "display_data"
    },
    {
     "name": "stdout",
     "output_type": "stream",
     "text": [
      "E:    3, TrL: 0.524560, VL: 0.451672, VAcc: 0.908800 --- Updating saved model\n"
     ]
    },
    {
     "data": {
      "application/vnd.jupyter.widget-view+json": {
       "model_id": "dee86b65eee6420c88c4d38d4aa0d495",
       "version_major": 2,
       "version_minor": 0
      },
      "text/plain": [
       "  0%|          | 0/1250 [00:00<?, ?it/s]"
      ]
     },
     "metadata": {},
     "output_type": "display_data"
    },
    {
     "data": {
      "application/vnd.jupyter.widget-view+json": {
       "model_id": "b13c516bd74e44cea01b576329ff990f",
       "version_major": 2,
       "version_minor": 0
      },
      "text/plain": [
       "  0%|          | 0/312 [00:00<?, ?it/s]"
      ]
     },
     "metadata": {},
     "output_type": "display_data"
    },
    {
     "name": "stdout",
     "output_type": "stream",
     "text": [
      "E:    4, TrL: 0.454854, VL: 0.474386, VAcc: 0.912800 --- Updating saved model\n"
     ]
    }
   ],
   "source": [
    "epochs = 5\n",
    "batch_size = 4\n",
    "\n",
    "model_file_name = \"bert_textcnn.params\"\n",
    "\n",
    "loss_fn = mx.gluon.loss.SigmoidBCELoss()\n",
    "trainer = mx.gluon.Trainer(text_cnn.collect_params(), \"adam\", {\"learning_rate\": 0.001})\n",
    "\n",
    "training_loss, validation_loss, validation_acc = text_cnn.train(\n",
    "    loss_fn,\n",
    "    trainer,\n",
    "    epochs,\n",
    "    batch_size,\n",
    "    train_set,\n",
    "    val_set,  \n",
    "    batchify_fn,\n",
    "    ctx,\n",
    "    model_file_name)"
   ]
  },
  {
   "cell_type": "code",
   "execution_count": 38,
   "id": "c736dba6",
   "metadata": {},
   "outputs": [
    {
     "name": "stdout",
     "output_type": "stream",
     "text": [
      "\n",
      "[[15.462966]]\n",
      "<NDArray 1x1 @gpu(0)> The review is positive\n"
     ]
    }
   ],
   "source": [
    "# Retrieve best model from training\n",
    "text_cnn.load_parameters(model_file_name)\n",
    "\n",
    "review_sentiment = text_cnn(seq_output_reshaped)\n",
    "# We can omit sigmoid processing, outputs of the network\n",
    "# with positive values are positive reviews\n",
    "if review_sentiment >= 0:\n",
    "    print(review_sentiment, \"The review is positive\")\n",
    "else:\n",
    "    print(review_sentiment, \"The review is negative\")"
   ]
  },
  {
   "cell_type": "code",
   "execution_count": 44,
   "id": "92f9e06f",
   "metadata": {},
   "outputs": [
    {
     "data": {
      "image/png": "[encoded data removed]",
      "text/plain": [
       "<Figure size 432x288 with 1 Axes>"
      ]
     },
     "metadata": {},
     "output_type": "display_data"
    }
   ],
   "source": [
    "# plot losses and validation accuracy\n",
    "plt.style.use(\"ggplot\")\n",
    "plt.figure()\n",
    "plt.plot(range(0, epochs), validation_loss, label=\"Validation Loss\")\n",
    "plt.plot(range(0, epochs), training_loss, label=\"Training Loss\")\n",
    "plt.plot(range(0, epochs), validation_acc, label=\"Validation Accuracy\")\n",
    "plt.xlabel(\"Epoch\")\n",
    "plt.ylabel(\"Loss\")\n",
    "plt.legend(loc=\"upper right\")\n",
    "plt.title(\"Losses\")\n",
    "plt.show()"
   ]
  },
  {
   "cell_type": "code",
   "execution_count": 55,
   "id": "2fbc5d9d",
   "metadata": {},
   "outputs": [
    {
     "data": {
      "application/vnd.jupyter.widget-view+json": {
       "model_id": "1c3b4edc099448678838563727d90f8b",
       "version_major": 2,
       "version_minor": 0
      },
      "text/plain": [
       "  0%|          | 0/25000 [00:00<?, ?it/s]"
      ]
     },
     "metadata": {},
     "output_type": "display_data"
    }
   ],
   "source": [
    "# Quantitative Evaluation on Test Set\n",
    "test_set = []\n",
    "\n",
    "# Test set size can be limited in not enough memory\n",
    "# It is encouraged to increase this value to the full size of test set (25000 samples)\n",
    "for review, score in tqdm(test_dataset):\n",
    "    embeddings, sentiment = process_dataset_sample(review, score)\n",
    "    test_set.append((embeddings, sentiment))"
   ]
  },
  {
   "cell_type": "code",
   "execution_count": 56,
   "id": "e20f665f",
   "metadata": {},
   "outputs": [],
   "source": [
    "# Processing Test dataset for confussion matrix\n",
    "num_test_batches = int(len(test_set) / batch_size)\n",
    "\n",
    "# Iterator on Test dataset\n",
    "test_data_iterator = mx.gluon.data.DataLoader(\n",
    "    test_set,\n",
    "    batch_size=batch_size,\n",
    "    shuffle=False,\n",
    "    batchify_fn=batchify_fn)"
   ]
  },
  {
   "cell_type": "code",
   "execution_count": 57,
   "id": "2f60c55c",
   "metadata": {},
   "outputs": [
    {
     "data": {
      "application/vnd.jupyter.widget-view+json": {
       "model_id": "8e9c8cfafe354417adf8dc8901fc8933",
       "version_major": 2,
       "version_minor": 0
      },
      "text/plain": [
       "  0%|          | 0/6250 [00:00<?, ?it/s]"
      ]
     },
     "metadata": {},
     "output_type": "display_data"
    },
    {
     "name": "stdout",
     "output_type": "stream",
     "text": [
      "Final Test Accuracy: 0.90848\n"
     ]
    }
   ],
   "source": [
    "# Confussion Matrix Computation (Test set)\n",
    "class_outputs = mx.nd.empty(shape=(len(test_set),))\n",
    "labels = mx.nd.empty(shape=(len(test_set),))\n",
    "\n",
    "test_acc = mx.metric.Accuracy()\n",
    "cumulative_test_loss = 0\n",
    "\n",
    "for index, (data, label) in enumerate(tqdm(test_data_iterator, total=num_test_batches)):\n",
    "    \n",
    "    # Add labels for Confussion Matrix\n",
    "    labels[index * batch_size:(index + 1) * batch_size] = label\n",
    "                \n",
    "    # Processing data from data iterator\n",
    "    data = data.as_in_context(ctx)\n",
    "    label = label.as_in_context(ctx)\n",
    "\n",
    "    output = text_cnn(data)\n",
    "    test_loss = loss_fn(output, label)\n",
    "    current_test_loss = mx.nd.mean(test_loss).asscalar()\n",
    "    cumulative_test_loss += current_test_loss / num_test_batches\n",
    "\n",
    "    # Accuracy\n",
    "    # Comparison between  labels and values output\n",
    "    # Applying threshold for binary classification\n",
    "    # No sigmoid necessary as outputs of the network\n",
    "    # with positive values are positive reviews\n",
    "    class_output = (output >= 0).astype(\"uint8\").transpose()\n",
    "    class_outputs[index * batch_size:(index + 1) * batch_size] = class_output\n",
    "    test_acc.update(label, class_output[0])\n",
    "\n",
    "test_acc_value = test_acc.get()[1]\n",
    "print(\"Final Test Accuracy:\", test_acc_value)"
   ]
  },
  {
   "cell_type": "code",
   "execution_count": 58,
   "id": "5e263263",
   "metadata": {},
   "outputs": [
    {
     "data": {
      "text/plain": [
       "<sklearn.metrics._plot.confusion_matrix.ConfusionMatrixDisplay at 0x7fd1300ac050>"
      ]
     },
     "execution_count": 58,
     "metadata": {},
     "output_type": "execute_result"
    },
    {
     "data": {
      "image/png": "[encoded data removed]",
      "text/plain": [
       "<Figure size 432x288 with 2 Axes>"
      ]
     },
     "metadata": {},
     "output_type": "display_data"
    }
   ],
   "source": [
    "# Plot the CM\n",
    "confusion_matrix = sklearn.metrics.confusion_matrix(labels.asnumpy(), class_outputs.asnumpy())\n",
    "disp = sklearn.metrics.ConfusionMatrixDisplay(confusion_matrix)\n",
    "disp.plot()"
   ]
  }
 ],
 "metadata": {
  "kernelspec": {
   "display_name": "Python 3",
   "language": "python",
   "name": "python3"
  },
  "language_info": {
   "codemirror_mode": {
    "name": "ipython",
    "version": 3
   },
   "file_extension": ".py",
   "mimetype": "text/x-python",
   "name": "python",
   "nbconvert_exporter": "python",
   "pygments_lexer": "ipython3",
   "version": "3.7.10"
  }
 },
 "nbformat": 4,
 "nbformat_minor": 5
}
