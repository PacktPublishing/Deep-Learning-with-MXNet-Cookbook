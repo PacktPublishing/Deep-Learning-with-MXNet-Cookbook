{
 "cells": [
  {
   "cell_type": "code",
   "execution_count": 1,
   "id": "fbbe216b",
   "metadata": {},
   "outputs": [
    {
     "name": "stderr",
     "output_type": "stream",
     "text": [
      "[nltk_data] Downloading package punkt to /home/andreto/nltk_data...\n",
      "[nltk_data]   Package punkt is already up-to-date!\n",
      "[nltk_data] Downloading package stopwords to\n",
      "[nltk_data]     /home/andreto/nltk_data...\n",
      "[nltk_data]   Package stopwords is already up-to-date!\n",
      "[nltk_data] Downloading package wordnet to /home/andreto/nltk_data...\n",
      "[nltk_data]   Package wordnet is already up-to-date!\n"
     ]
    }
   ],
   "source": [
    "import mxnet as mx\n",
    "import gluonnlp as nlp\n",
    "\n",
    "import matplotlib.pyplot as plt\n",
    "import numpy as np\n",
    "import os\n",
    "import random\n",
    "import sacremoses\n",
    "import time\n",
    "from tqdm.notebook import tqdm\n",
    "\n",
    "# Local Libraries\n",
    "import nmt\n",
    "import dataprocessor\n",
    "import utils\n",
    "import nmt.transformer_hparams\n",
    "\n",
    "# Seeds for reproducibility\n",
    "np.random.seed(100)\n",
    "random.seed(100)\n",
    "mx.random.seed(10000)\n",
    "\n",
    "# CPU setup\n",
    "# ctx = mx.cpu()\n",
    "# Single GPU setup\n",
    "ctx = mx.gpu(0)"
   ]
  },
  {
   "cell_type": "code",
   "execution_count": 2,
   "id": "4bac926f",
   "metadata": {},
   "outputs": [
    {
     "name": "stderr",
     "output_type": "stream",
     "text": [
      "/home/andreto/.local/lib/python3.7/site-packages/gluonnlp/vocab/vocab.py:591: UserWarning: Detected a corrupted index in the deserialize vocabulary. For versions before GluonNLP v0.7 the index is corrupted by specifying the same token for different special purposes, for example eos_token == padding_token. Deserializing the vocabulary nevertheless.\n",
      "  'Detected a corrupted index in the deserialize vocabulary. '\n"
     ]
    }
   ],
   "source": [
    "# IWSLT2015 Dataset (Train, Validation and Test)\n",
    "\n",
    "# Dataset Parameters\n",
    "src_lang, tgt_lang = \"vi\", \"en\"\n",
    "src_max_len, tgt_max_len = 50, 50\n",
    "\n",
    "iwslt_train_text = nlp.data.IWSLT2015(\"train\",\n",
    "                                      src_lang=src_lang,\n",
    "                                      tgt_lang=tgt_lang)\n",
    "\n",
    "iwslt_val_text   = nlp.data.IWSLT2015(\"val\",\n",
    "                                      src_lang=src_lang,\n",
    "                                      tgt_lang=tgt_lang)\n",
    "\n",
    "iwslt_test_text  = nlp.data.IWSLT2015(\"test\",\n",
    "                                      src_lang=src_lang,\n",
    "                                      tgt_lang=tgt_lang)\n",
    "\n",
    "\n",
    "iwslt_src_vocab = iwslt_train_text.src_vocab\n",
    "iwslt_tgt_vocab = iwslt_train_text.tgt_vocab"
   ]
  },
  {
   "cell_type": "code",
   "execution_count": 3,
   "id": "3a3383d7",
   "metadata": {},
   "outputs": [
    {
     "name": "stdout",
     "output_type": "stream",
     "text": [
      "Length of train set: 133166\n",
      "Length of val set  : 1553\n",
      "Length of test set : 1268\n"
     ]
    }
   ],
   "source": [
    "print(\"Length of train set:\", len(iwslt_train_text))\n",
    "print(\"Length of val set  :\", len(iwslt_val_text))\n",
    "print(\"Length of test set :\", len(iwslt_test_text))"
   ]
  },
  {
   "cell_type": "code",
   "execution_count": 4,
   "id": "075d11ab",
   "metadata": {},
   "outputs": [],
   "source": [
    "# Dataset processing: clipping, tokenizing, indexing and adding of EOS (src/tgt) / BOS (tgt)\n",
    "iwslt_train_processed = iwslt_train_text.transform(\n",
    "    dataprocessor.TrainValDataTransform(\n",
    "        iwslt_src_vocab,\n",
    "        iwslt_tgt_vocab,\n",
    "        src_max_len,\n",
    "        tgt_max_len),\n",
    "    lazy=False)\n",
    "\n",
    "iwslt_val_processed   = iwslt_val_text.transform(\n",
    "    dataprocessor.TrainValDataTransform(\n",
    "        iwslt_src_vocab,\n",
    "        iwslt_tgt_vocab,\n",
    "        src_max_len,\n",
    "        tgt_max_len),\n",
    "    lazy=False)\n",
    "\n",
    "iwslt_test_processed  = iwslt_test_text.transform(\n",
    "    dataprocessor.TrainValDataTransform(\n",
    "        iwslt_src_vocab,\n",
    "        iwslt_tgt_vocab,\n",
    "        src_max_len,\n",
    "        tgt_max_len),\n",
    "    lazy=False)"
   ]
  },
  {
   "cell_type": "code",
   "execution_count": 5,
   "id": "c3884e42",
   "metadata": {},
   "outputs": [],
   "source": [
    "# Target Sequences (Val, Test)\n",
    "fetch_tgt_sentence = lambda src, tgt: tgt.split()\n",
    "val_tgt_sentences = list(iwslt_val_text.transform(fetch_tgt_sentence))\n",
    "test_tgt_sentences = list(iwslt_test_text.transform(fetch_tgt_sentence))"
   ]
  },
  {
   "cell_type": "code",
   "execution_count": 6,
   "id": "c26bf695",
   "metadata": {},
   "outputs": [],
   "source": [
    "# Create Gluon Datasets\n",
    "# Not needed for training, as training data will be sharded later\n",
    "iwslt_train_transformed = iwslt_train_processed.transform(\n",
    "    lambda src, tgt: (src, tgt, len(src), len(tgt)),\n",
    "    lazy=False)\n",
    "\n",
    "iwslt_val_dataset = mx.gluon.data.SimpleDataset(\n",
    "    [(ele[0], ele[1], len(ele[0]), len(ele[1]),i) for i, ele in enumerate(iwslt_val_processed)])\n",
    "\n",
    "iwslt_test_dataset = mx.gluon.data.SimpleDataset(\n",
    "    [(ele[0], ele[1], len(ele[0]), len(ele[1]), i) for i, ele in enumerate(iwslt_test_processed)])"
   ]
  },
  {
   "cell_type": "code",
   "execution_count": 7,
   "id": "0278d19a",
   "metadata": {},
   "outputs": [],
   "source": [
    "# Hyperparameters for Dataloaders and Training\n",
    "hparams = nmt.transformer_hparams"
   ]
  },
  {
   "cell_type": "code",
   "execution_count": 8,
   "id": "5703956b",
   "metadata": {},
   "outputs": [],
   "source": [
    "hparams.num_hidden = 512\n",
    "hparams.num_layers = 4\n",
    "hparams.dropout = 0.2\n",
    "hparams.num_buckets = 5\n",
    "hparams.lr = 0.0001\n",
    "#hparams.lr = 0.0001\n",
    "#hparams.lr = 0.0003 achieves 21.44 test_bleu: qualitative evaluation didn't work\n",
    "#hparams.lr = 0.0001 achieves 19.66 test_bleu: qualitative evaluation worked\n",
    "hparams.clip = 5\n",
    "hparams.epochs = 12\n",
    "hparams.beam_size = 10\n",
    "hparams.lp_alpha = 1.0\n",
    "hparams.lp_k = 5\n",
    "\n",
    "hparams.max_length = 150"
   ]
  },
  {
   "cell_type": "code",
   "execution_count": 9,
   "id": "32d3a2d7",
   "metadata": {
    "scrolled": false
   },
   "outputs": [
    {
     "name": "stderr",
     "output_type": "stream",
     "text": [
      "/home/andreto/.local/lib/python3.7/site-packages/gluonnlp/data/batchify/batchify.py:235: UserWarning: Padding value is not given and will be set automatically to 0 in data.batchify.Pad(). Please check whether this is intended (e.g. value of padding index in the vocabulary).\n",
      "  'Padding value is not given and will be set automatically to 0 '\n"
     ]
    }
   ],
   "source": [
    "# Create Gluon Samplers and DataLoaders\n",
    "\n",
    "# Helper function for lengths\n",
    "def get_data_lengths(dataset):\n",
    "    get_lengths = lambda *args: (args[2], args[3])\n",
    "    return list(dataset.transform(get_lengths))\n",
    "\n",
    "# Bucket scheme\n",
    "bucket_scheme = nlp.data.ExpWidthBucket(bucket_len_step=1.2)\n",
    "\n",
    "iwslt_train_lengths = get_data_lengths(iwslt_train_transformed)\n",
    "iwslt_val_lengths = get_data_lengths(iwslt_val_dataset)\n",
    "iwslt_test_lengths = get_data_lengths(iwslt_test_dataset)\n",
    "\n",
    "train_batchify_fn = nlp.data.batchify.Tuple(\n",
    "    nlp.data.batchify.Pad(),\n",
    "    nlp.data.batchify.Pad(),\n",
    "    nlp.data.batchify.Stack(dtype='float32'),\n",
    "    nlp.data.batchify.Stack(dtype='float32'))\n",
    "\n",
    "test_batchify_fn = nlp.data.batchify.Tuple(\n",
    "    nlp.data.batchify.Pad(),\n",
    "    nlp.data.batchify.Pad(),\n",
    "    nlp.data.batchify.Stack(dtype='float32'),\n",
    "    nlp.data.batchify.Stack(dtype='float32'),\n",
    "    nlp.data.batchify.Stack())\n",
    "\n",
    "target_val_lengths = list(map(lambda x: x[-1], iwslt_val_lengths))\n",
    "target_test_lengths = list(map(lambda x: x[-1], iwslt_test_lengths))\n",
    "\n",
    "train_batch_sampler = nlp.data.FixedBucketSampler(\n",
    "    lengths=iwslt_train_lengths,\n",
    "    batch_size=hparams.batch_size,\n",
    "    num_buckets=hparams.num_buckets,\n",
    "    ratio=0,\n",
    "    shuffle=True,\n",
    "    use_average_length=False,\n",
    "    num_shards=0,\n",
    "    bucket_scheme=bucket_scheme)\n",
    "    \n",
    "train_data_loader = nlp.data.ShardedDataLoader(\n",
    "    iwslt_train_transformed,\n",
    "    batch_sampler=train_batch_sampler,\n",
    "    batchify_fn=train_batchify_fn,\n",
    "    num_workers=8)\n",
    "\n",
    "val_batch_sampler = nlp.data.FixedBucketSampler(\n",
    "    lengths=iwslt_val_lengths,\n",
    "    batch_size=hparams.test_batch_size,\n",
    "    num_buckets=hparams.num_buckets,\n",
    "    ratio=0,\n",
    "    shuffle=False,\n",
    "    use_average_length=False,\n",
    "    bucket_scheme=bucket_scheme)\n",
    "\n",
    "val_data_loader = mx.gluon.data.DataLoader(\n",
    "    iwslt_val_dataset,\n",
    "    batch_sampler=val_batch_sampler,\n",
    "    batchify_fn=test_batchify_fn,\n",
    "    num_workers=8)\n",
    "\n",
    "test_batch_sampler = nlp.data.FixedBucketSampler(\n",
    "    lengths=iwslt_test_lengths,\n",
    "    batch_size=hparams.test_batch_size,\n",
    "    num_buckets=hparams.num_buckets,\n",
    "    ratio=0,\n",
    "    shuffle=False,\n",
    "    use_average_length=False,\n",
    "    bucket_scheme=bucket_scheme)\n",
    "\n",
    "test_data_loader = mx.gluon.data.DataLoader(\n",
    "    iwslt_test_dataset,\n",
    "    batch_sampler=test_batch_sampler,\n",
    "    batchify_fn=test_batchify_fn,\n",
    "    num_workers=8)"
   ]
  },
  {
   "cell_type": "code",
   "execution_count": 10,
   "id": "6433aa65",
   "metadata": {},
   "outputs": [],
   "source": [
    "# Transformer Model\n",
    "transformer_encoder, transformer_decoder, transformer_one_step_ahead_decoder = nlp.model.transformer.get_transformer_encoder_decoder(\n",
    "    hidden_size=hparams.num_hidden,\n",
    "    dropout=hparams.dropout,\n",
    "    num_layers=hparams.num_layers)\n",
    "\n",
    "transformer_model = nlp.model.translation.NMTModel(\n",
    "    src_vocab=iwslt_src_vocab,\n",
    "    tgt_vocab=iwslt_tgt_vocab,\n",
    "    encoder=transformer_encoder,\n",
    "    decoder=transformer_decoder,\n",
    "    one_step_ahead_decoder=transformer_one_step_ahead_decoder,\n",
    "    #embed_size=hparams.num_hidden,\n",
    "    embed_size=hparams.num_units,\n",
    "    prefix='transformer_')\n",
    "\n",
    "transformer_model.initialize(init=mx.init.Xavier(magnitude=1.0), ctx=ctx)\n",
    "static_alloc = True\n",
    "transformer_model.hybridize(static_alloc=static_alloc)"
   ]
  },
  {
   "cell_type": "code",
   "execution_count": 11,
   "id": "7d3ae74f",
   "metadata": {},
   "outputs": [],
   "source": [
    "# Translator (using model defined above)\n",
    "transformer_translator = nmt.translation.BeamSearchTranslator(\n",
    "    model=transformer_model,\n",
    "    beam_size=hparams.beam_size,\n",
    "    scorer=nlp.model.BeamSearchScorer(\n",
    "        alpha=hparams.lp_alpha,\n",
    "        K=hparams.lp_k),\n",
    "    # max_length=150)\n",
    "    max_length=50)"
   ]
  },
  {
   "cell_type": "code",
   "execution_count": 12,
   "id": "076325eb",
   "metadata": {},
   "outputs": [],
   "source": [
    "# Loss function\n",
    "loss_function = nlp.loss.MaskedSoftmaxCELoss()\n",
    "loss_function.hybridize(static_alloc=static_alloc)"
   ]
  },
  {
   "cell_type": "code",
   "execution_count": 13,
   "id": "0707abf5",
   "metadata": {
    "scrolled": false
   },
   "outputs": [
    {
     "data": {
      "application/vnd.jupyter.widget-view+json": {
       "model_id": "1e29045e53b94d059ed613f015a8dc4d",
       "version_major": 2,
       "version_minor": 0
      },
      "text/plain": [
       "  0%|          | 0/12 [00:00<?, ?it/s]"
      ]
     },
     "metadata": {},
     "output_type": "display_data"
    },
    {
     "data": {
      "application/vnd.jupyter.widget-view+json": {
       "model_id": "4340e9ea9a5a437aa08ff4b026ef4619",
       "version_major": 2,
       "version_minor": 0
      },
      "text/plain": [
       "  0%|          | 0/1043 [00:00<?, ?it/s]"
      ]
     },
     "metadata": {},
     "output_type": "display_data"
    },
    {
     "name": "stdout",
     "output_type": "stream",
     "text": [
      "Extension horovod.torch has not been built: /home/ubuntu/anaconda3/envs/mxnet_p37/lib/python3.7/site-packages/horovod/torch/mpi_lib/_mpi_lib.cpython-37m-x86_64-linux-gnu.so not found\n",
      "If this is not expected, reinstall Horovod with HOROVOD_WITH_PYTORCH=1 to debug the build error.\n",
      "Warning! MPI libs are missing, but python applications are still avaiable.\n",
      "[2022-08-11 13:45:23.014 ip-172-31-28-47:21453 INFO utils.py:27] RULE_JOB_STOP_SIGNAL_FILENAME: None\n",
      "[2022-08-11 13:45:23.045 ip-172-31-28-47:21453 INFO profiler_config_parser.py:111] Unable to find config at /opt/ml/input/config/profilerconfig.json. Profiler is disabled.\n",
      "[Epoch 0 Batch 100/1043] loss=7.3422, ppl=1544.1729, gnorm=2.4490, throughput=47.51K wps, wc=606.57K\n",
      "[Epoch 0 Batch 200/1043] loss=5.9848, ppl=397.3314, gnorm=1.2052, throughput=52.76K wps, wc=584.18K\n",
      "[Epoch 0 Batch 300/1043] loss=5.5646, ppl=261.0230, gnorm=0.9641, throughput=53.71K wps, wc=592.78K\n",
      "[Epoch 0 Batch 400/1043] loss=5.1846, ppl=178.4973, gnorm=0.8762, throughput=52.68K wps, wc=571.26K\n",
      "[Epoch 0 Batch 500/1043] loss=4.9780, ppl=145.1802, gnorm=0.8709, throughput=51.50K wps, wc=554.48K\n",
      "[Epoch 0 Batch 600/1043] loss=4.8076, ppl=122.4379, gnorm=0.8055, throughput=52.10K wps, wc=546.26K\n",
      "[Epoch 0 Batch 700/1043] loss=4.6885, ppl=108.6911, gnorm=0.8149, throughput=52.38K wps, wc=566.96K\n",
      "[Epoch 0 Batch 800/1043] loss=4.5859, ppl=98.0878, gnorm=0.8750, throughput=51.90K wps, wc=551.40K\n",
      "[Epoch 0 Batch 900/1043] loss=4.5109, ppl=90.9994, gnorm=0.8688, throughput=53.16K wps, wc=577.61K\n",
      "[Epoch 0 Batch 1000/1043] loss=4.4289, ppl=83.8365, gnorm=0.8507, throughput=52.17K wps, wc=588.16K\n"
     ]
    },
    {
     "data": {
      "application/vnd.jupyter.widget-view+json": {
       "model_id": "8e3bc4d7a3904b25bd39f93062528260",
       "version_major": 2,
       "version_minor": 0
      },
      "text/plain": [
       "  0%|          | 0/27 [00:00<?, ?it/s]"
      ]
     },
     "metadata": {},
     "output_type": "display_data"
    },
    {
     "name": "stdout",
     "output_type": "stream",
     "text": [
      "[Epoch 0] valid Loss=4.0714, valid ppl=58.6375, valid bleu=5.67\n",
      "Save best parameters to transformer_vi_en_512.params\n",
      "Qualitative Evaluation: Translating from Vietnamese to English\n",
      "Expected translation:\n",
      "I like to read books.\n",
      "In Vietnamese (from Google Translate):\n",
      "Tôi thích đọc sách kỹ thuật.\n",
      "The English translation is:\n",
      "I &apos;m going to tell me the <unk> <unk> <unk> <unk> <unk> .\n"
     ]
    },
    {
     "data": {
      "application/vnd.jupyter.widget-view+json": {
       "model_id": "fc0175cc3a8c43999417fc33bebe49e0",
       "version_major": 2,
       "version_minor": 0
      },
      "text/plain": [
       "  0%|          | 0/1043 [00:00<?, ?it/s]"
      ]
     },
     "metadata": {},
     "output_type": "display_data"
    },
    {
     "name": "stdout",
     "output_type": "stream",
     "text": [
      "[Epoch 1 Batch 100/1043] loss=4.3386, ppl=76.5968, gnorm=0.9405, throughput=53.32K wps, wc=593.66K\n",
      "[Epoch 1 Batch 200/1043] loss=4.2948, ppl=73.3191, gnorm=0.9164, throughput=55.03K wps, wc=631.62K\n",
      "[Epoch 1 Batch 300/1043] loss=4.1876, ppl=65.8675, gnorm=0.9290, throughput=53.58K wps, wc=599.65K\n",
      "[Epoch 1 Batch 400/1043] loss=4.1038, ppl=60.5710, gnorm=0.9553, throughput=52.65K wps, wc=585.70K\n",
      "[Epoch 1 Batch 500/1043] loss=4.0195, ppl=55.6741, gnorm=1.0032, throughput=51.81K wps, wc=567.14K\n",
      "[Epoch 1 Batch 600/1043] loss=3.9245, ppl=50.6290, gnorm=1.0371, throughput=50.63K wps, wc=521.63K\n",
      "[Epoch 1 Batch 700/1043] loss=3.9880, ppl=53.9480, gnorm=0.9731, throughput=53.16K wps, wc=591.94K\n",
      "[Epoch 1 Batch 800/1043] loss=3.9020, ppl=49.5018, gnorm=1.0593, throughput=52.42K wps, wc=563.74K\n",
      "[Epoch 1 Batch 900/1043] loss=3.8273, ppl=45.9381, gnorm=0.9627, throughput=52.70K wps, wc=578.06K\n",
      "[Epoch 1 Batch 1000/1043] loss=3.7381, ppl=42.0178, gnorm=1.1194, throughput=49.80K wps, wc=523.53K\n"
     ]
    },
    {
     "data": {
      "application/vnd.jupyter.widget-view+json": {
       "model_id": "556c50aa68d24caebfe575e87c7c71ee",
       "version_major": 2,
       "version_minor": 0
      },
      "text/plain": [
       "  0%|          | 0/27 [00:00<?, ?it/s]"
      ]
     },
     "metadata": {},
     "output_type": "display_data"
    },
    {
     "name": "stdout",
     "output_type": "stream",
     "text": [
      "[Epoch 1] valid Loss=3.4772, valid ppl=32.3684, valid bleu=9.80\n",
      "Save best parameters to transformer_vi_en_512.params\n",
      "Qualitative Evaluation: Translating from Vietnamese to English\n",
      "Expected translation:\n",
      "I like to read books.\n",
      "In Vietnamese (from Google Translate):\n",
      "Tôi thích đọc sách kỹ thuật.\n",
      "The English translation is:\n",
      "I like to read the book , I love to read the book .\n"
     ]
    },
    {
     "data": {
      "application/vnd.jupyter.widget-view+json": {
       "model_id": "0002e897a7c54c7a8d854eab6b36f6e5",
       "version_major": 2,
       "version_minor": 0
      },
      "text/plain": [
       "  0%|          | 0/1043 [00:00<?, ?it/s]"
      ]
     },
     "metadata": {},
     "output_type": "display_data"
    },
    {
     "name": "stdout",
     "output_type": "stream",
     "text": [
      "[Epoch 2 Batch 100/1043] loss=3.6809, ppl=39.6815, gnorm=1.1131, throughput=49.58K wps, wc=542.87K\n",
      "[Epoch 2 Batch 200/1043] loss=3.6670, ppl=39.1362, gnorm=1.0419, throughput=51.92K wps, wc=575.69K\n",
      "[Epoch 2 Batch 300/1043] loss=3.6455, ppl=38.3034, gnorm=1.0512, throughput=52.63K wps, wc=568.29K\n",
      "[Epoch 2 Batch 400/1043] loss=3.6125, ppl=37.0604, gnorm=1.0790, throughput=52.45K wps, wc=578.89K\n",
      "[Epoch 2 Batch 500/1043] loss=3.5855, ppl=36.0719, gnorm=1.1095, throughput=52.82K wps, wc=590.93K\n",
      "[Epoch 2 Batch 600/1043] loss=3.5869, ppl=36.1211, gnorm=1.2088, throughput=51.74K wps, wc=561.47K\n",
      "[Epoch 2 Batch 700/1043] loss=3.5714, ppl=35.5671, gnorm=1.0133, throughput=54.13K wps, wc=624.59K\n",
      "[Epoch 2 Batch 800/1043] loss=3.4792, ppl=32.4344, gnorm=1.1866, throughput=51.80K wps, wc=564.54K\n",
      "[Epoch 2 Batch 900/1043] loss=3.4836, ppl=32.5754, gnorm=1.0992, throughput=52.84K wps, wc=583.36K\n",
      "[Epoch 2 Batch 1000/1043] loss=3.3762, ppl=29.2583, gnorm=1.1736, throughput=50.65K wps, wc=528.11K\n"
     ]
    },
    {
     "data": {
      "application/vnd.jupyter.widget-view+json": {
       "model_id": "d2e47e766b6042e2ab6d243956f58120",
       "version_major": 2,
       "version_minor": 0
      },
      "text/plain": [
       "  0%|          | 0/27 [00:00<?, ?it/s]"
      ]
     },
     "metadata": {},
     "output_type": "display_data"
    },
    {
     "name": "stdout",
     "output_type": "stream",
     "text": [
      "[Epoch 2] valid Loss=3.1864, valid ppl=24.2012, valid bleu=11.75\n",
      "Save best parameters to transformer_vi_en_512.params\n",
      "Qualitative Evaluation: Translating from Vietnamese to English\n",
      "Expected translation:\n",
      "I like to read books.\n",
      "In Vietnamese (from Google Translate):\n",
      "Tôi thích đọc sách kỹ thuật.\n",
      "The English translation is:\n",
      "I like to read the book that I love to read the book that I love books . I love to read the book . I love books . I love books .\n"
     ]
    },
    {
     "data": {
      "application/vnd.jupyter.widget-view+json": {
       "model_id": "fcf400543de348bebe915bf463b2159d",
       "version_major": 2,
       "version_minor": 0
      },
      "text/plain": [
       "  0%|          | 0/1043 [00:00<?, ?it/s]"
      ]
     },
     "metadata": {},
     "output_type": "display_data"
    },
    {
     "name": "stdout",
     "output_type": "stream",
     "text": [
      "[Epoch 3 Batch 100/1043] loss=3.4228, ppl=30.6559, gnorm=1.0983, throughput=54.23K wps, wc=630.11K\n",
      "[Epoch 3 Batch 200/1043] loss=3.3277, ppl=27.8741, gnorm=1.1967, throughput=51.30K wps, wc=572.70K\n",
      "[Epoch 3 Batch 300/1043] loss=3.3572, ppl=28.7081, gnorm=1.2050, throughput=53.52K wps, wc=598.93K\n",
      "[Epoch 3 Batch 400/1043] loss=3.2109, ppl=24.8025, gnorm=1.1840, throughput=50.49K wps, wc=537.22K\n",
      "[Epoch 3 Batch 500/1043] loss=3.1669, ppl=23.7327, gnorm=1.1417, throughput=50.12K wps, wc=529.51K\n",
      "[Epoch 3 Batch 600/1043] loss=3.2636, ppl=26.1432, gnorm=1.1578, throughput=53.59K wps, wc=610.71K\n",
      "[Epoch 3 Batch 700/1043] loss=3.1428, ppl=23.1688, gnorm=1.1742, throughput=49.71K wps, wc=519.76K\n",
      "[Epoch 3 Batch 800/1043] loss=3.1122, ppl=22.4697, gnorm=1.1714, throughput=50.95K wps, wc=539.30K\n",
      "[Epoch 3 Batch 900/1043] loss=3.1578, ppl=23.5176, gnorm=1.2770, throughput=52.30K wps, wc=581.69K\n",
      "[Epoch 3 Batch 1000/1043] loss=3.1672, ppl=23.7402, gnorm=1.1970, throughput=52.09K wps, wc=569.12K\n"
     ]
    },
    {
     "data": {
      "application/vnd.jupyter.widget-view+json": {
       "model_id": "08d325bfaef444378fa0c6659e6a91fd",
       "version_major": 2,
       "version_minor": 0
      },
      "text/plain": [
       "  0%|          | 0/27 [00:00<?, ?it/s]"
      ]
     },
     "metadata": {},
     "output_type": "display_data"
    },
    {
     "name": "stdout",
     "output_type": "stream",
     "text": [
      "[Epoch 3] valid Loss=2.9017, valid ppl=18.2045, valid bleu=14.68\n",
      "Save best parameters to transformer_vi_en_512.params\n",
      "Qualitative Evaluation: Translating from Vietnamese to English\n",
      "Expected translation:\n",
      "I like to read books.\n",
      "In Vietnamese (from Google Translate):\n",
      "Tôi thích đọc sách kỹ thuật.\n",
      "The English translation is:\n",
      "I like to read the book I like to read books that I love books to read books . I love books . I love to read books . I love books . I love books . I love books . I love books . I love to read\n"
     ]
    },
    {
     "data": {
      "application/vnd.jupyter.widget-view+json": {
       "model_id": "914f116d73624a3ca2d217bfd45a1b97",
       "version_major": 2,
       "version_minor": 0
      },
      "text/plain": [
       "  0%|          | 0/1043 [00:00<?, ?it/s]"
      ]
     },
     "metadata": {},
     "output_type": "display_data"
    },
    {
     "name": "stdout",
     "output_type": "stream",
     "text": [
      "[Epoch 4 Batch 100/1043] loss=3.0195, ppl=20.4801, gnorm=1.1670, throughput=50.62K wps, wc=568.46K\n",
      "[Epoch 4 Batch 200/1043] loss=3.0002, ppl=20.0895, gnorm=1.2490, throughput=51.31K wps, wc=542.90K\n",
      "[Epoch 4 Batch 300/1043] loss=2.9991, ppl=20.0676, gnorm=1.2299, throughput=51.21K wps, wc=555.44K\n",
      "[Epoch 4 Batch 400/1043] loss=2.9848, ppl=19.7819, gnorm=1.2369, throughput=51.25K wps, wc=543.93K\n",
      "[Epoch 4 Batch 500/1043] loss=2.9911, ppl=19.9078, gnorm=1.1778, throughput=52.72K wps, wc=579.34K\n",
      "[Epoch 4 Batch 600/1043] loss=3.0096, ppl=20.2787, gnorm=1.3039, throughput=53.24K wps, wc=601.62K\n",
      "[Epoch 4 Batch 700/1043] loss=2.9945, ppl=19.9747, gnorm=1.2218, throughput=52.66K wps, wc=597.87K\n",
      "[Epoch 4 Batch 800/1043] loss=2.8309, ppl=16.9610, gnorm=1.1916, throughput=49.37K wps, wc=507.35K\n",
      "[Epoch 4 Batch 900/1043] loss=3.0003, ppl=20.0909, gnorm=1.1711, throughput=54.51K wps, wc=624.02K\n",
      "[Epoch 4 Batch 1000/1043] loss=2.9414, ppl=18.9419, gnorm=1.3402, throughput=52.55K wps, wc=580.31K\n"
     ]
    },
    {
     "data": {
      "application/vnd.jupyter.widget-view+json": {
       "model_id": "e1f0955c7011453293845f6e539759fd",
       "version_major": 2,
       "version_minor": 0
      },
      "text/plain": [
       "  0%|          | 0/27 [00:00<?, ?it/s]"
      ]
     },
     "metadata": {},
     "output_type": "display_data"
    },
    {
     "name": "stdout",
     "output_type": "stream",
     "text": [
      "[Epoch 4] valid Loss=2.7394, valid ppl=15.4776, valid bleu=15.89\n",
      "Save best parameters to transformer_vi_en_512.params\n",
      "Qualitative Evaluation: Translating from Vietnamese to English\n",
      "Expected translation:\n",
      "I like to read books.\n",
      "In Vietnamese (from Google Translate):\n",
      "Tôi thích đọc sách kỹ thuật.\n",
      "The English translation is:\n",
      "I like to read books , I like to read books , I like to read books . I like to read books .\n"
     ]
    },
    {
     "data": {
      "application/vnd.jupyter.widget-view+json": {
       "model_id": "9703910db3ab47bd8c3b94afabcf939e",
       "version_major": 2,
       "version_minor": 0
      },
      "text/plain": [
       "  0%|          | 0/1043 [00:00<?, ?it/s]"
      ]
     },
     "metadata": {},
     "output_type": "display_data"
    },
    {
     "name": "stdout",
     "output_type": "stream",
     "text": [
      "[Epoch 5 Batch 100/1043] loss=2.7358, ppl=15.4214, gnorm=1.2279, throughput=50.04K wps, wc=529.43K\n",
      "[Epoch 5 Batch 200/1043] loss=2.8559, ppl=17.3897, gnorm=1.1835, throughput=53.65K wps, wc=611.54K\n",
      "[Epoch 5 Batch 300/1043] loss=2.8049, ppl=16.5254, gnorm=1.2343, throughput=51.61K wps, wc=582.88K\n",
      "[Epoch 5 Batch 400/1043] loss=2.7825, ppl=16.1591, gnorm=1.2696, throughput=51.79K wps, wc=556.31K\n",
      "[Epoch 5 Batch 500/1043] loss=2.5811, ppl=13.2120, gnorm=1.2724, throughput=47.59K wps, wc=472.55K\n",
      "[Epoch 5 Batch 600/1043] loss=2.7997, ppl=16.4405, gnorm=1.3608, throughput=52.78K wps, wc=586.79K\n",
      "[Epoch 5 Batch 700/1043] loss=2.7433, ppl=15.5388, gnorm=1.2651, throughput=51.33K wps, wc=561.02K\n",
      "[Epoch 5 Batch 800/1043] loss=2.7090, ppl=15.0145, gnorm=1.2146, throughput=51.37K wps, wc=555.63K\n",
      "[Epoch 5 Batch 900/1043] loss=2.7800, ppl=16.1185, gnorm=1.2269, throughput=53.60K wps, wc=600.79K\n",
      "[Epoch 5 Batch 1000/1043] loss=2.8636, ppl=17.5237, gnorm=1.2544, throughput=56.12K wps, wc=659.40K\n"
     ]
    },
    {
     "data": {
      "application/vnd.jupyter.widget-view+json": {
       "model_id": "d1312ebc1496411ba84a7e14234241b1",
       "version_major": 2,
       "version_minor": 0
      },
      "text/plain": [
       "  0%|          | 0/27 [00:00<?, ?it/s]"
      ]
     },
     "metadata": {},
     "output_type": "display_data"
    },
    {
     "name": "stdout",
     "output_type": "stream",
     "text": [
      "[Epoch 5] valid Loss=2.6155, valid ppl=13.6737, valid bleu=17.32\n",
      "Save best parameters to transformer_vi_en_512.params\n",
      "Qualitative Evaluation: Translating from Vietnamese to English\n",
      "Expected translation:\n",
      "I like to read books.\n",
      "In Vietnamese (from Google Translate):\n",
      "Tôi thích đọc sách kỹ thuật.\n",
      "The English translation is:\n",
      "I like to read books books and I like to read books books . I like to read books . I like to read books .\n"
     ]
    },
    {
     "data": {
      "application/vnd.jupyter.widget-view+json": {
       "model_id": "e2d5f99c5a6645539d944c6a2eab2d5f",
       "version_major": 2,
       "version_minor": 0
      },
      "text/plain": [
       "  0%|          | 0/1043 [00:00<?, ?it/s]"
      ]
     },
     "metadata": {},
     "output_type": "display_data"
    },
    {
     "name": "stdout",
     "output_type": "stream",
     "text": [
      "[Epoch 6 Batch 100/1043] loss=2.6484, ppl=14.1309, gnorm=1.1933, throughput=51.86K wps, wc=603.59K\n",
      "[Epoch 6 Batch 200/1043] loss=2.5897, ppl=13.3258, gnorm=1.3182, throughput=51.29K wps, wc=562.11K\n",
      "[Epoch 6 Batch 300/1043] loss=2.6710, ppl=14.4541, gnorm=1.2744, throughput=53.97K wps, wc=624.24K\n",
      "[Epoch 6 Batch 400/1043] loss=2.6377, ppl=13.9811, gnorm=1.2755, throughput=53.17K wps, wc=603.10K\n",
      "[Epoch 6 Batch 500/1043] loss=2.6182, ppl=13.7112, gnorm=1.2625, throughput=51.79K wps, wc=561.10K\n",
      "[Epoch 6 Batch 600/1043] loss=2.6081, ppl=13.5727, gnorm=1.3082, throughput=51.68K wps, wc=565.55K\n",
      "[Epoch 6 Batch 700/1043] loss=2.5915, ppl=13.3497, gnorm=1.2620, throughput=51.70K wps, wc=555.39K\n",
      "[Epoch 6 Batch 800/1043] loss=2.5588, ppl=12.9202, gnorm=1.3158, throughput=50.88K wps, wc=537.32K\n",
      "[Epoch 6 Batch 900/1043] loss=2.6141, ppl=13.6545, gnorm=1.2637, throughput=52.88K wps, wc=591.29K\n",
      "[Epoch 6 Batch 1000/1043] loss=2.5747, ppl=13.1270, gnorm=1.3172, throughput=51.43K wps, wc=554.05K\n"
     ]
    },
    {
     "data": {
      "application/vnd.jupyter.widget-view+json": {
       "model_id": "02ee92123c974c4baeddba44bd6d9050",
       "version_major": 2,
       "version_minor": 0
      },
      "text/plain": [
       "  0%|          | 0/27 [00:00<?, ?it/s]"
      ]
     },
     "metadata": {},
     "output_type": "display_data"
    },
    {
     "name": "stdout",
     "output_type": "stream",
     "text": [
      "[Epoch 6] valid Loss=2.5543, valid ppl=12.8618, valid bleu=17.82\n",
      "Save best parameters to transformer_vi_en_512.params\n",
      "Qualitative Evaluation: Translating from Vietnamese to English\n",
      "Expected translation:\n",
      "I like to read books.\n",
      "In Vietnamese (from Google Translate):\n",
      "Tôi thích đọc sách kỹ thuật.\n",
      "The English translation is:\n",
      "I like to read books books and I like to read books books . I like to read books .\n"
     ]
    },
    {
     "data": {
      "application/vnd.jupyter.widget-view+json": {
       "model_id": "e05f12d96bd44dd1a515533bf808c5af",
       "version_major": 2,
       "version_minor": 0
      },
      "text/plain": [
       "  0%|          | 0/1043 [00:00<?, ?it/s]"
      ]
     },
     "metadata": {},
     "output_type": "display_data"
    },
    {
     "name": "stdout",
     "output_type": "stream",
     "text": [
      "[Epoch 7 Batch 100/1043] loss=2.5213, ppl=12.4447, gnorm=1.2541, throughput=52.53K wps, wc=587.59K\n",
      "[Epoch 7 Batch 200/1043] loss=2.5443, ppl=12.7345, gnorm=1.2783, throughput=53.81K wps, wc=622.04K\n",
      "[Epoch 7 Batch 300/1043] loss=2.4115, ppl=11.1506, gnorm=1.2623, throughput=50.91K wps, wc=540.54K\n",
      "[Epoch 7 Batch 400/1043] loss=2.3796, ppl=10.8003, gnorm=1.3497, throughput=47.60K wps, wc=502.07K\n",
      "[Epoch 7 Batch 500/1043] loss=2.4803, ppl=11.9454, gnorm=1.2686, throughput=52.78K wps, wc=583.79K\n",
      "[Epoch 7 Batch 600/1043] loss=2.5255, ppl=12.4970, gnorm=1.3048, throughput=53.98K wps, wc=609.75K\n",
      "[Epoch 7 Batch 700/1043] loss=2.4782, ppl=11.9195, gnorm=1.2944, throughput=52.12K wps, wc=577.30K\n",
      "[Epoch 7 Batch 800/1043] loss=2.3631, ppl=10.6234, gnorm=1.3365, throughput=48.80K wps, wc=505.00K\n",
      "[Epoch 7 Batch 900/1043] loss=2.4608, ppl=11.7141, gnorm=1.3308, throughput=52.58K wps, wc=590.09K\n",
      "[Epoch 7 Batch 1000/1043] loss=2.4861, ppl=12.0147, gnorm=1.2700, throughput=53.35K wps, wc=599.85K\n"
     ]
    },
    {
     "data": {
      "application/vnd.jupyter.widget-view+json": {
       "model_id": "e769d33bd2444dcbb46dd1426d5ff8b1",
       "version_major": 2,
       "version_minor": 0
      },
      "text/plain": [
       "  0%|          | 0/27 [00:00<?, ?it/s]"
      ]
     },
     "metadata": {},
     "output_type": "display_data"
    },
    {
     "name": "stdout",
     "output_type": "stream",
     "text": [
      "[Epoch 7] valid Loss=2.4726, valid ppl=11.8532, valid bleu=18.88\n",
      "Save best parameters to transformer_vi_en_512.params\n",
      "Learning rate change to 5e-05\n",
      "Qualitative Evaluation: Translating from Vietnamese to English\n",
      "Expected translation:\n",
      "I like to read books.\n",
      "In Vietnamese (from Google Translate):\n",
      "Tôi thích đọc sách kỹ thuật.\n",
      "The English translation is:\n",
      "I like to read books and I like to read books and I like to read books .\n"
     ]
    },
    {
     "data": {
      "application/vnd.jupyter.widget-view+json": {
       "model_id": "2f24deec53a646408e3ebf467c466b2d",
       "version_major": 2,
       "version_minor": 0
      },
      "text/plain": [
       "  0%|          | 0/1043 [00:00<?, ?it/s]"
      ]
     },
     "metadata": {},
     "output_type": "display_data"
    },
    {
     "name": "stdout",
     "output_type": "stream",
     "text": [
      "[Epoch 8 Batch 100/1043] loss=2.2924, ppl=9.8989, gnorm=1.1990, throughput=49.43K wps, wc=556.55K\n",
      "[Epoch 8 Batch 200/1043] loss=2.3806, ppl=10.8119, gnorm=1.2179, throughput=52.68K wps, wc=601.04K\n",
      "[Epoch 8 Batch 300/1043] loss=2.3845, ppl=10.8536, gnorm=1.2012, throughput=53.50K wps, wc=614.51K\n",
      "[Epoch 8 Batch 400/1043] loss=2.2806, ppl=9.7826, gnorm=1.2592, throughput=50.35K wps, wc=539.14K\n",
      "[Epoch 8 Batch 500/1043] loss=2.3212, ppl=10.1881, gnorm=1.2475, throughput=51.47K wps, wc=561.68K\n",
      "[Epoch 8 Batch 600/1043] loss=2.3235, ppl=10.2111, gnorm=1.2377, throughput=51.85K wps, wc=567.04K\n",
      "[Epoch 8 Batch 700/1043] loss=2.3782, ppl=10.7853, gnorm=1.2283, throughput=52.73K wps, wc=600.47K\n",
      "[Epoch 8 Batch 800/1043] loss=2.3731, ppl=10.7308, gnorm=1.2477, throughput=53.75K wps, wc=610.25K\n",
      "[Epoch 8 Batch 900/1043] loss=2.2909, ppl=9.8841, gnorm=1.2477, throughput=51.68K wps, wc=562.08K\n",
      "[Epoch 8 Batch 1000/1043] loss=2.2546, ppl=9.5317, gnorm=1.2598, throughput=50.15K wps, wc=530.23K\n"
     ]
    },
    {
     "data": {
      "application/vnd.jupyter.widget-view+json": {
       "model_id": "9e40861f01a94d129459c13c14011348",
       "version_major": 2,
       "version_minor": 0
      },
      "text/plain": [
       "  0%|          | 0/27 [00:00<?, ?it/s]"
      ]
     },
     "metadata": {},
     "output_type": "display_data"
    },
    {
     "name": "stdout",
     "output_type": "stream",
     "text": [
      "[Epoch 8] valid Loss=2.4326, valid ppl=11.3882, valid bleu=19.53\n",
      "Save best parameters to transformer_vi_en_512.params\n",
      "Learning rate change to 2.5e-05\n",
      "Qualitative Evaluation: Translating from Vietnamese to English\n",
      "Expected translation:\n",
      "I like to read books.\n",
      "In Vietnamese (from Google Translate):\n",
      "Tôi thích đọc sách kỹ thuật.\n",
      "The English translation is:\n",
      "I like to read the book , I like to read books , I like to read books , I love books and I like to read books . I like to read books , I like to read books and I like to read books .\n"
     ]
    },
    {
     "data": {
      "application/vnd.jupyter.widget-view+json": {
       "model_id": "a76b635c964e4fa2917c5fe8a6bb9f7b",
       "version_major": 2,
       "version_minor": 0
      },
      "text/plain": [
       "  0%|          | 0/1043 [00:00<?, ?it/s]"
      ]
     },
     "metadata": {},
     "output_type": "display_data"
    },
    {
     "name": "stdout",
     "output_type": "stream",
     "text": [
      "[Epoch 9 Batch 100/1043] loss=2.2887, ppl=9.8623, gnorm=1.2138, throughput=50.97K wps, wc=576.48K\n",
      "[Epoch 9 Batch 200/1043] loss=2.2196, ppl=9.2039, gnorm=1.2190, throughput=51.72K wps, wc=550.86K\n",
      "[Epoch 9 Batch 300/1043] loss=2.3641, ppl=10.6346, gnorm=1.1963, throughput=54.74K wps, wc=633.26K\n",
      "[Epoch 9 Batch 400/1043] loss=2.3112, ppl=10.0862, gnorm=1.2471, throughput=52.79K wps, wc=579.86K\n",
      "[Epoch 9 Batch 500/1043] loss=2.2059, ppl=9.0780, gnorm=1.2389, throughput=50.88K wps, wc=543.97K\n",
      "[Epoch 9 Batch 600/1043] loss=2.2428, ppl=9.4200, gnorm=1.2353, throughput=51.35K wps, wc=547.23K\n",
      "[Epoch 9 Batch 700/1043] loss=2.2247, ppl=9.2505, gnorm=1.2361, throughput=52.09K wps, wc=580.76K\n",
      "[Epoch 9 Batch 800/1043] loss=2.1688, ppl=8.7479, gnorm=1.2410, throughput=49.97K wps, wc=533.16K\n",
      "[Epoch 9 Batch 900/1043] loss=2.2474, ppl=9.4634, gnorm=1.2218, throughput=51.92K wps, wc=583.95K\n",
      "[Epoch 9 Batch 1000/1043] loss=2.3023, ppl=9.9970, gnorm=1.2204, throughput=52.99K wps, wc=601.85K\n"
     ]
    },
    {
     "data": {
      "application/vnd.jupyter.widget-view+json": {
       "model_id": "af5097ed6d65497eab9ca9452c0c6cde",
       "version_major": 2,
       "version_minor": 0
      },
      "text/plain": [
       "  0%|          | 0/27 [00:00<?, ?it/s]"
      ]
     },
     "metadata": {},
     "output_type": "display_data"
    },
    {
     "name": "stdout",
     "output_type": "stream",
     "text": [
      "[Epoch 9] valid Loss=2.4048, valid ppl=11.0758, valid bleu=19.74\n",
      "Save best parameters to transformer_vi_en_512.params\n",
      "Learning rate change to 1.25e-05\n",
      "Qualitative Evaluation: Translating from Vietnamese to English\n",
      "Expected translation:\n",
      "I like to read books.\n",
      "In Vietnamese (from Google Translate):\n",
      "Tôi thích đọc sách kỹ thuật.\n",
      "The English translation is:\n",
      "I like to read books and I like to read books books and I like to read books . I like to read books and I like to read books .\n"
     ]
    },
    {
     "data": {
      "application/vnd.jupyter.widget-view+json": {
       "model_id": "fb82cbda42274798a0bfb760e71ac606",
       "version_major": 2,
       "version_minor": 0
      },
      "text/plain": [
       "  0%|          | 0/1043 [00:00<?, ?it/s]"
      ]
     },
     "metadata": {},
     "output_type": "display_data"
    },
    {
     "name": "stdout",
     "output_type": "stream",
     "text": [
      "[Epoch 10 Batch 100/1043] loss=2.3268, ppl=10.2449, gnorm=1.2221, throughput=52.40K wps, wc=616.40K\n",
      "[Epoch 10 Batch 200/1043] loss=2.1540, ppl=8.6194, gnorm=1.2492, throughput=50.18K wps, wc=530.46K\n",
      "[Epoch 10 Batch 300/1043] loss=2.1365, ppl=8.4694, gnorm=1.2393, throughput=49.93K wps, wc=528.15K\n",
      "[Epoch 10 Batch 400/1043] loss=2.1659, ppl=8.7222, gnorm=1.2231, throughput=51.19K wps, wc=552.92K\n",
      "[Epoch 10 Batch 500/1043] loss=2.1336, ppl=8.4456, gnorm=1.2426, throughput=49.67K wps, wc=518.86K\n",
      "[Epoch 10 Batch 600/1043] loss=2.2955, ppl=9.9291, gnorm=1.1947, throughput=54.50K wps, wc=630.69K\n",
      "[Epoch 10 Batch 700/1043] loss=2.1963, ppl=8.9919, gnorm=1.2319, throughput=51.02K wps, wc=555.67K\n",
      "[Epoch 10 Batch 800/1043] loss=2.2381, ppl=9.3758, gnorm=1.2185, throughput=52.61K wps, wc=582.86K\n",
      "[Epoch 10 Batch 900/1043] loss=2.3087, ppl=10.0612, gnorm=1.1982, throughput=55.34K wps, wc=647.88K\n",
      "[Epoch 10 Batch 1000/1043] loss=2.2803, ppl=9.7799, gnorm=1.2114, throughput=53.82K wps, wc=611.42K\n"
     ]
    },
    {
     "data": {
      "application/vnd.jupyter.widget-view+json": {
       "model_id": "f39a4ee7ca0749a6ab2b0b43e3b500eb",
       "version_major": 2,
       "version_minor": 0
      },
      "text/plain": [
       "  0%|          | 0/27 [00:00<?, ?it/s]"
      ]
     },
     "metadata": {},
     "output_type": "display_data"
    },
    {
     "name": "stdout",
     "output_type": "stream",
     "text": [
      "[Epoch 10] valid Loss=2.3950, valid ppl=10.9679, valid bleu=19.80\n",
      "Save best parameters to transformer_vi_en_512.params\n",
      "Learning rate change to 6.25e-06\n",
      "Qualitative Evaluation: Translating from Vietnamese to English\n",
      "Expected translation:\n",
      "I like to read books.\n",
      "In Vietnamese (from Google Translate):\n",
      "Tôi thích đọc sách kỹ thuật.\n",
      "The English translation is:\n",
      "I like to read books and I like to read books books and I like to read books . I like to read books and I like to read books .\n"
     ]
    },
    {
     "data": {
      "application/vnd.jupyter.widget-view+json": {
       "model_id": "6f38694c82af4d739264bb4ce8243e76",
       "version_major": 2,
       "version_minor": 0
      },
      "text/plain": [
       "  0%|          | 0/1043 [00:00<?, ?it/s]"
      ]
     },
     "metadata": {},
     "output_type": "display_data"
    },
    {
     "name": "stdout",
     "output_type": "stream",
     "text": [
      "[Epoch 11 Batch 100/1043] loss=2.2377, ppl=9.3719, gnorm=1.2126, throughput=51.47K wps, wc=594.99K\n",
      "[Epoch 11 Batch 200/1043] loss=2.1463, ppl=8.5528, gnorm=1.2242, throughput=50.79K wps, wc=550.29K\n",
      "[Epoch 11 Batch 300/1043] loss=2.1934, ppl=8.9660, gnorm=1.2255, throughput=51.46K wps, wc=567.04K\n",
      "[Epoch 11 Batch 400/1043] loss=2.1841, ppl=8.8828, gnorm=1.2394, throughput=51.14K wps, wc=535.70K\n",
      "[Epoch 11 Batch 500/1043] loss=2.1988, ppl=9.0139, gnorm=1.2067, throughput=52.49K wps, wc=582.91K\n",
      "[Epoch 11 Batch 600/1043] loss=2.1409, ppl=8.5070, gnorm=1.2168, throughput=50.66K wps, wc=555.74K\n",
      "[Epoch 11 Batch 700/1043] loss=2.1693, ppl=8.7526, gnorm=1.2364, throughput=51.21K wps, wc=553.90K\n",
      "[Epoch 11 Batch 800/1043] loss=2.2963, ppl=9.9369, gnorm=1.2261, throughput=54.23K wps, wc=618.74K\n",
      "[Epoch 11 Batch 900/1043] loss=2.2218, ppl=9.2242, gnorm=1.2069, throughput=52.93K wps, wc=593.70K\n",
      "[Epoch 11 Batch 1000/1043] loss=2.2558, ppl=9.5433, gnorm=1.2364, throughput=53.14K wps, wc=589.68K\n"
     ]
    },
    {
     "data": {
      "application/vnd.jupyter.widget-view+json": {
       "model_id": "3dc6fabda3df43f5951eeedb7fa9f548",
       "version_major": 2,
       "version_minor": 0
      },
      "text/plain": [
       "  0%|          | 0/27 [00:00<?, ?it/s]"
      ]
     },
     "metadata": {},
     "output_type": "display_data"
    },
    {
     "name": "stdout",
     "output_type": "stream",
     "text": [
      "[Epoch 11] valid Loss=2.3934, valid ppl=10.9510, valid bleu=20.00\n",
      "Save best parameters to transformer_vi_en_512.params\n",
      "Learning rate change to 3.125e-06\n",
      "Qualitative Evaluation: Translating from Vietnamese to English\n",
      "Expected translation:\n",
      "I like to read books.\n",
      "In Vietnamese (from Google Translate):\n",
      "Tôi thích đọc sách kỹ thuật.\n",
      "The English translation is:\n",
      "I like to read books and I like to read books books and I like to read books .\n"
     ]
    },
    {
     "data": {
      "application/vnd.jupyter.widget-view+json": {
       "model_id": "c06466d0100c4ed7a35b626bd28fe325",
       "version_major": 2,
       "version_minor": 0
      },
      "text/plain": [
       "  0%|          | 0/27 [00:00<?, ?it/s]"
      ]
     },
     "metadata": {},
     "output_type": "display_data"
    },
    {
     "name": "stdout",
     "output_type": "stream",
     "text": [
      "Best model valid Loss=2.3934, valid ppl=10.9510, valid bleu=20.00\n"
     ]
    },
    {
     "data": {
      "application/vnd.jupyter.widget-view+json": {
       "model_id": "425ad08322ad40c4908d8ce54bd1c491",
       "version_major": 2,
       "version_minor": 0
      },
      "text/plain": [
       "  0%|          | 0/23 [00:00<?, ?it/s]"
      ]
     },
     "metadata": {},
     "output_type": "display_data"
    },
    {
     "name": "stdout",
     "output_type": "stream",
     "text": [
      "Best model test Loss=2.3028, test ppl=10.0018, test bleu=21.13'\n"
     ]
    }
   ],
   "source": [
    "# Let's train\n",
    "trainer = mx.gluon.Trainer(transformer_model.collect_params(), hparams.optimizer, {'learning_rate': hparams.lr})\n",
    "\n",
    "best_valid_bleu = 0.0\n",
    "\n",
    "train_losses = []\n",
    "valid_losses = []\n",
    "valid_bleus  = []\n",
    "valid_perplexities = []\n",
    "\n",
    "for epoch_id in tqdm(range(hparams.epochs)):\n",
    "\n",
    "    log_loss = 0\n",
    "    log_denom = 0\n",
    "    log_avg_gnorm = 0\n",
    "    log_wc = 0\n",
    "    log_start_time = time.time()\n",
    "    \n",
    "    for batch_id, (src_seq, tgt_seq, src_valid_length, tgt_valid_length) in enumerate(tqdm(train_data_loader)):\n",
    "        \n",
    "        src_seq = src_seq.as_in_context(ctx)\n",
    "        tgt_seq = tgt_seq.as_in_context(ctx)\n",
    "        src_valid_length = src_valid_length.as_in_context(ctx)\n",
    "        tgt_valid_length = tgt_valid_length.as_in_context(ctx)\n",
    "        \n",
    "        with mx.autograd.record():\n",
    "            out, _ = transformer_model(\n",
    "                src_seq,\n",
    "                tgt_seq[:, :-1],\n",
    "                src_valid_length,\n",
    "                tgt_valid_length - 1)\n",
    "\n",
    "            loss = loss_function(out, tgt_seq[:, 1:], tgt_valid_length - 1).mean()\n",
    "            loss = loss * (tgt_seq.shape[1] - 1)\n",
    "            log_loss += loss * tgt_seq.shape[0]\n",
    "            log_denom += (tgt_valid_length - 1).sum()\n",
    "            loss = loss / (tgt_valid_length - 1).mean()\n",
    "            loss.backward()\n",
    "        \n",
    "        grads = [p.grad(ctx) for p in transformer_model.collect_params().values() if p.grad_req != 'null']\n",
    "        gnorm = mx.gluon.utils.clip_global_norm(grads, hparams.clip)\n",
    "        trainer.step(1)\n",
    "        \n",
    "        src_wc = src_valid_length.sum().asscalar()\n",
    "        tgt_wc = (tgt_valid_length - 1).sum().asscalar()\n",
    "        log_loss = log_loss.asscalar()\n",
    "        log_denom = log_denom.asscalar()\n",
    "        log_avg_gnorm += gnorm\n",
    "        log_wc += src_wc + tgt_wc\n",
    "        \n",
    "        train_loss = log_loss / log_denom\n",
    "        \n",
    "        if (batch_id + 1) % hparams.log_interval == 0:\n",
    "            wps = log_wc / (time.time() - log_start_time)\n",
    "            print(\"[Epoch {} Batch {}/{}] loss={:.4f}, ppl={:.4f}, gnorm={:.4f}, \"\n",
    "                         \"throughput={:.2f}K wps, wc={:.2f}K\"\n",
    "                         .format(epoch_id, batch_id + 1, len(train_data_loader),\n",
    "                                 train_loss,\n",
    "                                 np.exp(log_loss / log_denom),\n",
    "                                 log_avg_gnorm / hparams.log_interval,\n",
    "                                 wps / 1000, log_wc / 1000))\n",
    "            \n",
    "            log_start_time = time.time()\n",
    "            log_loss = 0\n",
    "            log_denom = 0\n",
    "            log_avg_gnorm = 0\n",
    "            log_wc = 0\n",
    "            \n",
    "    train_losses.append(train_loss)\n",
    "    \n",
    "    valid_loss, valid_translation_out = nmt.utils.evaluate(\n",
    "        val_data_loader,\n",
    "        transformer_model,\n",
    "        transformer_translator,\n",
    "        loss_function,\n",
    "        iwslt_tgt_vocab,\n",
    "        ctx)\n",
    "\n",
    "    valid_perplexity = np.exp(valid_loss)\n",
    "    valid_perplexities.append(valid_perplexity)\n",
    "    \n",
    "    valid_bleu_score, _, _, _, _ = nmt.bleu.compute_bleu([val_tgt_sentences], valid_translation_out)\n",
    "    print(\"[Epoch {}] valid Loss={:.4f}, valid ppl={:.4f}, valid bleu={:.2f}\"\n",
    "          .format(epoch_id, valid_loss, valid_perplexity, valid_bleu_score * 100))\n",
    "    \n",
    "    valid_losses.append(valid_loss)\n",
    "    valid_bleus.append(valid_bleu_score * 100)\n",
    "\n",
    "    if valid_bleu_score > best_valid_bleu:\n",
    "        best_valid_bleu = valid_bleu_score\n",
    "        print(\"Save best parameters to {}\".format(hparams.file_name))\n",
    "        transformer_model.save_parameters(hparams.file_name)\n",
    "    \n",
    "    if epoch_id + 1 >= (hparams.epochs * 2) // 3:\n",
    "        new_lr = trainer.learning_rate * hparams.lr_update_factor\n",
    "        print(\"Learning rate change to {}\".format(new_lr))\n",
    "        trainer.set_learning_rate(new_lr)\n",
    "        \n",
    "    print(\"Qualitative Evaluation: Translating from Vietnamese to English\")\n",
    "\n",
    "    expected_tgt_seq = \"I like to read books.\"\n",
    "    print(\"Expected translation:\")\n",
    "    print(expected_tgt_seq)\n",
    "    # From Google Translate\n",
    "    src_seq = \"Tôi thích đọc sách kỹ thuật.\"\n",
    "    print(\"In Vietnamese (from Google Translate):\")\n",
    "    print(src_seq)\n",
    "\n",
    "    translation_out = nmt.utils.translate_with_unk(\n",
    "    # translation_out = nmt.utils.translate(\n",
    "        transformer_translator,\n",
    "        src_seq,\n",
    "        iwslt_src_vocab,\n",
    "        iwslt_tgt_vocab,\n",
    "        ctx)\n",
    "\n",
    "    print(\"The English translation is:\")\n",
    "    print(\" \".join(translation_out[0]))\n",
    "\n",
    "if os.path.exists(hparams.file_name):\n",
    "    transformer_model.load_parameters(hparams.file_name)\n",
    "\n",
    "valid_loss, valid_translation_out = nmt.utils.evaluate(\n",
    "    val_data_loader,\n",
    "    transformer_model,\n",
    "    transformer_translator,\n",
    "    loss_function,\n",
    "    iwslt_tgt_vocab,\n",
    "    ctx)\n",
    "\n",
    "valid_bleu_score, _, _, _, _ = nmt.bleu.compute_bleu([val_tgt_sentences], valid_translation_out)\n",
    "print(\"Best model valid Loss={:.4f}, valid ppl={:.4f}, valid bleu={:.2f}\"\n",
    "      .format(valid_loss, np.exp(valid_loss), valid_bleu_score * 100))\n",
    "\n",
    "test_loss, test_translation_out = nmt.utils.evaluate(\n",
    "    test_data_loader,\n",
    "    transformer_model,\n",
    "    transformer_translator,\n",
    "    loss_function,\n",
    "    iwslt_tgt_vocab,\n",
    "    ctx)\n",
    "\n",
    "test_bleu_score, _, _, _, _ = nmt.bleu.compute_bleu([test_tgt_sentences], test_translation_out)\n",
    "print(\"Best model test Loss={:.4f}, test ppl={:.4f}, test bleu={:.2f}'\"\n",
    "      .format(test_loss, np.exp(test_loss), test_bleu_score * 100))"
   ]
  },
  {
   "cell_type": "code",
   "execution_count": 14,
   "id": "30cded54",
   "metadata": {},
   "outputs": [
    {
     "data": {
      "image/png": "[encoded data removed]",
      "text/plain": [
       "<Figure size 432x288 with 1 Axes>"
      ]
     },
     "metadata": {},
     "output_type": "display_data"
    }
   ],
   "source": [
    "# plot losses and validation accuracy\n",
    "plt.style.use(\"ggplot\")\n",
    "plt.figure()\n",
    "plt.plot(range(0, hparams.epochs), valid_losses, label=\"Validation Loss\")\n",
    "plt.plot(range(0, hparams.epochs), train_losses, label=\"Training Loss\")\n",
    "plt.plot(range(0, hparams.epochs), valid_perplexities, label=\"Validation Perplexity\")\n",
    "plt.plot(range(0, hparams.epochs), valid_bleus, label=\"Validation BLEU\")\n",
    "plt.xlabel(\"Epoch\")\n",
    "plt.ylabel(\"Loss\")\n",
    "plt.legend(loc=\"upper right\")\n",
    "plt.title(\"Losses / Perplexity / BLEU\")\n",
    "plt.show()"
   ]
  },
  {
   "cell_type": "code",
   "execution_count": 15,
   "id": "2fe7107c",
   "metadata": {},
   "outputs": [
    {
     "name": "stdout",
     "output_type": "stream",
     "text": [
      "Qualitative Evaluation: Translating from Vietnamese to English\n",
      "Expected translation:\n",
      "I like to read books.\n",
      "In Vietnamese (from Google Translate):\n",
      "Tôi thích đọc sách kỹ thuật.\n",
      "The English translation is:\n",
      "I like to read books and I like to read books books and I like to read books .\n"
     ]
    }
   ],
   "source": [
    "print(\"Qualitative Evaluation: Translating from Vietnamese to English\")\n",
    "\n",
    "expected_tgt_seq = \"I like to read books.\"\n",
    "print(\"Expected translation:\")\n",
    "print(expected_tgt_seq)\n",
    "# From Google Translate\n",
    "src_seq = \"Tôi thích đọc sách kỹ thuật.\"\n",
    "print(\"In Vietnamese (from Google Translate):\")\n",
    "print(src_seq)\n",
    "\n",
    "translation_out = nmt.utils.translate_with_unk(\n",
    "# translation_out = nmt.utils.translate(\n",
    "    transformer_translator,\n",
    "    src_seq,\n",
    "    iwslt_src_vocab,\n",
    "    iwslt_tgt_vocab,\n",
    "    ctx)\n",
    "\n",
    "print(\"The English translation is:\")\n",
    "print(\" \".join(translation_out[0]))"
   ]
  }
 ],
 "metadata": {
  "kernelspec": {
   "display_name": "Python 3",
   "language": "python",
   "name": "python3"
  },
  "language_info": {
   "codemirror_mode": {
    "name": "ipython",
    "version": 3
   },
   "file_extension": ".py",
   "mimetype": "text/x-python",
   "name": "python",
   "nbconvert_exporter": "python",
   "pygments_lexer": "ipython3",
   "version": "3.7.10"
  }
 },
 "nbformat": 4,
 "nbformat_minor": 5
}
