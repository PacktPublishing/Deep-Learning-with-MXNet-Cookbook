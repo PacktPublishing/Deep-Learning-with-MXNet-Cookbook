{
 "cells": [
  {
   "cell_type": "code",
   "execution_count": 2,
   "id": "14d14a53",
   "metadata": {
    "scrolled": true
   },
   "outputs": [
    {
     "name": "stderr",
     "output_type": "stream",
     "text": [
      "[nltk_data] Downloading package punkt to /home/andreto/nltk_data...\n",
      "[nltk_data]   Package punkt is already up-to-date!\n",
      "[nltk_data] Downloading package stopwords to\n",
      "[nltk_data]     /home/andreto/nltk_data...\n",
      "[nltk_data]   Package stopwords is already up-to-date!\n",
      "[nltk_data] Downloading package wordnet to /home/andreto/nltk_data...\n",
      "[nltk_data]   Package wordnet is already up-to-date!\n"
     ]
    }
   ],
   "source": [
    "import mxnet as mx\n",
    "import gluonnlp as nlp\n",
    "import matplotlib.pyplot as plt\n",
    "import sklearn\n",
    "from tqdm.notebook import tqdm\n",
    "\n",
    "# Local Libraries\n",
    "# Load Model locally\n",
    "import textcnn\n",
    "# Load helper functions\n",
    "import utils\n",
    "\n",
    "# Set Context (change to cpu if no gpu available)\n",
    "# ctx = mx.cpu()\n",
    "ctx = mx.gpu()"
   ]
  },
  {
   "cell_type": "code",
   "execution_count": 6,
   "id": "bc2d88a3",
   "metadata": {},
   "outputs": [
    {
     "name": "stdout",
     "output_type": "stream",
     "text": [
      "Size of Train Set: 25000  (no valid split yet)\n",
      "Size of Test  Set: 25000\n"
     ]
    }
   ],
   "source": [
    "# Loading the dataset\n",
    "full_train_dataset, test_dataset = [nlp.data.IMDB(root='data/imdb', segment=segment)\n",
    "                               for segment in ('train', 'test')]\n",
    "\n",
    "# Dataset Sizes\n",
    "print(\"Size of Train Set:\", len(full_train_dataset), \" (no valid split yet)\")\n",
    "print(\"Size of Test  Set:\", len(test_dataset))"
   ]
  },
  {
   "cell_type": "code",
   "execution_count": 7,
   "id": "3a1c2b05",
   "metadata": {
    "scrolled": true
   },
   "outputs": [
    {
     "name": "stdout",
     "output_type": "stream",
     "text": [
      "I went and saw this movie last night after being coaxed to by a few friends of mine. I'll admit that I was reluctant to see it because from what I knew of Ashton Kutcher he was only able to do comedy. I was wrong. Kutcher played the character of Jake Fischer very well, and Kevin Costner played Ben Randall with such professionalism. The sign of a good movie is that it can toy with our emotions. This one did exactly that. The entire theater (which was sold out) was overcome by laughter during the first half of the movie, and were moved to tears during the second half. While exiting the theater I not only saw many women in tears, but many full grown men as well, trying desperately not to let anyone see them crying. This movie was great, and I suggest that you go see it before you judge.\n"
     ]
    }
   ],
   "source": [
    "print(test_dataset[0][0])"
   ]
  },
  {
   "cell_type": "code",
   "execution_count": 57,
   "id": "d39d7d8a",
   "metadata": {},
   "outputs": [],
   "source": [
    "texts, labels = zip(*full_train_dataset)\n",
    "labels_list = list(labels)\n",
    "labels = mx.np.array(labels)\n",
    "binary_labels_list = (labels > 5).astype('uint8').tolist()"
   ]
  },
  {
   "cell_type": "code",
   "execution_count": 58,
   "id": "8c4052cd",
   "metadata": {},
   "outputs": [
    {
     "data": {
      "image/png": "[encoded data removed]",
      "text/plain": [
       "<Figure size 432x288 with 1 Axes>"
      ]
     },
     "metadata": {
      "needs_background": "light"
     },
     "output_type": "display_data"
    }
   ],
   "source": [
    "import matplotlib.pyplot as plt\n",
    "\n",
    "# An \"interface\" to matplotlib.axes.Axes.hist() method\n",
    "n, bins, patches = plt.hist(x=labels_list)\n",
    "plt.xlabel('Review')\n",
    "plt.ylabel('Frequency')\n",
    "plt.title('Reviews Histogram');"
   ]
  },
  {
   "cell_type": "code",
   "execution_count": 75,
   "id": "bc5a4e1e",
   "metadata": {
    "scrolled": true
   },
   "outputs": [
    {
     "data": {
      "image/png": "[encoded data removed]",
      "text/plain": [
       "<Figure size 432x288 with 1 Axes>"
      ]
     },
     "metadata": {
      "needs_background": "light"
     },
     "output_type": "display_data"
    }
   ],
   "source": [
    "import matplotlib.pyplot as plt\n",
    "\n",
    "# An \"interface\" to matplotlib.axes.Axes.hist() method\n",
    "n, bins, patches = plt.hist(x=binary_labels_list, bins='auto')\n",
    "plt.xticks((0, 1), ['Negative', 'Positive'])\n",
    "plt.xlabel('Review')\n",
    "plt.ylabel('Frequency')\n",
    "plt.title('Reviews Histogram Binarized');"
   ]
  },
  {
   "cell_type": "code",
   "execution_count": 7,
   "id": "5be2183e",
   "metadata": {},
   "outputs": [
    {
     "name": "stdout",
     "output_type": "stream",
     "text": [
      "Size of Train Set (Post-filter): 6250  (no valid split yet)\n",
      "Size of Test  Set (Post-filter): 25000\n"
     ]
    }
   ],
   "source": [
    "# Filtering for size\n",
    "# Starting data samples are positive reviews, and ending data samples are negative reviews\n",
    "# Retrieving a balanced sample of both sentiments\n",
    "full_train_dataset = full_train_dataset[:3125] + full_train_dataset[-3125:]\n",
    "print(\"Size of Train Set (Post-filter):\", len(full_train_dataset), \" (no valid split yet)\")\n",
    "print(\"Size of Test  Set (Post-filter):\", len(test_dataset))"
   ]
  },
  {
   "cell_type": "code",
   "execution_count": 8,
   "id": "dd218249",
   "metadata": {},
   "outputs": [],
   "source": [
    "# Training Dataset Split 40/10\n",
    "# Test Dataset already provided separately\n",
    "from sklearn.model_selection import train_test_split\n",
    "\n",
    "train_dataset, val_dataset = train_test_split(full_train_dataset, test_size=int(0.2*len(full_train_dataset)), random_state=42)"
   ]
  },
  {
   "cell_type": "code",
   "execution_count": 9,
   "id": "2afd567a",
   "metadata": {},
   "outputs": [
    {
     "name": "stdout",
     "output_type": "stream",
     "text": [
      "Size of Train Set: 5000\n",
      "Size of Val   Set: 1250\n",
      "Size of Test  Set: 25000\n"
     ]
    }
   ],
   "source": [
    "# Final Dataset Sizes\n",
    "print(\"Size of Train Set:\", len(train_dataset))\n",
    "print(\"Size of Val   Set:\", len(val_dataset))\n",
    "print(\"Size of Test  Set:\", len(test_dataset))"
   ]
  },
  {
   "cell_type": "code",
   "execution_count": 3,
   "id": "ccaa33dc",
   "metadata": {},
   "outputs": [],
   "source": [
    "w2v = nlp.embedding.Word2Vec()"
   ]
  },
  {
   "cell_type": "code",
   "execution_count": 4,
   "id": "8bcec847",
   "metadata": {},
   "outputs": [
    {
     "data": {
      "text/plain": [
       "['GoogleNews-vectors-negative300',\n",
       " 'freebase-vectors-skipgram1000-en',\n",
       " 'freebase-vectors-skipgram1000']"
      ]
     },
     "execution_count": 4,
     "metadata": {},
     "output_type": "execute_result"
    }
   ],
   "source": [
    "nlp.embedding.list_sources('Word2Vec')"
   ]
  },
  {
   "cell_type": "code",
   "execution_count": 5,
   "id": "c4fbc633",
   "metadata": {
    "scrolled": false
   },
   "outputs": [
    {
     "name": "stdout",
     "output_type": "stream",
     "text": [
      "300\n"
     ]
    }
   ],
   "source": [
    "embed_size = len(w2v[\"man\"])\n",
    "print(embed_size)"
   ]
  },
  {
   "cell_type": "code",
   "execution_count": 10,
   "id": "f613761d",
   "metadata": {},
   "outputs": [],
   "source": [
    "# Each input in a batch, needs to have the same length\n",
    "# We need to apply a batchify function to pad with zeros (if necessary)\n",
    "# On the output, we just stack them together to get a batch-size array\n",
    "batchify_fn = nlp.data.batchify.Tuple(nlp.data.batchify.Pad(axis=1, pad_val=0),\n",
    "                                      nlp.data.batchify.Stack())"
   ]
  },
  {
   "cell_type": "code",
   "execution_count": 11,
   "id": "bf2dcea6",
   "metadata": {},
   "outputs": [],
   "source": [
    "def process_dataset_sample(review, score=None):\n",
    "    # Processing inputs & applying embeddings\n",
    "    processed_review = utils.process_words_basic(utils.clean_text(review))\n",
    "    embeddings = w2v[processed_review].transpose()\n",
    "\n",
    "    # A negative review has a score <= 4\n",
    "    # A positive review has a score >= 7 out of 10\n",
    "    sentiment = None\n",
    "    if score:\n",
    "        sentiment = mx.nd.array(score > 5, dtype='float32', ctx=mx.cpu()).asnumpy()\n",
    "    return embeddings, sentiment"
   ]
  },
  {
   "cell_type": "code",
   "execution_count": 12,
   "id": "2a833307",
   "metadata": {},
   "outputs": [
    {
     "data": {
      "application/vnd.jupyter.widget-view+json": {
       "model_id": "b206f7897cfa41c8a74a6354a1ee006d",
       "version_major": 2,
       "version_minor": 0
      },
      "text/plain": [
       "  0%|          | 0/5000 [00:00<?, ?it/s]"
      ]
     },
     "metadata": {},
     "output_type": "display_data"
    }
   ],
   "source": [
    "# Dataset processing\n",
    "train_set = []\n",
    "for review, score in tqdm(train_dataset):\n",
    "    embeddings, sentiment = process_dataset_sample(review, score)\n",
    "    train_set.append((embeddings, sentiment))"
   ]
  },
  {
   "cell_type": "code",
   "execution_count": 13,
   "id": "4520fd2c",
   "metadata": {},
   "outputs": [
    {
     "data": {
      "application/vnd.jupyter.widget-view+json": {
       "model_id": "25cef7e4e3644181ba2250fb72731aaf",
       "version_major": 2,
       "version_minor": 0
      },
      "text/plain": [
       "  0%|          | 0/1250 [00:00<?, ?it/s]"
      ]
     },
     "metadata": {},
     "output_type": "display_data"
    }
   ],
   "source": [
    "val_set = []\n",
    "for review, score in tqdm(val_dataset):\n",
    "    embeddings, sentiment = process_dataset_sample(review, score)\n",
    "    val_set.append((embeddings, sentiment))"
   ]
  },
  {
   "cell_type": "code",
   "execution_count": 14,
   "id": "dd2f1abd",
   "metadata": {
    "scrolled": false
   },
   "outputs": [
    {
     "name": "stdout",
     "output_type": "stream",
     "text": [
      "(1, 300, 152)\n",
      "Extension horovod.torch has not been built: /home/ubuntu/anaconda3/envs/mxnet_p37/lib/python3.7/site-packages/horovod/torch/mpi_lib/_mpi_lib.cpython-37m-x86_64-linux-gnu.so not found\n",
      "If this is not expected, reinstall Horovod with HOROVOD_WITH_PYTORCH=1 to debug the build error.\n",
      "Warning! MPI libs are missing, but python applications are still avaiable.\n",
      "[2022-08-03 11:51:50.686 ip-172-31-28-47:13518 INFO utils.py:27] RULE_JOB_STOP_SIGNAL_FILENAME: None\n",
      "[2022-08-03 11:51:50.714 ip-172-31-28-47:13518 INFO profiler_config_parser.py:111] Unable to find config at /opt/ml/input/config/profilerconfig.json. Profiler is disabled.\n",
      "--------------------------------------------------------------------------------\n",
      "        Layer (type)                                Output Shape         Param #\n",
      "================================================================================\n",
      "               Input                               (1, 300, 152)               0\n",
      "        Activation-1                     <Symbol conv0_relu_fwd>               0\n",
      "        Activation-2                               (1, 300, 150)               0\n",
      "            Conv1D-3                               (1, 300, 150)          270300\n",
      "   GlobalMaxPool1D-4                                 (1, 300, 1)               0\n",
      "        Activation-5                     <Symbol conv1_relu_fwd>               0\n",
      "        Activation-6                               (1, 300, 149)               0\n",
      "            Conv1D-7                               (1, 300, 149)          360300\n",
      "   GlobalMaxPool1D-8                                 (1, 300, 1)               0\n",
      "        Activation-9                     <Symbol conv2_relu_fwd>               0\n",
      "       Activation-10                               (1, 300, 148)               0\n",
      "           Conv1D-11                               (1, 300, 148)          450300\n",
      "  GlobalMaxPool1D-12                                 (1, 300, 1)               0\n",
      "          Dropout-13                                    (1, 900)               0\n",
      "            Dense-14                                      (1, 1)             901\n",
      "          TextCNN-15                                      (1, 1)               0\n",
      "================================================================================\n",
      "Parameters in forward computation graph, duplicate included\n",
      "   Total params: 1081801\n",
      "   Trainable params: 1081801\n",
      "   Non-trainable params: 0\n",
      "Shared params in forward computation graph: 0\n",
      "Unique parameters in model: 1081801\n",
      "--------------------------------------------------------------------------------\n"
     ]
    }
   ],
   "source": [
    "from importlib import reload\n",
    "reload(textcnn)\n",
    "\n",
    "# CNN with 3 parallel filters\n",
    "text_cnn = textcnn.TextCNN([3, 4, 5], [embed_size, embed_size, embed_size])\n",
    "text_cnn.initialize(mx.init.MSRAPrelu(), ctx)\n",
    "\n",
    "# Formatting single input as expected for the network\n",
    "seq_output, _ = process_dataset_sample(test_dataset[0][0])\n",
    "seq_output_reshaped = mx.nd.array(seq_output, ctx=ctx).expand_dims(axis=0)\n",
    "\n",
    "print(seq_output_reshaped.shape)\n",
    "\n",
    "text_cnn.summary(seq_output_reshaped)"
   ]
  },
  {
   "cell_type": "code",
   "execution_count": 15,
   "id": "c2652a54",
   "metadata": {},
   "outputs": [
    {
     "name": "stdout",
     "output_type": "stream",
     "text": [
      "\n",
      "[[0.12692143]]\n",
      "<NDArray 1x1 @gpu(0)> The review is positive\n"
     ]
    }
   ],
   "source": [
    "review_sentiment = text_cnn(seq_output_reshaped)\n",
    "# We can omit sigmoid processing, outputs of the network\n",
    "# with positive values are positive reviews\n",
    "if review_sentiment >= 0:\n",
    "    print(review_sentiment, \"The review is positive\")\n",
    "else:\n",
    "    print(review_sentiment, \"The review is negative\")"
   ]
  },
  {
   "cell_type": "code",
   "execution_count": 16,
   "id": "ac0e0dd6",
   "metadata": {
    "scrolled": false
   },
   "outputs": [
    {
     "data": {
      "application/vnd.jupyter.widget-view+json": {
       "model_id": "cf3960cc3710434196855e837c06d64b",
       "version_major": 2,
       "version_minor": 0
      },
      "text/plain": [
       "  0%|          | 0/5 [00:00<?, ?it/s]"
      ]
     },
     "metadata": {},
     "output_type": "display_data"
    },
    {
     "data": {
      "application/vnd.jupyter.widget-view+json": {
       "model_id": "4963e2241a3a49d2820ab914116d4861",
       "version_major": 2,
       "version_minor": 0
      },
      "text/plain": [
       "  0%|          | 0/1250 [00:00<?, ?it/s]"
      ]
     },
     "metadata": {},
     "output_type": "display_data"
    },
    {
     "name": "stderr",
     "output_type": "stream",
     "text": [
      "/home/andreto/.local/lib/python3.7/site-packages/gluonnlp/data/batchify/batchify.py:269: UserWarning: Using Pad with NDArrays is discouraged for speed reasons. Instead you should pad your data while it is still a list and before converting to an NDArray. Alternatively you can consider inputting a numpy.ndarray.\n",
      "  'Using Pad with NDArrays is discouraged for speed reasons. '\n"
     ]
    },
    {
     "data": {
      "application/vnd.jupyter.widget-view+json": {
       "model_id": "1dbcc08c7aef4786ad792e14d3657e33",
       "version_major": 2,
       "version_minor": 0
      },
      "text/plain": [
       "  0%|          | 0/312 [00:00<?, ?it/s]"
      ]
     },
     "metadata": {},
     "output_type": "display_data"
    },
    {
     "name": "stdout",
     "output_type": "stream",
     "text": [
      "E:    0, TrL: 0.492171, VL: 0.305282, VAcc: 0.873600 --- Updating saved model\n"
     ]
    },
    {
     "data": {
      "application/vnd.jupyter.widget-view+json": {
       "model_id": "ffb13940eeae4b1784fcb370283b2155",
       "version_major": 2,
       "version_minor": 0
      },
      "text/plain": [
       "  0%|          | 0/1250 [00:00<?, ?it/s]"
      ]
     },
     "metadata": {},
     "output_type": "display_data"
    },
    {
     "data": {
      "application/vnd.jupyter.widget-view+json": {
       "model_id": "e2e36208343249aba68c48403a3a5cee",
       "version_major": 2,
       "version_minor": 0
      },
      "text/plain": [
       "  0%|          | 0/312 [00:00<?, ?it/s]"
      ]
     },
     "metadata": {},
     "output_type": "display_data"
    },
    {
     "name": "stdout",
     "output_type": "stream",
     "text": [
      "E:    1, TrL: 0.313977, VL: 0.282261, VAcc: 0.886400 --- Updating saved model\n"
     ]
    },
    {
     "data": {
      "application/vnd.jupyter.widget-view+json": {
       "model_id": "2e9cd5feb4c442458f243e224931ab2a",
       "version_major": 2,
       "version_minor": 0
      },
      "text/plain": [
       "  0%|          | 0/1250 [00:00<?, ?it/s]"
      ]
     },
     "metadata": {},
     "output_type": "display_data"
    },
    {
     "data": {
      "application/vnd.jupyter.widget-view+json": {
       "model_id": "06ab5eb9b9a440a897834ef947aa3e1e",
       "version_major": 2,
       "version_minor": 0
      },
      "text/plain": [
       "  0%|          | 0/312 [00:00<?, ?it/s]"
      ]
     },
     "metadata": {},
     "output_type": "display_data"
    },
    {
     "name": "stdout",
     "output_type": "stream",
     "text": [
      "E:    2, TrL: 0.221033, VL: 0.375216, VAcc: 0.843200\n"
     ]
    },
    {
     "data": {
      "application/vnd.jupyter.widget-view+json": {
       "model_id": "6bdfe27aee904afc933903a2badd08d8",
       "version_major": 2,
       "version_minor": 0
      },
      "text/plain": [
       "  0%|          | 0/1250 [00:00<?, ?it/s]"
      ]
     },
     "metadata": {},
     "output_type": "display_data"
    },
    {
     "data": {
      "application/vnd.jupyter.widget-view+json": {
       "model_id": "9bb6976d8d9d47b890677970e8be3d6d",
       "version_major": 2,
       "version_minor": 0
      },
      "text/plain": [
       "  0%|          | 0/312 [00:00<?, ?it/s]"
      ]
     },
     "metadata": {},
     "output_type": "display_data"
    },
    {
     "name": "stdout",
     "output_type": "stream",
     "text": [
      "E:    3, TrL: 0.156154, VL: 0.305322, VAcc: 0.873600\n"
     ]
    },
    {
     "data": {
      "application/vnd.jupyter.widget-view+json": {
       "model_id": "32a2f23398154ed4ae6c10950bd31942",
       "version_major": 2,
       "version_minor": 0
      },
      "text/plain": [
       "  0%|          | 0/1250 [00:00<?, ?it/s]"
      ]
     },
     "metadata": {},
     "output_type": "display_data"
    },
    {
     "data": {
      "application/vnd.jupyter.widget-view+json": {
       "model_id": "74b9cdfe459145a689b11b0419a11d01",
       "version_major": 2,
       "version_minor": 0
      },
      "text/plain": [
       "  0%|          | 0/312 [00:00<?, ?it/s]"
      ]
     },
     "metadata": {},
     "output_type": "display_data"
    },
    {
     "name": "stdout",
     "output_type": "stream",
     "text": [
      "E:    4, TrL: 0.097165, VL: 0.257852, VAcc: 0.894400 --- Updating saved model\n"
     ]
    }
   ],
   "source": [
    "epochs = 5\n",
    "batch_size = 4\n",
    "\n",
    "model_file_name = \"w2v_textcnn.params\"\n",
    "\n",
    "loss_fn = mx.gluon.loss.SigmoidBCELoss()\n",
    "trainer = mx.gluon.Trainer(text_cnn.collect_params(), \"adam\", {\"learning_rate\": 0.001})\n",
    "\n",
    "training_loss, validation_loss, validation_acc = text_cnn.train(\n",
    "    loss_fn,\n",
    "    trainer,\n",
    "    epochs,\n",
    "    batch_size,\n",
    "    train_set,\n",
    "    val_set,  \n",
    "    batchify_fn,\n",
    "    ctx,\n",
    "    model_file_name)"
   ]
  },
  {
   "cell_type": "code",
   "execution_count": 17,
   "id": "e34365bd",
   "metadata": {},
   "outputs": [
    {
     "name": "stdout",
     "output_type": "stream",
     "text": [
      "\n",
      "[[2.5862172]]\n",
      "<NDArray 1x1 @gpu(0)> The review is positive\n"
     ]
    }
   ],
   "source": [
    "# Retrieve best model from training\n",
    "text_cnn.load_parameters(model_file_name)\n",
    "\n",
    "review_sentiment = text_cnn(seq_output_reshaped)\n",
    "# We can omit sigmoid processing, outputs of the network\n",
    "# with positive values are positive reviews\n",
    "if review_sentiment >= 0:\n",
    "    print(review_sentiment, \"The review is positive\")\n",
    "else:\n",
    "    print(review_sentiment, \"The review is negative\")"
   ]
  },
  {
   "cell_type": "code",
   "execution_count": 18,
   "id": "76982d4c",
   "metadata": {},
   "outputs": [
    {
     "data": {
      "image/png": "[encoded data removed]",
      "text/plain": [
       "<Figure size 432x288 with 1 Axes>"
      ]
     },
     "metadata": {},
     "output_type": "display_data"
    }
   ],
   "source": [
    "# plot losses and validation accuracy\n",
    "plt.style.use(\"ggplot\")\n",
    "plt.figure()\n",
    "plt.plot(range(0, epochs), validation_loss, label=\"Validation Loss\")\n",
    "plt.plot(range(0, epochs), training_loss, label=\"Training Loss\")\n",
    "plt.plot(range(0, epochs), validation_acc, label=\"Validation Accuracy\")\n",
    "plt.xlabel(\"Epoch\")\n",
    "plt.ylabel(\"Loss\")\n",
    "plt.legend(loc=\"upper right\")\n",
    "plt.title(\"Losses\")\n",
    "plt.show()"
   ]
  },
  {
   "cell_type": "code",
   "execution_count": 19,
   "id": "02292133",
   "metadata": {},
   "outputs": [
    {
     "data": {
      "application/vnd.jupyter.widget-view+json": {
       "model_id": "f96a778f93fa4b91b0b3a8a65ac809af",
       "version_major": 2,
       "version_minor": 0
      },
      "text/plain": [
       "  0%|          | 0/25000 [00:00<?, ?it/s]"
      ]
     },
     "metadata": {},
     "output_type": "display_data"
    }
   ],
   "source": [
    "# Quantitative Evaluation on Test Set\n",
    "test_set = []\n",
    "\n",
    "# Test set size can be limited in not enough memory\n",
    "# It is encouraged to increase this value to the full size of test set (25000 samples)\n",
    "for review, score in tqdm(test_dataset):\n",
    "    embeddings, sentiment = process_dataset_sample(review, score)\n",
    "    test_set.append((embeddings, sentiment))"
   ]
  },
  {
   "cell_type": "code",
   "execution_count": 20,
   "id": "6ae75405",
   "metadata": {},
   "outputs": [],
   "source": [
    "# Processing Test dataset for confussion matrix\n",
    "num_test_batches = int(len(test_set) / batch_size)\n",
    "\n",
    "# Iterator on Test dataset\n",
    "test_data_iterator = mx.gluon.data.DataLoader(\n",
    "    test_set,\n",
    "    batch_size=batch_size,\n",
    "    shuffle=False,\n",
    "    batchify_fn=batchify_fn)"
   ]
  },
  {
   "cell_type": "code",
   "execution_count": 21,
   "id": "98b2fb6b",
   "metadata": {},
   "outputs": [
    {
     "data": {
      "application/vnd.jupyter.widget-view+json": {
       "model_id": "807e098a068e42f2aef57c053d847068",
       "version_major": 2,
       "version_minor": 0
      },
      "text/plain": [
       "  0%|          | 0/6250 [00:00<?, ?it/s]"
      ]
     },
     "metadata": {},
     "output_type": "display_data"
    },
    {
     "name": "stdout",
     "output_type": "stream",
     "text": [
      "Final Test Accuracy: 0.87724\n"
     ]
    }
   ],
   "source": [
    "# Confussion Matrix Computation (Test set)\n",
    "class_outputs = mx.nd.empty(shape=(len(test_set),))\n",
    "labels = mx.nd.empty(shape=(len(test_set),))\n",
    "\n",
    "test_acc = mx.metric.Accuracy()\n",
    "cumulative_test_loss = 0\n",
    "\n",
    "for index, (data, label) in enumerate(tqdm(test_data_iterator, total=num_test_batches)):\n",
    "    \n",
    "    # Add labels for Confussion Matrix\n",
    "    labels[index * batch_size:(index + 1) * batch_size] = label\n",
    "                \n",
    "    # Processing data from data iterator\n",
    "    data = data.as_in_context(ctx)\n",
    "    label = label.as_in_context(ctx)\n",
    "\n",
    "    output = text_cnn(data)\n",
    "    test_loss = loss_fn(output, label)\n",
    "    current_test_loss = mx.nd.mean(test_loss).asscalar()\n",
    "    cumulative_test_loss += current_test_loss / num_test_batches\n",
    "\n",
    "    # Accuracy\n",
    "    # Comparison between  labels and values output\n",
    "    # Applying threshold for binary classification\n",
    "    # No sigmoid necessary as outputs of the network\n",
    "    # with positive values are positive reviews\n",
    "    class_output = (output >= 0).astype(\"uint8\").transpose()\n",
    "    class_outputs[index * batch_size:(index + 1) * batch_size] = class_output\n",
    "    test_acc.update(label, class_output[0])\n",
    "\n",
    "test_acc_value = test_acc.get()[1]\n",
    "print(\"Final Test Accuracy:\", test_acc_value)"
   ]
  },
  {
   "cell_type": "code",
   "execution_count": 22,
   "id": "fb17c0ed",
   "metadata": {},
   "outputs": [
    {
     "data": {
      "text/plain": [
       "<sklearn.metrics._plot.confusion_matrix.ConfusionMatrixDisplay at 0x7f199d01ca10>"
      ]
     },
     "execution_count": 22,
     "metadata": {},
     "output_type": "execute_result"
    },
    {
     "data": {
      "image/png": "[encoded data removed]",
      "text/plain": [
       "<Figure size 432x288 with 2 Axes>"
      ]
     },
     "metadata": {},
     "output_type": "display_data"
    }
   ],
   "source": [
    "# Plot the CM\n",
    "confusion_matrix = sklearn.metrics.confusion_matrix(labels.asnumpy(), class_outputs.asnumpy())\n",
    "disp = sklearn.metrics.ConfusionMatrixDisplay(confusion_matrix)\n",
    "disp.plot()"
   ]
  }
 ],
 "metadata": {
  "kernelspec": {
   "display_name": "Python 3",
   "language": "python",
   "name": "python3"
  },
  "language_info": {
   "codemirror_mode": {
    "name": "ipython",
    "version": 3
   },
   "file_extension": ".py",
   "mimetype": "text/x-python",
   "name": "python",
   "nbconvert_exporter": "python",
   "pygments_lexer": "ipython3",
   "version": "3.7.10"
  }
 },
 "nbformat": 4,
 "nbformat_minor": 5
}
