{
 "cells": [
  {
   "cell_type": "code",
   "execution_count": 1,
   "id": "14d14a53",
   "metadata": {},
   "outputs": [],
   "source": [
    "import mxnet as mx\n",
    "import gluonnlp as nlp\n",
    "\n",
    "ctx = mx.gpu()"
   ]
  },
  {
   "cell_type": "code",
   "execution_count": 2,
   "id": "5cd6ff66",
   "metadata": {},
   "outputs": [],
   "source": [
    "# TextCNN Components\n",
    "# 1D Convolution\n",
    "conv1d = mx.gluon.nn.Conv1D(4, 5, activation='relu')\n",
    "\n",
    "# Max-Over-Time Pooling\n",
    "max_over_time_pooling = mx.gluon.nn.GlobalMaxPool1D()"
   ]
  },
  {
   "cell_type": "code",
   "execution_count": 3,
   "id": "74cd2b4d",
   "metadata": {
    "scrolled": false
   },
   "outputs": [
    {
     "name": "stdout",
     "output_type": "stream",
     "text": [
      "Extension horovod.torch has not been built: /home/ubuntu/anaconda3/envs/mxnet_p37/lib/python3.7/site-packages/horovod/torch/mpi_lib/_mpi_lib.cpython-37m-x86_64-linux-gnu.so not found\n",
      "If this is not expected, reinstall Horovod with HOROVOD_WITH_PYTORCH=1 to debug the build error.\n",
      "Warning! MPI libs are missing, but python applications are still avaiable.\n",
      "[2022-08-05 11:04:54.697 ip-172-31-28-47:21485 INFO utils.py:27] RULE_JOB_STOP_SIGNAL_FILENAME: None\n",
      "[2022-08-05 11:04:54.728 ip-172-31-28-47:21485 INFO profiler_config_parser.py:111] Unable to find config at /opt/ml/input/config/profilerconfig.json. Profiler is disabled.\n",
      "\n",
      "[[[0.38793308 0.5004758  0.6130185  0.72556126 0.838104   0.95064676]\n",
      "  [0.2522667  0.36388856 0.47551042 0.58713233 0.6987542  0.81037605]\n",
      "  [0.12269916 0.14470303 0.16670692 0.18871081 0.21071473 0.23271859]\n",
      "  [0.         0.         0.         0.         0.         0.        ]]]\n",
      "<NDArray 1x4x6 @cpu(0)>\n"
     ]
    }
   ],
   "source": [
    "conv1d.collect_params().initialize()\n",
    "output = conv1d(mx.nd.array([[[1, 2, 3, 4, 5, 6, 7, 8, 9, 10]]]))\n",
    "print(output)"
   ]
  },
  {
   "cell_type": "code",
   "execution_count": 4,
   "id": "0238a732",
   "metadata": {},
   "outputs": [
    {
     "data": {
      "text/plain": [
       "\n",
       "[[[0.95064676]\n",
       "  [0.81037605]\n",
       "  [0.23271859]\n",
       "  [0.        ]]]\n",
       "<NDArray 1x4x1 @cpu(0)>"
      ]
     },
     "execution_count": 4,
     "metadata": {},
     "output_type": "execute_result"
    }
   ],
   "source": [
    "max_over_time_pooling(output)"
   ]
  },
  {
   "cell_type": "code",
   "execution_count": 5,
   "id": "ce859178",
   "metadata": {},
   "outputs": [],
   "source": [
    "# RNNs MXNet Implementation Example\n",
    "class RNNModel(mx.gluon.Block):\n",
    "    \"\"\"\n",
    "    A basic RNN Model\n",
    "    \"\"\"\n",
    "    def __init__(self, num_hidden, num_layers, embed_size, **kwargs):\n",
    "        \n",
    "        super(RNNModel, self).__init__(**kwargs)\n",
    "        \n",
    "        self.rnn = mx.gluon.rnn.RNN(\n",
    "            num_hidden,\n",
    "            num_layers,\n",
    "            input_size=embed_size)\n",
    "        \n",
    "        \n",
    "    def forward(self, inputs, hidden):\n",
    "        output, hidden = self.rnn(inputs, hidden)\n",
    "        return output, hidden"
   ]
  },
  {
   "cell_type": "code",
   "execution_count": 6,
   "id": "a788839a",
   "metadata": {},
   "outputs": [],
   "source": [
    "# RNN with 3 hidden cells, 1 layer and expecting inputs with 20 embeddings\n",
    "rnn = RNNModel(3, 1, 20)\n",
    "rnn.collect_params().initialize(mx.init.Xavier(), ctx=ctx)"
   ]
  },
  {
   "cell_type": "code",
   "execution_count": 7,
   "id": "bf4682df",
   "metadata": {},
   "outputs": [],
   "source": [
    "# Initial Hidden Values\n",
    "hidden_initial = mx.nd.random.randn(1, 1, 3, ctx=ctx)"
   ]
  },
  {
   "cell_type": "code",
   "execution_count": 8,
   "id": "299f8d93",
   "metadata": {},
   "outputs": [],
   "source": [
    "# Inputs generation\n",
    "# Let's input 3 words \n",
    "# Each word is passed through a 20-component embedding model\n",
    "inputs = []\n",
    "\n",
    "# Each word representation\n",
    "inputs.append(mx.nd.random.randn(3, 1, 20, ctx=ctx))\n",
    "inputs.append(mx.nd.random.randn(3, 1, 20, ctx=ctx))\n",
    "inputs.append(mx.nd.random.randn(3, 1, 20, ctx=ctx))"
   ]
  },
  {
   "cell_type": "code",
   "execution_count": 9,
   "id": "bced23a1",
   "metadata": {
    "scrolled": false
   },
   "outputs": [
    {
     "name": "stdout",
     "output_type": "stream",
     "text": [
      "\n",
      "[[[0.         0.         0.08548212]]\n",
      "\n",
      " [[1.1657329  0.40813452 0.18241143]]\n",
      "\n",
      " [[0.         0.         0.        ]]]\n",
      "<NDArray 3x1x3 @gpu(0)> [\n",
      "[[[0. 0. 0.]]]\n",
      "<NDArray 1x1x3 @gpu(0)>]\n"
     ]
    }
   ],
   "source": [
    "rnn_hidden = hidden_initial\n",
    "outputs = []\n",
    "\n",
    "for index in range(3):\n",
    "    rnn_output, rnn_hidden = rnn(inputs[index], rnn_hidden)\n",
    "    outputs.append(rnn_output)\n",
    "\n",
    "print(rnn_output, rnn_hidden)"
   ]
  },
  {
   "cell_type": "code",
   "execution_count": 10,
   "id": "64ff8f0e",
   "metadata": {},
   "outputs": [],
   "source": [
    "# LSTMs MXNet Implementation Example\n",
    "class LSTMModel(mx.gluon.Block):\n",
    "    \"\"\"\n",
    "    A basic LSTM Model\n",
    "    \"\"\"\n",
    "    def __init__(self, num_hidden, num_layers, embed_size, **kwargs):\n",
    "        \n",
    "        super(LSTMModel, self).__init__(**kwargs)\n",
    "        \n",
    "        self.lstm = mx.gluon.rnn.LSTM(\n",
    "            num_hidden,\n",
    "            num_layers,\n",
    "            input_size=embed_size)\n",
    "        \n",
    "        \n",
    "    def forward(self, inputs, hidden):\n",
    "        output, hidden = self.lstm(inputs, hidden)\n",
    "        return output, hidden"
   ]
  },
  {
   "cell_type": "code",
   "execution_count": 11,
   "id": "4e0704b6",
   "metadata": {},
   "outputs": [],
   "source": [
    "# LSTM with 3 hidden cells, 1 layer and expecting inputs with 20 embeddings\n",
    "lstm = LSTMModel(3, 1, 20)\n",
    "lstm.collect_params().initialize(mx.init.Xavier(), ctx=ctx)"
   ]
  },
  {
   "cell_type": "code",
   "execution_count": 12,
   "id": "fd156fd8",
   "metadata": {},
   "outputs": [],
   "source": [
    "# Initial Hidden Values\n",
    "hidden_initial = mx.nd.random.randn(1, 1, 3, ctx=ctx)\n",
    "\n",
    "# Initial State Values\n",
    "state_initial = mx.nd.random.randn(1, 1, 3, ctx=ctx)"
   ]
  },
  {
   "cell_type": "code",
   "execution_count": 13,
   "id": "430f036f",
   "metadata": {},
   "outputs": [
    {
     "name": "stdout",
     "output_type": "stream",
     "text": [
      "\n",
      "[[[-0.10296986 -0.03880391 -0.11327321]]\n",
      "\n",
      " [[-0.31936553  0.08149263 -0.19445275]]\n",
      "\n",
      " [[-0.06096089  0.04764624  0.01065951]]]\n",
      "<NDArray 3x1x3 @gpu(0)> [\n",
      "[[[-0.06096089  0.04764624  0.01065951]]]\n",
      "<NDArray 1x1x3 @gpu(0)>, \n",
      "[[[-0.3053535   0.07585216  0.01485998]]]\n",
      "<NDArray 1x1x3 @gpu(0)>]\n"
     ]
    }
   ],
   "source": [
    "lstm_hidden = [hidden_initial, state_initial]\n",
    "outputs = []\n",
    "\n",
    "for index in range(3):\n",
    "    lstm_output, lstm_hidden = lstm(inputs[index], lstm_hidden)\n",
    "    outputs.append(lstm_output)\n",
    "\n",
    "print(lstm_output, lstm_hidden)"
   ]
  },
  {
   "cell_type": "code",
   "execution_count": 14,
   "id": "7247295e",
   "metadata": {},
   "outputs": [],
   "source": [
    "# Transformers MXNet Implementation Example\n",
    "# Transformer with 6 layers (encoder and decoder), 2 parallel heads, and expecting inputs with 20 embeddings\n",
    "transformer_encoder, transformer_decoder, _ = nlp.model.transformer.get_transformer_encoder_decoder(\n",
    "    num_layers=6,\n",
    "    num_heads=2,\n",
    "    units=20)\n",
    "\n",
    "transformer_encoder.collect_params().initialize(mx.init.Xavier(), ctx=ctx)\n",
    "transformer_decoder.collect_params().initialize(mx.init.Xavier(), ctx=ctx)"
   ]
  },
  {
   "cell_type": "code",
   "execution_count": 15,
   "id": "e039951f",
   "metadata": {},
   "outputs": [
    {
     "name": "stdout",
     "output_type": "stream",
     "text": [
      "\n",
      "[[[-1.8816305  -1.2331309   0.24438679  0.6218342   0.16494197\n",
      "   -1.3730463   0.5399733   0.05484034  0.61006564  0.4691743\n",
      "    2.779219   -0.2504159   1.1693825  -0.9574291   0.15646233\n",
      "   -0.11039922 -0.17834105 -0.9232324  -0.54143316  0.6387784 ]]\n",
      "\n",
      " [[ 1.3105048   0.56982553 -0.3358584  -1.097387    0.70062995\n",
      "   -1.004579   -0.75051713 -0.60301656 -1.3017621  -1.4431249\n",
      "   -0.50571865  0.22127484  1.2398077   0.51822484 -0.19751823\n",
      "    1.5655922  -1.5669955   1.4241285   1.1587926   0.09769692]]\n",
      "\n",
      " [[ 1.0646535   0.13031901 -1.1666297   0.05262218  0.59379524\n",
      "   -0.28079516  0.21707663  0.02480992 -0.4232612   1.5293657\n",
      "   -0.52167237 -1.9738344   2.0619779  -0.26011172 -1.7410742\n",
      "    1.0688411   0.18393981  0.55884945  0.09433853 -1.21321   ]]]\n",
      "<NDArray 3x1x20 @gpu(0)>\n"
     ]
    }
   ],
   "source": [
    "# Only encoder shown\n",
    "encoded_inputs, _ = transformer_encoder(inputs[0])\n",
    "\n",
    "print(encoded_inputs)"
   ]
  }
 ],
 "metadata": {
  "kernelspec": {
   "display_name": "Python 3",
   "language": "python",
   "name": "python3"
  },
  "language_info": {
   "codemirror_mode": {
    "name": "ipython",
    "version": 3
   },
   "file_extension": ".py",
   "mimetype": "text/x-python",
   "name": "python",
   "nbconvert_exporter": "python",
   "pygments_lexer": "ipython3",
   "version": "3.7.10"
  }
 },
 "nbformat": 4,
 "nbformat_minor": 5
}
