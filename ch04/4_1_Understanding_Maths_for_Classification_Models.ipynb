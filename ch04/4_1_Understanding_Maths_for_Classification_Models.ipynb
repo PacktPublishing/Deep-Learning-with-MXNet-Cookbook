{
 "cells": [
  {
   "cell_type": "code",
   "execution_count": 1,
   "metadata": {
    "colab": {
     "base_uri": "https://localhost:8080/"
    },
    "id": "89RkxlCD3Ivz",
    "outputId": "bf447e4e-cd2d-4219-c1e4-c6aeb32b7869"
   },
   "outputs": [],
   "source": [
    "# Run the command below if necessary, for example with Google Colab\n",
    "#!python3 -m pip install mxnet-cu117"
   ]
  },
  {
   "cell_type": "code",
   "execution_count": 2,
   "metadata": {
    "id": "lwPUiNAbTv39"
   },
   "outputs": [],
   "source": [
    "import mxnet as mx\n",
    "import numpy as np\n",
    "import pandas as pd\n",
    "\n",
    "from sklearn import datasets"
   ]
  },
  {
   "cell_type": "code",
   "execution_count": 3,
   "metadata": {
    "id": "0bay_LSqwcBW"
   },
   "outputs": [],
   "source": [
    "# Perceptron Model\n",
    "def perceptron_with_softmax(weights, bias, features):\n",
    "    \n",
    "    output = mx.nd.dot(features, weights) + bias\n",
    "    return mx.nd.SoftmaxActivation(output)"
   ]
  },
  {
   "cell_type": "code",
   "execution_count": 4,
   "metadata": {
    "id": "5oaBcTfbTsDK"
   },
   "outputs": [],
   "source": [
    "# Loading data\n",
    "iris = datasets.load_iris()\n",
    "iris_df = pd.DataFrame(iris.data, columns = iris.feature_names)\n",
    "iris_df.insert(0, \"class\", iris.target)"
   ]
  },
  {
   "cell_type": "code",
   "execution_count": 5,
   "metadata": {
    "colab": {
     "base_uri": "https://localhost:8080/"
    },
    "id": "laSBKHf4aJUk",
    "outputId": "c55e15dc-f485-4faa-b142-5146037a63a0"
   },
   "outputs": [
    {
     "name": "stdout",
     "output_type": "stream",
     "text": [
      "<class 'pandas.core.frame.DataFrame'>\n",
      "RangeIndex: 150 entries, 0 to 149\n",
      "Data columns (total 5 columns):\n",
      " #   Column             Non-Null Count  Dtype  \n",
      "---  ------             --------------  -----  \n",
      " 0   class              150 non-null    int64  \n",
      " 1   sepal length (cm)  150 non-null    float64\n",
      " 2   sepal width (cm)   150 non-null    float64\n",
      " 3   petal length (cm)  150 non-null    float64\n",
      " 4   petal width (cm)   150 non-null    float64\n",
      "dtypes: float64(4), int64(1)\n",
      "memory usage: 6.0 KB\n"
     ]
    }
   ],
   "source": [
    "iris_df.info()"
   ]
  },
  {
   "cell_type": "code",
   "execution_count": 6,
   "metadata": {
    "colab": {
     "base_uri": "https://localhost:8080/",
     "height": 204
    },
    "id": "73O2WSsKbYow",
    "outputId": "7d8a2bc3-54d5-4b50-d553-00a8e5b9d117"
   },
   "outputs": [
    {
     "data": {
      "text/html": [
       "<div>\n",
       "<style scoped>\n",
       "    .dataframe tbody tr th:only-of-type {\n",
       "        vertical-align: middle;\n",
       "    }\n",
       "\n",
       "    .dataframe tbody tr th {\n",
       "        vertical-align: top;\n",
       "    }\n",
       "\n",
       "    .dataframe thead th {\n",
       "        text-align: right;\n",
       "    }\n",
       "</style>\n",
       "<table border=\"1\" class=\"dataframe\">\n",
       "  <thead>\n",
       "    <tr style=\"text-align: right;\">\n",
       "      <th></th>\n",
       "      <th>class</th>\n",
       "      <th>sepal length (cm)</th>\n",
       "      <th>sepal width (cm)</th>\n",
       "      <th>petal length (cm)</th>\n",
       "      <th>petal width (cm)</th>\n",
       "    </tr>\n",
       "  </thead>\n",
       "  <tbody>\n",
       "    <tr>\n",
       "      <th>0</th>\n",
       "      <td>0</td>\n",
       "      <td>5.1</td>\n",
       "      <td>3.5</td>\n",
       "      <td>1.4</td>\n",
       "      <td>0.2</td>\n",
       "    </tr>\n",
       "    <tr>\n",
       "      <th>1</th>\n",
       "      <td>0</td>\n",
       "      <td>4.9</td>\n",
       "      <td>3.0</td>\n",
       "      <td>1.4</td>\n",
       "      <td>0.2</td>\n",
       "    </tr>\n",
       "    <tr>\n",
       "      <th>2</th>\n",
       "      <td>0</td>\n",
       "      <td>4.7</td>\n",
       "      <td>3.2</td>\n",
       "      <td>1.3</td>\n",
       "      <td>0.2</td>\n",
       "    </tr>\n",
       "    <tr>\n",
       "      <th>3</th>\n",
       "      <td>0</td>\n",
       "      <td>4.6</td>\n",
       "      <td>3.1</td>\n",
       "      <td>1.5</td>\n",
       "      <td>0.2</td>\n",
       "    </tr>\n",
       "    <tr>\n",
       "      <th>4</th>\n",
       "      <td>0</td>\n",
       "      <td>5.0</td>\n",
       "      <td>3.6</td>\n",
       "      <td>1.4</td>\n",
       "      <td>0.2</td>\n",
       "    </tr>\n",
       "  </tbody>\n",
       "</table>\n",
       "</div>"
      ],
      "text/plain": [
       "   class  sepal length (cm)  sepal width (cm)  petal length (cm)  \\\n",
       "0      0                5.1               3.5                1.4   \n",
       "1      0                4.9               3.0                1.4   \n",
       "2      0                4.7               3.2                1.3   \n",
       "3      0                4.6               3.1                1.5   \n",
       "4      0                5.0               3.6                1.4   \n",
       "\n",
       "   petal width (cm)  \n",
       "0               0.2  \n",
       "1               0.2  \n",
       "2               0.2  \n",
       "3               0.2  \n",
       "4               0.2  "
      ]
     },
     "execution_count": 6,
     "metadata": {},
     "output_type": "execute_result"
    }
   ],
   "source": [
    "iris_df.head()"
   ]
  },
  {
   "cell_type": "code",
   "execution_count": 7,
   "metadata": {
    "colab": {
     "base_uri": "https://localhost:8080/"
    },
    "id": "NQdFeke0yz7g",
    "outputId": "3464786f-6a18-4bbb-98e1-dfe55876bf45"
   },
   "outputs": [
    {
     "name": "stdout",
     "output_type": "stream",
     "text": [
      "4\n"
     ]
    }
   ],
   "source": [
    "# Number of Features: number of columns of dataframe except output (class)\n",
    "\n",
    "number_of_features = len(iris_df.columns) - 1\n",
    "print(number_of_features)"
   ]
  },
  {
   "cell_type": "code",
   "execution_count": 8,
   "metadata": {
    "id": "_Xs-wgf53v97"
   },
   "outputs": [],
   "source": [
    "# Number of outputs: 3 (different classes)\n",
    "number_of_outputs = 3"
   ]
  },
  {
   "cell_type": "code",
   "execution_count": 9,
   "metadata": {
    "colab": {
     "base_uri": "https://localhost:8080/"
    },
    "id": "aVFO4nsv16ww",
    "outputId": "58407531-28ff-488d-c4a1-2f30ae46eb04"
   },
   "outputs": [
    {
     "name": "stdout",
     "output_type": "stream",
     "text": [
      "Weights:\n",
      "\n",
      "[[ 2.2122064   0.7740038   1.0434403 ]\n",
      " [ 1.1839255   1.8917114  -1.2347414 ]\n",
      " [-1.771029   -0.45138445  0.57938355]\n",
      " [-1.856082   -1.9768796  -0.20801921]]\n",
      "<NDArray 4x3 @cpu(0)>\n",
      "\n",
      "Bias:\n",
      "\n",
      "[ 0.2444218  -0.03716067 -0.48774993]\n",
      "<NDArray 3 @cpu(0)>\n"
     ]
    }
   ],
   "source": [
    "# Model Parameters Definition + Initialization\n",
    "weights = mx.nd.random_normal(shape=(number_of_features, number_of_outputs))\n",
    "bias = mx.nd.random_normal(shape=number_of_outputs)\n",
    "print(\"Weights:\")\n",
    "print(weights)\n",
    "print()\n",
    "print(\"Bias:\")\n",
    "print(bias)"
   ]
  },
  {
   "cell_type": "code",
   "execution_count": 10,
   "metadata": {
    "colab": {
     "base_uri": "https://localhost:8080/"
    },
    "id": "6595mTDU343g",
    "outputId": "4e7dd328-b983-4e31-ae64-40fe18c340f4"
   },
   "outputs": [
    {
     "name": "stdout",
     "output_type": "stream",
     "text": [
      "\n",
      "[5.1 3.5 1.4 0.2]\n",
      "<NDArray 4 @cpu(0)>\n"
     ]
    }
   ],
   "source": [
    "# Input features of an example\n",
    "example_input = mx.nd.array(iris_df.iloc[0].drop(\"class\").to_numpy())\n",
    "print(example_input)"
   ]
  },
  {
   "cell_type": "code",
   "execution_count": 11,
   "metadata": {
    "colab": {
     "base_uri": "https://localhost:8080/"
    },
    "id": "wU-ugJJO4IdD",
    "outputId": "d7e16e7f-5b12-4faa-94e8-0cea43f52c93"
   },
   "outputs": [
    {
     "name": "stdout",
     "output_type": "stream",
     "text": [
      "0\n"
     ]
    }
   ],
   "source": [
    "# Expected output of the example (class)\n",
    "expected_output = int(iris_df.iloc[0][\"class\"])\n",
    "print(expected_output)"
   ]
  },
  {
   "cell_type": "code",
   "execution_count": 12,
   "metadata": {
    "colab": {
     "base_uri": "https://localhost:8080/"
    },
    "id": "0_tlFEFQ5RRs",
    "outputId": "eab9e144-974e-48ad-b93e-e5053c64affd"
   },
   "outputs": [
    {
     "name": "stdout",
     "output_type": "stream",
     "text": [
      "0\n"
     ]
    }
   ],
   "source": [
    "# Calculate the prediction of our model\n",
    "model_output = perceptron_with_softmax(weights, bias, example_input).asnumpy()\n",
    "print(np.argmax(model_output))"
   ]
  }
 ],
 "metadata": {
  "colab": {
   "name": "DL with MXNet Cookbook 3.1 Understanding Maths for Regression Models",
   "provenance": []
  },
  "kernelspec": {
   "display_name": "Python 3 (ipykernel)",
   "language": "python",
   "name": "python3"
  },
  "language_info": {
   "codemirror_mode": {
    "name": "ipython",
    "version": 3
   },
   "file_extension": ".py",
   "mimetype": "text/x-python",
   "name": "python",
   "nbconvert_exporter": "python",
   "pygments_lexer": "ipython3",
   "version": "3.8.18"
  }
 },
 "nbformat": 4,
 "nbformat_minor": 4
}
