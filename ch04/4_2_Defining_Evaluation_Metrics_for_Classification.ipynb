{
 "cells": [
  {
   "cell_type": "code",
   "execution_count": 1,
   "metadata": {
    "id": "2MVPhF4_TOmr"
   },
   "outputs": [],
   "source": [
    "import matplotlib.pyplot as plt\n",
    "import mxnet as mx\n",
    "import numpy as np\n",
    "import pandas as pd\n",
    "\n",
    "from sklearn import datasets, metrics"
   ]
  },
  {
   "cell_type": "code",
   "execution_count": 2,
   "metadata": {
    "id": "laSBKHf4aJUk"
   },
   "outputs": [],
   "source": [
    "# Input Data\n",
    "# Removing value 0 as this will yield an exception\n",
    "y_pred = np.arange(0.01, 1, 0.01)"
   ]
  },
  {
   "cell_type": "code",
   "execution_count": 3,
   "metadata": {
    "id": "2LofYYgkxon4"
   },
   "outputs": [],
   "source": [
    "# Binary Cross Entropy\n",
    "def BCE(y_pred, y_true):\n",
    "    return -(y_true * np.log(y_pred) + (1 - y_true) * np.log(1 - y_pred))"
   ]
  },
  {
   "cell_type": "code",
   "execution_count": 4,
   "metadata": {},
   "outputs": [],
   "source": [
    "loss = BCE(y_pred, 1)"
   ]
  },
  {
   "cell_type": "code",
   "execution_count": 5,
   "metadata": {
    "colab": {
     "base_uri": "https://localhost:8080/",
     "height": 279
    },
    "id": "2yAtt49vK2C_",
    "outputId": "18a55b03-b672-45e7-e72d-e17b3b3e6217"
   },
   "outputs": [
    {
     "data": {
      "image/png": "[encoded data removed]",
      "text/plain": [
       "<Figure size 432x288 with 1 Axes>"
      ]
     },
     "metadata": {
      "needs_background": "light"
     },
     "output_type": "display_data"
    }
   ],
   "source": [
    "plt.plot(y_pred, loss)\n",
    "plt.title(\"Binary Cross Entropy Loss\")\n",
    "plt.xlabel(\"Predicted Probability\")\n",
    "plt.ylabel(\"Loss\")\n",
    "plt.show()"
   ]
  },
  {
   "cell_type": "code",
   "execution_count": 6,
   "metadata": {
    "id": "lsYmXVb6KQoy"
   },
   "outputs": [],
   "source": [
    "# Loading Iris dataset\n",
    "iris = datasets.load_iris()\n",
    "iris_df = pd.DataFrame(iris.data, columns = iris.feature_names)\n",
    "iris_df.insert(0, \"class\", iris.target)"
   ]
  },
  {
   "cell_type": "code",
   "execution_count": 7,
   "metadata": {},
   "outputs": [
    {
     "name": "stdout",
     "output_type": "stream",
     "text": [
      "Weights:\n",
      "\n",
      "[[ 2.2122064   0.7740038   1.0434403 ]\n",
      " [ 1.1839255   1.8917114  -1.2347414 ]\n",
      " [-1.771029   -0.45138445  0.57938355]\n",
      " [-1.856082   -1.9768796  -0.20801921]]\n",
      "<NDArray 4x3 @cpu(0)>\n",
      "\n",
      "Bias:\n",
      "\n",
      "[ 0.2444218  -0.03716067 -0.48774993]\n",
      "<NDArray 3 @cpu(0)>\n"
     ]
    }
   ],
   "source": [
    "# Model Parameters Definition + Initialization\n",
    "number_of_features = 4\n",
    "number_of_outputs = 3\n",
    "\n",
    "weights = mx.nd.random_normal(shape=(number_of_features, number_of_outputs))\n",
    "bias = mx.nd.random_normal(shape=number_of_outputs)\n",
    "print(\"Weights:\")\n",
    "print(weights)\n",
    "print()\n",
    "print(\"Bias:\")\n",
    "print(bias)"
   ]
  },
  {
   "cell_type": "code",
   "execution_count": 8,
   "metadata": {},
   "outputs": [],
   "source": [
    "# Perceptron Model\n",
    "def perceptron_with_softmax(weights, bias, features):\n",
    "    \n",
    "    output = mx.nd.dot(features, weights) + bias\n",
    "    return mx.nd.SoftmaxActivation(output)"
   ]
  },
  {
   "cell_type": "code",
   "execution_count": 9,
   "metadata": {},
   "outputs": [],
   "source": [
    "# Calculate outputs\n",
    "features = mx.nd.array(iris_df.drop([\"class\"], axis=1).to_numpy())\n",
    "preds = perceptron_with_softmax(weights, bias, features).asnumpy()\n",
    "max_preds = np.argmax(preds, axis=1)"
   ]
  },
  {
   "cell_type": "code",
   "execution_count": 10,
   "metadata": {},
   "outputs": [],
   "source": [
    "# Groundtruth\n",
    "expected_outputs = iris_df[\"class\"].to_numpy()"
   ]
  },
  {
   "cell_type": "code",
   "execution_count": 11,
   "metadata": {},
   "outputs": [
    {
     "data": {
      "text/plain": [
       "<sklearn.metrics._plot.confusion_matrix.ConfusionMatrixDisplay at 0x7f9fc08a63a0>"
      ]
     },
     "execution_count": 11,
     "metadata": {},
     "output_type": "execute_result"
    },
    {
     "data": {
      "image/png": "[encoded data removed]",
      "text/plain": [
       "<Figure size 432x288 with 2 Axes>"
      ]
     },
     "metadata": {
      "needs_background": "light"
     },
     "output_type": "display_data"
    }
   ],
   "source": [
    "confusion_matrix = metrics.confusion_matrix(expected_outputs, max_preds)\n",
    "disp = metrics.ConfusionMatrixDisplay(confusion_matrix)\n",
    "disp.plot()"
   ]
  },
  {
   "cell_type": "code",
   "execution_count": 12,
   "metadata": {
    "scrolled": false
   },
   "outputs": [
    {
     "name": "stdout",
     "output_type": "stream",
     "text": [
      "Accuracy   : 0.5933333333333334\n",
      "Precision  : 0.4765151515151515\n",
      "Recall     : 0.5933333333333334\n",
      "F1-score   : 0.49722222222222223\n"
     ]
    },
    {
     "name": "stderr",
     "output_type": "stream",
     "text": [
      "/home/andres/.local/lib/python3.8/site-packages/sklearn/metrics/_classification.py:1248: UndefinedMetricWarning: Precision is ill-defined and being set to 0.0 in labels with no predicted samples. Use `zero_division` parameter to control this behavior.\n",
      "  _warn_prf(average, modifier, msg_start, len(result))\n"
     ]
    }
   ],
   "source": [
    "accuracy = metrics.accuracy_score(expected_outputs, max_preds)\n",
    "precision = metrics.precision_score(expected_outputs, max_preds, average=\"macro\")\n",
    "recall = metrics.recall_score(expected_outputs, max_preds, average=\"macro\")\n",
    "f1_score = metrics.f1_score(expected_outputs, max_preds, average=\"macro\")\n",
    "\n",
    "print(\"Accuracy   :\", accuracy)\n",
    "print(\"Precision  :\", precision)\n",
    "print(\"Recall     :\", recall)\n",
    "print(\"F1-score   :\", f1_score)"
   ]
  }
 ],
 "metadata": {
  "colab": {
   "name": "DL with MXNet Cookbook 3.2 Defining Evaluation Metrics for Regression",
   "provenance": []
  },
  "kernelspec": {
   "display_name": "Python 3 (ipykernel)",
   "language": "python",
   "name": "python3"
  },
  "language_info": {
   "codemirror_mode": {
    "name": "ipython",
    "version": 3
   },
   "file_extension": ".py",
   "mimetype": "text/x-python",
   "name": "python",
   "nbconvert_exporter": "python",
   "pygments_lexer": "ipython3",
   "version": "3.8.10"
  }
 },
 "nbformat": 4,
 "nbformat_minor": 1
}
