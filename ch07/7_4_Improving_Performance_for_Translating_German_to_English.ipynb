{
 "cells": [
  {
   "cell_type": "code",
   "execution_count": 131,
   "id": "fbbe216b",
   "metadata": {},
   "outputs": [],
   "source": [
    "import mxnet as mx\n",
    "import gluonnlp as nlp\n",
    "\n",
    "import matplotlib.pyplot as plt\n",
    "import numpy as np\n",
    "import os\n",
    "import random\n",
    "import sacremoses\n",
    "import time\n",
    "from tqdm.notebook import tqdm\n",
    "import io\n",
    "from importlib import reload\n",
    "\n",
    "# Local Libraries\n",
    "import nmt\n",
    "import dataprocessor\n",
    "import utils\n",
    "import nmt.transformer_hparams\n",
    "import transformer_model\n",
    "\n",
    "# Hyperparameters for Dataloaders and Training\n",
    "hparams = nmt.transformer_hparams\n",
    "\n",
    "# Seeds for reproducibility\n",
    "np.random.seed(100)\n",
    "random.seed(100)\n",
    "mx.random.seed(100)\n",
    "\n",
    "# CPU setup\n",
    "# ctx = mx.cpu()\n",
    "# Single GPU setup\n",
    "ctx = mx.gpu(0)"
   ]
  },
  {
   "cell_type": "code",
   "execution_count": 192,
   "id": "4bac926f",
   "metadata": {},
   "outputs": [],
   "source": [
    "# WMT2016 Dataset\n",
    "src_lang, tgt_lang = \"en\", \"de\"\n",
    "\n",
    "wmt2016_train_data = nlp.data.WMT2016BPE(\n",
    "    'train',\n",
    "    src_lang=src_lang,\n",
    "    tgt_lang=tgt_lang)\n",
    "\n",
    "wmt2016_val_data = nlp.data.WMT2016BPE(\n",
    "    'newstest2016',\n",
    "    src_lang=src_lang,\n",
    "    tgt_lang=tgt_lang)\n",
    "\n",
    "wmt2016_test_data = nlp.data.WMT2016BPE(\n",
    "    'newstest2016',\n",
    "    src_lang=src_lang,\n",
    "    tgt_lang=tgt_lang)\n",
    "\n",
    "# Text sentences for evaluation\n",
    "wmt2016_val_text = nlp.data.WMT2016(\n",
    "    'newstest2016',\n",
    "    src_lang=src_lang,\n",
    "    tgt_lang=tgt_lang)\n",
    "\n",
    "wmt2016_test_text = nlp.data.WMT2016(\n",
    "    'newstest2016',\n",
    "    src_lang=src_lang,\n",
    "    tgt_lang=tgt_lang)\n",
    "\n",
    "src_max_len, tgt_max_len = 50, 50"
   ]
  },
  {
   "cell_type": "code",
   "execution_count": 194,
   "id": "500344a4-8ace-4e3d-b6d1-f4c97af56e72",
   "metadata": {},
   "outputs": [],
   "source": [
    "# Train data test\n",
    "# train_length = 500000\n",
    "# wmt2016_train_data._data[0] = wmt2016_train_data._data[0][:train_length]\n",
    "# wmt2016_train_data._data[1] = wmt2016_train_data._data[1][:train_length]\n",
    "# wmt2016_train_data._length = train_length\n",
    "\n",
    "# Split Val / Test sets\n",
    "val_length = 1500\n",
    "test_length = len(wmt2016_test_text) - val_length\n",
    "\n",
    "wmt2016_val_data._data[0] = wmt2016_val_data._data[0][:val_length]\n",
    "wmt2016_val_data._data[1] = wmt2016_val_data._data[1][:val_length]\n",
    "wmt2016_val_data._length = val_length\n",
    "\n",
    "wmt2016_val_text._data[0] = wmt2016_val_text._data[0][:val_length]\n",
    "wmt2016_val_text._data[1] = wmt2016_val_text._data[1][:val_length]\n",
    "wmt2016_val_text._length = val_length\n",
    "\n",
    "wmt2016_test_data._data[0] = wmt2016_test_data._data[0][-test_length:]\n",
    "wmt2016_test_data._data[1] = wmt2016_test_data._data[1][-test_length:]\n",
    "wmt2016_test_data._length = test_length\n",
    "\n",
    "wmt2016_test_text._data[0] = wmt2016_test_text._data[0][-test_length:]\n",
    "wmt2016_test_text._data[1] = wmt2016_test_text._data[1][-test_length:]\n",
    "wmt2016_test_text._length = test_length"
   ]
  },
  {
   "cell_type": "code",
   "execution_count": 195,
   "id": "cb80c139-c06f-4bd6-9f4c-0060318c8aad",
   "metadata": {},
   "outputs": [
    {
     "name": "stdout",
     "output_type": "stream",
     "text": [
      "Length of train set: 4500966\n",
      "Length of val set  : 1500\n",
      "Length of test set : 1499\n"
     ]
    }
   ],
   "source": [
    "print(\"Length of train set:\", len(wmt2016_train_data))\n",
    "print(\"Length of val set  :\", len(wmt2016_val_data))\n",
    "print(\"Length of test set :\", len(wmt2016_test_data))"
   ]
  },
  {
   "cell_type": "code",
   "execution_count": 145,
   "id": "7c67cb55-b438-477d-87e8-e0dbd1112693",
   "metadata": {},
   "outputs": [],
   "source": [
    "wmt2016_val_tgt_sentences = wmt2016_val_text.transform(lambda src, tgt: tgt)\n",
    "wmt2016_test_tgt_sentences = wmt2016_test_text.transform(lambda src, tgt: tgt)"
   ]
  },
  {
   "cell_type": "code",
   "execution_count": 146,
   "id": "b8edbae8-7bfb-44f9-ab60-69c97abc0d3d",
   "metadata": {},
   "outputs": [
    {
     "name": "stderr",
     "output_type": "stream",
     "text": [
      "/home/andreto/.local/lib/python3.8/site-packages/gluonnlp/vocab/vocab.py:590: UserWarning: Detected a corrupted index in the deserialize vocabulary. For versions before GluonNLP v0.7 the index is corrupted by specifying the same token for different special purposes, for example eos_token == padding_token. Deserializing the vocabulary nevertheless.\n",
      "  warnings.warn(\n"
     ]
    }
   ],
   "source": [
    "reload(transformer_model)\n",
    "\n",
    "# For vocab\n",
    "wmt_model_name = \"transformer_en_de_512\"\n",
    "_, wmt_src_vocab, wmt_tgt_vocab = nlp.model.get_model(\n",
    "    wmt_model_name,\n",
    "    dataset_name='WMT2014',\n",
    "    pretrained=True,\n",
    "    ctx=ctx)\n",
    "\n",
    "# Pre-processing WMT2016 with WMT2016 vocab\n",
    "# Training from scratch\n",
    "wmt_transform_fn = dataprocessor.TrainValDataTransform(\n",
    "    # wmt2016_train_data.src_vocab,\n",
    "    # wmt2016_train_data.tgt_vocab,\n",
    "    wmt_src_vocab,\n",
    "    wmt_tgt_vocab,\n",
    "    src_max_len,\n",
    "    tgt_max_len)\n",
    "\n",
    "wmt2016_train_data_processed = wmt2016_train_data.transform(\n",
    "    wmt_transform_fn,\n",
    "    lazy=False)\n",
    "\n",
    "wmt2016_val_data_processed = wmt2016_val_data.transform(\n",
    "    wmt_transform_fn,\n",
    "    lazy=False)\n",
    "\n",
    "wmt2016_test_data_processed = wmt2016_test_data.transform(\n",
    "    wmt_transform_fn,\n",
    "    lazy=False)\n",
    "\n",
    "wmt2016_train_data_lengths = transformer_model.get_data_lengths(wmt2016_train_data_processed)\n",
    "wmt2016_val_data_lengths = transformer_model.get_data_lengths(wmt2016_val_data_processed)\n",
    "wmt2016_test_data_lengths = transformer_model.get_data_lengths(wmt2016_test_data_processed)"
   ]
  },
  {
   "cell_type": "code",
   "execution_count": 147,
   "id": "36ebe766-9cbc-4142-8588-4cf49f466151",
   "metadata": {},
   "outputs": [],
   "source": [
    "# Add Lengths to the datasets and indexes for validation and test\n",
    "wmt2016_train_data_len_processed = wmt2016_train_data_processed.transform(lambda src, tgt: (src, tgt, len(src), len(tgt)), lazy=False)\n",
    "wmt2016_val_data_len_processed = wmt2016_val_data_processed.transform(transformer_model.get_length_index_fn(), lazy=False)\n",
    "wmt2016_test_data_len_processed = wmt2016_test_data_processed.transform(transformer_model.get_length_index_fn(), lazy=False)"
   ]
  },
  {
   "cell_type": "code",
   "execution_count": 148,
   "id": "f919699d-54b0-4dd8-9c9d-a9819b2679dd",
   "metadata": {},
   "outputs": [],
   "source": [
    "train_batchify_fn = nlp.data.batchify.Tuple(\n",
    "    nlp.data.batchify.Pad(pad_val=0),\n",
    "    nlp.data.batchify.Pad(pad_val=0),\n",
    "    nlp.data.batchify.Stack(dtype='float32'),\n",
    "    nlp.data.batchify.Stack(dtype='float32'))\n",
    "\n",
    "val_batchify_fn = nlp.data.batchify.Tuple(\n",
    "    nlp.data.batchify.Pad(pad_val=0),\n",
    "    nlp.data.batchify.Pad(pad_val=0),\n",
    "    nlp.data.batchify.Stack(dtype='float32'),\n",
    "    nlp.data.batchify.Stack(dtype='float32'),\n",
    "    nlp.data.batchify.Stack())"
   ]
  },
  {
   "cell_type": "code",
   "execution_count": 149,
   "id": "5c666c79-233b-4827-a643-d1a008d15366",
   "metadata": {},
   "outputs": [
    {
     "name": "stdout",
     "output_type": "stream",
     "text": [
      "FixedBucketSampler:\n",
      "  sample_num=1500, batch_num=226\n",
      "  key=[(9, 10), (16, 18), (26, 27), (37, 39), (51, 52)]\n",
      "  cnt=[63, 236, 362, 363, 476]\n",
      "  batch_size=[27, 16, 10, 7, 4]\n",
      "FixedBucketSampler:\n",
      "  sample_num=150, batch_num=22\n",
      "  key=[(12, 14), (19, 21), (28, 30), (38, 40), (51, 52)]\n",
      "  cnt=[27, 29, 28, 24, 42]\n",
      "  batch_size=[20, 13, 9, 7, 5]\n",
      "FixedBucketSampler:\n",
      "  sample_num=2849, batch_num=350\n",
      "  key=[(10, 11), (18, 19), (27, 28), (38, 39), (51, 52)]\n",
      "  cnt=[142, 659, 751, 634, 663]\n",
      "  batch_size=[25, 15, 10, 7, 5]\n"
     ]
    }
   ],
   "source": [
    "reload(transformer_model)\n",
    "\n",
    "bucket_scheme = nlp.data.ExpWidthBucket(bucket_len_step=1.2)\n",
    "\n",
    "wmt2016_train_batch_sampler = nlp.data.FixedBucketSampler(\n",
    "    lengths=wmt2016_train_data_lengths,\n",
    "    use_average_length=True, # control the element lengths (i.e. number of tokens) to be about the same\n",
    "    num_buckets=hparams.num_buckets,\n",
    "    bucket_scheme=bucket_scheme,\n",
    "    batch_size=hparams.batch_size,\n",
    "    shuffle=True)\n",
    "print(wmt2016_train_batch_sampler.stats())\n",
    "\n",
    "wmt2016_val_batch_sampler = nlp.data.FixedBucketSampler(\n",
    "    lengths=wmt2016_val_data_lengths,\n",
    "    use_average_length=True, # control the element lengths (i.e. number of tokens) to be about the same\n",
    "    num_buckets=hparams.num_buckets,\n",
    "    bucket_scheme=bucket_scheme,\n",
    "    batch_size=hparams.batch_size,\n",
    "    shuffle=False)\n",
    "print(wmt2016_val_batch_sampler.stats())\n",
    "\n",
    "wmt2016_test_batch_sampler = nlp.data.FixedBucketSampler(\n",
    "    lengths=wmt2016_test_data_lengths,\n",
    "    use_average_length=True, # control the element lengths (i.e. number of tokens) to be about the same\n",
    "    num_buckets=hparams.num_buckets,\n",
    "    bucket_scheme=bucket_scheme,\n",
    "    batch_size=hparams.batch_size,\n",
    "    shuffle=False)\n",
    "print(wmt2016_test_batch_sampler.stats())"
   ]
  },
  {
   "cell_type": "code",
   "execution_count": 150,
   "id": "9bb189ba-5bc7-4229-b02b-65c979faede0",
   "metadata": {},
   "outputs": [],
   "source": [
    "num_workers = 0\n",
    "\n",
    "wmt2016_train_data_loader = nlp.data.ShardedDataLoader(\n",
    "    wmt2016_train_data_len_processed,\n",
    "    batch_sampler=wmt2016_train_batch_sampler,\n",
    "    batchify_fn=train_batchify_fn,\n",
    "    num_workers=num_workers)\n",
    "\n",
    "wmt2016_val_data_loader = nlp.data.ShardedDataLoader(\n",
    "    wmt2016_val_data_len_processed,\n",
    "    batch_sampler=wmt2016_val_batch_sampler,\n",
    "    batchify_fn=val_batchify_fn,\n",
    "    num_workers=num_workers,\n",
    "    shuffle=False)\n",
    "\n",
    "wmt2016_test_data_loader = nlp.data.ShardedDataLoader(\n",
    "    wmt2016_test_data_len_processed,\n",
    "    batch_sampler=wmt2016_test_batch_sampler,\n",
    "    batchify_fn=val_batchify_fn,\n",
    "    num_workers=num_workers,\n",
    "    shuffle=False)"
   ]
  },
  {
   "cell_type": "markdown",
   "id": "772d144e-0fa0-4f42-a0b0-bd0a406485da",
   "metadata": {},
   "source": [
    "## Training from scratch"
   ]
  },
  {
   "cell_type": "code",
   "execution_count": 151,
   "id": "e49ea268-e6fc-4dea-9d3a-051bee2f7888",
   "metadata": {},
   "outputs": [],
   "source": [
    "# Updates for this recipe\n",
    "reload(nmt)\n",
    "hparams = nmt.transformer_hparams\n",
    "\n",
    "hparams.num_hidden = 512\n",
    "# hparams.num_layers = 4\n",
    "# hparams.dropout = 0.2\n",
    "# hparams.num_buckets = 5\n",
    "hparams.lr = 0.0001\n",
    "#hparams.lr = 0.0001\n",
    "#hparams.lr = 0.0003 achieves 21.44 test_bleu: qualitative evaluation didn't work\n",
    "#hparams.lr = 0.0001 achieves 19.66 test_bleu: qualitative evaluation worked\n",
    "# hparams.clip = 5\n",
    "# hparams.epochs = 12\n",
    "# hparams.beam_size = 10\n",
    "# hparams.lp_alpha = 1.0\n",
    "# hparams.lp_k = 5\n",
    "\n",
    "# hparams.max_length = 150\n",
    "# hparams.batch_size = 256\n",
    "\n",
    "hparams.epochs = 10\n",
    "hparams.log_interval = 100"
   ]
  },
  {
   "cell_type": "code",
   "execution_count": 154,
   "id": "6433aa65",
   "metadata": {},
   "outputs": [],
   "source": [
    "# Transformer Model\n",
    "transformer_encoder, transformer_decoder, transformer_one_step_ahead_decoder = nlp.model.transformer.get_transformer_encoder_decoder(\n",
    "    hidden_size=hparams.num_hidden,\n",
    "    dropout=hparams.dropout,\n",
    "    num_layers=hparams.num_layers)\n",
    "\n",
    "transformer_model_ts = nlp.model.translation.NMTModel(\n",
    "    src_vocab=wmt2016_train_data.src_vocab,\n",
    "    tgt_vocab=wmt2016_train_data.tgt_vocab,\n",
    "    # src_vocab=wmt_src_vocab,\n",
    "    # tgt_vocab=wmt_tgt_vocab,\n",
    "    encoder=transformer_encoder,\n",
    "    decoder=transformer_decoder,\n",
    "    one_step_ahead_decoder=transformer_one_step_ahead_decoder,\n",
    "    #embed_size=hparams.num_hidden,\n",
    "    embed_size=hparams.num_units,\n",
    "    prefix='transformer_')\n",
    "\n",
    "transformer_model_ts.initialize(init=mx.init.Xavier(magnitude=1.0), ctx=ctx)\n",
    "transformer_model_ts.hybridize(static_alloc=True)\n",
    "\n",
    "# Translator (using model defined above)\n",
    "transformer_ts_translator = nmt.translation.BeamSearchTranslator(\n",
    "    model=transformer_model_ts,\n",
    "    beam_size=hparams.beam_size,\n",
    "    scorer=nlp.model.BeamSearchScorer(\n",
    "        alpha=hparams.lp_alpha,\n",
    "        K=hparams.lp_k),\n",
    "    # max_length=150)\n",
    "    max_length=200)\n",
    "\n",
    "loss_function = nlp.loss.MaskedSoftmaxCELoss()\n",
    "loss_function.hybridize(static_alloc=True)\n",
    "\n",
    "wmt_detokenizer = nlp.data.SacreMosesDetokenizer()\n",
    "\n",
    "model_filename_ts = \"transformer_en_de_512_ts.params\""
   ]
  },
  {
   "cell_type": "code",
   "execution_count": 155,
   "id": "a7362d1d-7876-4722-ac50-8c5e19068291",
   "metadata": {},
   "outputs": [
    {
     "data": {
      "application/vnd.jupyter.widget-view+json": {
       "model_id": "844ba3146c984f2d8bacfaf8a91da936",
       "version_major": 2,
       "version_minor": 0
      },
      "text/plain": [
       "  0%|          | 0/10 [00:00<?, ?it/s]"
      ]
     },
     "metadata": {},
     "output_type": "display_data"
    },
    {
     "data": {
      "application/vnd.jupyter.widget-view+json": {
       "model_id": "2248822df7ac40ff970dd53b288b85c9",
       "version_major": 2,
       "version_minor": 0
      },
      "text/plain": [
       "  0%|          | 0/226 [00:00<?, ?it/s]"
      ]
     },
     "metadata": {},
     "output_type": "display_data"
    },
    {
     "name": "stdout",
     "output_type": "stream",
     "text": [
      "[Epoch 0 Batch 100/226] loss=8.4977, ppl=4903.3550, gnorm=2.4728, throughput=8.15K wps, wc=37.81K\n",
      "[Epoch 0 Batch 200/226] loss=7.1909, ppl=1327.2642, gnorm=1.8666, throughput=9.09K wps, wc=38.11K\n"
     ]
    },
    {
     "data": {
      "application/vnd.jupyter.widget-view+json": {
       "model_id": "1acba9958f5344d2b16f059985a610e6",
       "version_major": 2,
       "version_minor": 0
      },
      "text/plain": [
       "  0%|          | 0/226 [00:00<?, ?it/s]"
      ]
     },
     "metadata": {},
     "output_type": "display_data"
    },
    {
     "name": "stdout",
     "output_type": "stream",
     "text": [
      "[Epoch 1 Batch 100/226] loss=6.5821, ppl=722.0419, gnorm=1.8682, throughput=8.76K wps, wc=37.96K\n",
      "[Epoch 1 Batch 200/226] loss=6.4652, ppl=642.4189, gnorm=1.8462, throughput=8.91K wps, wc=38.07K\n"
     ]
    },
    {
     "data": {
      "application/vnd.jupyter.widget-view+json": {
       "model_id": "d3bc8d8f8e2b40c2a7291234dd54debf",
       "version_major": 2,
       "version_minor": 0
      },
      "text/plain": [
       "  0%|          | 0/226 [00:00<?, ?it/s]"
      ]
     },
     "metadata": {},
     "output_type": "display_data"
    },
    {
     "name": "stdout",
     "output_type": "stream",
     "text": [
      "[Epoch 2 Batch 100/226] loss=6.1089, ppl=449.8357, gnorm=1.8867, throughput=8.74K wps, wc=37.67K\n",
      "[Epoch 2 Batch 200/226] loss=5.9710, ppl=391.9001, gnorm=1.9454, throughput=8.55K wps, wc=38.07K\n"
     ]
    },
    {
     "data": {
      "application/vnd.jupyter.widget-view+json": {
       "model_id": "5be75a7ab9b04e0b8957adb609b4eab4",
       "version_major": 2,
       "version_minor": 0
      },
      "text/plain": [
       "  0%|          | 0/226 [00:00<?, ?it/s]"
      ]
     },
     "metadata": {},
     "output_type": "display_data"
    },
    {
     "name": "stdout",
     "output_type": "stream",
     "text": [
      "[Epoch 3 Batch 100/226] loss=5.6792, ppl=292.7240, gnorm=2.0004, throughput=9.11K wps, wc=38.30K\n",
      "[Epoch 3 Batch 200/226] loss=5.6309, ppl=278.9216, gnorm=2.0285, throughput=8.86K wps, wc=38.06K\n"
     ]
    },
    {
     "data": {
      "application/vnd.jupyter.widget-view+json": {
       "model_id": "1b347d3bf81d4420bd351441d2a1baa3",
       "version_major": 2,
       "version_minor": 0
      },
      "text/plain": [
       "  0%|          | 0/226 [00:00<?, ?it/s]"
      ]
     },
     "metadata": {},
     "output_type": "display_data"
    },
    {
     "name": "stdout",
     "output_type": "stream",
     "text": [
      "[Epoch 4 Batch 100/226] loss=5.3394, ppl=208.3903, gnorm=2.0630, throughput=8.98K wps, wc=38.10K\n",
      "[Epoch 4 Batch 200/226] loss=5.2548, ppl=191.4915, gnorm=2.1968, throughput=8.93K wps, wc=37.57K\n"
     ]
    },
    {
     "data": {
      "application/vnd.jupyter.widget-view+json": {
       "model_id": "0e7e5ae0f3144c5091d2c3407fe77898",
       "version_major": 2,
       "version_minor": 0
      },
      "text/plain": [
       "  0%|          | 0/226 [00:00<?, ?it/s]"
      ]
     },
     "metadata": {},
     "output_type": "display_data"
    },
    {
     "name": "stdout",
     "output_type": "stream",
     "text": [
      "[Epoch 5 Batch 100/226] loss=5.0007, ppl=148.5223, gnorm=2.2029, throughput=8.81K wps, wc=37.73K\n",
      "[Epoch 5 Batch 200/226] loss=4.9333, ppl=138.8388, gnorm=2.2370, throughput=9.04K wps, wc=37.97K\n"
     ]
    },
    {
     "data": {
      "application/vnd.jupyter.widget-view+json": {
       "model_id": "c8248d6f400f4ae5b4607d162072c9b1",
       "version_major": 2,
       "version_minor": 0
      },
      "text/plain": [
       "  0%|          | 0/226 [00:00<?, ?it/s]"
      ]
     },
     "metadata": {},
     "output_type": "display_data"
    },
    {
     "name": "stdout",
     "output_type": "stream",
     "text": [
      "[Epoch 6 Batch 100/226] loss=4.6335, ppl=102.8709, gnorm=2.2654, throughput=8.86K wps, wc=38.11K\n",
      "[Epoch 6 Batch 200/226] loss=4.6623, ppl=105.8757, gnorm=2.3430, throughput=8.92K wps, wc=37.98K\n"
     ]
    },
    {
     "data": {
      "application/vnd.jupyter.widget-view+json": {
       "model_id": "535144604bb147529a8c9600b62624b6",
       "version_major": 2,
       "version_minor": 0
      },
      "text/plain": [
       "  0%|          | 0/226 [00:00<?, ?it/s]"
      ]
     },
     "metadata": {},
     "output_type": "display_data"
    },
    {
     "name": "stdout",
     "output_type": "stream",
     "text": [
      "[Epoch 7 Batch 100/226] loss=4.3719, ppl=79.1938, gnorm=2.3566, throughput=8.79K wps, wc=38.07K\n",
      "[Epoch 7 Batch 200/226] loss=4.3558, ppl=77.9258, gnorm=2.4839, throughput=8.89K wps, wc=38.04K\n"
     ]
    },
    {
     "data": {
      "application/vnd.jupyter.widget-view+json": {
       "model_id": "3048648c0b4c458f89c709daabe70da7",
       "version_major": 2,
       "version_minor": 0
      },
      "text/plain": [
       "  0%|          | 0/226 [00:00<?, ?it/s]"
      ]
     },
     "metadata": {},
     "output_type": "display_data"
    },
    {
     "name": "stdout",
     "output_type": "stream",
     "text": [
      "[Epoch 8 Batch 100/226] loss=4.1091, ppl=60.8946, gnorm=2.4751, throughput=8.47K wps, wc=37.47K\n",
      "[Epoch 8 Batch 200/226] loss=4.0203, ppl=55.7171, gnorm=2.5297, throughput=9.07K wps, wc=38.41K\n"
     ]
    },
    {
     "data": {
      "application/vnd.jupyter.widget-view+json": {
       "model_id": "3c66047889324564acb269535dda597e",
       "version_major": 2,
       "version_minor": 0
      },
      "text/plain": [
       "  0%|          | 0/226 [00:00<?, ?it/s]"
      ]
     },
     "metadata": {},
     "output_type": "display_data"
    },
    {
     "name": "stdout",
     "output_type": "stream",
     "text": [
      "[Epoch 9 Batch 100/226] loss=3.7868, ppl=44.1146, gnorm=2.5800, throughput=8.07K wps, wc=37.85K\n",
      "[Epoch 9 Batch 200/226] loss=3.7837, ppl=43.9791, gnorm=2.6562, throughput=8.73K wps, wc=38.25K\n"
     ]
    }
   ],
   "source": [
    "reload(transformer_model)\n",
    "\n",
    "# Let's train\n",
    "trainer = mx.gluon.Trainer(transformer_model_ts.collect_params(), hparams.optimizer, {'learning_rate': hparams.lr})\n",
    "\n",
    "# # XXXXXXX TEST XXXXXXX\n",
    "# wmt2016_val_data_loader = wmt2016_test_data_loader\n",
    "# wmt2016_val_tgt_sentences = wmt2016_test_tgt_sentences\n",
    "\n",
    "# # XXXXXXX TEST XXXXXXX\n",
    "\n",
    "best_valid_bleu = 0.0\n",
    "\n",
    "wmt2016_train_losses = []\n",
    "wmt2016_valid_losses = []\n",
    "wmt2016_valid_bleus  = []\n",
    "wmt2016_valid_perplexities = []\n",
    "\n",
    "for epoch_id in tqdm(range(hparams.epochs)):\n",
    "\n",
    "    acc_train_loss_batch = 0\n",
    "    log_loss = 0\n",
    "    log_denom = 0\n",
    "    log_avg_gnorm = 0\n",
    "    log_wc = 0\n",
    "    log_start_time = time.time()\n",
    "\n",
    "    # Iterate through each batch\n",
    "    for batch_id, (src_seq, tgt_seq, src_valid_length, tgt_valid_length) in enumerate(tqdm(wmt2016_train_data_loader)):\n",
    "        \n",
    "        src_seq = src_seq.as_in_context(ctx)\n",
    "        tgt_seq = tgt_seq.as_in_context(ctx)\n",
    "        src_valid_length = src_valid_length.as_in_context(ctx)\n",
    "        tgt_valid_length = tgt_valid_length.as_in_context(ctx)\n",
    "        \n",
    "        with mx.autograd.record():\n",
    "            out, _ = transformer_model_ts(\n",
    "                src_seq,\n",
    "                tgt_seq[:, :-1],\n",
    "                src_valid_length,\n",
    "                tgt_valid_length - 1)\n",
    "\n",
    "            loss = loss_function(out, tgt_seq[:, 1:], tgt_valid_length - 1).mean()\n",
    "            loss = loss * (tgt_seq.shape[1] - 1)\n",
    "            log_loss += loss * tgt_seq.shape[0]\n",
    "            log_denom += (tgt_valid_length - 1).sum()\n",
    "            loss = loss / (tgt_valid_length - 1).mean()\n",
    "            loss.backward()\n",
    "\n",
    "        grads = [p.grad(ctx) for p in transformer_model_ts.collect_params().values() if p.grad_req != 'null']\n",
    "        gnorm = mx.gluon.utils.clip_global_norm(grads, hparams.clip)\n",
    "        trainer.step(1)\n",
    "        \n",
    "        src_wc = src_valid_length.sum().asscalar()\n",
    "        tgt_wc = (tgt_valid_length - 1).sum().asscalar()\n",
    "        log_loss = log_loss.asscalar()\n",
    "        log_denom = log_denom.asscalar()\n",
    "        log_avg_gnorm += gnorm\n",
    "        log_wc += src_wc + tgt_wc\n",
    "        \n",
    "        train_loss = log_loss / log_denom\n",
    "        acc_train_loss_batch += train_loss\n",
    "        \n",
    "        if (batch_id + 1) % hparams.log_interval == 0:\n",
    "            wps = log_wc / (time.time() - log_start_time)\n",
    "            print(\"[Epoch {} Batch {}/{}] loss={:.4f}, ppl={:.4f}, gnorm={:.4f}, \"\n",
    "                         \"throughput={:.2f}K wps, wc={:.2f}K\"\n",
    "                         .format(epoch_id, batch_id + 1, len(wmt2016_train_data_loader),\n",
    "                                 train_loss,\n",
    "                                 np.exp(log_loss / log_denom),\n",
    "                                 log_avg_gnorm / hparams.log_interval,\n",
    "                                 wps / 1000, log_wc / 1000))\n",
    "            \n",
    "            log_start_time = time.time()\n",
    "            log_loss = 0\n",
    "            log_denom = 0\n",
    "            log_avg_gnorm = 0\n",
    "            log_wc = 0\n",
    "\n",
    "    wmt2016_train_loss = acc_train_loss_batch / len(wmt2016_train_data_loader)\n",
    "    wmt2016_train_losses.append(wmt2016_train_loss)\n",
    "    \n",
    "    # Validation step\n",
    "    wmt2016_valid_loss, wmt2016_valid_translation_out = transformer_model.evaluate(\n",
    "        transformer_model_ts,\n",
    "        wmt2016_val_data_loader,\n",
    "        loss_function,\n",
    "        transformer_ts_translator,\n",
    "        # wmt2016_train_data.tgt_vocab,\n",
    "        wmt_tgt_vocab,\n",
    "        wmt_detokenizer,\n",
    "        ctx)\n",
    "    \n",
    "    wmt2016_valid_bleu_score, _, _, _, _ = nmt.bleu.compute_bleu(\n",
    "        [wmt2016_val_tgt_sentences],\n",
    "        wmt2016_valid_translation_out,\n",
    "        tokenized=False,\n",
    "        tokenizer=\"13a\",\n",
    "        split_compound_word=False,\n",
    "        bpe=False)\n",
    "\n",
    "    wmt2016_valid_perplexity = np.exp(wmt2016_valid_loss)\n",
    "    wmt2016_valid_perplexities.append(wmt2016_valid_perplexity)\n",
    "    wmt2016_valid_losses.append(wmt2016_valid_loss)\n",
    "    wmt2016_valid_bleus.append(wmt2016_valid_bleu_score * 100)\n",
    "    \n",
    "    print(\"[Epoch {}] valid Loss={:.4f}, valid ppl={:.4f}, valid bleu={:.2f}\"\n",
    "          .format(epoch_id, wmt2016_valid_loss, wmt2016_valid_perplexity, wmt2016_valid_bleu_score * 100))\n",
    "    \n",
    "    if wmt2016_valid_bleu_score > best_valid_bleu:\n",
    "        best_valid_bleu = wmt2016_valid_bleu_score\n",
    "        print(\"Save best parameters to {}\".format(model_filename_ts))\n",
    "        transformer_model_ts.save_parameters(model_filename_ts)\n",
    "    \n",
    "    # if epoch_id + 1 >= (hparams.epochs * 2) // 3:\n",
    "    #     new_lr = trainer.learning_rate * hparams.lr_update_factor\n",
    "    #     print(\"Learning rate change to {}\".format(new_lr))\n",
    "    #     trainer.set_learning_rate(new_lr)"
   ]
  },
  {
   "cell_type": "code",
   "execution_count": 157,
   "id": "30cded54",
   "metadata": {},
   "outputs": [
    {
     "data": {
      "image/png": "[encoded data removed]",
      "text/plain": [
       "<Figure size 640x480 with 1 Axes>"
      ]
     },
     "metadata": {},
     "output_type": "display_data"
    }
   ],
   "source": [
    "# plot losses and validation accuracy\n",
    "plt.style.use(\"ggplot\")\n",
    "plt.figure()\n",
    "plt.plot(range(0, hparams.epochs), wmt2016_train_losses, label=\"Training Loss\")\n",
    "# plt.plot(range(0, hparams.epochs), wmt2016_valid_losses, label=\"Validation Loss\")\n",
    "# plt.plot(range(0, hparams.epochs), wmt2016_valid_perplexities, label=\"Validation Perplexity\")\n",
    "# plt.plot(range(0, hparams.epochs), wmt2016_valid_bleus, label=\"Validation BLEU\")\n",
    "plt.xlabel(\"Epoch\")\n",
    "plt.ylabel(\"Loss\")\n",
    "plt.legend(loc=\"upper right\")\n",
    "plt.title(\"Training Loss\")\n",
    "plt.show()"
   ]
  },
  {
   "cell_type": "code",
   "execution_count": 23,
   "id": "138ed815-d126-4b16-964f-22d95c444483",
   "metadata": {},
   "outputs": [
    {
     "data": {
      "application/vnd.jupyter.widget-view+json": {
       "model_id": "beba82448cbe40b8935bd3ae6897d922",
       "version_major": 2,
       "version_minor": 0
      },
      "text/plain": [
       "  0%|          | 0/184 [00:00<?, ?it/s]"
      ]
     },
     "metadata": {},
     "output_type": "display_data"
    },
    {
     "name": "stdout",
     "output_type": "stream",
     "text": [
      "WMT16 test loss: 3.01; test bleu score: 14.50\n"
     ]
    }
   ],
   "source": [
    "transformer_model_ts.load_parameters(model_filename_ts)\n",
    "\n",
    "wmt2016_test_loss, wmt2016_test_translation_out = transformer_model.evaluate(\n",
    "    transformer_model_ts,\n",
    "    wmt2016_test_data_loader,\n",
    "    loss_function,\n",
    "    transformer_ts_translator,\n",
    "    wmt_tgt_vocab,\n",
    "    wmt_detokenizer,\n",
    "    ctx)\n",
    "\n",
    "wmt2016_valid_bleu_score, _, _, _, _ = nmt.bleu.compute_bleu(\n",
    "    [wmt2016_test_tgt_sentences],\n",
    "    wmt2016_test_translation_out,\n",
    "    tokenized=False,\n",
    "    tokenizer=\"13a\",\n",
    "    split_compound_word=False,\n",
    "    bpe=False)\n",
    "\n",
    "print('WMT16 test loss: %.2f; test bleu score: %.2f'\n",
    "      %(wmt2016_test_loss, wmt2016_valid_bleu_score * 100))"
   ]
  },
  {
   "cell_type": "code",
   "execution_count": 28,
   "id": "2fe7107c",
   "metadata": {},
   "outputs": [
    {
     "name": "stdout",
     "output_type": "stream",
     "text": [
      "Qualitative Evaluation: Translating from English to German\n",
      "Expected translation:\n",
      "Ich lerne jeden Tag neue Dinge.\n",
      "In English:\n",
      "I love German so much\n",
      "The German translation is:\n",
      "Ich halte es für so , dass es hier so ist , dass es hier so ist , dass es hier ja auch so ist , dass es hier so ist , dass es hier ja auch so ist , dass es hier ja auch so ist , dass hier\n"
     ]
    }
   ],
   "source": [
    "print(\"Qualitative Evaluation: Translating from English to German\")\n",
    "\n",
    "# From Google Translate\n",
    "expected_tgt_seq = \"Ich lerne jeden Tag neue Dinge.\"\n",
    "print(\"Expected translation:\")\n",
    "print(expected_tgt_seq)\n",
    "\n",
    "src_seq = \"I learn new things every day.\"\n",
    "print(\"In English:\")\n",
    "print(src_seq)\n",
    "\n",
    "# translation_out = nmt.utils.translate_with_unk(\n",
    "translation_out = nmt.utils.translate(\n",
    "    # wmt_translator_tl,\n",
    "    transformer_ts_translator,\n",
    "    src_seq,\n",
    "    # wmt2016_train_data.src_vocab,\n",
    "    # wmt2016_train_data.tgt_vocab,\n",
    "    wmt_src_vocab,\n",
    "    wmt_tgt_vocab,\n",
    "    ctx)\n",
    "\n",
    "print(\"The German translation is:\")\n",
    "print(\" \".join(translation_out[0]))"
   ]
  },
  {
   "cell_type": "markdown",
   "id": "68703d9d-598d-4617-af25-b45108a4569a",
   "metadata": {},
   "source": [
    "## Pre-Trained Model"
   ]
  },
  {
   "cell_type": "code",
   "execution_count": 196,
   "id": "60a9f44e-a7b3-4241-9caa-87f970b50675",
   "metadata": {},
   "outputs": [
    {
     "name": "stderr",
     "output_type": "stream",
     "text": [
      "/home/andreto/.local/lib/python3.8/site-packages/gluonnlp/vocab/vocab.py:590: UserWarning: Detected a corrupted index in the deserialize vocabulary. For versions before GluonNLP v0.7 the index is corrupted by specifying the same token for different special purposes, for example eos_token == padding_token. Deserializing the vocabulary nevertheless.\n",
      "  warnings.warn(\n"
     ]
    },
    {
     "name": "stdout",
     "output_type": "stream",
     "text": [
      "Source Vocab: 36794 , Target Vocab: 36794\n"
     ]
    }
   ],
   "source": [
    "wmt_model_name = 'transformer_en_de_512'\n",
    "wmt_transformer_model_pt, wmt_src_vocab, wmt_tgt_vocab = nlp.model.get_model(\n",
    "    wmt_model_name,\n",
    "    dataset_name='WMT2014',\n",
    "    pretrained=True,\n",
    "    ctx=ctx)\n",
    "\n",
    "wmt_transformer_model_pt.hybridize(static_alloc=True)\n",
    "\n",
    "print('Source Vocab:', len(wmt_src_vocab), ', Target Vocab:', len(wmt_tgt_vocab))"
   ]
  },
  {
   "cell_type": "code",
   "execution_count": 30,
   "id": "97c48cc0-9bcd-449a-81a1-5346cc4a950e",
   "metadata": {},
   "outputs": [
    {
     "name": "stdout",
     "output_type": "stream",
     "text": [
      "Sample BPE tokens: \"('Obama receives Net@@ any@@ ah@@ u', 'Obama empfängt Net@@ any@@ ah@@ u')\"\n",
      "Sample raw text: \"('Obama receives Netanyahu', 'Obama empfängt Netanyahu')\"\n",
      "Sample target sentence: \"Obama empfängt Netanyahu\"\n"
     ]
    }
   ],
   "source": [
    "# Reload data with model vocab\n",
    "src_lang, tgt_lang = \"en\", \"de\"\n",
    "\n",
    "wmt_data_test = nlp.data.WMT2016BPE(\n",
    "    'newstest2016',\n",
    "    src_lang=src_lang,\n",
    "    tgt_lang=tgt_lang)\n",
    "print('Sample BPE tokens: \"{}\"'.format(wmt_data_test[0]))\n",
    "\n",
    "wmt_test_text = nlp.data.WMT2016(\n",
    "    'newstest2016',\n",
    "    src_lang=src_lang,\n",
    "    tgt_lang=tgt_lang)\n",
    "print('Sample raw text: \"{}\"'.format(wmt_test_text[0]))\n",
    "\n",
    "wmt_test_tgt_sentences = wmt_test_text.transform(lambda src, tgt: tgt)\n",
    "print('Sample target sentence: \"{}\"'.format(wmt_test_tgt_sentences[0]))\n",
    "\n",
    "src_max_len, tgt_max_len = 50, 50"
   ]
  },
  {
   "cell_type": "code",
   "execution_count": 31,
   "id": "a094679e-1278-4e41-bd10-d4a04f49fa6a",
   "metadata": {},
   "outputs": [],
   "source": [
    "# Pre-processing WMT2016 with WMT2014 model vocab\n",
    "wmt_dataset_processed = wmt_data_test.transform(\n",
    "    dataprocessor.TrainValDataTransform(\n",
    "        wmt_src_vocab,\n",
    "        wmt_tgt_vocab,\n",
    "        src_max_len,\n",
    "        tgt_max_len),\n",
    "    lazy=False)\n",
    "\n",
    "# def get_length_index_fn():\n",
    "#     global idx\n",
    "#     idx = 0\n",
    "#     def transform(src, tgt):\n",
    "#         global idx\n",
    "#         result = (src, tgt, len(src), len(tgt), idx)\n",
    "#         idx += 1\n",
    "#         return result\n",
    "#     return transform\n",
    "\n",
    "wmt_data_test_with_len = wmt_dataset_processed.transform(transformer_model.get_length_index_fn(), lazy=False)"
   ]
  },
  {
   "cell_type": "code",
   "execution_count": 32,
   "id": "77f06ffc-b6ba-4ce1-94d5-666e7ab291cc",
   "metadata": {},
   "outputs": [],
   "source": [
    "wmt_test_batchify_fn = nlp.data.batchify.Tuple(\n",
    "    nlp.data.batchify.Pad(pad_val=0),\n",
    "    nlp.data.batchify.Pad(pad_val=0),\n",
    "    nlp.data.batchify.Stack(dtype='float32'),\n",
    "    nlp.data.batchify.Stack(dtype='float32'),\n",
    "    nlp.data.batchify.Stack())"
   ]
  },
  {
   "cell_type": "code",
   "execution_count": 33,
   "id": "4c876202-7121-454d-be66-23c8b6885a04",
   "metadata": {},
   "outputs": [
    {
     "name": "stdout",
     "output_type": "stream",
     "text": [
      "FixedBucketSampler:\n",
      "  sample_num=2999, batch_num=390\n",
      "  key=[7, 9, 12, 15, 18, 23, 28, 35, 43, 52]\n",
      "  cnt=[26, 67, 169, 275, 302, 435, 421, 442, 355, 507]\n",
      "  batch_size=[36, 28, 21, 17, 14, 11, 9, 7, 6, 4]\n"
     ]
    }
   ],
   "source": [
    "wmt_bucket_scheme = nlp.data.ExpWidthBucket(bucket_len_step=1.2)\n",
    "wmt_test_batch_sampler = nlp.data.FixedBucketSampler(\n",
    "    lengths=wmt_data_test_with_len.transform(lambda src, tgt, src_len, tgt_len, idx: tgt_len), # target length\n",
    "    use_average_length=True, # control the element lengths (i.e. number of tokens) to be about the same\n",
    "    bucket_scheme=wmt_bucket_scheme,\n",
    "    batch_size=hparams.batch_size)\n",
    "print(wmt_test_batch_sampler.stats())"
   ]
  },
  {
   "cell_type": "code",
   "execution_count": 34,
   "id": "7bfcc620-8e13-43fa-b637-84d42c8f185f",
   "metadata": {},
   "outputs": [
    {
     "data": {
      "text/plain": [
       "390"
      ]
     },
     "execution_count": 34,
     "metadata": {},
     "output_type": "execute_result"
    }
   ],
   "source": [
    "num_workers=0\n",
    "\n",
    "wmt_test_data_loader = mx.gluon.data.DataLoader(\n",
    "    wmt_data_test_with_len,\n",
    "    batch_sampler=wmt_test_batch_sampler,\n",
    "    batchify_fn=wmt_test_batchify_fn,\n",
    "    num_workers=num_workers)\n",
    "len(wmt_test_data_loader)"
   ]
  },
  {
   "cell_type": "code",
   "execution_count": 35,
   "id": "0609e283-d724-4339-83bf-44878ba58ccf",
   "metadata": {},
   "outputs": [],
   "source": [
    "transformer_pt_translator = nmt.translation.BeamSearchTranslator(\n",
    "    model=wmt_transformer_model_pt,\n",
    "    beam_size=hparams.beam_size,\n",
    "    scorer=nlp.model.BeamSearchScorer(alpha=hparams.lp_alpha, K=hparams.lp_k),\n",
    "    max_length=200)\n",
    "\n",
    "wmt_test_loss_function = nlp.loss.MaskedSoftmaxCELoss()\n",
    "wmt_test_loss_function.hybridize()\n",
    "\n",
    "wmt_detokenizer = nlp.data.SacreMosesDetokenizer()"
   ]
  },
  {
   "cell_type": "code",
   "execution_count": 36,
   "id": "b7c44c89-b581-4934-82df-feede0093b5a",
   "metadata": {},
   "outputs": [
    {
     "data": {
      "application/vnd.jupyter.widget-view+json": {
       "model_id": "c9abeb019bba4bbb9385df1abf4c5ca1",
       "version_major": 2,
       "version_minor": 0
      },
      "text/plain": [
       "  0%|          | 0/390 [00:00<?, ?it/s]"
      ]
     },
     "metadata": {},
     "output_type": "display_data"
    },
    {
     "name": "stdout",
     "output_type": "stream",
     "text": [
      "WMT16 test loss: 1.59; test bleu score: 29.76\n"
     ]
    }
   ],
   "source": [
    "reload(transformer_model)\n",
    "\n",
    "wmt_test_loss, wmt_test_translation_out = transformer_model.evaluate(\n",
    "    wmt_transformer_model_pt,\n",
    "    wmt_test_data_loader,\n",
    "    wmt_test_loss_function,\n",
    "    transformer_pt_translator,\n",
    "    wmt_tgt_vocab,\n",
    "    wmt_detokenizer,\n",
    "    ctx)\n",
    "\n",
    "wmt_test_bleu_score, _, _, _, _ = nmt.bleu.compute_bleu(\n",
    "    [wmt_test_tgt_sentences],\n",
    "    wmt_test_translation_out,\n",
    "    tokenized=False,\n",
    "    tokenizer=\"13a\",\n",
    "    split_compound_word=False,\n",
    "    bpe=False)\n",
    "\n",
    "print('WMT16 test loss: %.2f; test bleu score: %.2f'\n",
    "      %(wmt_test_loss, wmt_test_bleu_score * 100))"
   ]
  },
  {
   "cell_type": "code",
   "execution_count": 70,
   "id": "06ffda75-8645-40e1-acb0-76d9f43f9f49",
   "metadata": {},
   "outputs": [
    {
     "name": "stdout",
     "output_type": "stream",
     "text": [
      "Qualitative Evaluation: Translating from English to German\n",
      "Expected translation:\n",
      "Ich lerne jeden Tag neue Dinge.\n",
      "In English:\n",
      "I learn new things every day.\n",
      "The German translation is:\n",
      "Ich lerne neue Dinge, die in jedem Fall auftreten.\n"
     ]
    }
   ],
   "source": [
    "reload(transformer_model)\n",
    "\n",
    "print(\"Qualitative Evaluation: Translating from English to German\")\n",
    "\n",
    "# From Google Translate\n",
    "expected_tgt_seq = \"Ich lerne jeden Tag neue Dinge.\"\n",
    "print(\"Expected translation:\")\n",
    "print(expected_tgt_seq)\n",
    "\n",
    "src_seq = \"I learn new things every day.\"\n",
    "print(\"In English:\")\n",
    "print(src_seq)\n",
    "\n",
    "# translation_out = nmt.utils.translate_with_unk(\n",
    "# translation_out = nmt.utils.translate(\n",
    "translation_out = transformer_model.translate(\n",
    "    # wmt_translator_tl,\n",
    "    transformer_pt_translator,\n",
    "    src_seq,\n",
    "    # wmt2016_train_data.src_vocab,\n",
    "    # wmt2016_train_data.tgt_vocab,\n",
    "    wmt_src_vocab,\n",
    "    wmt_tgt_vocab,\n",
    "    wmt_detokenizer,\n",
    "    ctx)\n",
    "\n",
    "print(\"The German translation is:\")\n",
    "print(\" \".join(translation_out[0]))"
   ]
  },
  {
   "cell_type": "markdown",
   "id": "b52860ec-55eb-43ee-b1ea-485d6271e54e",
   "metadata": {},
   "source": [
    "## Transfer Learning"
   ]
  },
  {
   "cell_type": "code",
   "execution_count": 177,
   "id": "be6815f6-4baa-407c-b00a-a3241bb7382c",
   "metadata": {},
   "outputs": [],
   "source": [
    "wmt_transformer_model_tl = wmt_transformer_model_pt\n",
    "\n",
    "# Freeze Layers (keeping track of the updated parameters)\n",
    "updated_params = []\n",
    "for param in wmt_transformer_model_tl.collect_params().values():\n",
    "    if param.grad_req == \"write\":\n",
    "        param.grad_req = \"null\"\n",
    "        updated_params += [param.name]\n",
    "\n",
    "# No need to overwrite last layer, just re-initialize\n",
    "# wmt_transformer_model_tl.tgt_proj = mx.gluon.nn.Dense(units=len(wmt_tgt_vocab), flatten=False, prefix='tgt_proj_')\n",
    "wmt_transformer_model_tl.tgt_proj.initialize(ctx=ctx, force_reinit=True)\n",
    "\n",
    "# Re-enable gradients for last layer\n",
    "for param in wmt_transformer_model_tl.tgt_proj.collect_params().values():\n",
    "    if param.name in updated_params:\n",
    "        param.grad_req = \"write\"\n",
    "\n",
    "wmt_transformer_model_tl.hybridize(static_alloc=True)\n",
    "\n",
    "model_filename_tl = \"transformer_en_de_512_tl.params\""
   ]
  },
  {
   "cell_type": "code",
   "execution_count": 178,
   "id": "064584ce-99d6-4323-90f7-7a2f646bc7f2",
   "metadata": {},
   "outputs": [],
   "source": [
    "wmt_translator_tl = nmt.translation.BeamSearchTranslator(\n",
    "    model=wmt_transformer_model_tl,\n",
    "    beam_size=hparams.beam_size,\n",
    "    scorer=nlp.model.BeamSearchScorer(alpha=hparams.lp_alpha, K=hparams.lp_k),\n",
    "    max_length=200)"
   ]
  },
  {
   "cell_type": "code",
   "execution_count": 179,
   "id": "7a1b4868-0e94-4792-9476-94817e1223fa",
   "metadata": {},
   "outputs": [],
   "source": [
    "hparams.lr = 0.00001\n",
    "hparams.epochs = 10\n",
    "\n",
    "\n",
    "loss_function = nlp.loss.MaskedSoftmaxCELoss()\n",
    "loss_function.hybridize(static_alloc=True)\n",
    "\n",
    "wmt_detokenizer = nlp.data.SacreMosesDetokenizer()\n"
   ]
  },
  {
   "cell_type": "code",
   "execution_count": 180,
   "id": "225c054a-e820-4947-9d75-cec9c15a3525",
   "metadata": {},
   "outputs": [
    {
     "data": {
      "application/vnd.jupyter.widget-view+json": {
       "model_id": "df13e89f083c4118b0d886eaae265e16",
       "version_major": 2,
       "version_minor": 0
      },
      "text/plain": [
       "  0%|          | 0/10 [00:00<?, ?it/s]"
      ]
     },
     "metadata": {},
     "output_type": "display_data"
    },
    {
     "data": {
      "application/vnd.jupyter.widget-view+json": {
       "model_id": "8a1349170a6d4a18b020c06c5bdce3aa",
       "version_major": 2,
       "version_minor": 0
      },
      "text/plain": [
       "  0%|          | 0/226 [00:00<?, ?it/s]"
      ]
     },
     "metadata": {},
     "output_type": "display_data"
    },
    {
     "name": "stdout",
     "output_type": "stream",
     "text": [
      "[Epoch 0 Batch 100/226] loss=10.5754, ppl=39158.1211, gnorm=7.6279, throughput=14.38K wps, wc=37.67K\n",
      "[Epoch 0 Batch 200/226] loss=10.4199, ppl=33521.2617, gnorm=7.5159, throughput=14.95K wps, wc=38.24K\n"
     ]
    },
    {
     "data": {
      "application/vnd.jupyter.widget-view+json": {
       "model_id": "6e7e7fcd82c64e3b8c6bb087090780be",
       "version_major": 2,
       "version_minor": 0
      },
      "text/plain": [
       "  0%|          | 0/226 [00:00<?, ?it/s]"
      ]
     },
     "metadata": {},
     "output_type": "display_data"
    },
    {
     "name": "stdout",
     "output_type": "stream",
     "text": [
      "[Epoch 1 Batch 100/226] loss=10.2271, ppl=27641.6094, gnorm=8.2685, throughput=14.84K wps, wc=38.26K\n",
      "[Epoch 1 Batch 200/226] loss=10.0565, ppl=23306.1094, gnorm=8.5255, throughput=14.76K wps, wc=37.69K\n"
     ]
    },
    {
     "data": {
      "application/vnd.jupyter.widget-view+json": {
       "model_id": "b1f05d7020d84a368181ea79741adeae",
       "version_major": 2,
       "version_minor": 0
      },
      "text/plain": [
       "  0%|          | 0/226 [00:00<?, ?it/s]"
      ]
     },
     "metadata": {},
     "output_type": "display_data"
    },
    {
     "name": "stdout",
     "output_type": "stream",
     "text": [
      "[Epoch 2 Batch 100/226] loss=9.8734, ppl=19407.6133, gnorm=9.3747, throughput=14.66K wps, wc=38.09K\n",
      "[Epoch 2 Batch 200/226] loss=9.7266, ppl=16756.7070, gnorm=9.3649, throughput=15.06K wps, wc=38.06K\n"
     ]
    },
    {
     "data": {
      "application/vnd.jupyter.widget-view+json": {
       "model_id": "669de1050a464ec684490ecd309658cb",
       "version_major": 2,
       "version_minor": 0
      },
      "text/plain": [
       "  0%|          | 0/226 [00:00<?, ?it/s]"
      ]
     },
     "metadata": {},
     "output_type": "display_data"
    },
    {
     "name": "stdout",
     "output_type": "stream",
     "text": [
      "[Epoch 3 Batch 100/226] loss=9.5591, ppl=14172.5732, gnorm=9.7871, throughput=15.05K wps, wc=37.98K\n",
      "[Epoch 3 Batch 200/226] loss=9.4301, ppl=12458.1807, gnorm=9.1646, throughput=14.51K wps, wc=37.80K\n"
     ]
    },
    {
     "data": {
      "application/vnd.jupyter.widget-view+json": {
       "model_id": "7f0d64793e4a4158bbb03b02e73b4416",
       "version_major": 2,
       "version_minor": 0
      },
      "text/plain": [
       "  0%|          | 0/226 [00:00<?, ?it/s]"
      ]
     },
     "metadata": {},
     "output_type": "display_data"
    },
    {
     "name": "stdout",
     "output_type": "stream",
     "text": [
      "[Epoch 4 Batch 100/226] loss=9.2427, ppl=10328.9150, gnorm=10.8450, throughput=13.61K wps, wc=38.67K\n",
      "[Epoch 4 Batch 200/226] loss=9.1434, ppl=9352.1191, gnorm=10.0248, throughput=14.33K wps, wc=37.26K\n"
     ]
    },
    {
     "data": {
      "application/vnd.jupyter.widget-view+json": {
       "model_id": "e6e5c1ad3036484e987ce658de33e6a5",
       "version_major": 2,
       "version_minor": 0
      },
      "text/plain": [
       "  0%|          | 0/226 [00:00<?, ?it/s]"
      ]
     },
     "metadata": {},
     "output_type": "display_data"
    },
    {
     "name": "stdout",
     "output_type": "stream",
     "text": [
      "[Epoch 5 Batch 100/226] loss=8.9848, ppl=7980.9272, gnorm=12.3600, throughput=15.00K wps, wc=37.72K\n",
      "[Epoch 5 Batch 200/226] loss=8.8733, ppl=7138.6274, gnorm=8.9152, throughput=14.45K wps, wc=38.07K\n"
     ]
    },
    {
     "data": {
      "application/vnd.jupyter.widget-view+json": {
       "model_id": "25b3d17a311441c39335f28d42b3cc5f",
       "version_major": 2,
       "version_minor": 0
      },
      "text/plain": [
       "  0%|          | 0/226 [00:00<?, ?it/s]"
      ]
     },
     "metadata": {},
     "output_type": "display_data"
    },
    {
     "name": "stdout",
     "output_type": "stream",
     "text": [
      "[Epoch 6 Batch 100/226] loss=8.6991, ppl=5997.5269, gnorm=8.2921, throughput=15.01K wps, wc=37.91K\n",
      "[Epoch 6 Batch 200/226] loss=8.6310, ppl=5602.7773, gnorm=9.0049, throughput=14.62K wps, wc=38.38K\n"
     ]
    },
    {
     "data": {
      "application/vnd.jupyter.widget-view+json": {
       "model_id": "f7e2746cad1e463eb9ff7578e017565b",
       "version_major": 2,
       "version_minor": 0
      },
      "text/plain": [
       "  0%|          | 0/226 [00:00<?, ?it/s]"
      ]
     },
     "metadata": {},
     "output_type": "display_data"
    },
    {
     "name": "stdout",
     "output_type": "stream",
     "text": [
      "[Epoch 7 Batch 100/226] loss=8.4848, ppl=4840.4878, gnorm=13.2777, throughput=14.31K wps, wc=38.10K\n",
      "[Epoch 7 Batch 200/226] loss=8.3539, ppl=4246.5972, gnorm=6.7909, throughput=14.25K wps, wc=37.85K\n"
     ]
    },
    {
     "data": {
      "application/vnd.jupyter.widget-view+json": {
       "model_id": "88f55d497b7e44dab26eec1460042ab1",
       "version_major": 2,
       "version_minor": 0
      },
      "text/plain": [
       "  0%|          | 0/226 [00:00<?, ?it/s]"
      ]
     },
     "metadata": {},
     "output_type": "display_data"
    },
    {
     "name": "stdout",
     "output_type": "stream",
     "text": [
      "[Epoch 8 Batch 100/226] loss=8.2634, ppl=3879.3354, gnorm=7.9820, throughput=13.77K wps, wc=38.26K\n",
      "[Epoch 8 Batch 200/226] loss=8.1349, ppl=3411.6279, gnorm=7.3301, throughput=15.00K wps, wc=37.82K\n"
     ]
    },
    {
     "data": {
      "application/vnd.jupyter.widget-view+json": {
       "model_id": "05d7a3a2ceed40b9a7b1dbedeb28853c",
       "version_major": 2,
       "version_minor": 0
      },
      "text/plain": [
       "  0%|          | 0/226 [00:00<?, ?it/s]"
      ]
     },
     "metadata": {},
     "output_type": "display_data"
    },
    {
     "name": "stdout",
     "output_type": "stream",
     "text": [
      "[Epoch 9 Batch 100/226] loss=8.0587, ppl=3161.2939, gnorm=7.9004, throughput=15.13K wps, wc=38.45K\n",
      "[Epoch 9 Batch 200/226] loss=7.9618, ppl=2869.2305, gnorm=6.6398, throughput=13.40K wps, wc=37.24K\n"
     ]
    }
   ],
   "source": [
    "reload(transformer_model)\n",
    "\n",
    "# Let's train\n",
    "trainer = mx.gluon.Trainer(wmt_transformer_model_tl.collect_params(), hparams.optimizer, {'learning_rate': hparams.lr})\n",
    "\n",
    "best_valid_bleu = 0.0\n",
    "\n",
    "wmt2016_train_losses = []\n",
    "wmt2016_valid_losses = []\n",
    "wmt2016_valid_bleus  = []\n",
    "wmt2016_valid_perplexities = []\n",
    "\n",
    "for epoch_id in tqdm(range(hparams.epochs)):\n",
    "\n",
    "    acc_train_loss_batch = 0\n",
    "    log_loss = 0\n",
    "    log_denom = 0\n",
    "    log_avg_gnorm = 0\n",
    "    log_wc = 0\n",
    "    log_start_time = time.time()\n",
    "\n",
    "    # Iterate through each batch\n",
    "    for batch_id, (src_seq, tgt_seq, src_valid_length, tgt_valid_length) in enumerate(tqdm(wmt2016_train_data_loader)):\n",
    "        \n",
    "        src_seq = src_seq.as_in_context(ctx)\n",
    "        tgt_seq = tgt_seq.as_in_context(ctx)\n",
    "        src_valid_length = src_valid_length.as_in_context(ctx)\n",
    "        tgt_valid_length = tgt_valid_length.as_in_context(ctx)\n",
    "        \n",
    "        with mx.autograd.record():\n",
    "            out, _ = wmt_transformer_model_tl(\n",
    "                src_seq,\n",
    "                tgt_seq[:, :-1],\n",
    "                src_valid_length,\n",
    "                tgt_valid_length - 1)\n",
    "\n",
    "            loss = loss_function(out, tgt_seq[:, 1:], tgt_valid_length - 1).mean()\n",
    "            loss = loss * (tgt_seq.shape[1] - 1)\n",
    "            log_loss += loss * tgt_seq.shape[0]\n",
    "            log_denom += (tgt_valid_length - 1).sum()\n",
    "            loss = loss / (tgt_valid_length - 1).mean()\n",
    "            loss.backward()\n",
    "\n",
    "        grads = [p.grad(ctx) for p in wmt_transformer_model_tl.collect_params().values() if p.grad_req != 'null']\n",
    "        gnorm = mx.gluon.utils.clip_global_norm(grads, hparams.clip)\n",
    "        trainer.step(1)\n",
    "        \n",
    "        src_wc = src_valid_length.sum().asscalar()\n",
    "        tgt_wc = (tgt_valid_length - 1).sum().asscalar()\n",
    "        log_loss = log_loss.asscalar()\n",
    "        log_denom = log_denom.asscalar()\n",
    "        log_avg_gnorm += gnorm\n",
    "        log_wc += src_wc + tgt_wc\n",
    "        \n",
    "        train_loss = log_loss / log_denom\n",
    "        acc_train_loss_batch += train_loss\n",
    "        \n",
    "        if (batch_id + 1) % hparams.log_interval == 0:\n",
    "            wps = log_wc / (time.time() - log_start_time)\n",
    "            print(\"[Epoch {} Batch {}/{}] loss={:.4f}, ppl={:.4f}, gnorm={:.4f}, \"\n",
    "                         \"throughput={:.2f}K wps, wc={:.2f}K\"\n",
    "                         .format(epoch_id, batch_id + 1, len(wmt2016_train_data_loader),\n",
    "                                 train_loss,\n",
    "                                 np.exp(log_loss / log_denom),\n",
    "                                 log_avg_gnorm / hparams.log_interval,\n",
    "                                 wps / 1000, log_wc / 1000))\n",
    "            \n",
    "            log_start_time = time.time()\n",
    "            log_loss = 0\n",
    "            log_denom = 0\n",
    "            log_avg_gnorm = 0\n",
    "            log_wc = 0\n",
    "\n",
    "    wmt2016_train_loss = acc_train_loss_batch / len(wmt2016_train_data_loader)\n",
    "    wmt2016_train_losses.append(wmt2016_train_loss)\n",
    "    \n",
    "    # Validation step\n",
    "    wmt2016_valid_loss, wmt2016_valid_translation_out = transformer_model.evaluate(\n",
    "        wmt_transformer_model_tl,\n",
    "        wmt2016_val_data_loader,\n",
    "        loss_function,\n",
    "        wmt_translator_tl,\n",
    "        # wmt2016_train_data.tgt_vocab,\n",
    "        wmt_tgt_vocab,\n",
    "        wmt_detokenizer,\n",
    "        ctx)\n",
    "    \n",
    "    wmt2016_valid_bleu_score, _, _, _, _ = nmt.bleu.compute_bleu(\n",
    "        [wmt2016_val_tgt_sentences],\n",
    "        wmt2016_valid_translation_out,\n",
    "        tokenized=False,\n",
    "        tokenizer=\"13a\",\n",
    "        split_compound_word=False,\n",
    "        bpe=False)\n",
    "\n",
    "    wmt2016_valid_perplexity = np.exp(wmt2016_valid_loss)\n",
    "    wmt2016_valid_perplexities.append(wmt2016_valid_perplexity)\n",
    "    wmt2016_valid_losses.append(wmt2016_valid_loss)\n",
    "    wmt2016_valid_bleus.append(wmt2016_valid_bleu_score * 100)\n",
    "    \n",
    "    print(\"[Epoch {}] valid Loss={:.4f}, valid ppl={:.4f}, valid bleu={:.2f}\"\n",
    "          .format(epoch_id, wmt2016_valid_loss, wmt2016_valid_perplexity, wmt2016_valid_bleu_score * 100))\n",
    "    \n",
    "    if wmt2016_valid_bleu_score > best_valid_bleu:\n",
    "        best_valid_bleu = wmt2016_valid_bleu_score\n",
    "        print(\"Save best parameters to {}\".format(model_filename_tl))\n",
    "        wmt_transformer_model_tl.save_parameters(model_filename_tl)\n",
    "    \n",
    "    # if epoch_id + 1 >= (hparams.epochs * 2) // 3:\n",
    "    #     new_lr = trainer.learning_rate * hparams.lr_update_factor\n",
    "    #     print(\"Learning rate change to {}\".format(new_lr))\n",
    "    #     trainer.set_learning_rate(new_lr)"
   ]
  },
  {
   "cell_type": "code",
   "execution_count": 181,
   "id": "66da0144-a271-4cc9-b22c-7c237eeec4fc",
   "metadata": {},
   "outputs": [
    {
     "data": {
      "image/png": "[encoded data removed]",
      "text/plain": [
       "<Figure size 640x480 with 1 Axes>"
      ]
     },
     "metadata": {},
     "output_type": "display_data"
    }
   ],
   "source": [
    "# plot losses and validation accuracy\n",
    "plt.style.use(\"ggplot\")\n",
    "plt.figure()\n",
    "plt.plot(range(0, hparams.epochs), wmt2016_train_losses, label=\"Training Loss\")\n",
    "# plt.plot(range(0, hparams.epochs), wmt2016_valid_losses, label=\"Validation Loss\")\n",
    "# plt.plot(range(0, hparams.epochs), wmt2016_valid_perplexities, label=\"Validation Perplexity\")\n",
    "# plt.plot(range(0, hparams.epochs), wmt2016_valid_bleus, label=\"Validation BLEU\")\n",
    "plt.xlabel(\"Epoch\")\n",
    "plt.ylabel(\"Loss\")\n",
    "plt.legend(loc=\"upper right\")\n",
    "plt.title(\"Training Loss\")\n",
    "plt.show()"
   ]
  },
  {
   "cell_type": "code",
   "execution_count": 130,
   "id": "69c2a938-e44c-461c-9575-5fa144b4a395",
   "metadata": {},
   "outputs": [
    {
     "data": {
      "application/vnd.jupyter.widget-view+json": {
       "model_id": "609a81fbb35f4169938e1800a2b92643",
       "version_major": 2,
       "version_minor": 0
      },
      "text/plain": [
       "  0%|          | 0/184 [00:00<?, ?it/s]"
      ]
     },
     "metadata": {},
     "output_type": "display_data"
    },
    {
     "name": "stdout",
     "output_type": "stream",
     "text": [
      "WMT16 test loss: 1.20; test bleu score: 27.78\n"
     ]
    }
   ],
   "source": [
    "# Load best model\n",
    "wmt_transformer_model_tl.load_parameters(model_filename_tl)\n",
    "\n",
    "wmt2016_test_loss, wmt2016_test_translation_out = transformer_model.evaluate(\n",
    "    wmt_transformer_model_tl,\n",
    "    wmt2016_test_data_loader,\n",
    "    loss_function,\n",
    "    wmt_translator_tl,\n",
    "    wmt_tgt_vocab,\n",
    "    wmt_detokenizer,\n",
    "    ctx)\n",
    "\n",
    "wmt2016_test_bleu_score, _, _, _, _ = nmt.bleu.compute_bleu(\n",
    "    [wmt2016_test_tgt_sentences],\n",
    "    wmt2016_test_translation_out,\n",
    "    tokenized=False,\n",
    "    tokenizer=\"13a\",\n",
    "    split_compound_word=False,\n",
    "    bpe=False)\n",
    "\n",
    "print('WMT16 test loss: %.2f; test bleu score: %.2f'\n",
    "      %(wmt2016_test_loss, wmt2016_test_bleu_score * 100))"
   ]
  },
  {
   "cell_type": "code",
   "execution_count": 93,
   "id": "55afd6ad-b35f-4ada-8671-d51ce7b4217c",
   "metadata": {},
   "outputs": [
    {
     "name": "stdout",
     "output_type": "stream",
     "text": [
      "Qualitative Evaluation: Translating from English to German\n",
      "Expected translation:\n",
      "Ich lerne jeden Tag neue Dinge.\n",
      "In English:\n",
      "I learn new things every day.\n",
      "The German translation is:\n",
      "Ich erlerne jedes Mal neue Dinge\n"
     ]
    }
   ],
   "source": [
    "reload(transformer_model)\n",
    "\n",
    "print(\"Qualitative Evaluation: Translating from English to German\")\n",
    "\n",
    "# From Google Translate\n",
    "expected_tgt_seq = \"Ich lerne jeden Tag neue Dinge.\"\n",
    "print(\"Expected translation:\")\n",
    "print(expected_tgt_seq)\n",
    "\n",
    "src_seq = \"I learn new things every day.\"\n",
    "print(\"In English:\")\n",
    "print(src_seq)\n",
    "\n",
    "# translation_out = nmt.utils.translate_with_unk(\n",
    "# translation_out = nmt.utils.translate(\n",
    "translation_out = transformer_model.translate(\n",
    "    wmt_translator_tl,\n",
    "    src_seq,\n",
    "    # wmt2016_train_data.src_vocab,\n",
    "    # wmt2016_train_data.tgt_vocab,\n",
    "    wmt_src_vocab,\n",
    "    wmt_tgt_vocab,\n",
    "    wmt_detokenizer,\n",
    "    ctx)\n",
    "\n",
    "print(\"The German translation is:\")\n",
    "print(\" \".join(translation_out[0]))"
   ]
  },
  {
   "cell_type": "markdown",
   "id": "a2d9038e-9280-4829-968e-1f7b8753a574",
   "metadata": {},
   "source": [
    "## Fine-Tuning (after Transfer Learning)"
   ]
  },
  {
   "cell_type": "code",
   "execution_count": 182,
   "id": "2a1e2c66-3986-42b9-a1ab-ab5ec72b8e13",
   "metadata": {},
   "outputs": [],
   "source": [
    "# Model built on top of Transfer Learning model\n",
    "wmt_transformer_model_ft = wmt_transformer_model_tl\n",
    "wmt_transformer_model_ft.load_parameters(model_filename_tl)\n",
    "\n",
    "# Un-freeze weights\n",
    "for param in wmt_transformer_model_ft.collect_params().values(): \n",
    "    if param.name in updated_params:\n",
    "        param.grad_req = 'write'\n",
    "\n",
    "wmt_transformer_model_ft.hybridize()\n",
    "\n",
    "model_filename_ft = \"transformer_en_de_512_ft.params\""
   ]
  },
  {
   "cell_type": "code",
   "execution_count": 183,
   "id": "b390d4ef-ffc6-4160-81d3-b179cc34a289",
   "metadata": {},
   "outputs": [],
   "source": [
    "wmt_translator_ft = nmt.translation.BeamSearchTranslator(\n",
    "    model=wmt_transformer_model_ft,\n",
    "    beam_size=hparams.beam_size,\n",
    "    scorer=nlp.model.BeamSearchScorer(alpha=hparams.lp_alpha, K=hparams.lp_k),\n",
    "    max_length=200)"
   ]
  },
  {
   "cell_type": "code",
   "execution_count": 184,
   "id": "20875090-fffc-444d-b458-a25f2a0f709a",
   "metadata": {},
   "outputs": [],
   "source": [
    "hparams.epochs = 10\n",
    "hparams.lr = 0.00003\n",
    "\n",
    "loss_function = nlp.loss.MaskedSoftmaxCELoss()\n",
    "loss_function.hybridize(static_alloc=True)\n",
    "\n",
    "wmt_detokenizer = nlp.data.SacreMosesDetokenizer()"
   ]
  },
  {
   "cell_type": "code",
   "execution_count": 185,
   "id": "96e7b1ff-ca5e-44d4-a896-635e8d472932",
   "metadata": {},
   "outputs": [
    {
     "data": {
      "application/vnd.jupyter.widget-view+json": {
       "model_id": "8a3311ce03be491e8572aaeaf0cf833f",
       "version_major": 2,
       "version_minor": 0
      },
      "text/plain": [
       "  0%|          | 0/10 [00:00<?, ?it/s]"
      ]
     },
     "metadata": {},
     "output_type": "display_data"
    },
    {
     "data": {
      "application/vnd.jupyter.widget-view+json": {
       "model_id": "500af1bc09d745e2954a1ef3bb06dd84",
       "version_major": 2,
       "version_minor": 0
      },
      "text/plain": [
       "  0%|          | 0/226 [00:00<?, ?it/s]"
      ]
     },
     "metadata": {},
     "output_type": "display_data"
    },
    {
     "name": "stdout",
     "output_type": "stream",
     "text": [
      "[Epoch 0 Batch 100/226] loss=1.3049, ppl=3.6873, gnorm=4.3469, throughput=6.70K wps, wc=37.46K\n",
      "[Epoch 0 Batch 200/226] loss=1.2621, ppl=3.5327, gnorm=4.2847, throughput=6.86K wps, wc=38.50K\n"
     ]
    },
    {
     "data": {
      "application/vnd.jupyter.widget-view+json": {
       "model_id": "5ce3a6fc6b774fab9db65c0d9bcec33d",
       "version_major": 2,
       "version_minor": 0
      },
      "text/plain": [
       "  0%|          | 0/226 [00:00<?, ?it/s]"
      ]
     },
     "metadata": {},
     "output_type": "display_data"
    },
    {
     "name": "stdout",
     "output_type": "stream",
     "text": [
      "[Epoch 1 Batch 100/226] loss=1.1073, ppl=3.0263, gnorm=4.0800, throughput=6.33K wps, wc=37.75K\n",
      "[Epoch 1 Batch 200/226] loss=1.1070, ppl=3.0252, gnorm=4.0733, throughput=6.43K wps, wc=38.24K\n"
     ]
    },
    {
     "data": {
      "application/vnd.jupyter.widget-view+json": {
       "model_id": "0d3f968c486643e0b948532d57ac0d17",
       "version_major": 2,
       "version_minor": 0
      },
      "text/plain": [
       "  0%|          | 0/226 [00:00<?, ?it/s]"
      ]
     },
     "metadata": {},
     "output_type": "display_data"
    },
    {
     "name": "stdout",
     "output_type": "stream",
     "text": [
      "[Epoch 2 Batch 100/226] loss=0.9501, ppl=2.5859, gnorm=3.9402, throughput=6.14K wps, wc=37.44K\n",
      "[Epoch 2 Batch 200/226] loss=0.9870, ppl=2.6832, gnorm=4.1110, throughput=6.14K wps, wc=38.21K\n"
     ]
    },
    {
     "data": {
      "application/vnd.jupyter.widget-view+json": {
       "model_id": "94fa5d4cacd84fb6aec68a9f640ce683",
       "version_major": 2,
       "version_minor": 0
      },
      "text/plain": [
       "  0%|          | 0/226 [00:00<?, ?it/s]"
      ]
     },
     "metadata": {},
     "output_type": "display_data"
    },
    {
     "name": "stdout",
     "output_type": "stream",
     "text": [
      "[Epoch 3 Batch 100/226] loss=0.8315, ppl=2.2968, gnorm=3.7676, throughput=6.32K wps, wc=38.17K\n",
      "[Epoch 3 Batch 200/226] loss=0.8700, ppl=2.3870, gnorm=4.1085, throughput=6.46K wps, wc=38.09K\n"
     ]
    },
    {
     "data": {
      "application/vnd.jupyter.widget-view+json": {
       "model_id": "301ca018311c49d5886ab496d9c30163",
       "version_major": 2,
       "version_minor": 0
      },
      "text/plain": [
       "  0%|          | 0/226 [00:00<?, ?it/s]"
      ]
     },
     "metadata": {},
     "output_type": "display_data"
    },
    {
     "name": "stdout",
     "output_type": "stream",
     "text": [
      "[Epoch 4 Batch 100/226] loss=0.7449, ppl=2.1062, gnorm=3.9107, throughput=6.14K wps, wc=38.16K\n",
      "[Epoch 4 Batch 200/226] loss=0.7539, ppl=2.1254, gnorm=4.0711, throughput=6.37K wps, wc=37.67K\n"
     ]
    },
    {
     "data": {
      "application/vnd.jupyter.widget-view+json": {
       "model_id": "765ffcf458fa4a60a863f5961eb6ca55",
       "version_major": 2,
       "version_minor": 0
      },
      "text/plain": [
       "  0%|          | 0/226 [00:00<?, ?it/s]"
      ]
     },
     "metadata": {},
     "output_type": "display_data"
    },
    {
     "name": "stdout",
     "output_type": "stream",
     "text": [
      "[Epoch 5 Batch 100/226] loss=0.6459, ppl=1.9077, gnorm=3.7458, throughput=6.30K wps, wc=38.40K\n",
      "[Epoch 5 Batch 200/226] loss=0.6527, ppl=1.9206, gnorm=3.8702, throughput=6.35K wps, wc=37.18K\n"
     ]
    },
    {
     "data": {
      "application/vnd.jupyter.widget-view+json": {
       "model_id": "50eb3fde96404a97af3495ec0a168db5",
       "version_major": 2,
       "version_minor": 0
      },
      "text/plain": [
       "  0%|          | 0/226 [00:00<?, ?it/s]"
      ]
     },
     "metadata": {},
     "output_type": "display_data"
    },
    {
     "name": "stdout",
     "output_type": "stream",
     "text": [
      "[Epoch 6 Batch 100/226] loss=0.5630, ppl=1.7560, gnorm=3.7190, throughput=6.43K wps, wc=37.87K\n",
      "[Epoch 6 Batch 200/226] loss=0.5614, ppl=1.7531, gnorm=3.7096, throughput=6.37K wps, wc=38.30K\n"
     ]
    },
    {
     "data": {
      "application/vnd.jupyter.widget-view+json": {
       "model_id": "32ee39bdc82b4babbeb04c78260f9714",
       "version_major": 2,
       "version_minor": 0
      },
      "text/plain": [
       "  0%|          | 0/226 [00:00<?, ?it/s]"
      ]
     },
     "metadata": {},
     "output_type": "display_data"
    },
    {
     "name": "stdout",
     "output_type": "stream",
     "text": [
      "[Epoch 7 Batch 100/226] loss=0.4826, ppl=1.6203, gnorm=3.5831, throughput=6.38K wps, wc=37.98K\n",
      "[Epoch 7 Batch 200/226] loss=0.4991, ppl=1.6473, gnorm=3.6921, throughput=6.43K wps, wc=38.13K\n"
     ]
    },
    {
     "data": {
      "application/vnd.jupyter.widget-view+json": {
       "model_id": "63c921a5abd7417b856e9f4c55614e99",
       "version_major": 2,
       "version_minor": 0
      },
      "text/plain": [
       "  0%|          | 0/226 [00:00<?, ?it/s]"
      ]
     },
     "metadata": {},
     "output_type": "display_data"
    },
    {
     "name": "stdout",
     "output_type": "stream",
     "text": [
      "[Epoch 8 Batch 100/226] loss=0.4199, ppl=1.5218, gnorm=3.5668, throughput=6.32K wps, wc=37.63K\n",
      "[Epoch 8 Batch 200/226] loss=0.4252, ppl=1.5300, gnorm=3.4963, throughput=6.36K wps, wc=38.42K\n"
     ]
    },
    {
     "data": {
      "application/vnd.jupyter.widget-view+json": {
       "model_id": "72bddbe2a70a4b74b88cdd89a55e41dd",
       "version_major": 2,
       "version_minor": 0
      },
      "text/plain": [
       "  0%|          | 0/226 [00:00<?, ?it/s]"
      ]
     },
     "metadata": {},
     "output_type": "display_data"
    },
    {
     "name": "stdout",
     "output_type": "stream",
     "text": [
      "[Epoch 9 Batch 100/226] loss=0.3489, ppl=1.4176, gnorm=3.2984, throughput=6.25K wps, wc=37.49K\n",
      "[Epoch 9 Batch 200/226] loss=0.3749, ppl=1.4549, gnorm=3.4176, throughput=6.27K wps, wc=38.54K\n"
     ]
    }
   ],
   "source": [
    "reload(transformer_model)\n",
    "\n",
    "# Let's train\n",
    "trainer = mx.gluon.Trainer(wmt_transformer_model_ft.collect_params(), hparams.optimizer, {'learning_rate': hparams.lr})\n",
    "\n",
    "best_valid_bleu = 0.0\n",
    "\n",
    "wmt2016_train_losses = []\n",
    "wmt2016_valid_losses = []\n",
    "wmt2016_valid_bleus  = []\n",
    "wmt2016_valid_perplexities = []\n",
    "\n",
    "for epoch_id in tqdm(range(hparams.epochs)):\n",
    "\n",
    "    acc_train_loss_batch = 0\n",
    "    log_loss = 0\n",
    "    log_denom = 0\n",
    "    log_avg_gnorm = 0\n",
    "    log_wc = 0\n",
    "    log_start_time = time.time()\n",
    "\n",
    "    # Iterate through each batch\n",
    "    for batch_id, (src_seq, tgt_seq, src_valid_length, tgt_valid_length) in enumerate(tqdm(wmt2016_train_data_loader)):\n",
    "        \n",
    "        src_seq = src_seq.as_in_context(ctx)\n",
    "        tgt_seq = tgt_seq.as_in_context(ctx)\n",
    "        src_valid_length = src_valid_length.as_in_context(ctx)\n",
    "        tgt_valid_length = tgt_valid_length.as_in_context(ctx)\n",
    "        \n",
    "        with mx.autograd.record():\n",
    "            out, _ = wmt_transformer_model_ft(\n",
    "                src_seq,\n",
    "                tgt_seq[:, :-1],\n",
    "                src_valid_length,\n",
    "                tgt_valid_length - 1)\n",
    "\n",
    "            loss = loss_function(out, tgt_seq[:, 1:], tgt_valid_length - 1).mean()\n",
    "            loss = loss * (tgt_seq.shape[1] - 1)\n",
    "            log_loss += loss * tgt_seq.shape[0]\n",
    "            log_denom += (tgt_valid_length - 1).sum()\n",
    "            loss = loss / (tgt_valid_length - 1).mean()\n",
    "            loss.backward()\n",
    "\n",
    "        grads = [p.grad(ctx) for p in wmt_transformer_model_ft.collect_params().values() if p.grad_req != 'null']\n",
    "        gnorm = mx.gluon.utils.clip_global_norm(grads, hparams.clip)\n",
    "        trainer.step(1)\n",
    "        \n",
    "        src_wc = src_valid_length.sum().asscalar()\n",
    "        tgt_wc = (tgt_valid_length - 1).sum().asscalar()\n",
    "        log_loss = log_loss.asscalar()\n",
    "        log_denom = log_denom.asscalar()\n",
    "        log_avg_gnorm += gnorm\n",
    "        log_wc += src_wc + tgt_wc\n",
    "        \n",
    "        train_loss = log_loss / log_denom\n",
    "        acc_train_loss_batch += train_loss\n",
    "        \n",
    "        if (batch_id + 1) % hparams.log_interval == 0:\n",
    "            wps = log_wc / (time.time() - log_start_time)\n",
    "            print(\"[Epoch {} Batch {}/{}] loss={:.4f}, ppl={:.4f}, gnorm={:.4f}, \"\n",
    "                         \"throughput={:.2f}K wps, wc={:.2f}K\"\n",
    "                         .format(epoch_id, batch_id + 1, len(wmt2016_train_data_loader),\n",
    "                                 train_loss,\n",
    "                                 np.exp(log_loss / log_denom),\n",
    "                                 log_avg_gnorm / hparams.log_interval,\n",
    "                                 wps / 1000, log_wc / 1000))\n",
    "            \n",
    "            log_start_time = time.time()\n",
    "            log_loss = 0\n",
    "            log_denom = 0\n",
    "            log_avg_gnorm = 0\n",
    "            log_wc = 0\n",
    "\n",
    "    wmt2016_train_loss = acc_train_loss_batch / len(wmt2016_train_data_loader)\n",
    "    wmt2016_train_losses.append(wmt2016_train_loss)\n",
    "    \n",
    "    # Validation step\n",
    "    wmt2016_valid_loss, wmt2016_valid_translation_out = transformer_model.evaluate(\n",
    "        wmt_transformer_model_ft,\n",
    "        wmt2016_val_data_loader,\n",
    "        loss_function,\n",
    "        wmt_translator_ft,\n",
    "        # wmt2016_train_data.tgt_vocab,\n",
    "        wmt_tgt_vocab,\n",
    "        wmt_detokenizer,\n",
    "        ctx)\n",
    "    \n",
    "    wmt2016_valid_bleu_score, _, _, _, _ = nmt.bleu.compute_bleu(\n",
    "        [wmt2016_val_tgt_sentences],\n",
    "        wmt2016_valid_translation_out,\n",
    "        tokenized=False,\n",
    "        tokenizer=\"13a\",\n",
    "        split_compound_word=False,\n",
    "        bpe=False)\n",
    "\n",
    "    wmt2016_valid_perplexity = np.exp(wmt2016_valid_loss)\n",
    "    wmt2016_valid_perplexities.append(wmt2016_valid_perplexity)\n",
    "    wmt2016_valid_losses.append(wmt2016_valid_loss)\n",
    "    wmt2016_valid_bleus.append(wmt2016_valid_bleu_score * 100)\n",
    "    \n",
    "    print(\"[Epoch {}] valid Loss={:.4f}, valid ppl={:.4f}, valid bleu={:.2f}\"\n",
    "          .format(epoch_id, wmt2016_valid_loss, wmt2016_valid_perplexity, wmt2016_valid_bleu_score * 100))\n",
    "    \n",
    "    if wmt2016_valid_bleu_score > best_valid_bleu:\n",
    "        best_valid_bleu = wmt2016_valid_bleu_score\n",
    "        print(\"Save best parameters to {}\".format(model_filename_ft))\n",
    "        wmt_transformer_model_ft.save_parameters(model_filename_ft)\n",
    "    \n",
    "    # if epoch_id + 1 >= (hparams.epochs * 2) // 3:\n",
    "    #     new_lr = trainer.learning_rate * hparams.lr_update_factor\n",
    "    #     print(\"Learning rate change to {}\".format(new_lr))\n",
    "    #     trainer.set_learning_rate(new_lr)\n"
   ]
  },
  {
   "cell_type": "code",
   "execution_count": 186,
   "id": "d67416b3-cec9-4987-9b2a-d56bc6e81b48",
   "metadata": {},
   "outputs": [
    {
     "data": {
      "image/png": "[encoded data removed]",
      "text/plain": [
       "<Figure size 640x480 with 1 Axes>"
      ]
     },
     "metadata": {},
     "output_type": "display_data"
    }
   ],
   "source": [
    "# plot losses and validation accuracy\n",
    "plt.style.use(\"ggplot\")\n",
    "plt.figure()\n",
    "plt.plot(range(0, hparams.epochs), wmt2016_train_losses, label=\"Training Loss\")\n",
    "# plt.plot(range(0, hparams.epochs), wmt2016_valid_losses, label=\"Validation Loss\")\n",
    "# plt.plot(range(0, hparams.epochs), wmt2016_valid_perplexities, label=\"Validation Perplexity\")\n",
    "# plt.plot(range(0, hparams.epochs), wmt2016_valid_bleus, label=\"Validation BLEU\")\n",
    "plt.xlabel(\"Epoch\")\n",
    "plt.ylabel(\"Loss\")\n",
    "plt.legend(loc=\"upper right\")\n",
    "plt.title(\"Training Loss\")\n",
    "plt.show()"
   ]
  },
  {
   "cell_type": "code",
   "execution_count": 125,
   "id": "d444bf6b-9552-4356-9865-98f4e077541d",
   "metadata": {},
   "outputs": [
    {
     "data": {
      "application/vnd.jupyter.widget-view+json": {
       "model_id": "684ccef4ecb3480997718612d257e748",
       "version_major": 2,
       "version_minor": 0
      },
      "text/plain": [
       "  0%|          | 0/184 [00:00<?, ?it/s]"
      ]
     },
     "metadata": {},
     "output_type": "display_data"
    },
    {
     "name": "stdout",
     "output_type": "stream",
     "text": [
      "WMT16 test loss: 1.23; test bleu score: 26.05\n"
     ]
    }
   ],
   "source": [
    "# Load best model\n",
    "wmt_transformer_model_ft.load_parameters(model_filename_ft)\n",
    "\n",
    "wmt2016_test_loss, wmt2016_test_translation_out = transformer_model.evaluate(\n",
    "    wmt_transformer_model_ft,\n",
    "    wmt2016_test_data_loader,\n",
    "    loss_function,\n",
    "    wmt_translator_ft,\n",
    "    wmt_tgt_vocab,\n",
    "    wmt_detokenizer,\n",
    "    ctx)\n",
    "\n",
    "wmt2016_test_bleu_score, _, _, _, _ = nmt.bleu.compute_bleu(\n",
    "    [wmt2016_test_tgt_sentences],\n",
    "    wmt2016_test_translation_out,\n",
    "    tokenized=False,\n",
    "    tokenizer=\"13a\",\n",
    "    split_compound_word=False,\n",
    "    bpe=False)\n",
    "\n",
    "print('WMT16 test loss: %.2f; test bleu score: %.2f'\n",
    "      %(wmt2016_test_loss, wmt2016_test_bleu_score * 100))"
   ]
  },
  {
   "cell_type": "code",
   "execution_count": 114,
   "id": "3adeb8df-ab19-4f62-a2ed-85eb6db5e966",
   "metadata": {},
   "outputs": [
    {
     "name": "stdout",
     "output_type": "stream",
     "text": [
      "Qualitative Evaluation: Translating from English to German\n",
      "Expected translation:\n",
      "Ich lerne jeden Tag neue Dinge.\n",
      "In English:\n",
      "I learn new things every day.\n",
      "The German translation is:\n",
      "Ich lerne jedes Mal Neues.\n"
     ]
    }
   ],
   "source": [
    "reload(transformer_model)\n",
    "\n",
    "print(\"Qualitative Evaluation: Translating from English to German\")\n",
    "\n",
    "# From Google Translate\n",
    "expected_tgt_seq = \"Ich lerne jeden Tag neue Dinge.\"\n",
    "print(\"Expected translation:\")\n",
    "print(expected_tgt_seq)\n",
    "\n",
    "src_seq = \"I learn new things every day.\"\n",
    "print(\"In English:\")\n",
    "print(src_seq)\n",
    "\n",
    "# translation_out = nmt.utils.translate_with_unk(\n",
    "# translation_out = nmt.utils.translate(\n",
    "translation_out = transformer_model.translate(\n",
    "    wmt_translator_ft,\n",
    "    src_seq,\n",
    "    # wmt2016_train_data.src_vocab,\n",
    "    # wmt2016_train_data.tgt_vocab,\n",
    "    wmt_src_vocab,\n",
    "    wmt_tgt_vocab,\n",
    "    wmt_detokenizer,\n",
    "    ctx)\n",
    "\n",
    "print(\"The German translation is:\")\n",
    "print(\" \".join(translation_out[0]))"
   ]
  },
  {
   "cell_type": "markdown",
   "id": "63406a3c-77bb-4a39-a5c5-a181c7f97308",
   "metadata": {},
   "source": [
    "## Fine-Tuning (directly)"
   ]
  },
  {
   "cell_type": "code",
   "execution_count": 187,
   "id": "dd2f0bf4-8e7b-4737-b2b0-73e724380c92",
   "metadata": {},
   "outputs": [
    {
     "name": "stderr",
     "output_type": "stream",
     "text": [
      "/home/andreto/.local/lib/python3.8/site-packages/gluonnlp/vocab/vocab.py:590: UserWarning: Detected a corrupted index in the deserialize vocabulary. For versions before GluonNLP v0.7 the index is corrupted by specifying the same token for different special purposes, for example eos_token == padding_token. Deserializing the vocabulary nevertheless.\n",
      "  warnings.warn(\n",
      "/home/andreto/.local/lib/python3.8/site-packages/mxnet/gluon/parameter.py:896: UserWarning: Parameter 'transformer_src_embed_embedding0_weight' is already initialized, ignoring. Set force_reinit=True to re-initialize.\n",
      "  v.initialize(None, ctx, init, force_reinit=force_reinit)\n",
      "/home/andreto/.local/lib/python3.8/site-packages/mxnet/gluon/parameter.py:896: UserWarning: Parameter 'transformer_src_embed_embedding0_bias' is already initialized, ignoring. Set force_reinit=True to re-initialize.\n",
      "  v.initialize(None, ctx, init, force_reinit=force_reinit)\n"
     ]
    }
   ],
   "source": [
    "ctx = mx.gpu()\n",
    "\n",
    "# Build on top of Pre-Trained model\n",
    "wmt_model_name = 'transformer_en_de_512'\n",
    "wmt_transformer_model_ft_direct, _, _ = nlp.model.get_model(\n",
    "    wmt_model_name,\n",
    "    dataset_name='WMT2014',\n",
    "    pretrained=True,\n",
    "    ctx=ctx)\n",
    "\n",
    "# No need to re-configure last layer, just re-initialize\n",
    "# wmt_transformer_model_ft_direct.tgt_proj = mx.gluon.nn.Dense(units=len(wmt_tgt_vocab), flatten=False, prefix='tgt_proj_')\n",
    "wmt_transformer_model_ft_direct.tgt_proj.initialize(ctx=ctx)\n",
    "\n",
    "wmt_transformer_model_ft_direct.hybridize()\n",
    "\n",
    "model_filename_ft_direct = \"transformer_en_de_512_ft_direct.params\""
   ]
  },
  {
   "cell_type": "code",
   "execution_count": 188,
   "id": "c4d2280b-dc1f-4be7-a084-c08bc4f9fd6e",
   "metadata": {},
   "outputs": [],
   "source": [
    "wmt_translator_ft_direct = nmt.translation.BeamSearchTranslator(\n",
    "    model=wmt_transformer_model_ft_direct,\n",
    "    beam_size=hparams.beam_size,\n",
    "    scorer=nlp.model.BeamSearchScorer(alpha=hparams.lp_alpha, K=hparams.lp_k),\n",
    "    max_length=200)"
   ]
  },
  {
   "cell_type": "code",
   "execution_count": 189,
   "id": "b200a2fc-758f-4929-9499-21586cfcc5c6",
   "metadata": {},
   "outputs": [],
   "source": [
    "hparams.epochs = 10\n",
    "hparams.lr = 0.00003\n",
    "\n",
    "loss_function = nlp.loss.MaskedSoftmaxCELoss()\n",
    "loss_function.hybridize(static_alloc=True)\n",
    "\n",
    "wmt_detokenizer = nlp.data.SacreMosesDetokenizer()"
   ]
  },
  {
   "cell_type": "code",
   "execution_count": 190,
   "id": "478231d1-a750-4412-aff5-c76d0631868b",
   "metadata": {},
   "outputs": [
    {
     "data": {
      "application/vnd.jupyter.widget-view+json": {
       "model_id": "2288c4359af246e997b8a11071f38d7a",
       "version_major": 2,
       "version_minor": 0
      },
      "text/plain": [
       "  0%|          | 0/10 [00:00<?, ?it/s]"
      ]
     },
     "metadata": {},
     "output_type": "display_data"
    },
    {
     "data": {
      "application/vnd.jupyter.widget-view+json": {
       "model_id": "0e152b64b4914cabbe475f566e516b8b",
       "version_major": 2,
       "version_minor": 0
      },
      "text/plain": [
       "  0%|          | 0/226 [00:00<?, ?it/s]"
      ]
     },
     "metadata": {},
     "output_type": "display_data"
    },
    {
     "name": "stdout",
     "output_type": "stream",
     "text": [
      "[Epoch 0 Batch 100/226] loss=1.4818, ppl=4.4009, gnorm=4.4320, throughput=6.46K wps, wc=38.40K\n",
      "[Epoch 0 Batch 200/226] loss=1.4594, ppl=4.3032, gnorm=4.5339, throughput=6.63K wps, wc=37.60K\n"
     ]
    },
    {
     "data": {
      "application/vnd.jupyter.widget-view+json": {
       "model_id": "1eb5eb4f1ff24b9da6176768011c4cd4",
       "version_major": 2,
       "version_minor": 0
      },
      "text/plain": [
       "  0%|          | 0/226 [00:00<?, ?it/s]"
      ]
     },
     "metadata": {},
     "output_type": "display_data"
    },
    {
     "name": "stdout",
     "output_type": "stream",
     "text": [
      "[Epoch 1 Batch 100/226] loss=1.2766, ppl=3.5845, gnorm=4.2499, throughput=6.58K wps, wc=37.89K\n",
      "[Epoch 1 Batch 200/226] loss=1.2379, ppl=3.4482, gnorm=4.2953, throughput=6.60K wps, wc=37.80K\n"
     ]
    },
    {
     "data": {
      "application/vnd.jupyter.widget-view+json": {
       "model_id": "3d3cce8d741c48f0a6dfddb8247022fa",
       "version_major": 2,
       "version_minor": 0
      },
      "text/plain": [
       "  0%|          | 0/226 [00:00<?, ?it/s]"
      ]
     },
     "metadata": {},
     "output_type": "display_data"
    },
    {
     "name": "stdout",
     "output_type": "stream",
     "text": [
      "[Epoch 2 Batch 100/226] loss=1.0743, ppl=2.9281, gnorm=3.9684, throughput=6.78K wps, wc=38.12K\n",
      "[Epoch 2 Batch 200/226] loss=1.1251, ppl=3.0805, gnorm=4.2989, throughput=6.65K wps, wc=37.52K\n"
     ]
    },
    {
     "data": {
      "application/vnd.jupyter.widget-view+json": {
       "model_id": "e811899198b34f08bcb8f9c567557ce6",
       "version_major": 2,
       "version_minor": 0
      },
      "text/plain": [
       "  0%|          | 0/226 [00:00<?, ?it/s]"
      ]
     },
     "metadata": {},
     "output_type": "display_data"
    },
    {
     "name": "stdout",
     "output_type": "stream",
     "text": [
      "[Epoch 3 Batch 100/226] loss=0.9730, ppl=2.6460, gnorm=4.0081, throughput=6.20K wps, wc=38.24K\n",
      "[Epoch 3 Batch 200/226] loss=0.9646, ppl=2.6237, gnorm=4.0554, throughput=6.63K wps, wc=37.58K\n"
     ]
    },
    {
     "data": {
      "application/vnd.jupyter.widget-view+json": {
       "model_id": "a0b585cf03f84f7688b3b6c11b693fc6",
       "version_major": 2,
       "version_minor": 0
      },
      "text/plain": [
       "  0%|          | 0/226 [00:00<?, ?it/s]"
      ]
     },
     "metadata": {},
     "output_type": "display_data"
    },
    {
     "name": "stdout",
     "output_type": "stream",
     "text": [
      "[Epoch 4 Batch 100/226] loss=0.8541, ppl=2.3493, gnorm=4.0030, throughput=6.68K wps, wc=37.54K\n",
      "[Epoch 4 Batch 200/226] loss=0.8544, ppl=2.3500, gnorm=4.0174, throughput=6.53K wps, wc=38.53K\n"
     ]
    },
    {
     "data": {
      "application/vnd.jupyter.widget-view+json": {
       "model_id": "fd866b8b4f984f7aa133a2717f2ccee8",
       "version_major": 2,
       "version_minor": 0
      },
      "text/plain": [
       "  0%|          | 0/226 [00:00<?, ?it/s]"
      ]
     },
     "metadata": {},
     "output_type": "display_data"
    },
    {
     "name": "stdout",
     "output_type": "stream",
     "text": [
      "[Epoch 5 Batch 100/226] loss=0.7550, ppl=2.1276, gnorm=3.9647, throughput=6.67K wps, wc=38.03K\n",
      "[Epoch 5 Batch 200/226] loss=0.7450, ppl=2.1064, gnorm=3.9991, throughput=6.65K wps, wc=38.17K\n"
     ]
    },
    {
     "data": {
      "application/vnd.jupyter.widget-view+json": {
       "model_id": "abf7b67822a94002b33b809c35a44a09",
       "version_major": 2,
       "version_minor": 0
      },
      "text/plain": [
       "  0%|          | 0/226 [00:00<?, ?it/s]"
      ]
     },
     "metadata": {},
     "output_type": "display_data"
    },
    {
     "name": "stdout",
     "output_type": "stream",
     "text": [
      "[Epoch 6 Batch 100/226] loss=0.6489, ppl=1.9134, gnorm=3.8105, throughput=6.61K wps, wc=38.24K\n",
      "[Epoch 6 Batch 200/226] loss=0.6584, ppl=1.9316, gnorm=3.9389, throughput=6.61K wps, wc=38.29K\n"
     ]
    },
    {
     "data": {
      "application/vnd.jupyter.widget-view+json": {
       "model_id": "12b3315bb33d41b1b3c7c0e6a2bef556",
       "version_major": 2,
       "version_minor": 0
      },
      "text/plain": [
       "  0%|          | 0/226 [00:00<?, ?it/s]"
      ]
     },
     "metadata": {},
     "output_type": "display_data"
    },
    {
     "name": "stdout",
     "output_type": "stream",
     "text": [
      "[Epoch 7 Batch 100/226] loss=0.5615, ppl=1.7533, gnorm=3.6398, throughput=6.59K wps, wc=37.98K\n",
      "[Epoch 7 Batch 200/226] loss=0.5819, ppl=1.7893, gnorm=3.8930, throughput=6.71K wps, wc=38.02K\n"
     ]
    },
    {
     "data": {
      "application/vnd.jupyter.widget-view+json": {
       "model_id": "cf7fab2c16254a26815a4d3d51b14c42",
       "version_major": 2,
       "version_minor": 0
      },
      "text/plain": [
       "  0%|          | 0/226 [00:00<?, ?it/s]"
      ]
     },
     "metadata": {},
     "output_type": "display_data"
    },
    {
     "name": "stdout",
     "output_type": "stream",
     "text": [
      "[Epoch 8 Batch 100/226] loss=0.5100, ppl=1.6653, gnorm=3.6705, throughput=6.77K wps, wc=38.19K\n",
      "[Epoch 8 Batch 200/226] loss=0.4960, ppl=1.6421, gnorm=3.6656, throughput=6.66K wps, wc=37.88K\n"
     ]
    },
    {
     "data": {
      "application/vnd.jupyter.widget-view+json": {
       "model_id": "3f5d6ccb894840ffa452adafd50a904b",
       "version_major": 2,
       "version_minor": 0
      },
      "text/plain": [
       "  0%|          | 0/226 [00:00<?, ?it/s]"
      ]
     },
     "metadata": {},
     "output_type": "display_data"
    },
    {
     "name": "stdout",
     "output_type": "stream",
     "text": [
      "[Epoch 9 Batch 100/226] loss=0.4276, ppl=1.5336, gnorm=3.4199, throughput=6.74K wps, wc=38.35K\n",
      "[Epoch 9 Batch 200/226] loss=0.4396, ppl=1.5521, gnorm=3.7138, throughput=6.64K wps, wc=37.73K\n"
     ]
    }
   ],
   "source": [
    "reload(transformer_model)\n",
    "\n",
    "# Let's train\n",
    "trainer = mx.gluon.Trainer(wmt_transformer_model_ft_direct.collect_params(), hparams.optimizer, {'learning_rate': hparams.lr})\n",
    "\n",
    "best_valid_bleu = 0.0\n",
    "\n",
    "wmt2016_train_losses = []\n",
    "wmt2016_valid_losses = []\n",
    "wmt2016_valid_bleus  = []\n",
    "wmt2016_valid_perplexities = []\n",
    "\n",
    "for epoch_id in tqdm(range(hparams.epochs)):\n",
    "\n",
    "    acc_train_loss_batch = 0\n",
    "    log_loss = 0\n",
    "    log_denom = 0\n",
    "    log_avg_gnorm = 0\n",
    "    log_wc = 0\n",
    "    log_start_time = time.time()\n",
    "\n",
    "    # Iterate through each batch\n",
    "    for batch_id, (src_seq, tgt_seq, src_valid_length, tgt_valid_length) in enumerate(tqdm(wmt2016_train_data_loader)):\n",
    "        \n",
    "        src_seq = src_seq.as_in_context(ctx)\n",
    "        tgt_seq = tgt_seq.as_in_context(ctx)\n",
    "        src_valid_length = src_valid_length.as_in_context(ctx)\n",
    "        tgt_valid_length = tgt_valid_length.as_in_context(ctx)\n",
    "        \n",
    "        with mx.autograd.record():\n",
    "            out, _ = wmt_transformer_model_ft_direct(\n",
    "                src_seq,\n",
    "                tgt_seq[:, :-1],\n",
    "                src_valid_length,\n",
    "                tgt_valid_length - 1)\n",
    "\n",
    "            loss = loss_function(out, tgt_seq[:, 1:], tgt_valid_length - 1).mean()\n",
    "            loss = loss * (tgt_seq.shape[1] - 1)\n",
    "            log_loss += loss * tgt_seq.shape[0]\n",
    "            log_denom += (tgt_valid_length - 1).sum()\n",
    "            loss = loss / (tgt_valid_length - 1).mean()\n",
    "            loss.backward()\n",
    "\n",
    "        grads = [p.grad(ctx) for p in wmt_transformer_model_ft_direct.collect_params().values() if p.grad_req != 'null']\n",
    "        gnorm = mx.gluon.utils.clip_global_norm(grads, hparams.clip)\n",
    "        trainer.step(1)\n",
    "        \n",
    "        src_wc = src_valid_length.sum().asscalar()\n",
    "        tgt_wc = (tgt_valid_length - 1).sum().asscalar()\n",
    "        log_loss = log_loss.asscalar()\n",
    "        log_denom = log_denom.asscalar()\n",
    "        log_avg_gnorm += gnorm\n",
    "        log_wc += src_wc + tgt_wc\n",
    "        \n",
    "        train_loss = log_loss / log_denom\n",
    "        acc_train_loss_batch += train_loss\n",
    "        \n",
    "        if (batch_id + 1) % hparams.log_interval == 0:\n",
    "            wps = log_wc / (time.time() - log_start_time)\n",
    "            print(\"[Epoch {} Batch {}/{}] loss={:.4f}, ppl={:.4f}, gnorm={:.4f}, \"\n",
    "                         \"throughput={:.2f}K wps, wc={:.2f}K\"\n",
    "                         .format(epoch_id, batch_id + 1, len(wmt2016_train_data_loader),\n",
    "                                 train_loss,\n",
    "                                 np.exp(log_loss / log_denom),\n",
    "                                 log_avg_gnorm / hparams.log_interval,\n",
    "                                 wps / 1000, log_wc / 1000))\n",
    "            \n",
    "            log_start_time = time.time()\n",
    "            log_loss = 0\n",
    "            log_denom = 0\n",
    "            log_avg_gnorm = 0\n",
    "            log_wc = 0\n",
    "\n",
    "    wmt2016_train_loss = acc_train_loss_batch / len(wmt2016_train_data_loader)\n",
    "    wmt2016_train_losses.append(wmt2016_train_loss)\n",
    "    \n",
    "    # Validation step\n",
    "    wmt2016_valid_loss, wmt2016_valid_translation_out = transformer_model.evaluate(\n",
    "        wmt_transformer_model_ft_direct,\n",
    "        wmt2016_val_data_loader,\n",
    "        loss_function,\n",
    "        wmt_translator_ft_direct,\n",
    "        # wmt2016_train_data.tgt_vocab,\n",
    "        wmt_tgt_vocab,\n",
    "        wmt_detokenizer,\n",
    "        ctx)\n",
    "    \n",
    "    wmt2016_valid_bleu_score, _, _, _, _ = nmt.bleu.compute_bleu(\n",
    "        [wmt2016_val_tgt_sentences],\n",
    "        wmt2016_valid_translation_out,\n",
    "        tokenized=False,\n",
    "        tokenizer=\"13a\",\n",
    "        split_compound_word=False,\n",
    "        bpe=False)\n",
    "\n",
    "    wmt2016_valid_perplexity = np.exp(wmt2016_valid_loss)\n",
    "    wmt2016_valid_perplexities.append(wmt2016_valid_perplexity)\n",
    "    wmt2016_valid_losses.append(wmt2016_valid_loss)\n",
    "    wmt2016_valid_bleus.append(wmt2016_valid_bleu_score * 100)\n",
    "    \n",
    "    print(\"[Epoch {}] valid Loss={:.4f}, valid ppl={:.4f}, valid bleu={:.2f}\"\n",
    "          .format(epoch_id, wmt2016_valid_loss, wmt2016_valid_perplexity, wmt2016_valid_bleu_score * 100))\n",
    "    \n",
    "    if wmt2016_valid_bleu_score > best_valid_bleu:\n",
    "        best_valid_bleu = wmt2016_valid_bleu_score\n",
    "        print(\"Save best parameters to {}\".format(model_filename_ft_direct))\n",
    "        wmt_transformer_model_ft_direct.save_parameters(model_filename_ft_direct)\n",
    "    \n",
    "    # if epoch_id + 1 >= (hparams.epochs * 2) // 3:\n",
    "    #     new_lr = trainer.learning_rate * hparams.lr_update_factor\n",
    "    #     print(\"Learning rate change to {}\".format(new_lr))\n",
    "    #     trainer.set_learning_rate(new_lr)\n"
   ]
  },
  {
   "cell_type": "code",
   "execution_count": 191,
   "id": "58f79a1c-b98f-45da-aa84-3a0ed55f837c",
   "metadata": {},
   "outputs": [
    {
     "data": {
      "image/png": "[encoded data removed]",
      "text/plain": [
       "<Figure size 640x480 with 1 Axes>"
      ]
     },
     "metadata": {},
     "output_type": "display_data"
    }
   ],
   "source": [
    "# plot losses and validation accuracy\n",
    "plt.style.use(\"ggplot\")\n",
    "plt.figure()\n",
    "plt.plot(range(0, hparams.epochs), wmt2016_train_losses, label=\"Training Loss\")\n",
    "# plt.plot(range(0, hparams.epochs), wmt2016_valid_losses, label=\"Validation Loss\")\n",
    "# plt.plot(range(0, hparams.epochs), wmt2016_valid_perplexities, label=\"Validation Perplexity\")\n",
    "# plt.plot(range(0, hparams.epochs), wmt2016_valid_bleus, label=\"Validation BLEU\")\n",
    "plt.xlabel(\"Epoch\")\n",
    "plt.ylabel(\"Loss\")\n",
    "plt.legend(loc=\"upper right\")\n",
    "plt.title(\"Training Loss\")\n",
    "plt.show()"
   ]
  },
  {
   "cell_type": "code",
   "execution_count": 120,
   "id": "d4c62094-2c3b-4cf2-8de5-19887e2121fc",
   "metadata": {},
   "outputs": [
    {
     "data": {
      "application/vnd.jupyter.widget-view+json": {
       "model_id": "bee3c6ba6ea14034a2d09bbce8cf7cfa",
       "version_major": 2,
       "version_minor": 0
      },
      "text/plain": [
       "  0%|          | 0/184 [00:00<?, ?it/s]"
      ]
     },
     "metadata": {},
     "output_type": "display_data"
    },
    {
     "name": "stdout",
     "output_type": "stream",
     "text": [
      "WMT16 test loss: 1.22; test bleu score: 26.75\n"
     ]
    }
   ],
   "source": [
    "# Load best model\n",
    "wmt_transformer_model_ft_direct.load_parameters(model_filename_ft_direct)\n",
    "\n",
    "wmt2016_test_loss, wmt2016_test_translation_out = transformer_model.evaluate(\n",
    "    wmt_transformer_model_ft_direct,\n",
    "    wmt2016_test_data_loader,\n",
    "    loss_function,\n",
    "    wmt_translator_ft_direct,\n",
    "    wmt_tgt_vocab,\n",
    "    wmt_detokenizer,\n",
    "    ctx)\n",
    "\n",
    "wmt2016_test_bleu_score, _, _, _, _ = nmt.bleu.compute_bleu(\n",
    "    [wmt2016_test_tgt_sentences],\n",
    "    wmt2016_test_translation_out,\n",
    "    tokenized=False,\n",
    "    tokenizer=\"13a\",\n",
    "    split_compound_word=False,\n",
    "    bpe=False)\n",
    "\n",
    "print('WMT16 test loss: %.2f; test bleu score: %.2f'\n",
    "      %(wmt2016_test_loss, wmt2016_test_bleu_score * 100))"
   ]
  },
  {
   "cell_type": "code",
   "execution_count": 124,
   "id": "d587c72d-695b-430e-a12b-fbbbcc5743cc",
   "metadata": {},
   "outputs": [
    {
     "name": "stdout",
     "output_type": "stream",
     "text": [
      "Qualitative Evaluation: Translating from English to German\n",
      "Expected translation:\n",
      "Ich lerne jeden Tag neue Dinge.\n",
      "In English:\n",
      "I learn new things every day.\n",
      "The German translation is:\n",
      "Ich lerne jedes Mal neue Dinge\n"
     ]
    }
   ],
   "source": [
    "reload(transformer_model)\n",
    "\n",
    "print(\"Qualitative Evaluation: Translating from English to German\")\n",
    "\n",
    "# From Google Translate\n",
    "expected_tgt_seq = \"Ich lerne jeden Tag neue Dinge.\"\n",
    "print(\"Expected translation:\")\n",
    "print(expected_tgt_seq)\n",
    "\n",
    "src_seq = \"I learn new things every day.\"\n",
    "print(\"In English:\")\n",
    "print(src_seq)\n",
    "\n",
    "# translation_out = nmt.utils.translate_with_unk(\n",
    "# translation_out = nmt.utils.translate(\n",
    "translation_out = transformer_model.translate(\n",
    "    wmt_translator_ft_direct,\n",
    "    src_seq,\n",
    "    # wmt2016_train_data.src_vocab,\n",
    "    # wmt2016_train_data.tgt_vocab,\n",
    "    wmt_src_vocab,\n",
    "    wmt_tgt_vocab,\n",
    "    wmt_detokenizer,\n",
    "    ctx)\n",
    "\n",
    "print(\"The German translation is:\")\n",
    "print(\" \".join(translation_out[0]))"
   ]
  }
 ],
 "metadata": {
  "kernelspec": {
   "display_name": "Python 3 (ipykernel)",
   "language": "python",
   "name": "python3"
  },
  "language_info": {
   "codemirror_mode": {
    "name": "ipython",
    "version": 3
   },
   "file_extension": ".py",
   "mimetype": "text/x-python",
   "name": "python",
   "nbconvert_exporter": "python",
   "pygments_lexer": "ipython3",
   "version": "3.8.10"
  }
 },
 "nbformat": 4,
 "nbformat_minor": 5
}
