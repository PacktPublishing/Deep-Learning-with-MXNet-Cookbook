{
 "cells": [
  {
   "cell_type": "code",
   "execution_count": 1,
   "id": "de6b5fce",
   "metadata": {
    "scrolled": true
   },
   "outputs": [
    {
     "data": {
      "text/plain": [
       "4"
      ]
     },
     "execution_count": 1,
     "metadata": {},
     "output_type": "execute_result"
    }
   ],
   "source": [
    "import os\n",
    "import multiprocessing\n",
    "multiprocessing.cpu_count()"
   ]
  },
  {
   "cell_type": "code",
   "execution_count": 2,
   "id": "0bd2779f",
   "metadata": {},
   "outputs": [],
   "source": [
    "# Reference: https://mxnet.apache.org/versions/1.9.1/api/faq/env_var\n",
    "\n",
    "# os.environ[\"MXNET_CPU_WORKER_NTHREADS\"] = \"1\"\n",
    "# os.environ[\"MXNET_CPU_PRIORITY_NTHREADS\"] = \"1\"\n",
    "# os.environ[\"MXNET_CPU_NNPACK_NTHREADS\"] = \"1\"\n",
    "# os.environ[\"MXNET_EXEC_NUM_TEMP\"] = \"1\"\n",
    "# os.environ[\"MXNET_ENGINE_TYPE\"] = \"NaiveEngine\"\n",
    "\n",
    "# Default Mode: \"ThreadedEnginePerDevice\"\n",
    "# os.environ[\"MXNET_CPU_WORKER_NTHREADS\"] = \"4\"\n",
    "# os.environ[\"MXNET_CPU_PRIORITY_NTHREADS\"] = \"4\"\n",
    "# os.environ[\"MXNET_CPU_NNPACK_NTHREADS\"] = \"4\"\n",
    "# os.environ[\"MXNET_EXEC_NUM_TEMP\"] = \"4\"\n",
    "# os.environ[\"MXNET_ENGINE_TYPE\"] = \"ThreadedEnginePerDevice\""
   ]
  },
  {
   "cell_type": "code",
   "execution_count": 3,
   "id": "117850d2",
   "metadata": {},
   "outputs": [],
   "source": [
    "from importlib import reload\n",
    "import matplotlib.pyplot as plt\n",
    "import mxnet as mx\n",
    "from mxnet.contrib import amp\n",
    "import time\n",
    "import timeit\n",
    "from tqdm.notebook import tqdm\n",
    "\n",
    "import gluoncv as gcv"
   ]
  },
  {
   "cell_type": "code",
   "execution_count": null,
   "id": "2a808af4",
   "metadata": {},
   "outputs": [],
   "source": [
    "# Dataset Loading & Transforming\n",
    "image_size = 479\n",
    "\n",
    "input_transform_fn = mx.gluon.data.vision.transforms.Compose([\n",
    "    mx.gluon.data.vision.transforms.Resize(image_size, keep_ratio=True),\n",
    "    mx.gluon.data.vision.transforms.CenterCrop(image_size),\n",
    "    mx.gluon.data.vision.transforms.ToTensor(),\n",
    "    mx.gluon.data.vision.transforms.Normalize([.485, .456, .406], [.229, .224, .225])\n",
    "])\n",
    "\n",
    "to_gpu_fn = lambda x: x.as_in_context(mx.gpu())\n",
    "\n",
    "input_transform_fn_gpu = mx.gluon.data.vision.transforms.Compose([\n",
    "    to_gpu_fn,\n",
    "    input_transform_fn\n",
    "])\n",
    "\n",
    "# Pre-processing in GPU, with transforms\n",
    "# then copying back to CPU memory space\n",
    "\n",
    "# Pre-processing in GPU, with transforms\n",
    "# Unfortunately, we cannot copy directly into GPU the labels\n",
    "# Not supported ty ADE20KSegmentation class\n",
    "\n",
    "to_cpu_fn = lambda x: x.as_in_context(mx.cpu())\n",
    "\n",
    "input_transform_fn_gpu_cpu = mx.gluon.data.vision.transforms.Compose([\n",
    "    input_transform_fn_gpu,\n",
    "    to_cpu_fn\n",
    "])\n",
    "\n",
    "# No need for mask transform changes\n",
    "ade20k_val_gpu_cpu = gcv.data.ADE20KSegmentation(split='val', transform=input_transform_fn_gpu_cpu)\n",
    "\n",
    "num_workers = 4\n",
    "batch_size = 4\n",
    "\n",
    "# DataLoader all in GPU, no copies necessary\n",
    "ade20k_val_loader_gpu_cpu = mx.gluon.data.DataLoader(\n",
    "    ade20k_val_gpu_cpu,\n",
    "    batch_size=batch_size,\n",
    "    num_workers=num_workers,\n",
    "    thread_pool=True)"
   ]
  },
  {
   "cell_type": "markdown",
   "id": "531c892c",
   "metadata": {},
   "source": [
    "## Hybridize"
   ]
  },
  {
   "cell_type": "code",
   "execution_count": null,
   "id": "dc5608c9",
   "metadata": {},
   "outputs": [],
   "source": [
    "deeplab_pt_cpu = gcv.model_zoo.get_model('deeplab_resnet101_coco', pretrained=True, ctx=mx.cpu())\n",
    "\n",
    "start_time = time.time()\n",
    "\n",
    "for data, _ in tqdm(ade20k_val_loader_gpu_cpu):\n",
    "    deeplab_pt_cpu(data)\n",
    "    \n",
    "print(\"Time (s):\", time.time() - start_time)"
   ]
  },
  {
   "cell_type": "code",
   "execution_count": 5,
   "id": "f5584485",
   "metadata": {},
   "outputs": [
    {
     "data": {
      "application/vnd.jupyter.widget-view+json": {
       "model_id": "457fbb5114af4b33bc82fc8350d28869",
       "version_major": 2,
       "version_minor": 0
      },
      "text/plain": [
       "  0%|          | 0/1000 [00:00<?, ?it/s]"
      ]
     },
     "metadata": {},
     "output_type": "display_data"
    },
    {
     "name": "stderr",
     "output_type": "stream",
     "text": [
      "[20:31:45] /work/mxnet/src/base.cc:79: cuDNN lib mismatch: linked-against version 8200 != compiled-against version 8201.  Set MXNET_CUDNN_LIB_CHECKING=0 to quiet this warning.\n"
     ]
    },
    {
     "ename": "KeyboardInterrupt",
     "evalue": "",
     "output_type": "error",
     "traceback": [
      "\u001b[0;31m---------------------------------------------------------------------------\u001b[0m",
      "\u001b[0;31mKeyboardInterrupt\u001b[0m                         Traceback (most recent call last)",
      "\u001b[0;32m/var/tmp/ipykernel_32563/1999912474.py\u001b[0m in \u001b[0;36m<module>\u001b[0;34m\u001b[0m\n\u001b[1;32m      4\u001b[0m \u001b[0mstart_time\u001b[0m \u001b[0;34m=\u001b[0m \u001b[0mtime\u001b[0m\u001b[0;34m.\u001b[0m\u001b[0mtime\u001b[0m\u001b[0;34m(\u001b[0m\u001b[0;34m)\u001b[0m\u001b[0;34m\u001b[0m\u001b[0;34m\u001b[0m\u001b[0m\n\u001b[1;32m      5\u001b[0m \u001b[0;34m\u001b[0m\u001b[0m\n\u001b[0;32m----> 6\u001b[0;31m \u001b[0;32mfor\u001b[0m \u001b[0mdata\u001b[0m\u001b[0;34m,\u001b[0m \u001b[0m_\u001b[0m \u001b[0;32min\u001b[0m \u001b[0mtqdm\u001b[0m\u001b[0;34m(\u001b[0m\u001b[0made20k_val_loader_gpu_cpu\u001b[0m\u001b[0;34m)\u001b[0m\u001b[0;34m:\u001b[0m\u001b[0;34m\u001b[0m\u001b[0;34m\u001b[0m\u001b[0m\n\u001b[0m\u001b[1;32m      7\u001b[0m     \u001b[0mdeeplab_pt_cpu_hybrid\u001b[0m\u001b[0;34m(\u001b[0m\u001b[0mdata\u001b[0m\u001b[0;34m)\u001b[0m\u001b[0;34m\u001b[0m\u001b[0;34m\u001b[0m\u001b[0m\n\u001b[1;32m      8\u001b[0m \u001b[0;34m\u001b[0m\u001b[0m\n",
      "\u001b[0;32m~/.local/lib/python3.7/site-packages/tqdm/notebook.py\u001b[0m in \u001b[0;36m__iter__\u001b[0;34m(self)\u001b[0m\n\u001b[1;32m    247\u001b[0m         \u001b[0;32mtry\u001b[0m\u001b[0;34m:\u001b[0m\u001b[0;34m\u001b[0m\u001b[0;34m\u001b[0m\u001b[0m\n\u001b[1;32m    248\u001b[0m             \u001b[0mit\u001b[0m \u001b[0;34m=\u001b[0m \u001b[0msuper\u001b[0m\u001b[0;34m(\u001b[0m\u001b[0mtqdm_notebook\u001b[0m\u001b[0;34m,\u001b[0m \u001b[0mself\u001b[0m\u001b[0;34m)\u001b[0m\u001b[0;34m.\u001b[0m\u001b[0m__iter__\u001b[0m\u001b[0;34m(\u001b[0m\u001b[0;34m)\u001b[0m\u001b[0;34m\u001b[0m\u001b[0;34m\u001b[0m\u001b[0m\n\u001b[0;32m--> 249\u001b[0;31m             \u001b[0;32mfor\u001b[0m \u001b[0mobj\u001b[0m \u001b[0;32min\u001b[0m \u001b[0mit\u001b[0m\u001b[0;34m:\u001b[0m\u001b[0;34m\u001b[0m\u001b[0;34m\u001b[0m\u001b[0m\n\u001b[0m\u001b[1;32m    250\u001b[0m                 \u001b[0;31m# return super(tqdm...) will not catch exception\u001b[0m\u001b[0;34m\u001b[0m\u001b[0;34m\u001b[0m\u001b[0;34m\u001b[0m\u001b[0m\n\u001b[1;32m    251\u001b[0m                 \u001b[0;32myield\u001b[0m \u001b[0mobj\u001b[0m\u001b[0;34m\u001b[0m\u001b[0;34m\u001b[0m\u001b[0m\n",
      "\u001b[0;32m~/.local/lib/python3.7/site-packages/tqdm/std.py\u001b[0m in \u001b[0;36m__iter__\u001b[0;34m(self)\u001b[0m\n\u001b[1;32m   1180\u001b[0m \u001b[0;34m\u001b[0m\u001b[0m\n\u001b[1;32m   1181\u001b[0m         \u001b[0;32mtry\u001b[0m\u001b[0;34m:\u001b[0m\u001b[0;34m\u001b[0m\u001b[0;34m\u001b[0m\u001b[0m\n\u001b[0;32m-> 1182\u001b[0;31m             \u001b[0;32mfor\u001b[0m \u001b[0mobj\u001b[0m \u001b[0;32min\u001b[0m \u001b[0miterable\u001b[0m\u001b[0;34m:\u001b[0m\u001b[0;34m\u001b[0m\u001b[0;34m\u001b[0m\u001b[0m\n\u001b[0m\u001b[1;32m   1183\u001b[0m                 \u001b[0;32myield\u001b[0m \u001b[0mobj\u001b[0m\u001b[0;34m\u001b[0m\u001b[0;34m\u001b[0m\u001b[0m\n\u001b[1;32m   1184\u001b[0m                 \u001b[0;31m# Update and possibly print the progressbar.\u001b[0m\u001b[0;34m\u001b[0m\u001b[0;34m\u001b[0m\u001b[0;34m\u001b[0m\u001b[0m\n",
      "\u001b[0;32m~/.local/lib/python3.7/site-packages/mxnet/gluon/data/dataloader.py\u001b[0m in \u001b[0;36m__iter__\u001b[0;34m(self)\u001b[0m\n\u001b[1;32m    687\u001b[0m         \u001b[0mt\u001b[0m \u001b[0;34m=\u001b[0m \u001b[0mself\u001b[0m\u001b[0;34m.\u001b[0m\u001b[0m_iter\u001b[0m\u001b[0;34m\u001b[0m\u001b[0;34m\u001b[0m\u001b[0m\n\u001b[1;32m    688\u001b[0m         \u001b[0mself\u001b[0m\u001b[0;34m.\u001b[0m\u001b[0m_iter\u001b[0m \u001b[0;34m=\u001b[0m \u001b[0;32mNone\u001b[0m \u001b[0;31m# ensure a single iter would not using twice.\u001b[0m\u001b[0;34m\u001b[0m\u001b[0;34m\u001b[0m\u001b[0m\n\u001b[0;32m--> 689\u001b[0;31m         \u001b[0;32mfor\u001b[0m \u001b[0mitem\u001b[0m \u001b[0;32min\u001b[0m \u001b[0mt\u001b[0m\u001b[0;34m:\u001b[0m\u001b[0;34m\u001b[0m\u001b[0;34m\u001b[0m\u001b[0m\n\u001b[0m\u001b[1;32m    690\u001b[0m             \u001b[0;32myield\u001b[0m \u001b[0mitem\u001b[0m\u001b[0;34m\u001b[0m\u001b[0;34m\u001b[0m\u001b[0m\n\u001b[1;32m    691\u001b[0m         \u001b[0;32mif\u001b[0m \u001b[0mself\u001b[0m\u001b[0;34m.\u001b[0m\u001b[0m_iter\u001b[0m \u001b[0;32mis\u001b[0m \u001b[0;32mNone\u001b[0m \u001b[0;32mand\u001b[0m \u001b[0mself\u001b[0m\u001b[0;34m.\u001b[0m\u001b[0mauto_reload\u001b[0m\u001b[0;34m:\u001b[0m\u001b[0;34m\u001b[0m\u001b[0;34m\u001b[0m\u001b[0m\n",
      "\u001b[0;32m~/.local/lib/python3.7/site-packages/mxnet/gluon/data/dataloader.py\u001b[0m in \u001b[0;36msame_process_iter\u001b[0;34m()\u001b[0m\n\u001b[1;32m    697\u001b[0m             \u001b[0;32mdef\u001b[0m \u001b[0msame_process_iter\u001b[0m\u001b[0;34m(\u001b[0m\u001b[0;34m)\u001b[0m\u001b[0;34m:\u001b[0m\u001b[0;34m\u001b[0m\u001b[0;34m\u001b[0m\u001b[0m\n\u001b[1;32m    698\u001b[0m                 \u001b[0;32mfor\u001b[0m \u001b[0mbatch\u001b[0m \u001b[0;32min\u001b[0m \u001b[0mself\u001b[0m\u001b[0;34m.\u001b[0m\u001b[0m_batch_sampler\u001b[0m\u001b[0;34m:\u001b[0m\u001b[0;34m\u001b[0m\u001b[0;34m\u001b[0m\u001b[0m\n\u001b[0;32m--> 699\u001b[0;31m                     \u001b[0mret\u001b[0m \u001b[0;34m=\u001b[0m \u001b[0mself\u001b[0m\u001b[0;34m.\u001b[0m\u001b[0m_batchify_fn\u001b[0m\u001b[0;34m(\u001b[0m\u001b[0;34m[\u001b[0m\u001b[0mself\u001b[0m\u001b[0;34m.\u001b[0m\u001b[0m_dataset\u001b[0m\u001b[0;34m[\u001b[0m\u001b[0midx\u001b[0m\u001b[0;34m]\u001b[0m \u001b[0;32mfor\u001b[0m \u001b[0midx\u001b[0m \u001b[0;32min\u001b[0m \u001b[0mbatch\u001b[0m\u001b[0;34m]\u001b[0m\u001b[0;34m)\u001b[0m\u001b[0;34m\u001b[0m\u001b[0;34m\u001b[0m\u001b[0m\n\u001b[0m\u001b[1;32m    700\u001b[0m                     \u001b[0;32mif\u001b[0m \u001b[0mself\u001b[0m\u001b[0;34m.\u001b[0m\u001b[0m_pin_memory\u001b[0m\u001b[0;34m:\u001b[0m\u001b[0;34m\u001b[0m\u001b[0;34m\u001b[0m\u001b[0m\n\u001b[1;32m    701\u001b[0m                         \u001b[0mret\u001b[0m \u001b[0;34m=\u001b[0m \u001b[0m_as_in_context\u001b[0m\u001b[0;34m(\u001b[0m\u001b[0mret\u001b[0m\u001b[0;34m,\u001b[0m \u001b[0mcontext\u001b[0m\u001b[0;34m.\u001b[0m\u001b[0mcpu_pinned\u001b[0m\u001b[0;34m(\u001b[0m\u001b[0mself\u001b[0m\u001b[0;34m.\u001b[0m\u001b[0m_pin_device_id\u001b[0m\u001b[0;34m)\u001b[0m\u001b[0;34m)\u001b[0m\u001b[0;34m\u001b[0m\u001b[0;34m\u001b[0m\u001b[0m\n",
      "\u001b[0;32m~/.local/lib/python3.7/site-packages/mxnet/gluon/data/dataloader.py\u001b[0m in \u001b[0;36m<listcomp>\u001b[0;34m(.0)\u001b[0m\n\u001b[1;32m    697\u001b[0m             \u001b[0;32mdef\u001b[0m \u001b[0msame_process_iter\u001b[0m\u001b[0;34m(\u001b[0m\u001b[0;34m)\u001b[0m\u001b[0;34m:\u001b[0m\u001b[0;34m\u001b[0m\u001b[0;34m\u001b[0m\u001b[0m\n\u001b[1;32m    698\u001b[0m                 \u001b[0;32mfor\u001b[0m \u001b[0mbatch\u001b[0m \u001b[0;32min\u001b[0m \u001b[0mself\u001b[0m\u001b[0;34m.\u001b[0m\u001b[0m_batch_sampler\u001b[0m\u001b[0;34m:\u001b[0m\u001b[0;34m\u001b[0m\u001b[0;34m\u001b[0m\u001b[0m\n\u001b[0;32m--> 699\u001b[0;31m                     \u001b[0mret\u001b[0m \u001b[0;34m=\u001b[0m \u001b[0mself\u001b[0m\u001b[0;34m.\u001b[0m\u001b[0m_batchify_fn\u001b[0m\u001b[0;34m(\u001b[0m\u001b[0;34m[\u001b[0m\u001b[0mself\u001b[0m\u001b[0;34m.\u001b[0m\u001b[0m_dataset\u001b[0m\u001b[0;34m[\u001b[0m\u001b[0midx\u001b[0m\u001b[0;34m]\u001b[0m \u001b[0;32mfor\u001b[0m \u001b[0midx\u001b[0m \u001b[0;32min\u001b[0m \u001b[0mbatch\u001b[0m\u001b[0;34m]\u001b[0m\u001b[0;34m)\u001b[0m\u001b[0;34m\u001b[0m\u001b[0;34m\u001b[0m\u001b[0m\n\u001b[0m\u001b[1;32m    700\u001b[0m                     \u001b[0;32mif\u001b[0m \u001b[0mself\u001b[0m\u001b[0;34m.\u001b[0m\u001b[0m_pin_memory\u001b[0m\u001b[0;34m:\u001b[0m\u001b[0;34m\u001b[0m\u001b[0;34m\u001b[0m\u001b[0m\n\u001b[1;32m    701\u001b[0m                         \u001b[0mret\u001b[0m \u001b[0;34m=\u001b[0m \u001b[0m_as_in_context\u001b[0m\u001b[0;34m(\u001b[0m\u001b[0mret\u001b[0m\u001b[0;34m,\u001b[0m \u001b[0mcontext\u001b[0m\u001b[0;34m.\u001b[0m\u001b[0mcpu_pinned\u001b[0m\u001b[0;34m(\u001b[0m\u001b[0mself\u001b[0m\u001b[0;34m.\u001b[0m\u001b[0m_pin_device_id\u001b[0m\u001b[0;34m)\u001b[0m\u001b[0;34m)\u001b[0m\u001b[0;34m\u001b[0m\u001b[0;34m\u001b[0m\u001b[0m\n",
      "\u001b[0;32m~/.local/lib/python3.7/site-packages/gluoncv/data/ade20k/segmentation.py\u001b[0m in \u001b[0;36m__getitem__\u001b[0;34m(self, index)\u001b[0m\n\u001b[1;32m    121\u001b[0m             \u001b[0mimg\u001b[0m\u001b[0;34m,\u001b[0m \u001b[0mmask\u001b[0m \u001b[0;34m=\u001b[0m \u001b[0mself\u001b[0m\u001b[0;34m.\u001b[0m\u001b[0m_sync_transform\u001b[0m\u001b[0;34m(\u001b[0m\u001b[0mimg\u001b[0m\u001b[0;34m,\u001b[0m \u001b[0mmask\u001b[0m\u001b[0;34m)\u001b[0m\u001b[0;34m\u001b[0m\u001b[0;34m\u001b[0m\u001b[0m\n\u001b[1;32m    122\u001b[0m         \u001b[0;32melif\u001b[0m \u001b[0mself\u001b[0m\u001b[0;34m.\u001b[0m\u001b[0mmode\u001b[0m \u001b[0;34m==\u001b[0m \u001b[0;34m'val'\u001b[0m\u001b[0;34m:\u001b[0m\u001b[0;34m\u001b[0m\u001b[0;34m\u001b[0m\u001b[0m\n\u001b[0;32m--> 123\u001b[0;31m             \u001b[0mimg\u001b[0m\u001b[0;34m,\u001b[0m \u001b[0mmask\u001b[0m \u001b[0;34m=\u001b[0m \u001b[0mself\u001b[0m\u001b[0;34m.\u001b[0m\u001b[0m_val_sync_transform\u001b[0m\u001b[0;34m(\u001b[0m\u001b[0mimg\u001b[0m\u001b[0;34m,\u001b[0m \u001b[0mmask\u001b[0m\u001b[0;34m)\u001b[0m\u001b[0;34m\u001b[0m\u001b[0;34m\u001b[0m\u001b[0m\n\u001b[0m\u001b[1;32m    124\u001b[0m         \u001b[0;32melse\u001b[0m\u001b[0;34m:\u001b[0m\u001b[0;34m\u001b[0m\u001b[0;34m\u001b[0m\u001b[0m\n\u001b[1;32m    125\u001b[0m             \u001b[0;32massert\u001b[0m \u001b[0mself\u001b[0m\u001b[0;34m.\u001b[0m\u001b[0mmode\u001b[0m \u001b[0;34m==\u001b[0m \u001b[0;34m'testval'\u001b[0m\u001b[0;34m\u001b[0m\u001b[0;34m\u001b[0m\u001b[0m\n",
      "\u001b[0;32m~/.local/lib/python3.7/site-packages/gluoncv/data/segbase.py\u001b[0m in \u001b[0;36m_val_sync_transform\u001b[0;34m(self, img, mask)\u001b[0m\n\u001b[1;32m     41\u001b[0m         \u001b[0mmask\u001b[0m \u001b[0;34m=\u001b[0m \u001b[0mmask\u001b[0m\u001b[0;34m.\u001b[0m\u001b[0mcrop\u001b[0m\u001b[0;34m(\u001b[0m\u001b[0;34m(\u001b[0m\u001b[0mx1\u001b[0m\u001b[0;34m,\u001b[0m \u001b[0my1\u001b[0m\u001b[0;34m,\u001b[0m \u001b[0mx1\u001b[0m\u001b[0;34m+\u001b[0m\u001b[0moutsize\u001b[0m\u001b[0;34m,\u001b[0m \u001b[0my1\u001b[0m\u001b[0;34m+\u001b[0m\u001b[0moutsize\u001b[0m\u001b[0;34m)\u001b[0m\u001b[0;34m)\u001b[0m\u001b[0;34m\u001b[0m\u001b[0;34m\u001b[0m\u001b[0m\n\u001b[1;32m     42\u001b[0m         \u001b[0;31m# final transform\u001b[0m\u001b[0;34m\u001b[0m\u001b[0;34m\u001b[0m\u001b[0;34m\u001b[0m\u001b[0m\n\u001b[0;32m---> 43\u001b[0;31m         \u001b[0mimg\u001b[0m\u001b[0;34m,\u001b[0m \u001b[0mmask\u001b[0m \u001b[0;34m=\u001b[0m \u001b[0mself\u001b[0m\u001b[0;34m.\u001b[0m\u001b[0m_img_transform\u001b[0m\u001b[0;34m(\u001b[0m\u001b[0mimg\u001b[0m\u001b[0;34m)\u001b[0m\u001b[0;34m,\u001b[0m \u001b[0mself\u001b[0m\u001b[0;34m.\u001b[0m\u001b[0m_mask_transform\u001b[0m\u001b[0;34m(\u001b[0m\u001b[0mmask\u001b[0m\u001b[0;34m)\u001b[0m\u001b[0;34m\u001b[0m\u001b[0;34m\u001b[0m\u001b[0m\n\u001b[0m\u001b[1;32m     44\u001b[0m         \u001b[0;32mreturn\u001b[0m \u001b[0mimg\u001b[0m\u001b[0;34m,\u001b[0m \u001b[0mmask\u001b[0m\u001b[0;34m\u001b[0m\u001b[0;34m\u001b[0m\u001b[0m\n\u001b[1;32m     45\u001b[0m \u001b[0;34m\u001b[0m\u001b[0m\n",
      "\u001b[0;32m~/.local/lib/python3.7/site-packages/gluoncv/data/ade20k/segmentation.py\u001b[0m in \u001b[0;36m_mask_transform\u001b[0;34m(self, mask)\u001b[0m\n\u001b[1;32m    131\u001b[0m \u001b[0;34m\u001b[0m\u001b[0m\n\u001b[1;32m    132\u001b[0m     \u001b[0;32mdef\u001b[0m \u001b[0m_mask_transform\u001b[0m\u001b[0;34m(\u001b[0m\u001b[0mself\u001b[0m\u001b[0;34m,\u001b[0m \u001b[0mmask\u001b[0m\u001b[0;34m)\u001b[0m\u001b[0;34m:\u001b[0m\u001b[0;34m\u001b[0m\u001b[0;34m\u001b[0m\u001b[0m\n\u001b[0;32m--> 133\u001b[0;31m         \u001b[0;32mreturn\u001b[0m \u001b[0mmx\u001b[0m\u001b[0;34m.\u001b[0m\u001b[0mnd\u001b[0m\u001b[0;34m.\u001b[0m\u001b[0marray\u001b[0m\u001b[0;34m(\u001b[0m\u001b[0mnp\u001b[0m\u001b[0;34m.\u001b[0m\u001b[0marray\u001b[0m\u001b[0;34m(\u001b[0m\u001b[0mmask\u001b[0m\u001b[0;34m)\u001b[0m\u001b[0;34m,\u001b[0m \u001b[0mmx\u001b[0m\u001b[0;34m.\u001b[0m\u001b[0mcpu\u001b[0m\u001b[0;34m(\u001b[0m\u001b[0;36m0\u001b[0m\u001b[0;34m)\u001b[0m\u001b[0;34m)\u001b[0m\u001b[0;34m.\u001b[0m\u001b[0mastype\u001b[0m\u001b[0;34m(\u001b[0m\u001b[0;34m'int32'\u001b[0m\u001b[0;34m)\u001b[0m \u001b[0;34m-\u001b[0m \u001b[0;36m1\u001b[0m\u001b[0;34m\u001b[0m\u001b[0;34m\u001b[0m\u001b[0m\n\u001b[0m\u001b[1;32m    134\u001b[0m \u001b[0;34m\u001b[0m\u001b[0m\n\u001b[1;32m    135\u001b[0m     \u001b[0;32mdef\u001b[0m \u001b[0m__len__\u001b[0m\u001b[0;34m(\u001b[0m\u001b[0mself\u001b[0m\u001b[0;34m)\u001b[0m\u001b[0;34m:\u001b[0m\u001b[0;34m\u001b[0m\u001b[0;34m\u001b[0m\u001b[0m\n",
      "\u001b[0;32m~/.local/lib/python3.7/site-packages/mxnet/ndarray/utils.py\u001b[0m in \u001b[0;36marray\u001b[0;34m(source_array, ctx, dtype)\u001b[0m\n\u001b[1;32m    144\u001b[0m         \u001b[0;32mreturn\u001b[0m \u001b[0m_sparse_array\u001b[0m\u001b[0;34m(\u001b[0m\u001b[0msource_array\u001b[0m\u001b[0;34m,\u001b[0m \u001b[0mctx\u001b[0m\u001b[0;34m=\u001b[0m\u001b[0mctx\u001b[0m\u001b[0;34m,\u001b[0m \u001b[0mdtype\u001b[0m\u001b[0;34m=\u001b[0m\u001b[0mdtype\u001b[0m\u001b[0;34m)\u001b[0m\u001b[0;34m\u001b[0m\u001b[0;34m\u001b[0m\u001b[0m\n\u001b[1;32m    145\u001b[0m     \u001b[0;32melse\u001b[0m\u001b[0;34m:\u001b[0m\u001b[0;34m\u001b[0m\u001b[0;34m\u001b[0m\u001b[0m\n\u001b[0;32m--> 146\u001b[0;31m         \u001b[0;32mreturn\u001b[0m \u001b[0m_array\u001b[0m\u001b[0;34m(\u001b[0m\u001b[0msource_array\u001b[0m\u001b[0;34m,\u001b[0m \u001b[0mctx\u001b[0m\u001b[0;34m=\u001b[0m\u001b[0mctx\u001b[0m\u001b[0;34m,\u001b[0m \u001b[0mdtype\u001b[0m\u001b[0;34m=\u001b[0m\u001b[0mdtype\u001b[0m\u001b[0;34m)\u001b[0m\u001b[0;34m\u001b[0m\u001b[0;34m\u001b[0m\u001b[0m\n\u001b[0m\u001b[1;32m    147\u001b[0m \u001b[0;34m\u001b[0m\u001b[0m\n\u001b[1;32m    148\u001b[0m \u001b[0;34m\u001b[0m\u001b[0m\n",
      "\u001b[0;32m~/.local/lib/python3.7/site-packages/mxnet/ndarray/ndarray.py\u001b[0m in \u001b[0;36marray\u001b[0;34m(source_array, ctx, dtype)\u001b[0m\n\u001b[1;32m   3375\u001b[0m     \u001b[0;32melse\u001b[0m\u001b[0;34m:\u001b[0m\u001b[0;34m\u001b[0m\u001b[0;34m\u001b[0m\u001b[0m\n\u001b[1;32m   3376\u001b[0m         \u001b[0marr\u001b[0m \u001b[0;34m=\u001b[0m \u001b[0mempty\u001b[0m\u001b[0;34m(\u001b[0m\u001b[0msource_array\u001b[0m\u001b[0;34m.\u001b[0m\u001b[0mshape\u001b[0m\u001b[0;34m,\u001b[0m \u001b[0mctx\u001b[0m\u001b[0;34m,\u001b[0m \u001b[0mdtype\u001b[0m\u001b[0;34m)\u001b[0m\u001b[0;34m\u001b[0m\u001b[0;34m\u001b[0m\u001b[0m\n\u001b[0;32m-> 3377\u001b[0;31m         \u001b[0marr\u001b[0m\u001b[0;34m[\u001b[0m\u001b[0;34m:\u001b[0m\u001b[0;34m]\u001b[0m \u001b[0;34m=\u001b[0m \u001b[0msource_array\u001b[0m\u001b[0;34m\u001b[0m\u001b[0;34m\u001b[0m\u001b[0m\n\u001b[0m\u001b[1;32m   3378\u001b[0m         \u001b[0;32mreturn\u001b[0m \u001b[0marr\u001b[0m\u001b[0;34m\u001b[0m\u001b[0;34m\u001b[0m\u001b[0m\n\u001b[1;32m   3379\u001b[0m \u001b[0;34m\u001b[0m\u001b[0m\n",
      "\u001b[0;32m~/.local/lib/python3.7/site-packages/mxnet/ndarray/ndarray.py\u001b[0m in \u001b[0;36m__setitem__\u001b[0;34m(self, key, value)\u001b[0m\n\u001b[1;32m    544\u001b[0m             \u001b[0mindexing_dispatch_code\u001b[0m \u001b[0;34m=\u001b[0m \u001b[0mget_indexing_dispatch_code\u001b[0m\u001b[0;34m(\u001b[0m\u001b[0mslc_key\u001b[0m\u001b[0;34m)\u001b[0m\u001b[0;34m\u001b[0m\u001b[0;34m\u001b[0m\u001b[0m\n\u001b[1;32m    545\u001b[0m             \u001b[0;32mif\u001b[0m \u001b[0mindexing_dispatch_code\u001b[0m \u001b[0;34m==\u001b[0m \u001b[0m_NDARRAY_BASIC_INDEXING\u001b[0m\u001b[0;34m:\u001b[0m\u001b[0;34m\u001b[0m\u001b[0;34m\u001b[0m\u001b[0m\n\u001b[0;32m--> 546\u001b[0;31m                 \u001b[0mself\u001b[0m\u001b[0;34m.\u001b[0m\u001b[0m_set_nd_basic_indexing\u001b[0m\u001b[0;34m(\u001b[0m\u001b[0mkey\u001b[0m\u001b[0;34m,\u001b[0m \u001b[0mvalue\u001b[0m\u001b[0;34m)\u001b[0m\u001b[0;34m\u001b[0m\u001b[0;34m\u001b[0m\u001b[0m\n\u001b[0m\u001b[1;32m    547\u001b[0m             \u001b[0;32melif\u001b[0m \u001b[0mindexing_dispatch_code\u001b[0m \u001b[0;34m==\u001b[0m \u001b[0m_NDARRAY_ADVANCED_INDEXING\u001b[0m\u001b[0;34m:\u001b[0m\u001b[0;34m\u001b[0m\u001b[0;34m\u001b[0m\u001b[0m\n\u001b[1;32m    548\u001b[0m                 \u001b[0mself\u001b[0m\u001b[0;34m.\u001b[0m\u001b[0m_set_nd_advanced_indexing\u001b[0m\u001b[0;34m(\u001b[0m\u001b[0mkey\u001b[0m\u001b[0;34m,\u001b[0m \u001b[0mvalue\u001b[0m\u001b[0;34m)\u001b[0m\u001b[0;34m\u001b[0m\u001b[0;34m\u001b[0m\u001b[0m\n",
      "\u001b[0;32m~/.local/lib/python3.7/site-packages/mxnet/ndarray/ndarray.py\u001b[0m in \u001b[0;36m_set_nd_basic_indexing\u001b[0;34m(self, key, value)\u001b[0m\n\u001b[1;32m    987\u001b[0m                 \u001b[0;32mif\u001b[0m \u001b[0misinstance\u001b[0m\u001b[0;34m(\u001b[0m\u001b[0mvalue\u001b[0m\u001b[0;34m,\u001b[0m \u001b[0mnp\u001b[0m\u001b[0;34m.\u001b[0m\u001b[0mgeneric\u001b[0m\u001b[0;34m)\u001b[0m \u001b[0;32mor\u001b[0m \u001b[0mvalue\u001b[0m\u001b[0;34m.\u001b[0m\u001b[0mshape\u001b[0m \u001b[0;34m!=\u001b[0m \u001b[0mself\u001b[0m\u001b[0;34m.\u001b[0m\u001b[0mshape\u001b[0m\u001b[0;34m:\u001b[0m\u001b[0;34m\u001b[0m\u001b[0;34m\u001b[0m\u001b[0m\n\u001b[1;32m    988\u001b[0m                     \u001b[0mvalue\u001b[0m \u001b[0;34m=\u001b[0m \u001b[0mnp\u001b[0m\u001b[0;34m.\u001b[0m\u001b[0mbroadcast_to\u001b[0m\u001b[0;34m(\u001b[0m\u001b[0mvalue\u001b[0m\u001b[0;34m,\u001b[0m \u001b[0mself\u001b[0m\u001b[0;34m.\u001b[0m\u001b[0mshape\u001b[0m\u001b[0;34m)\u001b[0m\u001b[0;34m\u001b[0m\u001b[0;34m\u001b[0m\u001b[0m\n\u001b[0;32m--> 989\u001b[0;31m                 \u001b[0mself\u001b[0m\u001b[0;34m.\u001b[0m\u001b[0m_sync_copyfrom\u001b[0m\u001b[0;34m(\u001b[0m\u001b[0mvalue\u001b[0m\u001b[0;34m)\u001b[0m\u001b[0;34m\u001b[0m\u001b[0;34m\u001b[0m\u001b[0m\n\u001b[0m\u001b[1;32m    990\u001b[0m \u001b[0;34m\u001b[0m\u001b[0m\n\u001b[1;32m    991\u001b[0m             \u001b[0;32melse\u001b[0m\u001b[0;34m:\u001b[0m\u001b[0;34m\u001b[0m\u001b[0;34m\u001b[0m\u001b[0m\n",
      "\u001b[0;32m~/.local/lib/python3.7/site-packages/mxnet/ndarray/ndarray.py\u001b[0m in \u001b[0;36m_sync_copyfrom\u001b[0;34m(self, source_array)\u001b[0m\n\u001b[1;32m   1327\u001b[0m             \u001b[0mself\u001b[0m\u001b[0;34m.\u001b[0m\u001b[0mhandle\u001b[0m\u001b[0;34m,\u001b[0m\u001b[0;34m\u001b[0m\u001b[0;34m\u001b[0m\u001b[0m\n\u001b[1;32m   1328\u001b[0m             \u001b[0msource_array\u001b[0m\u001b[0;34m.\u001b[0m\u001b[0mctypes\u001b[0m\u001b[0;34m.\u001b[0m\u001b[0mdata_as\u001b[0m\u001b[0;34m(\u001b[0m\u001b[0mctypes\u001b[0m\u001b[0;34m.\u001b[0m\u001b[0mc_void_p\u001b[0m\u001b[0;34m)\u001b[0m\u001b[0;34m,\u001b[0m\u001b[0;34m\u001b[0m\u001b[0;34m\u001b[0m\u001b[0m\n\u001b[0;32m-> 1329\u001b[0;31m             ctypes.c_size_t(source_array.size)))\n\u001b[0m\u001b[1;32m   1330\u001b[0m \u001b[0;34m\u001b[0m\u001b[0m\n\u001b[1;32m   1331\u001b[0m     \u001b[0;32mdef\u001b[0m \u001b[0m_slice\u001b[0m\u001b[0;34m(\u001b[0m\u001b[0mself\u001b[0m\u001b[0;34m,\u001b[0m \u001b[0mstart\u001b[0m\u001b[0;34m,\u001b[0m \u001b[0mstop\u001b[0m\u001b[0;34m)\u001b[0m\u001b[0;34m:\u001b[0m\u001b[0;34m\u001b[0m\u001b[0;34m\u001b[0m\u001b[0m\n",
      "\u001b[0;31mKeyboardInterrupt\u001b[0m: "
     ]
    }
   ],
   "source": [
    "deeplab_pt_cpu_hybrid = gcv.model_zoo.get_model('deeplab_resnet101_coco', pretrained=True, ctx=mx.cpu())\n",
    "deeplab_pt_cpu_hybrid.hybridize()\n",
    "\n",
    "start_time = time.time()\n",
    "\n",
    "for data, _ in tqdm(ade20k_val_loader_gpu_cpu):\n",
    "    deeplab_pt_cpu_hybrid(data)\n",
    "    \n",
    "print(\"Time (s):\", time.time() - start_time)"
   ]
  },
  {
   "cell_type": "code",
   "execution_count": 5,
   "id": "82ccb02d",
   "metadata": {},
   "outputs": [
    {
     "name": "stderr",
     "output_type": "stream",
     "text": [
      "[20:53:55] /work/mxnet/src/base.cc:79: cuDNN lib mismatch: linked-against version 8200 != compiled-against version 8201.  Set MXNET_CUDNN_LIB_CHECKING=0 to quiet this warning.\n"
     ]
    },
    {
     "data": {
      "application/vnd.jupyter.widget-view+json": {
       "model_id": "8957f93cdba744aaaf70ee344f1f7173",
       "version_major": 2,
       "version_minor": 0
      },
      "text/plain": [
       "  0%|          | 0/500 [00:00<?, ?it/s]"
      ]
     },
     "metadata": {},
     "output_type": "display_data"
    },
    {
     "name": "stderr",
     "output_type": "stream",
     "text": [
      "[20:53:59] /work/mxnet/src/operator/nn/./cudnn/./cudnn_algoreg-inl.h:96: Running performance tests to find the best convolution algorithm, this can take a while... (set the environment variable MXNET_CUDNN_AUTOTUNE_DEFAULT to 0 to disable)\n"
     ]
    },
    {
     "name": "stdout",
     "output_type": "stream",
     "text": [
      "Time (s): 45.90499544143677\n"
     ]
    }
   ],
   "source": [
    "deeplab_pt_gpu = gcv.model_zoo.get_model('deeplab_resnet101_coco', pretrained=True, ctx=mx.gpu())\n",
    "\n",
    "start_time = time.time()\n",
    "\n",
    "for data, _ in tqdm(ade20k_val_loader_gpu_cpu):\n",
    "    deeplab_pt_gpu(data.as_in_context(mx.gpu()))\n",
    "    \n",
    "print(\"Time (s):\", time.time() - start_time)"
   ]
  },
  {
   "cell_type": "code",
   "execution_count": null,
   "id": "b894f104",
   "metadata": {},
   "outputs": [],
   "source": []
  },
  {
   "cell_type": "markdown",
   "id": "5d2c4445",
   "metadata": {},
   "source": [
    "Check memory footprint"
   ]
  },
  {
   "cell_type": "code",
   "execution_count": null,
   "id": "fde14058",
   "metadata": {},
   "outputs": [],
   "source": []
  },
  {
   "cell_type": "code",
   "execution_count": 6,
   "id": "9fd8db65",
   "metadata": {
    "scrolled": true
   },
   "outputs": [
    {
     "data": {
      "application/vnd.jupyter.widget-view+json": {
       "model_id": "f37dddf1ab0d40bdbfeb592305561f3b",
       "version_major": 2,
       "version_minor": 0
      },
      "text/plain": [
       "  0%|          | 0/500 [00:00<?, ?it/s]"
      ]
     },
     "metadata": {},
     "output_type": "display_data"
    },
    {
     "name": "stdout",
     "output_type": "stream",
     "text": [
      "Time (s): 35.678776025772095\n"
     ]
    }
   ],
   "source": [
    "deeplab_pt_hybrid_default = gcv.model_zoo.get_model('deeplab_resnet101_coco', pretrained=True, ctx=mx.gpu())\n",
    "deeplab_pt_hybrid_default.hybridize()\n",
    "\n",
    "start_time = time.time()\n",
    "\n",
    "for data, _ in tqdm(ade20k_val_loader_gpu_cpu):\n",
    "    deeplab_pt_hybrid_default(data.as_in_context(mx.gpu()))\n",
    "    \n",
    "print(\"Time (s):\", time.time() - start_time)"
   ]
  },
  {
   "cell_type": "code",
   "execution_count": null,
   "id": "a86523a0",
   "metadata": {},
   "outputs": [],
   "source": []
  },
  {
   "cell_type": "markdown",
   "id": "ea89cb48",
   "metadata": {},
   "source": [
    "Check memory footprint"
   ]
  },
  {
   "cell_type": "code",
   "execution_count": null,
   "id": "43d5b4b6",
   "metadata": {},
   "outputs": [],
   "source": []
  },
  {
   "cell_type": "code",
   "execution_count": 4,
   "id": "17c3fd84",
   "metadata": {},
   "outputs": [
    {
     "name": "stderr",
     "output_type": "stream",
     "text": [
      "[20:56:33] /work/mxnet/src/base.cc:79: cuDNN lib mismatch: linked-against version 8200 != compiled-against version 8201.  Set MXNET_CUDNN_LIB_CHECKING=0 to quiet this warning.\n"
     ]
    },
    {
     "data": {
      "application/vnd.jupyter.widget-view+json": {
       "model_id": "de8c364950004e158a501a0f6c5be58b",
       "version_major": 2,
       "version_minor": 0
      },
      "text/plain": [
       "  0%|          | 0/500 [00:00<?, ?it/s]"
      ]
     },
     "metadata": {},
     "output_type": "display_data"
    },
    {
     "name": "stderr",
     "output_type": "stream",
     "text": [
      "[20:56:38] /work/mxnet/src/operator/nn/./cudnn/./cudnn_algoreg-inl.h:96: Running performance tests to find the best convolution algorithm, this can take a while... (set the environment variable MXNET_CUDNN_AUTOTUNE_DEFAULT to 0 to disable)\n"
     ]
    },
    {
     "name": "stdout",
     "output_type": "stream",
     "text": [
      "Time (s): 33.17140793800354\n"
     ]
    }
   ],
   "source": [
    "deeplab_pt_hybrid_static_alloc = gcv.model_zoo.get_model('deeplab_resnet101_coco', pretrained=True, ctx=mx.gpu())\n",
    "deeplab_pt_hybrid_static_alloc.hybridize(static_alloc=True)\n",
    "\n",
    "start_time = time.time()\n",
    "\n",
    "for data, _ in tqdm(ade20k_val_loader_gpu_cpu):\n",
    "    deeplab_pt_hybrid_static_alloc(data.as_in_context(mx.gpu()))\n",
    "    \n",
    "print(\"Time (s):\", time.time() - start_time)"
   ]
  },
  {
   "cell_type": "code",
   "execution_count": null,
   "id": "35cdb0bc",
   "metadata": {},
   "outputs": [],
   "source": []
  },
  {
   "cell_type": "markdown",
   "id": "6cb5daae",
   "metadata": {},
   "source": [
    "Check memory footprint"
   ]
  },
  {
   "cell_type": "code",
   "execution_count": null,
   "id": "44ce01b9",
   "metadata": {},
   "outputs": [],
   "source": []
  },
  {
   "cell_type": "code",
   "execution_count": 5,
   "id": "657cca3a",
   "metadata": {},
   "outputs": [
    {
     "data": {
      "application/vnd.jupyter.widget-view+json": {
       "model_id": "ff23fec58117422bb5b04e3574eedbdc",
       "version_major": 2,
       "version_minor": 0
      },
      "text/plain": [
       "  0%|          | 0/500 [00:00<?, ?it/s]"
      ]
     },
     "metadata": {},
     "output_type": "display_data"
    },
    {
     "name": "stdout",
     "output_type": "stream",
     "text": [
      "Time (s): 38.07335376739502\n"
     ]
    }
   ],
   "source": [
    "deeplab_pt_hybrid_static_alloc_space = gcv.model_zoo.get_model('deeplab_resnet101_coco', pretrained=True, ctx=mx.gpu())\n",
    "deeplab_pt_hybrid_static_alloc_space.hybridize(static_alloc=True, static_space=True)\n",
    "\n",
    "start_time = time.time()\n",
    "\n",
    "for data, _ in tqdm(ade20k_val_loader_gpu_cpu):\n",
    "    data = data.as_in_context(mx.gpu())\n",
    "    deeplab_pt_hybrid_static_alloc_space(data)\n",
    "    \n",
    "print(\"Time (s):\", time.time() - start_time)"
   ]
  },
  {
   "cell_type": "code",
   "execution_count": null,
   "id": "51008aa2",
   "metadata": {},
   "outputs": [],
   "source": []
  },
  {
   "cell_type": "code",
   "execution_count": null,
   "id": "de7fa323",
   "metadata": {},
   "outputs": [],
   "source": [
    "Check memory footprint and example with a different shape"
   ]
  },
  {
   "cell_type": "code",
   "execution_count": null,
   "id": "8cf529e5",
   "metadata": {},
   "outputs": [],
   "source": []
  },
  {
   "cell_type": "code",
   "execution_count": null,
   "id": "884e7810",
   "metadata": {},
   "outputs": [],
   "source": [
    "deeplab_pt_hybrid_static_alloc_space.hybridize(active=False)\n",
    "\n",
    "start_time = time.time()\n",
    "\n",
    "for data, _ in tqdm(ade20k_val_loader_gpu_cpu):\n",
    "    deeplab_pt_gpu(data)\n",
    "    \n",
    "print(\"Time (s):\", time.time() - start_time)"
   ]
  },
  {
   "cell_type": "code",
   "execution_count": null,
   "id": "60582fe8",
   "metadata": {},
   "outputs": [],
   "source": []
  },
  {
   "cell_type": "code",
   "execution_count": null,
   "id": "c5f39997",
   "metadata": {},
   "outputs": [],
   "source": []
  },
  {
   "cell_type": "code",
   "execution_count": null,
   "id": "ad499c95",
   "metadata": {},
   "outputs": [],
   "source": []
  },
  {
   "cell_type": "markdown",
   "id": "06692561",
   "metadata": {},
   "source": [
    "net = Net()\n",
    "net.collect_params().initialize()\n",
    "x = nd.random_normal(shape=(1, 512))\n",
    "print('=== 1st forward ===')\n",
    "y = net(x)\n",
    "print('=== 2nd forward ===')\n",
    "y = net(x)\n",
    "=== 1st forward ===\n",
    "type(x): NDArray, F: mxnet.ndarray\n",
    "=== 2nd forward ===\n",
    "type(x): NDArray, F: mxnet.ndarray\n",
    "\n",
    "net.hybridize()\n",
    "print('=== 1st forward ===')\n",
    "y = net(x)\n",
    "print('=== 2nd forward ===')\n",
    "y = net(x)\n",
    "=== 1st forward ===\n",
    "type(x): Symbol, F: mxnet.symbol\n",
    "=== 2nd forward ==="
   ]
  },
  {
   "cell_type": "markdown",
   "id": "bfd98f5d",
   "metadata": {},
   "source": [
    "I can talk about symbolic and imperative programming\n",
    "HybridSequential / HybridBlock / Hybrid_forward\n",
    "\n",
    "https://github.com/awslabs/dynamic-training-with-apache-mxnet-on-aws/blob/master/docs/tutorials/gluon/custom_layer.md"
   ]
  },
  {
   "cell_type": "markdown",
   "id": "25b5527d",
   "metadata": {},
   "source": [
    "## Multiplication of Matrices"
   ]
  },
  {
   "cell_type": "code",
   "execution_count": null,
   "id": "f5c5a94a",
   "metadata": {},
   "outputs": [],
   "source": [
    "wait_for_operations = True\n",
    "compute_results = False\n",
    "\n",
    "start_time = time.time()\n",
    "\n",
    "for _ in tqdm(range(10)):\n",
    "    a = mx.nd.random.normal(shape=(10000, 10000))\n",
    "    if wait_for_operations:\n",
    "        a.wait_to_read()\n",
    "    b = mx.nd.random.normal(shape=(10000, 10000))\n",
    "    if wait_for_operations:\n",
    "        b.wait_to_read()\n",
    "    c = mx.nd.random.normal(shape=(10000, 10000))\n",
    "    if wait_for_operations:\n",
    "        c.wait_to_read()\n",
    "    d = mx.nd.random.normal(shape=(10000, 10000))\n",
    "    if wait_for_operations:\n",
    "        d.wait_to_read()\n",
    "\n",
    "    s1 = a * a * a * a * b * b * b * b\n",
    "    if wait_for_operations:\n",
    "        s1.wait_to_read()\n",
    "    s2 = c * c * c * c * d * d * d * d\n",
    "    if wait_for_operations:\n",
    "        s2.wait_to_read()\n",
    "    s1 = s1 * s1 * s1 * s1 * s1 * s1 * s1 * s1\n",
    "    if wait_for_operations:\n",
    "        s1.wait_to_read()\n",
    "    s2 = s2 * s2 * s2 * s2 * s2 * s2 * s2 * s2\n",
    "    if wait_for_operations:\n",
    "        s2.wait_to_read()\n",
    "    s_total = s1 * s2\n",
    "    s_total = s_total * s_total * s_total * s_total\n",
    "    if wait_for_operations:\n",
    "        s_total.wait_to_read()\n",
    "        \n",
    "    if compute_results:\n",
    "        s_total.wait_to_read()\n",
    "        \n",
    "print(\"Time (s):\", time.time() - start_time)"
   ]
  },
  {
   "cell_type": "code",
   "execution_count": null,
   "id": "39c0554e",
   "metadata": {},
   "outputs": [],
   "source": [
    "start_time = time.time()\n",
    "\n",
    "s_total = []\n",
    "\n",
    "for _ in tqdm(range(10)):\n",
    "    a = mx.nd.random.normal(shape=(10000, 10000))\n",
    "    b = mx.nd.random.normal(shape=(10000, 10000))\n",
    "    c = mx.nd.random.normal(shape=(10000, 10000))\n",
    "    d = mx.nd.random.normal(shape=(10000, 10000))\n",
    "\n",
    "    s1 = a * a * a * a * b * b * b * b\n",
    "    s2 = c * c * c * c * d * d * d * d\n",
    "    s1 = s1 * s1 * s1 * s1 * s1 * s1 * s1 * s1 \n",
    "    s2 = s2 * s2 * s2 * s2 * s2 * s2 * s2 * s2\n",
    "    s_total = s1 * s2\n",
    "    s_total = s_total * s_total * s_total * s_total\n",
    "\n",
    "mx.nd.waitall()\n",
    "        \n",
    "print(\"Time (s):\", time.time() - start_time)"
   ]
  },
  {
   "cell_type": "markdown",
   "id": "3974c42d",
   "metadata": {},
   "source": [
    "## DataLoaders"
   ]
  },
  {
   "cell_type": "code",
   "execution_count": null,
   "id": "71ce3f2f",
   "metadata": {
    "scrolled": true
   },
   "outputs": [],
   "source": [
    "import gluoncv as gcv\n",
    "\n",
    "# ADE20K Preliminary steps\n",
    "# Needs source code from Gluon-CV, run (in your desired code folder):\n",
    "# gh repo clone dmlc/gluon-cv\n",
    "# in the gluon-cv/scripts/datasets folder, there is a script called\n",
    "# ade20k.py, run it with:\n",
    "# !python3 ade20k.py "
   ]
  },
  {
   "cell_type": "code",
   "execution_count": null,
   "id": "dcaf2935",
   "metadata": {},
   "outputs": [],
   "source": [
    "# All in CPU, no transforms\n",
    "ade20k_val = gcv.data.ADE20KSegmentation(split='val')\n",
    "\n",
    "data_shape = []\n",
    "labels_shape = []\n",
    "\n",
    "start_time = time.time()\n",
    "\n",
    "for data, label in tqdm(ade20k_val):\n",
    "    data_shape.append(data.shape)\n",
    "    labels_shape.append(label.shape)\n",
    "    \n",
    "print(\"Time (s):\", time.time() - start_time)"
   ]
  },
  {
   "cell_type": "code",
   "execution_count": null,
   "id": "42b38c6d",
   "metadata": {},
   "outputs": [],
   "source": [
    "image_size = 1200\n",
    "\n",
    "input_transform_fn = mx.gluon.data.vision.transforms.Compose([\n",
    "    mx.gluon.data.vision.transforms.Resize(image_size, keep_ratio=True),\n",
    "    mx.gluon.data.vision.transforms.CenterCrop(image_size),\n",
    "    mx.gluon.data.vision.transforms.ToTensor(),\n",
    "    mx.gluon.data.vision.transforms.Normalize([.485, .456, .406], [.229, .224, .225])\n",
    "])\n",
    "\n",
    "to_gpu_fn = lambda x: x.as_in_context(mx.gpu())\n",
    "\n",
    "input_transform_fn_gpu = mx.gluon.data.vision.transforms.Compose([\n",
    "    to_gpu_fn,\n",
    "    input_transform_fn\n",
    "])"
   ]
  },
  {
   "cell_type": "code",
   "execution_count": null,
   "id": "b88b1b08",
   "metadata": {},
   "outputs": [],
   "source": [
    "# Pre-processing in CPU, with transforms\n",
    "ade20k_val_cpu = gcv.data.ADE20KSegmentation(split='val', transform=input_transform_fn)\n",
    "\n",
    "data_shape = []\n",
    "labels_shape = []\n",
    "\n",
    "start_time = time.time()\n",
    "\n",
    "for data, label in tqdm(ade20k_val_cpu):\n",
    "    data_shape.append(data.shape)\n",
    "    labels_shape.append(label.shape)\n",
    "    \n",
    "print(\"Time (s):\", time.time() - start_time)"
   ]
  },
  {
   "cell_type": "code",
   "execution_count": null,
   "id": "0d110200",
   "metadata": {},
   "outputs": [],
   "source": [
    "# Pre-processing in GPU, with transforms\n",
    "# Unfortunately, we cannot copy directly into GPU the labels\n",
    "# Not supported ty ADE20KSegmentation class\n",
    "ade20k_val_gpu = gcv.data.ADE20KSegmentation(split='val', transform=input_transform_fn_gpu)\n",
    "\n",
    "_mask_transform_fn = mx.gluon.data.vision.transforms.Compose([\n",
    "    ade20k_val_gpu._mask_transform,\n",
    "    to_gpu_fn\n",
    "])\n",
    "\n",
    "ade20k_val_gpu._mask_transform = _mask_transform_fn\n",
    "\n",
    "data_shape = []\n",
    "labels_shape = []\n",
    "\n",
    "start_time = time.time()\n",
    "\n",
    "for data, label in tqdm(ade20k_val_gpu):\n",
    "    data_shape.append(data.shape)\n",
    "    labels_shape.append(label.shape)\n",
    "    \n",
    "print(\"Time (s):\", time.time() - start_time)"
   ]
  },
  {
   "cell_type": "code",
   "execution_count": null,
   "id": "f4b40c7d",
   "metadata": {},
   "outputs": [],
   "source": [
    "# Pre-processing in GPU, with transforms\n",
    "# then copying back to CPU memory space\n",
    "\n",
    "# Pre-processing in GPU, with transforms\n",
    "# Unfortunately, we cannot copy directly into GPU the labels\n",
    "# Not supported ty ADE20KSegmentation class\n",
    "\n",
    "to_cpu_fn = lambda x: x.as_in_context(mx.cpu())\n",
    "\n",
    "input_transform_fn_gpu_cpu = mx.gluon.data.vision.transforms.Compose([\n",
    "    input_transform_fn_gpu,\n",
    "    to_cpu_fn\n",
    "])\n",
    "\n",
    "# No need for mask transform changes\n",
    "ade20k_val_gpu_cpu = gcv.data.ADE20KSegmentation(split='val', transform=input_transform_fn_gpu_cpu)\n",
    "\n",
    "data_shape = []\n",
    "labels_shape = []\n",
    "\n",
    "start_time = time.time()\n",
    "\n",
    "for data, label in tqdm(ade20k_val_gpu_cpu):\n",
    "    data_shape.append(data.shape)\n",
    "    labels_shape.append(label.shape)\n",
    "    \n",
    "print(\"Time (s):\", time.time() - start_time)"
   ]
  },
  {
   "cell_type": "code",
   "execution_count": null,
   "id": "18676e01",
   "metadata": {},
   "outputs": [],
   "source": [
    "def process_data_loader_cpu(num_workers, batch_size):\n",
    "    # DataLoader all in CPU, copied to GPU (for model processing)\n",
    "    ade20k_val_loader_cpu = mx.gluon.data.DataLoader(\n",
    "        ade20k_val_cpu,\n",
    "        batch_size=batch_size,\n",
    "        num_workers=num_workers)\n",
    "\n",
    "    for data, label in tqdm(ade20k_val_loader_cpu):\n",
    "        data = data.as_in_context(mx.gpu())\n",
    "        label = label.as_in_context(mx.gpu())\n",
    "        \n",
    "def process_data_loader_gpu(num_workers, batch_size):\n",
    "    # DataLoader all in GPU, no copies necessary\n",
    "    ade20k_val_loader_gpu = mx.gluon.data.DataLoader(\n",
    "        ade20k_val_gpu,\n",
    "        batch_size=batch_size,\n",
    "        num_workers=num_workers,\n",
    "        thread_pool=False)\n",
    "\n",
    "    for data, label in tqdm(ade20k_val_loader_gpu):\n",
    "        pass\n",
    "    \n",
    "def process_data_loader_gpu_cpu(num_workers, batch_size):\n",
    "    # DataLoader all in GPU, no copies necessary\n",
    "    ade20k_val_loader_gpu_cpu = mx.gluon.data.DataLoader(\n",
    "        ade20k_val_gpu_cpu,\n",
    "        batch_size=batch_size,\n",
    "        num_workers=num_workers,\n",
    "        thread_pool=False)\n",
    "\n",
    "    for data, label in tqdm(ade20k_val_loader_gpu_cpu):\n",
    "        data = data.as_in_context(mx.gpu())\n",
    "        label = label.as_in_context(mx.gpu())"
   ]
  },
  {
   "cell_type": "code",
   "execution_count": null,
   "id": "8e8f3842",
   "metadata": {},
   "outputs": [],
   "source": [
    "start_time = time.time()\n",
    "\n",
    "process_data_loader_cpu(0, 4)\n",
    "\n",
    "print(\"Time (s):\", time.time() - start_time)"
   ]
  },
  {
   "cell_type": "code",
   "execution_count": null,
   "id": "d79e9198",
   "metadata": {},
   "outputs": [],
   "source": [
    "start_time = time.time()\n",
    "\n",
    "process_data_loader_gpu(0, 4)\n",
    "\n",
    "print(\"Time (s):\", time.time() - start_time)"
   ]
  },
  {
   "cell_type": "code",
   "execution_count": null,
   "id": "9da39699",
   "metadata": {},
   "outputs": [],
   "source": [
    "start_time = time.time()\n",
    "\n",
    "process_data_loader_gpu_cpu(0, 4)\n",
    "\n",
    "print(\"Time (s):\", time.time() - start_time)"
   ]
  },
  {
   "cell_type": "markdown",
   "id": "6be8f64d",
   "metadata": {},
   "source": [
    "## DataLoader Chart"
   ]
  },
  {
   "cell_type": "code",
   "execution_count": null,
   "id": "08126aeb",
   "metadata": {},
   "outputs": [],
   "source": [
    "num_workers_list = [0, 1, 2, 4, 8]\n",
    "batch_sizes = [1, 2, 4, 8, 16]"
   ]
  },
  {
   "cell_type": "code",
   "execution_count": null,
   "id": "6c506449",
   "metadata": {},
   "outputs": [],
   "source": [
    "results_gpu = []\n",
    "\n",
    "for batch_size in batch_sizes:\n",
    "    num_workers_gpu = 0\n",
    "    result = %timeit  -n 3 -r 1 -o process_data_loader_gpu(num_workers_gpu, batch_size)\n",
    "    results_gpu.append(result.average)"
   ]
  },
  {
   "cell_type": "code",
   "execution_count": null,
   "id": "c5150f76",
   "metadata": {},
   "outputs": [],
   "source": [
    "results_gpu_cpu = []\n",
    "\n",
    "for batch_size in batch_sizes:\n",
    "    num_workers_gpu = 0\n",
    "    result = %timeit  -n 3 -r 1 -o process_data_loader_gpu_cpu(num_workers_gpu, batch_size)\n",
    "    results_gpu_cpu.append(result.average)"
   ]
  },
  {
   "cell_type": "code",
   "execution_count": null,
   "id": "d4aafb85",
   "metadata": {},
   "outputs": [],
   "source": [
    "results_cpu = []\n",
    "    \n",
    "for num_workers_cpu in num_workers_list:\n",
    "    temp_list = []\n",
    "    for batch_size in batch_sizes:\n",
    "        result = %timeit -n 3 -r 1 -o process_data_loader_cpu(num_workers_cpu, batch_size)\n",
    "        temp_list.append(result.average)\n",
    "    results_cpu.append(temp_list)"
   ]
  },
  {
   "cell_type": "code",
   "execution_count": null,
   "id": "a4ab1df7",
   "metadata": {},
   "outputs": [],
   "source": [
    "fig = plt.figure()\n",
    "plt.plot(batch_sizes, results_cpu[0], color='blue', marker='o')\n",
    "plt.plot(batch_sizes, results_cpu[1], color='green', marker='p')\n",
    "plt.plot(batch_sizes, results_cpu[2], color='yellow', marker='^')\n",
    "plt.plot(batch_sizes, results_cpu[3], color='orange', marker='*')\n",
    "plt.plot(batch_sizes, results_cpu[4], color='purple', marker='x')\n",
    "plt.plot(batch_sizes, results_gpu_cpu, color='pink', marker='x')\n",
    "plt.plot(batch_sizes, results_gpu, color='red', marker='s')\n",
    "plt.title(\"DataLoader Times\", fontsize=14)\n",
    "plt.xlabel(\"Batch Size\", fontsize=14)\n",
    "plt.ylabel(\"Runtime (s)\", fontsize=14)\n",
    "plt.grid(True)\n",
    "plt.legend([\"CPU (workers: 0)\", \"CPU (workers: 1)\", \"CPU (workers: 2)\", \"CPU (workers: 4)\", \"CPU (workers: 8)\", \"GPU+CPU (workers: 0)\", \"GPU (workers: 0)\"])\n",
    "plt.show()"
   ]
  },
  {
   "cell_type": "markdown",
   "id": "443425a9",
   "metadata": {},
   "source": [
    "## Automatic Mixed Precision (AMP)"
   ]
  },
  {
   "cell_type": "code",
   "execution_count": null,
   "id": "6e1d7975",
   "metadata": {},
   "outputs": [],
   "source": [
    "# Global Libraries\n",
    "import collections\n",
    "import gluoncv as gcv\n",
    "from gluoncv.utils.metrics.segmentation import SegmentationMetric\n",
    "from mxnet.gluon.data.vision import transforms\n",
    "from importlib import reload\n",
    "import matplotlib.pyplot as plt\n",
    "import mxnet as mx\n",
    "import numpy as np\n",
    "import os\n",
    "from sklearn import metrics\n",
    "import time\n",
    "from tqdm.notebook import tqdm\n",
    "\n",
    "# Local Libraries\n",
    "import pedestrian\n",
    "import seg_model\n",
    "\n",
    "# GPU mode\n",
    "ctx = mx.gpu()"
   ]
  },
  {
   "cell_type": "code",
   "execution_count": null,
   "id": "99204447",
   "metadata": {},
   "outputs": [],
   "source": [
    "# Penn-Fudan Pedestrian Dataset\n",
    "# https://www.cis.upenn.edu/~jshi/ped_html/\n",
    "reload(pedestrian)\n",
    "\n",
    "if not os.path.exists(pedestrian.PEDESTRIAN_FILE):\n",
    "    !wget https://www.cis.upenn.edu/~jshi/ped_html/PennFudanPed.zip\n",
    "\n",
    "pedestrian_path = os.getcwd()\n",
    "\n",
    "# Datasets\n",
    "pedestrian_train_dataset = pedestrian.PedestrianDataset(\n",
    "    pedestrian_path,\n",
    "    split=\"train\",\n",
    "    is_segmentation_task=True,\n",
    "    invert_masks=False)\n",
    "\n",
    "pedestrian_val_dataset = pedestrian.PedestrianDataset(\n",
    "    pedestrian_path,\n",
    "    split=\"val\",\n",
    "    is_segmentation_task=True,\n",
    "    invert_masks=False)\n",
    "\n",
    "pedestrian_test_dataset = pedestrian.PedestrianDataset(\n",
    "    pedestrian_path,\n",
    "    split=\"test\",\n",
    "    is_segmentation_task=True,\n",
    "    invert_masks=False)\n",
    "\n",
    "\n",
    "# Further pre-processing\n",
    "# Training pre-processing optimized for speed\n",
    "# Evaluation pre-processing optimized for visualizations\n",
    "image_size = 480\n",
    "\n",
    "imagenet_transform = transforms.Compose([\n",
    "    transforms.Resize(image_size, keep_ratio=True),\n",
    "    transforms.CenterCrop(image_size),\n",
    "    transforms.ToTensor(),\n",
    "    transforms.Normalize([.485, .456, .406], [.229, .224, .225]),\n",
    "])\n",
    "\n",
    "size_transform = transforms.Compose([\n",
    "    transforms.Resize(image_size, keep_ratio=True),\n",
    "    transforms.CenterCrop(image_size)\n",
    "])\n",
    "\n",
    "train_val_transform = lambda data, output: (imagenet_transform(data), size_transform(output))\n",
    "test_transform = lambda data, output: (size_transform(data), mx.nd.moveaxis(size_transform(output), -1, 0))\n",
    "\n",
    "p_train = pedestrian_train_dataset.transform(train_val_transform)\n",
    "p_val   = pedestrian_val_dataset.transform(train_val_transform)\n",
    "p_test  = pedestrian_test_dataset.transform(test_transform)"
   ]
  },
  {
   "cell_type": "code",
   "execution_count": null,
   "id": "22c61436",
   "metadata": {},
   "outputs": [],
   "source": [
    "deeplab_pt = gcv.model_zoo.get_model('deeplab_resnet101_coco', pretrained=True, ctx=ctx)"
   ]
  },
  {
   "cell_type": "code",
   "execution_count": null,
   "id": "72199802",
   "metadata": {},
   "outputs": [],
   "source": [
    "print(\"Input data type:\", p_val[0][0].dtype, \"Model Parameters data type:\", deeplab_pt.conv1[0].params[\"deeplabv337_resnetv1s_conv0_weight\"].dtype)"
   ]
  },
  {
   "cell_type": "code",
   "execution_count": null,
   "id": "8212cf98",
   "metadata": {},
   "outputs": [],
   "source": [
    "a = mx.nd.array([1/3], dtype=np.float32)\n",
    "b = a.astype(np.float16)\n",
    "\n",
    "print(\"1/3 as Float32: {0:.30f}\".format(a.asscalar()))\n",
    "print(\"1/3 as Float16: {0:.30f}\".format(b.asscalar()))"
   ]
  },
  {
   "cell_type": "markdown",
   "id": "5a675a27",
   "metadata": {},
   "source": [
    "### Float32 Training"
   ]
  },
  {
   "cell_type": "code",
   "execution_count": null,
   "id": "06d5ada5",
   "metadata": {},
   "outputs": [],
   "source": [
    "# Model\n",
    "deeplab_ft_direct_f32 = gcv.model_zoo.get_model('deeplab_resnet101_coco', pretrained=True, ctx=ctx)\n",
    "\n",
    "# FT-Direct, no freezing layers\n",
    "# # Freeze Layers (keeping track of the updated parameters)\n",
    "# updated_params = []\n",
    "# for param in deeplab_ft_direct_f32.collect_params().values():\n",
    "#     if param.grad_req == \"write\":\n",
    "#         param.grad_req = \"null\"\n",
    "#         updated_params += [param.name]\n",
    "\n",
    "# Replace the last layers\n",
    "deeplab_ft_direct_f32.head = gcv.model_zoo.deeplabv3._DeepLabHead(2)\n",
    "deeplab_ft_direct_f32.head.initialize(ctx=ctx)\n",
    "\n",
    "# DeepLab v3 has an additional auxiliary output for training/loss\n",
    "# Not required for our person detector\n",
    "deeplab_ft_direct_f32.aux = False\n",
    "for param in deeplab_ft_direct_f32.auxlayer.collect_params().values():\n",
    "    if param.grad_req == \"write\":\n",
    "        param.grad_req = \"null\"\n",
    "\n",
    "deeplab_ft_direct_f32.hybridize(static_alloc=True, static_shape=True)\n",
    "\n",
    "model_filename_ft_direct_f32 = \"deeplab_resnet101_coco_ft_direct_f32.params\"\n",
    "\n",
    "reload(seg_model)\n",
    "\n",
    "loss_fn = gcv.loss.SoftmaxCrossEntropyLoss()\n",
    "\n",
    "# Epochs & Batch Size\n",
    "epochs = 10\n",
    "batch_size = 4\n",
    "\n",
    "# Define Optimizer and Hyper Parameters\n",
    "trainer = mx.gluon.Trainer(deeplab_ft_direct_f32.collect_params(), \"sgd\", {\"learning_rate\": 1.0})\n",
    "\n",
    "start_time = time.time()\n",
    "\n",
    "training_loss, validation_loss = seg_model.training_loop(\n",
    "    deeplab_ft_direct_f32,\n",
    "    loss_fn, \n",
    "    trainer, \n",
    "    epochs, \n",
    "    batch_size, \n",
    "    p_train, \n",
    "    p_val, \n",
    "    model_filename_ft_direct_f32, \n",
    "    ctx)\n",
    "\n",
    "print(\"Training time for 10 epochs:\", time.time() - start_time, \"/ Best validation loss:\", min(validation_loss))"
   ]
  },
  {
   "cell_type": "markdown",
   "id": "8e0d44e6",
   "metadata": {},
   "source": [
    "### Float16 Training"
   ]
  },
  {
   "cell_type": "code",
   "execution_count": null,
   "id": "943cfc48",
   "metadata": {},
   "outputs": [],
   "source": [
    "# Model\n",
    "deeplab_ft_direct_f16 = gcv.model_zoo.get_model('deeplab_resnet101_coco', pretrained=True, ctx=ctx)\n",
    "\n",
    "# FT-Direct, no freezing layers\n",
    "# # Freeze Layers (keeping track of the updated parameters)\n",
    "# updated_params = []\n",
    "# for param in deeplab_ft_direct_f32.collect_params().values():\n",
    "#     if param.grad_req == \"write\":\n",
    "#         param.grad_req = \"null\"\n",
    "#         updated_params += [param.name]\n",
    "\n",
    "# Replace the last layers\n",
    "deeplab_ft_direct_f16.head = gcv.model_zoo.deeplabv3._DeepLabHead(2)\n",
    "deeplab_ft_direct_f16.head.initialize(ctx=ctx)\n",
    "\n",
    "# Float16 model\n",
    "deeplab_ft_direct_f16.cast('float16')\n",
    "\n",
    "# DeepLab v3 has an additional auxiliary output for training/loss\n",
    "# Not required for our person detector\n",
    "deeplab_ft_direct_f16.aux = False\n",
    "for param in deeplab_ft_direct_f16.auxlayer.collect_params().values():\n",
    "    if param.grad_req == \"write\":\n",
    "        param.grad_req = \"null\"\n",
    "\n",
    "deeplab_ft_direct_f16.hybridize(static_alloc=True, static_shape=True)\n",
    "\n",
    "model_filename_ft_direct_f16 = \"deeplab_resnet101_coco_ft_direct_f16.params\"\n",
    "\n",
    "reload(seg_model)\n",
    "\n",
    "loss_fn = gcv.loss.SoftmaxCrossEntropyLoss()\n",
    "\n",
    "# Epochs & Batch Size\n",
    "epochs = 10\n",
    "batch_size = 4\n",
    "\n",
    "# Define Optimizer and Hyper Parameters\n",
    "trainer = mx.gluon.Trainer(deeplab_ft_direct_f16.collect_params(), \"sgd\", {\n",
    "    \"learning_rate\": 1e-6, \n",
    "    \"multi_precision\": True\n",
    "})\n",
    "\n",
    "start_time = time.time()\n",
    "\n",
    "training_loss, validation_loss = seg_model.training_loop(\n",
    "    deeplab_ft_direct_f16,\n",
    "    loss_fn, \n",
    "    trainer, \n",
    "    epochs, \n",
    "    batch_size, \n",
    "    p_train, \n",
    "    p_val, \n",
    "    model_filename_ft_direct_f16, \n",
    "    ctx,\n",
    "    half_precision=True)\n",
    "\n",
    "print(\"Training time for 10 epochs:\", time.time() - start_time, \"/ Best validation loss:\", min(validation_loss))"
   ]
  },
  {
   "cell_type": "code",
   "execution_count": null,
   "id": "f643a75c",
   "metadata": {},
   "outputs": [],
   "source": [
    "a = mx.nd.array([65519], dtype=np.float16)\n",
    "b = mx.nd.array([65520], dtype=np.float16)\n",
    "\n",
    "print(\"65519 as Float16: {0:.30f}\".format(a.asscalar()))\n",
    "print(\"65520 as Float16: {0:.30f}\".format(b.asscalar()))\n",
    "\n",
    "a = mx.nd.array([1e-7], dtype=np.float16)\n",
    "b = mx.nd.array([1e-8], dtype=np.float16)\n",
    "\n",
    "print(\"65519 as Float16: {0:.30f}\".format(a.asscalar()))\n",
    "print(\"65520 as Float16: {0:.30f}\".format(b.asscalar()))"
   ]
  },
  {
   "cell_type": "markdown",
   "id": "7ddd30b8",
   "metadata": {},
   "source": [
    "### Automatic Mixed Precision (AMP) Training"
   ]
  },
  {
   "cell_type": "code",
   "execution_count": null,
   "id": "66984439",
   "metadata": {},
   "outputs": [],
   "source": [
    "# AMP\n",
    "amp.init()\n",
    "\n",
    "# Model\n",
    "deeplab_ft_direct_amp = gcv.model_zoo.get_model('deeplab_resnet101_coco', pretrained=True, ctx=ctx)\n",
    "\n",
    "# FT-Direct, no freezing layers\n",
    "# # Freeze Layers (keeping track of the updated parameters)\n",
    "# updated_params = []\n",
    "# for param in deeplab_ft_direct_f32.collect_params().values():\n",
    "#     if param.grad_req == \"write\":\n",
    "#         param.grad_req = \"null\"\n",
    "#         updated_params += [param.name]\n",
    "\n",
    "# Replace the last layers\n",
    "deeplab_ft_direct_amp.head = gcv.model_zoo.deeplabv3._DeepLabHead(2)\n",
    "deeplab_ft_direct_amp.head.initialize(ctx=ctx)\n",
    "\n",
    "# DeepLab v3 has an additional auxiliary output for training/loss\n",
    "# Not required for our person detector\n",
    "deeplab_ft_direct_amp.aux = False\n",
    "for param in deeplab_ft_direct_amp.auxlayer.collect_params().values():\n",
    "    if param.grad_req == \"write\":\n",
    "        param.grad_req = \"null\"\n",
    "\n",
    "deeplab_ft_direct_amp.hybridize(static_alloc=True, static_shape=True)\n",
    "\n",
    "model_filename_ft_direct_amp = \"deeplab_resnet101_coco_ft_direct_amp.params\"\n",
    "\n",
    "reload(seg_model)\n",
    "\n",
    "loss_fn = gcv.loss.SoftmaxCrossEntropyLoss()\n",
    "\n",
    "# Epochs & Batch Size\n",
    "epochs = 10\n",
    "batch_size = 4\n",
    "\n",
    "# Define Optimizer and Hyper Parameters\n",
    "trainer = mx.gluon.Trainer(deeplab_ft_direct_amp.collect_params(), \"sgd\", {\"learning_rate\": 1.0})\n",
    "\n",
    "start_time = time.time()\n",
    "\n",
    "training_loss, validation_loss = seg_model.training_loop(\n",
    "    deeplab_ft_direct_amp,\n",
    "    loss_fn, \n",
    "    trainer, \n",
    "    epochs, \n",
    "    batch_size, \n",
    "    p_train, \n",
    "    p_val, \n",
    "    model_filename_ft_direct_amp, \n",
    "    ctx,\n",
    "    amp_enabled=True)\n",
    "\n",
    "print(\"Training time for 10 epochs:\", time.time() - start_time, \"/ Best validation loss:\", min(validation_loss))"
   ]
  },
  {
   "cell_type": "markdown",
   "id": "b3a6f64e",
   "metadata": {},
   "source": [
    "#### 2x BatchSize"
   ]
  },
  {
   "cell_type": "code",
   "execution_count": null,
   "id": "088cfa0f",
   "metadata": {},
   "outputs": [],
   "source": [
    "# AMP\n",
    "amp.init()\n",
    "\n",
    "# Model\n",
    "deeplab_ft_direct_amp = gcv.model_zoo.get_model('deeplab_resnet101_coco', pretrained=True, ctx=ctx)\n",
    "\n",
    "# FT-Direct, no freezing layers\n",
    "# # Freeze Layers (keeping track of the updated parameters)\n",
    "# updated_params = []\n",
    "# for param in deeplab_ft_direct_f32.collect_params().values():\n",
    "#     if param.grad_req == \"write\":\n",
    "#         param.grad_req = \"null\"\n",
    "#         updated_params += [param.name]\n",
    "\n",
    "# Replace the last layers\n",
    "deeplab_ft_direct_amp.head = gcv.model_zoo.deeplabv3._DeepLabHead(2)\n",
    "deeplab_ft_direct_amp.head.initialize(ctx=ctx)\n",
    "\n",
    "# DeepLab v3 has an additional auxiliary output for training/loss\n",
    "# Not required for our person detector\n",
    "deeplab_ft_direct_amp.aux = False\n",
    "for param in deeplab_ft_direct_amp.auxlayer.collect_params().values():\n",
    "    if param.grad_req == \"write\":\n",
    "        param.grad_req = \"null\"\n",
    "\n",
    "deeplab_ft_direct_amp.hybridize(static_alloc=True, static_shape=True)\n",
    "\n",
    "model_filename_ft_direct_amp = \"deeplab_resnet101_coco_ft_direct_amp.params\"\n",
    "\n",
    "reload(seg_model)\n",
    "\n",
    "loss_fn = gcv.loss.SoftmaxCrossEntropyLoss()\n",
    "\n",
    "# Epochs & Batch Size\n",
    "epochs = 10\n",
    "batch_size = 8\n",
    "\n",
    "# Define Optimizer and Hyper Parameters\n",
    "trainer = mx.gluon.Trainer(deeplab_ft_direct_amp.collect_params(), \"sgd\", {\"learning_rate\": 1.0})\n",
    "\n",
    "start_time = time.time()\n",
    "\n",
    "training_loss, validation_loss = seg_model.training_loop(\n",
    "    deeplab_ft_direct_amp,\n",
    "    loss_fn, \n",
    "    trainer, \n",
    "    epochs, \n",
    "    batch_size, \n",
    "    p_train, \n",
    "    p_val, \n",
    "    model_filename_ft_direct_amp, \n",
    "    ctx,\n",
    "    amp_enabled=True)\n",
    "\n",
    "print(\"Training time for 10 epochs:\", time.time() - start_time, \"/ Best validation loss:\", min(validation_loss))"
   ]
  },
  {
   "cell_type": "markdown",
   "id": "c360c76b",
   "metadata": {},
   "source": [
    "#### 2x Batchsize + 3x epochs"
   ]
  },
  {
   "cell_type": "code",
   "execution_count": null,
   "id": "886c4efb",
   "metadata": {},
   "outputs": [],
   "source": [
    "# AMP\n",
    "amp.init()\n",
    "\n",
    "# Model\n",
    "deeplab_ft_direct_amp = gcv.model_zoo.get_model('deeplab_resnet101_coco', pretrained=True, ctx=ctx)\n",
    "\n",
    "# FT-Direct, no freezing layers\n",
    "# # Freeze Layers (keeping track of the updated parameters)\n",
    "# updated_params = []\n",
    "# for param in deeplab_ft_direct_f32.collect_params().values():\n",
    "#     if param.grad_req == \"write\":\n",
    "#         param.grad_req = \"null\"\n",
    "#         updated_params += [param.name]\n",
    "\n",
    "# Replace the last layers\n",
    "deeplab_ft_direct_amp.head = gcv.model_zoo.deeplabv3._DeepLabHead(2)\n",
    "deeplab_ft_direct_amp.head.initialize(ctx=ctx)\n",
    "\n",
    "# DeepLab v3 has an additional auxiliary output for training/loss\n",
    "# Not required for our person detector\n",
    "deeplab_ft_direct_amp.aux = False\n",
    "for param in deeplab_ft_direct_amp.auxlayer.collect_params().values():\n",
    "    if param.grad_req == \"write\":\n",
    "        param.grad_req = \"null\"\n",
    "\n",
    "deeplab_ft_direct_amp.hybridize(static_alloc=True, static_shape=True)\n",
    "\n",
    "model_filename_ft_direct_amp = \"deeplab_resnet101_coco_ft_direct_amp.params\"\n",
    "\n",
    "reload(seg_model)\n",
    "\n",
    "loss_fn = gcv.loss.SoftmaxCrossEntropyLoss()\n",
    "\n",
    "# Epochs & Batch Size\n",
    "epochs = 30\n",
    "batch_size = 8\n",
    "\n",
    "# Define Optimizer and Hyper Parameters\n",
    "trainer = mx.gluon.Trainer(deeplab_ft_direct_amp.collect_params(), \"sgd\", {\"learning_rate\": 1.0})\n",
    "\n",
    "start_time = time.time()\n",
    "\n",
    "training_loss, validation_loss = seg_model.training_loop(\n",
    "    deeplab_ft_direct_amp,\n",
    "    loss_fn, \n",
    "    trainer, \n",
    "    epochs, \n",
    "    batch_size, \n",
    "    p_train, \n",
    "    p_val, \n",
    "    model_filename_ft_direct_amp, \n",
    "    ctx,\n",
    "    amp_enabled=True)\n",
    "\n",
    "print(\"Training time for 10 epochs:\", time.time() - start_time, \"/ Best validation loss:\", min(validation_loss))"
   ]
  },
  {
   "cell_type": "markdown",
   "id": "c506b654",
   "metadata": {},
   "source": [
    "### Multi-GPU Training"
   ]
  },
  {
   "cell_type": "code",
   "execution_count": null,
   "id": "5172906d",
   "metadata": {},
   "outputs": [],
   "source": [
    "# Context variable is now a list,\n",
    "# with each element corresponding to a GPU device\n",
    "ctx_list = [mx.gpu(0)]"
   ]
  },
  {
   "cell_type": "code",
   "execution_count": null,
   "id": "afb5464d",
   "metadata": {},
   "outputs": [],
   "source": [
    "# Model\n",
    "deeplab_ft_direct_f32 = gcv.model_zoo.get_model('deeplab_resnet101_coco', pretrained=True, ctx=ctx_list)\n",
    "\n",
    "# FT-Direct, no freezing layers\n",
    "# # Freeze Layers (keeping track of the updated parameters)\n",
    "# updated_params = []\n",
    "# for param in deeplab_ft_direct_f32.collect_params().values():\n",
    "#     if param.grad_req == \"write\":\n",
    "#         param.grad_req = \"null\"\n",
    "#         updated_params += [param.name]\n",
    "\n",
    "# Replace the last layers\n",
    "deeplab_ft_direct_f32.head = gcv.model_zoo.deeplabv3._DeepLabHead(2)\n",
    "deeplab_ft_direct_f32.head.initialize(ctx=ctx_list)\n",
    "\n",
    "# DeepLab v3 has an additional auxiliary output for training/loss\n",
    "# Not required for our person detector\n",
    "deeplab_ft_direct_f32.aux = False\n",
    "for param in deeplab_ft_direct_f32.auxlayer.collect_params().values():\n",
    "    if param.grad_req == \"write\":\n",
    "        param.grad_req = \"null\"\n",
    "\n",
    "deeplab_ft_direct_f32.hybridize(static_alloc=True, static_shape=True)\n",
    "\n",
    "model_filename_ft_direct_f32 = \"deeplab_resnet101_coco_ft_direct_f32.params\"\n",
    "\n",
    "reload(seg_model)\n",
    "\n",
    "loss_fn = gcv.loss.SoftmaxCrossEntropyLoss()\n",
    "\n",
    "# Epochs & Batch Size\n",
    "epochs = 10\n",
    "batch_size = 4\n",
    "\n",
    "# Define Optimizer and Hyper Parameters\n",
    "trainer = mx.gluon.Trainer(deeplab_ft_direct_f32.collect_params(), \"sgd\", {\"learning_rate\": 0.1})\n",
    "\n",
    "start_time = time.time()\n",
    "\n",
    "training_loss, validation_loss = seg_model.multi_training_loop(\n",
    "    deeplab_ft_direct_f32,\n",
    "    loss_fn, \n",
    "    trainer, \n",
    "    epochs, \n",
    "    batch_size, \n",
    "    p_train, \n",
    "    p_val, \n",
    "    model_filename_ft_direct_f32, \n",
    "    ctx_list)\n",
    "\n",
    "print(\"Training time for 10 epochs:\", time.time() - start_time, \"/ Best validation loss:\", min(validation_loss))"
   ]
  },
  {
   "cell_type": "code",
   "execution_count": null,
   "id": "b089a804",
   "metadata": {},
   "outputs": [],
   "source": [
    "# Context variable is now a list,\n",
    "# with each element corresponding to a GPU device\n",
    "ctx_list = [mx.gpu(0), mx.gpu(1), mx.gpu(2), mx.gpu(3)]\n",
    "num_gpus = len(ctx_list)"
   ]
  },
  {
   "cell_type": "code",
   "execution_count": null,
   "id": "ac7e6be9",
   "metadata": {},
   "outputs": [],
   "source": [
    "# Model\n",
    "deeplab_ft_direct_f32 = gcv.model_zoo.get_model('deeplab_resnet101_coco', pretrained=True, ctx=ctx_list)\n",
    "\n",
    "# FT-Direct, no freezing layers\n",
    "# # Freeze Layers (keeping track of the updated parameters)\n",
    "# updated_params = []\n",
    "# for param in deeplab_ft_direct_f32.collect_params().values():\n",
    "#     if param.grad_req == \"write\":\n",
    "#         param.grad_req = \"null\"\n",
    "#         updated_params += [param.name]\n",
    "\n",
    "# Replace the last layers\n",
    "deeplab_ft_direct_f32.head = gcv.model_zoo.deeplabv3._DeepLabHead(2)\n",
    "deeplab_ft_direct_f32.head.initialize(ctx=ctx_list)\n",
    "\n",
    "# DeepLab v3 has an additional auxiliary output for training/loss\n",
    "# Not required for our person detector\n",
    "deeplab_ft_direct_f32.aux = False\n",
    "for param in deeplab_ft_direct_f32.auxlayer.collect_params().values():\n",
    "    if param.grad_req == \"write\":\n",
    "        param.grad_req = \"null\"\n",
    "\n",
    "deeplab_ft_direct_f32.hybridize(static_alloc=True, static_shape=True)\n",
    "\n",
    "model_filename_ft_direct_f32 = \"deeplab_resnet101_coco_ft_direct_f32.params\"\n",
    "\n",
    "reload(seg_model)\n",
    "\n",
    "loss_fn = gcv.loss.SoftmaxCrossEntropyLoss()\n",
    "\n",
    "# Epochs & Batch Size\n",
    "epochs = 10\n",
    "batch_size_per_gpu = 4\n",
    "batch_size = len(ctx_list) * batch_size_per_gpu\n",
    "\n",
    "# Define Optimizer and Hyper Parameters\n",
    "trainer = mx.gluon.Trainer(deeplab_ft_direct_f32.collect_params(), \"sgd\", {\"learning_rate\": 0.5})\n",
    "\n",
    "start_time = time.time()\n",
    "\n",
    "training_loss, validation_loss = seg_model.multi_training_loop(\n",
    "    deeplab_ft_direct_f32,\n",
    "    loss_fn, \n",
    "    trainer, \n",
    "    epochs, \n",
    "    batch_size, \n",
    "    p_train, \n",
    "    p_val, \n",
    "    model_filename_ft_direct_f32, \n",
    "    ctx_list)\n",
    "\n",
    "print(\"Training time for 10 epochs:\", time.time() - start_time, \"/ Best validation loss:\", min(validation_loss))"
   ]
  }
 ],
 "metadata": {
  "kernelspec": {
   "display_name": "Python 3 (ipykernel)",
   "language": "python",
   "name": "python3"
  },
  "language_info": {
   "codemirror_mode": {
    "name": "ipython",
    "version": 3
   },
   "file_extension": ".py",
   "mimetype": "text/x-python",
   "name": "python",
   "nbconvert_exporter": "python",
   "pygments_lexer": "ipython3",
   "version": "3.7.3"
  }
 },
 "nbformat": 4,
 "nbformat_minor": 5
}
