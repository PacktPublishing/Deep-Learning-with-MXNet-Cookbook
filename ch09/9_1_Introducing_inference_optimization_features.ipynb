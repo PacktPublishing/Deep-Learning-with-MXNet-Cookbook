{
 "cells": [
  {
   "cell_type": "code",
   "execution_count": 1,
   "id": "de6b5fce",
   "metadata": {},
   "outputs": [
    {
     "name": "stdout",
     "output_type": "stream",
     "text": [
      "Number of CPUs: 16\n"
     ]
    }
   ],
   "source": [
    "import os\n",
    "import multiprocessing\n",
    "num_cpus = multiprocessing.cpu_count()\n",
    "\n",
    "print(\"Number of CPUs:\", num_cpus)"
   ]
  },
  {
   "cell_type": "code",
   "execution_count": 2,
   "id": "117850d2",
   "metadata": {},
   "outputs": [],
   "source": [
    "from importlib import reload\n",
    "import matplotlib.pyplot as plt\n",
    "import mxnet as mx\n",
    "from mxnet.contrib import amp\n",
    "import time\n",
    "from tqdm.notebook import tqdm\n",
    "\n",
    "import gluoncv as gcv"
   ]
  },
  {
   "cell_type": "code",
   "execution_count": 3,
   "id": "2a808af4",
   "metadata": {},
   "outputs": [
    {
     "data": {
      "application/vnd.jupyter.widget-view+json": {
       "model_id": "55859196fb324dbab02b419fd7aabe21",
       "version_major": 2,
       "version_minor": 0
      },
      "text/plain": [
       "  0%|          | 0/100 [00:00<?, ?it/s]"
      ]
     },
     "metadata": {},
     "output_type": "display_data"
    },
    {
     "name": "stderr",
     "output_type": "stream",
     "text": [
      "[11:16:16] /work/mxnet/src/base.cc:79: cuDNN lib mismatch: linked-against version 8600 != compiled-against version 8204.  Set MXNET_CUDNN_LIB_CHECKING=0 to quiet this warning.\n"
     ]
    }
   ],
   "source": [
    "# Dataset Loading & Transforming\n",
    "image_size = 480\n",
    "\n",
    "input_transform_fn = mx.gluon.data.vision.transforms.Compose([\n",
    "    mx.gluon.data.vision.transforms.Resize(image_size, keep_ratio=True),\n",
    "    mx.gluon.data.vision.transforms.CenterCrop(image_size),\n",
    "    mx.gluon.data.vision.transforms.ToTensor(),\n",
    "    mx.gluon.data.vision.transforms.Normalize([.485, .456, .406], [.229, .224, .225])\n",
    "])\n",
    "\n",
    "to_gpu_fn = lambda x: x.as_in_context(mx.gpu())\n",
    "\n",
    "input_transform_fn_gpu = mx.gluon.data.vision.transforms.Compose([\n",
    "    to_gpu_fn,\n",
    "    input_transform_fn\n",
    "])\n",
    "\n",
    "# Pre-processing in GPU, with transforms\n",
    "# then copying back to CPU memory space\n",
    "\n",
    "# Pre-processing in GPU, with transforms\n",
    "# Unfortunately, we cannot copy directly into GPU the labels\n",
    "# Not supported ty ADE20KSegmentation class\n",
    "\n",
    "to_cpu_fn = lambda x: x.as_in_context(mx.cpu())\n",
    "\n",
    "input_transform_fn_gpu_cpu = mx.gluon.data.vision.transforms.Compose([\n",
    "    input_transform_fn_gpu,\n",
    "    to_cpu_fn\n",
    "])\n",
    "\n",
    "# No need for mask transform changes\n",
    "ade20k_val_cpu = gcv.data.ADE20KSegmentation(split='val')\n",
    "\n",
    "# Limit to 100 samples\n",
    "max_samples = 100\n",
    "samples = range(0, max_samples)\n",
    "\n",
    "ade20k_val_cpu_pre = mx.gluon.data.SimpleDataset([(ade20k_val_cpu[i][0], ade20k_val_cpu[i][1]) for i in tqdm(samples)])\n",
    "ade20k_val_gpu_cpu = ade20k_val_cpu_pre.transform_first(input_transform_fn_gpu_cpu, lazy=False)\n",
    "\n",
    "# Single sample for forward pass (AMP & Quantization requirement)\n",
    "original_shape = ade20k_val_gpu_cpu[0][0].shape[1:]\n",
    "single_sample_cpu = ade20k_val_gpu_cpu[0][0].reshape((1, 3) + original_shape)\n",
    "single_sample_gpu = ade20k_val_gpu_cpu[0][0].reshape((1, 3) + original_shape).as_in_context(mx.gpu())"
   ]
  },
  {
   "cell_type": "code",
   "execution_count": 4,
   "id": "1edf4aef",
   "metadata": {},
   "outputs": [],
   "source": [
    "num_workers = 0\n",
    "batch_size = 4\n",
    "\n",
    "# DataLoader for data processed in GPU, loaded in CPU\n",
    "ade20k_val_loader_gpu_cpu = mx.gluon.data.DataLoader(\n",
    "    ade20k_val_gpu_cpu,\n",
    "    batch_size=batch_size,\n",
    "    num_workers=num_workers,\n",
    "    last_batch=\"discard\")"
   ]
  },
  {
   "cell_type": "markdown",
   "id": "531c892c",
   "metadata": {},
   "source": [
    "## Hybridize (CPU)"
   ]
  },
  {
   "cell_type": "code",
   "execution_count": 5,
   "id": "dc5608c9",
   "metadata": {},
   "outputs": [
    {
     "data": {
      "application/vnd.jupyter.widget-view+json": {
       "model_id": "58ec37ff0f38452db6b3d5a6209f6edc",
       "version_major": 2,
       "version_minor": 0
      },
      "text/plain": [
       "  0%|          | 0/25 [00:00<?, ?it/s]"
      ]
     },
     "metadata": {},
     "output_type": "display_data"
    },
    {
     "name": "stdout",
     "output_type": "stream",
     "text": [
      "Time (s): 115.22693085670471\n"
     ]
    }
   ],
   "source": [
    "deeplab_pt_cpu = gcv.model_zoo.get_model('deeplab_resnet101_coco', pretrained=True, ctx=mx.cpu())\n",
    "\n",
    "start_time = time.time()\n",
    "\n",
    "for data, _ in tqdm(ade20k_val_loader_gpu_cpu):\n",
    "    deeplab_pt_cpu(data)\n",
    "\n",
    "mx.nd.waitall()\n",
    "print(\"Time (s):\", time.time() - start_time)"
   ]
  },
  {
   "cell_type": "code",
   "execution_count": 6,
   "id": "15db2b70",
   "metadata": {},
   "outputs": [
    {
     "data": {
      "application/vnd.jupyter.widget-view+json": {
       "model_id": "b253938d34d7401f8db8f80909505169",
       "version_major": 2,
       "version_minor": 0
      },
      "text/plain": [
       "  0%|          | 0/25 [00:00<?, ?it/s]"
      ]
     },
     "metadata": {},
     "output_type": "display_data"
    },
    {
     "name": "stdout",
     "output_type": "stream",
     "text": [
      "Time (s): 64.75840330123901\n"
     ]
    }
   ],
   "source": [
    "deeplab_pt_cpu_hybrid = gcv.model_zoo.get_model('deeplab_resnet101_coco', pretrained=True, ctx=mx.cpu())\n",
    "deeplab_pt_cpu_hybrid.hybridize()\n",
    "\n",
    "start_time = time.time()\n",
    "\n",
    "for data, _ in tqdm(ade20k_val_loader_gpu_cpu):\n",
    "    deeplab_pt_cpu_hybrid(data)\n",
    "\n",
    "mx.nd.waitall()\n",
    "print(\"Time (s):\", time.time() - start_time)"
   ]
  },
  {
   "cell_type": "code",
   "execution_count": 7,
   "id": "f5584485",
   "metadata": {},
   "outputs": [
    {
     "data": {
      "application/vnd.jupyter.widget-view+json": {
       "model_id": "452c60a9a25f46bc8875f1a3c0cef158",
       "version_major": 2,
       "version_minor": 0
      },
      "text/plain": [
       "  0%|          | 0/25 [00:00<?, ?it/s]"
      ]
     },
     "metadata": {},
     "output_type": "display_data"
    },
    {
     "name": "stdout",
     "output_type": "stream",
     "text": [
      "Time (s): 55.860424757003784\n"
     ]
    }
   ],
   "source": [
    "deeplab_pt_cpu_hybrid_mkldnn = gcv.model_zoo.get_model('deeplab_resnet101_coco', pretrained=True, ctx=mx.cpu())\n",
    "deeplab_pt_cpu_hybrid_mkldnn.hybridize(backend = \"MKLDNN\")\n",
    "\n",
    "start_time = time.time()\n",
    "\n",
    "for data, _ in tqdm(ade20k_val_loader_gpu_cpu):\n",
    "    deeplab_pt_cpu_hybrid_mkldnn(data)\n",
    "    \n",
    "mx.nd.waitall()\n",
    "print(\"Time (s):\", time.time() - start_time)"
   ]
  },
  {
   "cell_type": "code",
   "execution_count": 8,
   "id": "ba665eb8-502b-46c0-994a-eae46cc9ec61",
   "metadata": {},
   "outputs": [
    {
     "data": {
      "application/vnd.jupyter.widget-view+json": {
       "model_id": "633e6cdeee1b4748beff900a94d54193",
       "version_major": 2,
       "version_minor": 0
      },
      "text/plain": [
       "  0%|          | 0/25 [00:00<?, ?it/s]"
      ]
     },
     "metadata": {},
     "output_type": "display_data"
    },
    {
     "name": "stdout",
     "output_type": "stream",
     "text": [
      "Time (s): 53.905478715896606\n"
     ]
    }
   ],
   "source": [
    "deeplab_pt_cpu_hybrid_mkldnn_alloc = gcv.model_zoo.get_model('deeplab_resnet101_coco', pretrained=True, ctx=mx.cpu())\n",
    "deeplab_pt_cpu_hybrid_mkldnn_alloc.hybridize(backend = \"MKLDNN\", static_alloc=True)\n",
    "\n",
    "start_time = time.time()\n",
    "\n",
    "for data, _ in tqdm(ade20k_val_loader_gpu_cpu):\n",
    "    deeplab_pt_cpu_hybrid_mkldnn_alloc(data)\n",
    "    \n",
    "mx.nd.waitall()\n",
    "print(\"Time (s):\", time.time() - start_time)"
   ]
  },
  {
   "cell_type": "code",
   "execution_count": 10,
   "id": "955d759a-1e2c-49fa-8843-e858f500489d",
   "metadata": {},
   "outputs": [
    {
     "data": {
      "application/vnd.jupyter.widget-view+json": {
       "model_id": "8c045d7a6de5426e9c1634325df39537",
       "version_major": 2,
       "version_minor": 0
      },
      "text/plain": [
       "  0%|          | 0/25 [00:00<?, ?it/s]"
      ]
     },
     "metadata": {},
     "output_type": "display_data"
    },
    {
     "name": "stdout",
     "output_type": "stream",
     "text": [
      "Time (s): 52.464826822280884\n"
     ]
    }
   ],
   "source": [
    "deeplab_pt_cpu_hybrid_mkldnn_alloc_shape = gcv.model_zoo.get_model('deeplab_resnet101_coco', pretrained=True, ctx=mx.cpu())\n",
    "deeplab_pt_cpu_hybrid_mkldnn_alloc_shape.hybridize(backend = \"MKLDNN\", static_alloc=True, static_shape=True)\n",
    "\n",
    "start_time = time.time()\n",
    "\n",
    "for data, _ in tqdm(ade20k_val_loader_gpu_cpu):\n",
    "    deeplab_pt_cpu_hybrid_mkldnn_alloc_shape(data)\n",
    "    \n",
    "mx.nd.waitall()\n",
    "print(\"Time (s):\", time.time() - start_time)"
   ]
  },
  {
   "cell_type": "markdown",
   "id": "dcc14a00",
   "metadata": {},
   "source": [
    "## Hybridize (GPU)"
   ]
  },
  {
   "cell_type": "code",
   "execution_count": 19,
   "id": "82ccb02d",
   "metadata": {},
   "outputs": [
    {
     "data": {
      "application/vnd.jupyter.widget-view+json": {
       "model_id": "c0aa29b8e74f41daa104645f6d13456a",
       "version_major": 2,
       "version_minor": 0
      },
      "text/plain": [
       "  0%|          | 0/25 [00:00<?, ?it/s]"
      ]
     },
     "metadata": {},
     "output_type": "display_data"
    },
    {
     "name": "stdout",
     "output_type": "stream",
     "text": [
      "Time (s): 13.315197944641113\n"
     ]
    }
   ],
   "source": [
    "deeplab_pt_gpu = gcv.model_zoo.get_model('deeplab_resnet101_coco', pretrained=True, ctx=mx.gpu())\n",
    "\n",
    "start_time = time.time()\n",
    "\n",
    "for data, _ in tqdm(ade20k_val_loader_gpu_cpu):\n",
    "    deeplab_pt_gpu(data.as_in_context(mx.gpu()))\n",
    "    \n",
    "mx.nd.waitall()\n",
    "print(\"Time (s):\", time.time() - start_time)"
   ]
  },
  {
   "cell_type": "code",
   "execution_count": 18,
   "id": "9fd8db65",
   "metadata": {},
   "outputs": [
    {
     "data": {
      "application/vnd.jupyter.widget-view+json": {
       "model_id": "4581adeb1f774de58b0d3283865b9e5f",
       "version_major": 2,
       "version_minor": 0
      },
      "text/plain": [
       "  0%|          | 0/25 [00:00<?, ?it/s]"
      ]
     },
     "metadata": {},
     "output_type": "display_data"
    },
    {
     "name": "stdout",
     "output_type": "stream",
     "text": [
      "Time (s): 12.873461246490479\n"
     ]
    }
   ],
   "source": [
    "deeplab_pt_gpu_hybrid = gcv.model_zoo.get_model('deeplab_resnet101_coco', pretrained=True, ctx=mx.gpu())\n",
    "deeplab_pt_gpu_hybrid.hybridize()\n",
    "\n",
    "start_time = time.time()\n",
    "\n",
    "for data, _ in tqdm(ade20k_val_loader_gpu_cpu):\n",
    "    deeplab_pt_gpu_hybrid(data.as_in_context(mx.gpu()))\n",
    "    \n",
    "mx.nd.waitall()\n",
    "print(\"Time (s):\", time.time() - start_time)"
   ]
  },
  {
   "cell_type": "code",
   "execution_count": 22,
   "id": "17c3fd84",
   "metadata": {},
   "outputs": [
    {
     "data": {
      "application/vnd.jupyter.widget-view+json": {
       "model_id": "813e9339261f403c85f8ee3d15094566",
       "version_major": 2,
       "version_minor": 0
      },
      "text/plain": [
       "  0%|          | 0/25 [00:00<?, ?it/s]"
      ]
     },
     "metadata": {},
     "output_type": "display_data"
    },
    {
     "name": "stdout",
     "output_type": "stream",
     "text": [
      "Time (s): 12.752988815307617\n"
     ]
    }
   ],
   "source": [
    "deeplab_pt_gpu_hybrid_static_alloc = gcv.model_zoo.get_model('deeplab_resnet101_coco', pretrained=True, ctx=mx.gpu())\n",
    "deeplab_pt_gpu_hybrid_static_alloc.hybridize(static_alloc=True)\n",
    "\n",
    "start_time = time.time()\n",
    "\n",
    "for data, _ in tqdm(ade20k_val_loader_gpu_cpu):\n",
    "    deeplab_pt_gpu_hybrid_static_alloc(data.as_in_context(mx.gpu()))\n",
    "    \n",
    "mx.nd.waitall()\n",
    "print(\"Time (s):\", time.time() - start_time)"
   ]
  },
  {
   "cell_type": "code",
   "execution_count": 24,
   "id": "657cca3a",
   "metadata": {},
   "outputs": [
    {
     "data": {
      "application/vnd.jupyter.widget-view+json": {
       "model_id": "998074a35eb2437ea6e978f216fa1941",
       "version_major": 2,
       "version_minor": 0
      },
      "text/plain": [
       "  0%|          | 0/25 [00:00<?, ?it/s]"
      ]
     },
     "metadata": {},
     "output_type": "display_data"
    },
    {
     "name": "stdout",
     "output_type": "stream",
     "text": [
      "Time (s): 12.583650827407837\n"
     ]
    }
   ],
   "source": [
    "deeplab_pt_gpu_hybrid_static_alloc_shape = gcv.model_zoo.get_model('deeplab_resnet101_coco', pretrained=True, ctx=mx.gpu())\n",
    "deeplab_pt_gpu_hybrid_static_alloc_shape.hybridize(static_alloc=True, static_shape=True)\n",
    "\n",
    "start_time = time.time()\n",
    "\n",
    "for data, _ in tqdm(ade20k_val_loader_gpu_cpu):\n",
    "    deeplab_pt_gpu_hybrid_static_alloc_shape(data.as_in_context(mx.gpu()))\n",
    "    \n",
    "mx.nd.waitall()\n",
    "print(\"Time (s):\", time.time() - start_time)"
   ]
  },
  {
   "cell_type": "markdown",
   "id": "443425a9",
   "metadata": {},
   "source": [
    "## Automatic Mixed Precision (AMP)"
   ]
  },
  {
   "cell_type": "code",
   "execution_count": 25,
   "id": "312679db",
   "metadata": {},
   "outputs": [],
   "source": [
    "from mxnet.contrib import amp"
   ]
  },
  {
   "cell_type": "markdown",
   "id": "d2adfc70-13bd-425b-868e-20f99b70215a",
   "metadata": {},
   "source": [
    "### AMP CPU - Only with MKLDNN"
   ]
  },
  {
   "cell_type": "code",
   "execution_count": 40,
   "id": "79f96ea1-bf08-4206-8902-5c25aa4a534d",
   "metadata": {},
   "outputs": [],
   "source": [
    "deeplab_pt_cpu_hybrid = gcv.model_zoo.get_model('deeplab_resnet101_coco', pretrained=True, ctx=mx.cpu())\n",
    "deeplab_pt_cpu_hybrid.hybridize(backend=\"MKLDNN\", static_alloc=True, static_shape=True)\n",
    "deeplab_pt_cpu_hybrid(single_sample_cpu);"
   ]
  },
  {
   "cell_type": "code",
   "execution_count": 41,
   "id": "ec7799f4-0ed1-4333-a63d-eb16e8f81f31",
   "metadata": {},
   "outputs": [],
   "source": [
    "deeplab_pt_cpu_hybrid_amp = amp.convert_hybrid_block(deeplab_pt_cpu_hybrid, ctx=mx.cpu())"
   ]
  },
  {
   "cell_type": "code",
   "execution_count": 42,
   "id": "0dae226e-ad10-447a-9c27-94e16646889b",
   "metadata": {},
   "outputs": [
    {
     "data": {
      "application/vnd.jupyter.widget-view+json": {
       "model_id": "04f9b8853ba047fe99cbba0c78dbadb8",
       "version_major": 2,
       "version_minor": 0
      },
      "text/plain": [
       "  0%|          | 0/25 [00:00<?, ?it/s]"
      ]
     },
     "metadata": {},
     "output_type": "display_data"
    },
    {
     "name": "stdout",
     "output_type": "stream",
     "text": [
      "Time (s): 56.16465926170349\n"
     ]
    }
   ],
   "source": [
    "start_time = time.time()\n",
    "\n",
    "for data, _ in tqdm(ade20k_val_loader_gpu_cpu):\n",
    "    deeplab_pt_cpu_hybrid_amp(data)\n",
    "    \n",
    "mx.nd.waitall()\n",
    "print(\"Time (s):\", time.time() - start_time)"
   ]
  },
  {
   "cell_type": "markdown",
   "id": "4d2536cb-c4f9-4e45-8772-91eb5f2b5a2b",
   "metadata": {},
   "source": [
    "### AMP GPU"
   ]
  },
  {
   "cell_type": "code",
   "execution_count": 50,
   "id": "62cf8127",
   "metadata": {},
   "outputs": [],
   "source": [
    "deeplab_pt_gpu_hybrid = gcv.model_zoo.get_model('deeplab_resnet101_coco', pretrained=True, ctx=mx.gpu())\n",
    "deeplab_pt_gpu_hybrid.hybridize(static_alloc=True, static_shape=True)\n",
    "deeplab_pt_gpu_hybrid(single_sample_gpu);"
   ]
  },
  {
   "cell_type": "code",
   "execution_count": 51,
   "id": "10f498c1",
   "metadata": {},
   "outputs": [],
   "source": [
    "deeplab_pt_gpu_hybrid_amp = amp.convert_hybrid_block(deeplab_pt_gpu_hybrid, ctx=mx.gpu())"
   ]
  },
  {
   "cell_type": "code",
   "execution_count": 53,
   "id": "7c7f8f20",
   "metadata": {},
   "outputs": [
    {
     "data": {
      "application/vnd.jupyter.widget-view+json": {
       "model_id": "beccbb2b5d09497eb3998a470fecd055",
       "version_major": 2,
       "version_minor": 0
      },
      "text/plain": [
       "  0%|          | 0/25 [00:00<?, ?it/s]"
      ]
     },
     "metadata": {},
     "output_type": "display_data"
    },
    {
     "name": "stdout",
     "output_type": "stream",
     "text": [
      "Time (s): 3.431182861328125\n"
     ]
    }
   ],
   "source": [
    "start_time = time.time()\n",
    "\n",
    "for data, _ in tqdm(ade20k_val_loader_gpu_cpu):\n",
    "    deeplab_pt_gpu_hybrid_amp(data.as_in_context(mx.gpu()))\n",
    "    \n",
    "mx.nd.waitall()\n",
    "print(\"Time (s):\", time.time() - start_time)"
   ]
  },
  {
   "cell_type": "markdown",
   "id": "922fd026-f0f5-41a6-9b5e-5d5d43ebda7e",
   "metadata": {},
   "source": [
    "## MXNet Profiler"
   ]
  },
  {
   "cell_type": "markdown",
   "id": "45532889-56e9-4019-b745-1be7a6910686",
   "metadata": {},
   "source": [
    "### CPU Profiling"
   ]
  },
  {
   "cell_type": "code",
   "execution_count": 5,
   "id": "ce2efb25-bae0-4174-94bb-7a51f7bfde37",
   "metadata": {},
   "outputs": [],
   "source": [
    "deeplab_pt_cpu = gcv.model_zoo.get_model('deeplab_resnet101_coco', pretrained=True, ctx=mx.cpu())"
   ]
  },
  {
   "cell_type": "code",
   "execution_count": 6,
   "id": "2fa73f0e-8b03-4506-9afe-9ee33f545574",
   "metadata": {},
   "outputs": [],
   "source": [
    "mx.profiler.set_config(\n",
    "    profile_all=True,\n",
    "    aggregate_stats=True,\n",
    "    continuous_dump=True,\n",
    "    filename='profile_output_cpu.json')"
   ]
  },
  {
   "cell_type": "code",
   "execution_count": 7,
   "id": "3c2b65c7-ef64-45d5-b30b-09ea9db98e56",
   "metadata": {
    "scrolled": true
   },
   "outputs": [],
   "source": [
    "mx.profiler.set_state('run')\n",
    "\n",
    "deeplab_pt_cpu(single_sample_cpu)\n",
    "\n",
    "# Wait until all operations have completed\n",
    "mx.nd.waitall()\n",
    "# Stop recording\n",
    "mx.profiler.set_state('stop')\n",
    "# Log results\n",
    "mx.profiler.dump()"
   ]
  },
  {
   "cell_type": "code",
   "execution_count": 5,
   "id": "014ba4c4-21e2-4009-a386-8e050fda55af",
   "metadata": {},
   "outputs": [],
   "source": [
    "deeplab_pt_cpu_hybrid = gcv.model_zoo.get_model('deeplab_resnet101_coco', pretrained=True, ctx=mx.cpu())\n",
    "deeplab_pt_cpu_hybrid.hybridize(backend=\"MKLDNN\", static_alloc=True, static_shape=True)"
   ]
  },
  {
   "cell_type": "code",
   "execution_count": 6,
   "id": "07449c1d-92a2-49ba-9265-7fcec19be8f7",
   "metadata": {},
   "outputs": [],
   "source": [
    "mx.profiler.set_config(\n",
    "    profile_all=True,\n",
    "    aggregate_stats=True,\n",
    "    continuous_dump=True,\n",
    "    filename='profile_output_cpu_hybrid.json')"
   ]
  },
  {
   "cell_type": "code",
   "execution_count": 7,
   "id": "cd9af769-d50a-42f6-8274-effe11464397",
   "metadata": {
    "scrolled": true
   },
   "outputs": [],
   "source": [
    "mx.profiler.set_state('run')\n",
    "\n",
    "deeplab_pt_cpu_hybrid(single_sample_cpu)\n",
    "\n",
    "# Wait until all operations have completed\n",
    "mx.nd.waitall()\n",
    "# Stop recording\n",
    "mx.profiler.set_state('stop')\n",
    "# Log results\n",
    "mx.profiler.dump()"
   ]
  },
  {
   "cell_type": "markdown",
   "id": "8701d72c-fa8b-4b5b-9da4-8bc2ac47e074",
   "metadata": {},
   "source": [
    "### GPU Profiling"
   ]
  },
  {
   "cell_type": "code",
   "execution_count": 5,
   "id": "e342972b-0188-494b-91be-adc2b2a34337",
   "metadata": {},
   "outputs": [],
   "source": [
    "deeplab_pt_gpu = gcv.model_zoo.get_model('deeplab_resnet101_coco', pretrained=True, ctx=mx.gpu())"
   ]
  },
  {
   "cell_type": "code",
   "execution_count": 7,
   "id": "95ebb38a-c67c-4cda-b80e-8a0b785b8213",
   "metadata": {},
   "outputs": [],
   "source": [
    "mx.profiler.set_config(\n",
    "    profile_all=True,\n",
    "    aggregate_stats=True,\n",
    "    continuous_dump=True,\n",
    "    filename='profile_output_gpu.json')"
   ]
  },
  {
   "cell_type": "code",
   "execution_count": 8,
   "id": "0e27b3a7-2542-4882-a203-4f3cb139af05",
   "metadata": {},
   "outputs": [],
   "source": [
    "mx.profiler.set_state('run')\n",
    "\n",
    "deeplab_pt_gpu(single_sample_gpu)\n",
    "\n",
    "# Wait until all operations have completed\n",
    "mx.nd.waitall()\n",
    "# Stop recording\n",
    "mx.profiler.set_state('stop')\n",
    "# Log results\n",
    "mx.profiler.dump()"
   ]
  },
  {
   "cell_type": "code",
   "execution_count": 5,
   "id": "2517adff-a082-4b29-af32-5f89d12989dc",
   "metadata": {},
   "outputs": [],
   "source": [
    "deeplab_pt_gpu_hybrid = gcv.model_zoo.get_model('deeplab_resnet101_coco', pretrained=True, ctx=mx.gpu())\n",
    "deeplab_pt_gpu_hybrid.hybridize(static_alloc=True, static_shape=True)"
   ]
  },
  {
   "cell_type": "code",
   "execution_count": 6,
   "id": "ba76c6ba-8e50-49e3-a718-c13d1a9f66ed",
   "metadata": {},
   "outputs": [],
   "source": [
    "mx.profiler.set_config(\n",
    "    profile_all=True,\n",
    "    aggregate_stats=True,\n",
    "    continuous_dump=True,\n",
    "    filename='profile_output_gpu_hybrid.json')"
   ]
  },
  {
   "cell_type": "code",
   "execution_count": 7,
   "id": "4135deb2-6064-49f1-95a2-c892f133cee1",
   "metadata": {},
   "outputs": [
    {
     "name": "stderr",
     "output_type": "stream",
     "text": [
      "[11:00:02] /work/mxnet/src/operator/nn/./cudnn/./cudnn_algoreg-inl.h:96: Running performance tests to find the best convolution algorithm, this can take a while... (set the environment variable MXNET_CUDNN_AUTOTUNE_DEFAULT to 0 to disable)\n"
     ]
    }
   ],
   "source": [
    "mx.profiler.set_state('run')\n",
    "\n",
    "deeplab_pt_gpu_hybrid(single_sample_gpu)\n",
    "\n",
    "# Wait until all operations have completed\n",
    "mx.nd.waitall()\n",
    "# Stop recording\n",
    "mx.profiler.set_state('stop')\n",
    "# Log results\n",
    "mx.profiler.dump()"
   ]
  },
  {
   "cell_type": "markdown",
   "id": "7e4e8116",
   "metadata": {},
   "source": [
    "## Quantisation (INT8) - CPU Only"
   ]
  },
  {
   "cell_type": "code",
   "execution_count": 54,
   "id": "00bf3e32",
   "metadata": {},
   "outputs": [],
   "source": [
    "from mxnet.contrib import quantization"
   ]
  },
  {
   "cell_type": "markdown",
   "id": "579cd70e",
   "metadata": {},
   "source": [
    "### Calibration Dataset"
   ]
  },
  {
   "cell_type": "code",
   "execution_count": 55,
   "id": "ccb2480b",
   "metadata": {},
   "outputs": [
    {
     "data": {
      "application/vnd.jupyter.widget-view+json": {
       "model_id": "9325ac3c777e45459208ccdb629cb19c",
       "version_major": 2,
       "version_minor": 0
      },
      "text/plain": [
       "  0%|          | 0/10 [00:00<?, ?it/s]"
      ]
     },
     "metadata": {},
     "output_type": "display_data"
    }
   ],
   "source": [
    "# Dataset Loading & Transforming\n",
    "# Limit to 10 samples (last ones)\n",
    "max_samples = 10\n",
    "samples = range(0, max_samples)\n",
    "\n",
    "ade20k_cal_cpu_pre = mx.gluon.data.SimpleDataset([(ade20k_val_cpu[-i][0], ade20k_val_cpu[-i][1]) for i in tqdm(samples)])\n",
    "ade20k_cal_gpu     = ade20k_cal_cpu_pre.transform_first(input_transform_fn_gpu, lazy=False)\n",
    "ade20k_cal_gpu_cpu = ade20k_cal_gpu.transform_first(to_cpu_fn, lazy=False)"
   ]
  },
  {
   "cell_type": "code",
   "execution_count": 56,
   "id": "543fca2e",
   "metadata": {},
   "outputs": [],
   "source": [
    "# DataLoader for Calibration\n",
    "# For CPU, Pre-processed in GPU, copied back to CPU memory space)\n",
    "num_workers = 0\n",
    "batch_size = 4\n",
    "\n",
    "# DataLoader for calibration data processed in GPU, loaded in CPU\n",
    "ade20k_cal_loader_gpu_cpu = mx.gluon.data.DataLoader(\n",
    "    ade20k_cal_gpu_cpu,\n",
    "    batch_size=batch_size,\n",
    "    num_workers=num_workers,\n",
    "    last_batch=\"discard\")"
   ]
  },
  {
   "cell_type": "code",
   "execution_count": 61,
   "id": "e0657b3b",
   "metadata": {},
   "outputs": [],
   "source": [
    "deeplab_pt_cpu = gcv.model_zoo.get_model('deeplab_resnet101_coco', pretrained=True, ctx=mx.cpu())\n",
    "deeplab_pt_cpu(single_sample_cpu);"
   ]
  },
  {
   "cell_type": "code",
   "execution_count": 62,
   "id": "ff520b06-f312-4396-97be-2e4bea80ffe8",
   "metadata": {},
   "outputs": [],
   "source": [
    "# Log Quantization info\n",
    "import logging\n",
    "logging.basicConfig()\n",
    "logger = logging.getLogger('logger')\n",
    "logger.setLevel(logging.INFO)"
   ]
  },
  {
   "cell_type": "code",
   "execution_count": 63,
   "id": "5f9a3673",
   "metadata": {
    "scrolled": true
   },
   "outputs": [
    {
     "name": "stderr",
     "output_type": "stream",
     "text": [
      "INFO:logger:Export HybridBlock\n",
      "INFO:logger:These layers have been excluded []\n",
      "INFO:logger:Quantizing graph\n",
      "[11:43:59] /work/mxnet/src/operator/quantization/quantize_graph_pass.cc:302: sg_mkldnn_conv_bn_act_0 is quantized.\n",
      "[11:43:59] /work/mxnet/src/operator/quantization/quantize_graph_pass.cc:302: sg_mkldnn_conv_bn_act_1 is quantized.\n",
      "[11:43:59] /work/mxnet/src/operator/quantization/quantize_graph_pass.cc:302: sg_mkldnn_conv_bn_act_2 is quantized.\n",
      "[11:43:59] /work/mxnet/src/operator/quantization/quantize_graph_pass.cc:302: deeplabv327_resnetv1s_pool0_fwd is quantized.\n",
      "[11:43:59] /work/mxnet/src/operator/quantization/quantize_graph_pass.cc:302: sg_mkldnn_conv_bn_act_3 is quantized.\n",
      "[11:43:59] /work/mxnet/src/operator/quantization/quantize_graph_pass.cc:302: sg_mkldnn_conv_bn_act_4 is quantized.\n",
      "[11:43:59] /work/mxnet/src/operator/quantization/quantize_graph_pass.cc:302: sg_mkldnn_conv_bn_6 is quantized.\n",
      "[11:43:59] /work/mxnet/src/operator/quantization/quantize_graph_pass.cc:302: sg_mkldnn_conv_bn_add_act_5 is quantized.\n",
      "[11:43:59] /work/mxnet/src/operator/quantization/quantize_graph_pass.cc:302: sg_mkldnn_conv_bn_act_7 is quantized.\n",
      "[11:43:59] /work/mxnet/src/operator/quantization/quantize_graph_pass.cc:302: sg_mkldnn_conv_bn_act_8 is quantized.\n",
      "[11:43:59] /work/mxnet/src/operator/quantization/quantize_graph_pass.cc:302: sg_mkldnn_conv_bn_add_act_9 is quantized.\n",
      "[11:43:59] /work/mxnet/src/operator/quantization/quantize_graph_pass.cc:302: sg_mkldnn_conv_bn_act_10 is quantized.\n",
      "[11:43:59] /work/mxnet/src/operator/quantization/quantize_graph_pass.cc:302: sg_mkldnn_conv_bn_act_11 is quantized.\n",
      "[11:43:59] /work/mxnet/src/operator/quantization/quantize_graph_pass.cc:302: sg_mkldnn_conv_bn_add_act_12 is quantized.\n",
      "[11:43:59] /work/mxnet/src/operator/quantization/quantize_graph_pass.cc:302: sg_mkldnn_conv_bn_act_13 is quantized.\n",
      "[11:43:59] /work/mxnet/src/operator/quantization/quantize_graph_pass.cc:302: sg_mkldnn_conv_bn_act_14 is quantized.\n",
      "[11:43:59] /work/mxnet/src/operator/quantization/quantize_graph_pass.cc:302: sg_mkldnn_conv_bn_16 is quantized.\n",
      "[11:43:59] /work/mxnet/src/operator/quantization/quantize_graph_pass.cc:302: sg_mkldnn_conv_bn_add_act_15 is quantized.\n",
      "[11:43:59] /work/mxnet/src/operator/quantization/quantize_graph_pass.cc:302: sg_mkldnn_conv_bn_act_17 is quantized.\n",
      "[11:43:59] /work/mxnet/src/operator/quantization/quantize_graph_pass.cc:302: sg_mkldnn_conv_bn_act_18 is quantized.\n",
      "[11:43:59] /work/mxnet/src/operator/quantization/quantize_graph_pass.cc:302: sg_mkldnn_conv_bn_add_act_19 is quantized.\n",
      "[11:43:59] /work/mxnet/src/operator/quantization/quantize_graph_pass.cc:302: sg_mkldnn_conv_bn_act_20 is quantized.\n",
      "[11:43:59] /work/mxnet/src/operator/quantization/quantize_graph_pass.cc:302: sg_mkldnn_conv_bn_act_21 is quantized.\n",
      "[11:43:59] /work/mxnet/src/operator/quantization/quantize_graph_pass.cc:302: sg_mkldnn_conv_bn_add_act_22 is quantized.\n",
      "[11:43:59] /work/mxnet/src/operator/quantization/quantize_graph_pass.cc:302: sg_mkldnn_conv_bn_act_23 is quantized.\n",
      "[11:43:59] /work/mxnet/src/operator/quantization/quantize_graph_pass.cc:302: sg_mkldnn_conv_bn_act_24 is quantized.\n",
      "[11:43:59] /work/mxnet/src/operator/quantization/quantize_graph_pass.cc:302: sg_mkldnn_conv_bn_add_act_25 is quantized.\n",
      "[11:43:59] /work/mxnet/src/operator/quantization/quantize_graph_pass.cc:302: sg_mkldnn_conv_bn_act_26 is quantized.\n",
      "[11:43:59] /work/mxnet/src/operator/quantization/quantize_graph_pass.cc:302: sg_mkldnn_conv_bn_act_27 is quantized.\n",
      "[11:43:59] /work/mxnet/src/operator/quantization/quantize_graph_pass.cc:302: sg_mkldnn_conv_bn_29 is quantized.\n",
      "[11:43:59] /work/mxnet/src/operator/quantization/quantize_graph_pass.cc:302: sg_mkldnn_conv_bn_add_act_28 is quantized.\n",
      "[11:43:59] /work/mxnet/src/operator/quantization/quantize_graph_pass.cc:302: sg_mkldnn_conv_bn_act_30 is quantized.\n",
      "[11:43:59] /work/mxnet/src/operator/quantization/quantize_graph_pass.cc:302: sg_mkldnn_conv_bn_act_31 is quantized.\n",
      "[11:43:59] /work/mxnet/src/operator/quantization/quantize_graph_pass.cc:302: sg_mkldnn_conv_bn_add_act_32 is quantized.\n",
      "[11:43:59] /work/mxnet/src/operator/quantization/quantize_graph_pass.cc:302: sg_mkldnn_conv_bn_act_33 is quantized.\n",
      "[11:43:59] /work/mxnet/src/operator/quantization/quantize_graph_pass.cc:302: sg_mkldnn_conv_bn_act_34 is quantized.\n",
      "[11:43:59] /work/mxnet/src/operator/quantization/quantize_graph_pass.cc:302: sg_mkldnn_conv_bn_add_act_35 is quantized.\n",
      "[11:43:59] /work/mxnet/src/operator/quantization/quantize_graph_pass.cc:302: sg_mkldnn_conv_bn_act_36 is quantized.\n",
      "[11:43:59] /work/mxnet/src/operator/quantization/quantize_graph_pass.cc:302: sg_mkldnn_conv_bn_act_37 is quantized.\n",
      "[11:43:59] /work/mxnet/src/operator/quantization/quantize_graph_pass.cc:302: sg_mkldnn_conv_bn_add_act_38 is quantized.\n",
      "[11:43:59] /work/mxnet/src/operator/quantization/quantize_graph_pass.cc:302: sg_mkldnn_conv_bn_act_39 is quantized.\n",
      "[11:43:59] /work/mxnet/src/operator/quantization/quantize_graph_pass.cc:302: sg_mkldnn_conv_bn_act_40 is quantized.\n",
      "[11:43:59] /work/mxnet/src/operator/quantization/quantize_graph_pass.cc:302: sg_mkldnn_conv_bn_add_act_41 is quantized.\n",
      "[11:43:59] /work/mxnet/src/operator/quantization/quantize_graph_pass.cc:302: sg_mkldnn_conv_bn_act_42 is quantized.\n",
      "[11:43:59] /work/mxnet/src/operator/quantization/quantize_graph_pass.cc:302: sg_mkldnn_conv_bn_act_43 is quantized.\n",
      "[11:43:59] /work/mxnet/src/operator/quantization/quantize_graph_pass.cc:302: sg_mkldnn_conv_bn_add_act_44 is quantized.\n",
      "[11:43:59] /work/mxnet/src/operator/quantization/quantize_graph_pass.cc:302: sg_mkldnn_conv_bn_act_45 is quantized.\n",
      "[11:43:59] /work/mxnet/src/operator/quantization/quantize_graph_pass.cc:302: sg_mkldnn_conv_bn_act_46 is quantized.\n",
      "[11:43:59] /work/mxnet/src/operator/quantization/quantize_graph_pass.cc:302: sg_mkldnn_conv_bn_add_act_47 is quantized.\n",
      "[11:43:59] /work/mxnet/src/operator/quantization/quantize_graph_pass.cc:302: sg_mkldnn_conv_bn_act_48 is quantized.\n",
      "[11:43:59] /work/mxnet/src/operator/quantization/quantize_graph_pass.cc:302: sg_mkldnn_conv_bn_act_49 is quantized.\n",
      "[11:43:59] /work/mxnet/src/operator/quantization/quantize_graph_pass.cc:302: sg_mkldnn_conv_bn_add_act_50 is quantized.\n",
      "[11:43:59] /work/mxnet/src/operator/quantization/quantize_graph_pass.cc:302: sg_mkldnn_conv_bn_act_51 is quantized.\n",
      "[11:43:59] /work/mxnet/src/operator/quantization/quantize_graph_pass.cc:302: sg_mkldnn_conv_bn_act_52 is quantized.\n",
      "[11:43:59] /work/mxnet/src/operator/quantization/quantize_graph_pass.cc:302: sg_mkldnn_conv_bn_add_act_53 is quantized.\n",
      "[11:43:59] /work/mxnet/src/operator/quantization/quantize_graph_pass.cc:302: sg_mkldnn_conv_bn_act_54 is quantized.\n",
      "[11:43:59] /work/mxnet/src/operator/quantization/quantize_graph_pass.cc:302: sg_mkldnn_conv_bn_act_55 is quantized.\n",
      "[11:43:59] /work/mxnet/src/operator/quantization/quantize_graph_pass.cc:302: sg_mkldnn_conv_bn_add_act_56 is quantized.\n",
      "[11:43:59] /work/mxnet/src/operator/quantization/quantize_graph_pass.cc:302: sg_mkldnn_conv_bn_act_57 is quantized.\n",
      "[11:43:59] /work/mxnet/src/operator/quantization/quantize_graph_pass.cc:302: sg_mkldnn_conv_bn_act_58 is quantized.\n",
      "[11:43:59] /work/mxnet/src/operator/quantization/quantize_graph_pass.cc:302: sg_mkldnn_conv_bn_add_act_59 is quantized.\n",
      "[11:43:59] /work/mxnet/src/operator/quantization/quantize_graph_pass.cc:302: sg_mkldnn_conv_bn_act_60 is quantized.\n",
      "[11:43:59] /work/mxnet/src/operator/quantization/quantize_graph_pass.cc:302: sg_mkldnn_conv_bn_act_61 is quantized.\n",
      "[11:43:59] /work/mxnet/src/operator/quantization/quantize_graph_pass.cc:302: sg_mkldnn_conv_bn_add_act_62 is quantized.\n",
      "[11:43:59] /work/mxnet/src/operator/quantization/quantize_graph_pass.cc:302: sg_mkldnn_conv_bn_act_63 is quantized.\n",
      "[11:43:59] /work/mxnet/src/operator/quantization/quantize_graph_pass.cc:302: sg_mkldnn_conv_bn_act_64 is quantized.\n",
      "[11:43:59] /work/mxnet/src/operator/quantization/quantize_graph_pass.cc:302: sg_mkldnn_conv_bn_add_act_65 is quantized.\n",
      "[11:43:59] /work/mxnet/src/operator/quantization/quantize_graph_pass.cc:302: sg_mkldnn_conv_bn_act_66 is quantized.\n",
      "[11:43:59] /work/mxnet/src/operator/quantization/quantize_graph_pass.cc:302: sg_mkldnn_conv_bn_act_67 is quantized.\n",
      "[11:43:59] /work/mxnet/src/operator/quantization/quantize_graph_pass.cc:302: sg_mkldnn_conv_bn_add_act_68 is quantized.\n",
      "[11:43:59] /work/mxnet/src/operator/quantization/quantize_graph_pass.cc:302: sg_mkldnn_conv_bn_act_69 is quantized.\n",
      "[11:43:59] /work/mxnet/src/operator/quantization/quantize_graph_pass.cc:302: sg_mkldnn_conv_bn_act_70 is quantized.\n",
      "[11:43:59] /work/mxnet/src/operator/quantization/quantize_graph_pass.cc:302: sg_mkldnn_conv_bn_add_act_71 is quantized.\n",
      "[11:43:59] /work/mxnet/src/operator/quantization/quantize_graph_pass.cc:302: sg_mkldnn_conv_bn_act_72 is quantized.\n",
      "[11:43:59] /work/mxnet/src/operator/quantization/quantize_graph_pass.cc:302: sg_mkldnn_conv_bn_act_73 is quantized.\n",
      "[11:43:59] /work/mxnet/src/operator/quantization/quantize_graph_pass.cc:302: sg_mkldnn_conv_bn_add_act_74 is quantized.\n",
      "[11:43:59] /work/mxnet/src/operator/quantization/quantize_graph_pass.cc:302: sg_mkldnn_conv_bn_act_75 is quantized.\n",
      "[11:43:59] /work/mxnet/src/operator/quantization/quantize_graph_pass.cc:302: sg_mkldnn_conv_bn_act_76 is quantized.\n",
      "[11:43:59] /work/mxnet/src/operator/quantization/quantize_graph_pass.cc:302: sg_mkldnn_conv_bn_add_act_77 is quantized.\n",
      "[11:43:59] /work/mxnet/src/operator/quantization/quantize_graph_pass.cc:302: sg_mkldnn_conv_bn_act_78 is quantized.\n",
      "[11:43:59] /work/mxnet/src/operator/quantization/quantize_graph_pass.cc:302: sg_mkldnn_conv_bn_act_79 is quantized.\n",
      "[11:43:59] /work/mxnet/src/operator/quantization/quantize_graph_pass.cc:302: sg_mkldnn_conv_bn_add_act_80 is quantized.\n",
      "[11:43:59] /work/mxnet/src/operator/quantization/quantize_graph_pass.cc:302: sg_mkldnn_conv_bn_act_81 is quantized.\n",
      "[11:43:59] /work/mxnet/src/operator/quantization/quantize_graph_pass.cc:302: sg_mkldnn_conv_bn_act_82 is quantized.\n",
      "[11:43:59] /work/mxnet/src/operator/quantization/quantize_graph_pass.cc:302: sg_mkldnn_conv_bn_add_act_83 is quantized.\n",
      "[11:43:59] /work/mxnet/src/operator/quantization/quantize_graph_pass.cc:302: sg_mkldnn_conv_bn_act_84 is quantized.\n",
      "[11:43:59] /work/mxnet/src/operator/quantization/quantize_graph_pass.cc:302: sg_mkldnn_conv_bn_act_85 is quantized.\n",
      "[11:43:59] /work/mxnet/src/operator/quantization/quantize_graph_pass.cc:302: sg_mkldnn_conv_bn_add_act_86 is quantized.\n",
      "[11:43:59] /work/mxnet/src/operator/quantization/quantize_graph_pass.cc:302: sg_mkldnn_conv_bn_act_87 is quantized.\n",
      "[11:43:59] /work/mxnet/src/operator/quantization/quantize_graph_pass.cc:302: sg_mkldnn_conv_bn_act_88 is quantized.\n",
      "[11:43:59] /work/mxnet/src/operator/quantization/quantize_graph_pass.cc:302: sg_mkldnn_conv_bn_add_act_89 is quantized.\n",
      "[11:43:59] /work/mxnet/src/operator/quantization/quantize_graph_pass.cc:302: sg_mkldnn_conv_bn_act_90 is quantized.\n",
      "[11:43:59] /work/mxnet/src/operator/quantization/quantize_graph_pass.cc:302: sg_mkldnn_conv_bn_act_91 is quantized.\n",
      "[11:43:59] /work/mxnet/src/operator/quantization/quantize_graph_pass.cc:302: sg_mkldnn_conv_bn_add_act_92 is quantized.\n",
      "[11:43:59] /work/mxnet/src/operator/quantization/quantize_graph_pass.cc:302: sg_mkldnn_conv_bn_act_93 is quantized.\n",
      "[11:43:59] /work/mxnet/src/operator/quantization/quantize_graph_pass.cc:302: sg_mkldnn_conv_bn_act_94 is quantized.\n",
      "[11:43:59] /work/mxnet/src/operator/quantization/quantize_graph_pass.cc:302: sg_mkldnn_conv_bn_add_act_95 is quantized.\n",
      "[11:43:59] /work/mxnet/src/operator/quantization/quantize_graph_pass.cc:302: sg_mkldnn_conv_bn_act_96 is quantized.\n",
      "[11:43:59] /work/mxnet/src/operator/quantization/quantize_graph_pass.cc:302: sg_mkldnn_conv_bn_act_97 is quantized.\n",
      "[11:43:59] /work/mxnet/src/operator/quantization/quantize_graph_pass.cc:302: sg_mkldnn_conv_bn_99 is quantized.\n",
      "[11:43:59] /work/mxnet/src/operator/quantization/quantize_graph_pass.cc:302: sg_mkldnn_conv_bn_add_act_98 is quantized.\n",
      "[11:43:59] /work/mxnet/src/operator/quantization/quantize_graph_pass.cc:302: sg_mkldnn_conv_bn_act_100 is quantized.\n",
      "[11:43:59] /work/mxnet/src/operator/quantization/quantize_graph_pass.cc:302: sg_mkldnn_conv_bn_act_101 is quantized.\n",
      "[11:43:59] /work/mxnet/src/operator/quantization/quantize_graph_pass.cc:302: sg_mkldnn_conv_bn_add_act_102 is quantized.\n",
      "[11:43:59] /work/mxnet/src/operator/quantization/quantize_graph_pass.cc:302: sg_mkldnn_conv_bn_act_103 is quantized.\n",
      "[11:43:59] /work/mxnet/src/operator/quantization/quantize_graph_pass.cc:302: sg_mkldnn_conv_bn_act_104 is quantized.\n",
      "[11:43:59] /work/mxnet/src/operator/quantization/quantize_graph_pass.cc:302: sg_mkldnn_conv_bn_add_act_105 is quantized.\n",
      "[11:43:59] /work/mxnet/src/operator/quantization/quantize_graph_pass.cc:302: sg_mkldnn_conv_bn_act_106 is quantized.\n",
      "[11:43:59] /work/mxnet/src/operator/quantization/quantize_graph_pass.cc:302: sg_mkldnn_conv_bn_act_107 is quantized.\n",
      "[11:43:59] /work/mxnet/src/operator/quantization/quantize_graph_pass.cc:302: sg_mkldnn_conv_bn_act_108 is quantized.\n",
      "[11:43:59] /work/mxnet/src/operator/quantization/quantize_graph_pass.cc:302: sg_mkldnn_conv_bn_act_109 is quantized.\n",
      "[11:43:59] /work/mxnet/src/operator/quantization/quantize_graph_pass.cc:302: deeplabv327__deeplabhead0_hybridsequential4_pool0_fwd is quantized.\n",
      "[11:43:59] /work/mxnet/src/operator/quantization/quantize_graph_pass.cc:302: sg_mkldnn_conv_bn_act_110 is quantized.\n",
      "[11:43:59] /work/mxnet/src/operator/quantization/quantize_graph_pass.cc:439: deeplabv327__deeplabhead0__aspppooling0_bilinearresize2d0 is NOT quantized.\n",
      "[11:43:59] /work/mxnet/src/operator/quantization/quantize_graph_pass.cc:302: deeplabv327__deeplabhead0_hybridconcurrent0_concat0 is quantized.\n",
      "[11:43:59] /work/mxnet/src/operator/quantization/quantize_graph_pass.cc:302: sg_mkldnn_conv_bn_act_111 is quantized.\n",
      "[11:43:59] /work/mxnet/src/operator/quantization/quantize_graph_pass.cc:302: sg_mkldnn_conv_bn_act_112 is quantized.\n",
      "[11:43:59] /work/mxnet/src/operator/quantization/quantize_graph_pass.cc:302: sg_mkldnn_conv_113 is quantized.\n",
      "[11:43:59] /work/mxnet/src/operator/quantization/quantize_graph_pass.cc:439: deeplabv327_bilinearresize2d0 is NOT quantized.\n",
      "[11:43:59] /work/mxnet/src/operator/quantization/quantize_graph_pass.cc:302: sg_mkldnn_conv_bn_act_114 is quantized.\n",
      "[11:43:59] /work/mxnet/src/operator/quantization/quantize_graph_pass.cc:302: sg_mkldnn_conv_115 is quantized.\n",
      "[11:43:59] /work/mxnet/src/operator/quantization/quantize_graph_pass.cc:439: deeplabv327_bilinearresize2d1 is NOT quantized.\n",
      "INFO:logger:Create a layer output collector for entropy calibration.\n",
      "INFO:logger:Collector created, please use set_monitor_callback to collect calibration information.\n",
      "INFO:logger:Quantizing parameters\n",
      "[11:43:59] /work/mxnet/src/executor/graph_executor.cc:1991: Subgraph backend MKLDNN is activated.\n",
      "INFO:logger:Collected statistics from 2 batches with batch_size=4\n",
      "INFO:logger:Collected layer output values from FP32 model using 8 examples\n",
      "INFO:logger:Calculating optimal thresholds for quantization\n",
      "INFO:logger:Calculating optimal thresholds for quantization using KL divergence with num_quantized_bins=255\n",
      "[11:44:48] /work/mxnet/src/operator/quantization/quantize_graph_pass.cc:592: Set calibration result to quantized symbol.\n",
      "[11:44:48] /work/mxnet/src/operator/quantization/quantize_graph_pass.cc:569: Set calibration result to data_quantize : min=-2.62416 max=2.62416\n",
      "[11:44:48] /work/mxnet/src/operator/quantization/quantize_graph_pass.cc:569: Set calibration result to requantize_sg_mkldnn_conv_bn_act_0 : min=0 max=2.24423\n",
      "[11:44:48] /work/mxnet/src/operator/quantization/quantize_graph_pass.cc:569: Set calibration result to requantize_sg_mkldnn_conv_bn_act_1 : min=0 max=1.92537\n",
      "[11:44:48] /work/mxnet/src/operator/quantization/quantize_graph_pass.cc:569: Set calibration result to requantize_sg_mkldnn_conv_bn_act_2 : min=0 max=1.36765\n",
      "[11:44:48] /work/mxnet/src/operator/quantization/quantize_graph_pass.cc:569: Set calibration result to requantize_sg_mkldnn_conv_bn_act_3 : min=0 max=0.961768\n",
      "[11:44:48] /work/mxnet/src/operator/quantization/quantize_graph_pass.cc:569: Set calibration result to requantize_sg_mkldnn_conv_bn_act_4 : min=0 max=0.988977\n",
      "[11:44:48] /work/mxnet/src/operator/quantization/quantize_graph_pass.cc:569: Set calibration result to requantize_sg_mkldnn_conv_bn_6 : min=-0.46603 max=0.46603\n",
      "[11:44:48] /work/mxnet/src/operator/quantization/quantize_graph_pass.cc:569: Set calibration result to requantize_sg_mkldnn_conv_bn_add_act_5 : min=0 max=1.35439\n",
      "[11:44:48] /work/mxnet/src/operator/quantization/quantize_graph_pass.cc:569: Set calibration result to requantize_sg_mkldnn_conv_bn_act_7 : min=0 max=1.12103\n",
      "[11:44:48] /work/mxnet/src/operator/quantization/quantize_graph_pass.cc:569: Set calibration result to requantize_sg_mkldnn_conv_bn_act_8 : min=0 max=1.00342\n",
      "[11:44:48] /work/mxnet/src/operator/quantization/quantize_graph_pass.cc:569: Set calibration result to requantize_sg_mkldnn_conv_bn_add_act_9 : min=0 max=0.962016\n",
      "[11:44:48] /work/mxnet/src/operator/quantization/quantize_graph_pass.cc:569: Set calibration result to requantize_sg_mkldnn_conv_bn_act_10 : min=0 max=0.909825\n",
      "[11:44:48] /work/mxnet/src/operator/quantization/quantize_graph_pass.cc:569: Set calibration result to requantize_sg_mkldnn_conv_bn_act_11 : min=0 max=0.829106\n",
      "[11:44:48] /work/mxnet/src/operator/quantization/quantize_graph_pass.cc:569: Set calibration result to requantize_sg_mkldnn_conv_bn_add_act_12 : min=0 max=1.02647\n",
      "[11:44:48] /work/mxnet/src/operator/quantization/quantize_graph_pass.cc:569: Set calibration result to requantize_sg_mkldnn_conv_bn_act_13 : min=0 max=1.11092\n",
      "[11:44:48] /work/mxnet/src/operator/quantization/quantize_graph_pass.cc:569: Set calibration result to requantize_sg_mkldnn_conv_bn_act_14 : min=0 max=0.780293\n",
      "[11:44:48] /work/mxnet/src/operator/quantization/quantize_graph_pass.cc:569: Set calibration result to requantize_sg_mkldnn_conv_bn_16 : min=-0.352744 max=0.352744\n",
      "[11:44:48] /work/mxnet/src/operator/quantization/quantize_graph_pass.cc:569: Set calibration result to requantize_sg_mkldnn_conv_bn_add_act_15 : min=0 max=1.16203\n",
      "[11:44:48] /work/mxnet/src/operator/quantization/quantize_graph_pass.cc:569: Set calibration result to requantize_sg_mkldnn_conv_bn_act_17 : min=0 max=0.837039\n",
      "[11:44:48] /work/mxnet/src/operator/quantization/quantize_graph_pass.cc:569: Set calibration result to requantize_sg_mkldnn_conv_bn_act_18 : min=0 max=0.745082\n",
      "[11:44:48] /work/mxnet/src/operator/quantization/quantize_graph_pass.cc:569: Set calibration result to requantize_sg_mkldnn_conv_bn_add_act_19 : min=0 max=1.3462\n",
      "[11:44:48] /work/mxnet/src/operator/quantization/quantize_graph_pass.cc:569: Set calibration result to requantize_sg_mkldnn_conv_bn_act_20 : min=0 max=0.804034\n",
      "[11:44:48] /work/mxnet/src/operator/quantization/quantize_graph_pass.cc:569: Set calibration result to requantize_sg_mkldnn_conv_bn_act_21 : min=0 max=0.752987\n",
      "[11:44:48] /work/mxnet/src/operator/quantization/quantize_graph_pass.cc:569: Set calibration result to requantize_sg_mkldnn_conv_bn_add_act_22 : min=0 max=0.932619\n",
      "[11:44:48] /work/mxnet/src/operator/quantization/quantize_graph_pass.cc:569: Set calibration result to requantize_sg_mkldnn_conv_bn_act_23 : min=0 max=0.650805\n",
      "[11:44:48] /work/mxnet/src/operator/quantization/quantize_graph_pass.cc:569: Set calibration result to requantize_sg_mkldnn_conv_bn_act_24 : min=0 max=0.685084\n",
      "[11:44:48] /work/mxnet/src/operator/quantization/quantize_graph_pass.cc:569: Set calibration result to requantize_sg_mkldnn_conv_bn_add_act_25 : min=0 max=0.860588\n",
      "[11:44:48] /work/mxnet/src/operator/quantization/quantize_graph_pass.cc:569: Set calibration result to requantize_sg_mkldnn_conv_bn_act_26 : min=0 max=0.980158\n",
      "[11:44:48] /work/mxnet/src/operator/quantization/quantize_graph_pass.cc:569: Set calibration result to requantize_sg_mkldnn_conv_bn_act_27 : min=0 max=0.691832\n",
      "[11:44:48] /work/mxnet/src/operator/quantization/quantize_graph_pass.cc:569: Set calibration result to requantize_sg_mkldnn_conv_bn_29 : min=-0.279166 max=0.279166\n",
      "[11:44:48] /work/mxnet/src/operator/quantization/quantize_graph_pass.cc:569: Set calibration result to requantize_sg_mkldnn_conv_bn_add_act_28 : min=0 max=1.07305\n",
      "[11:44:48] /work/mxnet/src/operator/quantization/quantize_graph_pass.cc:569: Set calibration result to requantize_sg_mkldnn_conv_bn_act_30 : min=0 max=0.525901\n",
      "[11:44:48] /work/mxnet/src/operator/quantization/quantize_graph_pass.cc:569: Set calibration result to requantize_sg_mkldnn_conv_bn_act_31 : min=0 max=0.4495\n",
      "[11:44:48] /work/mxnet/src/operator/quantization/quantize_graph_pass.cc:569: Set calibration result to requantize_sg_mkldnn_conv_bn_add_act_32 : min=0 max=1.01533\n",
      "[11:44:48] /work/mxnet/src/operator/quantization/quantize_graph_pass.cc:569: Set calibration result to requantize_sg_mkldnn_conv_bn_act_33 : min=0 max=0.535159\n",
      "[11:44:48] /work/mxnet/src/operator/quantization/quantize_graph_pass.cc:569: Set calibration result to requantize_sg_mkldnn_conv_bn_act_34 : min=0 max=0.488077\n",
      "[11:44:48] /work/mxnet/src/operator/quantization/quantize_graph_pass.cc:569: Set calibration result to requantize_sg_mkldnn_conv_bn_add_act_35 : min=0 max=0.90096\n",
      "[11:44:48] /work/mxnet/src/operator/quantization/quantize_graph_pass.cc:569: Set calibration result to requantize_sg_mkldnn_conv_bn_act_36 : min=0 max=0.637554\n",
      "[11:44:48] /work/mxnet/src/operator/quantization/quantize_graph_pass.cc:569: Set calibration result to requantize_sg_mkldnn_conv_bn_act_37 : min=0 max=0.548666\n",
      "[11:44:48] /work/mxnet/src/operator/quantization/quantize_graph_pass.cc:569: Set calibration result to requantize_sg_mkldnn_conv_bn_add_act_38 : min=0 max=0.895988\n",
      "[11:44:48] /work/mxnet/src/operator/quantization/quantize_graph_pass.cc:569: Set calibration result to requantize_sg_mkldnn_conv_bn_act_39 : min=0 max=0.714147\n",
      "[11:44:48] /work/mxnet/src/operator/quantization/quantize_graph_pass.cc:569: Set calibration result to requantize_sg_mkldnn_conv_bn_act_40 : min=0 max=0.831194\n",
      "[11:44:48] /work/mxnet/src/operator/quantization/quantize_graph_pass.cc:569: Set calibration result to requantize_sg_mkldnn_conv_bn_add_act_41 : min=0 max=1.10611\n",
      "[11:44:48] /work/mxnet/src/operator/quantization/quantize_graph_pass.cc:569: Set calibration result to requantize_sg_mkldnn_conv_bn_act_42 : min=0 max=0.693479\n",
      "[11:44:48] /work/mxnet/src/operator/quantization/quantize_graph_pass.cc:569: Set calibration result to requantize_sg_mkldnn_conv_bn_act_43 : min=0 max=0.59006\n",
      "[11:44:48] /work/mxnet/src/operator/quantization/quantize_graph_pass.cc:569: Set calibration result to requantize_sg_mkldnn_conv_bn_add_act_44 : min=0 max=1.20618\n",
      "[11:44:48] /work/mxnet/src/operator/quantization/quantize_graph_pass.cc:569: Set calibration result to requantize_sg_mkldnn_conv_bn_act_45 : min=0 max=0.652935\n",
      "[11:44:48] /work/mxnet/src/operator/quantization/quantize_graph_pass.cc:569: Set calibration result to requantize_sg_mkldnn_conv_bn_act_46 : min=0 max=0.601038\n",
      "[11:44:48] /work/mxnet/src/operator/quantization/quantize_graph_pass.cc:569: Set calibration result to requantize_sg_mkldnn_conv_bn_add_act_47 : min=0 max=1.25286\n",
      "[11:44:48] /work/mxnet/src/operator/quantization/quantize_graph_pass.cc:569: Set calibration result to requantize_sg_mkldnn_conv_bn_act_48 : min=0 max=0.672578\n",
      "[11:44:48] /work/mxnet/src/operator/quantization/quantize_graph_pass.cc:569: Set calibration result to requantize_sg_mkldnn_conv_bn_act_49 : min=0 max=0.548237\n",
      "[11:44:48] /work/mxnet/src/operator/quantization/quantize_graph_pass.cc:569: Set calibration result to requantize_sg_mkldnn_conv_bn_add_act_50 : min=0 max=1.2752\n",
      "[11:44:48] /work/mxnet/src/operator/quantization/quantize_graph_pass.cc:569: Set calibration result to requantize_sg_mkldnn_conv_bn_act_51 : min=0 max=0.822548\n",
      "[11:44:48] /work/mxnet/src/operator/quantization/quantize_graph_pass.cc:569: Set calibration result to requantize_sg_mkldnn_conv_bn_act_52 : min=0 max=0.771585\n",
      "[11:44:48] /work/mxnet/src/operator/quantization/quantize_graph_pass.cc:569: Set calibration result to requantize_sg_mkldnn_conv_bn_add_act_53 : min=0 max=1.28217\n",
      "[11:44:48] /work/mxnet/src/operator/quantization/quantize_graph_pass.cc:569: Set calibration result to requantize_sg_mkldnn_conv_bn_act_54 : min=0 max=0.611874\n",
      "[11:44:48] /work/mxnet/src/operator/quantization/quantize_graph_pass.cc:569: Set calibration result to requantize_sg_mkldnn_conv_bn_act_55 : min=0 max=0.540136\n",
      "[11:44:48] /work/mxnet/src/operator/quantization/quantize_graph_pass.cc:569: Set calibration result to requantize_sg_mkldnn_conv_bn_add_act_56 : min=0 max=1.17099\n",
      "[11:44:48] /work/mxnet/src/operator/quantization/quantize_graph_pass.cc:569: Set calibration result to requantize_sg_mkldnn_conv_bn_act_57 : min=0 max=0.619058\n",
      "[11:44:48] /work/mxnet/src/operator/quantization/quantize_graph_pass.cc:569: Set calibration result to requantize_sg_mkldnn_conv_bn_act_58 : min=0 max=0.534745\n",
      "[11:44:48] /work/mxnet/src/operator/quantization/quantize_graph_pass.cc:569: Set calibration result to requantize_sg_mkldnn_conv_bn_add_act_59 : min=0 max=1.2007\n",
      "[11:44:48] /work/mxnet/src/operator/quantization/quantize_graph_pass.cc:569: Set calibration result to requantize_sg_mkldnn_conv_bn_act_60 : min=0 max=0.62678\n",
      "[11:44:48] /work/mxnet/src/operator/quantization/quantize_graph_pass.cc:569: Set calibration result to requantize_sg_mkldnn_conv_bn_act_61 : min=0 max=0.579582\n",
      "[11:44:48] /work/mxnet/src/operator/quantization/quantize_graph_pass.cc:569: Set calibration result to requantize_sg_mkldnn_conv_bn_add_act_62 : min=0 max=1.1888\n",
      "[11:44:48] /work/mxnet/src/operator/quantization/quantize_graph_pass.cc:569: Set calibration result to requantize_sg_mkldnn_conv_bn_act_63 : min=0 max=0.717487\n",
      "[11:44:48] /work/mxnet/src/operator/quantization/quantize_graph_pass.cc:569: Set calibration result to requantize_sg_mkldnn_conv_bn_act_64 : min=0 max=0.488263\n",
      "[11:44:48] /work/mxnet/src/operator/quantization/quantize_graph_pass.cc:569: Set calibration result to requantize_sg_mkldnn_conv_bn_add_act_65 : min=0 max=1.16509\n",
      "[11:44:48] /work/mxnet/src/operator/quantization/quantize_graph_pass.cc:569: Set calibration result to requantize_sg_mkldnn_conv_bn_act_66 : min=0 max=0.687247\n",
      "[11:44:48] /work/mxnet/src/operator/quantization/quantize_graph_pass.cc:569: Set calibration result to requantize_sg_mkldnn_conv_bn_act_67 : min=0 max=0.588924\n",
      "[11:44:48] /work/mxnet/src/operator/quantization/quantize_graph_pass.cc:569: Set calibration result to requantize_sg_mkldnn_conv_bn_add_act_68 : min=0 max=1.15315\n",
      "[11:44:48] /work/mxnet/src/operator/quantization/quantize_graph_pass.cc:569: Set calibration result to requantize_sg_mkldnn_conv_bn_act_69 : min=0 max=0.719064\n",
      "[11:44:48] /work/mxnet/src/operator/quantization/quantize_graph_pass.cc:569: Set calibration result to requantize_sg_mkldnn_conv_bn_act_70 : min=0 max=0.529724\n",
      "[11:44:48] /work/mxnet/src/operator/quantization/quantize_graph_pass.cc:569: Set calibration result to requantize_sg_mkldnn_conv_bn_add_act_71 : min=0 max=1.19274\n",
      "[11:44:48] /work/mxnet/src/operator/quantization/quantize_graph_pass.cc:569: Set calibration result to requantize_sg_mkldnn_conv_bn_act_72 : min=0 max=0.568248\n",
      "[11:44:48] /work/mxnet/src/operator/quantization/quantize_graph_pass.cc:569: Set calibration result to requantize_sg_mkldnn_conv_bn_act_73 : min=0 max=0.733226\n",
      "[11:44:48] /work/mxnet/src/operator/quantization/quantize_graph_pass.cc:569: Set calibration result to requantize_sg_mkldnn_conv_bn_add_act_74 : min=0 max=0.77058\n",
      "[11:44:48] /work/mxnet/src/operator/quantization/quantize_graph_pass.cc:569: Set calibration result to requantize_sg_mkldnn_conv_bn_act_75 : min=0 max=0.777347\n",
      "[11:44:48] /work/mxnet/src/operator/quantization/quantize_graph_pass.cc:569: Set calibration result to requantize_sg_mkldnn_conv_bn_act_76 : min=0 max=0.69055\n",
      "[11:44:48] /work/mxnet/src/operator/quantization/quantize_graph_pass.cc:569: Set calibration result to requantize_sg_mkldnn_conv_bn_add_act_77 : min=0 max=0.771612\n",
      "[11:44:48] /work/mxnet/src/operator/quantization/quantize_graph_pass.cc:569: Set calibration result to requantize_sg_mkldnn_conv_bn_act_78 : min=0 max=0.839311\n",
      "[11:44:48] /work/mxnet/src/operator/quantization/quantize_graph_pass.cc:569: Set calibration result to requantize_sg_mkldnn_conv_bn_act_79 : min=0 max=0.762985\n",
      "[11:44:48] /work/mxnet/src/operator/quantization/quantize_graph_pass.cc:569: Set calibration result to requantize_sg_mkldnn_conv_bn_add_act_80 : min=0 max=0.856397\n",
      "[11:44:48] /work/mxnet/src/operator/quantization/quantize_graph_pass.cc:569: Set calibration result to requantize_sg_mkldnn_conv_bn_act_81 : min=0 max=0.707586\n",
      "[11:44:48] /work/mxnet/src/operator/quantization/quantize_graph_pass.cc:569: Set calibration result to requantize_sg_mkldnn_conv_bn_act_82 : min=0 max=0.657172\n",
      "[11:44:48] /work/mxnet/src/operator/quantization/quantize_graph_pass.cc:569: Set calibration result to requantize_sg_mkldnn_conv_bn_add_act_83 : min=0 max=0.878438\n",
      "[11:44:48] /work/mxnet/src/operator/quantization/quantize_graph_pass.cc:569: Set calibration result to requantize_sg_mkldnn_conv_bn_act_84 : min=0 max=0.670003\n",
      "[11:44:48] /work/mxnet/src/operator/quantization/quantize_graph_pass.cc:569: Set calibration result to requantize_sg_mkldnn_conv_bn_act_85 : min=0 max=0.584761\n",
      "[11:44:48] /work/mxnet/src/operator/quantization/quantize_graph_pass.cc:569: Set calibration result to requantize_sg_mkldnn_conv_bn_add_act_86 : min=0 max=0.866834\n",
      "[11:44:48] /work/mxnet/src/operator/quantization/quantize_graph_pass.cc:569: Set calibration result to requantize_sg_mkldnn_conv_bn_act_87 : min=0 max=0.698783\n",
      "[11:44:48] /work/mxnet/src/operator/quantization/quantize_graph_pass.cc:569: Set calibration result to requantize_sg_mkldnn_conv_bn_act_88 : min=0 max=1.006\n",
      "[11:44:48] /work/mxnet/src/operator/quantization/quantize_graph_pass.cc:569: Set calibration result to requantize_sg_mkldnn_conv_bn_add_act_89 : min=0 max=1.06262\n",
      "[11:44:48] /work/mxnet/src/operator/quantization/quantize_graph_pass.cc:569: Set calibration result to requantize_sg_mkldnn_conv_bn_act_90 : min=0 max=0.810817\n",
      "[11:44:48] /work/mxnet/src/operator/quantization/quantize_graph_pass.cc:569: Set calibration result to requantize_sg_mkldnn_conv_bn_act_91 : min=0 max=1.74229\n",
      "[11:44:48] /work/mxnet/src/operator/quantization/quantize_graph_pass.cc:569: Set calibration result to requantize_sg_mkldnn_conv_bn_add_act_92 : min=0 max=1.02353\n",
      "[11:44:48] /work/mxnet/src/operator/quantization/quantize_graph_pass.cc:569: Set calibration result to requantize_sg_mkldnn_conv_bn_act_93 : min=0 max=1.0886\n",
      "[11:44:48] /work/mxnet/src/operator/quantization/quantize_graph_pass.cc:569: Set calibration result to requantize_sg_mkldnn_conv_bn_act_94 : min=0 max=1.76041\n",
      "[11:44:48] /work/mxnet/src/operator/quantization/quantize_graph_pass.cc:569: Set calibration result to requantize_sg_mkldnn_conv_bn_add_act_95 : min=0 max=1.47663\n",
      "[11:44:48] /work/mxnet/src/operator/quantization/quantize_graph_pass.cc:569: Set calibration result to requantize_sg_mkldnn_conv_bn_act_96 : min=0 max=0.479566\n",
      "[11:44:48] /work/mxnet/src/operator/quantization/quantize_graph_pass.cc:569: Set calibration result to requantize_sg_mkldnn_conv_bn_act_97 : min=0 max=0.468338\n",
      "[11:44:48] /work/mxnet/src/operator/quantization/quantize_graph_pass.cc:569: Set calibration result to requantize_sg_mkldnn_conv_bn_99 : min=-1.25055 max=1.25055\n",
      "[11:44:48] /work/mxnet/src/operator/quantization/quantize_graph_pass.cc:569: Set calibration result to requantize_sg_mkldnn_conv_bn_add_act_98 : min=0 max=1.61978\n",
      "[11:44:48] /work/mxnet/src/operator/quantization/quantize_graph_pass.cc:569: Set calibration result to requantize_sg_mkldnn_conv_bn_act_100 : min=0 max=0.789122\n",
      "[11:44:48] /work/mxnet/src/operator/quantization/quantize_graph_pass.cc:569: Set calibration result to requantize_sg_mkldnn_conv_bn_act_101 : min=0 max=0.521094\n",
      "[11:44:48] /work/mxnet/src/operator/quantization/quantize_graph_pass.cc:569: Set calibration result to requantize_sg_mkldnn_conv_bn_add_act_102 : min=0 max=2.78879\n",
      "[11:44:48] /work/mxnet/src/operator/quantization/quantize_graph_pass.cc:569: Set calibration result to requantize_sg_mkldnn_conv_bn_act_103 : min=0 max=0.921521\n",
      "[11:44:48] /work/mxnet/src/operator/quantization/quantize_graph_pass.cc:569: Set calibration result to requantize_sg_mkldnn_conv_bn_act_104 : min=0 max=1.19487\n",
      "[11:44:48] /work/mxnet/src/operator/quantization/quantize_graph_pass.cc:569: Set calibration result to requantize_sg_mkldnn_conv_bn_add_act_105 : min=0 max=3.29784\n",
      "[11:44:48] /work/mxnet/src/operator/quantization/quantize_graph_pass.cc:569: Set calibration result to requantize_sg_mkldnn_conv_bn_act_106 : min=0 max=0.593089\n",
      "[11:44:48] /work/mxnet/src/operator/quantization/quantize_graph_pass.cc:569: Set calibration result to requantize_sg_mkldnn_conv_bn_act_107 : min=0 max=0.336677\n",
      "[11:44:48] /work/mxnet/src/operator/quantization/quantize_graph_pass.cc:569: Set calibration result to requantize_sg_mkldnn_conv_bn_act_108 : min=0 max=0.246068\n",
      "[11:44:48] /work/mxnet/src/operator/quantization/quantize_graph_pass.cc:569: Set calibration result to requantize_sg_mkldnn_conv_bn_act_109 : min=0 max=0.217914\n",
      "[11:44:48] /work/mxnet/src/operator/quantization/quantize_graph_pass.cc:569: Set calibration result to requantize_sg_mkldnn_conv_bn_act_110 : min=0 max=0.122637\n",
      "[11:44:48] /work/mxnet/src/operator/quantization/quantize_graph_pass.cc:569: Set calibration result to deeplabv327__deeplabhead0__aspppooling0_bilinearresize2d0_0_quantize : min=0 max=0.115448\n",
      "[11:44:48] /work/mxnet/src/operator/quantization/quantize_graph_pass.cc:569: Set calibration result to requantize_sg_mkldnn_conv_bn_act_111 : min=0 max=0.583158\n",
      "[11:44:48] /work/mxnet/src/operator/quantization/quantize_graph_pass.cc:569: Set calibration result to requantize_sg_mkldnn_conv_bn_act_112 : min=0 max=2.36568\n",
      "[11:44:48] /work/mxnet/src/operator/quantization/quantize_graph_pass.cc:569: Set calibration result to requantize_sg_mkldnn_conv_113 : min=-12.1801 max=12.1801\n",
      "[11:44:48] /work/mxnet/src/operator/quantization/quantize_graph_pass.cc:569: Set calibration result to requantize_sg_mkldnn_conv_bn_act_114 : min=0 max=2.65605\n",
      "[11:44:48] /work/mxnet/src/operator/quantization/quantize_graph_pass.cc:569: Set calibration result to requantize_sg_mkldnn_conv_115 : min=-13.9226 max=13.9226\n",
      "INFO:logger:Quantizing parameters\n"
     ]
    }
   ],
   "source": [
    "deeplab_pt_cpu_q_hybrid = quantization.quantize_net_v2(\n",
    "    deeplab_pt_cpu,\n",
    "    quantized_dtype='auto',\n",
    "    exclude_layers=None,\n",
    "    exclude_layers_match=None,\n",
    "    calib_data=ade20k_cal_loader_gpu_cpu,\n",
    "    calib_mode='entropy',\n",
    "    logger=logger,\n",
    "    ctx=mx.cpu())"
   ]
  },
  {
   "cell_type": "code",
   "execution_count": 64,
   "id": "dfb66b36",
   "metadata": {},
   "outputs": [],
   "source": [
    "deeplab_pt_cpu_q_hybrid.hybridize(backend=\"MKLDNN\", static_alloc=True, static_shape=True)"
   ]
  },
  {
   "cell_type": "code",
   "execution_count": 65,
   "id": "307e35b8",
   "metadata": {},
   "outputs": [
    {
     "data": {
      "application/vnd.jupyter.widget-view+json": {
       "model_id": "8411120442ff4119abc0215688649edf",
       "version_major": 2,
       "version_minor": 0
      },
      "text/plain": [
       "  0%|          | 0/25 [00:00<?, ?it/s]"
      ]
     },
     "metadata": {},
     "output_type": "display_data"
    },
    {
     "name": "stdout",
     "output_type": "stream",
     "text": [
      "Time (s): 36.10324692726135\n"
     ]
    }
   ],
   "source": [
    "start_time = time.time()\n",
    "\n",
    "for data, _ in tqdm(ade20k_val_loader_gpu_cpu):\n",
    "    deeplab_pt_cpu_q_hybrid(data)\n",
    "    \n",
    "mx.nd.waitall()\n",
    "print(\"Time (s):\", time.time() - start_time)"
   ]
  },
  {
   "cell_type": "markdown",
   "id": "80a26c87",
   "metadata": {},
   "source": [
    "## ONNX Export"
   ]
  },
  {
   "cell_type": "code",
   "execution_count": 1,
   "id": "de64bafe",
   "metadata": {},
   "outputs": [],
   "source": [
    "# ONNX library must be installed for this\n",
    "# !python3 -m pip install onnx\n",
    "onnx_file_name = \"deeplab_resnet101_coco_pt_gpu_hybrid.onnx\""
   ]
  },
  {
   "cell_type": "code",
   "execution_count": 67,
   "id": "ed2cc578",
   "metadata": {},
   "outputs": [],
   "source": [
    "deeplab_pt_gpu_hybrid = gcv.model_zoo.get_model('deeplab_resnet101_coco', pretrained=True, ctx=mx.gpu())\n",
    "deeplab_pt_gpu_hybrid.hybridize(static_alloc=True, static_shape=True)\n",
    "deeplab_pt_gpu_hybrid(single_sample_gpu)\n",
    "\n",
    "# Need to be exported externally for the symbols to be loaded\n",
    "deeplab_pt_gpu_hybrid_filename = \"deeplab_resnet101_coco_pt_gpu_hybrid\"\n",
    "deeplab_pt_gpu_hybrid.export(deeplab_pt_gpu_hybrid_filename)\n",
    "\n",
    "# Files exported\n",
    "sym_filename = deeplab_pt_gpu_hybrid_filename + \"-symbol.json\"\n",
    "params_filename = deeplab_pt_gpu_hybrid_filename + \"-0000.params\"\n",
    "\n",
    "# Verify generated files\n",
    "assert os.path.exists(sym_filename)\n",
    "assert os.path.exists(params_filename)"
   ]
  },
  {
   "cell_type": "code",
   "execution_count": 68,
   "id": "1143996a",
   "metadata": {},
   "outputs": [
    {
     "data": {
      "text/plain": [
       "'deeplab_resnet101_coco_pt_gpu_hybrid.onnx'"
      ]
     },
     "execution_count": 68,
     "metadata": {},
     "output_type": "execute_result"
    }
   ],
   "source": [
    "in_shapes = [single_sample_gpu.shape]\n",
    "in_types = [mx.np.float32]\n",
    "\n",
    "onnx_model_path = mx.onnx.export_model(\n",
    "    sym_filename,\n",
    "    params_filename,\n",
    "    in_shapes,\n",
    "    in_types,\n",
    "    onnx_file_name)\n",
    "\n",
    "onnx_model_path"
   ]
  },
  {
   "cell_type": "code",
   "execution_count": 69,
   "id": "09e0dcb3",
   "metadata": {},
   "outputs": [],
   "source": [
    "# Model Verification\n",
    "import onnx\n",
    "\n",
    "# Load the ONNX model\n",
    "onnx_model = onnx.load_model(onnx_model_path)\n",
    "\n",
    "# Check the ONNX graph\n",
    "onnx.checker.check_graph(onnx_model.graph)"
   ]
  },
  {
   "cell_type": "markdown",
   "id": "dc1d167c",
   "metadata": {},
   "source": [
    "## TensorRT Export"
   ]
  },
  {
   "cell_type": "code",
   "execution_count": 2,
   "id": "e22b19c8-e788-4a77-9fce-5cc2a3596311",
   "metadata": {},
   "outputs": [],
   "source": [
    "import tensorrt as trt"
   ]
  },
  {
   "cell_type": "code",
   "execution_count": 3,
   "id": "b86eeaf6-73b6-4d2a-bc34-010d728a81c8",
   "metadata": {},
   "outputs": [],
   "source": [
    "trt_file_name = \"deeplab_resnet101_coco_pt_gpu_hybrid.trt\""
   ]
  },
  {
   "cell_type": "code",
   "execution_count": 4,
   "id": "35f63b69-633c-40b1-8554-f9e51f29c032",
   "metadata": {},
   "outputs": [
    {
     "name": "stdout",
     "output_type": "stream",
     "text": [
      "[10/21/2023-11:59:27] [TRT] [I] [MemUsageChange] Init CUDA: CPU +307, GPU +0, now: CPU 331, GPU 338 (MiB)\n",
      "[10/21/2023-11:59:30] [TRT] [I] [MemUsageChange] Init builder kernel library: CPU +262, GPU +74, now: CPU 647, GPU 412 (MiB)\n",
      "[10/21/2023-11:59:30] [TRT] [W] CUDA lazy loading is not enabled. Enabling it can significantly reduce device memory usage. See `CUDA_MODULE_LOADING` in https://docs.nvidia.com/cuda/cuda-c-programming-guide/index.html#env-vars\n"
     ]
    }
   ],
   "source": [
    "TRT_LOGGER = trt.Logger(trt.Logger.INFO)\n",
    "builder = trt.Builder(TRT_LOGGER)\n",
    "config = builder.create_builder_config()\n",
    "\n",
    "explicit_batch = 1 << (int) (trt.NetworkDefinitionCreationFlag.EXPLICIT_BATCH)\n",
    "deeplab_pt_gpu_hybrid_trt = builder.create_network(explicit_batch)"
   ]
  },
  {
   "cell_type": "code",
   "execution_count": 5,
   "id": "9939cb2d-4712-4021-a7fd-eeae6ebed5c0",
   "metadata": {},
   "outputs": [
    {
     "name": "stdout",
     "output_type": "stream",
     "text": [
      "[10/21/2023-11:59:34] [TRT] [W] onnx2trt_utils.cpp:377: Your ONNX model has been generated with INT64 weights, while TensorRT does not natively support INT64. Attempting to cast down to INT32.\n",
      "[10/21/2023-11:59:37] [TRT] [I] [MemUsageChange] Init cuBLAS/cuBLASLt: CPU +496, GPU +214, now: CPU 1612, GPU 626 (MiB)\n",
      "[10/21/2023-11:59:37] [TRT] [I] [MemUsageChange] Init cuDNN: CPU +114, GPU +52, now: CPU 1726, GPU 678 (MiB)\n",
      "[10/21/2023-11:59:37] [TRT] [I] Local timing cache in use. Profiling results in this builder pass will not be stored.\n",
      "[10/21/2023-12:00:16] [TRT] [I] Total Activation Memory: 16775153152\n",
      "[10/21/2023-12:00:16] [TRT] [I] Detected 1 inputs and 2 output network tensors.\n",
      "[10/21/2023-12:00:16] [TRT] [I] Total Host Persistent Memory: 342288\n",
      "[10/21/2023-12:00:16] [TRT] [I] Total Device Persistent Memory: 3019776\n",
      "[10/21/2023-12:00:16] [TRT] [I] Total Scratch Memory: 134217728\n",
      "[10/21/2023-12:00:16] [TRT] [I] [MemUsageStats] Peak memory usage of TRT CPU/GPU memory allocators: CPU 257 MiB, GPU 10625 MiB\n",
      "[10/21/2023-12:00:16] [TRT] [I] [BlockAssignment] Started assigning block shifts. This will take 123 steps to complete.\n",
      "[10/21/2023-12:00:16] [TRT] [I] [BlockAssignment] Algorithm ShiftNTopDown took 2.34405ms to assign 6 blocks to 123 nodes requiring 182444032 bytes.\n",
      "[10/21/2023-12:00:16] [TRT] [I] Total Activation Memory: 182444032\n",
      "[10/21/2023-12:00:16] [TRT] [I] [MemUsageChange] Init cuDNN: CPU +0, GPU +10, now: CPU 2174, GPU 1124 (MiB)\n",
      "[10/21/2023-12:00:16] [TRT] [I] [MemUsageChange] TensorRT-managed allocation in building engine: CPU +233, GPU +248, now: CPU 233, GPU 248 (MiB)\n"
     ]
    }
   ],
   "source": [
    "with open(onnx_file_name, 'rb') as model:\n",
    "    with trt.OnnxParser(deeplab_pt_gpu_hybrid_trt, TRT_LOGGER) as parser:\n",
    "        assert parser.parse(model.read()) == True\n",
    "    deeplab_pt_gpu_hybrid_engine_serialized = builder.build_serialized_network(deeplab_pt_gpu_hybrid_trt, config=config)"
   ]
  },
  {
   "cell_type": "code",
   "execution_count": 6,
   "id": "3a83db1c-8923-49a4-be7e-99d9b83d2977",
   "metadata": {},
   "outputs": [],
   "source": [
    "with open(trt_file_name, 'wb') as f:\n",
    "    f.write(bytearray(deeplab_pt_gpu_hybrid_engine_serialized))"
   ]
  },
  {
   "cell_type": "code",
   "execution_count": 7,
   "id": "ceebc311-9a52-4590-916e-968b4e4913f1",
   "metadata": {},
   "outputs": [
    {
     "name": "stdout",
     "output_type": "stream",
     "text": [
      "[10/21/2023-12:00:39] [TRT] [I] Loaded engine size: 246 MiB\n",
      "[10/21/2023-12:00:39] [TRT] [I] [MemUsageChange] Init cuDNN: CPU +0, GPU +10, now: CPU 2433, GPU 1108 (MiB)\n",
      "[10/21/2023-12:00:39] [TRT] [I] [MemUsageChange] TensorRT-managed allocation in engine deserialization: CPU +0, GPU +248, now: CPU 0, GPU 248 (MiB)\n"
     ]
    }
   ],
   "source": [
    "# Check it can be read back\n",
    "runtime = trt.Runtime(TRT_LOGGER)\n",
    "\n",
    "with open(trt_file_name, 'rb') as f:\n",
    "    deeplab_pt_gpu_hybrid_engine_deserialized = runtime.deserialize_cuda_engine(f.read())"
   ]
  }
 ],
 "metadata": {
  "kernelspec": {
   "display_name": "Python 3 (ipykernel)",
   "language": "python",
   "name": "python3"
  },
  "language_info": {
   "codemirror_mode": {
    "name": "ipython",
    "version": 3
   },
   "file_extension": ".py",
   "mimetype": "text/x-python",
   "name": "python",
   "nbconvert_exporter": "python",
   "pygments_lexer": "ipython3",
   "version": "3.8.18"
  }
 },
 "nbformat": 4,
 "nbformat_minor": 5
}
