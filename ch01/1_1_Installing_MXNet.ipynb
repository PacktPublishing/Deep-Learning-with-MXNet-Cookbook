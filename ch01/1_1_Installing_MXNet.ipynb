{
 "cells": [
  {
   "cell_type": "code",
   "execution_count": null,
   "metadata": {
    "colab": {
     "base_uri": "https://localhost:8080/",
     "height": 35
    },
    "id": "QjGiZ7TpRmcE",
    "outputId": "697af1ea-7bf2-4013-d6fa-6b8ac0612de9"
   },
   "outputs": [
    {
     "data": {
      "application/vnd.google.colaboratory.intrinsic+json": {
       "type": "string"
      },
      "text/plain": [
       "'3.7.10'"
      ]
     },
     "execution_count": 1,
     "metadata": {
      "tags": []
     },
     "output_type": "execute_result"
    }
   ],
   "source": [
    "import platform \n",
    "platform.python_version()"
   ]
  },
  {
   "cell_type": "code",
   "execution_count": 1,
   "metadata": {
    "colab": {
     "base_uri": "https://localhost:8080/"
    },
    "id": "7j8a5ehjRo_9",
    "outputId": "9aa51a29-ebed-4f97-fdc3-430ccf42e4cc"
   },
   "outputs": [
    {
     "name": "stdout",
     "output_type": "stream",
     "text": [
      "jupyter core     : 4.5.0\n",
      "jupyter-notebook : 5.2.2\n",
      "qtconsole        : 4.5.2\n",
      "ipython          : 5.5.0\n",
      "ipykernel        : 4.10.1\n",
      "jupyter client   : 5.3.1\n",
      "jupyter lab      : not installed\n",
      "nbconvert        : 5.5.0\n",
      "ipywidgets       : 7.5.0\n",
      "nbformat         : 4.4.0\n",
      "traitlets        : 4.3.2\n"
     ]
    }
   ],
   "source": [
    "!jupyter --version"
   ]
  },
  {
   "cell_type": "code",
   "execution_count": 2,
   "metadata": {
    "colab": {
     "base_uri": "https://localhost:8080/"
    },
    "id": "T7ytnCFRRr0F",
    "outputId": "2fbf9f32-2863-49a0-a0aa-290bb1cc943e"
   },
   "outputs": [
    {
     "name": "stdout",
     "output_type": "stream",
     "text": [
      "Model name:          Intel(R) Xeon(R) CPU @ 2.30GHz\n"
     ]
    }
   ],
   "source": [
    "!lscpu | grep 'Model name'"
   ]
  },
  {
   "cell_type": "code",
   "execution_count": 3,
   "metadata": {
    "colab": {
     "base_uri": "https://localhost:8080/"
    },
    "id": "nmTRSSQTRu6d",
    "outputId": "157324ba-bf5f-4486-9783-5be98843e0fa"
   },
   "outputs": [
    {
     "name": "stdout",
     "output_type": "stream",
     "text": [
      "Sun Nov 14 23:31:20 2021       \n",
      "+-----------------------------------------------------------------------------+\n",
      "| NVIDIA-SMI 495.44       Driver Version: 460.32.03    CUDA Version: 11.2     |\n",
      "|-------------------------------+----------------------+----------------------+\n",
      "| GPU  Name        Persistence-M| Bus-Id        Disp.A | Volatile Uncorr. ECC |\n",
      "| Fan  Temp  Perf  Pwr:Usage/Cap|         Memory-Usage | GPU-Util  Compute M. |\n",
      "|                               |                      |               MIG M. |\n",
      "|===============================+======================+======================|\n",
      "|   0  Tesla K80           Off  | 00000000:00:04.0 Off |                    0 |\n",
      "| N/A   49C    P8    30W / 149W |      0MiB / 11441MiB |      0%      Default |\n",
      "|                               |                      |                  N/A |\n",
      "+-------------------------------+----------------------+----------------------+\n",
      "                                                                               \n",
      "+-----------------------------------------------------------------------------+\n",
      "| Processes:                                                                  |\n",
      "|  GPU   GI   CI        PID   Type   Process name                  GPU Memory |\n",
      "|        ID   ID                                                   Usage      |\n",
      "|=============================================================================|\n",
      "|  No running processes found                                                 |\n",
      "+-----------------------------------------------------------------------------+\n"
     ]
    }
   ],
   "source": [
    "!nvidia-smi"
   ]
  },
  {
   "cell_type": "code",
   "execution_count": 4,
   "metadata": {
    "colab": {
     "base_uri": "https://localhost:8080/"
    },
    "id": "fo7YQILOSQAe",
    "outputId": "35cbc39d-6abd-4d94-ac33-e246193c6bba"
   },
   "outputs": [
    {
     "name": "stdout",
     "output_type": "stream",
     "text": [
      "nvcc: NVIDIA (R) Cuda compiler driver\n",
      "Copyright (c) 2005-2020 NVIDIA Corporation\n",
      "Built on Mon_Oct_12_20:09:46_PDT_2020\n",
      "Cuda compilation tools, release 11.1, V11.1.105\n",
      "Build cuda_11.1.TC455_06.29190527_0\n"
     ]
    }
   ],
   "source": [
    "!nvcc --version"
   ]
  },
  {
   "cell_type": "code",
   "execution_count": 5,
   "metadata": {
    "colab": {
     "base_uri": "https://localhost:8080/"
    },
    "id": "63lXljJ0cNQ4",
    "outputId": "0507bbf9-471c-4256-c0af-8cc1e148937d"
   },
   "outputs": [
    {
     "name": "stdout",
     "output_type": "stream",
     "text": [
      "Collecting mxnet-cu110\n",
      "  Downloading mxnet_cu110-1.8.0.post0-py2.py3-none-manylinux2014_x86_64.whl (323.5 MB)\n",
      "\u001b[K     |████████████████████████████████| 323.5 MB 386 bytes/s \n",
      "\u001b[?25hRequirement already satisfied: requests<3,>=2.20.0 in /usr/local/lib/python3.7/dist-packages (from mxnet-cu110) (2.23.0)\n",
      "Requirement already satisfied: numpy<2.0.0,>1.16.0 in /usr/local/lib/python3.7/dist-packages (from mxnet-cu110) (1.19.5)\n",
      "Collecting graphviz<0.9.0,>=0.8.1\n",
      "  Downloading graphviz-0.8.4-py2.py3-none-any.whl (16 kB)\n",
      "Requirement already satisfied: certifi>=2017.4.17 in /usr/local/lib/python3.7/dist-packages (from requests<3,>=2.20.0->mxnet-cu110) (2021.10.8)\n",
      "Requirement already satisfied: urllib3!=1.25.0,!=1.25.1,<1.26,>=1.21.1 in /usr/local/lib/python3.7/dist-packages (from requests<3,>=2.20.0->mxnet-cu110) (1.24.3)\n",
      "Requirement already satisfied: idna<3,>=2.5 in /usr/local/lib/python3.7/dist-packages (from requests<3,>=2.20.0->mxnet-cu110) (2.10)\n",
      "Requirement already satisfied: chardet<4,>=3.0.2 in /usr/local/lib/python3.7/dist-packages (from requests<3,>=2.20.0->mxnet-cu110) (3.0.4)\n",
      "Installing collected packages: graphviz, mxnet-cu110\n",
      "  Attempting uninstall: graphviz\n",
      "    Found existing installation: graphviz 0.10.1\n",
      "    Uninstalling graphviz-0.10.1:\n",
      "      Successfully uninstalled graphviz-0.10.1\n",
      "Successfully installed graphviz-0.8.4 mxnet-cu110-1.8.0.post0\n"
     ]
    }
   ],
   "source": [
    "!python3 -m pip install mxnet-cu117"
   ]
  },
  {
   "cell_type": "code",
   "execution_count": 6,
   "metadata": {
    "colab": {
     "base_uri": "https://localhost:8080/",
     "height": 35
    },
    "id": "3qV1vAM7dLO_",
    "outputId": "c37d8715-dffe-4f7a-ffd5-7af6496fac5a"
   },
   "outputs": [
    {
     "data": {
      "application/vnd.google.colaboratory.intrinsic+json": {
       "type": "string"
      },
      "text/plain": [
       "'1.8.0'"
      ]
     },
     "execution_count": 6,
     "metadata": {},
     "output_type": "execute_result"
    }
   ],
   "source": [
    "import mxnet\n",
    "mxnet.__version__"
   ]
  },
  {
   "cell_type": "code",
   "execution_count": 7,
   "metadata": {
    "colab": {
     "base_uri": "https://localhost:8080/"
    },
    "id": "U3yMFBk8b01Y",
    "outputId": "aaf129fc-421f-4118-c26b-3f9f7219d7ee"
   },
   "outputs": [
    {
     "name": "stdout",
     "output_type": "stream",
     "text": [
      "[✔ CUDA, ✔ CUDNN, ✔ NCCL, ✔ CUDA_RTC, ✖ TENSORRT, ✔ CPU_SSE, ✔ CPU_SSE2, ✔ CPU_SSE3, ✖ CPU_SSE4_1, ✖ CPU_SSE4_2, ✖ CPU_SSE4A, ✖ CPU_AVX, ✖ CPU_AVX2, ✔ OPENMP, ✖ SSE, ✖ F16C, ✖ JEMALLOC, ✔ BLAS_OPEN, ✖ BLAS_ATLAS, ✖ BLAS_MKL, ✖ BLAS_APPLE, ✔ LAPACK, ✔ MKLDNN, ✔ OPENCV, ✖ CAFFE, ✖ PROFILER, ✔ DIST_KVSTORE, ✖ CXX14, ✖ INT64_TENSOR_SIZE, ✔ SIGNAL_HANDLER, ✖ DEBUG, ✖ TVM_OP]\n",
      "True\n",
      "True\n",
      "True\n"
     ]
    }
   ],
   "source": [
    "features = mxnet.runtime.Features()\n",
    "print(features)\n",
    "print(features.is_enabled('CUDA'))\n",
    "print(features.is_enabled('CUDNN'))\n",
    "print(features.is_enabled('MKLDNN'))"
   ]
  },
  {
   "cell_type": "code",
   "execution_count": 8,
   "metadata": {
    "id": "cgcXiNA_eV0_"
   },
   "outputs": [],
   "source": [
    "from mxnet import np, npx\n",
    "npx.set_np()"
   ]
  },
  {
   "cell_type": "code",
   "execution_count": 9,
   "metadata": {
    "colab": {
     "base_uri": "https://localhost:8080/"
    },
    "id": "sq-T_ExeK6pP",
    "outputId": "a1fb3ada-5c88-49a5-dabb-41e6af04c21d"
   },
   "outputs": [
    {
     "data": {
      "text/plain": [
       "\n",
       "1.0\n",
       "<NDArray  @cpu(0)>"
      ]
     },
     "execution_count": 9,
     "metadata": {},
     "output_type": "execute_result"
    }
   ],
   "source": [
    "mxnet.nd.ones(shape=())"
   ]
  },
  {
   "cell_type": "code",
   "execution_count": 10,
   "metadata": {
    "colab": {
     "base_uri": "https://localhost:8080/"
    },
    "id": "72gBO75-qHhx",
    "outputId": "b5adfda1-7275-4caf-e7c3-6c21c3d62dfe"
   },
   "outputs": [
    {
     "name": "stdout",
     "output_type": "stream",
     "text": [
      "Collecting gluoncv\n",
      "  Downloading gluoncv-0.10.4.post4-py2.py3-none-any.whl (1.3 MB)\n",
      "\u001b[?25l\r",
      "\u001b[K     |▎                               | 10 kB 22.9 MB/s eta 0:00:01\r",
      "\u001b[K     |▌                               | 20 kB 26.5 MB/s eta 0:00:01\r",
      "\u001b[K     |▉                               | 30 kB 12.3 MB/s eta 0:00:01\r",
      "\u001b[K     |█                               | 40 kB 9.1 MB/s eta 0:00:01\r",
      "\u001b[K     |█▎                              | 51 kB 5.3 MB/s eta 0:00:01\r",
      "\u001b[K     |█▋                              | 61 kB 5.8 MB/s eta 0:00:01\r",
      "\u001b[K     |█▉                              | 71 kB 5.6 MB/s eta 0:00:01\r",
      "\u001b[K     |██                              | 81 kB 6.3 MB/s eta 0:00:01\r",
      "\u001b[K     |██▍                             | 92 kB 4.8 MB/s eta 0:00:01\r",
      "\u001b[K     |██▋                             | 102 kB 5.2 MB/s eta 0:00:01\r",
      "\u001b[K     |██▉                             | 112 kB 5.2 MB/s eta 0:00:01\r",
      "\u001b[K     |███▏                            | 122 kB 5.2 MB/s eta 0:00:01\r",
      "\u001b[K     |███▍                            | 133 kB 5.2 MB/s eta 0:00:01\r",
      "\u001b[K     |███▋                            | 143 kB 5.2 MB/s eta 0:00:01\r",
      "\u001b[K     |████                            | 153 kB 5.2 MB/s eta 0:00:01\r",
      "\u001b[K     |████▏                           | 163 kB 5.2 MB/s eta 0:00:01\r",
      "\u001b[K     |████▍                           | 174 kB 5.2 MB/s eta 0:00:01\r",
      "\u001b[K     |████▊                           | 184 kB 5.2 MB/s eta 0:00:01\r",
      "\u001b[K     |█████                           | 194 kB 5.2 MB/s eta 0:00:01\r",
      "\u001b[K     |█████▏                          | 204 kB 5.2 MB/s eta 0:00:01\r",
      "\u001b[K     |█████▌                          | 215 kB 5.2 MB/s eta 0:00:01\r",
      "\u001b[K     |█████▊                          | 225 kB 5.2 MB/s eta 0:00:01\r",
      "\u001b[K     |██████                          | 235 kB 5.2 MB/s eta 0:00:01\r",
      "\u001b[K     |██████▎                         | 245 kB 5.2 MB/s eta 0:00:01\r",
      "\u001b[K     |██████▌                         | 256 kB 5.2 MB/s eta 0:00:01\r",
      "\u001b[K     |██████▊                         | 266 kB 5.2 MB/s eta 0:00:01\r",
      "\u001b[K     |███████                         | 276 kB 5.2 MB/s eta 0:00:01\r",
      "\u001b[K     |███████▎                        | 286 kB 5.2 MB/s eta 0:00:01\r",
      "\u001b[K     |███████▌                        | 296 kB 5.2 MB/s eta 0:00:01\r",
      "\u001b[K     |███████▉                        | 307 kB 5.2 MB/s eta 0:00:01\r",
      "\u001b[K     |████████                        | 317 kB 5.2 MB/s eta 0:00:01\r",
      "\u001b[K     |████████▎                       | 327 kB 5.2 MB/s eta 0:00:01\r",
      "\u001b[K     |████████▋                       | 337 kB 5.2 MB/s eta 0:00:01\r",
      "\u001b[K     |████████▉                       | 348 kB 5.2 MB/s eta 0:00:01\r",
      "\u001b[K     |█████████▏                      | 358 kB 5.2 MB/s eta 0:00:01\r",
      "\u001b[K     |█████████▍                      | 368 kB 5.2 MB/s eta 0:00:01\r",
      "\u001b[K     |█████████▋                      | 378 kB 5.2 MB/s eta 0:00:01\r",
      "\u001b[K     |██████████                      | 389 kB 5.2 MB/s eta 0:00:01\r",
      "\u001b[K     |██████████▏                     | 399 kB 5.2 MB/s eta 0:00:01\r",
      "\u001b[K     |██████████▍                     | 409 kB 5.2 MB/s eta 0:00:01\r",
      "\u001b[K     |██████████▊                     | 419 kB 5.2 MB/s eta 0:00:01\r",
      "\u001b[K     |███████████                     | 430 kB 5.2 MB/s eta 0:00:01\r",
      "\u001b[K     |███████████▏                    | 440 kB 5.2 MB/s eta 0:00:01\r",
      "\u001b[K     |███████████▌                    | 450 kB 5.2 MB/s eta 0:00:01\r",
      "\u001b[K     |███████████▊                    | 460 kB 5.2 MB/s eta 0:00:01\r",
      "\u001b[K     |████████████                    | 471 kB 5.2 MB/s eta 0:00:01\r",
      "\u001b[K     |████████████▎                   | 481 kB 5.2 MB/s eta 0:00:01\r",
      "\u001b[K     |████████████▌                   | 491 kB 5.2 MB/s eta 0:00:01\r",
      "\u001b[K     |████████████▊                   | 501 kB 5.2 MB/s eta 0:00:01\r",
      "\u001b[K     |█████████████                   | 512 kB 5.2 MB/s eta 0:00:01\r",
      "\u001b[K     |█████████████▎                  | 522 kB 5.2 MB/s eta 0:00:01\r",
      "\u001b[K     |█████████████▌                  | 532 kB 5.2 MB/s eta 0:00:01\r",
      "\u001b[K     |█████████████▉                  | 542 kB 5.2 MB/s eta 0:00:01\r",
      "\u001b[K     |██████████████                  | 552 kB 5.2 MB/s eta 0:00:01\r",
      "\u001b[K     |██████████████▎                 | 563 kB 5.2 MB/s eta 0:00:01\r",
      "\u001b[K     |██████████████▋                 | 573 kB 5.2 MB/s eta 0:00:01\r",
      "\u001b[K     |██████████████▉                 | 583 kB 5.2 MB/s eta 0:00:01\r",
      "\u001b[K     |███████████████                 | 593 kB 5.2 MB/s eta 0:00:01\r",
      "\u001b[K     |███████████████▍                | 604 kB 5.2 MB/s eta 0:00:01\r",
      "\u001b[K     |███████████████▋                | 614 kB 5.2 MB/s eta 0:00:01\r",
      "\u001b[K     |███████████████▉                | 624 kB 5.2 MB/s eta 0:00:01\r",
      "\u001b[K     |████████████████▏               | 634 kB 5.2 MB/s eta 0:00:01\r",
      "\u001b[K     |████████████████▍               | 645 kB 5.2 MB/s eta 0:00:01\r",
      "\u001b[K     |████████████████▋               | 655 kB 5.2 MB/s eta 0:00:01\r",
      "\u001b[K     |█████████████████               | 665 kB 5.2 MB/s eta 0:00:01\r",
      "\u001b[K     |█████████████████▏              | 675 kB 5.2 MB/s eta 0:00:01\r",
      "\u001b[K     |█████████████████▍              | 686 kB 5.2 MB/s eta 0:00:01\r",
      "\u001b[K     |█████████████████▊              | 696 kB 5.2 MB/s eta 0:00:01\r",
      "\u001b[K     |██████████████████              | 706 kB 5.2 MB/s eta 0:00:01\r",
      "\u001b[K     |██████████████████▎             | 716 kB 5.2 MB/s eta 0:00:01\r",
      "\u001b[K     |██████████████████▌             | 727 kB 5.2 MB/s eta 0:00:01\r",
      "\u001b[K     |██████████████████▊             | 737 kB 5.2 MB/s eta 0:00:01\r",
      "\u001b[K     |███████████████████             | 747 kB 5.2 MB/s eta 0:00:01\r",
      "\u001b[K     |███████████████████▎            | 757 kB 5.2 MB/s eta 0:00:01\r",
      "\u001b[K     |███████████████████▌            | 768 kB 5.2 MB/s eta 0:00:01\r",
      "\u001b[K     |███████████████████▉            | 778 kB 5.2 MB/s eta 0:00:01\r",
      "\u001b[K     |████████████████████            | 788 kB 5.2 MB/s eta 0:00:01\r",
      "\u001b[K     |████████████████████▎           | 798 kB 5.2 MB/s eta 0:00:01\r",
      "\u001b[K     |████████████████████▋           | 808 kB 5.2 MB/s eta 0:00:01\r",
      "\u001b[K     |████████████████████▉           | 819 kB 5.2 MB/s eta 0:00:01\r",
      "\u001b[K     |█████████████████████           | 829 kB 5.2 MB/s eta 0:00:01\r",
      "\u001b[K     |█████████████████████▍          | 839 kB 5.2 MB/s eta 0:00:01\r",
      "\u001b[K     |█████████████████████▋          | 849 kB 5.2 MB/s eta 0:00:01\r",
      "\u001b[K     |█████████████████████▉          | 860 kB 5.2 MB/s eta 0:00:01\r",
      "\u001b[K     |██████████████████████▏         | 870 kB 5.2 MB/s eta 0:00:01\r",
      "\u001b[K     |██████████████████████▍         | 880 kB 5.2 MB/s eta 0:00:01\r",
      "\u001b[K     |██████████████████████▋         | 890 kB 5.2 MB/s eta 0:00:01\r",
      "\u001b[K     |███████████████████████         | 901 kB 5.2 MB/s eta 0:00:01\r",
      "\u001b[K     |███████████████████████▏        | 911 kB 5.2 MB/s eta 0:00:01\r",
      "\u001b[K     |███████████████████████▍        | 921 kB 5.2 MB/s eta 0:00:01\r",
      "\u001b[K     |███████████████████████▊        | 931 kB 5.2 MB/s eta 0:00:01\r",
      "\u001b[K     |████████████████████████        | 942 kB 5.2 MB/s eta 0:00:01\r",
      "\u001b[K     |████████████████████████▏       | 952 kB 5.2 MB/s eta 0:00:01\r",
      "\u001b[K     |████████████████████████▌       | 962 kB 5.2 MB/s eta 0:00:01\r",
      "\u001b[K     |████████████████████████▊       | 972 kB 5.2 MB/s eta 0:00:01\r",
      "\u001b[K     |█████████████████████████       | 983 kB 5.2 MB/s eta 0:00:01\r",
      "\u001b[K     |█████████████████████████▎      | 993 kB 5.2 MB/s eta 0:00:01\r",
      "\u001b[K     |█████████████████████████▌      | 1.0 MB 5.2 MB/s eta 0:00:01\r",
      "\u001b[K     |█████████████████████████▊      | 1.0 MB 5.2 MB/s eta 0:00:01\r",
      "\u001b[K     |██████████████████████████      | 1.0 MB 5.2 MB/s eta 0:00:01\r",
      "\u001b[K     |██████████████████████████▎     | 1.0 MB 5.2 MB/s eta 0:00:01\r",
      "\u001b[K     |██████████████████████████▌     | 1.0 MB 5.2 MB/s eta 0:00:01\r",
      "\u001b[K     |██████████████████████████▉     | 1.1 MB 5.2 MB/s eta 0:00:01\r",
      "\u001b[K     |███████████████████████████     | 1.1 MB 5.2 MB/s eta 0:00:01\r",
      "\u001b[K     |███████████████████████████▍    | 1.1 MB 5.2 MB/s eta 0:00:01\r",
      "\u001b[K     |███████████████████████████▋    | 1.1 MB 5.2 MB/s eta 0:00:01\r",
      "\u001b[K     |███████████████████████████▉    | 1.1 MB 5.2 MB/s eta 0:00:01\r",
      "\u001b[K     |████████████████████████████▏   | 1.1 MB 5.2 MB/s eta 0:00:01\r",
      "\u001b[K     |████████████████████████████▍   | 1.1 MB 5.2 MB/s eta 0:00:01\r",
      "\u001b[K     |████████████████████████████▋   | 1.1 MB 5.2 MB/s eta 0:00:01\r",
      "\u001b[K     |█████████████████████████████   | 1.1 MB 5.2 MB/s eta 0:00:01\r",
      "\u001b[K     |█████████████████████████████▏  | 1.1 MB 5.2 MB/s eta 0:00:01\r",
      "\u001b[K     |█████████████████████████████▍  | 1.2 MB 5.2 MB/s eta 0:00:01\r",
      "\u001b[K     |█████████████████████████████▊  | 1.2 MB 5.2 MB/s eta 0:00:01\r",
      "\u001b[K     |██████████████████████████████  | 1.2 MB 5.2 MB/s eta 0:00:01\r",
      "\u001b[K     |██████████████████████████████▏ | 1.2 MB 5.2 MB/s eta 0:00:01\r",
      "\u001b[K     |██████████████████████████████▌ | 1.2 MB 5.2 MB/s eta 0:00:01\r",
      "\u001b[K     |██████████████████████████████▊ | 1.2 MB 5.2 MB/s eta 0:00:01\r",
      "\u001b[K     |███████████████████████████████ | 1.2 MB 5.2 MB/s eta 0:00:01\r",
      "\u001b[K     |███████████████████████████████▎| 1.2 MB 5.2 MB/s eta 0:00:01\r",
      "\u001b[K     |███████████████████████████████▌| 1.2 MB 5.2 MB/s eta 0:00:01\r",
      "\u001b[K     |███████████████████████████████▊| 1.2 MB 5.2 MB/s eta 0:00:01\r",
      "\u001b[K     |████████████████████████████████| 1.3 MB 5.2 MB/s \n",
      "\u001b[?25hCollecting gluonnlp\n",
      "  Downloading gluonnlp-0.10.0.tar.gz (344 kB)\n",
      "\u001b[K     |████████████████████████████████| 344 kB 41.6 MB/s \n",
      "\u001b[?25hRequirement already satisfied: pandas in /usr/local/lib/python3.7/dist-packages (from gluoncv) (1.1.5)\n",
      "Requirement already satisfied: tqdm in /usr/local/lib/python3.7/dist-packages (from gluoncv) (4.62.3)\n",
      "Collecting portalocker\n",
      "  Downloading portalocker-2.3.2-py2.py3-none-any.whl (15 kB)\n",
      "Requirement already satisfied: Pillow in /usr/local/lib/python3.7/dist-packages (from gluoncv) (7.1.2)\n",
      "Collecting autocfg\n",
      "  Downloading autocfg-0.0.8-py3-none-any.whl (13 kB)\n",
      "Requirement already satisfied: opencv-python in /usr/local/lib/python3.7/dist-packages (from gluoncv) (4.1.2.30)\n",
      "Requirement already satisfied: numpy in /usr/local/lib/python3.7/dist-packages (from gluoncv) (1.19.5)\n",
      "Requirement already satisfied: matplotlib in /usr/local/lib/python3.7/dist-packages (from gluoncv) (3.2.2)\n",
      "Requirement already satisfied: requests in /usr/local/lib/python3.7/dist-packages (from gluoncv) (2.23.0)\n",
      "Requirement already satisfied: scipy in /usr/local/lib/python3.7/dist-packages (from gluoncv) (1.4.1)\n",
      "Requirement already satisfied: pyyaml in /usr/local/lib/python3.7/dist-packages (from gluoncv) (3.13)\n",
      "Collecting yacs\n",
      "  Downloading yacs-0.1.8-py3-none-any.whl (14 kB)\n",
      "Requirement already satisfied: cython in /usr/local/lib/python3.7/dist-packages (from gluonnlp) (0.29.24)\n",
      "Requirement already satisfied: packaging in /usr/local/lib/python3.7/dist-packages (from gluonnlp) (21.2)\n",
      "Requirement already satisfied: kiwisolver>=1.0.1 in /usr/local/lib/python3.7/dist-packages (from matplotlib->gluoncv) (1.3.2)\n",
      "Requirement already satisfied: cycler>=0.10 in /usr/local/lib/python3.7/dist-packages (from matplotlib->gluoncv) (0.11.0)\n",
      "Requirement already satisfied: pyparsing!=2.0.4,!=2.1.2,!=2.1.6,>=2.0.1 in /usr/local/lib/python3.7/dist-packages (from matplotlib->gluoncv) (2.4.7)\n",
      "Requirement already satisfied: python-dateutil>=2.1 in /usr/local/lib/python3.7/dist-packages (from matplotlib->gluoncv) (2.8.2)\n",
      "Requirement already satisfied: six>=1.5 in /usr/local/lib/python3.7/dist-packages (from python-dateutil>=2.1->matplotlib->gluoncv) (1.15.0)\n",
      "Requirement already satisfied: pytz>=2017.2 in /usr/local/lib/python3.7/dist-packages (from pandas->gluoncv) (2018.9)\n",
      "Requirement already satisfied: urllib3!=1.25.0,!=1.25.1,<1.26,>=1.21.1 in /usr/local/lib/python3.7/dist-packages (from requests->gluoncv) (1.24.3)\n",
      "Requirement already satisfied: chardet<4,>=3.0.2 in /usr/local/lib/python3.7/dist-packages (from requests->gluoncv) (3.0.4)\n",
      "Requirement already satisfied: idna<3,>=2.5 in /usr/local/lib/python3.7/dist-packages (from requests->gluoncv) (2.10)\n",
      "Requirement already satisfied: certifi>=2017.4.17 in /usr/local/lib/python3.7/dist-packages (from requests->gluoncv) (2021.10.8)\n",
      "Building wheels for collected packages: gluonnlp\n",
      "  Building wheel for gluonnlp (setup.py) ... \u001b[?25l\u001b[?25hdone\n",
      "  Created wheel for gluonnlp: filename=gluonnlp-0.10.0-cp37-cp37m-linux_x86_64.whl size=595724 sha256=9b15d80cdf30ee87f2253d2df082e58b68b7e6a5e730a7ad1e2b524f498c86ad\n",
      "  Stored in directory: /root/.cache/pip/wheels/be/b4/06/7f3fdfaf707e6b5e98b79c041e023acffbe395d78a527eae00\n",
      "Successfully built gluonnlp\n",
      "Installing collected packages: yacs, portalocker, autocfg, gluonnlp, gluoncv\n",
      "Successfully installed autocfg-0.0.8 gluoncv-0.10.4.post4 gluonnlp-0.10.0 portalocker-2.3.2 yacs-0.1.8\n"
     ]
    }
   ],
   "source": [
    "!python3 -m pip install gluoncv gluonnlp"
   ]
  }
 ],
 "metadata": {
  "accelerator": "GPU",
  "colab": {
   "name": "DL with MXNet Cookbook 1.1 Installing MXNet.ipynb",
   "provenance": []
  },
  "kernelspec": {
   "display_name": "Python 3 (ipykernel)",
   "language": "python",
   "name": "python3"
  },
  "language_info": {
   "codemirror_mode": {
    "name": "ipython",
    "version": 3
   },
   "file_extension": ".py",
   "mimetype": "text/x-python",
   "name": "python",
   "nbconvert_exporter": "python",
   "pygments_lexer": "ipython3",
   "version": "3.8.18"
  }
 },
 "nbformat": 4,
 "nbformat_minor": 4
}
