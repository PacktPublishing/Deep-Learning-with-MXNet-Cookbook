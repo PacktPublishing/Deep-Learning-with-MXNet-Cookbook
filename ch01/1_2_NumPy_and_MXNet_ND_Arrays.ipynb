{
 "cells": [
  {
   "cell_type": "code",
   "execution_count": 1,
   "metadata": {
    "colab": {
     "base_uri": "https://localhost:8080/"
    },
    "id": "abQf0dunII-k",
    "outputId": "8f7e915b-fb97-4606-d45c-d04b23cb7792",
    "scrolled": true
   },
   "outputs": [
    {
     "name": "stdout",
     "output_type": "stream",
     "text": [
      "Thu Sep  1 19:38:44 2022       \r\n",
      "+-----------------------------------------------------------------------------+\r\n",
      "| NVIDIA-SMI 510.47.03    Driver Version: 510.47.03    CUDA Version: 11.6     |\r\n",
      "|-------------------------------+----------------------+----------------------+\r\n",
      "| GPU  Name        Persistence-M| Bus-Id        Disp.A | Volatile Uncorr. ECC |\r\n",
      "| Fan  Temp  Perf  Pwr:Usage/Cap|         Memory-Usage | GPU-Util  Compute M. |\r\n",
      "|                               |                      |               MIG M. |\r\n",
      "|===============================+======================+======================|\r\n",
      "|   0  Tesla V100-SXM2...  On   | 00000000:00:1E.0 Off |                    0 |\r\n",
      "| N/A   40C    P0    43W / 300W |   3313MiB / 16384MiB |      0%      Default |\r\n",
      "|                               |                      |                  N/A |\r\n",
      "+-------------------------------+----------------------+----------------------+\r\n",
      "                                                                               \r\n",
      "+-----------------------------------------------------------------------------+\r\n",
      "| Processes:                                                                  |\r\n",
      "|  GPU   GI   CI        PID   Type   Process name                  GPU Memory |\r\n",
      "|        ID   ID                                                   Usage      |\r\n",
      "|=============================================================================|\r\n",
      "|    0   N/A  N/A     11221      C   ...envs/mxnet_p37/bin/python     3311MiB |\r\n",
      "+-----------------------------------------------------------------------------+\r\n"
     ]
    }
   ],
   "source": [
    "!nvidia-smi"
   ]
  },
  {
   "cell_type": "code",
   "execution_count": 2,
   "metadata": {
    "colab": {
     "base_uri": "https://localhost:8080/"
    },
    "id": "63lXljJ0cNQ4",
    "outputId": "edce07b4-f5f4-42a4-bf8b-68a1de390920"
   },
   "outputs": [
    {
     "name": "stdout",
     "output_type": "stream",
     "text": [
      "Defaulting to user installation because normal site-packages is not writeable\n",
      "Requirement already satisfied: mxnet-cu110 in /home/andreto/.local/lib/python3.7/site-packages (1.9.1)\n",
      "Requirement already satisfied: requests<3,>=2.20.0 in /home/ubuntu/anaconda3/envs/mxnet_p37/lib/python3.7/site-packages (from mxnet-cu110) (2.25.1)\n",
      "Requirement already satisfied: graphviz<0.9.0,>=0.8.1 in /home/ubuntu/anaconda3/envs/mxnet_p37/gpu_cuda11.0/lib/python3.7/site-packages (from mxnet-cu110) (0.8.4)\n",
      "Requirement already satisfied: numpy<2.0.0,>1.16.0 in /home/ubuntu/anaconda3/envs/mxnet_p37/lib/python3.7/site-packages (from mxnet-cu110) (1.21.5)\n",
      "Requirement already satisfied: certifi>=2017.4.17 in /home/ubuntu/anaconda3/envs/mxnet_p37/lib/python3.7/site-packages (from requests<3,>=2.20.0->mxnet-cu110) (2022.5.18.1)\n",
      "Requirement already satisfied: idna<3,>=2.5 in /home/ubuntu/anaconda3/envs/mxnet_p37/lib/python3.7/site-packages (from requests<3,>=2.20.0->mxnet-cu110) (2.10)\n",
      "Requirement already satisfied: urllib3<1.27,>=1.21.1 in /home/ubuntu/anaconda3/envs/mxnet_p37/lib/python3.7/site-packages (from requests<3,>=2.20.0->mxnet-cu110) (1.26.9)\n",
      "Requirement already satisfied: chardet<5,>=3.0.2 in /home/ubuntu/anaconda3/envs/mxnet_p37/lib/python3.7/site-packages (from requests<3,>=2.20.0->mxnet-cu110) (3.0.4)\n",
      "\u001b[33mWARNING: There was an error checking the latest version of pip.\u001b[0m\u001b[33m\n",
      "\u001b[0m"
     ]
    }
   ],
   "source": [
    "!python3 -m pip install mxnet-cu110"
   ]
  },
  {
   "cell_type": "code",
   "execution_count": 3,
   "metadata": {
    "id": "3qV1vAM7dLO_"
   },
   "outputs": [],
   "source": [
    "import numpy as np\n",
    "import mxnet as mx\n",
    "\n",
    "import time"
   ]
  },
  {
   "cell_type": "code",
   "execution_count": 4,
   "metadata": {
    "colab": {
     "base_uri": "https://localhost:8080/"
    },
    "id": "66DNzPeq3lsc",
    "outputId": "fcdd59f1-2231-411e-f0f8-7696ec41bcfe"
   },
   "outputs": [
    {
     "name": "stdout",
     "output_type": "stream",
     "text": [
      "Time of the operation:  0.03418850898742676\n"
     ]
    }
   ],
   "source": [
    "x_mx_cpu = mx.np.random.rand(1000, 1000, ctx = mx.cpu())\n",
    "start_time = time.time()\n",
    "mx.np.dot(x_mx_cpu, x_mx_cpu).wait_to_read() \n",
    "print(\"Time of the operation: \", time.time() - start_time)"
   ]
  },
  {
   "cell_type": "code",
   "execution_count": 5,
   "metadata": {
    "colab": {
     "base_uri": "https://localhost:8080/"
    },
    "id": "JYabBIvg3xnT",
    "outputId": "0fad387a-2a1f-480f-f586-76b3487ed0d0"
   },
   "outputs": [
    {
     "name": "stdout",
     "output_type": "stream",
     "text": [
      "(FAKE, MXNet has lazy evaluation)\n",
      "Time of the operation :  0.0007123947143554688\n",
      "[[258.81516 255.33388 254.32779 ... 249.17023 255.54128 250.86026]\n",
      " [253.10114 249.83322 251.44133 ... 246.73381 255.79558 246.69646]\n",
      " [237.1145  233.8821  239.16486 ... 229.9818  238.70709 229.368  ]\n",
      " ...\n",
      " [257.0594  259.1641  255.50027 ... 252.1665  257.4544  247.9076 ]\n",
      " [245.73749 249.5228  251.82219 ... 239.48169 247.73837 236.19794]\n",
      " [248.97461 256.00775 247.82782 ... 248.81781 251.12112 248.77133]]\n",
      "(FAKE, MXNet has lazy evaluation)\n",
      "Time to display:  0.02734827995300293\n"
     ]
    }
   ],
   "source": [
    "x_mx_cpu = mx.np.random.rand(1000, 1000, ctx = mx.cpu())\n",
    "start_time = time.time()\n",
    "x_2 = mx.np.dot(x_mx_cpu, x_mx_cpu)\n",
    "print(\"(FAKE, MXNet has lazy evaluation)\") \n",
    "print(\"Time of the operation : \", time.time() - start_time) \n",
    "start_time = time.time() \n",
    "print(x_2) \n",
    "print(\"(FAKE, MXNet has lazy evaluation)\") \n",
    "print(\"Time to display: \", time.time() - start_time)"
   ]
  },
  {
   "cell_type": "code",
   "execution_count": 6,
   "metadata": {
    "id": "0zV1I4uvtNsH"
   },
   "outputs": [],
   "source": [
    "timings_np = {}\n",
    "timings_mx_np_cpu = {}\n",
    "timings_mx_np_gpu = {}\n",
    "timings_mx_nd_cpu = {}\n",
    "timings_mx_nd_gpu = {}\n",
    "matrix_orders = [1, 5, 10, 50, 100, 500, 1000, 5000, 10000]"
   ]
  },
  {
   "cell_type": "code",
   "execution_count": 7,
   "metadata": {
    "id": "NibL9DNdPLSM"
   },
   "outputs": [],
   "source": [
    "def create_matrix_np(n):\n",
    "    \"\"\"\n",
    "    Given n, creates a squared n x n matrix,\n",
    "    with each matrix value taken from a random\n",
    "    uniform distribution between [0, 1].\n",
    "    Returns the created matrix a.\n",
    "    Uses NumPy.\n",
    "    \"\"\"\n",
    "    a = np.random.rand(n, n)\n",
    "    return a\n",
    "\n",
    "def create_matrix_mx_np(n, ctx=mx.cpu()):\n",
    "    \"\"\"\n",
    "    Given n, creates a squared n x n matrix,\n",
    "    with each matrix value taken from a random\n",
    "    uniform distribution between [0, 1].\n",
    "    Returns the created matrix a.\n",
    "    Uses MXNet NumPy syntax and context ctx\n",
    "    \"\"\"\n",
    "    a = mx.np.random.rand(n, n, ctx=ctx)\n",
    "    a.wait_to_read()\n",
    "    return a\n",
    "\n",
    "def create_matrix_mx_nd(n, ctx=mx.cpu()):\n",
    "    \"\"\"\n",
    "    Given n, creates a squared n x n matrix,\n",
    "    with each matrix value taken from a random\n",
    "    uniform distribution between [0, 1].\n",
    "    Returns the created matrix a.\n",
    "    Uses MXNet ND native syntax and context ctx\n",
    "    \"\"\"\n",
    "    a = mx.nd.random.uniform(shape=(n, n), ctx=ctx)\n",
    "    a.wait_to_read()\n",
    "    return a"
   ]
  },
  {
   "cell_type": "code",
   "execution_count": 8,
   "metadata": {
    "colab": {
     "base_uri": "https://localhost:8080/"
    },
    "id": "FccWLABaVZ7n",
    "outputId": "d904b999-e2aa-43da-a6bc-21682084d8b8"
   },
   "outputs": [
    {
     "name": "stdout",
     "output_type": "stream",
     "text": [
      "901 ns ± 1.88 ns per loop (mean ± std. dev. of 7 runs, 1000000 loops each)\n",
      "1.09 µs ± 1.97 ns per loop (mean ± std. dev. of 7 runs, 1000000 loops each)\n",
      "1.75 µs ± 3.43 ns per loop (mean ± std. dev. of 7 runs, 1000000 loops each)\n",
      "22.7 µs ± 13.8 ns per loop (mean ± std. dev. of 7 runs, 10000 loops each)\n",
      "86.7 µs ± 9 ns per loop (mean ± std. dev. of 7 runs, 10000 loops each)\n",
      "2.13 ms ± 165 ns per loop (mean ± std. dev. of 7 runs, 100 loops each)\n",
      "8.49 ms ± 588 ns per loop (mean ± std. dev. of 7 runs, 100 loops each)\n",
      "265 ms ± 917 µs per loop (mean ± std. dev. of 7 runs, 1 loop each)\n",
      "1.08 s ± 619 µs per loop (mean ± std. dev. of 7 runs, 1 loop each)\n"
     ]
    }
   ],
   "source": [
    "timings_np[\"create\"] = []\n",
    "\n",
    "for n in matrix_orders:\n",
    "    result = %timeit -o create_matrix_np(n)\n",
    "    timings_np[\"create\"].append(result.average)"
   ]
  },
  {
   "cell_type": "code",
   "execution_count": 9,
   "metadata": {
    "colab": {
     "base_uri": "https://localhost:8080/"
    },
    "id": "peGs4798qRN4",
    "outputId": "e1fc7aee-ef98-4038-d9f3-61015a1006f9"
   },
   "outputs": [
    {
     "name": "stdout",
     "output_type": "stream",
     "text": [
      "153 µs ± 389 ns per loop (mean ± std. dev. of 7 runs, 10000 loops each)\n",
      "174 µs ± 10.5 µs per loop (mean ± std. dev. of 7 runs, 10000 loops each)\n",
      "151 µs ± 680 ns per loop (mean ± std. dev. of 7 runs, 10000 loops each)\n",
      "206 µs ± 7.53 µs per loop (mean ± std. dev. of 7 runs, 10000 loops each)\n",
      "274 µs ± 763 ns per loop (mean ± std. dev. of 7 runs, 1000 loops each)\n",
      "2.14 ms ± 1.21 µs per loop (mean ± std. dev. of 7 runs, 100 loops each)\n",
      "7.85 ms ± 4.19 µs per loop (mean ± std. dev. of 7 runs, 100 loops each)\n",
      "236 ms ± 26.6 ms per loop (mean ± std. dev. of 7 runs, 1 loop each)\n",
      "942 ms ± 106 ms per loop (mean ± std. dev. of 7 runs, 1 loop each)\n"
     ]
    }
   ],
   "source": [
    "timings_mx_np_cpu[\"create\"] = []\n",
    "\n",
    "for n in matrix_orders:\n",
    "    result = %timeit -o create_matrix_mx_np(n)\n",
    "    timings_mx_np_cpu[\"create\"].append(result.average)"
   ]
  },
  {
   "cell_type": "code",
   "execution_count": 10,
   "metadata": {
    "colab": {
     "base_uri": "https://localhost:8080/"
    },
    "id": "j-H_0rOqIyBx",
    "outputId": "29fd6010-36e8-4d9c-f073-5aaa692ffa7a"
   },
   "outputs": [
    {
     "name": "stdout",
     "output_type": "stream",
     "text": [
      "244 µs ± 75.4 µs per loop (mean ± std. dev. of 7 runs, 1 loop each)\n",
      "205 µs ± 12 µs per loop (mean ± std. dev. of 7 runs, 10000 loops each)\n",
      "201 µs ± 2.67 µs per loop (mean ± std. dev. of 7 runs, 10000 loops each)\n",
      "220 µs ± 9.5 µs per loop (mean ± std. dev. of 7 runs, 10000 loops each)\n",
      "206 µs ± 2.8 µs per loop (mean ± std. dev. of 7 runs, 10000 loops each)\n",
      "202 µs ± 2.02 µs per loop (mean ± std. dev. of 7 runs, 1000 loops each)\n",
      "223 µs ± 4.69 µs per loop (mean ± std. dev. of 7 runs, 1000 loops each)\n",
      "711 µs ± 1.22 µs per loop (mean ± std. dev. of 7 runs, 1000 loops each)\n",
      "2.43 ms ± 4.04 µs per loop (mean ± std. dev. of 7 runs, 100 loops each)\n"
     ]
    }
   ],
   "source": [
    "timings_mx_np_gpu[\"create\"] = []\n",
    "\n",
    "ctx = mx.gpu()\n",
    "for n in matrix_orders:\n",
    "    result = %timeit -o create_matrix_mx_np(n, ctx)\n",
    "    timings_mx_np_gpu[\"create\"].append(result.average)"
   ]
  },
  {
   "cell_type": "code",
   "execution_count": 11,
   "metadata": {},
   "outputs": [
    {
     "name": "stdout",
     "output_type": "stream",
     "text": [
      "114 µs ± 10.4 µs per loop (mean ± std. dev. of 7 runs, 10000 loops each)\n",
      "108 µs ± 7.66 µs per loop (mean ± std. dev. of 7 runs, 10000 loops each)\n",
      "108 µs ± 6.09 µs per loop (mean ± std. dev. of 7 runs, 10000 loops each)\n",
      "132 µs ± 5.11 µs per loop (mean ± std. dev. of 7 runs, 10000 loops each)\n",
      "178 µs ± 11.6 µs per loop (mean ± std. dev. of 7 runs, 10000 loops each)\n",
      "967 µs ± 621 ns per loop (mean ± std. dev. of 7 runs, 1000 loops each)\n",
      "3.22 ms ± 1.83 µs per loop (mean ± std. dev. of 7 runs, 100 loops each)\n",
      "98.6 ms ± 78.6 µs per loop (mean ± std. dev. of 7 runs, 10 loops each)\n",
      "395 ms ± 383 µs per loop (mean ± std. dev. of 7 runs, 1 loop each)\n"
     ]
    }
   ],
   "source": [
    "timings_mx_nd_cpu[\"create\"] = []\n",
    "\n",
    "for n in matrix_orders:\n",
    "    result = %timeit -o create_matrix_mx_nd(n)\n",
    "    timings_mx_nd_cpu[\"create\"].append(result.average)"
   ]
  },
  {
   "cell_type": "code",
   "execution_count": 12,
   "metadata": {},
   "outputs": [
    {
     "name": "stdout",
     "output_type": "stream",
     "text": [
      "180 µs ± 6.93 µs per loop (mean ± std. dev. of 7 runs, 10000 loops each)\n",
      "184 µs ± 10 µs per loop (mean ± std. dev. of 7 runs, 10000 loops each)\n",
      "190 µs ± 2.12 µs per loop (mean ± std. dev. of 7 runs, 10000 loops each)\n",
      "210 µs ± 13.3 µs per loop (mean ± std. dev. of 7 runs, 1000 loops each)\n",
      "199 µs ± 6.94 µs per loop (mean ± std. dev. of 7 runs, 10000 loops each)\n",
      "233 µs ± 6.96 µs per loop (mean ± std. dev. of 7 runs, 1000 loops each)\n",
      "249 µs ± 6.8 µs per loop (mean ± std. dev. of 7 runs, 1000 loops each)\n",
      "3.59 ms ± 7.81 µs per loop (mean ± std. dev. of 7 runs, 100 loops each)\n",
      "15.3 ms ± 6.85 µs per loop (mean ± std. dev. of 7 runs, 100 loops each)\n"
     ]
    }
   ],
   "source": [
    "timings_mx_nd_gpu[\"create\"] = []\n",
    "\n",
    "ctx = mx.gpu()\n",
    "for n in matrix_orders:\n",
    "    result = %timeit -o create_matrix_mx_nd(n, ctx)\n",
    "    timings_mx_nd_gpu[\"create\"].append(result.average)"
   ]
  },
  {
   "cell_type": "code",
   "execution_count": 16,
   "metadata": {
    "id": "irNoTWgGK_BP"
   },
   "outputs": [],
   "source": [
    "def multiply_matrix_np(a, b):\n",
    "    \"\"\"\n",
    "    Multiplies 2 squared matrixes a and b\n",
    "    and returns the result c.\n",
    "    Uses NumPy.\n",
    "    \"\"\"\n",
    "    #c = np.matmul(a, b)\n",
    "    c = np.dot(a, b)\n",
    "    return c\n",
    "\n",
    "def multiply_matrix_mx_np(a, b):\n",
    "    \"\"\"\n",
    "    Multiplies 2 squared matrixes a and b\n",
    "    and returns the result c.\n",
    "    Uses MXNet NumPy syntax.\n",
    "    \"\"\"\n",
    "    c = mx.np.dot(a, b)\n",
    "    c.wait_to_read()\n",
    "    return c\n",
    "\n",
    "def multiply_matrix_mx_nd(a, b):\n",
    "    \"\"\"\n",
    "    Multiplies 2 squared matrixes a and b\n",
    "    and returns the result c.\n",
    "    Uses MXNet ND native syntax.\n",
    "    \"\"\"\n",
    "    c = mx.nd.dot(a, b)\n",
    "    c.wait_to_read()\n",
    "    return c"
   ]
  },
  {
   "cell_type": "code",
   "execution_count": 17,
   "metadata": {
    "colab": {
     "base_uri": "https://localhost:8080/"
    },
    "id": "ECaP6GUGWV3f",
    "outputId": "060699a0-61b7-4196-b75c-f3e7df52cdbb"
   },
   "outputs": [
    {
     "name": "stdout",
     "output_type": "stream",
     "text": [
      "1.29 µs ± 2.29 ns per loop (mean ± std. dev. of 7 runs, 1000000 loops each)\n",
      "1.68 µs ± 0.97 ns per loop (mean ± std. dev. of 7 runs, 1000000 loops each)\n",
      "1.89 µs ± 1.06 ns per loop (mean ± std. dev. of 7 runs, 1000000 loops each)\n",
      "15.7 µs ± 24.3 ns per loop (mean ± std. dev. of 7 runs, 100000 loops each)\n",
      "69.8 µs ± 38.3 ns per loop (mean ± std. dev. of 7 runs, 10000 loops each)\n",
      "2.87 ms ± 2.93 µs per loop (mean ± std. dev. of 7 runs, 100 loops each)\n",
      "18.1 ms ± 97.1 µs per loop (mean ± std. dev. of 7 runs, 100 loops each)\n",
      "1.88 s ± 8.43 ms per loop (mean ± std. dev. of 7 runs, 1 loop each)\n",
      "14.2 s ± 28.9 ms per loop (mean ± std. dev. of 7 runs, 1 loop each)\n"
     ]
    }
   ],
   "source": [
    "timings_np[\"multiply\"] = []\n",
    "\n",
    "for n in matrix_orders:\n",
    "    a = create_matrix_np(n)\n",
    "    b = create_matrix_np(n)\n",
    "\n",
    "    result = %timeit -o multiply_matrix_np(a, b)\n",
    "    timings_np[\"multiply\"].append(result.average)"
   ]
  },
  {
   "cell_type": "code",
   "execution_count": 18,
   "metadata": {
    "colab": {
     "base_uri": "https://localhost:8080/"
    },
    "id": "GDUDUSfJXcSf",
    "outputId": "291eea8e-a5d9-4692-a41f-846e2adee61a"
   },
   "outputs": [
    {
     "name": "stdout",
     "output_type": "stream",
     "text": [
      "82.5 µs ± 4.85 µs per loop (mean ± std. dev. of 7 runs, 10000 loops each)\n",
      "87.6 µs ± 6.54 µs per loop (mean ± std. dev. of 7 runs, 10000 loops each)\n",
      "87.6 µs ± 4.85 µs per loop (mean ± std. dev. of 7 runs, 10000 loops each)\n",
      "100 µs ± 931 ns per loop (mean ± std. dev. of 7 runs, 10000 loops each)\n",
      "150 µs ± 2.99 µs per loop (mean ± std. dev. of 7 runs, 10000 loops each)\n",
      "1.18 ms ± 23.5 µs per loop (mean ± std. dev. of 7 runs, 1000 loops each)\n",
      "7.41 ms ± 5.97 µs per loop (mean ± std. dev. of 7 runs, 100 loops each)\n",
      "847 ms ± 595 µs per loop (mean ± std. dev. of 7 runs, 1 loop each)\n",
      "6.59 s ± 5.15 ms per loop (mean ± std. dev. of 7 runs, 1 loop each)\n"
     ]
    }
   ],
   "source": [
    "timings_mx_np_cpu[\"multiply\"] = []\n",
    "\n",
    "for n in matrix_orders:\n",
    "    a = create_matrix_mx_np(n)\n",
    "    b = create_matrix_mx_np(n)\n",
    "\n",
    "    result = %timeit -o multiply_matrix_mx_np(a, b)\n",
    "    timings_mx_np_cpu[\"multiply\"].append(result.average)"
   ]
  },
  {
   "cell_type": "code",
   "execution_count": 19,
   "metadata": {
    "colab": {
     "base_uri": "https://localhost:8080/"
    },
    "id": "TepRQwJCLUyV",
    "outputId": "04d65b22-0cda-4d07-9238-7c5241626cad"
   },
   "outputs": [
    {
     "name": "stdout",
     "output_type": "stream",
     "text": [
      "137 µs ± 4.3 µs per loop (mean ± std. dev. of 7 runs, 10000 loops each)\n",
      "135 µs ± 3.29 µs per loop (mean ± std. dev. of 7 runs, 10000 loops each)\n",
      "146 µs ± 9.28 µs per loop (mean ± std. dev. of 7 runs, 10000 loops each)\n",
      "142 µs ± 3.21 µs per loop (mean ± std. dev. of 7 runs, 10000 loops each)\n",
      "144 µs ± 3.92 µs per loop (mean ± std. dev. of 7 runs, 10000 loops each)\n",
      "178 µs ± 1.78 µs per loop (mean ± std. dev. of 7 runs, 10000 loops each)\n",
      "324 µs ± 7.3 µs per loop (mean ± std. dev. of 7 runs, 1000 loops each)\n",
      "17.8 ms ± 26.2 µs per loop (mean ± std. dev. of 7 runs, 100 loops each)\n",
      "143 ms ± 226 µs per loop (mean ± std. dev. of 7 runs, 10 loops each)\n"
     ]
    }
   ],
   "source": [
    "timings_mx_np_gpu[\"multiply\"] = []\n",
    "\n",
    "ctx = mx.gpu()\n",
    "for n in matrix_orders:\n",
    "    a = create_matrix_mx_np(n, ctx)\n",
    "    b = create_matrix_mx_np(n, ctx)\n",
    "\n",
    "    result = %timeit -o multiply_matrix_mx_np(a, b)\n",
    "    timings_mx_np_gpu[\"multiply\"].append(result.average)"
   ]
  },
  {
   "cell_type": "code",
   "execution_count": 20,
   "metadata": {
    "colab": {
     "base_uri": "https://localhost:8080/"
    },
    "id": "GDUDUSfJXcSf",
    "outputId": "291eea8e-a5d9-4692-a41f-846e2adee61a"
   },
   "outputs": [
    {
     "name": "stdout",
     "output_type": "stream",
     "text": [
      "77.9 µs ± 983 ns per loop (mean ± std. dev. of 7 runs, 10000 loops each)\n",
      "79.1 µs ± 799 ns per loop (mean ± std. dev. of 7 runs, 10000 loops each)\n",
      "82.3 µs ± 2.02 µs per loop (mean ± std. dev. of 7 runs, 10000 loops each)\n",
      "101 µs ± 432 ns per loop (mean ± std. dev. of 7 runs, 10000 loops each)\n",
      "147 µs ± 3.75 µs per loop (mean ± std. dev. of 7 runs, 10000 loops each)\n",
      "1.16 ms ± 13.8 µs per loop (mean ± std. dev. of 7 runs, 1000 loops each)\n",
      "7.5 ms ± 101 µs per loop (mean ± std. dev. of 7 runs, 100 loops each)\n",
      "845 ms ± 508 µs per loop (mean ± std. dev. of 7 runs, 1 loop each)\n",
      "6.62 s ± 1.86 ms per loop (mean ± std. dev. of 7 runs, 1 loop each)\n"
     ]
    }
   ],
   "source": [
    "timings_mx_nd_cpu[\"multiply\"] = []\n",
    "\n",
    "for n in matrix_orders:\n",
    "    a = create_matrix_mx_nd(n)\n",
    "    b = create_matrix_mx_nd(n)\n",
    "\n",
    "    result = %timeit -o multiply_matrix_mx_nd(a, b)\n",
    "    timings_mx_nd_cpu[\"multiply\"].append(result.average)"
   ]
  },
  {
   "cell_type": "code",
   "execution_count": 21,
   "metadata": {
    "colab": {
     "base_uri": "https://localhost:8080/"
    },
    "id": "TepRQwJCLUyV",
    "outputId": "04d65b22-0cda-4d07-9238-7c5241626cad",
    "scrolled": true
   },
   "outputs": [
    {
     "name": "stdout",
     "output_type": "stream",
     "text": [
      "143 µs ± 3.87 µs per loop (mean ± std. dev. of 7 runs, 10000 loops each)\n",
      "144 µs ± 8.67 µs per loop (mean ± std. dev. of 7 runs, 10000 loops each)\n",
      "140 µs ± 3.21 µs per loop (mean ± std. dev. of 7 runs, 10000 loops each)\n",
      "151 µs ± 13.8 µs per loop (mean ± std. dev. of 7 runs, 10000 loops each)\n",
      "159 µs ± 6.55 µs per loop (mean ± std. dev. of 7 runs, 10000 loops each)\n",
      "184 µs ± 4.83 µs per loop (mean ± std. dev. of 7 runs, 10000 loops each)\n",
      "331 µs ± 2.16 µs per loop (mean ± std. dev. of 7 runs, 1000 loops each)\n",
      "17.9 ms ± 15.4 µs per loop (mean ± std. dev. of 7 runs, 100 loops each)\n",
      "144 ms ± 204 µs per loop (mean ± std. dev. of 7 runs, 10 loops each)\n"
     ]
    }
   ],
   "source": [
    "timings_mx_nd_gpu[\"multiply\"] = []\n",
    "\n",
    "ctx = mx.gpu()\n",
    "for n in matrix_orders:\n",
    "    a = create_matrix_mx_nd(n, ctx)\n",
    "    b = create_matrix_mx_nd(n, ctx)\n",
    "\n",
    "    result = %timeit -o multiply_matrix_mx_nd(a, b)\n",
    "    timings_mx_nd_gpu[\"multiply\"].append(result.average)"
   ]
  },
  {
   "cell_type": "code",
   "execution_count": 22,
   "metadata": {
    "colab": {
     "base_uri": "https://localhost:8080/",
     "height": 304
    },
    "id": "5a0d2Ej4ht17",
    "outputId": "ec38b498-601f-4018-af3a-14df5e815653"
   },
   "outputs": [
    {
     "data": {
      "image/png": "[encoded data removed]",
      "text/plain": [
       "<Figure size 432x288 with 1 Axes>"
      ]
     },
     "metadata": {
      "needs_background": "light"
     },
     "output_type": "display_data"
    }
   ],
   "source": [
    "import matplotlib.pyplot as plt\n",
    "\n",
    "fig = plt.figure()\n",
    "plt.plot(matrix_orders, timings_np[\"create\"], color='red', marker='s')\n",
    "plt.plot(matrix_orders, timings_mx_np_cpu[\"create\"], color='blue', marker='o')\n",
    "plt.plot(matrix_orders, timings_mx_np_gpu[\"create\"], color='green', marker='^')\n",
    "plt.plot(matrix_orders, timings_mx_nd_cpu[\"create\"], color='yellow', marker='p')\n",
    "plt.plot(matrix_orders, timings_mx_nd_gpu[\"create\"], color='orange', marker='*')\n",
    "plt.title(\"Matrix Creation Runtime\", fontsize=14)\n",
    "plt.xlabel(\"Matrix Order\", fontsize=14)\n",
    "plt.ylabel(\"Runtime (s)\", fontsize=14)\n",
    "plt.grid(True)\n",
    "ax = fig.gca()\n",
    "ax.set_xscale(\"log\")\n",
    "ax.set_yscale(\"log\")\n",
    "plt.legend([\"NumPy\", \"MXNet NumPy (CPU)\", \"MXNet NumPy (GPU)\", \"MXNet ND (CPU)\", \"MXNet ND (GPU)\"])\n",
    "plt.show()"
   ]
  },
  {
   "cell_type": "code",
   "execution_count": 23,
   "metadata": {
    "colab": {
     "base_uri": "https://localhost:8080/",
     "height": 304
    },
    "id": "5G0vDm1Bj1cl",
    "outputId": "8ca2aebc-d392-48db-d9fd-404181f60a6e"
   },
   "outputs": [
    {
     "data": {
      "image/png": "[encoded data removed]",
      "text/plain": [
       "<Figure size 432x288 with 1 Axes>"
      ]
     },
     "metadata": {
      "needs_background": "light"
     },
     "output_type": "display_data"
    }
   ],
   "source": [
    "import matplotlib.pyplot as plt\n",
    "\n",
    "fig = plt.figure()\n",
    "plt.plot(matrix_orders, timings_np[\"multiply\"], color='red', marker='s')\n",
    "plt.plot(matrix_orders, timings_mx_np_cpu[\"multiply\"], color='blue', marker='o')\n",
    "plt.plot(matrix_orders, timings_mx_np_gpu[\"multiply\"], color='green', marker='^')\n",
    "plt.plot(matrix_orders, timings_mx_nd_cpu[\"multiply\"], color='yellow', marker='p')\n",
    "plt.plot(matrix_orders, timings_mx_nd_gpu[\"multiply\"], color='orange', marker='*')\n",
    "plt.title(\"Matrix Multiplication Runtime\", fontsize=14)\n",
    "plt.xlabel(\"Matrix Order\", fontsize=14)\n",
    "plt.ylabel(\"Runtime (s)\", fontsize=14)\n",
    "plt.grid(True)\n",
    "ax = fig.gca()\n",
    "ax.set_xscale(\"log\")\n",
    "ax.set_yscale(\"log\")\n",
    "plt.legend([\"NumPy\", \"MXNet NumPy (CPU)\", \"MXNet NumPy (GPU)\", \"MXNet ND (CPU)\", \"MXNet ND (GPU)\"])\n",
    "plt.show()"
   ]
  }
 ],
 "metadata": {
  "accelerator": "GPU",
  "colab": {
   "name": "DL with MXNet Cookbook 1.2 NumPy and MXNet ND Arrays.ipynb",
   "provenance": []
  },
  "kernelspec": {
   "display_name": "Python 3",
   "language": "python",
   "name": "python3"
  },
  "language_info": {
   "codemirror_mode": {
    "name": "ipython",
    "version": 3
   },
   "file_extension": ".py",
   "mimetype": "text/x-python",
   "name": "python",
   "nbconvert_exporter": "python",
   "pygments_lexer": "ipython3",
   "version": "3.7.10"
  }
 },
 "nbformat": 4,
 "nbformat_minor": 1
}
