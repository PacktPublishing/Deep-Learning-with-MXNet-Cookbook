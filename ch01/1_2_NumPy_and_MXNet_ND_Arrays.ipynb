{
  "nbformat": 4,
  "nbformat_minor": 0,
  "metadata": {
    "colab": {
      "name": "DL with MXNet Cookbook 1.2 NumPy and MXNet ND Arrays.ipynb",
      "provenance": []
    },
    "kernelspec": {
      "name": "python3",
      "display_name": "Python 3"
    },
    "language_info": {
      "name": "python"
    },
    "accelerator": "GPU"
  },
  "cells": [
    {
      "cell_type": "code",
      "metadata": {
        "id": "abQf0dunII-k",
        "colab": {
          "base_uri": "https://localhost:8080/"
        },
        "outputId": "8f7e915b-fb97-4606-d45c-d04b23cb7792"
      },
      "source": [
        "!nvidia-smi"
      ],
      "execution_count": null,
      "outputs": [
        {
          "output_type": "stream",
          "text": [
            "Fri Apr 30 23:12:16 2021       \n",
            "+-----------------------------------------------------------------------------+\n",
            "| NVIDIA-SMI 465.19.01    Driver Version: 460.32.03    CUDA Version: 11.2     |\n",
            "|-------------------------------+----------------------+----------------------+\n",
            "| GPU  Name        Persistence-M| Bus-Id        Disp.A | Volatile Uncorr. ECC |\n",
            "| Fan  Temp  Perf  Pwr:Usage/Cap|         Memory-Usage | GPU-Util  Compute M. |\n",
            "|                               |                      |               MIG M. |\n",
            "|===============================+======================+======================|\n",
            "|   0  Tesla T4            Off  | 00000000:00:04.0 Off |                    0 |\n",
            "| N/A   59C    P8    10W /  70W |      0MiB / 15109MiB |      0%      Default |\n",
            "|                               |                      |                  N/A |\n",
            "+-------------------------------+----------------------+----------------------+\n",
            "                                                                               \n",
            "+-----------------------------------------------------------------------------+\n",
            "| Processes:                                                                  |\n",
            "|  GPU   GI   CI        PID   Type   Process name                  GPU Memory |\n",
            "|        ID   ID                                                   Usage      |\n",
            "|=============================================================================|\n",
            "|  No running processes found                                                 |\n",
            "+-----------------------------------------------------------------------------+\n"
          ],
          "name": "stdout"
        }
      ]
    },
    {
      "cell_type": "code",
      "metadata": {
        "colab": {
          "base_uri": "https://localhost:8080/"
        },
        "id": "63lXljJ0cNQ4",
        "outputId": "edce07b4-f5f4-42a4-bf8b-68a1de390920"
      },
      "source": [
        "!pip3 install mxnet-cu101"
      ],
      "execution_count": null,
      "outputs": [
        {
          "output_type": "stream",
          "text": [
            "Collecting mxnet-cu101\n",
            "\u001b[?25l  Downloading https://files.pythonhosted.org/packages/18/4f/2e51ae21a0361db5363915f042f872a7d4ca456094a0b9e0f967bdcf7729/mxnet_cu101-1.8.0.post0-py2.py3-none-manylinux2014_x86_64.whl (356.7MB)\n",
            "\u001b[K     |████████████████████████████████| 356.7MB 45kB/s \n",
            "\u001b[?25hRequirement already satisfied: numpy<2.0.0,>1.16.0 in /usr/local/lib/python3.7/dist-packages (from mxnet-cu101) (1.19.5)\n",
            "Requirement already satisfied: requests<3,>=2.20.0 in /usr/local/lib/python3.7/dist-packages (from mxnet-cu101) (2.23.0)\n",
            "Collecting graphviz<0.9.0,>=0.8.1\n",
            "  Downloading https://files.pythonhosted.org/packages/53/39/4ab213673844e0c004bed8a0781a0721a3f6bb23eb8854ee75c236428892/graphviz-0.8.4-py2.py3-none-any.whl\n",
            "Requirement already satisfied: certifi>=2017.4.17 in /usr/local/lib/python3.7/dist-packages (from requests<3,>=2.20.0->mxnet-cu101) (2020.12.5)\n",
            "Requirement already satisfied: idna<3,>=2.5 in /usr/local/lib/python3.7/dist-packages (from requests<3,>=2.20.0->mxnet-cu101) (2.10)\n",
            "Requirement already satisfied: urllib3!=1.25.0,!=1.25.1,<1.26,>=1.21.1 in /usr/local/lib/python3.7/dist-packages (from requests<3,>=2.20.0->mxnet-cu101) (1.24.3)\n",
            "Requirement already satisfied: chardet<4,>=3.0.2 in /usr/local/lib/python3.7/dist-packages (from requests<3,>=2.20.0->mxnet-cu101) (3.0.4)\n",
            "Installing collected packages: graphviz, mxnet-cu101\n",
            "  Found existing installation: graphviz 0.10.1\n",
            "    Uninstalling graphviz-0.10.1:\n",
            "      Successfully uninstalled graphviz-0.10.1\n",
            "Successfully installed graphviz-0.8.4 mxnet-cu101-1.8.0.post0\n"
          ],
          "name": "stdout"
        }
      ]
    },
    {
      "cell_type": "code",
      "metadata": {
        "id": "3qV1vAM7dLO_"
      },
      "source": [
        "import numpy as np\n",
        "import mxnet as mx\n",
        "\n",
        "import time"
      ],
      "execution_count": null,
      "outputs": []
    },
    {
      "cell_type": "code",
      "metadata": {
        "colab": {
          "base_uri": "https://localhost:8080/"
        },
        "id": "66DNzPeq3lsc",
        "outputId": "fcdd59f1-2231-411e-f0f8-7696ec41bcfe"
      },
      "source": [
        "x_mx_cpu = mx.np.random.rand(1000, 1000, ctx = mx.cpu())\n",
        "start_time = time.time()\n",
        "mx.np.dot(x_mx_cpu, x_mx_cpu).wait_to_read() \n",
        "print(\"Time of the operation: \", time.time() - start_time)"
      ],
      "execution_count": null,
      "outputs": [
        {
          "output_type": "stream",
          "text": [
            "Time of the operation:  0.04673886299133301\n"
          ],
          "name": "stdout"
        }
      ]
    },
    {
      "cell_type": "code",
      "metadata": {
        "colab": {
          "base_uri": "https://localhost:8080/"
        },
        "id": "JYabBIvg3xnT",
        "outputId": "0fad387a-2a1f-480f-f586-76b3487ed0d0"
      },
      "source": [
        "x_mx_cpu = mx.np.random.rand(1000, 1000, ctx = mx.cpu())\n",
        "start_time = time.time()\n",
        "x_2 = mx.np.dot(x_mx_cpu, x_mx_cpu)\n",
        "print(\"(FAKE, MXNet has lazy evaluation)\") \n",
        "print(\"Time of the operation : \", time.time() - start_time) \n",
        "start_time = time.time() \n",
        "print(x_2) \n",
        "print(\"(FAKE, MXNet has lazy evaluation)\") \n",
        "print(\"Time to display: \", time.time() - start_time)"
      ],
      "execution_count": null,
      "outputs": [
        {
          "output_type": "stream",
          "text": [
            "(FAKE, MXNet has lazy evaluation)\n",
            "Time of the operation :  0.00118255615234375\n",
            "[[256.59583 249.70404 249.48639 ... 251.97151 255.06744 255.60669]\n",
            " [255.22629 251.69475 245.7591  ... 252.78784 253.18878 247.78052]\n",
            " [257.54187 254.29262 251.76346 ... 261.0468  268.49127 258.2312 ]\n",
            " ...\n",
            " [256.9957  253.9823  249.59073 ... 256.7088  261.14255 253.37457]\n",
            " [255.94278 248.73282 248.16641 ... 254.39209 252.4108  249.02774]\n",
            " [253.3464  254.55524 250.00716 ... 253.15712 258.53894 255.18658]]\n",
            "(FAKE, MXNet has lazy evaluation)\n",
            "Time to display:  0.042133331298828125\n"
          ],
          "name": "stdout"
        }
      ]
    },
    {
      "cell_type": "code",
      "metadata": {
        "id": "0zV1I4uvtNsH"
      },
      "source": [
        "timings_np = {}\n",
        "timings_mx_cpu = {}\n",
        "timings_mx_gpu = {}\n",
        "matrix_orders = [1, 5, 10, 50, 100, 500, 1000, 5000, 10000]"
      ],
      "execution_count": null,
      "outputs": []
    },
    {
      "cell_type": "code",
      "metadata": {
        "id": "NibL9DNdPLSM"
      },
      "source": [
        "def create_matrix_np(n):\n",
        "    \"\"\"\n",
        "    Given n, creates a squared n x n matrix,\n",
        "    with each matrix value taken from a random\n",
        "    uniform distribution between [0, 1].\n",
        "    Returns the created matrix a.\n",
        "    Uses NumPy.\n",
        "    \"\"\"\n",
        "    a = np.random.rand(n, n)\n",
        "    return a\n",
        "\n",
        "def create_matrix_mx(n, ctx=mx.cpu()):\n",
        "    \"\"\"\n",
        "    Given n, creates a squared n x n matrix,\n",
        "    with each matrix value taken from a random\n",
        "    uniform distribution between [0, 1].\n",
        "    Returns the created matrix a.\n",
        "    Uses MXNet NumPy syntax and Context ctx\n",
        "    \"\"\"\n",
        "    a = mx.np.random.rand(n, n, ctx=ctx)\n",
        "    a.wait_to_read()\n",
        "    return a"
      ],
      "execution_count": null,
      "outputs": []
    },
    {
      "cell_type": "code",
      "metadata": {
        "colab": {
          "base_uri": "https://localhost:8080/"
        },
        "id": "FccWLABaVZ7n",
        "outputId": "d904b999-e2aa-43da-a6bc-21682084d8b8"
      },
      "source": [
        "timings_np[\"create\"] = []\n",
        "\n",
        "for n in matrix_orders:\n",
        "    result = %timeit -o create_matrix_np(n)\n",
        "    timings_np[\"create\"].append(result.best)"
      ],
      "execution_count": null,
      "outputs": [
        {
          "output_type": "stream",
          "text": [
            "The slowest run took 222.53 times longer than the fastest. This could mean that an intermediate result is being cached.\n",
            "1000000 loops, best of 5: 988 ns per loop\n",
            "The slowest run took 94.59 times longer than the fastest. This could mean that an intermediate result is being cached.\n",
            "1000000 loops, best of 5: 1.17 µs per loop\n",
            "The slowest run took 34.22 times longer than the fastest. This could mean that an intermediate result is being cached.\n",
            "1000000 loops, best of 5: 1.69 µs per loop\n",
            "The slowest run took 62.97 times longer than the fastest. This could mean that an intermediate result is being cached.\n",
            "100000 loops, best of 5: 18.3 µs per loop\n",
            "The slowest run took 7.28 times longer than the fastest. This could mean that an intermediate result is being cached.\n",
            "10000 loops, best of 5: 69.6 µs per loop\n",
            "1000 loops, best of 5: 1.86 ms per loop\n",
            "100 loops, best of 5: 7.3 ms per loop\n",
            "1 loop, best of 5: 178 ms per loop\n",
            "1 loop, best of 5: 705 ms per loop\n"
          ],
          "name": "stdout"
        }
      ]
    },
    {
      "cell_type": "code",
      "metadata": {
        "colab": {
          "base_uri": "https://localhost:8080/"
        },
        "id": "peGs4798qRN4",
        "outputId": "e1fc7aee-ef98-4038-d9f3-61015a1006f9"
      },
      "source": [
        "timings_mx_cpu[\"create\"] = []\n",
        "\n",
        "for n in matrix_orders:\n",
        "    result = %timeit -o create_matrix_mx(n)\n",
        "    timings_mx_cpu[\"create\"].append(result.best)"
      ],
      "execution_count": null,
      "outputs": [
        {
          "output_type": "stream",
          "text": [
            "The slowest run took 51.94 times longer than the fastest. This could mean that an intermediate result is being cached.\n",
            "10000 loops, best of 5: 140 µs per loop\n",
            "The slowest run took 8.76 times longer than the fastest. This could mean that an intermediate result is being cached.\n",
            "10000 loops, best of 5: 141 µs per loop\n",
            "The slowest run took 4.27 times longer than the fastest. This could mean that an intermediate result is being cached.\n",
            "10000 loops, best of 5: 141 µs per loop\n",
            "The slowest run took 7.31 times longer than the fastest. This could mean that an intermediate result is being cached.\n",
            "10000 loops, best of 5: 169 µs per loop\n",
            "The slowest run took 5.57 times longer than the fastest. This could mean that an intermediate result is being cached.\n",
            "1000 loops, best of 5: 251 µs per loop\n",
            "100 loops, best of 5: 1.97 ms per loop\n",
            "100 loops, best of 5: 7.32 ms per loop\n",
            "10 loops, best of 5: 174 ms per loop\n",
            "1 loop, best of 5: 694 ms per loop\n"
          ],
          "name": "stdout"
        }
      ]
    },
    {
      "cell_type": "code",
      "metadata": {
        "colab": {
          "base_uri": "https://localhost:8080/"
        },
        "id": "j-H_0rOqIyBx",
        "outputId": "29fd6010-36e8-4d9c-f073-5aaa692ffa7a"
      },
      "source": [
        "timings_mx_gpu[\"create\"] = []\n",
        "\n",
        "ctx = mx.gpu()\n",
        "for n in matrix_orders:\n",
        "    result = %timeit -o create_matrix_mx(n, ctx)\n",
        "    timings_mx_gpu[\"create\"].append(result.best)"
      ],
      "execution_count": null,
      "outputs": [
        {
          "output_type": "stream",
          "text": [
            "The slowest run took 11346.40 times longer than the fastest. This could mean that an intermediate result is being cached.\n",
            "1 loop, best of 5: 215 µs per loop\n",
            "1000 loops, best of 5: 199 µs per loop\n",
            "The slowest run took 5.91 times longer than the fastest. This could mean that an intermediate result is being cached.\n",
            "1000 loops, best of 5: 207 µs per loop\n",
            "The slowest run took 4.09 times longer than the fastest. This could mean that an intermediate result is being cached.\n",
            "1000 loops, best of 5: 206 µs per loop\n",
            "The slowest run took 4.79 times longer than the fastest. This could mean that an intermediate result is being cached.\n",
            "1000 loops, best of 5: 201 µs per loop\n",
            "The slowest run took 4.88 times longer than the fastest. This could mean that an intermediate result is being cached.\n",
            "1000 loops, best of 5: 214 µs per loop\n",
            "The slowest run took 5.07 times longer than the fastest. This could mean that an intermediate result is being cached.\n",
            "1000 loops, best of 5: 312 µs per loop\n",
            "100 loops, best of 5: 2.98 ms per loop\n",
            "100 loops, best of 5: 12.8 ms per loop\n"
          ],
          "name": "stdout"
        }
      ]
    },
    {
      "cell_type": "code",
      "metadata": {
        "id": "irNoTWgGK_BP"
      },
      "source": [
        "def multiply_matrix_np(a, b):\n",
        "    \"\"\"\n",
        "    Multiples 2 squared matrixes a and b\n",
        "    and returns the result c.\n",
        "    Uses NumPy.\n",
        "    \"\"\"\n",
        "    #c = np.matmul(a, b)\n",
        "    c = np.dot(a, b)\n",
        "    return c\n",
        "\n",
        "def multiply_matrix_mx(a, b):\n",
        "    \"\"\"\n",
        "    Multiples 2 squared matrixes a and b\n",
        "    and returns the result c.\n",
        "    Uses MXNet NumPy syntax.\n",
        "    \"\"\"\n",
        "    c = mx.np.dot(a, b)\n",
        "    c.wait_to_read()\n",
        "    return c"
      ],
      "execution_count": null,
      "outputs": []
    },
    {
      "cell_type": "code",
      "metadata": {
        "colab": {
          "base_uri": "https://localhost:8080/"
        },
        "id": "ECaP6GUGWV3f",
        "outputId": "060699a0-61b7-4196-b75c-f3e7df52cdbb"
      },
      "source": [
        "timings_np[\"multiply\"] = []\n",
        "\n",
        "for n in matrix_orders:\n",
        "    a = create_matrix_np(n)\n",
        "    b = create_matrix_np(n)\n",
        "\n",
        "    result = %timeit -o multiply_matrix_np(a, b)\n",
        "    timings_np[\"multiply\"].append(result.best)"
      ],
      "execution_count": null,
      "outputs": [
        {
          "output_type": "stream",
          "text": [
            "The slowest run took 33.86 times longer than the fastest. This could mean that an intermediate result is being cached.\n",
            "1000000 loops, best of 5: 1.08 µs per loop\n",
            "The slowest run took 4262.18 times longer than the fastest. This could mean that an intermediate result is being cached.\n",
            "1000000 loops, best of 5: 1.28 µs per loop\n",
            "The slowest run took 11.03 times longer than the fastest. This could mean that an intermediate result is being cached.\n",
            "1000000 loops, best of 5: 1.52 µs per loop\n",
            "The slowest run took 5.89 times longer than the fastest. This could mean that an intermediate result is being cached.\n",
            "100000 loops, best of 5: 12.3 µs per loop\n",
            "The slowest run took 41.78 times longer than the fastest. This could mean that an intermediate result is being cached.\n",
            "10000 loops, best of 5: 86.5 µs per loop\n",
            "100 loops, best of 5: 6.78 ms per loop\n",
            "10 loops, best of 5: 51.1 ms per loop\n",
            "1 loop, best of 5: 6.12 s per loop\n",
            "1 loop, best of 5: 48.8 s per loop\n"
          ],
          "name": "stdout"
        }
      ]
    },
    {
      "cell_type": "code",
      "metadata": {
        "colab": {
          "base_uri": "https://localhost:8080/"
        },
        "id": "GDUDUSfJXcSf",
        "outputId": "291eea8e-a5d9-4692-a41f-846e2adee61a"
      },
      "source": [
        "timings_mx_cpu[\"multiply\"] = []\n",
        "\n",
        "for n in matrix_orders:\n",
        "    a = create_matrix_mx(n)\n",
        "    b = create_matrix_mx(n)\n",
        "\n",
        "    result = %timeit -o multiply_matrix_mx(a, b)\n",
        "    timings_mx_cpu[\"multiply\"].append(result.best)"
      ],
      "execution_count": null,
      "outputs": [
        {
          "output_type": "stream",
          "text": [
            "The slowest run took 5.97 times longer than the fastest. This could mean that an intermediate result is being cached.\n",
            "10000 loops, best of 5: 63 µs per loop\n",
            "10000 loops, best of 5: 62.1 µs per loop\n",
            "10000 loops, best of 5: 66.8 µs per loop\n",
            "10000 loops, best of 5: 86.6 µs per loop\n",
            "10000 loops, best of 5: 167 µs per loop\n",
            "100 loops, best of 5: 3.42 ms per loop\n",
            "10 loops, best of 5: 25.4 ms per loop\n",
            "1 loop, best of 5: 3.21 s per loop\n",
            "1 loop, best of 5: 25.9 s per loop\n"
          ],
          "name": "stdout"
        }
      ]
    },
    {
      "cell_type": "code",
      "metadata": {
        "id": "TepRQwJCLUyV",
        "colab": {
          "base_uri": "https://localhost:8080/"
        },
        "outputId": "04d65b22-0cda-4d07-9238-7c5241626cad"
      },
      "source": [
        "timings_mx_gpu[\"multiply\"] = []\n",
        "\n",
        "ctx = mx.gpu()\n",
        "for n in matrix_orders:\n",
        "    a = create_matrix_mx(n, ctx)\n",
        "    b = create_matrix_mx(n, ctx)\n",
        "\n",
        "    result = %timeit -o multiply_matrix_mx(a, b)\n",
        "    timings_mx_gpu[\"multiply\"].append(result.best)"
      ],
      "execution_count": null,
      "outputs": [
        {
          "output_type": "stream",
          "text": [
            "The slowest run took 4.25 times longer than the fastest. This could mean that an intermediate result is being cached.\n",
            "10000 loops, best of 5: 120 µs per loop\n",
            "10000 loops, best of 5: 123 µs per loop\n",
            "10000 loops, best of 5: 122 µs per loop\n",
            "10000 loops, best of 5: 127 µs per loop\n",
            "10000 loops, best of 5: 129 µs per loop\n",
            "1000 loops, best of 5: 246 µs per loop\n",
            "1000 loops, best of 5: 705 µs per loop\n",
            "10 loops, best of 5: 64.6 ms per loop\n",
            "1 loop, best of 5: 500 ms per loop\n"
          ],
          "name": "stdout"
        }
      ]
    },
    {
      "cell_type": "code",
      "metadata": {
        "colab": {
          "base_uri": "https://localhost:8080/",
          "height": 304
        },
        "id": "5a0d2Ej4ht17",
        "outputId": "ec38b498-601f-4018-af3a-14df5e815653"
      },
      "source": [
        "import matplotlib.pyplot as plt\n",
        "\n",
        "fig = plt.figure()\n",
        "plt.plot(matrix_orders, timings_np[\"create\"], color='red', marker='s')\n",
        "plt.plot(matrix_orders, timings_mx_cpu[\"create\"], color='blue', marker='o')\n",
        "plt.plot(matrix_orders, timings_mx_gpu[\"create\"], color='green', marker='^')\n",
        "plt.title(\"Matrix Creation Runtime\", fontsize=14)\n",
        "plt.xlabel(\"Matrix Order\", fontsize=14)\n",
        "plt.ylabel(\"Runtime (s)\", fontsize=14)\n",
        "plt.grid(True)\n",
        "ax = fig.gca()\n",
        "ax.set_xscale(\"log\")\n",
        "ax.set_yscale(\"log\")\n",
        "plt.legend([\"NumPy\", \"MXNet (CPU)\", \"MXNet (GPU)\"])\n",
        "plt.show()"
      ],
      "execution_count": null,
      "outputs": [
        {
          "output_type": "display_data",
          "data": {
            "image/png": "[encoded data removed]",
            "text/plain": [
              "<Figure size 432x288 with 1 Axes>"
            ]
          },
          "metadata": {
            "tags": [],
            "needs_background": "light"
          }
        }
      ]
    },
    {
      "cell_type": "code",
      "metadata": {
        "colab": {
          "base_uri": "https://localhost:8080/",
          "height": 304
        },
        "id": "5G0vDm1Bj1cl",
        "outputId": "8ca2aebc-d392-48db-d9fd-404181f60a6e"
      },
      "source": [
        "import matplotlib.pyplot as plt\n",
        "\n",
        "fig = plt.figure()\n",
        "plt.plot(matrix_orders, timings_np[\"multiply\"], color='red', marker='s')\n",
        "plt.plot(matrix_orders, timings_mx_cpu[\"multiply\"], color='blue', marker='o')\n",
        "plt.plot(matrix_orders, timings_mx_gpu[\"multiply\"], color='green', marker='^')\n",
        "plt.title(\"Matrix Multiplication Runtime\", fontsize=14)\n",
        "plt.xlabel(\"Matrix Order\", fontsize=14)\n",
        "plt.ylabel(\"Runtime (s)\", fontsize=14)\n",
        "plt.grid(True)\n",
        "ax = fig.gca()\n",
        "ax.set_xscale(\"log\")\n",
        "ax.set_yscale(\"log\")\n",
        "plt.legend([\"NumPy\", \"MXNet (CPU)\", \"MXNet (GPU)\"])\n",
        "plt.show()"
      ],
      "execution_count": null,
      "outputs": [
        {
          "output_type": "display_data",
          "data": {
            "image/png": "[encoded data removed]",
            "text/plain": [
              "<Figure size 432x288 with 1 Axes>"
            ]
          },
          "metadata": {
            "tags": [],
            "needs_background": "light"
          }
        }
      ]
    },
    {
      "cell_type": "code",
      "metadata": {
        "id": "Lq4Eb2JODkv3"
      },
      "source": [
        ""
      ],
      "execution_count": null,
      "outputs": []
    }
  ]
}