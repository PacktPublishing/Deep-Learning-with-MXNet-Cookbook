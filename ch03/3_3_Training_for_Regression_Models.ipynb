{
 "cells": [
  {
   "cell_type": "code",
   "execution_count": 1,
   "metadata": {
    "colab": {
     "base_uri": "https://localhost:8080/"
    },
    "id": "fMw2XAxVYNd-",
    "outputId": "5afe75fa-801e-42af-edb5-5c399ef27dd1",
    "scrolled": false
   },
   "outputs": [],
   "source": [
    "# Run the command below if necessary, for example with Google Colab\n",
    "#!pip3 install mxnet-cu110"
   ]
  },
  {
   "cell_type": "code",
   "execution_count": 2,
   "metadata": {
    "id": "lwPUiNAbTv39",
    "scrolled": false
   },
   "outputs": [],
   "source": [
    "# Global Libs\n",
    "import matplotlib.pyplot as plt\n",
    "import mxnet as mx\n",
    "import numpy as np\n",
    "import pandas as pd\n",
    "import pickle\n",
    "import random\n",
    "\n",
    "# Seeds for reproducibility\n",
    "mx.random.seed(1)\n",
    "np.random.seed(1)\n",
    "random.seed(1)\n",
    "\n",
    "# Feature Scaling\n",
    "from sklearn.preprocessing import StandardScaler\n",
    "\n",
    "# Local libs\n",
    "import model"
   ]
  },
  {
   "cell_type": "code",
   "execution_count": 3,
   "metadata": {
    "id": "5oaBcTfbTsDK",
    "scrolled": false
   },
   "outputs": [],
   "source": [
    "# Loading data\n",
    "full_house_df = pd.read_csv(\"kc_house_data.csv\")"
   ]
  },
  {
   "cell_type": "code",
   "execution_count": 4,
   "metadata": {
    "colab": {
     "base_uri": "https://localhost:8080/"
    },
    "id": "laSBKHf4aJUk",
    "outputId": "2641ed32-65b6-4a40-e538-ce958b4d4ede",
    "scrolled": false
   },
   "outputs": [
    {
     "name": "stdout",
     "output_type": "stream",
     "text": [
      "<class 'pandas.core.frame.DataFrame'>\n",
      "RangeIndex: 21613 entries, 0 to 21612\n",
      "Data columns (total 21 columns):\n",
      " #   Column         Non-Null Count  Dtype  \n",
      "---  ------         --------------  -----  \n",
      " 0   id             21613 non-null  int64  \n",
      " 1   date           21613 non-null  object \n",
      " 2   price          21613 non-null  float64\n",
      " 3   bedrooms       21613 non-null  int64  \n",
      " 4   bathrooms      21613 non-null  float64\n",
      " 5   sqft_living    21613 non-null  int64  \n",
      " 6   sqft_lot       21613 non-null  int64  \n",
      " 7   floors         21613 non-null  float64\n",
      " 8   waterfront     21613 non-null  int64  \n",
      " 9   view           21613 non-null  int64  \n",
      " 10  condition      21613 non-null  int64  \n",
      " 11  grade          21613 non-null  int64  \n",
      " 12  sqft_above     21613 non-null  int64  \n",
      " 13  sqft_basement  21613 non-null  int64  \n",
      " 14  yr_built       21613 non-null  int64  \n",
      " 15  yr_renovated   21613 non-null  int64  \n",
      " 16  zipcode        21613 non-null  int64  \n",
      " 17  lat            21613 non-null  float64\n",
      " 18  long           21613 non-null  float64\n",
      " 19  sqft_living15  21613 non-null  int64  \n",
      " 20  sqft_lot15     21613 non-null  int64  \n",
      "dtypes: float64(5), int64(15), object(1)\n",
      "memory usage: 3.5+ MB\n"
     ]
    }
   ],
   "source": [
    "full_house_df.info()"
   ]
  },
  {
   "cell_type": "code",
   "execution_count": 5,
   "metadata": {
    "id": "2LofYYgkxon4",
    "scrolled": false
   },
   "outputs": [],
   "source": [
    "# Working with all features\n",
    "#house_df = full_house_df[[\"price\", \"sqft_living\", \"bathrooms\", \"grade\"]]\n",
    "house_df = full_house_df.drop([\"date\", \"id\"], axis=1)"
   ]
  },
  {
   "cell_type": "code",
   "execution_count": 6,
   "metadata": {
    "id": "Iykxs3OZP2NJ",
    "scrolled": false
   },
   "outputs": [],
   "source": [
    "# Let's remove the outlier we found on recipe 2.1\n",
    "house_df.drop(15870, inplace=True)"
   ]
  },
  {
   "cell_type": "code",
   "execution_count": 7,
   "metadata": {
    "colab": {
     "base_uri": "https://localhost:8080/",
     "height": 224
    },
    "id": "6qC67qwL4vei",
    "outputId": "05157442-ac5c-4452-a24e-f4e2b254cb24",
    "scrolled": false
   },
   "outputs": [
    {
     "data": {
      "text/html": [
       "<div>\n",
       "<style scoped>\n",
       "    .dataframe tbody tr th:only-of-type {\n",
       "        vertical-align: middle;\n",
       "    }\n",
       "\n",
       "    .dataframe tbody tr th {\n",
       "        vertical-align: top;\n",
       "    }\n",
       "\n",
       "    .dataframe thead th {\n",
       "        text-align: right;\n",
       "    }\n",
       "</style>\n",
       "<table border=\"1\" class=\"dataframe\">\n",
       "  <thead>\n",
       "    <tr style=\"text-align: right;\">\n",
       "      <th></th>\n",
       "      <th>price</th>\n",
       "      <th>bedrooms</th>\n",
       "      <th>bathrooms</th>\n",
       "      <th>sqft_living</th>\n",
       "      <th>sqft_lot</th>\n",
       "      <th>floors</th>\n",
       "      <th>waterfront</th>\n",
       "      <th>view</th>\n",
       "      <th>condition</th>\n",
       "      <th>grade</th>\n",
       "      <th>sqft_above</th>\n",
       "      <th>sqft_basement</th>\n",
       "      <th>yr_built</th>\n",
       "      <th>yr_renovated</th>\n",
       "      <th>zipcode</th>\n",
       "      <th>lat</th>\n",
       "      <th>long</th>\n",
       "      <th>sqft_living15</th>\n",
       "      <th>sqft_lot15</th>\n",
       "    </tr>\n",
       "  </thead>\n",
       "  <tbody>\n",
       "    <tr>\n",
       "      <th>0</th>\n",
       "      <td>221900.0</td>\n",
       "      <td>3</td>\n",
       "      <td>1.00</td>\n",
       "      <td>1180</td>\n",
       "      <td>5650</td>\n",
       "      <td>1.0</td>\n",
       "      <td>0</td>\n",
       "      <td>0</td>\n",
       "      <td>3</td>\n",
       "      <td>7</td>\n",
       "      <td>1180</td>\n",
       "      <td>0</td>\n",
       "      <td>1955</td>\n",
       "      <td>0</td>\n",
       "      <td>98178</td>\n",
       "      <td>47.5112</td>\n",
       "      <td>-122.257</td>\n",
       "      <td>1340</td>\n",
       "      <td>5650</td>\n",
       "    </tr>\n",
       "    <tr>\n",
       "      <th>1</th>\n",
       "      <td>538000.0</td>\n",
       "      <td>3</td>\n",
       "      <td>2.25</td>\n",
       "      <td>2570</td>\n",
       "      <td>7242</td>\n",
       "      <td>2.0</td>\n",
       "      <td>0</td>\n",
       "      <td>0</td>\n",
       "      <td>3</td>\n",
       "      <td>7</td>\n",
       "      <td>2170</td>\n",
       "      <td>400</td>\n",
       "      <td>1951</td>\n",
       "      <td>1991</td>\n",
       "      <td>98125</td>\n",
       "      <td>47.7210</td>\n",
       "      <td>-122.319</td>\n",
       "      <td>1690</td>\n",
       "      <td>7639</td>\n",
       "    </tr>\n",
       "    <tr>\n",
       "      <th>2</th>\n",
       "      <td>180000.0</td>\n",
       "      <td>2</td>\n",
       "      <td>1.00</td>\n",
       "      <td>770</td>\n",
       "      <td>10000</td>\n",
       "      <td>1.0</td>\n",
       "      <td>0</td>\n",
       "      <td>0</td>\n",
       "      <td>3</td>\n",
       "      <td>6</td>\n",
       "      <td>770</td>\n",
       "      <td>0</td>\n",
       "      <td>1933</td>\n",
       "      <td>0</td>\n",
       "      <td>98028</td>\n",
       "      <td>47.7379</td>\n",
       "      <td>-122.233</td>\n",
       "      <td>2720</td>\n",
       "      <td>8062</td>\n",
       "    </tr>\n",
       "    <tr>\n",
       "      <th>3</th>\n",
       "      <td>604000.0</td>\n",
       "      <td>4</td>\n",
       "      <td>3.00</td>\n",
       "      <td>1960</td>\n",
       "      <td>5000</td>\n",
       "      <td>1.0</td>\n",
       "      <td>0</td>\n",
       "      <td>0</td>\n",
       "      <td>5</td>\n",
       "      <td>7</td>\n",
       "      <td>1050</td>\n",
       "      <td>910</td>\n",
       "      <td>1965</td>\n",
       "      <td>0</td>\n",
       "      <td>98136</td>\n",
       "      <td>47.5208</td>\n",
       "      <td>-122.393</td>\n",
       "      <td>1360</td>\n",
       "      <td>5000</td>\n",
       "    </tr>\n",
       "    <tr>\n",
       "      <th>4</th>\n",
       "      <td>510000.0</td>\n",
       "      <td>3</td>\n",
       "      <td>2.00</td>\n",
       "      <td>1680</td>\n",
       "      <td>8080</td>\n",
       "      <td>1.0</td>\n",
       "      <td>0</td>\n",
       "      <td>0</td>\n",
       "      <td>3</td>\n",
       "      <td>8</td>\n",
       "      <td>1680</td>\n",
       "      <td>0</td>\n",
       "      <td>1987</td>\n",
       "      <td>0</td>\n",
       "      <td>98074</td>\n",
       "      <td>47.6168</td>\n",
       "      <td>-122.045</td>\n",
       "      <td>1800</td>\n",
       "      <td>7503</td>\n",
       "    </tr>\n",
       "  </tbody>\n",
       "</table>\n",
       "</div>"
      ],
      "text/plain": [
       "      price  bedrooms  bathrooms  sqft_living  sqft_lot  floors  waterfront  \\\n",
       "0  221900.0         3       1.00         1180      5650     1.0           0   \n",
       "1  538000.0         3       2.25         2570      7242     2.0           0   \n",
       "2  180000.0         2       1.00          770     10000     1.0           0   \n",
       "3  604000.0         4       3.00         1960      5000     1.0           0   \n",
       "4  510000.0         3       2.00         1680      8080     1.0           0   \n",
       "\n",
       "   view  condition  grade  sqft_above  sqft_basement  yr_built  yr_renovated  \\\n",
       "0     0          3      7        1180              0      1955             0   \n",
       "1     0          3      7        2170            400      1951          1991   \n",
       "2     0          3      6         770              0      1933             0   \n",
       "3     0          5      7        1050            910      1965             0   \n",
       "4     0          3      8        1680              0      1987             0   \n",
       "\n",
       "   zipcode      lat     long  sqft_living15  sqft_lot15  \n",
       "0    98178  47.5112 -122.257           1340        5650  \n",
       "1    98125  47.7210 -122.319           1690        7639  \n",
       "2    98028  47.7379 -122.233           2720        8062  \n",
       "3    98136  47.5208 -122.393           1360        5000  \n",
       "4    98074  47.6168 -122.045           1800        7503  "
      ]
     },
     "execution_count": 7,
     "metadata": {},
     "output_type": "execute_result"
    }
   ],
   "source": [
    "house_df.head()"
   ]
  },
  {
   "cell_type": "code",
   "execution_count": 8,
   "metadata": {
    "id": "VN_PJ4sCABPZ",
    "scrolled": false
   },
   "outputs": [],
   "source": [
    "# Dataset Split 80/10/10\n",
    "from sklearn.model_selection import train_test_split\n",
    "\n",
    "full_train_df, test_df = train_test_split(house_df, test_size=0.2, random_state=42)\n",
    "\n",
    "# To match correctly  10% size, we use previous size as reference\n",
    "train_df, val_df = train_test_split(full_train_df, test_size=len(test_df), random_state=42)"
   ]
  },
  {
   "cell_type": "code",
   "execution_count": 9,
   "metadata": {
    "colab": {
     "base_uri": "https://localhost:8080/",
     "height": 308
    },
    "id": "BFlTTaypEa61",
    "outputId": "4b1257ae-268c-4876-d022-afadde2279e1",
    "scrolled": false
   },
   "outputs": [
    {
     "data": {
      "image/png": "[encoded data removed]",
      "text/plain": [
       "<Figure size 432x288 with 3 Axes>"
      ]
     },
     "metadata": {
      "needs_background": "light"
     },
     "output_type": "display_data"
    }
   ],
   "source": [
    "number_plots = 3\n",
    "# In this case, matplotlib parameter sharey would not set the right scale,\n",
    "# as validation and test sets are 8 time smaller\n",
    "fig, axs = plt.subplots(1, number_plots, sharex = True, sharey = False)\n",
    "\n",
    "train_df.hist(column = \"price\", bins = 24, ax = axs[0])\n",
    "val_df.hist(column = \"price\", bins = 24, ax = axs[1])\n",
    "test_df.hist(column = \"price\", bins = 24, ax = axs[2])\n",
    "fig.suptitle(\"Price Distribution for Training, Validation and Test sets\")\n",
    "for i in range(number_plots):\n",
    "    axs[i].set_title(None)\n",
    "    axs[i].set_xlabel(\"Price\")\n",
    "axs[0].set_ylabel(\"Number of Houses\")\n",
    "plt.show()"
   ]
  },
  {
   "cell_type": "code",
   "execution_count": 10,
   "metadata": {
    "colab": {
     "base_uri": "https://localhost:8080/",
     "height": 308
    },
    "id": "IecUiPBLGVz1",
    "outputId": "d7f26efe-752a-41d6-f21f-2a43ae080bb8",
    "scrolled": false
   },
   "outputs": [
    {
     "data": {
      "image/png": "[encoded data removed]",
      "text/plain": [
       "<Figure size 432x288 with 3 Axes>"
      ]
     },
     "metadata": {
      "needs_background": "light"
     },
     "output_type": "display_data"
    }
   ],
   "source": [
    "fig, axs = plt.subplots(1, number_plots, sharex = True, sharey = True)\n",
    "\n",
    "axs[0].scatter(train_df[\"sqft_living\"], train_df[\"price\"], alpha = 0.1)\n",
    "axs[1].scatter(val_df[\"sqft_living\"], val_df[\"price\"], alpha = 0.1)\n",
    "axs[2].scatter(test_df[\"sqft_living\"], test_df[\"price\"], alpha = 0.1)\n",
    "fig.suptitle(\"Living Sqft for Training, Validation and Test sets\")\n",
    "for i in range(number_plots):\n",
    "    axs[i].set_title(None)\n",
    "    axs[i].set_xlabel(\"Living Sqft\")\n",
    "axs[0].set_ylabel(\"Price\")\n",
    "plt.show()"
   ]
  },
  {
   "cell_type": "code",
   "execution_count": 11,
   "metadata": {
    "colab": {
     "base_uri": "https://localhost:8080/",
     "height": 308
    },
    "id": "j58QAoqNI-L-",
    "outputId": "4eaba94b-e653-4258-9520-a4b42e2f894f",
    "scrolled": false
   },
   "outputs": [
    {
     "data": {
      "image/png": "[encoded data removed]",
      "text/plain": [
       "<Figure size 432x288 with 3 Axes>"
      ]
     },
     "metadata": {
      "needs_background": "light"
     },
     "output_type": "display_data"
    }
   ],
   "source": [
    "fig, axs = plt.subplots(1, number_plots, sharex = True, sharey = True)\n",
    "\n",
    "axs[0].scatter(train_df[\"bathrooms\"], train_df[\"price\"], alpha = 0.1)\n",
    "axs[1].scatter(val_df[\"bathrooms\"], val_df[\"price\"], alpha = 0.1)\n",
    "axs[2].scatter(test_df[\"bathrooms\"], test_df[\"price\"], alpha = 0.1)\n",
    "fig.suptitle(\"Bathrooms for Training, Validation and Test sets\")\n",
    "for i in range(number_plots):\n",
    "    axs[i].set_title(None)\n",
    "    axs[i].set_xlabel(\"Number of Bathrooms\")\n",
    "axs[0].set_ylabel(\"Price\")\n",
    "plt.show()"
   ]
  },
  {
   "cell_type": "code",
   "execution_count": 12,
   "metadata": {
    "colab": {
     "base_uri": "https://localhost:8080/",
     "height": 308
    },
    "id": "BqHwJrBtKn8h",
    "outputId": "30b4d082-7547-4381-b497-d159f7919273",
    "scrolled": false
   },
   "outputs": [
    {
     "data": {
      "image/png": "[encoded data removed]",
      "text/plain": [
       "<Figure size 432x288 with 3 Axes>"
      ]
     },
     "metadata": {
      "needs_background": "light"
     },
     "output_type": "display_data"
    }
   ],
   "source": [
    "fig, axs = plt.subplots(1, number_plots, sharex = True, sharey = True)\n",
    "\n",
    "axs[0].scatter(train_df[\"grade\"], train_df[\"price\"], alpha = 0.1)\n",
    "axs[1].scatter(val_df[\"grade\"], val_df[\"price\"], alpha = 0.1)\n",
    "axs[2].scatter(test_df[\"grade\"], test_df[\"price\"], alpha = 0.1)\n",
    "fig.suptitle(\"Bathrooms for Training, Validation and Test sets\")\n",
    "for i in range(number_plots):\n",
    "    axs[i].set_title(None)\n",
    "    axs[i].set_xlabel(\"Grade\")\n",
    "axs[0].set_ylabel(\"Price\")\n",
    "plt.show()"
   ]
  },
  {
   "cell_type": "code",
   "execution_count": 13,
   "metadata": {
    "colab": {
     "base_uri": "https://localhost:8080/"
    },
    "id": "bAQQkIOkK4LH",
    "outputId": "7d282e7f-1956-4359-d15b-27ca1485ece3",
    "scrolled": false
   },
   "outputs": [
    {
     "name": "stdout",
     "output_type": "stream",
     "text": [
      "Price Range: 75000.0 7700000.0\n",
      "Living Sqft Range: 290 13540\n",
      "Number of Bathrooms Range: 0.0 8.0\n",
      "Grade Range: 1 13\n"
     ]
    }
   ],
   "source": [
    "print(\"Price Range:\", house_df[\"price\"].min(), house_df[\"price\"].max())\n",
    "print(\"Living Sqft Range:\", house_df[\"sqft_living\"].min(), house_df[\"sqft_living\"].max())\n",
    "print(\"Number of Bathrooms Range:\", house_df[\"bathrooms\"].min(), house_df[\"bathrooms\"].max())\n",
    "print(\"Grade Range:\", house_df[\"grade\"].min(), house_df[\"grade\"].max())"
   ]
  },
  {
   "cell_type": "code",
   "execution_count": 14,
   "metadata": {
    "id": "mx1YdV2fK7l1",
    "scrolled": false
   },
   "outputs": [],
   "source": [
    "# Data Preprocessing Training set\n",
    "# 2 Steps:\n",
    "\n",
    "# Step 1: One-hot encoding for Grade\n",
    "# Grade goes from 1 to 13\n",
    "grades_list = list(map(str, range(1, 14)))\n",
    "\n",
    "grade_onehot_train_df_aux = pd.get_dummies(train_df.grade, prefix='', prefix_sep='')\n",
    "grade_onehot_val_df_aux = pd.get_dummies(val_df.grade, prefix='', prefix_sep='')\n",
    "grade_onehot_test_df_aux = pd.get_dummies(test_df.grade, prefix='', prefix_sep='')\n",
    "\n",
    "# Not all grade values might be present in the data, so we must fill those values with 0\n",
    "grade_onehot_train_df = grade_onehot_train_df_aux.T.reindex(grades_list).T.fillna(0).astype(dtype=np.float32)\n",
    "grade_onehot_val_df = grade_onehot_val_df_aux.T.reindex(grades_list).T.fillna(0).astype(dtype=np.float32)\n",
    "grade_onehot_test_df = grade_onehot_test_df_aux.T.reindex(grades_list).T.fillna(0).astype(dtype=np.float32)\n",
    "\n",
    "# These one-hot values/columns will be added to the input data after scaling the other variables"
   ]
  },
  {
   "cell_type": "code",
   "execution_count": 15,
   "metadata": {
    "scrolled": false
   },
   "outputs": [],
   "source": [
    "# Grade not needed anymore\n",
    "train_df = train_df.drop([\"grade\"], axis=1)\n",
    "val_df = val_df.drop([\"grade\"], axis=1)\n",
    "test_df = test_df.drop([\"grade\"], axis=1)\n",
    "\n",
    "# Grade feature now is stored in 13 columns"
   ]
  },
  {
   "cell_type": "code",
   "execution_count": 16,
   "metadata": {
    "scrolled": false
   },
   "outputs": [],
   "source": [
    "def scale_features(features, sc = None):\n",
    "    \"\"\"\n",
    "    Applies Standard Scaling to X, y\n",
    "    returns scaled version of X,y\n",
    "    \"\"\"\n",
    "    if not sc:\n",
    "        sc = StandardScaler()\n",
    "    scaled_features = sc.fit_transform(features)\n",
    "    return scaled_features, sc"
   ]
  },
  {
   "cell_type": "code",
   "execution_count": 17,
   "metadata": {
    "id": "1M-BnzEjowsi",
    "scrolled": false
   },
   "outputs": [],
   "source": [
    "# Data Preprocessing Training set\n",
    "\n",
    "# Step 2: Feature Scaling for Training, Validation and Testing\n",
    "train_df_no_price = train_df.drop([\"price\"], axis=1)\n",
    "val_df_no_price = val_df.drop([\"price\"], axis=1)\n",
    "test_df_no_price = test_df.drop([\"price\"], axis=1)\n",
    "\n",
    "X_train = np.array(train_df_no_price.to_numpy(), dtype=np.float32)\n",
    "y_train = np.array(train_df[\"price\"].to_numpy().reshape(-1,1), dtype=np.float32)\n",
    "X_val   = np.array(val_df.drop([\"price\"], axis=1).to_numpy(), dtype=np.float32)\n",
    "y_val   = np.array(val_df[\"price\"].to_numpy().reshape(-1,1), dtype=np.float32)\n",
    "X_test  = np.array(test_df.drop([\"price\"], axis=1).to_numpy(), dtype=np.float32)\n",
    "y_test  = np.array(test_df[\"price\"].to_numpy().reshape(-1,1), dtype=np.float32)\n",
    "\n",
    "scaled_X_train, sc_X = scale_features(X_train)\n",
    "scaled_y_train, sc_y = scale_features(y_train)\n",
    "scaled_X_val, _ = scale_features(X_val, sc_X)\n",
    "scaled_y_val, _ = scale_features(y_val, sc_y)\n",
    "scaled_X_test, _ = scale_features(X_test, sc_X)\n",
    "scaled_y_test, _ = scale_features(y_test, sc_y)"
   ]
  },
  {
   "cell_type": "code",
   "execution_count": 18,
   "metadata": {
    "scrolled": false
   },
   "outputs": [],
   "source": [
    "# Add One-Hot Encoding fields (no scaling for these)\n",
    "scaled_X_train_df = pd.DataFrame(scaled_X_train, index=train_df_no_price.index, columns=train_df_no_price.columns)\n",
    "scaled_X_val_df = pd.DataFrame(scaled_X_val, index=val_df_no_price.index, columns=val_df_no_price.columns)\n",
    "scaled_X_test_df = pd.DataFrame(scaled_X_test, index=test_df_no_price.index, columns=test_df_no_price.columns)\n",
    "\n",
    "scaled_X_train_onehot_df = pd.concat([scaled_X_train_df, grade_onehot_train_df], axis=1)\n",
    "scaled_X_val_onehot_df = pd.concat([scaled_X_val_df, grade_onehot_val_df], axis=1)\n",
    "scaled_X_test_onehot_df = pd.concat([scaled_X_test_df, grade_onehot_test_df], axis=1)"
   ]
  },
  {
   "cell_type": "code",
   "execution_count": 19,
   "metadata": {
    "scrolled": false
   },
   "outputs": [
    {
     "data": {
      "text/html": [
       "<div>\n",
       "<style scoped>\n",
       "    .dataframe tbody tr th:only-of-type {\n",
       "        vertical-align: middle;\n",
       "    }\n",
       "\n",
       "    .dataframe tbody tr th {\n",
       "        vertical-align: top;\n",
       "    }\n",
       "\n",
       "    .dataframe thead th {\n",
       "        text-align: right;\n",
       "    }\n",
       "</style>\n",
       "<table border=\"1\" class=\"dataframe\">\n",
       "  <thead>\n",
       "    <tr style=\"text-align: right;\">\n",
       "      <th></th>\n",
       "      <th>bedrooms</th>\n",
       "      <th>bathrooms</th>\n",
       "      <th>sqft_living</th>\n",
       "      <th>sqft_lot</th>\n",
       "      <th>floors</th>\n",
       "      <th>waterfront</th>\n",
       "      <th>view</th>\n",
       "      <th>condition</th>\n",
       "      <th>sqft_above</th>\n",
       "      <th>sqft_basement</th>\n",
       "      <th>...</th>\n",
       "      <th>4</th>\n",
       "      <th>5</th>\n",
       "      <th>6</th>\n",
       "      <th>7</th>\n",
       "      <th>8</th>\n",
       "      <th>9</th>\n",
       "      <th>10</th>\n",
       "      <th>11</th>\n",
       "      <th>12</th>\n",
       "      <th>13</th>\n",
       "    </tr>\n",
       "  </thead>\n",
       "  <tbody>\n",
       "    <tr>\n",
       "      <th>295</th>\n",
       "      <td>0.700497</td>\n",
       "      <td>0.498111</td>\n",
       "      <td>1.400390</td>\n",
       "      <td>0.167790</td>\n",
       "      <td>0.918016</td>\n",
       "      <td>-0.086819</td>\n",
       "      <td>-0.307305</td>\n",
       "      <td>-0.621478</td>\n",
       "      <td>1.905406</td>\n",
       "      <td>-0.655384</td>\n",
       "      <td>...</td>\n",
       "      <td>0.0</td>\n",
       "      <td>0.0</td>\n",
       "      <td>0.0</td>\n",
       "      <td>0.0</td>\n",
       "      <td>0.0</td>\n",
       "      <td>0.0</td>\n",
       "      <td>1.0</td>\n",
       "      <td>0.0</td>\n",
       "      <td>0.0</td>\n",
       "      <td>0.0</td>\n",
       "    </tr>\n",
       "    <tr>\n",
       "      <th>3086</th>\n",
       "      <td>-1.527280</td>\n",
       "      <td>-1.454672</td>\n",
       "      <td>-1.050993</td>\n",
       "      <td>-0.238216</td>\n",
       "      <td>-0.923555</td>\n",
       "      <td>-0.086819</td>\n",
       "      <td>-0.307305</td>\n",
       "      <td>-0.621478</td>\n",
       "      <td>-1.019159</td>\n",
       "      <td>-0.271886</td>\n",
       "      <td>...</td>\n",
       "      <td>0.0</td>\n",
       "      <td>0.0</td>\n",
       "      <td>0.0</td>\n",
       "      <td>1.0</td>\n",
       "      <td>0.0</td>\n",
       "      <td>0.0</td>\n",
       "      <td>0.0</td>\n",
       "      <td>0.0</td>\n",
       "      <td>0.0</td>\n",
       "      <td>0.0</td>\n",
       "    </tr>\n",
       "    <tr>\n",
       "      <th>6962</th>\n",
       "      <td>-0.413391</td>\n",
       "      <td>1.474502</td>\n",
       "      <td>1.761531</td>\n",
       "      <td>-0.191261</td>\n",
       "      <td>0.918016</td>\n",
       "      <td>-0.086819</td>\n",
       "      <td>-0.307305</td>\n",
       "      <td>-0.621478</td>\n",
       "      <td>2.305865</td>\n",
       "      <td>-0.655384</td>\n",
       "      <td>...</td>\n",
       "      <td>0.0</td>\n",
       "      <td>0.0</td>\n",
       "      <td>0.0</td>\n",
       "      <td>0.0</td>\n",
       "      <td>0.0</td>\n",
       "      <td>0.0</td>\n",
       "      <td>0.0</td>\n",
       "      <td>1.0</td>\n",
       "      <td>0.0</td>\n",
       "      <td>0.0</td>\n",
       "    </tr>\n",
       "    <tr>\n",
       "      <th>4249</th>\n",
       "      <td>0.700497</td>\n",
       "      <td>0.823574</td>\n",
       "      <td>1.214347</td>\n",
       "      <td>-0.234412</td>\n",
       "      <td>0.918016</td>\n",
       "      <td>-0.086819</td>\n",
       "      <td>-0.307305</td>\n",
       "      <td>-0.621478</td>\n",
       "      <td>1.699109</td>\n",
       "      <td>-0.655384</td>\n",
       "      <td>...</td>\n",
       "      <td>0.0</td>\n",
       "      <td>0.0</td>\n",
       "      <td>0.0</td>\n",
       "      <td>0.0</td>\n",
       "      <td>0.0</td>\n",
       "      <td>1.0</td>\n",
       "      <td>0.0</td>\n",
       "      <td>0.0</td>\n",
       "      <td>0.0</td>\n",
       "      <td>0.0</td>\n",
       "    </tr>\n",
       "    <tr>\n",
       "      <th>8903</th>\n",
       "      <td>0.700497</td>\n",
       "      <td>0.498111</td>\n",
       "      <td>0.853206</td>\n",
       "      <td>-0.230366</td>\n",
       "      <td>0.918016</td>\n",
       "      <td>-0.086819</td>\n",
       "      <td>-0.307305</td>\n",
       "      <td>-0.621478</td>\n",
       "      <td>1.298650</td>\n",
       "      <td>-0.655384</td>\n",
       "      <td>...</td>\n",
       "      <td>0.0</td>\n",
       "      <td>0.0</td>\n",
       "      <td>0.0</td>\n",
       "      <td>0.0</td>\n",
       "      <td>1.0</td>\n",
       "      <td>0.0</td>\n",
       "      <td>0.0</td>\n",
       "      <td>0.0</td>\n",
       "      <td>0.0</td>\n",
       "      <td>0.0</td>\n",
       "    </tr>\n",
       "  </tbody>\n",
       "</table>\n",
       "<p>5 rows × 30 columns</p>\n",
       "</div>"
      ],
      "text/plain": [
       "      bedrooms  bathrooms  sqft_living  sqft_lot    floors  waterfront  \\\n",
       "295   0.700497   0.498111     1.400390  0.167790  0.918016   -0.086819   \n",
       "3086 -1.527280  -1.454672    -1.050993 -0.238216 -0.923555   -0.086819   \n",
       "6962 -0.413391   1.474502     1.761531 -0.191261  0.918016   -0.086819   \n",
       "4249  0.700497   0.823574     1.214347 -0.234412  0.918016   -0.086819   \n",
       "8903  0.700497   0.498111     0.853206 -0.230366  0.918016   -0.086819   \n",
       "\n",
       "          view  condition  sqft_above  sqft_basement  ...    4    5    6    7  \\\n",
       "295  -0.307305  -0.621478    1.905406      -0.655384  ...  0.0  0.0  0.0  0.0   \n",
       "3086 -0.307305  -0.621478   -1.019159      -0.271886  ...  0.0  0.0  0.0  1.0   \n",
       "6962 -0.307305  -0.621478    2.305865      -0.655384  ...  0.0  0.0  0.0  0.0   \n",
       "4249 -0.307305  -0.621478    1.699109      -0.655384  ...  0.0  0.0  0.0  0.0   \n",
       "8903 -0.307305  -0.621478    1.298650      -0.655384  ...  0.0  0.0  0.0  0.0   \n",
       "\n",
       "        8    9   10   11   12   13  \n",
       "295   0.0  0.0  1.0  0.0  0.0  0.0  \n",
       "3086  0.0  0.0  0.0  0.0  0.0  0.0  \n",
       "6962  0.0  0.0  0.0  1.0  0.0  0.0  \n",
       "4249  0.0  1.0  0.0  0.0  0.0  0.0  \n",
       "8903  1.0  0.0  0.0  0.0  0.0  0.0  \n",
       "\n",
       "[5 rows x 30 columns]"
      ]
     },
     "execution_count": 19,
     "metadata": {},
     "output_type": "execute_result"
    }
   ],
   "source": [
    "scaled_X_train_onehot_df.head()"
   ]
  },
  {
   "cell_type": "code",
   "execution_count": 20,
   "metadata": {},
   "outputs": [],
   "source": [
    "# Saving data to analyse further\n",
    "with open(\"data.pkl\", \"wb\") as f:\n",
    "    pickle.dump([X_train, y_train, X_val, y_val, X_test, y_test], f)\n",
    "\n",
    "with open(\"scaled_data.pkl\", \"wb\") as f:\n",
    "    pickle.dump([scaled_X_train_onehot_df, scaled_X_val_onehot_df, scaled_X_test_onehot_df, sc_X,\n",
    "                 scaled_y_train, scaled_y_val, scaled_y_test, sc_y], f)"
   ]
  },
  {
   "cell_type": "code",
   "execution_count": 21,
   "metadata": {
    "scrolled": false
   },
   "outputs": [],
   "source": [
    "# Prepare datasets to work with DataLoader\n",
    "training_set = mx.gluon.data.dataset.ArrayDataset(scaled_X_train_onehot_df.to_numpy(), scaled_y_train)\n",
    "validation_set = mx.gluon.data.dataset.ArrayDataset(scaled_X_val_onehot_df.to_numpy(), scaled_y_val)\n",
    "test_set = mx.gluon.data.dataset.ArrayDataset(scaled_X_test_onehot_df.to_numpy(), scaled_y_test)\n",
    "\n",
    "scaled_example_input = mx.nd.array([scaled_X_train_onehot_df.values[0]])\n",
    "\n",
    "# training_set = mx.gluon.data.dataset.ArrayDataset(scaled_X_train, scaled_y_train)\n",
    "# validation_set = mx.gluon.data.dataset.ArrayDataset(scaled_X_val, scaled_y_val)\n",
    "# test_set = mx.gluon.data.dataset.ArrayDataset(scaled_X_test, scaled_y_test)\n",
    "\n",
    "# scaled_example_input = mx.nd.array([scaled_X_train[0]])"
   ]
  },
  {
   "cell_type": "code",
   "execution_count": 22,
   "metadata": {
    "id": "Q1ax628cgEyg",
    "scrolled": false
   },
   "outputs": [],
   "source": [
    "net = model.create_regression_network()"
   ]
  },
  {
   "cell_type": "code",
   "execution_count": 23,
   "metadata": {
    "scrolled": false
   },
   "outputs": [
    {
     "name": "stderr",
     "output_type": "stream",
     "text": [
      "[03:52:42] ../src/base.cc:80: cuDNN lib mismatch: linked-against version 8101 != compiled-against version 8100.  Set MXNET_CUDNN_LIB_CHECKING=0 to quiet this warning.\n"
     ]
    }
   ],
   "source": [
    "# Initialization\n",
    "\n",
    "# We need to set the context of the data, GPU in this case\n",
    "# Swap comments in the next 2 lines for CPU\n",
    "ctx = mx.gpu()\n",
    "# ctx = mx.cpu()\n",
    "\n",
    "net.collect_params().initialize(mx.init.MSRAPrelu(), ctx=ctx, force_reinit=True)"
   ]
  },
  {
   "cell_type": "code",
   "execution_count": 24,
   "metadata": {
    "scrolled": false
   },
   "outputs": [
    {
     "name": "stdout",
     "output_type": "stream",
     "text": [
      "--------------------------------------------------------------------------------\n",
      "        Layer (type)                                Output Shape         Param #\n",
      "================================================================================\n",
      "               Input                                     (1, 30)               0\n",
      "             Dense-1                                    (1, 128)            3968\n",
      "         BatchNorm-2                                    (1, 128)             512\n",
      "        Activation-3                                    (1, 128)               0\n",
      "           Dropout-4                                    (1, 128)               0\n",
      "             Dense-5                                   (1, 1024)          132096\n",
      "         BatchNorm-6                                   (1, 1024)            4096\n",
      "        Activation-7                                   (1, 1024)               0\n",
      "           Dropout-8                                   (1, 1024)               0\n",
      "             Dense-9                                    (1, 128)          131200\n",
      "        BatchNorm-10                                    (1, 128)             512\n",
      "       Activation-11                                    (1, 128)               0\n",
      "          Dropout-12                                    (1, 128)               0\n",
      "            Dense-13                                      (1, 1)             129\n",
      "================================================================================\n",
      "Parameters in forward computation graph, duplicate included\n",
      "   Total params: 272513\n",
      "   Trainable params: 269953\n",
      "   Non-trainable params: 2560\n",
      "Shared params in forward computation graph: 0\n",
      "Unique parameters in model: 272513\n",
      "--------------------------------------------------------------------------------\n"
     ]
    }
   ],
   "source": [
    "# Calculate number of trainable parameters\n",
    "net.summary(scaled_example_input.as_in_context(ctx))"
   ]
  },
  {
   "cell_type": "code",
   "execution_count": 25,
   "metadata": {
    "id": "nBliaa1riUf0",
    "scrolled": false
   },
   "outputs": [],
   "source": [
    "# Training Loop, saving best model\n",
    "model_file_name = \"net.params\"\n",
    "\n",
    "def training_loop(loss_fn, trainer, epochs, batch_size, training_set, validation_set, ctx = mx.gpu()):\n",
    "    min_val_loss = float(\"inf\")\n",
    "    \n",
    "    # Returned values (use-case: plotting losses)\n",
    "    training_loss, validation_loss = [], []\n",
    "    \n",
    "    # Iterator for Gluon data access\n",
    "    training_data_iterator = mx.gluon.data.DataLoader(training_set, batch_size=batch_size, shuffle=True)\n",
    "    validation_data_iterator = mx.gluon.data.DataLoader(validation_set, batch_size=batch_size, shuffle=False)\n",
    "    \n",
    "    num_training_batches = len(training_set) / batch_size\n",
    "    num_validation_batches = len(validation_set) / batch_size\n",
    "\n",
    "    for e in range(epochs):\n",
    "                \n",
    "        cumulative_loss = 0\n",
    "        # inner loop\n",
    "        for data, label in training_data_iterator:\n",
    "            data = data.as_in_context(ctx)\n",
    "            label = label.as_in_context(ctx)\n",
    "            with mx.autograd.record():\n",
    "                output = net(data)\n",
    "                loss = loss_fn(output, label)\n",
    "            loss.backward()\n",
    "            trainer.step(batch_size)\n",
    "            current_loss = mx.nd.mean(loss).asscalar()\n",
    "            cumulative_loss += current_loss / num_training_batches\n",
    "        \n",
    "        # Validation Loss\n",
    "        cumulative_val_loss = 0\n",
    "        for data, label in validation_data_iterator:\n",
    "            data = data.as_in_context(ctx)\n",
    "            label = label.as_in_context(ctx)\n",
    "            output = net(data)\n",
    "            val_loss = loss_fn(output, label)\n",
    "            current_val_loss = mx.nd.mean(val_loss).asscalar()\n",
    "            cumulative_val_loss += current_val_loss / num_validation_batches\n",
    "            \n",
    "        added_info = \"\"\n",
    "        if cumulative_val_loss < min_val_loss:\n",
    "            added_info = \" --- Updating saved model\"\n",
    "            min_val_loss = cumulative_val_loss\n",
    "            net.save_parameters(model_file_name)\n",
    "            \n",
    "        desc = f\"E: {e:4d}, TrL: {cumulative_loss:8.6f}, VL: {cumulative_val_loss:8.6f}\" + added_info\n",
    "        print(desc)\n",
    "        \n",
    "        # Saving loss values\n",
    "        training_loss.append(cumulative_loss)\n",
    "        validation_loss.append(cumulative_val_loss)\n",
    "        \n",
    "    return training_loss, validation_loss"
   ]
  },
  {
   "cell_type": "code",
   "execution_count": 26,
   "metadata": {
    "colab": {
     "base_uri": "https://localhost:8080/"
    },
    "id": "F-Oxk0f5jGf1",
    "outputId": "5fdcf575-c360-4e52-955e-5866d2bb27cd",
    "scrolled": true
   },
   "outputs": [
    {
     "name": "stdout",
     "output_type": "stream",
     "text": [
      "E:    0, TrL: 0.216299, VL: 0.105190 --- Updating saved model\n",
      "E:    1, TrL: 0.114229, VL: 0.087984 --- Updating saved model\n",
      "E:    2, TrL: 0.106613, VL: 0.091095\n",
      "E:    3, TrL: 0.097475, VL: 0.073358 --- Updating saved model\n",
      "E:    4, TrL: 0.095682, VL: 0.095781\n",
      "E:    5, TrL: 0.094447, VL: 0.073520\n",
      "E:    6, TrL: 0.088221, VL: 0.072670 --- Updating saved model\n",
      "E:    7, TrL: 0.086486, VL: 0.064848 --- Updating saved model\n",
      "E:    8, TrL: 0.086593, VL: 0.063994 --- Updating saved model\n",
      "E:    9, TrL: 0.084193, VL: 0.081723\n",
      "E:   10, TrL: 0.083392, VL: 0.081826\n",
      "E:   11, TrL: 0.085619, VL: 0.065957\n",
      "E:   12, TrL: 0.083586, VL: 0.061370 --- Updating saved model\n",
      "E:   13, TrL: 0.078926, VL: 0.063318\n",
      "E:   14, TrL: 0.084643, VL: 0.062237\n",
      "E:   15, TrL: 0.080406, VL: 0.066720\n",
      "E:   16, TrL: 0.077671, VL: 0.092025\n",
      "E:   17, TrL: 0.079065, VL: 0.062259\n",
      "E:   18, TrL: 0.075309, VL: 0.060337 --- Updating saved model\n",
      "E:   19, TrL: 0.073488, VL: 0.057444 --- Updating saved model\n",
      "E:   20, TrL: 0.074976, VL: 0.063040\n",
      "E:   21, TrL: 0.073711, VL: 0.064794\n",
      "E:   22, TrL: 0.075384, VL: 0.072185\n",
      "E:   23, TrL: 0.073066, VL: 0.059715\n",
      "E:   24, TrL: 0.074281, VL: 0.058936\n",
      "E:   25, TrL: 0.071981, VL: 0.058159\n",
      "E:   26, TrL: 0.072249, VL: 0.063877\n",
      "E:   27, TrL: 0.073320, VL: 0.076505\n",
      "E:   28, TrL: 0.071308, VL: 0.062848\n",
      "E:   29, TrL: 0.073431, VL: 0.058066\n",
      "E:   30, TrL: 0.071897, VL: 0.068149\n",
      "E:   31, TrL: 0.072718, VL: 0.064413\n",
      "E:   32, TrL: 0.075935, VL: 0.060878\n",
      "E:   33, TrL: 0.072598, VL: 0.059031\n",
      "E:   34, TrL: 0.071040, VL: 0.062101\n",
      "E:   35, TrL: 0.069606, VL: 0.056390 --- Updating saved model\n",
      "E:   36, TrL: 0.069655, VL: 0.062937\n",
      "E:   37, TrL: 0.070429, VL: 0.054631 --- Updating saved model\n",
      "E:   38, TrL: 0.071691, VL: 0.065079\n",
      "E:   39, TrL: 0.069270, VL: 0.061135\n",
      "E:   40, TrL: 0.073569, VL: 0.065285\n",
      "E:   41, TrL: 0.073758, VL: 0.063150\n",
      "E:   42, TrL: 0.072005, VL: 0.058218\n",
      "E:   43, TrL: 0.070212, VL: 0.058572\n",
      "E:   44, TrL: 0.070118, VL: 0.058473\n",
      "E:   45, TrL: 0.070495, VL: 0.074738\n",
      "E:   46, TrL: 0.069987, VL: 0.064082\n",
      "E:   47, TrL: 0.068189, VL: 0.061376\n",
      "E:   48, TrL: 0.070684, VL: 0.055269\n",
      "E:   49, TrL: 0.069195, VL: 0.058325\n",
      "E:   50, TrL: 0.067888, VL: 0.060269\n",
      "E:   51, TrL: 0.068590, VL: 0.058398\n",
      "E:   52, TrL: 0.069374, VL: 0.057508\n",
      "E:   53, TrL: 0.066458, VL: 0.065560\n",
      "E:   54, TrL: 0.068519, VL: 0.063957\n",
      "E:   55, TrL: 0.071169, VL: 0.057796\n",
      "E:   56, TrL: 0.066269, VL: 0.060113\n",
      "E:   57, TrL: 0.069054, VL: 0.054502 --- Updating saved model\n",
      "E:   58, TrL: 0.065915, VL: 0.059916\n",
      "E:   59, TrL: 0.067409, VL: 0.061951\n",
      "E:   60, TrL: 0.067600, VL: 0.060786\n",
      "E:   61, TrL: 0.066202, VL: 0.054787\n",
      "E:   62, TrL: 0.068624, VL: 0.066391\n",
      "E:   63, TrL: 0.066326, VL: 0.073789\n",
      "E:   64, TrL: 0.064658, VL: 0.052466 --- Updating saved model\n",
      "E:   65, TrL: 0.064762, VL: 0.053389\n",
      "E:   66, TrL: 0.069433, VL: 0.055919\n",
      "E:   67, TrL: 0.067005, VL: 0.054598\n",
      "E:   68, TrL: 0.066529, VL: 0.054448\n",
      "E:   69, TrL: 0.067031, VL: 0.051512 --- Updating saved model\n",
      "E:   70, TrL: 0.061980, VL: 0.052779\n",
      "E:   71, TrL: 0.064806, VL: 0.061064\n",
      "E:   72, TrL: 0.068644, VL: 0.074479\n",
      "E:   73, TrL: 0.067914, VL: 0.071089\n",
      "E:   74, TrL: 0.062484, VL: 0.058629\n",
      "E:   75, TrL: 0.062409, VL: 0.059704\n",
      "E:   76, TrL: 0.064707, VL: 0.060343\n",
      "E:   77, TrL: 0.064537, VL: 0.055997\n",
      "E:   78, TrL: 0.064403, VL: 0.054731\n",
      "E:   79, TrL: 0.065475, VL: 0.054536\n",
      "E:   80, TrL: 0.066189, VL: 0.053364\n",
      "E:   81, TrL: 0.067312, VL: 0.072062\n",
      "E:   82, TrL: 0.064150, VL: 0.063455\n",
      "E:   83, TrL: 0.067342, VL: 0.062526\n",
      "E:   84, TrL: 0.063298, VL: 0.055641\n",
      "E:   85, TrL: 0.071246, VL: 0.056285\n",
      "E:   86, TrL: 0.067946, VL: 0.055146\n",
      "E:   87, TrL: 0.066583, VL: 0.065440\n",
      "E:   88, TrL: 0.065157, VL: 0.051909\n",
      "E:   89, TrL: 0.063362, VL: 0.058382\n",
      "E:   90, TrL: 0.062991, VL: 0.061009\n",
      "E:   91, TrL: 0.061336, VL: 0.057842\n",
      "E:   92, TrL: 0.063952, VL: 0.052312\n",
      "E:   93, TrL: 0.062912, VL: 0.056960\n",
      "E:   94, TrL: 0.063202, VL: 0.054498\n",
      "E:   95, TrL: 0.065451, VL: 0.057543\n",
      "E:   96, TrL: 0.064491, VL: 0.061149\n",
      "E:   97, TrL: 0.061253, VL: 0.075612\n",
      "E:   98, TrL: 0.062619, VL: 0.052321\n",
      "E:   99, TrL: 0.064859, VL: 0.069082\n",
      "E:  100, TrL: 0.067216, VL: 0.066702\n",
      "E:  101, TrL: 0.061837, VL: 0.056486\n",
      "E:  102, TrL: 0.064851, VL: 0.053601\n",
      "E:  103, TrL: 0.063791, VL: 0.061350\n",
      "E:  104, TrL: 0.066557, VL: 0.062553\n",
      "E:  105, TrL: 0.064700, VL: 0.058782\n",
      "E:  106, TrL: 0.060465, VL: 0.058328\n",
      "E:  107, TrL: 0.063086, VL: 0.063850\n",
      "E:  108, TrL: 0.063130, VL: 0.056596\n",
      "E:  109, TrL: 0.064709, VL: 0.060259\n",
      "E:  110, TrL: 0.061714, VL: 0.054255\n",
      "E:  111, TrL: 0.062747, VL: 0.054015\n",
      "E:  112, TrL: 0.063493, VL: 0.056634\n",
      "E:  113, TrL: 0.060409, VL: 0.060101\n",
      "E:  114, TrL: 0.062352, VL: 0.066229\n",
      "E:  115, TrL: 0.064932, VL: 0.058567\n",
      "E:  116, TrL: 0.060930, VL: 0.055926\n",
      "E:  117, TrL: 0.061785, VL: 0.066638\n",
      "E:  118, TrL: 0.061152, VL: 0.051879\n",
      "E:  119, TrL: 0.061195, VL: 0.059654\n",
      "E:  120, TrL: 0.062517, VL: 0.053890\n",
      "E:  121, TrL: 0.064336, VL: 0.069348\n",
      "E:  122, TrL: 0.063307, VL: 0.067507\n",
      "E:  123, TrL: 0.062528, VL: 0.059475\n",
      "E:  124, TrL: 0.064088, VL: 0.052217\n",
      "E:  125, TrL: 0.062593, VL: 0.072805\n",
      "E:  126, TrL: 0.063016, VL: 0.052819\n",
      "E:  127, TrL: 0.060871, VL: 0.055918\n",
      "E:  128, TrL: 0.060788, VL: 0.057737\n",
      "E:  129, TrL: 0.061319, VL: 0.068341\n",
      "E:  130, TrL: 0.062824, VL: 0.056363\n",
      "E:  131, TrL: 0.061841, VL: 0.065526\n",
      "E:  132, TrL: 0.061134, VL: 0.054382\n",
      "E:  133, TrL: 0.064274, VL: 0.055112\n",
      "E:  134, TrL: 0.060970, VL: 0.054103\n",
      "E:  135, TrL: 0.058201, VL: 0.059942\n",
      "E:  136, TrL: 0.060538, VL: 0.058246\n",
      "E:  137, TrL: 0.060940, VL: 0.053427\n",
      "E:  138, TrL: 0.066262, VL: 0.052002\n",
      "E:  139, TrL: 0.057781, VL: 0.059798\n",
      "E:  140, TrL: 0.061775, VL: 0.053029\n",
      "E:  141, TrL: 0.061326, VL: 0.055040\n",
      "E:  142, TrL: 0.059491, VL: 0.053178\n",
      "E:  143, TrL: 0.062025, VL: 0.061984\n",
      "E:  144, TrL: 0.062997, VL: 0.059948\n",
      "E:  145, TrL: 0.063523, VL: 0.077052\n",
      "E:  146, TrL: 0.059826, VL: 0.053892\n",
      "E:  147, TrL: 0.061839, VL: 0.072692\n",
      "E:  148, TrL: 0.059771, VL: 0.052819\n",
      "E:  149, TrL: 0.062224, VL: 0.052914\n",
      "E:  150, TrL: 0.060653, VL: 0.059473\n",
      "E:  151, TrL: 0.059960, VL: 0.055691\n",
      "E:  152, TrL: 0.061071, VL: 0.059323\n",
      "E:  153, TrL: 0.059837, VL: 0.052283\n",
      "E:  154, TrL: 0.063387, VL: 0.056069\n",
      "E:  155, TrL: 0.059460, VL: 0.059802\n",
      "E:  156, TrL: 0.057699, VL: 0.061790\n",
      "E:  157, TrL: 0.061830, VL: 0.057717\n",
      "E:  158, TrL: 0.063311, VL: 0.059692\n",
      "E:  159, TrL: 0.058798, VL: 0.059394\n",
      "E:  160, TrL: 0.060605, VL: 0.053572\n",
      "E:  161, TrL: 0.061237, VL: 0.055582\n",
      "E:  162, TrL: 0.061781, VL: 0.055681\n",
      "E:  163, TrL: 0.059537, VL: 0.055585\n",
      "E:  164, TrL: 0.061638, VL: 0.063619\n",
      "E:  165, TrL: 0.060828, VL: 0.058454\n",
      "E:  166, TrL: 0.059256, VL: 0.058184\n",
      "E:  167, TrL: 0.060657, VL: 0.067744\n",
      "E:  168, TrL: 0.060659, VL: 0.058081\n",
      "E:  169, TrL: 0.059656, VL: 0.058948\n",
      "E:  170, TrL: 0.057988, VL: 0.052073\n",
      "E:  171, TrL: 0.059720, VL: 0.055316\n",
      "E:  172, TrL: 0.058925, VL: 0.051606\n",
      "E:  173, TrL: 0.062069, VL: 0.067151\n",
      "E:  174, TrL: 0.059520, VL: 0.063146\n",
      "E:  175, TrL: 0.059813, VL: 0.058899\n",
      "E:  176, TrL: 0.057019, VL: 0.057804\n",
      "E:  177, TrL: 0.059512, VL: 0.055417\n",
      "E:  178, TrL: 0.060091, VL: 0.056600\n",
      "E:  179, TrL: 0.059112, VL: 0.058946\n",
      "E:  180, TrL: 0.058816, VL: 0.058428\n",
      "E:  181, TrL: 0.060741, VL: 0.056347\n",
      "E:  182, TrL: 0.061760, VL: 0.056107\n",
      "E:  183, TrL: 0.058209, VL: 0.054034\n",
      "E:  184, TrL: 0.059309, VL: 0.054832\n",
      "E:  185, TrL: 0.059819, VL: 0.058996\n",
      "E:  186, TrL: 0.059990, VL: 0.053486\n",
      "E:  187, TrL: 0.057216, VL: 0.061776\n",
      "E:  188, TrL: 0.059234, VL: 0.053211\n",
      "E:  189, TrL: 0.061543, VL: 0.063123\n",
      "E:  190, TrL: 0.060211, VL: 0.062869\n",
      "E:  191, TrL: 0.058964, VL: 0.055350\n",
      "E:  192, TrL: 0.058421, VL: 0.063377\n",
      "E:  193, TrL: 0.059000, VL: 0.053336\n",
      "E:  194, TrL: 0.056833, VL: 0.060441\n",
      "E:  195, TrL: 0.059955, VL: 0.058353\n",
      "E:  196, TrL: 0.059519, VL: 0.053708\n",
      "E:  197, TrL: 0.060155, VL: 0.053436\n",
      "E:  198, TrL: 0.057958, VL: 0.057475\n",
      "E:  199, TrL: 0.058119, VL: 0.059574\n"
     ]
    }
   ],
   "source": [
    "# Define Loss Function\n",
    "loss_fn = mx.gluon.loss.HuberLoss()\n",
    "#loss_fn = mx.gluon.loss.L1Loss()\n",
    "#loss_fn = mx.gluon.loss.L2Loss()\n",
    "\n",
    "# Define Optimizer and Hyper Parameters\n",
    "trainer = mx.gluon.Trainer(net.collect_params(), \"adam\", {\"learning_rate\": 0.01})\n",
    "#trainer = mx.gluon.Trainer(net.collect_params(), \"sgd\", {\"learning_rate\": 0.001})\n",
    "\n",
    "# Epochs & Batch Size\n",
    "# Optimal values: \"adam\", lr: 0.01, 100 epochs, batch size 128\n",
    "epochs = 200\n",
    "batch_size = 128\n",
    "\n",
    "net.collect_params().initialize(mx.init.MSRAPrelu(), ctx=ctx, force_reinit=True)\n",
    "\n",
    "training_loss, validation_loss = training_loop(loss_fn, trainer, epochs, batch_size, training_set, validation_set, ctx)"
   ]
  },
  {
   "cell_type": "code",
   "execution_count": 77,
   "metadata": {},
   "outputs": [],
   "source": [
    "# Saving losses to analyse further\n",
    "with open(\"losses.pkl\", \"wb\") as f:\n",
    "    pickle.dump([training_loss, validation_loss], f)"
   ]
  }
 ],
 "metadata": {
  "accelerator": "GPU",
  "colab": {
   "name": "DL with MXNet Cookbook 3.3 Training for Regression Models",
   "provenance": []
  },
  "kernelspec": {
   "display_name": "Python 3 (ipykernel)",
   "language": "python",
   "name": "python3"
  },
  "language_info": {
   "codemirror_mode": {
    "name": "ipython",
    "version": 3
   },
   "file_extension": ".py",
   "mimetype": "text/x-python",
   "name": "python",
   "nbconvert_exporter": "python",
   "pygments_lexer": "ipython3",
   "version": "3.8.10"
  }
 },
 "nbformat": 4,
 "nbformat_minor": 1
}
