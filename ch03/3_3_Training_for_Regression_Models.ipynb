{
 "cells": [
  {
   "cell_type": "code",
   "execution_count": 1,
   "metadata": {
    "colab": {
     "base_uri": "https://localhost:8080/"
    },
    "id": "fMw2XAxVYNd-",
    "outputId": "5afe75fa-801e-42af-edb5-5c399ef27dd1"
   },
   "outputs": [],
   "source": [
    "# Run the command below if necessary, for example with Google Colab\n",
    "#!pip3 install mxnet-cu110"
   ]
  },
  {
   "cell_type": "code",
   "execution_count": 1,
   "metadata": {
    "id": "lwPUiNAbTv39"
   },
   "outputs": [],
   "source": [
    "import matplotlib.pyplot as plt\n",
    "import mxnet as mx\n",
    "mx.random.seed(1)\n",
    "import numpy as np\n",
    "import pandas as pd\n",
    "\n",
    "# Progress bar\n",
    "from tqdm.notebook import tqdm\n",
    "\n",
    "# Feature Scaling\n",
    "from sklearn.preprocessing import StandardScaler"
   ]
  },
  {
   "cell_type": "code",
   "execution_count": 2,
   "metadata": {
    "id": "5oaBcTfbTsDK"
   },
   "outputs": [],
   "source": [
    "# Loading data\n",
    "full_house_df = pd.read_csv(\"kc_house_data.csv\")"
   ]
  },
  {
   "cell_type": "code",
   "execution_count": 3,
   "metadata": {
    "colab": {
     "base_uri": "https://localhost:8080/"
    },
    "id": "laSBKHf4aJUk",
    "outputId": "2641ed32-65b6-4a40-e538-ce958b4d4ede"
   },
   "outputs": [
    {
     "name": "stdout",
     "output_type": "stream",
     "text": [
      "<class 'pandas.core.frame.DataFrame'>\n",
      "RangeIndex: 21613 entries, 0 to 21612\n",
      "Data columns (total 21 columns):\n",
      " #   Column         Non-Null Count  Dtype  \n",
      "---  ------         --------------  -----  \n",
      " 0   id             21613 non-null  int64  \n",
      " 1   date           21613 non-null  object \n",
      " 2   price          21613 non-null  float64\n",
      " 3   bedrooms       21613 non-null  int64  \n",
      " 4   bathrooms      21613 non-null  float64\n",
      " 5   sqft_living    21613 non-null  int64  \n",
      " 6   sqft_lot       21613 non-null  int64  \n",
      " 7   floors         21613 non-null  float64\n",
      " 8   waterfront     21613 non-null  int64  \n",
      " 9   view           21613 non-null  int64  \n",
      " 10  condition      21613 non-null  int64  \n",
      " 11  grade          21613 non-null  int64  \n",
      " 12  sqft_above     21613 non-null  int64  \n",
      " 13  sqft_basement  21613 non-null  int64  \n",
      " 14  yr_built       21613 non-null  int64  \n",
      " 15  yr_renovated   21613 non-null  int64  \n",
      " 16  zipcode        21613 non-null  int64  \n",
      " 17  lat            21613 non-null  float64\n",
      " 18  long           21613 non-null  float64\n",
      " 19  sqft_living15  21613 non-null  int64  \n",
      " 20  sqft_lot15     21613 non-null  int64  \n",
      "dtypes: float64(5), int64(15), object(1)\n",
      "memory usage: 3.5+ MB\n"
     ]
    }
   ],
   "source": [
    "full_house_df.info()"
   ]
  },
  {
   "cell_type": "code",
   "execution_count": 4,
   "metadata": {
    "id": "2LofYYgkxon4"
   },
   "outputs": [],
   "source": [
    "# Only interested in teh features: living square feet, bathrooms and grade, and the output (price)\n",
    "#house_df = full_house_df[[\"price\", \"sqft_living\", \"bathrooms\", \"grade\"]]\n",
    "house_df = full_house_df.drop([\"date\"], axis=1)"
   ]
  },
  {
   "cell_type": "code",
   "execution_count": 5,
   "metadata": {
    "id": "Iykxs3OZP2NJ"
   },
   "outputs": [],
   "source": [
    "# Let's remove the outlier we found on recipe 2.1\n",
    "house_df.drop(15870, inplace=True)"
   ]
  },
  {
   "cell_type": "code",
   "execution_count": 6,
   "metadata": {
    "colab": {
     "base_uri": "https://localhost:8080/",
     "height": 224
    },
    "id": "6qC67qwL4vei",
    "outputId": "05157442-ac5c-4452-a24e-f4e2b254cb24"
   },
   "outputs": [
    {
     "data": {
      "text/html": [
       "<div>\n",
       "<style scoped>\n",
       "    .dataframe tbody tr th:only-of-type {\n",
       "        vertical-align: middle;\n",
       "    }\n",
       "\n",
       "    .dataframe tbody tr th {\n",
       "        vertical-align: top;\n",
       "    }\n",
       "\n",
       "    .dataframe thead th {\n",
       "        text-align: right;\n",
       "    }\n",
       "</style>\n",
       "<table border=\"1\" class=\"dataframe\">\n",
       "  <thead>\n",
       "    <tr style=\"text-align: right;\">\n",
       "      <th></th>\n",
       "      <th>id</th>\n",
       "      <th>price</th>\n",
       "      <th>bedrooms</th>\n",
       "      <th>bathrooms</th>\n",
       "      <th>sqft_living</th>\n",
       "      <th>sqft_lot</th>\n",
       "      <th>floors</th>\n",
       "      <th>waterfront</th>\n",
       "      <th>view</th>\n",
       "      <th>condition</th>\n",
       "      <th>grade</th>\n",
       "      <th>sqft_above</th>\n",
       "      <th>sqft_basement</th>\n",
       "      <th>yr_built</th>\n",
       "      <th>yr_renovated</th>\n",
       "      <th>zipcode</th>\n",
       "      <th>lat</th>\n",
       "      <th>long</th>\n",
       "      <th>sqft_living15</th>\n",
       "      <th>sqft_lot15</th>\n",
       "    </tr>\n",
       "  </thead>\n",
       "  <tbody>\n",
       "    <tr>\n",
       "      <th>0</th>\n",
       "      <td>7129300520</td>\n",
       "      <td>221900.0</td>\n",
       "      <td>3</td>\n",
       "      <td>1.00</td>\n",
       "      <td>1180</td>\n",
       "      <td>5650</td>\n",
       "      <td>1.0</td>\n",
       "      <td>0</td>\n",
       "      <td>0</td>\n",
       "      <td>3</td>\n",
       "      <td>7</td>\n",
       "      <td>1180</td>\n",
       "      <td>0</td>\n",
       "      <td>1955</td>\n",
       "      <td>0</td>\n",
       "      <td>98178</td>\n",
       "      <td>47.5112</td>\n",
       "      <td>-122.257</td>\n",
       "      <td>1340</td>\n",
       "      <td>5650</td>\n",
       "    </tr>\n",
       "    <tr>\n",
       "      <th>1</th>\n",
       "      <td>6414100192</td>\n",
       "      <td>538000.0</td>\n",
       "      <td>3</td>\n",
       "      <td>2.25</td>\n",
       "      <td>2570</td>\n",
       "      <td>7242</td>\n",
       "      <td>2.0</td>\n",
       "      <td>0</td>\n",
       "      <td>0</td>\n",
       "      <td>3</td>\n",
       "      <td>7</td>\n",
       "      <td>2170</td>\n",
       "      <td>400</td>\n",
       "      <td>1951</td>\n",
       "      <td>1991</td>\n",
       "      <td>98125</td>\n",
       "      <td>47.7210</td>\n",
       "      <td>-122.319</td>\n",
       "      <td>1690</td>\n",
       "      <td>7639</td>\n",
       "    </tr>\n",
       "    <tr>\n",
       "      <th>2</th>\n",
       "      <td>5631500400</td>\n",
       "      <td>180000.0</td>\n",
       "      <td>2</td>\n",
       "      <td>1.00</td>\n",
       "      <td>770</td>\n",
       "      <td>10000</td>\n",
       "      <td>1.0</td>\n",
       "      <td>0</td>\n",
       "      <td>0</td>\n",
       "      <td>3</td>\n",
       "      <td>6</td>\n",
       "      <td>770</td>\n",
       "      <td>0</td>\n",
       "      <td>1933</td>\n",
       "      <td>0</td>\n",
       "      <td>98028</td>\n",
       "      <td>47.7379</td>\n",
       "      <td>-122.233</td>\n",
       "      <td>2720</td>\n",
       "      <td>8062</td>\n",
       "    </tr>\n",
       "    <tr>\n",
       "      <th>3</th>\n",
       "      <td>2487200875</td>\n",
       "      <td>604000.0</td>\n",
       "      <td>4</td>\n",
       "      <td>3.00</td>\n",
       "      <td>1960</td>\n",
       "      <td>5000</td>\n",
       "      <td>1.0</td>\n",
       "      <td>0</td>\n",
       "      <td>0</td>\n",
       "      <td>5</td>\n",
       "      <td>7</td>\n",
       "      <td>1050</td>\n",
       "      <td>910</td>\n",
       "      <td>1965</td>\n",
       "      <td>0</td>\n",
       "      <td>98136</td>\n",
       "      <td>47.5208</td>\n",
       "      <td>-122.393</td>\n",
       "      <td>1360</td>\n",
       "      <td>5000</td>\n",
       "    </tr>\n",
       "    <tr>\n",
       "      <th>4</th>\n",
       "      <td>1954400510</td>\n",
       "      <td>510000.0</td>\n",
       "      <td>3</td>\n",
       "      <td>2.00</td>\n",
       "      <td>1680</td>\n",
       "      <td>8080</td>\n",
       "      <td>1.0</td>\n",
       "      <td>0</td>\n",
       "      <td>0</td>\n",
       "      <td>3</td>\n",
       "      <td>8</td>\n",
       "      <td>1680</td>\n",
       "      <td>0</td>\n",
       "      <td>1987</td>\n",
       "      <td>0</td>\n",
       "      <td>98074</td>\n",
       "      <td>47.6168</td>\n",
       "      <td>-122.045</td>\n",
       "      <td>1800</td>\n",
       "      <td>7503</td>\n",
       "    </tr>\n",
       "  </tbody>\n",
       "</table>\n",
       "</div>"
      ],
      "text/plain": [
       "           id     price  bedrooms  bathrooms  sqft_living  sqft_lot  floors  \\\n",
       "0  7129300520  221900.0         3       1.00         1180      5650     1.0   \n",
       "1  6414100192  538000.0         3       2.25         2570      7242     2.0   \n",
       "2  5631500400  180000.0         2       1.00          770     10000     1.0   \n",
       "3  2487200875  604000.0         4       3.00         1960      5000     1.0   \n",
       "4  1954400510  510000.0         3       2.00         1680      8080     1.0   \n",
       "\n",
       "   waterfront  view  condition  grade  sqft_above  sqft_basement  yr_built  \\\n",
       "0           0     0          3      7        1180              0      1955   \n",
       "1           0     0          3      7        2170            400      1951   \n",
       "2           0     0          3      6         770              0      1933   \n",
       "3           0     0          5      7        1050            910      1965   \n",
       "4           0     0          3      8        1680              0      1987   \n",
       "\n",
       "   yr_renovated  zipcode      lat     long  sqft_living15  sqft_lot15  \n",
       "0             0    98178  47.5112 -122.257           1340        5650  \n",
       "1          1991    98125  47.7210 -122.319           1690        7639  \n",
       "2             0    98028  47.7379 -122.233           2720        8062  \n",
       "3             0    98136  47.5208 -122.393           1360        5000  \n",
       "4             0    98074  47.6168 -122.045           1800        7503  "
      ]
     },
     "execution_count": 6,
     "metadata": {},
     "output_type": "execute_result"
    }
   ],
   "source": [
    "house_df.head()"
   ]
  },
  {
   "cell_type": "code",
   "execution_count": 7,
   "metadata": {
    "id": "VN_PJ4sCABPZ"
   },
   "outputs": [],
   "source": [
    "# Dataset Split 80/10/10\n",
    "from sklearn.model_selection import train_test_split\n",
    "\n",
    "full_train_df, test_df = train_test_split(house_df, test_size=0.05, random_state=42)\n",
    "\n",
    "# To match correctly  10% size, we use previous size as reference\n",
    "train_df, val_df = train_test_split(full_train_df, test_size=len(test_df), random_state=42)"
   ]
  },
  {
   "cell_type": "code",
   "execution_count": 8,
   "metadata": {
    "id": "mx1YdV2fK7l1"
   },
   "outputs": [],
   "source": [
    "# One-hot encoding (will be added after scaling)\n",
    "# Grade goes from 1 to 13\n",
    "grades_list = list(map(str, range(1, 14)))\n",
    "\n",
    "grade_onehot_train_df = pd.get_dummies(train_df.grade, prefix='', prefix_sep='')\n",
    "grade_onehot_val_df = pd.get_dummies(val_df.grade, prefix='', prefix_sep='')\n",
    "grade_onehot_test_df = pd.get_dummies(test_df.grade, prefix='', prefix_sep='')\n",
    "\n",
    "# Not all grade values might be present in the data, so we must fill those values with 0\n",
    "grade_onehot_train_df = grade_onehot_train_df.T.reindex(grades_list).T.fillna(0).astype(dtype=np.float32)\n",
    "grade_onehot_val_df = grade_onehot_val_df.T.reindex(grades_list).T.fillna(0).astype(dtype=np.float32)\n",
    "grade_onehot_test_df = grade_onehot_test_df.T.reindex(grades_list).T.fillna(0).astype(dtype=np.float32)"
   ]
  },
  {
   "cell_type": "code",
   "execution_count": 9,
   "metadata": {
    "colab": {
     "base_uri": "https://localhost:8080/",
     "height": 308
    },
    "id": "BFlTTaypEa61",
    "outputId": "4b1257ae-268c-4876-d022-afadde2279e1"
   },
   "outputs": [
    {
     "data": {
      "image/png": "[encoded data removed]",
      "text/plain": [
       "<Figure size 432x288 with 3 Axes>"
      ]
     },
     "metadata": {
      "needs_background": "light"
     },
     "output_type": "display_data"
    }
   ],
   "source": [
    "number_plots = 3\n",
    "# In this case, sharey would not set the right scale,\n",
    "# as validation and test sets are 8 time smaller\n",
    "fig, axs = plt.subplots(1, number_plots, sharex = True, sharey = False)\n",
    "\n",
    "train_df.hist(column = \"price\", bins = 24, ax = axs[0])\n",
    "val_df.hist(column = \"price\", bins = 24, ax = axs[1])\n",
    "test_df.hist(column = \"price\", bins = 24, ax = axs[2])\n",
    "fig.suptitle(\"Price Distribution for Training, Validation and Test sets\")\n",
    "for i in range(number_plots):\n",
    "    axs[i].set_title(None)\n",
    "    axs[i].set_xlabel(\"Price\")\n",
    "axs[0].set_ylabel(\"Number of Houses\")\n",
    "plt.show()"
   ]
  },
  {
   "cell_type": "code",
   "execution_count": 10,
   "metadata": {
    "colab": {
     "base_uri": "https://localhost:8080/",
     "height": 308
    },
    "id": "IecUiPBLGVz1",
    "outputId": "d7f26efe-752a-41d6-f21f-2a43ae080bb8"
   },
   "outputs": [
    {
     "data": {
      "image/png": "[encoded data removed]",
      "text/plain": [
       "<Figure size 432x288 with 3 Axes>"
      ]
     },
     "metadata": {
      "needs_background": "light"
     },
     "output_type": "display_data"
    }
   ],
   "source": [
    "fig, axs = plt.subplots(1, number_plots, sharex = True, sharey = True)\n",
    "\n",
    "axs[0].scatter(train_df[\"sqft_living\"], train_df[\"price\"], alpha = 0.1)\n",
    "axs[1].scatter(val_df[\"sqft_living\"], val_df[\"price\"], alpha = 0.1)\n",
    "axs[2].scatter(test_df[\"sqft_living\"], test_df[\"price\"], alpha = 0.1)\n",
    "fig.suptitle(\"Living Sqft for Training, Validation and Test sets\")\n",
    "for i in range(number_plots):\n",
    "    axs[i].set_title(None)\n",
    "    axs[i].set_xlabel(\"Living Sqft\")\n",
    "axs[0].set_ylabel(\"Price\")\n",
    "plt.show()"
   ]
  },
  {
   "cell_type": "code",
   "execution_count": 11,
   "metadata": {
    "colab": {
     "base_uri": "https://localhost:8080/",
     "height": 308
    },
    "id": "j58QAoqNI-L-",
    "outputId": "4eaba94b-e653-4258-9520-a4b42e2f894f"
   },
   "outputs": [
    {
     "data": {
      "image/png": "[encoded data removed]",
      "text/plain": [
       "<Figure size 432x288 with 3 Axes>"
      ]
     },
     "metadata": {
      "needs_background": "light"
     },
     "output_type": "display_data"
    }
   ],
   "source": [
    "fig, axs = plt.subplots(1, number_plots, sharex = True, sharey = True)\n",
    "\n",
    "axs[0].scatter(train_df[\"bathrooms\"], train_df[\"price\"], alpha = 0.1)\n",
    "axs[1].scatter(val_df[\"bathrooms\"], val_df[\"price\"], alpha = 0.1)\n",
    "axs[2].scatter(test_df[\"bathrooms\"], test_df[\"price\"], alpha = 0.1)\n",
    "fig.suptitle(\"Bathrooms for Training, Validation and Test sets\")\n",
    "for i in range(number_plots):\n",
    "    axs[i].set_title(None)\n",
    "    axs[i].set_xlabel(\"Number of Bathrooms\")\n",
    "axs[0].set_ylabel(\"Price\")\n",
    "plt.show()"
   ]
  },
  {
   "cell_type": "code",
   "execution_count": 12,
   "metadata": {
    "colab": {
     "base_uri": "https://localhost:8080/",
     "height": 308
    },
    "id": "BqHwJrBtKn8h",
    "outputId": "30b4d082-7547-4381-b497-d159f7919273"
   },
   "outputs": [
    {
     "data": {
      "image/png": "[encoded data removed]",
      "text/plain": [
       "<Figure size 432x288 with 3 Axes>"
      ]
     },
     "metadata": {
      "needs_background": "light"
     },
     "output_type": "display_data"
    }
   ],
   "source": [
    "fig, axs = plt.subplots(1, number_plots, sharex = True, sharey = True)\n",
    "\n",
    "axs[0].scatter(train_df[\"grade\"], train_df[\"price\"], alpha = 0.1)\n",
    "axs[1].scatter(val_df[\"grade\"], val_df[\"price\"], alpha = 0.1)\n",
    "axs[2].scatter(test_df[\"grade\"], test_df[\"price\"], alpha = 0.1)\n",
    "fig.suptitle(\"Bathrooms for Training, Validation and Test sets\")\n",
    "for i in range(number_plots):\n",
    "    axs[i].set_title(None)\n",
    "    axs[i].set_xlabel(\"Grade\")\n",
    "axs[0].set_ylabel(\"Price\")\n",
    "plt.show()"
   ]
  },
  {
   "cell_type": "code",
   "execution_count": 13,
   "metadata": {
    "colab": {
     "base_uri": "https://localhost:8080/"
    },
    "id": "bAQQkIOkK4LH",
    "outputId": "7d282e7f-1956-4359-d15b-27ca1485ece3"
   },
   "outputs": [
    {
     "name": "stdout",
     "output_type": "stream",
     "text": [
      "Price Range: 75000.0 7700000.0\n",
      "Living Sqft Range: 290 13540\n",
      "Number of Bathrooms Range: 0.0 8.0\n",
      "Grade Range: 1 13\n"
     ]
    }
   ],
   "source": [
    "print(\"Price Range:\", house_df[\"price\"].min(), house_df[\"price\"].max())\n",
    "print(\"Living Sqft Range:\", house_df[\"sqft_living\"].min(), house_df[\"sqft_living\"].max())\n",
    "print(\"Number of Bathrooms Range:\", house_df[\"bathrooms\"].min(), house_df[\"bathrooms\"].max())\n",
    "print(\"Grade Range:\", house_df[\"grade\"].min(), house_df[\"grade\"].max())"
   ]
  },
  {
   "cell_type": "code",
   "execution_count": 14,
   "metadata": {},
   "outputs": [],
   "source": [
    "# Grade not needed anymore\n",
    "train_df = train_df.drop([\"grade\"], axis=1)\n",
    "val_df = val_df.drop([\"grade\"], axis=1)\n",
    "test_df = test_df.drop([\"grade\"], axis=1)"
   ]
  },
  {
   "cell_type": "code",
   "execution_count": 15,
   "metadata": {},
   "outputs": [],
   "source": [
    "def scale_features(X, y):\n",
    "    \"\"\"\n",
    "    Applies Standard Scaling to X, y\n",
    "    returns scaled version of X,y\n",
    "    \"\"\"\n",
    "    sc_X = StandardScaler()\n",
    "    scaled_X = sc_X.fit_transform(X)\n",
    "    sc_y = StandardScaler()\n",
    "    scaled_y = sc_y.fit_transform(y)\n",
    "    return scaled_X, scaled_y"
   ]
  },
  {
   "cell_type": "code",
   "execution_count": 16,
   "metadata": {
    "id": "1M-BnzEjowsi"
   },
   "outputs": [],
   "source": [
    "# Data Preprocessing Training set\n",
    "\n",
    "# Feature Scaling for Training, Validation and Testing\n",
    "train_df_no_price = train_df.drop([\"price\"], axis=1)\n",
    "val_df_no_price = val_df.drop([\"price\"], axis=1)\n",
    "test_df_no_price = test_df.drop([\"price\"], axis=1)\n",
    "\n",
    "X_train = np.array(train_df_no_price.to_numpy(), dtype=np.float32)\n",
    "y_train = np.array(train_df[\"price\"].to_numpy().reshape(-1,1), dtype=np.float32)\n",
    "X_val   = np.array(val_df.drop([\"price\"], axis=1).to_numpy(), dtype=np.float32)\n",
    "y_val   = np.array(val_df[\"price\"].to_numpy().reshape(-1,1), dtype=np.float32)\n",
    "X_test  = np.array(test_df.drop([\"price\"], axis=1).to_numpy(), dtype=np.float32)\n",
    "y_test  = np.array(test_df[\"price\"].to_numpy().reshape(-1,1), dtype=np.float32)\n",
    "\n",
    "scaled_X_train, scaled_y_train = scale_features(X_train, y_train)\n",
    "scaled_X_val, scaled_y_val = scale_features(X_val, y_val)\n",
    "scaled_X_test, scaled_y_test = scale_features(X_test, y_test)"
   ]
  },
  {
   "cell_type": "code",
   "execution_count": 17,
   "metadata": {},
   "outputs": [],
   "source": [
    "# Add One-Hot Encoding fields (no scaling for these)\n",
    "scaled_X_train_df = pd.DataFrame(scaled_X_train, index=train_df_no_price.index, columns=train_df_no_price.columns)\n",
    "scaled_X_val_df = pd.DataFrame(scaled_X_val, index=val_df_no_price.index, columns=val_df_no_price.columns)\n",
    "scaled_X_test_df = pd.DataFrame(scaled_X_test, index=test_df_no_price.index, columns=test_df_no_price.columns)\n",
    "\n",
    "scaled_X_train_onehot_df = pd.concat([scaled_X_train_df, grade_onehot_train_df], axis=1)\n",
    "scaled_X_val_onehot_df = pd.concat([scaled_X_val_df, grade_onehot_val_df], axis=1)\n",
    "scaled_X_test_onehot_df = pd.concat([scaled_X_test_df, grade_onehot_test_df], axis=1)"
   ]
  },
  {
   "cell_type": "code",
   "execution_count": 18,
   "metadata": {},
   "outputs": [],
   "source": [
    "# Prepare datasets to work with DataLoader\n",
    "training_set = mx.gluon.data.dataset.ArrayDataset(scaled_X_train_onehot_df.to_numpy(), scaled_y_train)\n",
    "validation_set = mx.gluon.data.dataset.ArrayDataset(scaled_X_val_onehot_df.to_numpy(), scaled_y_val)\n",
    "test_set = mx.gluon.data.dataset.ArrayDataset(scaled_X_test_onehot_df.to_numpy(), scaled_y_test)\n",
    "\n",
    "#training_set = mx.gluon.data.dataset.ArrayDataset(scaled_X_train, scaled_y_train)\n",
    "#validation_set = mx.gluon.data.dataset.ArrayDataset(scaled_X_val, scaled_y_val)\n",
    "#test_set = mx.gluon.data.dataset.ArrayDataset(scaled_X_test, scaled_y_test)"
   ]
  },
  {
   "cell_type": "code",
   "execution_count": 19,
   "metadata": {
    "id": "Q1ax628cgEyg"
   },
   "outputs": [],
   "source": [
    "# Perceptron Model (this time using Gluon)\n",
    "# See Recipe 2.1\n",
    "number_of_features = 14\n",
    "\n",
    "# Perceptron with 14 inputs and 1 output as described in recipe 3.1\n",
    "#net = mx.gluon.nn.Dense(1, in_units=number_of_features)\n",
    "net = mx.gluon.nn.Sequential()\n",
    "#net.add(mx.gluon.nn.Dense(1024, activation=\"relu\"))\n",
    "net.add(mx.gluon.nn.Dense(128, activation=\"relu\"))\n",
    "net.add(mx.gluon.nn.Dropout(.5))\n",
    "#net.add(mx.gluon.nn.Dense(2048, activation=\"relu\"))\n",
    "#net.add(mx.gluon.nn.Dropout(.5))\n",
    "#net.add(mx.gluon.nn.Dense(2048, activation=\"relu\"))\n",
    "#net.add(mx.gluon.nn.Dropout(.5))\n",
    "net.add(mx.gluon.nn.Dense(1024, activation=\"relu\"))\n",
    "net.add(mx.gluon.nn.Dropout(.5))\n",
    "net.add(mx.gluon.nn.Dense(128, activation=\"relu\"))\n",
    "net.add(mx.gluon.nn.Dropout(.5))\n",
    "net.add(mx.gluon.nn.Dense(1))"
   ]
  },
  {
   "cell_type": "code",
   "execution_count": 20,
   "metadata": {
    "id": "nBliaa1riUf0"
   },
   "outputs": [],
   "source": [
    "# Training Loop \n",
    "def training_loop(loss_fn, trainer, epochs, batch_size, training_set, validation_set, test_set, ctx = mx.gpu()):\n",
    "    loss_sequence = []\n",
    "    min_val_loss = float(\"inf\")\n",
    "    \n",
    "    # Model file name\n",
    "    file_name = \"net.params\"\n",
    "    \n",
    "    # Iterator for Gluon data access\n",
    "    training_data_iterator = mx.gluon.data.DataLoader(training_set, batch_size=batch_size, shuffle=True)\n",
    "    validation_data_iterator = mx.gluon.data.DataLoader(validation_set, batch_size=batch_size, shuffle=True)\n",
    "    test_data_iterator = mx.gluon.data.DataLoader(test_set, batch_size=batch_size, shuffle=False)\n",
    "    \n",
    "    num_training_batches = len(training_set) / batch_size\n",
    "    num_validation_batches = len(validation_set) / batch_size\n",
    "    num_test_batches = len(test_set) / batch_size\n",
    "\n",
    "    #progress_bar = tqdm(range(epochs))\n",
    "    #for e in progress_bar:\n",
    "    for e in tqdm(range(epochs)):\n",
    "                \n",
    "        cumulative_loss = 0\n",
    "        # inner loop\n",
    "        for data, label in training_data_iterator:\n",
    "            data = data.as_in_context(ctx)\n",
    "            label = label.as_in_context(ctx)\n",
    "            with mx.autograd.record():\n",
    "                output = net(data)\n",
    "                loss = loss_fn(output, label)\n",
    "            loss.backward()\n",
    "            trainer.step(batch_size)\n",
    "            current_loss = mx.nd.mean(loss).asscalar()\n",
    "            cumulative_loss += current_loss / num_training_batches\n",
    "        \n",
    "        # Validation Loss\n",
    "        cumulative_val_loss = 0\n",
    "        for data, label in validation_data_iterator:\n",
    "            data = data.as_in_context(ctx)\n",
    "            label = label.as_in_context(ctx)\n",
    "            output = net(data)\n",
    "            val_loss = loss_fn(output, label)\n",
    "            current_val_loss = mx.nd.mean(val_loss).asscalar()\n",
    "            cumulative_val_loss += current_val_loss / num_validation_batches\n",
    "            \n",
    "        # Test Loss\n",
    "        cumulative_test_loss = 0\n",
    "        for data, label in test_data_iterator:\n",
    "            data = data.as_in_context(ctx)\n",
    "            label = label.as_in_context(ctx)\n",
    "            output = net(data)\n",
    "            test_loss = loss_fn(output, label)\n",
    "            current_test_loss = mx.nd.mean(test_loss).asscalar()\n",
    "            cumulative_test_loss += current_test_loss / num_test_batches\n",
    "            \n",
    "        added_info = \"\"\n",
    "        if cumulative_val_loss < min_val_loss:\n",
    "            added_info = \" --- Updating saved model\"\n",
    "            min_val_loss = cumulative_val_loss\n",
    "            net.save_parameters(file_name)\n",
    "            \n",
    "        #desc = f\"E: {e:4d}, TrL: {cumulative_loss:8.6f}, VL: {cumulative_val_loss:8.6f}, TL: {cumulative_test_loss:8.6f}\" + added_info\n",
    "        loss_sequence.append(cumulative_loss)\n",
    "               \n",
    "        #progress_bar.set_description(desc)"
   ]
  },
  {
   "cell_type": "code",
   "execution_count": 23,
   "metadata": {
    "id": "SyHjq1mChnkw"
   },
   "outputs": [],
   "source": [
    "# Initialization\n",
    "#ctx = mx.gpu()\n",
    "cts = mx.cpu()\n",
    "net.collect_params().initialize(mx.init.Xavier(), ctx=ctx, force_reinit=True)"
   ]
  },
  {
   "cell_type": "code",
   "execution_count": 24,
   "metadata": {
    "colab": {
     "base_uri": "https://localhost:8080/"
    },
    "id": "F-Oxk0f5jGf1",
    "outputId": "5fdcf575-c360-4e52-955e-5866d2bb27cd",
    "scrolled": false
   },
   "outputs": [
    {
     "data": {
      "application/vnd.jupyter.widget-view+json": {
       "model_id": "b9ba03c0ceba46cb9fc426ce8a27955f",
       "version_major": 2,
       "version_minor": 0
      },
      "text/plain": [
       "  0%|          | 0/600 [00:00<?, ?it/s]"
      ]
     },
     "metadata": {},
     "output_type": "display_data"
    },
    {
     "ename": "KeyboardInterrupt",
     "evalue": "",
     "output_type": "error",
     "traceback": [
      "\u001b[0;31m---------------------------------------------------------------------------\u001b[0m",
      "\u001b[0;31mKeyboardInterrupt\u001b[0m                         Traceback (most recent call last)",
      "\u001b[0;32m/tmp/ipykernel_198440/1489992483.py\u001b[0m in \u001b[0;36m<module>\u001b[0;34m\u001b[0m\n\u001b[1;32m     12\u001b[0m \u001b[0mbatch_size\u001b[0m \u001b[0;34m=\u001b[0m \u001b[0;36m64\u001b[0m\u001b[0;34m\u001b[0m\u001b[0;34m\u001b[0m\u001b[0m\n\u001b[1;32m     13\u001b[0m \u001b[0;34m\u001b[0m\u001b[0m\n\u001b[0;32m---> 14\u001b[0;31m \u001b[0mtraining_loop\u001b[0m\u001b[0;34m(\u001b[0m\u001b[0mloss_fn\u001b[0m\u001b[0;34m,\u001b[0m \u001b[0mtrainer\u001b[0m\u001b[0;34m,\u001b[0m \u001b[0mepochs\u001b[0m\u001b[0;34m,\u001b[0m \u001b[0mbatch_size\u001b[0m\u001b[0;34m,\u001b[0m \u001b[0mtraining_set\u001b[0m\u001b[0;34m,\u001b[0m \u001b[0mvalidation_set\u001b[0m\u001b[0;34m,\u001b[0m \u001b[0mtest_set\u001b[0m\u001b[0;34m,\u001b[0m \u001b[0mctx\u001b[0m\u001b[0;34m)\u001b[0m\u001b[0;34m\u001b[0m\u001b[0;34m\u001b[0m\u001b[0m\n\u001b[0m",
      "\u001b[0;32m/tmp/ipykernel_198440/1118132523.py\u001b[0m in \u001b[0;36mtraining_loop\u001b[0;34m(loss_fn, trainer, epochs, batch_size, training_set, validation_set, test_set, ctx)\u001b[0m\n\u001b[1;32m     26\u001b[0m             \u001b[0mlabel\u001b[0m \u001b[0;34m=\u001b[0m \u001b[0mlabel\u001b[0m\u001b[0;34m.\u001b[0m\u001b[0mas_in_context\u001b[0m\u001b[0;34m(\u001b[0m\u001b[0mctx\u001b[0m\u001b[0;34m)\u001b[0m\u001b[0;34m\u001b[0m\u001b[0;34m\u001b[0m\u001b[0m\n\u001b[1;32m     27\u001b[0m             \u001b[0;32mwith\u001b[0m \u001b[0mmx\u001b[0m\u001b[0;34m.\u001b[0m\u001b[0mautograd\u001b[0m\u001b[0;34m.\u001b[0m\u001b[0mrecord\u001b[0m\u001b[0;34m(\u001b[0m\u001b[0;34m)\u001b[0m\u001b[0;34m:\u001b[0m\u001b[0;34m\u001b[0m\u001b[0;34m\u001b[0m\u001b[0m\n\u001b[0;32m---> 28\u001b[0;31m                 \u001b[0moutput\u001b[0m \u001b[0;34m=\u001b[0m \u001b[0mnet\u001b[0m\u001b[0;34m(\u001b[0m\u001b[0mdata\u001b[0m\u001b[0;34m)\u001b[0m\u001b[0;34m\u001b[0m\u001b[0;34m\u001b[0m\u001b[0m\n\u001b[0m\u001b[1;32m     29\u001b[0m                 \u001b[0mloss\u001b[0m \u001b[0;34m=\u001b[0m \u001b[0mloss_fn\u001b[0m\u001b[0;34m(\u001b[0m\u001b[0moutput\u001b[0m\u001b[0;34m,\u001b[0m \u001b[0mlabel\u001b[0m\u001b[0;34m)\u001b[0m\u001b[0;34m\u001b[0m\u001b[0;34m\u001b[0m\u001b[0m\n\u001b[1;32m     30\u001b[0m             \u001b[0mloss\u001b[0m\u001b[0;34m.\u001b[0m\u001b[0mbackward\u001b[0m\u001b[0;34m(\u001b[0m\u001b[0;34m)\u001b[0m\u001b[0;34m\u001b[0m\u001b[0;34m\u001b[0m\u001b[0m\n",
      "\u001b[0;32m~/.local/lib/python3.8/site-packages/mxnet/gluon/block.py\u001b[0m in \u001b[0;36m__call__\u001b[0;34m(self, *args)\u001b[0m\n\u001b[1;32m    680\u001b[0m             \u001b[0mhook\u001b[0m\u001b[0;34m(\u001b[0m\u001b[0mself\u001b[0m\u001b[0;34m,\u001b[0m \u001b[0margs\u001b[0m\u001b[0;34m)\u001b[0m\u001b[0;34m\u001b[0m\u001b[0;34m\u001b[0m\u001b[0m\n\u001b[1;32m    681\u001b[0m \u001b[0;34m\u001b[0m\u001b[0m\n\u001b[0;32m--> 682\u001b[0;31m         \u001b[0mout\u001b[0m \u001b[0;34m=\u001b[0m \u001b[0mself\u001b[0m\u001b[0;34m.\u001b[0m\u001b[0mforward\u001b[0m\u001b[0;34m(\u001b[0m\u001b[0;34m*\u001b[0m\u001b[0margs\u001b[0m\u001b[0;34m)\u001b[0m\u001b[0;34m\u001b[0m\u001b[0;34m\u001b[0m\u001b[0m\n\u001b[0m\u001b[1;32m    683\u001b[0m \u001b[0;34m\u001b[0m\u001b[0m\n\u001b[1;32m    684\u001b[0m         \u001b[0;32mfor\u001b[0m \u001b[0mhook\u001b[0m \u001b[0;32min\u001b[0m \u001b[0mself\u001b[0m\u001b[0;34m.\u001b[0m\u001b[0m_forward_hooks\u001b[0m\u001b[0;34m.\u001b[0m\u001b[0mvalues\u001b[0m\u001b[0;34m(\u001b[0m\u001b[0;34m)\u001b[0m\u001b[0;34m:\u001b[0m\u001b[0;34m\u001b[0m\u001b[0;34m\u001b[0m\u001b[0m\n",
      "\u001b[0;32m~/.local/lib/python3.8/site-packages/mxnet/gluon/nn/basic_layers.py\u001b[0m in \u001b[0;36mforward\u001b[0;34m(self, x)\u001b[0m\n\u001b[1;32m     53\u001b[0m     \u001b[0;32mdef\u001b[0m \u001b[0mforward\u001b[0m\u001b[0;34m(\u001b[0m\u001b[0mself\u001b[0m\u001b[0;34m,\u001b[0m \u001b[0mx\u001b[0m\u001b[0;34m)\u001b[0m\u001b[0;34m:\u001b[0m\u001b[0;34m\u001b[0m\u001b[0;34m\u001b[0m\u001b[0m\n\u001b[1;32m     54\u001b[0m         \u001b[0;32mfor\u001b[0m \u001b[0mblock\u001b[0m \u001b[0;32min\u001b[0m \u001b[0mself\u001b[0m\u001b[0;34m.\u001b[0m\u001b[0m_children\u001b[0m\u001b[0;34m.\u001b[0m\u001b[0mvalues\u001b[0m\u001b[0;34m(\u001b[0m\u001b[0;34m)\u001b[0m\u001b[0;34m:\u001b[0m\u001b[0;34m\u001b[0m\u001b[0;34m\u001b[0m\u001b[0m\n\u001b[0;32m---> 55\u001b[0;31m             \u001b[0mx\u001b[0m \u001b[0;34m=\u001b[0m \u001b[0mblock\u001b[0m\u001b[0;34m(\u001b[0m\u001b[0mx\u001b[0m\u001b[0;34m)\u001b[0m\u001b[0;34m\u001b[0m\u001b[0;34m\u001b[0m\u001b[0m\n\u001b[0m\u001b[1;32m     56\u001b[0m         \u001b[0;32mreturn\u001b[0m \u001b[0mx\u001b[0m\u001b[0;34m\u001b[0m\u001b[0;34m\u001b[0m\u001b[0m\n\u001b[1;32m     57\u001b[0m \u001b[0;34m\u001b[0m\u001b[0m\n",
      "\u001b[0;32m~/.local/lib/python3.8/site-packages/mxnet/gluon/block.py\u001b[0m in \u001b[0;36m__call__\u001b[0;34m(self, *args)\u001b[0m\n\u001b[1;32m    680\u001b[0m             \u001b[0mhook\u001b[0m\u001b[0;34m(\u001b[0m\u001b[0mself\u001b[0m\u001b[0;34m,\u001b[0m \u001b[0margs\u001b[0m\u001b[0;34m)\u001b[0m\u001b[0;34m\u001b[0m\u001b[0;34m\u001b[0m\u001b[0m\n\u001b[1;32m    681\u001b[0m \u001b[0;34m\u001b[0m\u001b[0m\n\u001b[0;32m--> 682\u001b[0;31m         \u001b[0mout\u001b[0m \u001b[0;34m=\u001b[0m \u001b[0mself\u001b[0m\u001b[0;34m.\u001b[0m\u001b[0mforward\u001b[0m\u001b[0;34m(\u001b[0m\u001b[0;34m*\u001b[0m\u001b[0margs\u001b[0m\u001b[0;34m)\u001b[0m\u001b[0;34m\u001b[0m\u001b[0;34m\u001b[0m\u001b[0m\n\u001b[0m\u001b[1;32m    683\u001b[0m \u001b[0;34m\u001b[0m\u001b[0m\n\u001b[1;32m    684\u001b[0m         \u001b[0;32mfor\u001b[0m \u001b[0mhook\u001b[0m \u001b[0;32min\u001b[0m \u001b[0mself\u001b[0m\u001b[0;34m.\u001b[0m\u001b[0m_forward_hooks\u001b[0m\u001b[0;34m.\u001b[0m\u001b[0mvalues\u001b[0m\u001b[0;34m(\u001b[0m\u001b[0;34m)\u001b[0m\u001b[0;34m:\u001b[0m\u001b[0;34m\u001b[0m\u001b[0;34m\u001b[0m\u001b[0m\n",
      "\u001b[0;32m~/.local/lib/python3.8/site-packages/mxnet/gluon/block.py\u001b[0m in \u001b[0;36mforward\u001b[0;34m(self, x, *args)\u001b[0m\n\u001b[1;32m   1307\u001b[0m                     \u001b[0mparams\u001b[0m \u001b[0;34m=\u001b[0m \u001b[0;34m{\u001b[0m\u001b[0mk\u001b[0m\u001b[0;34m:\u001b[0m \u001b[0mv\u001b[0m\u001b[0;34m.\u001b[0m\u001b[0mdata\u001b[0m\u001b[0;34m(\u001b[0m\u001b[0mctx\u001b[0m\u001b[0;34m)\u001b[0m \u001b[0;32mfor\u001b[0m \u001b[0mk\u001b[0m\u001b[0;34m,\u001b[0m \u001b[0mv\u001b[0m \u001b[0;32min\u001b[0m \u001b[0mself\u001b[0m\u001b[0;34m.\u001b[0m\u001b[0m_reg_params\u001b[0m\u001b[0;34m.\u001b[0m\u001b[0mitems\u001b[0m\u001b[0;34m(\u001b[0m\u001b[0;34m)\u001b[0m\u001b[0;34m}\u001b[0m\u001b[0;34m\u001b[0m\u001b[0;34m\u001b[0m\u001b[0m\n\u001b[1;32m   1308\u001b[0m \u001b[0;34m\u001b[0m\u001b[0m\n\u001b[0;32m-> 1309\u001b[0;31m                 \u001b[0;32mreturn\u001b[0m \u001b[0mself\u001b[0m\u001b[0;34m.\u001b[0m\u001b[0mhybrid_forward\u001b[0m\u001b[0;34m(\u001b[0m\u001b[0mndarray\u001b[0m\u001b[0;34m,\u001b[0m \u001b[0mx\u001b[0m\u001b[0;34m,\u001b[0m \u001b[0;34m*\u001b[0m\u001b[0margs\u001b[0m\u001b[0;34m,\u001b[0m \u001b[0;34m**\u001b[0m\u001b[0mparams\u001b[0m\u001b[0;34m)\u001b[0m\u001b[0;34m\u001b[0m\u001b[0;34m\u001b[0m\u001b[0m\n\u001b[0m\u001b[1;32m   1310\u001b[0m         \u001b[0mparams\u001b[0m \u001b[0;34m=\u001b[0m \u001b[0;34m{\u001b[0m\u001b[0mi\u001b[0m\u001b[0;34m:\u001b[0m \u001b[0mj\u001b[0m\u001b[0;34m.\u001b[0m\u001b[0mvar\u001b[0m\u001b[0;34m(\u001b[0m\u001b[0;34m)\u001b[0m \u001b[0;32mfor\u001b[0m \u001b[0mi\u001b[0m\u001b[0;34m,\u001b[0m \u001b[0mj\u001b[0m \u001b[0;32min\u001b[0m \u001b[0mself\u001b[0m\u001b[0;34m.\u001b[0m\u001b[0m_reg_params\u001b[0m\u001b[0;34m.\u001b[0m\u001b[0mitems\u001b[0m\u001b[0;34m(\u001b[0m\u001b[0;34m)\u001b[0m\u001b[0;34m}\u001b[0m\u001b[0;34m\u001b[0m\u001b[0;34m\u001b[0m\u001b[0m\n\u001b[1;32m   1311\u001b[0m         \u001b[0;32mwith\u001b[0m \u001b[0mself\u001b[0m\u001b[0;34m.\u001b[0m\u001b[0mname_scope\u001b[0m\u001b[0;34m(\u001b[0m\u001b[0;34m)\u001b[0m\u001b[0;34m:\u001b[0m\u001b[0;34m\u001b[0m\u001b[0;34m\u001b[0m\u001b[0m\n",
      "\u001b[0;32m~/.local/lib/python3.8/site-packages/mxnet/gluon/nn/basic_layers.py\u001b[0m in \u001b[0;36mhybrid_forward\u001b[0;34m(self, F, x, weight, bias)\u001b[0m\n\u001b[1;32m    222\u001b[0m     \u001b[0;32mdef\u001b[0m \u001b[0mhybrid_forward\u001b[0m\u001b[0;34m(\u001b[0m\u001b[0mself\u001b[0m\u001b[0;34m,\u001b[0m \u001b[0mF\u001b[0m\u001b[0;34m,\u001b[0m \u001b[0mx\u001b[0m\u001b[0;34m,\u001b[0m \u001b[0mweight\u001b[0m\u001b[0;34m,\u001b[0m \u001b[0mbias\u001b[0m\u001b[0;34m=\u001b[0m\u001b[0;32mNone\u001b[0m\u001b[0;34m)\u001b[0m\u001b[0;34m:\u001b[0m\u001b[0;34m\u001b[0m\u001b[0;34m\u001b[0m\u001b[0m\n\u001b[1;32m    223\u001b[0m         \u001b[0mfc\u001b[0m \u001b[0;34m=\u001b[0m \u001b[0mF\u001b[0m\u001b[0;34m.\u001b[0m\u001b[0mnpx\u001b[0m\u001b[0;34m.\u001b[0m\u001b[0mfully_connected\u001b[0m \u001b[0;32mif\u001b[0m \u001b[0mis_np_array\u001b[0m\u001b[0;34m(\u001b[0m\u001b[0;34m)\u001b[0m \u001b[0;32melse\u001b[0m \u001b[0mF\u001b[0m\u001b[0;34m.\u001b[0m\u001b[0mFullyConnected\u001b[0m\u001b[0;34m\u001b[0m\u001b[0;34m\u001b[0m\u001b[0m\n\u001b[0;32m--> 224\u001b[0;31m         act = fc(x, weight, bias, no_bias=bias is None, num_hidden=self._units,\n\u001b[0m\u001b[1;32m    225\u001b[0m                  flatten=self._flatten, name='fwd')\n\u001b[1;32m    226\u001b[0m         \u001b[0;32mif\u001b[0m \u001b[0mself\u001b[0m\u001b[0;34m.\u001b[0m\u001b[0mact\u001b[0m \u001b[0;32mis\u001b[0m \u001b[0;32mnot\u001b[0m \u001b[0;32mNone\u001b[0m\u001b[0;34m:\u001b[0m\u001b[0;34m\u001b[0m\u001b[0;34m\u001b[0m\u001b[0m\n",
      "\u001b[0;32m~/.local/lib/python3.8/site-packages/mxnet/ndarray/register.py\u001b[0m in \u001b[0;36mFullyConnected\u001b[0;34m(data, weight, bias, num_hidden, no_bias, flatten, out, name, **kwargs)\u001b[0m\n",
      "\u001b[0;32m~/.local/lib/python3.8/site-packages/mxnet/_ctypes/ndarray.py\u001b[0m in \u001b[0;36m_imperative_invoke\u001b[0;34m(handle, ndargs, keys, vals, out, is_np_op, output_is_list)\u001b[0m\n\u001b[1;32m     88\u001b[0m         \u001b[0mctypes\u001b[0m\u001b[0;34m.\u001b[0m\u001b[0mc_int\u001b[0m\u001b[0;34m(\u001b[0m\u001b[0mlen\u001b[0m\u001b[0;34m(\u001b[0m\u001b[0mkeys\u001b[0m\u001b[0;34m)\u001b[0m\u001b[0;34m)\u001b[0m\u001b[0;34m,\u001b[0m\u001b[0;34m\u001b[0m\u001b[0;34m\u001b[0m\u001b[0m\n\u001b[1;32m     89\u001b[0m         \u001b[0mc_str_array\u001b[0m\u001b[0;34m(\u001b[0m\u001b[0mkeys\u001b[0m\u001b[0;34m)\u001b[0m\u001b[0;34m,\u001b[0m\u001b[0;34m\u001b[0m\u001b[0;34m\u001b[0m\u001b[0m\n\u001b[0;32m---> 90\u001b[0;31m         \u001b[0mc_str_array\u001b[0m\u001b[0;34m(\u001b[0m\u001b[0;34m[\u001b[0m\u001b[0mstr\u001b[0m\u001b[0;34m(\u001b[0m\u001b[0ms\u001b[0m\u001b[0;34m)\u001b[0m \u001b[0;32mfor\u001b[0m \u001b[0ms\u001b[0m \u001b[0;32min\u001b[0m \u001b[0mvals\u001b[0m\u001b[0;34m]\u001b[0m\u001b[0;34m)\u001b[0m\u001b[0;34m,\u001b[0m\u001b[0;34m\u001b[0m\u001b[0;34m\u001b[0m\u001b[0m\n\u001b[0m\u001b[1;32m     91\u001b[0m         ctypes.byref(out_stypes)))\n\u001b[1;32m     92\u001b[0m \u001b[0;34m\u001b[0m\u001b[0m\n",
      "\u001b[0;32m~/.local/lib/python3.8/site-packages/mxnet/base.py\u001b[0m in \u001b[0;36mc_str_array\u001b[0;34m(strings)\u001b[0m\n\u001b[1;32m    413\u001b[0m     \"\"\"\n\u001b[1;32m    414\u001b[0m     \u001b[0marr\u001b[0m \u001b[0;34m=\u001b[0m \u001b[0;34m(\u001b[0m\u001b[0mctypes\u001b[0m\u001b[0;34m.\u001b[0m\u001b[0mc_char_p\u001b[0m \u001b[0;34m*\u001b[0m \u001b[0mlen\u001b[0m\u001b[0;34m(\u001b[0m\u001b[0mstrings\u001b[0m\u001b[0;34m)\u001b[0m\u001b[0;34m)\u001b[0m\u001b[0;34m(\u001b[0m\u001b[0;34m)\u001b[0m\u001b[0;34m\u001b[0m\u001b[0;34m\u001b[0m\u001b[0m\n\u001b[0;32m--> 415\u001b[0;31m     \u001b[0marr\u001b[0m\u001b[0;34m[\u001b[0m\u001b[0;34m:\u001b[0m\u001b[0;34m]\u001b[0m \u001b[0;34m=\u001b[0m \u001b[0;34m[\u001b[0m\u001b[0ms\u001b[0m\u001b[0;34m.\u001b[0m\u001b[0mencode\u001b[0m\u001b[0;34m(\u001b[0m\u001b[0;34m'utf-8'\u001b[0m\u001b[0;34m)\u001b[0m \u001b[0;32mfor\u001b[0m \u001b[0ms\u001b[0m \u001b[0;32min\u001b[0m \u001b[0mstrings\u001b[0m\u001b[0;34m]\u001b[0m\u001b[0;34m\u001b[0m\u001b[0;34m\u001b[0m\u001b[0m\n\u001b[0m\u001b[1;32m    416\u001b[0m     \u001b[0;32mreturn\u001b[0m \u001b[0marr\u001b[0m\u001b[0;34m\u001b[0m\u001b[0;34m\u001b[0m\u001b[0m\n\u001b[1;32m    417\u001b[0m \u001b[0;34m\u001b[0m\u001b[0m\n",
      "\u001b[0;32m~/.local/lib/python3.8/site-packages/mxnet/base.py\u001b[0m in \u001b[0;36m<listcomp>\u001b[0;34m(.0)\u001b[0m\n\u001b[1;32m    413\u001b[0m     \"\"\"\n\u001b[1;32m    414\u001b[0m     \u001b[0marr\u001b[0m \u001b[0;34m=\u001b[0m \u001b[0;34m(\u001b[0m\u001b[0mctypes\u001b[0m\u001b[0;34m.\u001b[0m\u001b[0mc_char_p\u001b[0m \u001b[0;34m*\u001b[0m \u001b[0mlen\u001b[0m\u001b[0;34m(\u001b[0m\u001b[0mstrings\u001b[0m\u001b[0;34m)\u001b[0m\u001b[0;34m)\u001b[0m\u001b[0;34m(\u001b[0m\u001b[0;34m)\u001b[0m\u001b[0;34m\u001b[0m\u001b[0;34m\u001b[0m\u001b[0m\n\u001b[0;32m--> 415\u001b[0;31m     \u001b[0marr\u001b[0m\u001b[0;34m[\u001b[0m\u001b[0;34m:\u001b[0m\u001b[0;34m]\u001b[0m \u001b[0;34m=\u001b[0m \u001b[0;34m[\u001b[0m\u001b[0ms\u001b[0m\u001b[0;34m.\u001b[0m\u001b[0mencode\u001b[0m\u001b[0;34m(\u001b[0m\u001b[0;34m'utf-8'\u001b[0m\u001b[0;34m)\u001b[0m \u001b[0;32mfor\u001b[0m \u001b[0ms\u001b[0m \u001b[0;32min\u001b[0m \u001b[0mstrings\u001b[0m\u001b[0;34m]\u001b[0m\u001b[0;34m\u001b[0m\u001b[0;34m\u001b[0m\u001b[0m\n\u001b[0m\u001b[1;32m    416\u001b[0m     \u001b[0;32mreturn\u001b[0m \u001b[0marr\u001b[0m\u001b[0;34m\u001b[0m\u001b[0;34m\u001b[0m\u001b[0m\n\u001b[1;32m    417\u001b[0m \u001b[0;34m\u001b[0m\u001b[0m\n",
      "\u001b[0;31mKeyboardInterrupt\u001b[0m: "
     ]
    }
   ],
   "source": [
    "# Define Loss Function\n",
    "loss_fn = mx.gluon.loss.HuberLoss()\n",
    "#loss_fn = mx.gluon.loss.L1Loss()\n",
    "#loss_fn = mx.gluon.loss.L2Loss()\n",
    "\n",
    "# Define Optimizer and Hyper Parameters\n",
    "trainer = mx.gluon.Trainer(net.collect_params(), \"adam\", {\"learning_rate\": 0.001})\n",
    "#trainer = mx.gluon.Trainer(net.collect_params(), \"sgd\", {\"learning_rate\": 0.0001})\n",
    "\n",
    "# Epochs & Batch Size\n",
    "epochs = 600\n",
    "batch_size = 64\n",
    "\n",
    "training_loop(loss_fn, trainer, epochs, batch_size, training_set, validation_set, test_set, ctx)"
   ]
  },
  {
   "cell_type": "code",
   "execution_count": null,
   "metadata": {
    "id": "pVevGYc_lVpv"
   },
   "outputs": [],
   "source": [
    "# Input features of an example\n",
    "scaled_example_input = mx.nd.array([scaled_X_train[0]])"
   ]
  },
  {
   "cell_type": "code",
   "execution_count": null,
   "metadata": {
    "colab": {
     "base_uri": "https://localhost:8080/"
    },
    "id": "EgYCMNrTssR3",
    "outputId": "1204a510-df87-443f-9a6b-a7b6afe1773f"
   },
   "outputs": [],
   "source": [
    "# Expected output of the example (price)\n",
    "expected_output = y_train[0]\n",
    "print(expected_output)\n",
    "scaled_expected_output = mx.nd.array([scaled_y_train[0]])\n",
    "print(scaled_expected_output)"
   ]
  },
  {
   "cell_type": "code",
   "execution_count": null,
   "metadata": {
    "colab": {
     "base_uri": "https://localhost:8080/"
    },
    "id": "R7xs6OVWnVHQ",
    "outputId": "7f9d4310-7a43-42ad-bdd0-fcf87db525d1"
   },
   "outputs": [],
   "source": [
    "# Calculate the prediction of our model\n",
    "output = net(scaled_example_input.as_in_context(ctx))\n",
    "print(output)"
   ]
  },
  {
   "cell_type": "code",
   "execution_count": null,
   "metadata": {
    "colab": {
     "base_uri": "https://localhost:8080/"
    },
    "id": "PE1a_Kpum-RZ",
    "outputId": "21694b23-3ba0-420e-c70a-b19eb3c4bd64"
   },
   "outputs": [],
   "source": [
    "# Unscaled Expected Output\n",
    "print(\"Unscaled Expected Output:\", sc_y.inverse_transform(scaled_expected_output.asnumpy()))\n",
    "\n",
    "# Unscaled Output\n",
    "print(\"Unscaled Output:\", sc_y.inverse_transform(output.asnumpy()))"
   ]
  },
  {
   "cell_type": "code",
   "execution_count": null,
   "metadata": {},
   "outputs": [],
   "source": []
  },
  {
   "cell_type": "code",
   "execution_count": null,
   "metadata": {},
   "outputs": [],
   "source": []
  },
  {
   "cell_type": "code",
   "execution_count": null,
   "metadata": {},
   "outputs": [],
   "source": []
  },
  {
   "cell_type": "code",
   "execution_count": null,
   "metadata": {},
   "outputs": [],
   "source": []
  }
 ],
 "metadata": {
  "accelerator": "GPU",
  "colab": {
   "name": "DL with MXNet Cookbook 3.3 Training for Regression Models",
   "provenance": []
  },
  "kernelspec": {
   "display_name": "Python 3 (ipykernel)",
   "language": "python",
   "name": "python3"
  },
  "language_info": {
   "codemirror_mode": {
    "name": "ipython",
    "version": 3
   },
   "file_extension": ".py",
   "mimetype": "text/x-python",
   "name": "python",
   "nbconvert_exporter": "python",
   "pygments_lexer": "ipython3",
   "version": "3.8.10"
  }
 },
 "nbformat": 4,
 "nbformat_minor": 1
}
