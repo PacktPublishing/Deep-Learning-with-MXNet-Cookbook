{
 "cells": [
  {
   "cell_type": "code",
   "execution_count": 1,
   "id": "ad0e954d",
   "metadata": {},
   "outputs": [],
   "source": [
    "# Run the command below if necessary, for example with Google Colab\n",
    "#!pip3 install mxnet-cu110"
   ]
  },
  {
   "cell_type": "code",
   "execution_count": 16,
   "id": "be8d913c",
   "metadata": {},
   "outputs": [],
   "source": [
    "# Global Libs\n",
    "import matplotlib.pyplot as plt\n",
    "import mxnet as mx\n",
    "import numpy as np\n",
    "import pickle\n",
    "import random\n",
    "\n",
    "# Local libs\n",
    "import model"
   ]
  },
  {
   "cell_type": "code",
   "execution_count": 3,
   "id": "9d166a3b",
   "metadata": {},
   "outputs": [],
   "source": [
    "with open(\"losses.pkl\", \"rb\") as f:\n",
    "    training_loss, validation_loss = pickle.load(f)"
   ]
  },
  {
   "cell_type": "code",
   "execution_count": 64,
   "id": "1317fdca",
   "metadata": {},
   "outputs": [
    {
     "data": {
      "image/png": "[encoded data removed]",
      "text/plain": [
       "<Figure size 432x288 with 1 Axes>"
      ]
     },
     "metadata": {},
     "output_type": "display_data"
    }
   ],
   "source": [
    "# plot the losses\n",
    "epochs = 200\n",
    "\n",
    "plt.style.use(\"ggplot\")\n",
    "plt.figure()\n",
    "plt.plot(np.arange(0, epochs), validation_loss[:epochs], label=\"Validation Loss\")\n",
    "plt.plot(np.arange(0, epochs), training_loss[:epochs], label=\"Training Loss\")\n",
    "plt.xlabel(\"Epoch\")\n",
    "plt.ylabel(\"Loss\")\n",
    "plt.legend(loc=\"upper right\")\n",
    "plt.title(\"Losses\")\n",
    "plt.show()"
   ]
  },
  {
   "cell_type": "code",
   "execution_count": 14,
   "id": "9e4552fd",
   "metadata": {},
   "outputs": [
    {
     "name": "stderr",
     "output_type": "stream",
     "text": [
      "[18:41:35] ../src/base.cc:80: cuDNN lib mismatch: linked-against version 8101 != compiled-against version 8100.  Set MXNET_CUDNN_LIB_CHECKING=0 to quiet this warning.\n"
     ]
    }
   ],
   "source": [
    "# Qualitative Evaluation\n",
    "\n",
    "# Load Best Model\n",
    "model_file_name = \"net.params\"\n",
    "ctx = mx.gpu()\n",
    "\n",
    "net = model.create_regression_network()\n",
    "net.load_parameters(model_file_name, ctx=ctx)"
   ]
  },
  {
   "cell_type": "code",
   "execution_count": 22,
   "id": "56abf84d",
   "metadata": {},
   "outputs": [],
   "source": [
    "# Loading data for evaluation\n",
    "# Saving data to analyse further\n",
    "with open(\"data.pkl\", \"rb\") as f:\n",
    "    X_train, y_train, X_val, y_val, X_test, y_test = pickle.load(f)\n",
    "\n",
    "with open(\"scaled_data.pkl\", \"rb\") as f:\n",
    "    (scaled_X_train_onehot_df, scaled_X_val_onehot_df, scaled_X_test_onehot_df, sc_X,\n",
    "     scaled_y_train, scaled_y_val, scaled_y_test, sc_y) = pickle.load(f)"
   ]
  },
  {
   "cell_type": "code",
   "execution_count": 23,
   "id": "32efab3b",
   "metadata": {},
   "outputs": [
    {
     "name": "stdout",
     "output_type": "stream",
     "text": [
      "Unscaled Expected Output: [380000.]\n",
      "Scaled Expected Output: [-0.4304741]\n",
      "Model Output (scaled): [-0.45450553]\n",
      "Unscaled Output: [370690.]\n",
      "Absolute error:  [9310.]\n",
      "Percentage Error:  [2.45]\n"
     ]
    }
   ],
   "source": [
    "random_index = random.randrange(0, len(X_test))\n",
    "# scaled_input = mx.nd.array([scaled_X_test[random_index]])\n",
    "scaled_input = mx.nd.array([scaled_X_train_onehot_df.values[random_index]])\n",
    "\n",
    "# Unscaled Expected Output\n",
    "expected_output = y_test[random_index]\n",
    "print(\"Unscaled Expected Output:\", expected_output)\n",
    "\n",
    "# Scaled Expected Output\n",
    "scaled_expected_output = scaled_y_test[random_index]\n",
    "print(\"Scaled Expected Output:\", scaled_expected_output)\n",
    "\n",
    "# Model Output (scaled)\n",
    "output = net(scaled_input.as_in_context(ctx)).asnumpy()[0]\n",
    "print(\"Model Output (scaled):\", output)\n",
    "\n",
    "# Unscaled Output\n",
    "unscaled_output = sc_y.inverse_transform(output)\n",
    "print(\"Unscaled Output:\", unscaled_output)\n",
    "\n",
    "# Absolute Error\n",
    "abs_error = abs(expected_output - unscaled_output)\n",
    "print(\"Absolute error: \", abs_error)\n",
    "\n",
    "# Percentage Error\n",
    "perc_error = abs_error / expected_output * 100.0\n",
    "print(\"Percentage Error: \", perc_error)"
   ]
  },
  {
   "cell_type": "code",
   "execution_count": 37,
   "id": "8fa45dc4",
   "metadata": {},
   "outputs": [],
   "source": [
    "# Quantitative Evaluation\n",
    "\n",
    "# Evaluating on Test Set (unseend data)\n",
    "expected_outputs = y_test\n",
    "\n",
    "# Model Outputs (common for all quantitative evaluations)\n",
    "inputs = mx.nd.array(scaled_X_test_onehot_df.values, ctx=ctx)\n",
    "outputs = net(inputs)\n",
    "\n",
    "# Transform to numpy (CPU)\n",
    "outputs = outputs.asnumpy()\n",
    "\n",
    "unscaled_outputs = sc_y.inverse_transform(outputs)"
   ]
  },
  {
   "cell_type": "code",
   "execution_count": 43,
   "id": "1c6e4ac5",
   "metadata": {},
   "outputs": [
    {
     "name": "stdout",
     "output_type": "stream",
     "text": [
      "Mean Absolute Error (MAE): [81103.97]\n"
     ]
    }
   ],
   "source": [
    "# Mean Absolute Error\n",
    "abs_error = abs(expected_outputs - unscaled_outputs)\n",
    "mae = sum(abs_error) / len(abs_error)\n",
    "\n",
    "print(\"Mean Absolute Error (MAE):\", mae)"
   ]
  },
  {
   "cell_type": "code",
   "execution_count": 44,
   "id": "d2ccf3ae",
   "metadata": {},
   "outputs": [
    {
     "name": "stdout",
     "output_type": "stream",
     "text": [
      "Mean Absolute Percentage Error (MAPE): [16.008343]\n"
     ]
    }
   ],
   "source": [
    "# Mean Absolute Percentage Error\n",
    "perc_error = abs_error / expected_outputs * 100.0\n",
    "mape = sum(perc_error) / len(perc_error)\n",
    "\n",
    "print(\"Mean Absolute Percentage Error (MAPE):\", mape)"
   ]
  },
  {
   "cell_type": "code",
   "execution_count": 65,
   "id": "fcc42f07",
   "metadata": {},
   "outputs": [
    {
     "name": "stdout",
     "output_type": "stream",
     "text": [
      "% Houses with a predicted price error below 25.0 %: [81.23987971]\n"
     ]
    }
   ],
   "source": [
    "# Thresholds and Percentage\n",
    "# How many houses in our dataset have been correctly estimated?\n",
    "# We deem an estimation to be correct, when the error in the value is less than 20%\n",
    "perc_threshold = 25.0\n",
    "\n",
    "houses_in_threshold = (perc_error <= perc_threshold)\n",
    "number_houses_in_threshold = sum(houses_in_threshold)\n",
    "\n",
    "number_houses_in_threshold_perc = 100.0 * number_houses_in_threshold / len(perc_error)\n",
    "\n",
    "print(\"% Houses with a predicted price error below\", str(perc_threshold), \"%:\", number_houses_in_threshold_perc)"
   ]
  },
  {
   "cell_type": "code",
   "execution_count": 66,
   "id": "bd559bee",
   "metadata": {},
   "outputs": [],
   "source": [
    "# Calculate the % of houses depending on the threshold\n",
    "perc_thresholds = np.arange(0, 100, 0.1)\n",
    "\n",
    "houses_percentages = []\n",
    "for perc_threshold in perc_thresholds:\n",
    "    houses_in_threshold = (perc_error <= perc_threshold)\n",
    "    number_houses_in_threshold = sum(houses_in_threshold)\n",
    "    number_houses_in_threshold_perc = 100.0 * number_houses_in_threshold / len(perc_error)\n",
    "    \n",
    "    houses_percentages.append(number_houses_in_threshold_perc)"
   ]
  },
  {
   "cell_type": "code",
   "execution_count": 68,
   "id": "befc3a10",
   "metadata": {},
   "outputs": [
    {
     "data": {
      "image/png": "[encoded data removed]",
      "text/plain": [
       "<Figure size 432x288 with 1 Axes>"
      ]
     },
     "metadata": {},
     "output_type": "display_data"
    }
   ],
   "source": [
    "# plot the graph\n",
    "plt.style.use(\"ggplot\")\n",
    "plt.figure()\n",
    "plt.plot(perc_thresholds, houses_percentages)\n",
    "plt.xlabel(\"Error in the estimation\")\n",
    "plt.ylabel(\"Percentage of houses within error\")\n",
    "plt.title(\"Percentage of Correct Estimations\")\n",
    "plt.show()"
   ]
  }
 ],
 "metadata": {
  "kernelspec": {
   "display_name": "Python 3 (ipykernel)",
   "language": "python",
   "name": "python3"
  },
  "language_info": {
   "codemirror_mode": {
    "name": "ipython",
    "version": 3
   },
   "file_extension": ".py",
   "mimetype": "text/x-python",
   "name": "python",
   "nbconvert_exporter": "python",
   "pygments_lexer": "ipython3",
   "version": "3.8.10"
  }
 },
 "nbformat": 4,
 "nbformat_minor": 5
}
