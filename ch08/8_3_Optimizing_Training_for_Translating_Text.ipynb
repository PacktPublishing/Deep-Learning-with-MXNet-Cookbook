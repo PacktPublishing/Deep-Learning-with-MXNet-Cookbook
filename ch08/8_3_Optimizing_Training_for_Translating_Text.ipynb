{
 "cells": [
  {
   "cell_type": "code",
   "execution_count": 5,
   "id": "de6b5fce",
   "metadata": {
    "scrolled": true
   },
   "outputs": [
    {
     "name": "stdout",
     "output_type": "stream",
     "text": [
      "Number of CPUs: 16\n",
      "Number of GPUs: 4\n"
     ]
    }
   ],
   "source": [
    "import mxnet as mx\n",
    "import os\n",
    "import multiprocessing\n",
    "num_cpus = multiprocessing.cpu_count()\n",
    "\n",
    "from pycuda import driver \n",
    "driver.init()\n",
    "num_gpus = driver.Device.count()\n",
    "ctx_list = [mx.gpu(0), mx.gpu(1), mx.gpu(2), mx.gpu(3)]\n",
    "\n",
    "print(\"Number of CPUs:\", num_cpus)\n",
    "print(\"Number of GPUs:\", num_gpus)"
   ]
  },
  {
   "cell_type": "code",
   "execution_count": 6,
   "id": "117850d2",
   "metadata": {},
   "outputs": [],
   "source": [
    "import gluonnlp as nlp\n",
    "from mxnet.contrib import amp\n",
    "\n",
    "import matplotlib.pyplot as plt\n",
    "import numpy as np\n",
    "import os\n",
    "import random\n",
    "import sacremoses\n",
    "import time\n",
    "from tqdm.notebook import tqdm\n",
    "import io\n",
    "from importlib import reload\n",
    "\n",
    "# Local Libraries\n",
    "import nmt\n",
    "import dataprocessor\n",
    "import utils\n",
    "import nmt.transformer_hparams\n",
    "import transformer_model\n",
    "\n",
    "# Hyperparameters for Dataloaders and Training\n",
    "hparams = nmt.transformer_hparams\n",
    "\n",
    "# Seeds for reproducibility\n",
    "np.random.seed(100)\n",
    "random.seed(100)\n",
    "mx.random.seed(100)"
   ]
  },
  {
   "cell_type": "markdown",
   "id": "3974c42d",
   "metadata": {},
   "source": [
    "## Dataset Import"
   ]
  },
  {
   "cell_type": "code",
   "execution_count": 7,
   "id": "99204447",
   "metadata": {},
   "outputs": [],
   "source": [
    "# WMT2016 Dataset\n",
    "src_lang, tgt_lang = \"en\", \"de\"\n",
    "\n",
    "wmt2016_train_data = nlp.data.WMT2016BPE(\n",
    "    'train',\n",
    "    src_lang=src_lang,\n",
    "    tgt_lang=tgt_lang)\n",
    "\n",
    "wmt2016_val_data = nlp.data.WMT2016BPE(\n",
    "    'newstest2016',\n",
    "    src_lang=src_lang,\n",
    "    tgt_lang=tgt_lang)\n",
    "\n",
    "wmt2016_test_data = nlp.data.WMT2016BPE(\n",
    "    'newstest2016',\n",
    "    src_lang=src_lang,\n",
    "    tgt_lang=tgt_lang)\n",
    "\n",
    "# Text sentences for evaluation\n",
    "wmt2016_val_text = nlp.data.WMT2016(\n",
    "    'newstest2016',\n",
    "    src_lang=src_lang,\n",
    "    tgt_lang=tgt_lang)\n",
    "\n",
    "wmt2016_test_text = nlp.data.WMT2016(\n",
    "    'newstest2016',\n",
    "    src_lang=src_lang,\n",
    "    tgt_lang=tgt_lang)\n",
    "\n",
    "src_max_len, tgt_max_len = 50, 50"
   ]
  },
  {
   "cell_type": "code",
   "execution_count": 8,
   "id": "66cb8581",
   "metadata": {},
   "outputs": [],
   "source": [
    "# Train data test\n",
    "train_length = 100000\n",
    "wmt2016_train_data._data[0] = wmt2016_train_data._data[0][:train_length]\n",
    "wmt2016_train_data._data[1] = wmt2016_train_data._data[1][:train_length]\n",
    "wmt2016_train_data._length = train_length\n",
    "\n",
    "# Split Val / Test sets\n",
    "val_length = 1500\n",
    "test_length = len(wmt2016_test_text) - val_length\n",
    "\n",
    "wmt2016_val_data._data[0] = wmt2016_val_data._data[0][:val_length]\n",
    "wmt2016_val_data._data[1] = wmt2016_val_data._data[1][:val_length]\n",
    "wmt2016_val_data._length = val_length\n",
    "\n",
    "wmt2016_val_text._data[0] = wmt2016_val_text._data[0][:val_length]\n",
    "wmt2016_val_text._data[1] = wmt2016_val_text._data[1][:val_length]\n",
    "wmt2016_val_text._length = val_length\n",
    "\n",
    "wmt2016_test_data._data[0] = wmt2016_test_data._data[0][-test_length:]\n",
    "wmt2016_test_data._data[1] = wmt2016_test_data._data[1][-test_length:]\n",
    "wmt2016_test_data._length = test_length\n",
    "\n",
    "wmt2016_test_text._data[0] = wmt2016_test_text._data[0][-test_length:]\n",
    "wmt2016_test_text._data[1] = wmt2016_test_text._data[1][-test_length:]\n",
    "wmt2016_test_text._length = test_length"
   ]
  },
  {
   "cell_type": "code",
   "execution_count": 9,
   "id": "362bfba8",
   "metadata": {},
   "outputs": [
    {
     "name": "stdout",
     "output_type": "stream",
     "text": [
      "Length of train set: 100000\n",
      "Length of val set  : 1500\n",
      "Length of test set : 1499\n"
     ]
    }
   ],
   "source": [
    "print(\"Length of train set:\", len(wmt2016_train_data))\n",
    "print(\"Length of val set  :\", len(wmt2016_val_data))\n",
    "print(\"Length of test set :\", len(wmt2016_test_data))"
   ]
  },
  {
   "cell_type": "code",
   "execution_count": 10,
   "id": "6971c960",
   "metadata": {},
   "outputs": [],
   "source": [
    "wmt2016_val_tgt_sentences = wmt2016_val_text.transform(lambda src, tgt: tgt, lazy=False)\n",
    "wmt2016_test_tgt_sentences = wmt2016_test_text.transform(lambda src, tgt: tgt, lazy=False)"
   ]
  },
  {
   "cell_type": "code",
   "execution_count": 11,
   "id": "4fcb0b5e",
   "metadata": {},
   "outputs": [
    {
     "name": "stderr",
     "output_type": "stream",
     "text": [
      "/home/ext_andres_pereztorres_oxbotica_/.local/lib/python3.9/site-packages/gluonnlp/vocab/vocab.py:590: UserWarning: Detected a corrupted index in the deserialize vocabulary. For versions before GluonNLP v0.7 the index is corrupted by specifying the same token for different special purposes, for example eos_token == padding_token. Deserializing the vocabulary nevertheless.\n",
      "  warnings.warn(\n"
     ]
    }
   ],
   "source": [
    "reload(transformer_model)\n",
    "\n",
    "# For vocab\n",
    "wmt_model_name = \"transformer_en_de_512\"\n",
    "_, wmt_src_vocab, wmt_tgt_vocab = nlp.model.get_model(\n",
    "    wmt_model_name,\n",
    "    dataset_name='WMT2014',\n",
    "    pretrained=True,\n",
    "    ctx=mx.cpu())\n",
    "\n",
    "# Pre-processing WMT2016\n",
    "wmt_transform_fn = dataprocessor.TrainValDataTransform(\n",
    "    # wmt2016_train_data.src_vocab,\n",
    "    # wmt2016_train_data.tgt_vocab,\n",
    "    wmt_src_vocab,\n",
    "    wmt_tgt_vocab,\n",
    "    src_max_len,\n",
    "    tgt_max_len)\n",
    "\n",
    "wmt2016_train_data_processed = wmt2016_train_data.transform(\n",
    "    wmt_transform_fn)\n",
    "\n",
    "wmt2016_val_data_processed = wmt2016_val_data.transform(\n",
    "    wmt_transform_fn)\n",
    "\n",
    "wmt2016_test_data_processed = wmt2016_test_data.transform(\n",
    "    wmt_transform_fn)\n",
    "\n",
    "wmt2016_train_data_lengths = transformer_model.get_data_lengths(wmt2016_train_data_processed)\n",
    "wmt2016_val_data_lengths = transformer_model.get_data_lengths(wmt2016_val_data_processed)\n",
    "wmt2016_test_data_lengths = transformer_model.get_data_lengths(wmt2016_test_data_processed)"
   ]
  },
  {
   "cell_type": "code",
   "execution_count": 12,
   "id": "74c35966",
   "metadata": {},
   "outputs": [],
   "source": [
    "# Add Lengths to the datasets and indexes for validation and test\n",
    "wmt2016_train_data_len_processed = wmt2016_train_data_processed.transform(lambda src, tgt: (src, tgt, len(src), len(tgt)), lazy=False)\n",
    "wmt2016_val_data_len_processed = wmt2016_val_data_processed.transform(transformer_model.get_length_index_fn(), lazy=False)\n",
    "wmt2016_test_data_len_processed = wmt2016_test_data_processed.transform(transformer_model.get_length_index_fn(), lazy=False)"
   ]
  },
  {
   "cell_type": "code",
   "execution_count": 13,
   "id": "d6d2c5ce",
   "metadata": {},
   "outputs": [],
   "source": [
    "train_batchify_fn = nlp.data.batchify.Tuple(\n",
    "    nlp.data.batchify.Pad(pad_val=0),\n",
    "    nlp.data.batchify.Pad(pad_val=0),\n",
    "    nlp.data.batchify.Stack(dtype='float32'),\n",
    "    nlp.data.batchify.Stack(dtype='float32'))\n",
    "\n",
    "val_batchify_fn = nlp.data.batchify.Tuple(\n",
    "    nlp.data.batchify.Pad(pad_val=0),\n",
    "    nlp.data.batchify.Pad(pad_val=0),\n",
    "    nlp.data.batchify.Stack(dtype='float32'),\n",
    "    nlp.data.batchify.Stack(dtype='float32'),\n",
    "    nlp.data.batchify.Stack())"
   ]
  },
  {
   "cell_type": "code",
   "execution_count": 14,
   "id": "0b31ad55",
   "metadata": {},
   "outputs": [],
   "source": [
    "reload(transformer_model)\n",
    "\n",
    "bucket_scheme = nlp.data.ExpWidthBucket(bucket_len_step=1.2)\n",
    "\n",
    "wmt2016_train_batch_sampler = nlp.data.FixedBucketSampler(\n",
    "    lengths=wmt2016_train_data_lengths,\n",
    "    use_average_length=True, # control the element lengths (i.e. number of tokens) to be about the same\n",
    "    num_buckets=hparams.num_buckets,\n",
    "    bucket_scheme=bucket_scheme,\n",
    "    batch_size=hparams.batch_size,\n",
    "    shuffle=True)\n",
    "\n",
    "wmt2016_val_batch_sampler = nlp.data.FixedBucketSampler(\n",
    "    lengths=wmt2016_val_data_lengths,\n",
    "    use_average_length=True, # control the element lengths (i.e. number of tokens) to be about the same\n",
    "    num_buckets=hparams.num_buckets,\n",
    "    bucket_scheme=bucket_scheme,\n",
    "    batch_size=hparams.batch_size,\n",
    "    shuffle=False)\n",
    "\n",
    "wmt2016_test_batch_sampler = nlp.data.FixedBucketSampler(\n",
    "    lengths=wmt2016_test_data_lengths,\n",
    "    use_average_length=True, # control the element lengths (i.e. number of tokens) to be about the same\n",
    "    num_buckets=hparams.num_buckets,\n",
    "    bucket_scheme=bucket_scheme,\n",
    "    batch_size=hparams.batch_size,\n",
    "    shuffle=False)"
   ]
  },
  {
   "cell_type": "code",
   "execution_count": 15,
   "id": "6b1c3f03",
   "metadata": {},
   "outputs": [],
   "source": [
    "num_workers = 0\n",
    "\n",
    "wmt2016_train_data_loader = nlp.data.ShardedDataLoader(\n",
    "    wmt2016_train_data_len_processed,\n",
    "    batch_sampler=wmt2016_train_batch_sampler,\n",
    "    batchify_fn=train_batchify_fn,\n",
    "    num_workers=num_workers)\n",
    "\n",
    "wmt2016_val_data_loader = nlp.data.ShardedDataLoader(\n",
    "    wmt2016_val_data_len_processed,\n",
    "    batch_sampler=wmt2016_val_batch_sampler,\n",
    "    batchify_fn=val_batchify_fn,\n",
    "    num_workers=num_workers,\n",
    "    shuffle=False)\n",
    "\n",
    "wmt2016_test_data_loader = nlp.data.ShardedDataLoader(\n",
    "    wmt2016_test_data_len_processed,\n",
    "    batch_sampler=wmt2016_test_batch_sampler,\n",
    "    batchify_fn=val_batchify_fn,\n",
    "    num_workers=num_workers,\n",
    "    shuffle=False)"
   ]
  },
  {
   "cell_type": "markdown",
   "id": "fd557c22",
   "metadata": {},
   "source": [
    "#### Testing Pre-processing and Data-Loading"
   ]
  },
  {
   "cell_type": "code",
   "execution_count": 40,
   "id": "aa5faed9",
   "metadata": {},
   "outputs": [
    {
     "name": "stdout",
     "output_type": "stream",
     "text": [
      "Pre-processing time (s): 2.697735548019409\n"
     ]
    }
   ],
   "source": [
    "start_time = time.time()\n",
    "\n",
    "wmt2016_train_data_processed = wmt2016_train_data.transform(\n",
    "    wmt_transform_fn,\n",
    "    lazy=False)\n",
    "\n",
    "wmt2016_train_data_lengths = transformer_model.get_data_lengths(wmt2016_train_data_processed)\n",
    "\n",
    "wmt2016_train_data_len_processed = wmt2016_train_data_processed.transform(lambda src, tgt: (src, tgt, len(src), len(tgt)), lazy=False)\n",
    "\n",
    "print(\"Pre-processing time (s):\", time.time() - start_time)"
   ]
  },
  {
   "cell_type": "code",
   "execution_count": 17,
   "id": "7afbab67",
   "metadata": {},
   "outputs": [
    {
     "data": {
      "application/vnd.jupyter.widget-view+json": {
       "model_id": "",
       "version_major": 2,
       "version_minor": 0
      },
      "text/plain": [
       "  0%|          | 0/15048 [00:00<?, ?it/s]"
      ]
     },
     "metadata": {},
     "output_type": "display_data"
    },
    {
     "name": "stderr",
     "output_type": "stream",
     "text": [
      "[16:09:04] /work/mxnet/src/base.cc:79: cuDNN lib mismatch: linked-against version 8200 != compiled-against version 8201.  Set MXNET_CUDNN_LIB_CHECKING=0 to quiet this warning.\n"
     ]
    },
    {
     "name": "stdout",
     "output_type": "stream",
     "text": [
      "Data-Loading in GPU time (s): 27.328779935836792\n"
     ]
    }
   ],
   "source": [
    "start_time = time.time()\n",
    "\n",
    "wmt2016_train_data_processed = wmt2016_train_data.transform(\n",
    "    wmt_transform_fn,\n",
    "    lazy=False)\n",
    "\n",
    "wmt2016_train_data_lengths = transformer_model.get_data_lengths(wmt2016_train_data_processed)\n",
    "\n",
    "wmt2016_train_data_len_processed = wmt2016_train_data_processed.transform(lambda src, tgt: (src, tgt, len(src), len(tgt)), lazy=False)\n",
    "\n",
    "wmt2016_train_data_loader = nlp.data.ShardedDataLoader(\n",
    "    wmt2016_train_data_len_processed,\n",
    "    batch_sampler=wmt2016_train_batch_sampler,\n",
    "    batchify_fn=train_batchify_fn,\n",
    "    num_workers=num_workers)\n",
    "\n",
    "for idx, (data, label, _, _) in enumerate(tqdm(wmt2016_train_data_loader)):\n",
    "    data.as_in_context(ctx_list[0])\n",
    "    label.as_in_context(ctx_list[0])\n",
    "\n",
    "print(\"Data-Loading in GPU time (s):\", time.time() - start_time)"
   ]
  },
  {
   "cell_type": "markdown",
   "id": "bcf43455",
   "metadata": {},
   "source": [
    "## Naive Training"
   ]
  },
  {
   "cell_type": "code",
   "execution_count": 12,
   "id": "404f3720",
   "metadata": {},
   "outputs": [],
   "source": [
    "# Single GPU training\n",
    "ctx_list = [mx.gpu(0)]"
   ]
  },
  {
   "cell_type": "code",
   "execution_count": 13,
   "id": "1c5a5fc3",
   "metadata": {},
   "outputs": [
    {
     "name": "stderr",
     "output_type": "stream",
     "text": [
      "[09:17:43] /work/mxnet/src/base.cc:79: cuDNN lib mismatch: linked-against version 8200 != compiled-against version 8201.  Set MXNET_CUDNN_LIB_CHECKING=0 to quiet this warning.\n"
     ]
    },
    {
     "name": "stdout",
     "output_type": "stream",
     "text": [
      "Source Vocab: 36794 , Target Vocab: 36794\n"
     ]
    }
   ],
   "source": [
    "# Build on top of Pre-Trained model\n",
    "wmt_model_name = 'transformer_en_de_512'\n",
    "wmt_transformer_model_ft_direct, _, _ = nlp.model.get_model(\n",
    "    wmt_model_name,\n",
    "    dataset_name='WMT2014',\n",
    "    pretrained=True,\n",
    "    ctx=ctx_list)\n",
    "\n",
    "print('Source Vocab:', len(wmt_src_vocab), ', Target Vocab:', len(wmt_tgt_vocab))\n",
    "\n",
    "# No need to re-configure last layer, just re-initialize\n",
    "# wmt_transformer_model_ft_direct.tgt_proj.initialize(ctx=ctx, force_reinit=True)\n",
    "\n",
    "model_filename_ft_direct = \"transformer_en_de_512_ft_direct.params\"\n",
    "\n",
    "wmt_translator_ft_direct = nmt.translation.BeamSearchTranslator(\n",
    "    model=wmt_transformer_model_ft_direct,\n",
    "    beam_size=hparams.beam_size,\n",
    "    scorer=nlp.model.BeamSearchScorer(alpha=hparams.lp_alpha, K=hparams.lp_k),\n",
    "    max_length=200)\n",
    "\n",
    "# Epochs & Batch Size\n",
    "hparams.epochs = 5\n",
    "hparams.lr = 0.00003\n",
    "# hparam.batch_size = 256\n",
    "hparams.log_interval = 3000\n",
    "\n",
    "loss_function = nlp.loss.MaskedSoftmaxCELoss()\n",
    "\n",
    "wmt_detokenizer = nlp.data.SacreMosesDetokenizer()"
   ]
  },
  {
   "cell_type": "code",
   "execution_count": 14,
   "id": "d6984010",
   "metadata": {},
   "outputs": [
    {
     "data": {
      "application/vnd.jupyter.widget-view+json": {
       "model_id": "563ad1552efb4b3e8073f2eb9d152fe0",
       "version_major": 2,
       "version_minor": 0
      },
      "text/plain": [
       "  0%|          | 0/5 [00:00<?, ?it/s]"
      ]
     },
     "metadata": {},
     "output_type": "display_data"
    },
    {
     "data": {
      "application/vnd.jupyter.widget-view+json": {
       "model_id": "e37d6c37db3f4dca9c964aef66e09def",
       "version_major": 2,
       "version_minor": 0
      },
      "text/plain": [
       "  0%|          | 0/15048 [00:00<?, ?it/s]"
      ]
     },
     "metadata": {},
     "output_type": "display_data"
    },
    {
     "name": "stdout",
     "output_type": "stream",
     "text": [
      "[Epoch 0 Batch 3000/15048] loss=1.4418, ppl=4.2283, throughput=4.12K wps, wc=1144.99K\n",
      "[Epoch 0 Batch 6000/15048] loss=1.4053, ppl=4.0766, throughput=4.28K wps, wc=1144.93K\n",
      "[Epoch 0 Batch 9000/15048] loss=1.3909, ppl=4.0186, throughput=4.31K wps, wc=1144.92K\n",
      "[Epoch 0 Batch 12000/15048] loss=1.3731, ppl=3.9476, throughput=4.31K wps, wc=1147.00K\n",
      "[Epoch 0 Batch 15000/15048] loss=1.3710, ppl=3.9394, throughput=4.32K wps, wc=1143.80K\n"
     ]
    },
    {
     "data": {
      "application/vnd.jupyter.widget-view+json": {
       "model_id": "7a2ef4a3c5854c00a94ffa70e84ee253",
       "version_major": 2,
       "version_minor": 0
      },
      "text/plain": [
       "  0%|          | 0/1030 [00:00<?, ?it/s]"
      ]
     },
     "metadata": {},
     "output_type": "display_data"
    },
    {
     "name": "stdout",
     "output_type": "stream",
     "text": [
      "[Epoch 0] valid Loss=1.4030, valid ppl=4.0673, valid bleu=28.08\n",
      "Save best parameters to transformer_en_de_512_ft_direct.params\n"
     ]
    },
    {
     "data": {
      "application/vnd.jupyter.widget-view+json": {
       "model_id": "7eb489a3e6f44b89af00954478c69896",
       "version_major": 2,
       "version_minor": 0
      },
      "text/plain": [
       "  0%|          | 0/15048 [00:00<?, ?it/s]"
      ]
     },
     "metadata": {},
     "output_type": "display_data"
    },
    {
     "name": "stdout",
     "output_type": "stream",
     "text": [
      "[Epoch 1 Batch 3000/15048] loss=1.2551, ppl=3.5080, throughput=4.27K wps, wc=1144.86K\n",
      "[Epoch 1 Batch 6000/15048] loss=1.2552, ppl=3.5087, throughput=4.27K wps, wc=1144.24K\n",
      "[Epoch 1 Batch 9000/15048] loss=1.2586, ppl=3.5204, throughput=4.25K wps, wc=1145.91K\n",
      "[Epoch 1 Batch 12000/15048] loss=1.2595, ppl=3.5237, throughput=4.27K wps, wc=1142.82K\n",
      "[Epoch 1 Batch 15000/15048] loss=1.2636, ppl=3.5382, throughput=4.28K wps, wc=1147.40K\n"
     ]
    },
    {
     "data": {
      "application/vnd.jupyter.widget-view+json": {
       "model_id": "c0eb404a1eee4905b3a2b0aa88a425a2",
       "version_major": 2,
       "version_minor": 0
      },
      "text/plain": [
       "  0%|          | 0/1030 [00:00<?, ?it/s]"
      ]
     },
     "metadata": {},
     "output_type": "display_data"
    },
    {
     "name": "stdout",
     "output_type": "stream",
     "text": [
      "[Epoch 1] valid Loss=1.4149, valid ppl=4.1161, valid bleu=26.36\n"
     ]
    },
    {
     "data": {
      "application/vnd.jupyter.widget-view+json": {
       "model_id": "df2dd53997574ab9be9eea4b1aa20774",
       "version_major": 2,
       "version_minor": 0
      },
      "text/plain": [
       "  0%|          | 0/15048 [00:00<?, ?it/s]"
      ]
     },
     "metadata": {},
     "output_type": "display_data"
    },
    {
     "name": "stdout",
     "output_type": "stream",
     "text": [
      "[Epoch 2 Batch 3000/15048] loss=1.1606, ppl=3.1919, throughput=4.24K wps, wc=1142.32K\n",
      "[Epoch 2 Batch 6000/15048] loss=1.1679, ppl=3.2154, throughput=4.23K wps, wc=1145.52K\n",
      "[Epoch 2 Batch 9000/15048] loss=1.1806, ppl=3.2562, throughput=4.22K wps, wc=1144.88K\n",
      "[Epoch 2 Batch 12000/15048] loss=1.1885, ppl=3.2822, throughput=4.24K wps, wc=1144.95K\n",
      "[Epoch 2 Batch 15000/15048] loss=1.1875, ppl=3.2789, throughput=4.25K wps, wc=1148.01K\n"
     ]
    },
    {
     "data": {
      "application/vnd.jupyter.widget-view+json": {
       "model_id": "bd81035d2f274f9c9285d1a71032fae5",
       "version_major": 2,
       "version_minor": 0
      },
      "text/plain": [
       "  0%|          | 0/1030 [00:00<?, ?it/s]"
      ]
     },
     "metadata": {},
     "output_type": "display_data"
    },
    {
     "name": "stdout",
     "output_type": "stream",
     "text": [
      "[Epoch 2] valid Loss=1.4449, valid ppl=4.2413, valid bleu=25.66\n"
     ]
    },
    {
     "data": {
      "application/vnd.jupyter.widget-view+json": {
       "model_id": "92035f99175a47c5b874b2814a6f01dd",
       "version_major": 2,
       "version_minor": 0
      },
      "text/plain": [
       "  0%|          | 0/15048 [00:00<?, ?it/s]"
      ]
     },
     "metadata": {},
     "output_type": "display_data"
    },
    {
     "name": "stdout",
     "output_type": "stream",
     "text": [
      "[Epoch 3 Batch 3000/15048] loss=1.0917, ppl=2.9793, throughput=4.22K wps, wc=1143.54K\n",
      "[Epoch 3 Batch 6000/15048] loss=1.1043, ppl=3.0170, throughput=4.24K wps, wc=1148.21K\n",
      "[Epoch 3 Batch 9000/15048] loss=1.1157, ppl=3.0517, throughput=4.23K wps, wc=1146.08K\n",
      "[Epoch 3 Batch 12000/15048] loss=1.1257, ppl=3.0824, throughput=4.22K wps, wc=1142.16K\n",
      "[Epoch 3 Batch 15000/15048] loss=1.1332, ppl=3.1056, throughput=4.25K wps, wc=1145.26K\n"
     ]
    },
    {
     "data": {
      "application/vnd.jupyter.widget-view+json": {
       "model_id": "85601eb1f8844926b48b403c08ef9ac0",
       "version_major": 2,
       "version_minor": 0
      },
      "text/plain": [
       "  0%|          | 0/1030 [00:00<?, ?it/s]"
      ]
     },
     "metadata": {},
     "output_type": "display_data"
    },
    {
     "name": "stdout",
     "output_type": "stream",
     "text": [
      "[Epoch 3] valid Loss=1.4653, valid ppl=4.3289, valid bleu=25.11\n"
     ]
    },
    {
     "data": {
      "application/vnd.jupyter.widget-view+json": {
       "model_id": "9c4aa109fb7c4e3ca5e40dbb54faa027",
       "version_major": 2,
       "version_minor": 0
      },
      "text/plain": [
       "  0%|          | 0/15048 [00:00<?, ?it/s]"
      ]
     },
     "metadata": {},
     "output_type": "display_data"
    },
    {
     "name": "stdout",
     "output_type": "stream",
     "text": [
      "[Epoch 4 Batch 3000/15048] loss=1.0317, ppl=2.8059, throughput=4.20K wps, wc=1144.87K\n",
      "[Epoch 4 Batch 6000/15048] loss=1.0548, ppl=2.8714, throughput=4.24K wps, wc=1144.21K\n",
      "[Epoch 4 Batch 9000/15048] loss=1.0643, ppl=2.8989, throughput=4.25K wps, wc=1147.42K\n",
      "[Epoch 4 Batch 12000/15048] loss=1.0680, ppl=2.9096, throughput=4.26K wps, wc=1143.92K\n",
      "[Epoch 4 Batch 15000/15048] loss=1.0791, ppl=2.9420, throughput=4.27K wps, wc=1145.33K\n"
     ]
    },
    {
     "data": {
      "application/vnd.jupyter.widget-view+json": {
       "model_id": "f3e16a8246c34ce58a906e7d0bef33f4",
       "version_major": 2,
       "version_minor": 0
      },
      "text/plain": [
       "  0%|          | 0/1030 [00:00<?, ?it/s]"
      ]
     },
     "metadata": {},
     "output_type": "display_data"
    },
    {
     "name": "stdout",
     "output_type": "stream",
     "text": [
      "[Epoch 4] valid Loss=1.4842, valid ppl=4.4112, valid bleu=24.99\n",
      "Training time for 10 epochs: 11406.558312892914 / Best validation loss: 1.4029905894300159\n"
     ]
    }
   ],
   "source": [
    "reload(transformer_model)\n",
    "\n",
    "# Let's train\n",
    "trainer = mx.gluon.Trainer(wmt_transformer_model_ft_direct.collect_params(), hparams.optimizer, {'learning_rate': hparams.lr})\n",
    "\n",
    "best_valid_bleu = 0.0\n",
    "\n",
    "wmt2016_train_losses = []\n",
    "wmt2016_valid_losses = []\n",
    "wmt2016_valid_bleus  = []\n",
    "wmt2016_valid_perplexities = []\n",
    "\n",
    "start_time = time.time()\n",
    "\n",
    "for epoch_id in tqdm(range(hparams.epochs)):\n",
    "\n",
    "    acc_train_loss_batch = 0\n",
    "    log_loss = 0\n",
    "    log_denom = 0\n",
    "    log_wc = 0\n",
    "    log_start_time = time.time()\n",
    "\n",
    "    # Iterate through each batch\n",
    "    for batch_id, (src_seq, tgt_seq, src_valid_length, tgt_valid_length) in enumerate(tqdm(wmt2016_train_data_loader)):\n",
    "\n",
    "        src_seq = src_seq.as_in_context(ctx_list[0])\n",
    "        tgt_seq = tgt_seq.as_in_context(ctx_list[0])\n",
    "        src_valid_length = src_valid_length.as_in_context(ctx_list[0])\n",
    "        tgt_valid_length = tgt_valid_length.as_in_context(ctx_list[0])\n",
    "        \n",
    "        with mx.autograd.record():\n",
    "            out, _ = wmt_transformer_model_ft_direct(\n",
    "                src_seq,\n",
    "                tgt_seq[:, :-1],\n",
    "                src_valid_length,\n",
    "                tgt_valid_length - 1)\n",
    "\n",
    "            loss = loss_function(out, tgt_seq[:, 1:], tgt_valid_length - 1).mean()\n",
    "            \n",
    "            loss.backward()\n",
    "            loss = loss * (tgt_seq.shape[1] - 1)\n",
    "            log_loss += loss * tgt_seq.shape[0]\n",
    "            log_denom += (tgt_valid_length - 1).sum()\n",
    "            loss = loss / (tgt_valid_length - 1).mean()\n",
    "\n",
    "        trainer.step(1)\n",
    "        \n",
    "        src_wc = src_valid_length.sum().asscalar()\n",
    "        tgt_wc = (tgt_valid_length - 1).sum().asscalar()\n",
    "        log_loss = log_loss.asscalar()\n",
    "        log_denom = log_denom.asscalar()\n",
    "        log_wc += src_wc + tgt_wc\n",
    "        \n",
    "        train_loss = log_loss / log_denom\n",
    "        acc_train_loss_batch += train_loss\n",
    "        \n",
    "        if (batch_id + 1) % hparams.log_interval == 0:\n",
    "            wps = log_wc / (time.time() - log_start_time)\n",
    "            print(\"[Epoch {} Batch {}/{}] loss={:.4f}, ppl={:.4f}, \"\n",
    "                         \"throughput={:.2f}K wps, wc={:.2f}K\"\n",
    "                         .format(epoch_id, batch_id + 1, len(wmt2016_train_data_loader),\n",
    "                                 train_loss,\n",
    "                                 np.exp(log_loss / log_denom),\n",
    "                                 wps / 1000, log_wc / 1000))\n",
    "            \n",
    "            log_start_time = time.time()\n",
    "            log_loss = 0\n",
    "            log_denom = 0\n",
    "            log_avg_gnorm = 0\n",
    "            log_wc = 0\n",
    "\n",
    "    wmt2016_train_loss = acc_train_loss_batch / len(wmt2016_train_data_loader)\n",
    "    wmt2016_train_losses.append(wmt2016_train_loss)\n",
    "    \n",
    "    # Validation step\n",
    "    wmt2016_valid_loss, wmt2016_valid_translation_out = transformer_model.evaluate(\n",
    "        wmt_transformer_model_ft_direct,\n",
    "        wmt2016_val_data_loader,\n",
    "        loss_function,\n",
    "        wmt_translator_ft_direct,\n",
    "        # wmt2016_train_data.tgt_vocab,\n",
    "        wmt_tgt_vocab,\n",
    "        wmt_detokenizer,\n",
    "        ctx_list[0])\n",
    "\n",
    "    wmt2016_valid_bleu_score, _, _, _, _ = nmt.bleu.compute_bleu(\n",
    "        [wmt2016_val_tgt_sentences],\n",
    "        wmt2016_valid_translation_out,\n",
    "        tokenized=False,\n",
    "        tokenizer=\"13a\",\n",
    "        split_compound_word=False,\n",
    "        bpe=False)\n",
    "    \n",
    "    wmt2016_valid_perplexity = np.exp(wmt2016_valid_loss)\n",
    "    wmt2016_valid_perplexities.append(wmt2016_valid_perplexity)\n",
    "    wmt2016_valid_losses.append(wmt2016_valid_loss)\n",
    "    wmt2016_valid_bleus.append(wmt2016_valid_bleu_score * 100)\n",
    "    \n",
    "    print(\"[Epoch {}] valid Loss={:.4f}, valid ppl={:.4f}, valid bleu={:.2f}\"\n",
    "          .format(epoch_id, wmt2016_valid_loss, wmt2016_valid_perplexity, wmt2016_valid_bleu_score * 100))\n",
    "    \n",
    "    if wmt2016_valid_bleu_score > best_valid_bleu:\n",
    "        best_valid_bleu = wmt2016_valid_bleu_score\n",
    "        print(\"Save best parameters to {}\".format(model_filename_ft_direct))\n",
    "        wmt_transformer_model_ft_direct.save_parameters(model_filename_ft_direct)\n",
    "    \n",
    "print(\"Training time for 5 epochs:\", time.time() - start_time, \"/ Best validation loss:\", min(wmt2016_valid_losses))"
   ]
  },
  {
   "cell_type": "code",
   "execution_count": 15,
   "id": "e7076f3e",
   "metadata": {},
   "outputs": [
    {
     "data": {
      "image/png": "[encoded data removed]",
      "text/plain": [
       "<Figure size 640x480 with 1 Axes>"
      ]
     },
     "metadata": {},
     "output_type": "display_data"
    }
   ],
   "source": [
    "# plot the losses\n",
    "plt.style.use(\"ggplot\")\n",
    "plt.figure()\n",
    "plt.plot(np.arange(0, hparams.epochs), wmt2016_valid_losses, label=\"Validation Loss\")\n",
    "plt.plot(np.arange(0, hparams.epochs), wmt2016_train_losses, label=\"Training Loss\")\n",
    "plt.xlabel(\"Epoch\")\n",
    "plt.ylabel(\"Loss\")\n",
    "plt.legend(loc=\"upper right\")\n",
    "plt.title(\"Losses\")\n",
    "plt.grid(False)\n",
    "plt.show()"
   ]
  },
  {
   "cell_type": "markdown",
   "id": "5ccb7318",
   "metadata": {},
   "source": [
    "### Evaluation"
   ]
  },
  {
   "cell_type": "markdown",
   "id": "a7c04b73",
   "metadata": {},
   "source": [
    "#### Quantitative Evaluation: Test Loss and BLEU score"
   ]
  },
  {
   "cell_type": "code",
   "execution_count": 16,
   "id": "98a25b4c",
   "metadata": {},
   "outputs": [
    {
     "data": {
      "application/vnd.jupyter.widget-view+json": {
       "model_id": "52dd4396ac5e4d9c82efdc8b2bb69319",
       "version_major": 2,
       "version_minor": 0
      },
      "text/plain": [
       "  0%|          | 0/184 [00:00<?, ?it/s]"
      ]
     },
     "metadata": {},
     "output_type": "display_data"
    },
    {
     "name": "stdout",
     "output_type": "stream",
     "text": [
      "WMT16 test loss: 1.28; test bleu score: 27.05\n"
     ]
    }
   ],
   "source": [
    "# Quantitative Evaluation\n",
    "# Load best model\n",
    "wmt_transformer_model_ft_direct.load_parameters(model_filename_ft_direct)\n",
    "\n",
    "wmt2016_test_loss, wmt2016_test_translation_out = transformer_model.evaluate(\n",
    "    wmt_transformer_model_ft_direct,\n",
    "    wmt2016_test_data_loader,\n",
    "    loss_function,\n",
    "    wmt_translator_ft_direct,\n",
    "    wmt_tgt_vocab,\n",
    "    wmt_detokenizer,\n",
    "    ctx_list[0])\n",
    "\n",
    "wmt2016_test_bleu_score, _, _, _, _ = nmt.bleu.compute_bleu(\n",
    "    [wmt2016_test_tgt_sentences],\n",
    "    wmt2016_test_translation_out,\n",
    "    tokenized=False,\n",
    "    tokenizer=\"13a\",\n",
    "    split_compound_word=False,\n",
    "    bpe=False)\n",
    "\n",
    "print('WMT16 test loss: %.2f; test bleu score: %.2f'\n",
    "      %(wmt2016_test_loss, wmt2016_test_bleu_score * 100))"
   ]
  },
  {
   "cell_type": "markdown",
   "id": "ff8f57d8",
   "metadata": {},
   "source": [
    "#### Qualitative Evaluation: Translation from English to German Example"
   ]
  },
  {
   "cell_type": "code",
   "execution_count": 17,
   "id": "c607c341",
   "metadata": {},
   "outputs": [
    {
     "name": "stdout",
     "output_type": "stream",
     "text": [
      "Qualitative Evaluation: Translating from English to German\n",
      "Expected translation:\n",
      "Ich lerne neue Dinge jeden Tag.\n",
      "In English:\n",
      "I learn new things every day.\n",
      "The German translation is:\n",
      "Immer wieder erfährt ich Neues.\n"
     ]
    }
   ],
   "source": [
    "# Qualitative Evaluation\n",
    "reload(transformer_model)\n",
    "\n",
    "print(\"Qualitative Evaluation: Translating from English to German\")\n",
    "\n",
    "# From Google Translate\n",
    "expected_tgt_seq = \"Ich lerne neue Dinge jeden Tag.\"\n",
    "print(\"Expected translation:\")\n",
    "print(expected_tgt_seq)\n",
    "\n",
    "src_seq = \"I learn new things every day.\"\n",
    "print(\"In English:\")\n",
    "print(src_seq)\n",
    "\n",
    "# translation_out = nmt.utils.translate_with_unk(\n",
    "# translation_out = nmt.utils.translate(\n",
    "translation_out = transformer_model.translate(\n",
    "    wmt_translator_ft_direct,\n",
    "    src_seq,\n",
    "    # wmt2016_train_data.src_vocab,\n",
    "    # wmt2016_train_data.tgt_vocab,\n",
    "    wmt_src_vocab,\n",
    "    wmt_tgt_vocab,\n",
    "    wmt_detokenizer,\n",
    "    ctx_list[0])\n",
    "\n",
    "print(\"The German translation is:\")\n",
    "print(\" \".join(translation_out[0]))"
   ]
  },
  {
   "cell_type": "markdown",
   "id": "42f7a93e",
   "metadata": {},
   "source": [
    "## Optimal Data Loading: CPU/GPU Optimization"
   ]
  },
  {
   "cell_type": "code",
   "execution_count": 71,
   "id": "ab3dbc51",
   "metadata": {},
   "outputs": [],
   "source": [
    "# Context variable is now a list,\n",
    "# with each element corresponding to a GPU device\n",
    "ctx_list = [mx.gpu(0), mx.gpu(1), mx.gpu(2), mx.gpu(3)]\n",
    "num_gpus = len(ctx_list)"
   ]
  },
  {
   "cell_type": "code",
   "execution_count": 72,
   "id": "173daaec",
   "metadata": {},
   "outputs": [],
   "source": [
    "# From strings converted to ND arrays,\n",
    "# we can continue processing in GPU\n",
    "# wmt2016_train_data_processed_gpu = mx.gluon.data.SimpleDataset(\n",
    "#     [(mx.nd.array(data).as_in_context(ctx_list[idx % num_gpus]), mx.nd.array(label).as_in_context(ctx_list[idx % num_gpus])) \n",
    "#      for idx, (data, label) in enumerate(wmt2016_train_data_processed)])\n",
    "\n",
    "# wmt2016_val_data_processed_gpu = mx.gluon.data.SimpleDataset(\n",
    "#     [(mx.nd.array(data).as_in_context(ctx_list[idx % num_gpus]), mx.nd.array(label).as_in_context(ctx_list[idx % num_gpus])) \n",
    "#      for idx, (data, label) in enumerate(wmt2016_val_data_processed)])\n",
    "\n",
    "# wmt2016_test_data_processed_gpu = mx.gluon.data.SimpleDataset(\n",
    "#     [(mx.nd.array(data).as_in_context(ctx_list[idx % num_gpus]), mx.nd.array(label).as_in_context(ctx_list[idx % num_gpus])) \n",
    "#      for idx, (data, label) in enumerate(wmt2016_test_data_processed)])\n",
    "\n",
    "# # Pre-processing in CPU to free GPU memory\n",
    "wmt2016_train_data_processed_gpu = wmt2016_train_data_processed\n",
    "wmt2016_val_data_processed_gpu = wmt2016_val_data_processed\n",
    "wmt2016_test_data_processed_gpu = wmt2016_test_data_processed"
   ]
  },
  {
   "cell_type": "code",
   "execution_count": 73,
   "id": "971e2bcb",
   "metadata": {},
   "outputs": [],
   "source": [
    "wmt2016_train_data_len_processed_gpu = wmt2016_train_data_processed_gpu.transform(lambda src, tgt: (src, tgt, len(src), len(tgt)), lazy=False)\n",
    "wmt2016_val_data_len_processed_gpu = wmt2016_val_data_processed_gpu.transform(transformer_model.get_length_index_fn(), lazy=False)\n",
    "wmt2016_test_data_len_processed_gpu = wmt2016_test_data_processed_gpu.transform(transformer_model.get_length_index_fn(), lazy=False)"
   ]
  },
  {
   "cell_type": "code",
   "execution_count": 74,
   "id": "86cadbf2",
   "metadata": {},
   "outputs": [],
   "source": [
    "reload(transformer_model)\n",
    "\n",
    "bucket_scheme = nlp.data.ExpWidthBucket(bucket_len_step=1.2)\n",
    "\n",
    "wmt2016_train_batch_sampler_gpu = nlp.data.FixedBucketSampler(\n",
    "    lengths=wmt2016_train_data_lengths,\n",
    "    use_average_length=True, # control the element lengths (i.e. number of tokens) to be about the same\n",
    "#     use_average_length=False,\n",
    "    bucket_scheme=bucket_scheme,\n",
    "    batch_size=hparams.batch_size * 16,\n",
    "    shuffle=True)\n",
    "\n",
    "wmt2016_val_batch_sampler_gpu = nlp.data.FixedBucketSampler(\n",
    "    lengths=wmt2016_val_data_lengths,\n",
    "    use_average_length=True, # control the element lengths (i.e. number of tokens) to be about the same\n",
    "#     use_average_length=False,\n",
    "    num_buckets=hparams.num_buckets,\n",
    "    bucket_scheme=bucket_scheme,\n",
    "    batch_size=hparams.batch_size * 16,\n",
    "    shuffle=False)\n",
    "\n",
    "wmt2016_test_batch_sampler_gpu = nlp.data.FixedBucketSampler(\n",
    "    lengths=wmt2016_test_data_lengths,\n",
    "    use_average_length=True, # control the element lengths (i.e. number of tokens) to be about the same\n",
    "#     use_average_length=False,\n",
    "    num_buckets=hparams.num_buckets,\n",
    "    bucket_scheme=bucket_scheme,\n",
    "    batch_size=hparams.batch_size * 16,\n",
    "    shuffle=False)"
   ]
  },
  {
   "cell_type": "code",
   "execution_count": 75,
   "id": "476721fc",
   "metadata": {},
   "outputs": [],
   "source": [
    "num_workers = 0\n",
    "\n",
    "wmt2016_train_data_loader_gpu = mx.gluon.data.DataLoader(\n",
    "    wmt2016_train_data_len_processed_gpu,\n",
    "    batch_sampler=wmt2016_train_batch_sampler_gpu,\n",
    "    batchify_fn=train_batchify_fn,\n",
    "    num_workers=num_workers)\n",
    "\n",
    "wmt2016_val_data_loader_gpu = mx.gluon.data.DataLoader(\n",
    "    wmt2016_val_data_len_processed_gpu,\n",
    "    batch_sampler=wmt2016_val_batch_sampler_gpu,\n",
    "    batchify_fn=val_batchify_fn,\n",
    "    num_workers=num_workers,\n",
    "    shuffle=False)\n",
    "\n",
    "wmt2016_test_data_loader_gpu = mx.gluon.data.DataLoader(\n",
    "    wmt2016_test_data_len_processed_gpu,\n",
    "    batch_sampler=wmt2016_test_batch_sampler_gpu,\n",
    "    batchify_fn=val_batchify_fn,\n",
    "    num_workers=num_workers,\n",
    "    shuffle=False)\n",
    "\n",
    "# wmt2016_train_data_loader_gpu = wmt2016_train_data_loader\n",
    "# wmt2016_val_data_loader_gpu = wmt2016_val_data_loader\n",
    "# wmt2016_test_data_loader_gpu = wmt2016_test_data_loader"
   ]
  },
  {
   "cell_type": "markdown",
   "id": "b425167f",
   "metadata": {},
   "source": [
    "#### Testing Pre-processing and Data-Loading"
   ]
  },
  {
   "cell_type": "code",
   "execution_count": 68,
   "id": "0d9d9b52",
   "metadata": {},
   "outputs": [
    {
     "name": "stdout",
     "output_type": "stream",
     "text": [
      "Pre-processing time (s): 50.427586793899536\n"
     ]
    }
   ],
   "source": [
    "start_time = time.time()\n",
    "\n",
    "wmt2016_train_data_processed = wmt2016_train_data.transform(\n",
    "    wmt_transform_fn,\n",
    "    lazy=False)\n",
    "\n",
    "wmt2016_train_data_processed_gpu = mx.gluon.data.SimpleDataset(\n",
    "    [(mx.nd.array(data).as_in_context(ctx_list[idx % num_gpus]), mx.nd.array(label).as_in_context(ctx_list[idx % num_gpus])) \n",
    "     for idx, (data, label) in enumerate(wmt2016_train_data_processed)])\n",
    "\n",
    "wmt2016_train_data_lengths = transformer_model.get_data_lengths(wmt2016_train_data_processed_gpu)\n",
    "\n",
    "wmt2016_train_data_len_processed_gpu = wmt2016_train_data_processed_gpu.transform(lambda src, tgt: (src, tgt, len(src), len(tgt)), lazy=False)\n",
    "\n",
    "to_cpu_fn = lambda data, label, src_len, tgt_len: (data.as_in_context(mx.cpu()), label.as_in_context(mx.cpu()), src_len, tgt_len)\n",
    "\n",
    "wmt2016_train_data_len_processed_gpu_cpu = wmt2016_train_data_len_processed_gpu.transform(to_cpu_fn, lazy=False)\n",
    "\n",
    "print(\"Pre-processing time (s):\", time.time() - start_time)"
   ]
  },
  {
   "cell_type": "code",
   "execution_count": 69,
   "id": "f638a145",
   "metadata": {},
   "outputs": [
    {
     "data": {
      "application/vnd.jupyter.widget-view+json": {
       "model_id": "7d3ed4de15fd48509cbbf6b56817009c",
       "version_major": 2,
       "version_minor": 0
      },
      "text/plain": [
       "  0%|          | 0/15048 [00:00<?, ?it/s]"
      ]
     },
     "metadata": {},
     "output_type": "display_data"
    },
    {
     "name": "stdout",
     "output_type": "stream",
     "text": [
      "Data-Loading in GPU time (s): 72.83465576171875\n"
     ]
    }
   ],
   "source": [
    "start_time = time.time()\n",
    "\n",
    "wmt2016_train_data_processed = wmt2016_train_data.transform(\n",
    "    wmt_transform_fn,\n",
    "    lazy=False)\n",
    "\n",
    "wmt2016_train_data_processed_gpu = mx.gluon.data.SimpleDataset(\n",
    "    [(mx.nd.array(data).as_in_context(ctx_list[idx % num_gpus]), mx.nd.array(label).as_in_context(ctx_list[idx % num_gpus])) \n",
    "     for idx, (data, label) in enumerate(wmt2016_train_data_processed)])\n",
    "\n",
    "wmt2016_train_data_lengths = transformer_model.get_data_lengths(wmt2016_train_data_processed_gpu)\n",
    "\n",
    "wmt2016_train_data_len_processed_gpu = wmt2016_train_data_processed_gpu.transform(lambda src, tgt: (src, tgt, len(src), len(tgt)), lazy=False)\n",
    "\n",
    "to_cpu_fn = lambda data, label, src_len, tgt_len: (data.as_in_context(mx.cpu()), label.as_in_context(mx.cpu()), src_len, tgt_len)\n",
    "\n",
    "wmt2016_train_data_len_processed_gpu_cpu = wmt2016_train_data_len_processed_gpu.transform(to_cpu_fn, lazy=False)\n",
    "\n",
    "wmt2016_train_data_loader_gpu = mx.gluon.data.DataLoader(\n",
    "    wmt2016_train_data_len_processed_gpu,\n",
    "    batch_sampler=wmt2016_train_batch_sampler_gpu,\n",
    "    batchify_fn=train_batchify_fn,\n",
    "    num_workers=num_workers)\n",
    "\n",
    "for idx, (data, label, _, _) in enumerate(tqdm(wmt2016_train_data_loader)):\n",
    "    data.as_in_context(ctx_list[idx % num_gpus])\n",
    "    label.as_in_context(ctx_list[idx % num_gpus])\n",
    "\n",
    "print(\"Data-Loading in GPU time (s):\", time.time() - start_time)"
   ]
  },
  {
   "cell_type": "code",
   "execution_count": 80,
   "id": "dcb2d751",
   "metadata": {},
   "outputs": [
    {
     "data": {
      "application/vnd.jupyter.widget-view+json": {
       "model_id": "a7923e50a87a40c39ff8153d3875e525",
       "version_major": 2,
       "version_minor": 0
      },
      "text/plain": [
       "  0%|          | 0/15048 [00:00<?, ?it/s]"
      ]
     },
     "metadata": {},
     "output_type": "display_data"
    },
    {
     "name": "stdout",
     "output_type": "stream",
     "text": [
      "Data-Loading in CPU with Gluon DataLoaders time (s): 24.988255500793457\n"
     ]
    }
   ],
   "source": [
    "start_time = time.time()\n",
    "\n",
    "wmt2016_train_data_processed = wmt2016_train_data.transform(\n",
    "    wmt_transform_fn,\n",
    "    lazy=False)\n",
    "\n",
    "wmt2016_train_data_lengths = transformer_model.get_data_lengths(wmt2016_train_data_processed)\n",
    "\n",
    "wmt2016_train_data_len_processed = wmt2016_train_data_processed.transform(lambda src, tgt: (src, tgt, len(src), len(tgt)), lazy=False)\n",
    "\n",
    "wmt2016_train_data_loader = mx.gluon.data.DataLoader(\n",
    "    wmt2016_train_data_len_processed,\n",
    "    batch_sampler=wmt2016_train_batch_sampler,\n",
    "    batchify_fn=train_batchify_fn,\n",
    "    num_workers=num_workers)\n",
    "\n",
    "for idx, (data, label, _, _) in enumerate(tqdm(wmt2016_train_data_loader)):\n",
    "    data.as_in_context(ctx_list[idx % num_gpus])\n",
    "    label.as_in_context(ctx_list[idx % num_gpus])\n",
    "\n",
    "print(\"Data-Loading in CPU with Gluon DataLoaders time (s):\", time.time() - start_time)"
   ]
  },
  {
   "cell_type": "markdown",
   "id": "7ddd30b8",
   "metadata": {},
   "source": [
    "## Optimal Training: Automatic Mixed Precision (AMP) + Multi-GPU"
   ]
  },
  {
   "cell_type": "code",
   "execution_count": 76,
   "id": "9466424a",
   "metadata": {},
   "outputs": [],
   "source": [
    "# Context variable is now a list,\n",
    "# with each element corresponding to a GPU device\n",
    "ctx_list = [mx.gpu(0), mx.gpu(1), mx.gpu(2), mx.gpu(3)]\n",
    "num_gpus = len(ctx_list)"
   ]
  },
  {
   "cell_type": "code",
   "execution_count": 78,
   "id": "1b6d8b57",
   "metadata": {},
   "outputs": [
    {
     "name": "stdout",
     "output_type": "stream",
     "text": [
      "Source Vocab: 36794 , Target Vocab: 36794\n"
     ]
    }
   ],
   "source": [
    "# AMP\n",
    "amp.init()\n",
    "\n",
    "# Build on top of Pre-Trained model\n",
    "wmt_model_name = 'transformer_en_de_512'\n",
    "wmt_transformer_model_ft_direct_opt, _, _ = nlp.model.get_model(\n",
    "    wmt_model_name,\n",
    "    dataset_name='WMT2014',\n",
    "    pretrained=True,\n",
    "    ctx=ctx_list)\n",
    "\n",
    "print('Source Vocab:', len(wmt_src_vocab), ', Target Vocab:', len(wmt_tgt_vocab))\n",
    "\n",
    "# No need to re-configure last layer, just re-initialize\n",
    "# wmt_transformer_model_ft_direct.tgt_proj.initialize(ctx=ctx_list, force_reinit=True)\n",
    "\n",
    "wmt_transformer_model_ft_direct_opt.hybridize(static_alloc=True, static_shape=True)\n",
    "\n",
    "model_filename_ft_direct_opt = \"transformer_en_de_512_ft_direct_opt.params\"\n",
    "\n",
    "\n",
    "wmt_translator_ft_direct_opt = nmt.translation.BeamSearchTranslator(\n",
    "    model=wmt_transformer_model_ft_direct_opt,\n",
    "    beam_size=hparams.beam_size,\n",
    "    scorer=nlp.model.BeamSearchScorer(alpha=hparams.lp_alpha, K=hparams.lp_k),\n",
    "    max_length=200)\n",
    "\n",
    "# Epochs & Batch Size\n",
    "hparams.epochs = 5\n",
    "hparams.lr = 0.0001\n",
    "# hparams.batch_size = 16 * 256\n",
    "# hparams.lr = 0.00003\n",
    "hparams.log_interval = 100\n",
    "\n",
    "loss_function = nlp.loss.MaskedSoftmaxCELoss()\n",
    "loss_function.hybridize(static_alloc=True)\n",
    "\n",
    "wmt_detokenizer = nlp.data.SacreMosesDetokenizer()"
   ]
  },
  {
   "cell_type": "code",
   "execution_count": 79,
   "id": "66984439",
   "metadata": {},
   "outputs": [
    {
     "data": {
      "application/vnd.jupyter.widget-view+json": {
       "model_id": "ddad3af0692842d38d323810dcb75416",
       "version_major": 2,
       "version_minor": 0
      },
      "text/plain": [
       "  0%|          | 0/5 [00:00<?, ?it/s]"
      ]
     },
     "metadata": {},
     "output_type": "display_data"
    },
    {
     "data": {
      "application/vnd.jupyter.widget-view+json": {
       "model_id": "77cadc45550945248fbfe7136ad8bebd",
       "version_major": 2,
       "version_minor": 0
      },
      "text/plain": [
       "  0%|          | 0/806 [00:00<?, ?it/s]"
      ]
     },
     "metadata": {},
     "output_type": "display_data"
    },
    {
     "name": "stderr",
     "output_type": "stream",
     "text": [
      "[17:13:08] /work/mxnet/src/kvstore/././comm.h:741: only 4 out of 12 GPU pairs are enabled direct access. It may affect the performance. You can set MXNET_ENABLE_GPU_P2P=0 to turn it off\n",
      "[17:13:08] /work/mxnet/src/kvstore/././comm.h:750: .v..\n",
      "[17:13:08] /work/mxnet/src/kvstore/././comm.h:750: v...\n",
      "[17:13:08] /work/mxnet/src/kvstore/././comm.h:750: ...v\n",
      "[17:13:08] /work/mxnet/src/kvstore/././comm.h:750: ..v.\n"
     ]
    },
    {
     "name": "stdout",
     "output_type": "stream",
     "text": [
      "[Epoch 0 Batch 100/806] loss=1.4677, ppl=4.3391, throughput=24.07K wps, wc=704.91K\n",
      "[Epoch 0 Batch 200/806] loss=1.4442, ppl=4.2386, throughput=12.85K wps, wc=718.76K\n",
      "[Epoch 0 Batch 300/806] loss=1.4165, ppl=4.1227, throughput=8.61K wps, wc=717.06K\n",
      "[Epoch 0 Batch 400/806] loss=1.4091, ppl=4.0923, throughput=6.44K wps, wc=712.26K\n",
      "[Epoch 0 Batch 500/806] loss=1.3886, ppl=4.0094, throughput=5.17K wps, wc=712.52K\n",
      "[Epoch 0 Batch 600/806] loss=1.3895, ppl=4.0129, throughput=4.30K wps, wc=709.65K\n",
      "[Epoch 0 Batch 700/806] loss=1.3674, ppl=3.9253, throughput=3.71K wps, wc=711.76K\n",
      "[Epoch 0 Batch 800/806] loss=1.3892, ppl=4.0114, throughput=3.28K wps, wc=713.76K\n"
     ]
    },
    {
     "data": {
      "application/vnd.jupyter.widget-view+json": {
       "model_id": "f3324383ff8c40b7849d79110c3f5043",
       "version_major": 2,
       "version_minor": 0
      },
      "text/plain": [
       "  0%|          | 0/14 [00:00<?, ?it/s]"
      ]
     },
     "metadata": {},
     "output_type": "display_data"
    },
    {
     "name": "stderr",
     "output_type": "stream",
     "text": [
      "[17:16:47] /work/mxnet/src/imperative/./cached_op.h:254: Disabling fusion due to altered topological order of inputs.\n",
      "[17:16:51] /work/mxnet/src/imperative/./cached_op.h:254: Disabling fusion due to altered topological order of inputs.\n",
      "[17:16:55] /work/mxnet/src/imperative/./cached_op.h:254: Disabling fusion due to altered topological order of inputs.\n",
      "[17:16:59] /work/mxnet/src/imperative/./cached_op.h:254: Disabling fusion due to altered topological order of inputs.\n"
     ]
    },
    {
     "name": "stdout",
     "output_type": "stream",
     "text": [
      "[Epoch 0] valid Loss=1.2577, valid ppl=3.5173, valid bleu=28.31\n",
      "Save best parameters to transformer_en_de_512_ft_direct_opt.params\n"
     ]
    },
    {
     "data": {
      "application/vnd.jupyter.widget-view+json": {
       "model_id": "ffc4a57f780542c6bab5ea1fb79cacf3",
       "version_major": 2,
       "version_minor": 0
      },
      "text/plain": [
       "  0%|          | 0/806 [00:00<?, ?it/s]"
      ]
     },
     "metadata": {},
     "output_type": "display_data"
    },
    {
     "name": "stdout",
     "output_type": "stream",
     "text": [
      "[Epoch 1 Batch 100/806] loss=1.2779, ppl=3.5890, throughput=25.97K wps, wc=712.34K\n",
      "[Epoch 1 Batch 200/806] loss=1.3089, ppl=3.7021, throughput=13.18K wps, wc=713.54K\n",
      "[Epoch 1 Batch 300/806] loss=1.2779, ppl=3.5890, throughput=8.85K wps, wc=714.97K\n",
      "[Epoch 1 Batch 400/806] loss=1.2754, ppl=3.5802, throughput=6.60K wps, wc=710.28K\n",
      "[Epoch 1 Batch 500/806] loss=1.2856, ppl=3.6167, throughput=5.21K wps, wc=704.30K\n",
      "[Epoch 1 Batch 600/806] loss=1.2739, ppl=3.5748, throughput=4.40K wps, wc=713.27K\n",
      "[Epoch 1 Batch 700/806] loss=1.2888, ppl=3.6283, throughput=3.80K wps, wc=717.55K\n",
      "[Epoch 1 Batch 800/806] loss=1.2962, ppl=3.6553, throughput=3.31K wps, wc=714.58K\n"
     ]
    },
    {
     "data": {
      "application/vnd.jupyter.widget-view+json": {
       "model_id": "157ca7390f8746ff97d2c050b7936737",
       "version_major": 2,
       "version_minor": 0
      },
      "text/plain": [
       "  0%|          | 0/14 [00:00<?, ?it/s]"
      ]
     },
     "metadata": {},
     "output_type": "display_data"
    },
    {
     "name": "stdout",
     "output_type": "stream",
     "text": [
      "[Epoch 1] valid Loss=1.2200, valid ppl=3.3871, valid bleu=27.15\n"
     ]
    },
    {
     "data": {
      "application/vnd.jupyter.widget-view+json": {
       "model_id": "eb04f29257ee43fdb65f26b00b9c1ec0",
       "version_major": 2,
       "version_minor": 0
      },
      "text/plain": [
       "  0%|          | 0/806 [00:00<?, ?it/s]"
      ]
     },
     "metadata": {},
     "output_type": "display_data"
    },
    {
     "name": "stdout",
     "output_type": "stream",
     "text": [
      "[Epoch 2 Batch 100/806] loss=1.2055, ppl=3.3386, throughput=25.54K wps, wc=704.26K\n",
      "[Epoch 2 Batch 200/806] loss=1.2026, ppl=3.3287, throughput=13.24K wps, wc=714.86K\n",
      "[Epoch 2 Batch 300/806] loss=1.1976, ppl=3.3120, throughput=8.91K wps, wc=717.93K\n",
      "[Epoch 2 Batch 400/806] loss=1.2128, ppl=3.3630, throughput=6.58K wps, wc=708.12K\n",
      "[Epoch 2 Batch 500/806] loss=1.1894, ppl=3.2851, throughput=5.31K wps, wc=715.40K\n",
      "[Epoch 2 Batch 600/806] loss=1.2247, ppl=3.4032, throughput=4.42K wps, wc=711.32K\n",
      "[Epoch 2 Batch 700/806] loss=1.2196, ppl=3.3857, throughput=3.83K wps, wc=716.75K\n",
      "[Epoch 2 Batch 800/806] loss=1.2060, ppl=3.3400, throughput=3.34K wps, wc=715.43K\n"
     ]
    },
    {
     "data": {
      "application/vnd.jupyter.widget-view+json": {
       "model_id": "25c8fab2e6794974859d671fd4dcc551",
       "version_major": 2,
       "version_minor": 0
      },
      "text/plain": [
       "  0%|          | 0/14 [00:00<?, ?it/s]"
      ]
     },
     "metadata": {},
     "output_type": "display_data"
    },
    {
     "name": "stdout",
     "output_type": "stream",
     "text": [
      "[Epoch 2] valid Loss=1.2261, valid ppl=3.4078, valid bleu=27.30\n"
     ]
    },
    {
     "data": {
      "application/vnd.jupyter.widget-view+json": {
       "model_id": "24930b0343cf4c55b04765d4c880e219",
       "version_major": 2,
       "version_minor": 0
      },
      "text/plain": [
       "  0%|          | 0/806 [00:00<?, ?it/s]"
      ]
     },
     "metadata": {},
     "output_type": "display_data"
    },
    {
     "name": "stdout",
     "output_type": "stream",
     "text": [
      "[Epoch 3 Batch 100/806] loss=1.1408, ppl=3.1291, throughput=24.80K wps, wc=713.75K\n",
      "[Epoch 3 Batch 200/806] loss=1.1504, ppl=3.1593, throughput=12.80K wps, wc=711.63K\n",
      "[Epoch 3 Batch 300/806] loss=1.1307, ppl=3.0978, throughput=8.56K wps, wc=711.19K\n",
      "[Epoch 3 Batch 400/806] loss=1.1728, ppl=3.2311, throughput=6.55K wps, wc=717.84K\n",
      "[Epoch 3 Batch 500/806] loss=1.1604, ppl=3.1911, throughput=5.22K wps, wc=711.71K\n",
      "[Epoch 3 Batch 600/806] loss=1.1378, ppl=3.1199, throughput=4.36K wps, wc=711.19K\n",
      "[Epoch 3 Batch 700/806] loss=1.1639, ppl=3.2024, throughput=3.78K wps, wc=717.22K\n",
      "[Epoch 3 Batch 800/806] loss=1.1314, ppl=3.1000, throughput=3.26K wps, wc=706.79K\n"
     ]
    },
    {
     "data": {
      "application/vnd.jupyter.widget-view+json": {
       "model_id": "c20ccc1858c54020998bf55f05d78fed",
       "version_major": 2,
       "version_minor": 0
      },
      "text/plain": [
       "  0%|          | 0/14 [00:00<?, ?it/s]"
      ]
     },
     "metadata": {},
     "output_type": "display_data"
    },
    {
     "name": "stdout",
     "output_type": "stream",
     "text": [
      "[Epoch 3] valid Loss=1.2531, valid ppl=3.5012, valid bleu=26.06\n"
     ]
    },
    {
     "data": {
      "application/vnd.jupyter.widget-view+json": {
       "model_id": "7de379ce75654c74990dcfebe947f378",
       "version_major": 2,
       "version_minor": 0
      },
      "text/plain": [
       "  0%|          | 0/806 [00:00<?, ?it/s]"
      ]
     },
     "metadata": {},
     "output_type": "display_data"
    },
    {
     "name": "stdout",
     "output_type": "stream",
     "text": [
      "[Epoch 4 Batch 100/806] loss=1.0833, ppl=2.9545, throughput=25.75K wps, wc=715.33K\n",
      "[Epoch 4 Batch 200/806] loss=1.0873, ppl=2.9662, throughput=13.06K wps, wc=717.68K\n",
      "[Epoch 4 Batch 300/806] loss=1.1041, ppl=3.0166, throughput=8.79K wps, wc=716.74K\n",
      "[Epoch 4 Batch 400/806] loss=1.0872, ppl=2.9661, throughput=6.48K wps, wc=702.89K\n",
      "[Epoch 4 Batch 500/806] loss=1.1097, ppl=3.0334, throughput=5.19K wps, wc=704.50K\n",
      "[Epoch 4 Batch 600/806] loss=1.1045, ppl=3.0176, throughput=4.42K wps, wc=715.83K\n",
      "[Epoch 4 Batch 700/806] loss=1.0966, ppl=2.9939, throughput=3.78K wps, wc=715.56K\n",
      "[Epoch 4 Batch 800/806] loss=1.1251, ppl=3.0804, throughput=3.31K wps, wc=712.20K\n"
     ]
    },
    {
     "data": {
      "application/vnd.jupyter.widget-view+json": {
       "model_id": "a20aa7d1d4ff4f4a97230d95fe04866b",
       "version_major": 2,
       "version_minor": 0
      },
      "text/plain": [
       "  0%|          | 0/14 [00:00<?, ?it/s]"
      ]
     },
     "metadata": {},
     "output_type": "display_data"
    },
    {
     "name": "stdout",
     "output_type": "stream",
     "text": [
      "[Epoch 4] valid Loss=1.2717, valid ppl=3.5668, valid bleu=25.79\n",
      "Training time for 5 epochs: 1947.1244320869446 / Best validation loss: 1.2199710432327155\n"
     ]
    }
   ],
   "source": [
    "reload(transformer_model)\n",
    "\n",
    "# Let's train\n",
    "trainer = mx.gluon.Trainer(wmt_transformer_model_ft_direct_opt.collect_params(), hparams.optimizer, {'learning_rate': hparams.lr})\n",
    "\n",
    "best_valid_bleu = 0.0\n",
    "\n",
    "wmt2016_train_losses = []\n",
    "wmt2016_valid_losses = []\n",
    "wmt2016_valid_bleus  = []\n",
    "wmt2016_valid_perplexities = []\n",
    "\n",
    "amp.init_trainer(trainer)\n",
    "\n",
    "start_time = time.time()\n",
    "\n",
    "for epoch_id in tqdm(range(hparams.epochs)):\n",
    "\n",
    "    acc_train_loss_batch = 0\n",
    "    log_loss = 0\n",
    "    log_denom = 0\n",
    "    log_wc = 0\n",
    "    log_start_time = time.time()\n",
    "\n",
    "    # Iterate through each batch\n",
    "    for batch_id, (src_seq, tgt_seq, src_valid_length, tgt_valid_length) in enumerate(tqdm(wmt2016_train_data_loader_gpu)):\n",
    "           \n",
    "        src_seq_list = mx.gluon.utils.split_and_load(src_seq, ctx_list=ctx_list, even_split=False)\n",
    "        tgt_seq_list = mx.gluon.utils.split_and_load(tgt_seq, ctx_list=ctx_list, even_split=False)\n",
    "        src_valid_length_list = mx.gluon.utils.split_and_load(src_valid_length, ctx_list=ctx_list, even_split=False)\n",
    "        tgt_valid_length_list = mx.gluon.utils.split_and_load(tgt_valid_length, ctx_list=ctx_list, even_split=False)\n",
    "        \n",
    "        losses = []\n",
    "        \n",
    "        with mx.autograd.record():\n",
    "            for src_seq_slice, tgt_seq_slice, src_valid_length_slice, tgt_valid_length_slice in zip(src_seq_list, tgt_seq_list, src_valid_length_list, tgt_valid_length_list):\n",
    "                \n",
    "                assert src_seq_slice.context == tgt_seq_slice.context == src_valid_length_slice.context == tgt_valid_length_slice.context                \n",
    "                \n",
    "                out_slice, _ = wmt_transformer_model_ft_direct_opt(\n",
    "                    src_seq_slice,\n",
    "                    tgt_seq_slice[:, :-1],\n",
    "                    src_valid_length_slice,\n",
    "                    tgt_valid_length_slice - 1)\n",
    "                \n",
    "                loss = loss_function(out_slice, tgt_seq_slice[:, 1:], tgt_valid_length_slice - 1)\n",
    "                loss.backward()\n",
    "                \n",
    "#                 with amp.scale_loss(loss, trainer) as scaled_loss:\n",
    "#                     scaled_loss.backward()\n",
    "                    \n",
    "                losses.append(loss)\n",
    "        \n",
    "        trainer.step(1)\n",
    "        \n",
    "        src_wc = 0\n",
    "        tgt_wc = 0\n",
    "        \n",
    "        for loss, tgt_seq_slice, src_valid_length_slice, tgt_valid_length_slice in zip(losses, tgt_seq_list, src_valid_length_list, tgt_valid_length_list):\n",
    "            \n",
    "            assert loss.context == tgt_seq_slice.context == src_valid_length_slice.context == tgt_valid_length_slice.context\n",
    "            \n",
    "            src_valid_length_slice_cpu = src_valid_length_slice.as_in_context(mx.cpu())\n",
    "            tgt_valid_length_slice_cpu = tgt_valid_length_slice.as_in_context(mx.cpu())\n",
    "            \n",
    "            loss = loss.mean().as_in_context(mx.cpu()) * (tgt_seq_slice.shape[1] - 1)\n",
    "            log_loss += loss * tgt_seq_slice.shape[0]\n",
    "            log_denom += (tgt_valid_length_slice_cpu - 1).sum()\n",
    "            loss = loss / (tgt_valid_length_slice_cpu - 1).mean()\n",
    "            \n",
    "            src_wc += src_valid_length_slice_cpu.sum().asscalar()\n",
    "            tgt_wc += (tgt_valid_length_slice_cpu - 1).sum().asscalar()\n",
    "        \n",
    "\n",
    "        log_loss = log_loss.asscalar()\n",
    "        log_denom = log_denom.asscalar()\n",
    "        log_wc += src_wc + tgt_wc\n",
    "            \n",
    "        train_loss = log_loss / log_denom\n",
    "        acc_train_loss_batch += train_loss\n",
    "        \n",
    "        if (batch_id + 1) % hparams.log_interval == 0:\n",
    "            wps = log_wc / (time.time() - log_start_time)\n",
    "            print(\"[Epoch {} Batch {}/{}] loss={:.4f}, ppl={:.4f}, \"\n",
    "                         \"throughput={:.2f}K wps, wc={:.2f}K\"\n",
    "                         .format(epoch_id, batch_id + 1, len(wmt2016_train_data_loader_gpu),\n",
    "                                 train_loss,\n",
    "                                 np.exp(log_loss / log_denom),\n",
    "                                 wps / 1000, log_wc / 1000))\n",
    "            \n",
    "            log_loss = 0\n",
    "            log_denom = 0\n",
    "            log_wc = 0\n",
    "\n",
    "    wmt2016_train_loss = acc_train_loss_batch / len(wmt2016_train_data_loader_gpu)\n",
    "    wmt2016_train_losses.append(wmt2016_train_loss)\n",
    "    \n",
    "    # Validation step\n",
    "    wmt2016_valid_loss, wmt2016_valid_translation_out = transformer_model.evaluate_multi(\n",
    "        wmt_transformer_model_ft_direct_opt,\n",
    "        wmt2016_val_data_loader_gpu,\n",
    "        loss_function,\n",
    "        wmt_translator_ft_direct_opt,\n",
    "        wmt_tgt_vocab,\n",
    "        wmt_detokenizer,\n",
    "        ctx_list=ctx_list)\n",
    "\n",
    "    wmt2016_valid_bleu_score, _, _, _, _ = nmt.bleu.compute_bleu(\n",
    "        [wmt2016_val_tgt_sentences],\n",
    "        wmt2016_valid_translation_out,\n",
    "        tokenized=False,\n",
    "        tokenizer=\"13a\",\n",
    "        split_compound_word=False,\n",
    "        bpe=False)\n",
    "\n",
    "    wmt2016_valid_perplexity = np.exp(wmt2016_valid_loss)\n",
    "    wmt2016_valid_perplexities.append(wmt2016_valid_perplexity)\n",
    "    wmt2016_valid_losses.append(wmt2016_valid_loss)\n",
    "    wmt2016_valid_bleus.append(wmt2016_valid_bleu_score * 100)\n",
    "    \n",
    "    print(\"[Epoch {}] valid Loss={:.4f}, valid ppl={:.4f}, valid bleu={:.2f}\"\n",
    "          .format(epoch_id, wmt2016_valid_loss, wmt2016_valid_perplexity, wmt2016_valid_bleu_score * 100))\n",
    "    \n",
    "    if wmt2016_valid_bleu_score > best_valid_bleu:\n",
    "        best_valid_bleu = wmt2016_valid_bleu_score\n",
    "        print(\"Save best parameters to {}\".format(model_filename_ft_direct_opt))\n",
    "        wmt_transformer_model_ft_direct_opt.save_parameters(model_filename_ft_direct_opt)\n",
    "\n",
    "print(\"Training time for 5 epochs:\", time.time() - start_time, \"/ Best validation loss:\", min(wmt2016_valid_losses))"
   ]
  },
  {
   "cell_type": "code",
   "execution_count": 81,
   "id": "e431cc8b",
   "metadata": {},
   "outputs": [
    {
     "data": {
      "image/png": "[encoded data removed]",
      "text/plain": [
       "<Figure size 640x480 with 1 Axes>"
      ]
     },
     "metadata": {},
     "output_type": "display_data"
    }
   ],
   "source": [
    "# plot the losses\n",
    "plt.style.use(\"ggplot\")\n",
    "plt.figure()\n",
    "plt.plot(np.arange(0, hparams.epochs), wmt2016_valid_losses, label=\"Validation Loss\")\n",
    "plt.plot(np.arange(0, hparams.epochs), wmt2016_train_losses, label=\"Training Loss\")\n",
    "plt.xlabel(\"Epoch\")\n",
    "plt.ylabel(\"Loss\")\n",
    "plt.legend(loc=\"upper right\")\n",
    "plt.title(\"Losses\")\n",
    "plt.grid(False)\n",
    "plt.show()"
   ]
  },
  {
   "cell_type": "markdown",
   "id": "f329802c",
   "metadata": {},
   "source": [
    "### Evaluation"
   ]
  },
  {
   "cell_type": "markdown",
   "id": "f7840313",
   "metadata": {},
   "source": [
    "#### Quantitative Evaluation: Test Loss and BLEU score"
   ]
  },
  {
   "cell_type": "code",
   "execution_count": 82,
   "id": "8fc37201",
   "metadata": {},
   "outputs": [
    {
     "data": {
      "application/vnd.jupyter.widget-view+json": {
       "model_id": "65c97acbbeea49b5a4c744ca2c9af2a0",
       "version_major": 2,
       "version_minor": 0
      },
      "text/plain": [
       "  0%|          | 0/13 [00:00<?, ?it/s]"
      ]
     },
     "metadata": {},
     "output_type": "display_data"
    },
    {
     "name": "stdout",
     "output_type": "stream",
     "text": [
      "WMT16 test loss: 1.27; test bleu score: 27.89\n"
     ]
    }
   ],
   "source": [
    "# Quantitative Evaluation\n",
    "# Load best model\n",
    "wmt_transformer_model_ft_direct_opt.load_parameters(model_filename_ft_direct_opt)\n",
    "\n",
    "wmt2016_test_loss, wmt2016_test_translation_out = transformer_model.evaluate_multi(\n",
    "    wmt_transformer_model_ft_direct_opt,\n",
    "    wmt2016_test_data_loader_gpu,\n",
    "    loss_function,\n",
    "    wmt_translator_ft_direct_opt,\n",
    "    wmt_tgt_vocab,\n",
    "    wmt_detokenizer,\n",
    "    ctx_list)\n",
    "\n",
    "wmt2016_test_bleu_score, _, _, _, _ = nmt.bleu.compute_bleu(\n",
    "    [wmt2016_test_tgt_sentences],\n",
    "    wmt2016_test_translation_out,\n",
    "    tokenized=False,\n",
    "    tokenizer=\"13a\",\n",
    "    split_compound_word=False,\n",
    "    bpe=False)\n",
    "\n",
    "print('WMT16 test loss: %.2f; test bleu score: %.2f'\n",
    "      %(wmt2016_test_loss, wmt2016_test_bleu_score * 100))"
   ]
  },
  {
   "cell_type": "markdown",
   "id": "b13387f4",
   "metadata": {},
   "source": [
    "#### Qualitative Evaluation: Translation from English to German Example"
   ]
  },
  {
   "cell_type": "code",
   "execution_count": 83,
   "id": "ad77330d",
   "metadata": {},
   "outputs": [
    {
     "name": "stdout",
     "output_type": "stream",
     "text": [
      "Qualitative Evaluation: Translating from English to German\n",
      "Expected translation:\n",
      "Ich lerne neue Dinge.\n",
      "In English:\n",
      "I learn new things every day.\n",
      "The German translation is:\n",
      "Ich lerne jedes Mal Neues.\n"
     ]
    }
   ],
   "source": [
    "# Qualitative Evaluation\n",
    "reload(transformer_model)\n",
    "\n",
    "print(\"Qualitative Evaluation: Translating from English to German\")\n",
    "\n",
    "# From Google Translate\n",
    "expected_tgt_seq = \"Ich lerne neue Dinge.\"\n",
    "print(\"Expected translation:\")\n",
    "print(expected_tgt_seq)\n",
    "\n",
    "src_seq = \"I learn new things every day.\"\n",
    "print(\"In English:\")\n",
    "print(src_seq)\n",
    "\n",
    "# translation_out = nmt.utils.translate_with_unk(\n",
    "# translation_out = nmt.utils.translate(\n",
    "translation_out = transformer_model.translate(\n",
    "    wmt_translator_ft_direct_opt,\n",
    "    src_seq,\n",
    "    # wmt2016_train_data.src_vocab,\n",
    "    # wmt2016_train_data.tgt_vocab,\n",
    "    wmt_src_vocab,\n",
    "    wmt_tgt_vocab,\n",
    "    wmt_detokenizer,\n",
    "    ctx_list[0])\n",
    "\n",
    "print(\"The German translation is:\")\n",
    "print(\" \".join(translation_out[0]))"
   ]
  }
 ],
 "metadata": {
  "kernelspec": {
   "display_name": "Python 3 (ipykernel)",
   "language": "python",
   "name": "python3"
  },
  "language_info": {
   "codemirror_mode": {
    "name": "ipython",
    "version": 3
   },
   "file_extension": ".py",
   "mimetype": "text/x-python",
   "name": "python",
   "nbconvert_exporter": "python",
   "pygments_lexer": "ipython3",
   "version": "3.9.2"
  }
 },
 "nbformat": 4,
 "nbformat_minor": 5
}
