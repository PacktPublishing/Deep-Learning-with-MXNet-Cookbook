{
 "cells": [
  {
   "cell_type": "code",
   "execution_count": 1,
   "id": "de6b5fce",
   "metadata": {
    "scrolled": true
   },
   "outputs": [
    {
     "data": {
      "text/plain": [
       "16"
      ]
     },
     "execution_count": 1,
     "metadata": {},
     "output_type": "execute_result"
    }
   ],
   "source": [
    "import os\n",
    "import multiprocessing\n",
    "multiprocessing.cpu_count()"
   ]
  },
  {
   "cell_type": "code",
   "execution_count": 2,
   "id": "117850d2",
   "metadata": {},
   "outputs": [],
   "source": [
    "import mxnet as mx\n",
    "import gluonnlp as nlp\n",
    "from mxnet.contrib import amp\n",
    "\n",
    "import matplotlib.pyplot as plt\n",
    "import numpy as np\n",
    "import os\n",
    "import random\n",
    "import sacremoses\n",
    "import time\n",
    "from tqdm.notebook import tqdm\n",
    "import io\n",
    "from importlib import reload\n",
    "\n",
    "# Local Libraries\n",
    "import nmt\n",
    "import dataprocessor\n",
    "import utils\n",
    "import nmt.transformer_hparams\n",
    "import transformer_model\n",
    "\n",
    "# Hyperparameters for Dataloaders and Training\n",
    "hparams = nmt.transformer_hparams\n",
    "\n",
    "# Seeds for reproducibility\n",
    "np.random.seed(100)\n",
    "random.seed(100)\n",
    "mx.random.seed(100)"
   ]
  },
  {
   "cell_type": "markdown",
   "id": "3974c42d",
   "metadata": {},
   "source": [
    "## Dataset Import"
   ]
  },
  {
   "cell_type": "code",
   "execution_count": 3,
   "id": "99204447",
   "metadata": {},
   "outputs": [],
   "source": [
    "# WMT2016 Dataset\n",
    "src_lang, tgt_lang = \"en\", \"de\"\n",
    "\n",
    "wmt2016_train_data = nlp.data.WMT2016BPE(\n",
    "    'train',\n",
    "    src_lang=src_lang,\n",
    "    tgt_lang=tgt_lang)\n",
    "\n",
    "wmt2016_val_data = nlp.data.WMT2016BPE(\n",
    "    'newstest2016',\n",
    "    src_lang=src_lang,\n",
    "    tgt_lang=tgt_lang)\n",
    "\n",
    "wmt2016_test_data = nlp.data.WMT2016BPE(\n",
    "    'newstest2016',\n",
    "    src_lang=src_lang,\n",
    "    tgt_lang=tgt_lang)\n",
    "\n",
    "# Text sentences for evaluation\n",
    "wmt2016_val_text = nlp.data.WMT2016(\n",
    "    'newstest2016',\n",
    "    src_lang=src_lang,\n",
    "    tgt_lang=tgt_lang)\n",
    "\n",
    "wmt2016_test_text = nlp.data.WMT2016(\n",
    "    'newstest2016',\n",
    "    src_lang=src_lang,\n",
    "    tgt_lang=tgt_lang)\n",
    "\n",
    "src_max_len, tgt_max_len = 50, 50"
   ]
  },
  {
   "cell_type": "code",
   "execution_count": 4,
   "id": "66cb8581",
   "metadata": {},
   "outputs": [],
   "source": [
    "# Train data test\n",
    "# train_length = 100000\n",
    "train_length = 3000\n",
    "wmt2016_train_data._data[0] = wmt2016_train_data._data[0][:train_length]\n",
    "wmt2016_train_data._data[1] = wmt2016_train_data._data[1][:train_length]\n",
    "wmt2016_train_data._length = train_length\n",
    "\n",
    "# Split Val / Test sets\n",
    "# val_length = 1500\n",
    "# test_length = len(wmt2016_test_text) - val_length\n",
    "val_length = 300\n",
    "test_length = 300\n",
    "test_length = 1500\n",
    "\n",
    "wmt2016_val_data._data[0] = wmt2016_val_data._data[0][:val_length]\n",
    "wmt2016_val_data._data[1] = wmt2016_val_data._data[1][:val_length]\n",
    "wmt2016_val_data._length = val_length\n",
    "\n",
    "wmt2016_val_text._data[0] = wmt2016_val_text._data[0][:val_length]\n",
    "wmt2016_val_text._data[1] = wmt2016_val_text._data[1][:val_length]\n",
    "wmt2016_val_text._length = val_length\n",
    "\n",
    "wmt2016_test_data._data[0] = wmt2016_test_data._data[0][-test_length:]\n",
    "wmt2016_test_data._data[1] = wmt2016_test_data._data[1][-test_length:]\n",
    "wmt2016_test_data._length = test_length\n",
    "\n",
    "wmt2016_test_text._data[0] = wmt2016_test_text._data[0][-test_length:]\n",
    "wmt2016_test_text._data[1] = wmt2016_test_text._data[1][-test_length:]\n",
    "wmt2016_test_text._length = test_length"
   ]
  },
  {
   "cell_type": "code",
   "execution_count": 5,
   "id": "362bfba8",
   "metadata": {},
   "outputs": [
    {
     "name": "stdout",
     "output_type": "stream",
     "text": [
      "Length of train set: 3000\n",
      "Length of val set  : 300\n",
      "Length of test set : 1500\n"
     ]
    }
   ],
   "source": [
    "print(\"Length of train set:\", len(wmt2016_train_data))\n",
    "print(\"Length of val set  :\", len(wmt2016_val_data))\n",
    "print(\"Length of test set :\", len(wmt2016_test_data))"
   ]
  },
  {
   "cell_type": "code",
   "execution_count": 6,
   "id": "6971c960",
   "metadata": {},
   "outputs": [],
   "source": [
    "wmt2016_val_tgt_sentences = wmt2016_val_text.transform(lambda src, tgt: tgt, lazy=False)\n",
    "wmt2016_test_tgt_sentences = wmt2016_test_text.transform(lambda src, tgt: tgt, lazy=False)"
   ]
  },
  {
   "cell_type": "code",
   "execution_count": 7,
   "id": "4fcb0b5e",
   "metadata": {},
   "outputs": [
    {
     "name": "stderr",
     "output_type": "stream",
     "text": [
      "/home/ext_andres_pereztorres_oxbotica_/.local/lib/python3.9/site-packages/gluonnlp/vocab/vocab.py:590: UserWarning: Detected a corrupted index in the deserialize vocabulary. For versions before GluonNLP v0.7 the index is corrupted by specifying the same token for different special purposes, for example eos_token == padding_token. Deserializing the vocabulary nevertheless.\n",
      "  warnings.warn(\n"
     ]
    }
   ],
   "source": [
    "reload(transformer_model)\n",
    "\n",
    "# For vocab\n",
    "wmt_model_name = \"transformer_en_de_512\"\n",
    "_, wmt_src_vocab, wmt_tgt_vocab = nlp.model.get_model(\n",
    "    wmt_model_name,\n",
    "    dataset_name='WMT2014',\n",
    "    pretrained=True,\n",
    "    ctx=mx.cpu())\n",
    "\n",
    "# Pre-processing WMT2016\n",
    "wmt_transform_fn = dataprocessor.TrainValDataTransform(\n",
    "    # wmt2016_train_data.src_vocab,\n",
    "    # wmt2016_train_data.tgt_vocab,\n",
    "    wmt_src_vocab,\n",
    "    wmt_tgt_vocab,\n",
    "    src_max_len,\n",
    "    tgt_max_len)\n",
    "\n",
    "wmt2016_train_data_processed = wmt2016_train_data.transform(\n",
    "    wmt_transform_fn)\n",
    "\n",
    "wmt2016_val_data_processed = wmt2016_val_data.transform(\n",
    "    wmt_transform_fn)\n",
    "\n",
    "wmt2016_test_data_processed = wmt2016_test_data.transform(\n",
    "    wmt_transform_fn)\n",
    "\n",
    "wmt2016_train_data_lengths = transformer_model.get_data_lengths(wmt2016_train_data_processed)\n",
    "wmt2016_val_data_lengths = transformer_model.get_data_lengths(wmt2016_val_data_processed)\n",
    "wmt2016_test_data_lengths = transformer_model.get_data_lengths(wmt2016_test_data_processed)"
   ]
  },
  {
   "cell_type": "code",
   "execution_count": 8,
   "id": "74c35966",
   "metadata": {},
   "outputs": [],
   "source": [
    "# Add Lengths to the datasets and indexes for validation and test\n",
    "wmt2016_train_data_len_processed = wmt2016_train_data_processed.transform(lambda src, tgt: (src, tgt, len(src), len(tgt)), lazy=False)\n",
    "wmt2016_val_data_len_processed = wmt2016_val_data_processed.transform(transformer_model.get_length_index_fn(), lazy=False)\n",
    "wmt2016_test_data_len_processed = wmt2016_test_data_processed.transform(transformer_model.get_length_index_fn(), lazy=False)"
   ]
  },
  {
   "cell_type": "code",
   "execution_count": 9,
   "id": "d6d2c5ce",
   "metadata": {},
   "outputs": [],
   "source": [
    "train_batchify_fn = nlp.data.batchify.Tuple(\n",
    "    nlp.data.batchify.Pad(pad_val=0),\n",
    "    nlp.data.batchify.Pad(pad_val=0),\n",
    "    nlp.data.batchify.Stack(dtype='float32'),\n",
    "    nlp.data.batchify.Stack(dtype='float32'))\n",
    "\n",
    "val_batchify_fn = nlp.data.batchify.Tuple(\n",
    "    nlp.data.batchify.Pad(pad_val=0),\n",
    "    nlp.data.batchify.Pad(pad_val=0),\n",
    "    nlp.data.batchify.Stack(dtype='float32'),\n",
    "    nlp.data.batchify.Stack(dtype='float32'),\n",
    "    nlp.data.batchify.Stack())"
   ]
  },
  {
   "cell_type": "code",
   "execution_count": 18,
   "id": "0b31ad55",
   "metadata": {},
   "outputs": [],
   "source": [
    "reload(transformer_model)\n",
    "\n",
    "bucket_scheme = nlp.data.ExpWidthBucket(bucket_len_step=1.2)\n",
    "\n",
    "wmt2016_train_batch_sampler = nlp.data.FixedBucketSampler(\n",
    "    lengths=wmt2016_train_data_lengths,\n",
    "    use_average_length=True, # control the element lengths (i.e. number of tokens) to be about the same\n",
    "    num_buckets=hparams.num_buckets,\n",
    "    bucket_scheme=bucket_scheme,\n",
    "    batch_size=hparams.batch_size,\n",
    "    shuffle=True)\n",
    "\n",
    "wmt2016_val_batch_sampler = nlp.data.FixedBucketSampler(\n",
    "    lengths=wmt2016_val_data_lengths,\n",
    "    use_average_length=True, # control the element lengths (i.e. number of tokens) to be about the same\n",
    "    num_buckets=hparams.num_buckets,\n",
    "    bucket_scheme=bucket_scheme,\n",
    "    batch_size=hparams.test_batch_size,\n",
    "    shuffle=False)\n",
    "\n",
    "wmt2016_test_batch_sampler = nlp.data.FixedBucketSampler(\n",
    "    lengths=wmt2016_test_data_lengths,\n",
    "    use_average_length=True, # control the element lengths (i.e. number of tokens) to be about the same\n",
    "    num_buckets=hparams.num_buckets,\n",
    "    bucket_scheme=bucket_scheme,\n",
    "    batch_size=hparams.batch_size,\n",
    "    shuffle=False)"
   ]
  },
  {
   "cell_type": "code",
   "execution_count": 19,
   "id": "6b1c3f03",
   "metadata": {},
   "outputs": [],
   "source": [
    "num_workers = 0\n",
    "\n",
    "wmt2016_train_data_loader = nlp.data.ShardedDataLoader(\n",
    "    wmt2016_train_data_len_processed,\n",
    "    batch_sampler=wmt2016_train_batch_sampler,\n",
    "    batchify_fn=train_batchify_fn,\n",
    "    num_workers=num_workers)\n",
    "\n",
    "wmt2016_val_data_loader = nlp.data.ShardedDataLoader(\n",
    "    wmt2016_val_data_len_processed,\n",
    "    batch_sampler=wmt2016_val_batch_sampler,\n",
    "    batchify_fn=val_batchify_fn,\n",
    "    num_workers=num_workers,\n",
    "    shuffle=False)\n",
    "\n",
    "wmt2016_test_data_loader = nlp.data.ShardedDataLoader(\n",
    "    wmt2016_test_data_len_processed,\n",
    "    batch_sampler=wmt2016_test_batch_sampler,\n",
    "    batchify_fn=val_batchify_fn,\n",
    "    num_workers=num_workers,\n",
    "    shuffle=False)"
   ]
  },
  {
   "cell_type": "markdown",
   "id": "bcf43455",
   "metadata": {},
   "source": [
    "## Naive Training"
   ]
  },
  {
   "cell_type": "code",
   "execution_count": 21,
   "id": "404f3720",
   "metadata": {},
   "outputs": [],
   "source": [
    "# Single GPU training\n",
    "ctx_list = [mx.gpu(0)]"
   ]
  },
  {
   "cell_type": "code",
   "execution_count": 22,
   "id": "1c5a5fc3",
   "metadata": {},
   "outputs": [
    {
     "name": "stdout",
     "output_type": "stream",
     "text": [
      "Source Vocab: 36794 , Target Vocab: 36794\n"
     ]
    }
   ],
   "source": [
    "# Build on top of Pre-Trained model\n",
    "wmt_model_name = 'transformer_en_de_512'\n",
    "wmt_transformer_model_ft_direct, _, _ = nlp.model.get_model(\n",
    "    wmt_model_name,\n",
    "    dataset_name='WMT2014',\n",
    "    pretrained=True,\n",
    "    ctx=ctx_list)\n",
    "\n",
    "print('Source Vocab:', len(wmt_src_vocab), ', Target Vocab:', len(wmt_tgt_vocab))\n",
    "\n",
    "# No need to re-configure last layer, just re-initialize\n",
    "# wmt_transformer_model_ft_direct.tgt_proj.initialize(ctx=ctx, force_reinit=True)\n",
    "\n",
    "model_filename_ft_direct = \"transformer_en_de_512_ft_direct.params\"\n",
    "\n",
    "wmt_translator_ft_direct = nmt.translation.BeamSearchTranslator(\n",
    "    model=wmt_transformer_model_ft_direct,\n",
    "    beam_size=hparams.beam_size,\n",
    "    scorer=nlp.model.BeamSearchScorer(alpha=hparams.lp_alpha, K=hparams.lp_k),\n",
    "    max_length=200)\n",
    "\n",
    "# hparams.epochs = 10\n",
    "hparams.epochs = 2\n",
    "hparams.lr = 0.00003\n",
    "hparams.log_interval = 100\n",
    "\n",
    "loss_function = nlp.loss.MaskedSoftmaxCELoss()\n",
    "\n",
    "wmt_detokenizer = nlp.data.SacreMosesDetokenizer()"
   ]
  },
  {
   "cell_type": "code",
   "execution_count": 23,
   "id": "d6984010",
   "metadata": {},
   "outputs": [
    {
     "data": {
      "application/vnd.jupyter.widget-view+json": {
       "model_id": "43fa355923d740d6a1e2ed78909e53da",
       "version_major": 2,
       "version_minor": 0
      },
      "text/plain": [
       "  0%|          | 0/2 [00:00<?, ?it/s]"
      ]
     },
     "metadata": {},
     "output_type": "display_data"
    },
    {
     "data": {
      "application/vnd.jupyter.widget-view+json": {
       "model_id": "313c5a79fc3549cfbedbfd696a4b56d1",
       "version_major": 2,
       "version_minor": 0
      },
      "text/plain": [
       "  0%|          | 0/184 [00:00<?, ?it/s]"
      ]
     },
     "metadata": {},
     "output_type": "display_data"
    },
    {
     "name": "stdout",
     "output_type": "stream",
     "text": [
      "[Epoch 0 Batch 100/445] loss=1.6997, ppl=5.4721, throughput=4.23K wps, wc=43.96K\n"
     ]
    },
    {
     "data": {
      "application/vnd.jupyter.widget-view+json": {
       "model_id": "dce7ab1550c2401fbcbcabb969edc09a",
       "version_major": 2,
       "version_minor": 0
      },
      "text/plain": [
       "  0%|          | 0/192 [00:00<?, ?it/s]"
      ]
     },
     "metadata": {},
     "output_type": "display_data"
    },
    {
     "name": "stdout",
     "output_type": "stream",
     "text": [
      "[Epoch 0] valid Loss=1.4483, valid ppl=4.2557, valid bleu=31.72\n",
      "Save best parameters to transformer_en_de_512_ft_direct.params\n"
     ]
    },
    {
     "data": {
      "application/vnd.jupyter.widget-view+json": {
       "model_id": "78f526b39cc7421cb67854fba1fc4d66",
       "version_major": 2,
       "version_minor": 0
      },
      "text/plain": [
       "  0%|          | 0/184 [00:00<?, ?it/s]"
      ]
     },
     "metadata": {},
     "output_type": "display_data"
    },
    {
     "name": "stdout",
     "output_type": "stream",
     "text": [
      "[Epoch 1 Batch 100/445] loss=1.4333, ppl=4.1925, throughput=4.75K wps, wc=43.96K\n"
     ]
    },
    {
     "data": {
      "application/vnd.jupyter.widget-view+json": {
       "model_id": "dd90f3e39a1b4ce78812f06c362c813a",
       "version_major": 2,
       "version_minor": 0
      },
      "text/plain": [
       "  0%|          | 0/192 [00:00<?, ?it/s]"
      ]
     },
     "metadata": {},
     "output_type": "display_data"
    },
    {
     "name": "stdout",
     "output_type": "stream",
     "text": [
      "[Epoch 1] valid Loss=1.4232, valid ppl=4.1503, valid bleu=29.27\n",
      "Training time for 10 epochs: 422.52239179611206 / Best validation loss: 1.423180778719894\n"
     ]
    }
   ],
   "source": [
    "reload(transformer_model)\n",
    "\n",
    "# Let's train\n",
    "trainer = mx.gluon.Trainer(wmt_transformer_model_ft_direct.collect_params(), hparams.optimizer, {'learning_rate': hparams.lr})\n",
    "\n",
    "best_valid_bleu = 0.0\n",
    "\n",
    "wmt2016_train_losses = []\n",
    "wmt2016_valid_losses = []\n",
    "wmt2016_valid_bleus  = []\n",
    "wmt2016_valid_perplexities = []\n",
    "\n",
    "start_time = time.time()\n",
    "\n",
    "for epoch_id in tqdm(range(hparams.epochs)):\n",
    "\n",
    "    acc_train_loss_batch = 0\n",
    "    log_loss = 0\n",
    "    log_denom = 0\n",
    "    log_wc = 0\n",
    "    log_start_time = time.time()\n",
    "\n",
    "    # Iterate through each batch\n",
    "    # for batch_id, (src_seq, tgt_seq, src_valid_length, tgt_valid_length) in enumerate(tqdm(wmt2016_train_data_loader)):\n",
    "    for batch_id, (src_seq, tgt_seq, src_valid_length, tgt_valid_length, _) in enumerate(tqdm(wmt2016_test_data_loader)):\n",
    "\n",
    "        src_seq = src_seq.as_in_context(ctx_list[0])\n",
    "        tgt_seq = tgt_seq.as_in_context(ctx_list[0])\n",
    "        src_valid_length = src_valid_length.as_in_context(ctx_list[0])\n",
    "        tgt_valid_length = tgt_valid_length.as_in_context(ctx_list[0])\n",
    "        \n",
    "        with mx.autograd.record():\n",
    "            out, _ = wmt_transformer_model_ft_direct(\n",
    "                src_seq,\n",
    "                tgt_seq[:, :-1],\n",
    "                src_valid_length,\n",
    "                tgt_valid_length - 1)\n",
    "\n",
    "            loss = loss_function(out, tgt_seq[:, 1:], tgt_valid_length - 1).mean()\n",
    "            \n",
    "            loss.backward()\n",
    "            loss = loss * (tgt_seq.shape[1] - 1)\n",
    "            log_loss += loss * tgt_seq.shape[0]\n",
    "            log_denom += (tgt_valid_length - 1).sum()\n",
    "            loss = loss / (tgt_valid_length - 1).mean()\n",
    "\n",
    "        trainer.step(1)\n",
    "        \n",
    "        src_wc = src_valid_length.sum().asscalar()\n",
    "        tgt_wc = (tgt_valid_length - 1).sum().asscalar()\n",
    "        log_loss = log_loss.asscalar()\n",
    "        log_denom = log_denom.asscalar()\n",
    "        log_wc += src_wc + tgt_wc\n",
    "        \n",
    "        train_loss = log_loss / log_denom\n",
    "        acc_train_loss_batch += train_loss\n",
    "        \n",
    "        if (batch_id + 1) % hparams.log_interval == 0:\n",
    "            wps = log_wc / (time.time() - log_start_time)\n",
    "            print(\"[Epoch {} Batch {}/{}] loss={:.4f}, ppl={:.4f}, \"\n",
    "                         \"throughput={:.2f}K wps, wc={:.2f}K\"\n",
    "                         .format(epoch_id, batch_id + 1, len(wmt2016_train_data_loader),\n",
    "                                 train_loss,\n",
    "                                 np.exp(log_loss / log_denom),\n",
    "                                 wps / 1000, log_wc / 1000))\n",
    "            \n",
    "            log_start_time = time.time()\n",
    "            log_loss = 0\n",
    "            log_denom = 0\n",
    "            log_avg_gnorm = 0\n",
    "            log_wc = 0\n",
    "\n",
    "    wmt2016_train_loss = acc_train_loss_batch / len(wmt2016_train_data_loader)\n",
    "    wmt2016_train_losses.append(wmt2016_train_loss)\n",
    "    \n",
    "    # Validation step\n",
    "    wmt2016_valid_loss, wmt2016_valid_translation_out = transformer_model.evaluate(\n",
    "        wmt_transformer_model_ft_direct,\n",
    "        wmt2016_val_data_loader,\n",
    "        loss_function,\n",
    "        wmt_translator_ft_direct,\n",
    "        # wmt2016_train_data.tgt_vocab,\n",
    "        wmt_tgt_vocab,\n",
    "        wmt_detokenizer,\n",
    "        ctx_list[0])\n",
    "\n",
    "    wmt2016_valid_bleu_score, _, _, _, _ = nmt.bleu.compute_bleu(\n",
    "        [wmt2016_val_tgt_sentences],\n",
    "        wmt2016_valid_translation_out,\n",
    "        tokenized=False,\n",
    "        tokenizer=\"13a\",\n",
    "        split_compound_word=False,\n",
    "        bpe=False)\n",
    "    \n",
    "    wmt2016_valid_perplexity = np.exp(wmt2016_valid_loss)\n",
    "    wmt2016_valid_perplexities.append(wmt2016_valid_perplexity)\n",
    "    wmt2016_valid_losses.append(wmt2016_valid_loss)\n",
    "    wmt2016_valid_bleus.append(wmt2016_valid_bleu_score * 100)\n",
    "    \n",
    "    print(\"[Epoch {}] valid Loss={:.4f}, valid ppl={:.4f}, valid bleu={:.2f}\"\n",
    "          .format(epoch_id, wmt2016_valid_loss, wmt2016_valid_perplexity, wmt2016_valid_bleu_score * 100))\n",
    "    \n",
    "    if wmt2016_valid_bleu_score > best_valid_bleu:\n",
    "        best_valid_bleu = wmt2016_valid_bleu_score\n",
    "        print(\"Save best parameters to {}\".format(model_filename_ft_direct))\n",
    "        wmt_transformer_model_ft_direct.save_parameters(model_filename_ft_direct)\n",
    "    \n",
    "print(\"Training time for 10 epochs:\", time.time() - start_time, \"/ Best validation loss:\", min(wmt2016_valid_losses))"
   ]
  },
  {
   "cell_type": "code",
   "execution_count": 24,
   "id": "e7076f3e",
   "metadata": {},
   "outputs": [
    {
     "data": {
      "image/png": "[encoded data removed]",
      "text/plain": [
       "<Figure size 640x480 with 1 Axes>"
      ]
     },
     "metadata": {},
     "output_type": "display_data"
    }
   ],
   "source": [
    "# plot the losses\n",
    "plt.style.use(\"ggplot\")\n",
    "plt.figure()\n",
    "plt.plot(np.arange(0, hparams.epochs), wmt2016_valid_losses, label=\"Validation Loss\")\n",
    "plt.plot(np.arange(0, hparams.epochs), wmt2016_train_losses, label=\"Training Loss\")\n",
    "plt.xlabel(\"Epoch\")\n",
    "plt.ylabel(\"Loss\")\n",
    "plt.legend(loc=\"upper right\")\n",
    "plt.title(\"Losses\")\n",
    "plt.grid(False)\n",
    "plt.show()"
   ]
  },
  {
   "cell_type": "markdown",
   "id": "5ccb7318",
   "metadata": {},
   "source": [
    "### Evaluation"
   ]
  },
  {
   "cell_type": "markdown",
   "id": "a7c04b73",
   "metadata": {},
   "source": [
    "#### Quantitative Evaluation: Test Loss and BLEU score"
   ]
  },
  {
   "cell_type": "code",
   "execution_count": 25,
   "id": "98a25b4c",
   "metadata": {},
   "outputs": [
    {
     "data": {
      "application/vnd.jupyter.widget-view+json": {
       "model_id": "",
       "version_major": 2,
       "version_minor": 0
      },
      "text/plain": [
       "  0%|          | 0/184 [00:00<?, ?it/s]"
      ]
     },
     "metadata": {},
     "output_type": "display_data"
    },
    {
     "name": "stdout",
     "output_type": "stream",
     "text": [
      "WMT16 test loss: 1.18; test bleu score: 34.71\n"
     ]
    }
   ],
   "source": [
    "# Quantitative Evaluation\n",
    "# Load best model\n",
    "wmt_transformer_model_ft_direct.load_parameters(model_filename_ft_direct)\n",
    "\n",
    "wmt2016_test_loss, wmt2016_test_translation_out = transformer_model.evaluate(\n",
    "    wmt_transformer_model_ft_direct,\n",
    "    wmt2016_test_data_loader,\n",
    "    loss_function,\n",
    "    wmt_translator_ft_direct,\n",
    "    wmt_tgt_vocab,\n",
    "    wmt_detokenizer,\n",
    "    ctx_list[0])\n",
    "\n",
    "wmt2016_test_bleu_score, _, _, _, _ = nmt.bleu.compute_bleu(\n",
    "    [wmt2016_test_tgt_sentences],\n",
    "    wmt2016_test_translation_out,\n",
    "    tokenized=False,\n",
    "    tokenizer=\"13a\",\n",
    "    split_compound_word=False,\n",
    "    bpe=False)\n",
    "\n",
    "print('WMT16 test loss: %.2f; test bleu score: %.2f'\n",
    "      %(wmt2016_test_loss, wmt2016_test_bleu_score * 100))"
   ]
  },
  {
   "cell_type": "markdown",
   "id": "ff8f57d8",
   "metadata": {},
   "source": [
    "#### Qualitative Evaluation: Translation from English to German Example"
   ]
  },
  {
   "cell_type": "code",
   "execution_count": 26,
   "id": "c607c341",
   "metadata": {},
   "outputs": [
    {
     "name": "stdout",
     "output_type": "stream",
     "text": [
      "Qualitative Evaluation: Translating from English to German\n",
      "Expected translation:\n",
      "Ich lerne jeden Tag neue Dinge.\n",
      "In English:\n",
      "I learn new things every day.\n",
      "The German translation is:\n",
      "Ich lerne immer wieder Neues\n"
     ]
    }
   ],
   "source": [
    "# Qualitative Evaluation\n",
    "reload(transformer_model)\n",
    "\n",
    "print(\"Qualitative Evaluation: Translating from English to German\")\n",
    "\n",
    "# From Google Translate\n",
    "expected_tgt_seq = \"Ich lerne neue Dinge jeden Tag.\"\n",
    "print(\"Expected translation:\")\n",
    "print(expected_tgt_seq)\n",
    "\n",
    "src_seq = \"I learn new things every day.\"\n",
    "print(\"In English:\")\n",
    "print(src_seq)\n",
    "\n",
    "# translation_out = nmt.utils.translate_with_unk(\n",
    "# translation_out = nmt.utils.translate(\n",
    "translation_out = transformer_model.translate(\n",
    "    wmt_translator_ft_direct,\n",
    "    src_seq,\n",
    "    # wmt2016_train_data.src_vocab,\n",
    "    # wmt2016_train_data.tgt_vocab,\n",
    "    wmt_src_vocab,\n",
    "    wmt_tgt_vocab,\n",
    "    wmt_detokenizer,\n",
    "    ctx_list[0])\n",
    "\n",
    "print(\"The German translation is:\")\n",
    "print(\" \".join(translation_out[0]))"
   ]
  },
  {
   "cell_type": "markdown",
   "id": "42f7a93e",
   "metadata": {},
   "source": [
    "## Optimal Data Loading: CPU/GPU Optimization"
   ]
  },
  {
   "cell_type": "code",
   "execution_count": 27,
   "id": "ab3dbc51",
   "metadata": {},
   "outputs": [],
   "source": [
    "# Context variable is now a list,\n",
    "# with each element corresponding to a GPU device\n",
    "ctx_list = [mx.gpu(0), mx.gpu(1), mx.gpu(2), mx.gpu(3)]\n",
    "num_gpus = len(ctx_list)"
   ]
  },
  {
   "cell_type": "code",
   "execution_count": 28,
   "id": "173daaec",
   "metadata": {},
   "outputs": [],
   "source": [
    "# From strings converted to ND arrays,\n",
    "# we can continue processing in GPU\n",
    "wmt2016_train_data_processed_gpu = mx.gluon.data.SimpleDataset(\n",
    "    [(mx.nd.array(data).as_in_context(ctx_list[idx % num_gpus]), mx.nd.array(label).as_in_context(ctx_list[idx % num_gpus])) \n",
    "     for idx, (data, label) in enumerate(wmt2016_train_data_processed)])\n",
    "\n",
    "wmt2016_val_data_processed_gpu = mx.gluon.data.SimpleDataset(\n",
    "    [(mx.nd.array(data).as_in_context(ctx_list[idx % num_gpus]), mx.nd.array(label).as_in_context(ctx_list[idx % num_gpus])) \n",
    "     for idx, (data, label) in enumerate(wmt2016_val_data_processed)])\n",
    "\n",
    "wmt2016_test_data_processed_gpu = mx.gluon.data.SimpleDataset(\n",
    "    [(mx.nd.array(data).as_in_context(ctx_list[idx % num_gpus]), mx.nd.array(label).as_in_context(ctx_list[idx % num_gpus])) \n",
    "     for idx, (data, label) in enumerate(wmt2016_test_data_processed)])"
   ]
  },
  {
   "cell_type": "code",
   "execution_count": 29,
   "id": "971e2bcb",
   "metadata": {},
   "outputs": [],
   "source": [
    "wmt2016_train_data_len_processed_gpu = wmt2016_train_data_processed_gpu.transform(lambda src, tgt: (src, tgt, len(src), len(tgt)), lazy=False)\n",
    "wmt2016_val_data_len_processed_gpu = wmt2016_val_data_processed_gpu.transform(transformer_model.get_length_index_fn(), lazy=False)\n",
    "wmt2016_test_data_len_processed_gpu = wmt2016_test_data_processed_gpu.transform(transformer_model.get_length_index_fn(), lazy=False)"
   ]
  },
  {
   "cell_type": "code",
   "execution_count": 30,
   "id": "86cadbf2",
   "metadata": {},
   "outputs": [],
   "source": [
    "reload(transformer_model)\n",
    "\n",
    "bucket_scheme = nlp.data.ExpWidthBucket(bucket_len_step=1.2)\n",
    "\n",
    "wmt2016_train_batch_sampler_gpu = nlp.data.FixedBucketSampler(\n",
    "    lengths=wmt2016_train_data_lengths,\n",
    "    # use_average_length=True, # control the element lengths (i.e. number of tokens) to be about the same\n",
    "    use_average_length=False,\n",
    "    bucket_scheme=bucket_scheme,\n",
    "    batch_size=hparams.batch_size * 4,\n",
    "    shuffle=True)\n",
    "\n",
    "wmt2016_val_batch_sampler_gpu = nlp.data.FixedBucketSampler(\n",
    "    lengths=wmt2016_val_data_lengths,\n",
    "    # use_average_length=True, # control the element lengths (i.e. number of tokens) to be about the same\n",
    "    use_average_length=False,\n",
    "    num_buckets=hparams.num_buckets,\n",
    "    bucket_scheme=bucket_scheme,\n",
    "    batch_size=hparams.batch_size * 4,\n",
    "    shuffle=False)\n",
    "\n",
    "wmt2016_test_batch_sampler_gpu = nlp.data.FixedBucketSampler(\n",
    "    lengths=wmt2016_test_data_lengths,\n",
    "    # use_average_length=True, # control the element lengths (i.e. number of tokens) to be about the same\n",
    "    use_average_length=False,\n",
    "    num_buckets=hparams.num_buckets,\n",
    "    bucket_scheme=bucket_scheme,\n",
    "    batch_size=hparams.batch_size * 4,\n",
    "    shuffle=False)"
   ]
  },
  {
   "cell_type": "code",
   "execution_count": 31,
   "id": "476721fc",
   "metadata": {},
   "outputs": [],
   "source": [
    "num_workers = 0\n",
    "\n",
    "wmt2016_train_data_loader_gpu = mx.gluon.data.DataLoader(\n",
    "    wmt2016_train_data_len_processed_gpu,\n",
    "    batch_sampler=wmt2016_train_batch_sampler_gpu,\n",
    "    batchify_fn=train_batchify_fn,\n",
    "    num_workers=num_workers)\n",
    "\n",
    "wmt2016_val_data_loader_gpu = mx.gluon.data.DataLoader(\n",
    "    wmt2016_val_data_len_processed_gpu,\n",
    "    batch_sampler=wmt2016_val_batch_sampler_gpu,\n",
    "    batchify_fn=val_batchify_fn,\n",
    "    num_workers=num_workers,\n",
    "    shuffle=False)\n",
    "\n",
    "wmt2016_test_data_loader_gpu = mx.gluon.data.DataLoader(\n",
    "    wmt2016_test_data_len_processed_gpu,\n",
    "    batch_sampler=wmt2016_test_batch_sampler_gpu,\n",
    "    batchify_fn=val_batchify_fn,\n",
    "    num_workers=num_workers,\n",
    "    shuffle=False)"
   ]
  },
  {
   "cell_type": "markdown",
   "id": "7ddd30b8",
   "metadata": {},
   "source": [
    "## Optimal Training: Automatic Mixed Precision (AMP) + Multi-GPU"
   ]
  },
  {
   "cell_type": "code",
   "execution_count": 32,
   "id": "9466424a",
   "metadata": {},
   "outputs": [],
   "source": [
    "ctx_list = [mx.gpu(0), mx.gpu(1), mx.gpu(2), mx.gpu(3)]"
   ]
  },
  {
   "cell_type": "code",
   "execution_count": 33,
   "id": "1b6d8b57",
   "metadata": {},
   "outputs": [
    {
     "name": "stderr",
     "output_type": "stream",
     "text": [
      "/home/ext_andres_pereztorres_oxbotica_/.local/lib/python3.9/site-packages/gluonnlp/vocab/vocab.py:590: UserWarning: Detected a corrupted index in the deserialize vocabulary. For versions before GluonNLP v0.7 the index is corrupted by specifying the same token for different special purposes, for example eos_token == padding_token. Deserializing the vocabulary nevertheless.\n",
      "  warnings.warn(\n"
     ]
    },
    {
     "name": "stdout",
     "output_type": "stream",
     "text": [
      "Source Vocab: 36794 , Target Vocab: 36794\n"
     ]
    }
   ],
   "source": [
    "# AMP\n",
    "amp.init()\n",
    "\n",
    "# Build on top of Pre-Trained model\n",
    "wmt_model_name = 'transformer_en_de_512'\n",
    "wmt_transformer_model_ft_direct_opt, _, _ = nlp.model.get_model(\n",
    "    wmt_model_name,\n",
    "    dataset_name='WMT2014',\n",
    "    pretrained=True,\n",
    "    ctx=ctx_list)\n",
    "\n",
    "print('Source Vocab:', len(wmt_src_vocab), ', Target Vocab:', len(wmt_tgt_vocab))\n",
    "\n",
    "# No need to re-configure last layer, just re-initialize\n",
    "# wmt_transformer_model_ft_direct.tgt_proj.initialize(ctx=ctx_list, force_reinit=True)\n",
    "\n",
    "wmt_transformer_model_ft_direct_opt.hybridize(static_alloc=True, static_shape=True)\n",
    "\n",
    "model_filename_ft_direct_opt = \"transformer_en_de_512_ft_direct_opt.params\"\n",
    "\n",
    "\n",
    "wmt_translator_ft_direct_opt = nmt.translation.BeamSearchTranslator(\n",
    "    model=wmt_transformer_model_ft_direct_opt,\n",
    "    beam_size=hparams.beam_size,\n",
    "    scorer=nlp.model.BeamSearchScorer(alpha=hparams.lp_alpha, K=hparams.lp_k),\n",
    "    max_length=200)\n",
    "\n",
    "# hparams.epochs = 10\n",
    "hparams.epochs = 2\n",
    "# hparams.lr = 0.00003\n",
    "hparams.lr = 0.0001\n",
    "hparams.log_interval = 1\n",
    "\n",
    "loss_function = nlp.loss.MaskedSoftmaxCELoss()\n",
    "loss_function.hybridize(static_alloc=True)\n",
    "\n",
    "wmt_detokenizer = nlp.data.SacreMosesDetokenizer()"
   ]
  },
  {
   "cell_type": "code",
   "execution_count": 34,
   "id": "f3532555",
   "metadata": {},
   "outputs": [],
   "source": [
    "wmt2016_train_data_loader_gpu = wmt2016_test_data_loader_gpu"
   ]
  },
  {
   "cell_type": "code",
   "execution_count": 35,
   "id": "66984439",
   "metadata": {},
   "outputs": [
    {
     "data": {
      "application/vnd.jupyter.widget-view+json": {
       "model_id": "e7a53bc0b7a34fc58a9b3b08893cd1db",
       "version_major": 2,
       "version_minor": 0
      },
      "text/plain": [
       "  0%|          | 0/2 [00:00<?, ?it/s]"
      ]
     },
     "metadata": {},
     "output_type": "display_data"
    },
    {
     "data": {
      "application/vnd.jupyter.widget-view+json": {
       "model_id": "38d5e5750c6f43d5b6ba8e209ee96189",
       "version_major": 2,
       "version_minor": 0
      },
      "text/plain": [
       "  0%|          | 0/5 [00:00<?, ?it/s]"
      ]
     },
     "metadata": {},
     "output_type": "display_data"
    },
    {
     "name": "stderr",
     "output_type": "stream",
     "text": [
      "/home/ext_andres_pereztorres_oxbotica_/.local/lib/python3.9/site-packages/gluonnlp/data/batchify/batchify.py:268: UserWarning: Using Pad with NDArrays is discouraged for speed reasons. Instead you should pad your data while it is still a list and before converting to an NDArray. Alternatively you can consider inputting a numpy.ndarray.\n",
      "  warnings.warn(\n",
      "[20:27:05] /work/mxnet/src/kvstore/././comm.h:741: only 4 out of 12 GPU pairs are enabled direct access. It may affect the performance. You can set MXNET_ENABLE_GPU_P2P=0 to turn it off\n",
      "[20:27:05] /work/mxnet/src/kvstore/././comm.h:750: .v..\n",
      "[20:27:05] /work/mxnet/src/kvstore/././comm.h:750: v...\n",
      "[20:27:05] /work/mxnet/src/kvstore/././comm.h:750: ...v\n",
      "[20:27:05] /work/mxnet/src/kvstore/././comm.h:750: ..v.\n"
     ]
    },
    {
     "name": "stdout",
     "output_type": "stream",
     "text": [
      "[Epoch 0 Batch 1/5] loss=1.8940, ppl=6.6460, throughput=4.30K wps, wc=27.86K\n",
      "[Epoch 0 Batch 2/5] loss=1.6214, ppl=5.0600, throughput=2.69K wps, wc=18.67K\n",
      "[Epoch 0 Batch 3/5] loss=1.6833, ppl=5.3833, throughput=2.45K wps, wc=17.91K\n",
      "[Epoch 0 Batch 4/5] loss=1.7594, ppl=5.8087, throughput=1.45K wps, wc=11.32K\n",
      "[Epoch 0 Batch 5/5] loss=1.5125, ppl=4.5382, throughput=0.24K wps, wc=1.95K\n"
     ]
    },
    {
     "data": {
      "application/vnd.jupyter.widget-view+json": {
       "model_id": "e2c2edf2e3aa41e78fc8e57e8f1e20c6",
       "version_major": 2,
       "version_minor": 0
      },
      "text/plain": [
       "  0%|          | 0/5 [00:00<?, ?it/s]"
      ]
     },
     "metadata": {},
     "output_type": "display_data"
    },
    {
     "name": "stderr",
     "output_type": "stream",
     "text": [
      "[20:27:13] /work/mxnet/src/imperative/./cached_op.h:254: Disabling fusion due to altered topological order of inputs.\n",
      "[20:27:20] /work/mxnet/src/imperative/./cached_op.h:254: Disabling fusion due to altered topological order of inputs.\n",
      "[20:27:24] /work/mxnet/src/imperative/./cached_op.h:254: Disabling fusion due to altered topological order of inputs.\n",
      "[20:27:28] /work/mxnet/src/imperative/./cached_op.h:254: Disabling fusion due to altered topological order of inputs.\n"
     ]
    },
    {
     "name": "stdout",
     "output_type": "stream",
     "text": [
      "[Epoch 0] valid Loss=1.2648, valid ppl=3.5423, valid bleu=32.11\n",
      "Save best parameters to transformer_en_de_512_ft_direct_opt.params\n"
     ]
    },
    {
     "data": {
      "application/vnd.jupyter.widget-view+json": {
       "model_id": "4cbc74a0f1cb49d5801a7adb46e2edbe",
       "version_major": 2,
       "version_minor": 0
      },
      "text/plain": [
       "  0%|          | 0/5 [00:00<?, ?it/s]"
      ]
     },
     "metadata": {},
     "output_type": "display_data"
    },
    {
     "name": "stdout",
     "output_type": "stream",
     "text": [
      "[Epoch 1 Batch 1/5] loss=1.6425, ppl=5.1679, throughput=49.74K wps, wc=27.86K\n",
      "[Epoch 1 Batch 2/5] loss=1.4529, ppl=4.2754, throughput=19.04K wps, wc=18.67K\n",
      "[Epoch 1 Batch 3/5] loss=1.5094, ppl=4.5240, throughput=13.14K wps, wc=17.91K\n",
      "[Epoch 1 Batch 4/5] loss=1.5751, ppl=4.8313, throughput=6.59K wps, wc=11.32K\n",
      "[Epoch 1 Batch 5/5] loss=1.3221, ppl=3.7512, throughput=0.91K wps, wc=1.95K\n"
     ]
    },
    {
     "data": {
      "application/vnd.jupyter.widget-view+json": {
       "model_id": "91d5292be16c4a07a41e755d88ce8307",
       "version_major": 2,
       "version_minor": 0
      },
      "text/plain": [
       "  0%|          | 0/5 [00:00<?, ?it/s]"
      ]
     },
     "metadata": {},
     "output_type": "display_data"
    },
    {
     "name": "stdout",
     "output_type": "stream",
     "text": [
      "[Epoch 1] valid Loss=1.2443, valid ppl=3.4706, valid bleu=32.19\n",
      "Save best parameters to transformer_en_de_512_ft_direct_opt.params\n",
      "Training time for 10 epochs: 91.03781414031982 / Best validation loss: 1.2443209995368594\n"
     ]
    }
   ],
   "source": [
    "reload(transformer_model)\n",
    "\n",
    "# Let's train\n",
    "trainer = mx.gluon.Trainer(wmt_transformer_model_ft_direct_opt.collect_params(), hparams.optimizer, {'learning_rate': hparams.lr})\n",
    "\n",
    "best_valid_bleu = 0.0\n",
    "\n",
    "wmt2016_train_losses = []\n",
    "wmt2016_valid_losses = []\n",
    "wmt2016_valid_bleus  = []\n",
    "wmt2016_valid_perplexities = []\n",
    "\n",
    "amp.init_trainer(trainer)\n",
    "\n",
    "start_time = time.time()\n",
    "\n",
    "for epoch_id in tqdm(range(hparams.epochs)):\n",
    "\n",
    "    acc_train_loss_batch = 0\n",
    "    log_loss = 0\n",
    "    log_denom = 0\n",
    "    log_wc = 0\n",
    "    log_start_time = time.time()\n",
    "\n",
    "    # Iterate through each batch\n",
    "    # for batch_id, (src_seq, tgt_seq, src_valid_length, tgt_valid_length) in enumerate(tqdm(wmt2016_train_data_loader_gpu)):\n",
    "    for batch_id, (src_seq, tgt_seq, src_valid_length, tgt_valid_length, _) in enumerate(tqdm(wmt2016_train_data_loader_gpu)):\n",
    "               \n",
    "        src_seq_list = mx.gluon.utils.split_and_load(src_seq, ctx_list=ctx_list, even_split=False)\n",
    "        tgt_seq_list = mx.gluon.utils.split_and_load(tgt_seq, ctx_list=ctx_list, even_split=False)\n",
    "        src_valid_length_list = mx.gluon.utils.split_and_load(src_valid_length, ctx_list=ctx_list, even_split=False)\n",
    "        tgt_valid_length_list = mx.gluon.utils.split_and_load(tgt_valid_length, ctx_list=ctx_list, even_split=False)\n",
    "        \n",
    "        losses = []\n",
    "        \n",
    "        with mx.autograd.record():\n",
    "            for src_seq_slice, tgt_seq_slice, src_valid_length_slice, tgt_valid_length_slice in zip(src_seq_list, tgt_seq_list, src_valid_length_list, tgt_valid_length_list):\n",
    "                \n",
    "                assert src_seq_slice.context == tgt_seq_slice.context == src_valid_length_slice.context == tgt_valid_length_slice.context                \n",
    "                \n",
    "                out_slice, _ = wmt_transformer_model_ft_direct_opt(\n",
    "                    src_seq_slice,\n",
    "                    tgt_seq_slice[:, :-1],\n",
    "                    src_valid_length_slice,\n",
    "                    tgt_valid_length_slice - 1)\n",
    "                \n",
    "                loss = loss_function(out_slice, tgt_seq_slice[:, 1:], tgt_valid_length_slice - 1)\n",
    "                loss.backward()\n",
    "                \n",
    "#                 with amp.scale_loss(loss, trainer) as scaled_loss:\n",
    "#                     scaled_loss.backward()\n",
    "                    \n",
    "                losses.append(loss)\n",
    "        \n",
    "        trainer.step(1)\n",
    "        \n",
    "        src_wc = 0\n",
    "        tgt_wc = 0\n",
    "        \n",
    "        for loss, tgt_seq_slice, src_valid_length_slice, tgt_valid_length_slice in zip(losses, tgt_seq_list, src_valid_length_list, tgt_valid_length_list):\n",
    "            \n",
    "            assert loss.context == tgt_seq_slice.context == src_valid_length_slice.context == tgt_valid_length_slice.context\n",
    "            \n",
    "            src_valid_length_slice_cpu = src_valid_length_slice.as_in_context(mx.cpu())\n",
    "            tgt_valid_length_slice_cpu = tgt_valid_length_slice.as_in_context(mx.cpu())\n",
    "            \n",
    "            loss = loss.mean().as_in_context(mx.cpu()) * (tgt_seq_slice.shape[1] - 1)\n",
    "            log_loss += loss * tgt_seq_slice.shape[0]\n",
    "            log_denom += (tgt_valid_length_slice_cpu - 1).sum()\n",
    "            loss = loss / (tgt_valid_length_slice_cpu - 1).mean()\n",
    "            \n",
    "            src_wc += src_valid_length_slice_cpu.sum().asscalar()\n",
    "            tgt_wc += (tgt_valid_length_slice_cpu - 1).sum().asscalar()\n",
    "        \n",
    "\n",
    "        log_loss = log_loss.asscalar()\n",
    "        log_denom = log_denom.asscalar()\n",
    "        log_wc += src_wc + tgt_wc\n",
    "            \n",
    "        train_loss = log_loss / log_denom\n",
    "        acc_train_loss_batch += train_loss\n",
    "        \n",
    "        if (batch_id + 1) % hparams.log_interval == 0:\n",
    "            wps = log_wc / (time.time() - log_start_time)\n",
    "            print(\"[Epoch {} Batch {}/{}] loss={:.4f}, ppl={:.4f}, \"\n",
    "                         \"throughput={:.2f}K wps, wc={:.2f}K\"\n",
    "                         .format(epoch_id, batch_id + 1, len(wmt2016_train_data_loader_gpu),\n",
    "                                 train_loss,\n",
    "                                 np.exp(log_loss / log_denom),\n",
    "                                 wps / 1000, log_wc / 1000))\n",
    "            \n",
    "            log_loss = 0\n",
    "            log_denom = 0\n",
    "            log_wc = 0\n",
    "\n",
    "    wmt2016_train_loss = acc_train_loss_batch / len(wmt2016_train_data_loader_gpu)\n",
    "    wmt2016_train_losses.append(wmt2016_train_loss)\n",
    "    \n",
    "    # Validation step\n",
    "    wmt2016_valid_loss, wmt2016_valid_translation_out = transformer_model.evaluate_multi(\n",
    "        wmt_transformer_model_ft_direct_opt,\n",
    "        wmt2016_val_data_loader_gpu,\n",
    "        loss_function,\n",
    "        wmt_translator_ft_direct_opt,\n",
    "        wmt_tgt_vocab,\n",
    "        wmt_detokenizer,\n",
    "        ctx_list=ctx_list)\n",
    "\n",
    "    wmt2016_valid_bleu_score, _, _, _, _ = nmt.bleu.compute_bleu(\n",
    "        [wmt2016_val_tgt_sentences],\n",
    "        wmt2016_valid_translation_out,\n",
    "        tokenized=False,\n",
    "        tokenizer=\"13a\",\n",
    "        split_compound_word=False,\n",
    "        bpe=False)\n",
    "\n",
    "    wmt2016_valid_perplexity = np.exp(wmt2016_valid_loss)\n",
    "    wmt2016_valid_perplexities.append(wmt2016_valid_perplexity)\n",
    "    wmt2016_valid_losses.append(wmt2016_valid_loss)\n",
    "    wmt2016_valid_bleus.append(wmt2016_valid_bleu_score * 100)\n",
    "    \n",
    "    print(\"[Epoch {}] valid Loss={:.4f}, valid ppl={:.4f}, valid bleu={:.2f}\"\n",
    "          .format(epoch_id, wmt2016_valid_loss, wmt2016_valid_perplexity, wmt2016_valid_bleu_score * 100))\n",
    "    \n",
    "    if wmt2016_valid_bleu_score > best_valid_bleu:\n",
    "        best_valid_bleu = wmt2016_valid_bleu_score\n",
    "        print(\"Save best parameters to {}\".format(model_filename_ft_direct_opt))\n",
    "        wmt_transformer_model_ft_direct_opt.save_parameters(model_filename_ft_direct_opt)\n",
    "\n",
    "print(\"Training time for 10 epochs:\", time.time() - start_time, \"/ Best validation loss:\", min(wmt2016_valid_losses))"
   ]
  },
  {
   "cell_type": "code",
   "execution_count": 36,
   "id": "5dea9239",
   "metadata": {},
   "outputs": [
    {
     "data": {
      "image/png": "[encoded data removed]",
      "text/plain": [
       "<Figure size 640x480 with 1 Axes>"
      ]
     },
     "metadata": {},
     "output_type": "display_data"
    }
   ],
   "source": [
    "# plot the losses\n",
    "plt.style.use(\"ggplot\")\n",
    "plt.figure()\n",
    "plt.plot(np.arange(0, hparams.epochs), wmt2016_valid_losses, label=\"Validation Loss\")\n",
    "plt.plot(np.arange(0, hparams.epochs), wmt2016_train_losses, label=\"Training Loss\")\n",
    "plt.xlabel(\"Epoch\")\n",
    "plt.ylabel(\"Loss\")\n",
    "plt.legend(loc=\"upper right\")\n",
    "plt.title(\"Losses\")\n",
    "plt.grid(False)\n",
    "plt.show()"
   ]
  },
  {
   "cell_type": "markdown",
   "id": "8f44d031",
   "metadata": {},
   "source": [
    "### Evaluation"
   ]
  },
  {
   "cell_type": "markdown",
   "id": "6505505d",
   "metadata": {},
   "source": [
    "#### Quantitative Evaluation: Test Loss and BLEU score"
   ]
  },
  {
   "cell_type": "code",
   "execution_count": 39,
   "id": "2f143830",
   "metadata": {},
   "outputs": [
    {
     "data": {
      "application/vnd.jupyter.widget-view+json": {
       "model_id": "44e1ce1559ab48ff9b412b550c61a979",
       "version_major": 2,
       "version_minor": 0
      },
      "text/plain": [
       "  0%|          | 0/5 [00:00<?, ?it/s]"
      ]
     },
     "metadata": {},
     "output_type": "display_data"
    },
    {
     "name": "stdout",
     "output_type": "stream",
     "text": [
      "WMT16 test loss: 1.14; test bleu score: 34.90\n"
     ]
    }
   ],
   "source": [
    "# Quantitative Evaluation\n",
    "# Load best model\n",
    "wmt_transformer_model_ft_direct_opt.load_parameters(model_filename_ft_direct_opt)\n",
    "\n",
    "wmt2016_test_loss, wmt2016_test_translation_out = transformer_model.evaluate_multi(\n",
    "    wmt_transformer_model_ft_direct_opt,\n",
    "    wmt2016_test_data_loader_gpu,\n",
    "    loss_function,\n",
    "    wmt_translator_ft_direct_opt,\n",
    "    wmt_tgt_vocab,\n",
    "    wmt_detokenizer,\n",
    "    ctx_list)\n",
    "\n",
    "wmt2016_test_bleu_score, _, _, _, _ = nmt.bleu.compute_bleu(\n",
    "    [wmt2016_test_tgt_sentences],\n",
    "    wmt2016_test_translation_out,\n",
    "    tokenized=False,\n",
    "    tokenizer=\"13a\",\n",
    "    split_compound_word=False,\n",
    "    bpe=False)\n",
    "\n",
    "print('WMT16 test loss: %.2f; test bleu score: %.2f'\n",
    "      %(wmt2016_test_loss, wmt2016_test_bleu_score * 100))"
   ]
  },
  {
   "cell_type": "markdown",
   "id": "a9e1d922",
   "metadata": {},
   "source": [
    "#### Qualitative Evaluation: Translation from English to German Example"
   ]
  },
  {
   "cell_type": "code",
   "execution_count": 40,
   "id": "d8201243",
   "metadata": {},
   "outputs": [
    {
     "name": "stdout",
     "output_type": "stream",
     "text": [
      "Qualitative Evaluation: Translating from English to German\n",
      "Expected translation:\n",
      "Ich lerne jeden Tag neue Dinge.\n",
      "In English:\n",
      "I learn new things every day.\n",
      "The German translation is:\n",
      "Ich lerne Neues in jedem Fall\n"
     ]
    }
   ],
   "source": [
    "# Qualitative Evaluation\n",
    "reload(transformer_model)\n",
    "\n",
    "print(\"Qualitative Evaluation: Translating from English to German\")\n",
    "\n",
    "# From Google Translate\n",
    "expected_tgt_seq = \"Ich lerne neue Dinge jeden Tag.\"\n",
    "print(\"Expected translation:\")\n",
    "print(expected_tgt_seq)\n",
    "\n",
    "src_seq = \"I learn new things every day.\"\n",
    "print(\"In English:\")\n",
    "print(src_seq)\n",
    "\n",
    "# translation_out = nmt.utils.translate_with_unk(\n",
    "# translation_out = nmt.utils.translate(\n",
    "translation_out = transformer_model.translate(\n",
    "    wmt_translator_ft_direct_opt,\n",
    "    src_seq,\n",
    "    # wmt2016_train_data.src_vocab,\n",
    "    # wmt2016_train_data.tgt_vocab,\n",
    "    wmt_src_vocab,\n",
    "    wmt_tgt_vocab,\n",
    "    wmt_detokenizer,\n",
    "    ctx_list[0])\n",
    "\n",
    "print(\"The German translation is:\")\n",
    "print(\" \".join(translation_out[0]))"
   ]
  }
 ],
 "metadata": {
  "kernelspec": {
   "display_name": "Python 3 (ipykernel)",
   "language": "python",
   "name": "python3"
  },
  "language_info": {
   "codemirror_mode": {
    "name": "ipython",
    "version": 3
   },
   "file_extension": ".py",
   "mimetype": "text/x-python",
   "name": "python",
   "nbconvert_exporter": "python",
   "pygments_lexer": "ipython3",
   "version": "3.9.2"
  }
 },
 "nbformat": 4,
 "nbformat_minor": 5
}
