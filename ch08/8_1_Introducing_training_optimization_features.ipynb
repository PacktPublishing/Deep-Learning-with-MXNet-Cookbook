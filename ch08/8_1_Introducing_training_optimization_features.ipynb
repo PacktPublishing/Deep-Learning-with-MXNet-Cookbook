{
 "cells": [
  {
   "cell_type": "code",
   "execution_count": 1,
   "id": "de6b5fce",
   "metadata": {
    "scrolled": true
   },
   "outputs": [
    {
     "data": {
      "text/plain": [
       "16"
      ]
     },
     "execution_count": 1,
     "metadata": {},
     "output_type": "execute_result"
    }
   ],
   "source": [
    "import os\n",
    "import multiprocessing\n",
    "multiprocessing.cpu_count()"
   ]
  },
  {
   "cell_type": "code",
   "execution_count": 2,
   "id": "0bd2779f",
   "metadata": {},
   "outputs": [],
   "source": [
    "# Reference: https://mxnet.apache.org/versions/1.9.1/api/faq/env_var\n",
    "\n",
    "# os.environ[\"MXNET_CPU_WORKER_NTHREADS\"] = \"1\"\n",
    "# os.environ[\"MXNET_CPU_PRIORITY_NTHREADS\"] = \"1\"\n",
    "# os.environ[\"MXNET_CPU_NNPACK_NTHREADS\"] = \"1\"\n",
    "# os.environ[\"MXNET_EXEC_NUM_TEMP\"] = \"1\"\n",
    "# os.environ[\"MXNET_ENGINE_TYPE\"] = \"NaiveEngine\"\n",
    "\n",
    "# Default Mode: \"ThreadedEnginePerDevice\"\n",
    "# os.environ[\"MXNET_CPU_WORKER_NTHREADS\"] = \"4\"\n",
    "# os.environ[\"MXNET_CPU_PRIORITY_NTHREADS\"] = \"4\"\n",
    "# os.environ[\"MXNET_CPU_NNPACK_NTHREADS\"] = \"4\"\n",
    "# os.environ[\"MXNET_EXEC_NUM_TEMP\"] = \"4\"\n",
    "# os.environ[\"MXNET_ENGINE_TYPE\"] = \"ThreadedEnginePerDevice\""
   ]
  },
  {
   "cell_type": "code",
   "execution_count": 3,
   "id": "117850d2",
   "metadata": {},
   "outputs": [],
   "source": [
    "from importlib import reload\n",
    "import matplotlib.pyplot as plt\n",
    "import mxnet as mx\n",
    "from mxnet.contrib import amp\n",
    "import time\n",
    "import timeit\n",
    "from tqdm.notebook import tqdm\n",
    "\n",
    "ctx = mx.cpu()"
   ]
  },
  {
   "cell_type": "markdown",
   "id": "531c892c",
   "metadata": {},
   "source": [
    "## Creation of Matrices"
   ]
  },
  {
   "cell_type": "code",
   "execution_count": 4,
   "id": "9fd8db65",
   "metadata": {
    "scrolled": true
   },
   "outputs": [
    {
     "data": {
      "application/vnd.jupyter.widget-view+json": {
       "model_id": "489f3863b772412cb2ce330e4824a7f0",
       "version_major": 2,
       "version_minor": 0
      },
      "text/plain": [
       "  0%|          | 0/100 [00:00<?, ?it/s]"
      ]
     },
     "metadata": {},
     "output_type": "display_data"
    },
    {
     "name": "stderr",
     "output_type": "stream",
     "text": [
      "[19:54:31] /work/mxnet/src/engine/engine.cc:54: MXNet start using engine: ThreadedEnginePerDevice\n"
     ]
    },
    {
     "name": "stdout",
     "output_type": "stream",
     "text": [
      "Time (s): 10.879605054855347\n"
     ]
    }
   ],
   "source": [
    "wait_for_operations = True\n",
    "\n",
    "start_time = time.time()\n",
    "\n",
    "for _ in tqdm(range(100)):\n",
    "    a = mx.nd.random.normal(shape=(1000, 1000))\n",
    "    if wait_for_operations:\n",
    "        a.wait_to_read()\n",
    "    b = mx.nd.random.normal(shape=(1000, 1000))\n",
    "    if wait_for_operations:\n",
    "        b.wait_to_read()\n",
    "    c = mx.nd.random.normal(shape=(1000, 1000))\n",
    "    if wait_for_operations:\n",
    "        c.wait_to_read()\n",
    "    d = mx.nd.random.normal(shape=(1000, 1000))\n",
    "    if wait_for_operations:\n",
    "        d.wait_to_read()\n",
    "\n",
    "\n",
    "print(\"Time (s):\", time.time() - start_time)"
   ]
  },
  {
   "cell_type": "code",
   "execution_count": 5,
   "id": "17c3fd84",
   "metadata": {},
   "outputs": [
    {
     "data": {
      "application/vnd.jupyter.widget-view+json": {
       "model_id": "0637d07c1ed44b87b640cdabc8cfbb6a",
       "version_major": 2,
       "version_minor": 0
      },
      "text/plain": [
       "  0%|          | 0/100 [00:00<?, ?it/s]"
      ]
     },
     "metadata": {},
     "output_type": "display_data"
    },
    {
     "name": "stdout",
     "output_type": "stream",
     "text": [
      "Time (s): 0.042786598205566406\n"
     ]
    }
   ],
   "source": [
    "wait_for_operations = False\n",
    "compute_results = False\n",
    "\n",
    "start_time = time.time()\n",
    "\n",
    "for _ in tqdm(range(100)):\n",
    "    a = mx.nd.random.normal(shape=(1000, 1000))\n",
    "    if wait_for_operations:\n",
    "        a.wait_to_read()\n",
    "    b = mx.nd.random.normal(shape=(1000, 1000))\n",
    "    if wait_for_operations:\n",
    "        b.wait_to_read()\n",
    "    c = mx.nd.random.normal(shape=(1000, 1000))\n",
    "    if wait_for_operations:\n",
    "        c.wait_to_read()\n",
    "    d = mx.nd.random.normal(shape=(1000, 1000))\n",
    "    if wait_for_operations:\n",
    "        d.wait_to_read()\n",
    "\n",
    "    if compute_results:\n",
    "        a.wait_to_read()\n",
    "        b.wait_to_read()\n",
    "        c.wait_to_read()\n",
    "        d.wait_to_read()\n",
    "        \n",
    "print(\"Time (s):\", time.time() - start_time)"
   ]
  },
  {
   "cell_type": "code",
   "execution_count": 6,
   "id": "d94c00e1",
   "metadata": {},
   "outputs": [
    {
     "data": {
      "application/vnd.jupyter.widget-view+json": {
       "model_id": "127658acc7334456918fefc2095d67bf",
       "version_major": 2,
       "version_minor": 0
      },
      "text/plain": [
       "  0%|          | 0/100 [00:00<?, ?it/s]"
      ]
     },
     "metadata": {},
     "output_type": "display_data"
    },
    {
     "name": "stdout",
     "output_type": "stream",
     "text": [
      "Time (s): 19.67207169532776\n"
     ]
    }
   ],
   "source": [
    "wait_for_operations = False\n",
    "compute_results = True\n",
    "\n",
    "start_time = time.time()\n",
    "\n",
    "for _ in tqdm(range(100)):\n",
    "    a = mx.nd.random.normal(shape=(1000, 1000))\n",
    "    if wait_for_operations:\n",
    "        a.wait_to_read()\n",
    "    b = mx.nd.random.normal(shape=(1000, 1000))\n",
    "    if wait_for_operations:\n",
    "        b.wait_to_read()\n",
    "    c = mx.nd.random.normal(shape=(1000, 1000))\n",
    "    if wait_for_operations:\n",
    "        c.wait_to_read()\n",
    "    d = mx.nd.random.normal(shape=(1000, 1000))\n",
    "    if wait_for_operations:\n",
    "        d.wait_to_read()\n",
    "\n",
    "    if compute_results:\n",
    "        a.wait_to_read()\n",
    "        b.wait_to_read()\n",
    "        c.wait_to_read()\n",
    "        d.wait_to_read()\n",
    "        \n",
    "print(\"Time (s):\", time.time() - start_time)"
   ]
  },
  {
   "cell_type": "markdown",
   "id": "25b5527d",
   "metadata": {},
   "source": [
    "## Multiplication of Matrices"
   ]
  },
  {
   "cell_type": "code",
   "execution_count": 7,
   "id": "f5c5a94a",
   "metadata": {},
   "outputs": [
    {
     "data": {
      "application/vnd.jupyter.widget-view+json": {
       "model_id": "42959f5923284b808ec5d1d5ad052528",
       "version_major": 2,
       "version_minor": 0
      },
      "text/plain": [
       "  0%|          | 0/10 [00:00<?, ?it/s]"
      ]
     },
     "metadata": {},
     "output_type": "display_data"
    },
    {
     "name": "stdout",
     "output_type": "stream",
     "text": [
      "Time (s): 135.26983547210693\n"
     ]
    }
   ],
   "source": [
    "wait_for_operations = True\n",
    "compute_results = False\n",
    "\n",
    "start_time = time.time()\n",
    "\n",
    "for _ in tqdm(range(10)):\n",
    "    a = mx.nd.random.normal(shape=(10000, 10000))\n",
    "    if wait_for_operations:\n",
    "        a.wait_to_read()\n",
    "    b = mx.nd.random.normal(shape=(10000, 10000))\n",
    "    if wait_for_operations:\n",
    "        b.wait_to_read()\n",
    "    c = mx.nd.random.normal(shape=(10000, 10000))\n",
    "    if wait_for_operations:\n",
    "        c.wait_to_read()\n",
    "    d = mx.nd.random.normal(shape=(10000, 10000))\n",
    "    if wait_for_operations:\n",
    "        d.wait_to_read()\n",
    "\n",
    "    s1 = a * a * a * a * b * b * b * b\n",
    "    if wait_for_operations:\n",
    "        s1.wait_to_read()\n",
    "    s2 = c * c * c * c * d * d * d * d\n",
    "    if wait_for_operations:\n",
    "        s2.wait_to_read()\n",
    "    s1 = s1 * s1 * s1 * s1 * s1 * s1 * s1 * s1\n",
    "    if wait_for_operations:\n",
    "        s1.wait_to_read()\n",
    "    s2 = s2 * s2 * s2 * s2 * s2 * s2 * s2 * s2\n",
    "    if wait_for_operations:\n",
    "        s2.wait_to_read()\n",
    "    s_total = s1 * s2\n",
    "    s_total = s_total * s_total * s_total * s_total\n",
    "    if wait_for_operations:\n",
    "        s_total.wait_to_read()\n",
    "        \n",
    "    if compute_results:\n",
    "        s_total.wait_to_read()\n",
    "        \n",
    "print(\"Time (s):\", time.time() - start_time)"
   ]
  },
  {
   "cell_type": "code",
   "execution_count": 8,
   "id": "39c0554e",
   "metadata": {},
   "outputs": [
    {
     "data": {
      "application/vnd.jupyter.widget-view+json": {
       "model_id": "b9b8e7f0081c42909b57df9bae6c411e",
       "version_major": 2,
       "version_minor": 0
      },
      "text/plain": [
       "  0%|          | 0/10 [00:00<?, ?it/s]"
      ]
     },
     "metadata": {},
     "output_type": "display_data"
    },
    {
     "name": "stdout",
     "output_type": "stream",
     "text": [
      "Time (s): 111.36750531196594\n"
     ]
    }
   ],
   "source": [
    "start_time = time.time()\n",
    "\n",
    "s_total = []\n",
    "\n",
    "for _ in tqdm(range(10)):\n",
    "    a = mx.nd.random.normal(shape=(10000, 10000))\n",
    "    b = mx.nd.random.normal(shape=(10000, 10000))\n",
    "    c = mx.nd.random.normal(shape=(10000, 10000))\n",
    "    d = mx.nd.random.normal(shape=(10000, 10000))\n",
    "\n",
    "    s1 = a * a * a * a * b * b * b * b\n",
    "    s2 = c * c * c * c * d * d * d * d\n",
    "    s1 = s1 * s1 * s1 * s1 * s1 * s1 * s1 * s1 \n",
    "    s2 = s2 * s2 * s2 * s2 * s2 * s2 * s2 * s2\n",
    "    s_total = s1 * s2\n",
    "    s_total = s_total * s_total * s_total * s_total\n",
    "\n",
    "mx.nd.waitall()\n",
    "        \n",
    "print(\"Time (s):\", time.time() - start_time)"
   ]
  },
  {
   "cell_type": "markdown",
   "id": "3974c42d",
   "metadata": {},
   "source": [
    "## DataLoaders"
   ]
  },
  {
   "cell_type": "code",
   "execution_count": 4,
   "id": "71ce3f2f",
   "metadata": {
    "scrolled": true
   },
   "outputs": [],
   "source": [
    "import gluoncv as gcv\n",
    "\n",
    "# ADE20K Preliminary steps\n",
    "# Needs source code from Gluon-CV, run (in your desired code folder):\n",
    "# gh repo clone dmlc/gluon-cv\n",
    "# in the gluon-cv/scripts/datasets folder, there is a script called\n",
    "# ade20k.py, run it with:\n",
    "# !python3 ade20k.py "
   ]
  },
  {
   "cell_type": "code",
   "execution_count": 6,
   "id": "dcaf2935",
   "metadata": {},
   "outputs": [
    {
     "data": {
      "application/vnd.jupyter.widget-view+json": {
       "model_id": "68b64a97f5df423fbf68a93a20a0ba19",
       "version_major": 2,
       "version_minor": 0
      },
      "text/plain": [
       "  0%|          | 0/2000 [00:00<?, ?it/s]"
      ]
     },
     "metadata": {},
     "output_type": "display_data"
    },
    {
     "name": "stdout",
     "output_type": "stream",
     "text": [
      "Time (s): 20.51421332359314\n"
     ]
    }
   ],
   "source": [
    "# All in CPU, no transforms\n",
    "ade20k_val = gcv.data.ADE20KSegmentation(split='val')\n",
    "\n",
    "data_shape = []\n",
    "labels_shape = []\n",
    "\n",
    "start_time = time.time()\n",
    "\n",
    "for data, label in tqdm(ade20k_val):\n",
    "    data_shape.append(data.shape)\n",
    "    labels_shape.append(label.shape)\n",
    "    \n",
    "print(\"Time (s):\", time.time() - start_time)"
   ]
  },
  {
   "cell_type": "code",
   "execution_count": 7,
   "id": "42b38c6d",
   "metadata": {},
   "outputs": [],
   "source": [
    "image_size = 1200\n",
    "\n",
    "input_transform_fn = mx.gluon.data.vision.transforms.Compose([\n",
    "    mx.gluon.data.vision.transforms.Resize(image_size, keep_ratio=True),\n",
    "    mx.gluon.data.vision.transforms.CenterCrop(image_size),\n",
    "    mx.gluon.data.vision.transforms.ToTensor(),\n",
    "    mx.gluon.data.vision.transforms.Normalize([.485, .456, .406], [.229, .224, .225])\n",
    "])\n",
    "\n",
    "to_gpu_fn = lambda x: x.as_in_context(mx.gpu())\n",
    "\n",
    "input_transform_fn_gpu = mx.gluon.data.vision.transforms.Compose([\n",
    "    to_gpu_fn,\n",
    "    input_transform_fn\n",
    "])"
   ]
  },
  {
   "cell_type": "code",
   "execution_count": 8,
   "id": "b88b1b08",
   "metadata": {},
   "outputs": [
    {
     "data": {
      "application/vnd.jupyter.widget-view+json": {
       "model_id": "c375ff0326a740158eb2bd4f7b189631",
       "version_major": 2,
       "version_minor": 0
      },
      "text/plain": [
       "  0%|          | 0/2000 [00:00<?, ?it/s]"
      ]
     },
     "metadata": {},
     "output_type": "display_data"
    },
    {
     "name": "stdout",
     "output_type": "stream",
     "text": [
      "Time (s): 38.75299024581909\n"
     ]
    }
   ],
   "source": [
    "# Pre-processing in CPU, with transforms\n",
    "ade20k_val_cpu = gcv.data.ADE20KSegmentation(split='val', transform=input_transform_fn)\n",
    "\n",
    "data_shape = []\n",
    "labels_shape = []\n",
    "\n",
    "start_time = time.time()\n",
    "\n",
    "for data, label in tqdm(ade20k_val_cpu):\n",
    "    data_shape.append(data.shape)\n",
    "    labels_shape.append(label.shape)\n",
    "    \n",
    "print(\"Time (s):\", time.time() - start_time)"
   ]
  },
  {
   "cell_type": "code",
   "execution_count": 9,
   "id": "0d110200",
   "metadata": {},
   "outputs": [
    {
     "data": {
      "application/vnd.jupyter.widget-view+json": {
       "model_id": "4ac89d8d13c748149d828df10391fadf",
       "version_major": 2,
       "version_minor": 0
      },
      "text/plain": [
       "  0%|          | 0/2000 [00:00<?, ?it/s]"
      ]
     },
     "metadata": {},
     "output_type": "display_data"
    },
    {
     "name": "stderr",
     "output_type": "stream",
     "text": [
      "[18:30:58] /work/mxnet/src/base.cc:79: cuDNN lib mismatch: linked-against version 8200 != compiled-against version 8201.  Set MXNET_CUDNN_LIB_CHECKING=0 to quiet this warning.\n"
     ]
    },
    {
     "name": "stdout",
     "output_type": "stream",
     "text": [
      "Time (s): 22.053289890289307\n"
     ]
    }
   ],
   "source": [
    "# Pre-processing in GPU, with transforms\n",
    "# Unfortunately, we cannot copy directly into GPU the labels\n",
    "# Not supported ty ADE20KSegmentation class\n",
    "ade20k_val_gpu = gcv.data.ADE20KSegmentation(split='val', transform=input_transform_fn_gpu)\n",
    "\n",
    "_mask_transform_fn = mx.gluon.data.vision.transforms.Compose([\n",
    "    ade20k_val_gpu._mask_transform,\n",
    "    to_gpu_fn\n",
    "])\n",
    "\n",
    "ade20k_val_gpu._mask_transform = _mask_transform_fn\n",
    "\n",
    "data_shape = []\n",
    "labels_shape = []\n",
    "\n",
    "start_time = time.time()\n",
    "\n",
    "for data, label in tqdm(ade20k_val_gpu):\n",
    "    data_shape.append(data.shape)\n",
    "    labels_shape.append(label.shape)\n",
    "    \n",
    "print(\"Time (s):\", time.time() - start_time)"
   ]
  },
  {
   "cell_type": "code",
   "execution_count": 10,
   "id": "18676e01",
   "metadata": {},
   "outputs": [],
   "source": [
    "def process_data_loader_cpu(num_workers, batch_size):\n",
    "    # DataLoader all in CPU, copied to GPU (for model processing)\n",
    "    ade20k_val_loader_cpu = mx.gluon.data.DataLoader(\n",
    "        ade20k_val_cpu,\n",
    "        batch_size=batch_size,\n",
    "        num_workers=num_workers)\n",
    "\n",
    "    for data, label in tqdm(ade20k_val_loader_cpu):\n",
    "        data = data.as_in_context(mx.gpu())\n",
    "        label = label.as_in_context(mx.gpu())\n",
    "        \n",
    "def process_data_loader_gpu(num_workers, batch_size):\n",
    "    # DataLoader all in GPU, no copies necessary\n",
    "    ade20k_val_loader_gpu = mx.gluon.data.DataLoader(\n",
    "        ade20k_val_gpu,\n",
    "        batch_size=batch_size,\n",
    "        num_workers=num_workers,\n",
    "        thread_pool=False)\n",
    "\n",
    "    for data, label in tqdm(ade20k_val_loader_gpu):\n",
    "        pass"
   ]
  },
  {
   "cell_type": "code",
   "execution_count": 11,
   "id": "8e8f3842",
   "metadata": {},
   "outputs": [
    {
     "data": {
      "application/vnd.jupyter.widget-view+json": {
       "model_id": "df02c0b62420475e975b4ec18d0eeb38",
       "version_major": 2,
       "version_minor": 0
      },
      "text/plain": [
       "  0%|          | 0/500 [00:00<?, ?it/s]"
      ]
     },
     "metadata": {},
     "output_type": "display_data"
    },
    {
     "name": "stdout",
     "output_type": "stream",
     "text": [
      "Time (s): 45.90936017036438\n"
     ]
    }
   ],
   "source": [
    "start_time = time.time()\n",
    "\n",
    "process_data_loader_cpu(0, 4)\n",
    "\n",
    "print(\"Time (s):\", time.time() - start_time)"
   ]
  },
  {
   "cell_type": "code",
   "execution_count": 12,
   "id": "d79e9198",
   "metadata": {},
   "outputs": [
    {
     "data": {
      "application/vnd.jupyter.widget-view+json": {
       "model_id": "a567c434976c4190ad7404b3f3640e24",
       "version_major": 2,
       "version_minor": 0
      },
      "text/plain": [
       "  0%|          | 0/500 [00:00<?, ?it/s]"
      ]
     },
     "metadata": {},
     "output_type": "display_data"
    },
    {
     "name": "stdout",
     "output_type": "stream",
     "text": [
      "Time (s): 20.164036750793457\n"
     ]
    }
   ],
   "source": [
    "start_time = time.time()\n",
    "\n",
    "process_data_loader_gpu(0, 4)\n",
    "\n",
    "print(\"Time (s):\", time.time() - start_time)"
   ]
  },
  {
   "cell_type": "code",
   "execution_count": 13,
   "id": "db2cb8a8",
   "metadata": {},
   "outputs": [],
   "source": [
    "# Pre-processing in GPU, storing in CPU\n",
    "to_cpu_fn = lambda x: x.as_in_context(mx.cpu())\n",
    "\n",
    "input_transform_fn_gpu_cpu = mx.gluon.data.vision.transforms.Compose([\n",
    "    input_transform_fn_gpu,\n",
    "    to_cpu_fn\n",
    "])\n",
    "\n",
    "ade20k_val_gpu_cpu = gcv.data.ADE20KSegmentation(split='val', transform=input_transform_fn_gpu_cpu)"
   ]
  },
  {
   "cell_type": "code",
   "execution_count": 15,
   "id": "1d51920e",
   "metadata": {},
   "outputs": [],
   "source": [
    "def process_data_loader_gpu_cpu(num_workers, batch_size):\n",
    "    # DataLoader all in GPU, no copies necessary\n",
    "    ade20k_val_loader_gpu_cpu = mx.gluon.data.DataLoader(\n",
    "        ade20k_val_gpu_cpu,\n",
    "        batch_size=batch_size,\n",
    "        num_workers=num_workers,\n",
    "        thread_pool=False)\n",
    "\n",
    "    data_shape = []\n",
    "    labels_shape = []\n",
    "\n",
    "    for data, label in tqdm(ade20k_val_loader_gpu_cpu):\n",
    "        data = data.as_in_context(mx.gpu())\n",
    "        label = label.as_in_context(mx.gpu())"
   ]
  },
  {
   "cell_type": "code",
   "execution_count": 17,
   "id": "915986e2",
   "metadata": {},
   "outputs": [
    {
     "data": {
      "application/vnd.jupyter.widget-view+json": {
       "model_id": "f1d968cd2c47444f96eb929583209204",
       "version_major": 2,
       "version_minor": 0
      },
      "text/plain": [
       "  0%|          | 0/500 [00:00<?, ?it/s]"
      ]
     },
     "metadata": {},
     "output_type": "display_data"
    },
    {
     "name": "stdout",
     "output_type": "stream",
     "text": [
      "Time (s): 34.58254957199097\n"
     ]
    }
   ],
   "source": [
    "start_time = time.time()\n",
    "\n",
    "process_data_loader_gpu_cpu(0, 4)\n",
    "\n",
    "print(\"Time (s):\", time.time() - start_time)"
   ]
  },
  {
   "cell_type": "markdown",
   "id": "6be8f64d",
   "metadata": {},
   "source": [
    "## DataLoader Chart"
   ]
  },
  {
   "cell_type": "code",
   "execution_count": 18,
   "id": "08126aeb",
   "metadata": {},
   "outputs": [],
   "source": [
    "num_workers_list = [0, 1, 2, 4, 8]\n",
    "batch_sizes = [1, 2, 4, 8, 16]"
   ]
  },
  {
   "cell_type": "code",
   "execution_count": 19,
   "id": "6c506449",
   "metadata": {
    "scrolled": false
   },
   "outputs": [
    {
     "data": {
      "application/vnd.jupyter.widget-view+json": {
       "model_id": "63c33771711f4192bbf28d9c25eab1fa",
       "version_major": 2,
       "version_minor": 0
      },
      "text/plain": [
       "  0%|          | 0/2000 [00:00<?, ?it/s]"
      ]
     },
     "metadata": {},
     "output_type": "display_data"
    },
    {
     "data": {
      "application/vnd.jupyter.widget-view+json": {
       "model_id": "69b68e8cd75a422db90c4af9e3d6bb6e",
       "version_major": 2,
       "version_minor": 0
      },
      "text/plain": [
       "  0%|          | 0/2000 [00:00<?, ?it/s]"
      ]
     },
     "metadata": {},
     "output_type": "display_data"
    },
    {
     "data": {
      "application/vnd.jupyter.widget-view+json": {
       "model_id": "6087f631b7054fc5b6d7d6692d27e7fd",
       "version_major": 2,
       "version_minor": 0
      },
      "text/plain": [
       "  0%|          | 0/2000 [00:00<?, ?it/s]"
      ]
     },
     "metadata": {},
     "output_type": "display_data"
    },
    {
     "name": "stdout",
     "output_type": "stream",
     "text": [
      "19.9 s ± 0 ns per loop (mean ± std. dev. of 1 run, 3 loops each)\n"
     ]
    },
    {
     "data": {
      "application/vnd.jupyter.widget-view+json": {
       "model_id": "f6b02b4dbcb64df6aff6cf26aefad278",
       "version_major": 2,
       "version_minor": 0
      },
      "text/plain": [
       "  0%|          | 0/1000 [00:00<?, ?it/s]"
      ]
     },
     "metadata": {},
     "output_type": "display_data"
    },
    {
     "data": {
      "application/vnd.jupyter.widget-view+json": {
       "model_id": "ef60081fff8a402cb8c81e884e15cb81",
       "version_major": 2,
       "version_minor": 0
      },
      "text/plain": [
       "  0%|          | 0/1000 [00:00<?, ?it/s]"
      ]
     },
     "metadata": {},
     "output_type": "display_data"
    },
    {
     "data": {
      "application/vnd.jupyter.widget-view+json": {
       "model_id": "546ae59d70e84d4cb9d2c75a164e825e",
       "version_major": 2,
       "version_minor": 0
      },
      "text/plain": [
       "  0%|          | 0/1000 [00:00<?, ?it/s]"
      ]
     },
     "metadata": {},
     "output_type": "display_data"
    },
    {
     "name": "stdout",
     "output_type": "stream",
     "text": [
      "18.6 s ± 0 ns per loop (mean ± std. dev. of 1 run, 3 loops each)\n"
     ]
    },
    {
     "data": {
      "application/vnd.jupyter.widget-view+json": {
       "model_id": "c695ed03bdbc41a2a5d878581ad351da",
       "version_major": 2,
       "version_minor": 0
      },
      "text/plain": [
       "  0%|          | 0/500 [00:00<?, ?it/s]"
      ]
     },
     "metadata": {},
     "output_type": "display_data"
    },
    {
     "data": {
      "application/vnd.jupyter.widget-view+json": {
       "model_id": "4ac41fce9f5a4ebaafb3610d9ad519fb",
       "version_major": 2,
       "version_minor": 0
      },
      "text/plain": [
       "  0%|          | 0/500 [00:00<?, ?it/s]"
      ]
     },
     "metadata": {},
     "output_type": "display_data"
    },
    {
     "data": {
      "application/vnd.jupyter.widget-view+json": {
       "model_id": "7566262149dc4e1f94f70c669693189e",
       "version_major": 2,
       "version_minor": 0
      },
      "text/plain": [
       "  0%|          | 0/500 [00:00<?, ?it/s]"
      ]
     },
     "metadata": {},
     "output_type": "display_data"
    },
    {
     "name": "stdout",
     "output_type": "stream",
     "text": [
      "18.7 s ± 0 ns per loop (mean ± std. dev. of 1 run, 3 loops each)\n"
     ]
    },
    {
     "data": {
      "application/vnd.jupyter.widget-view+json": {
       "model_id": "cd345532abc54cdfad98a1be19d8fce2",
       "version_major": 2,
       "version_minor": 0
      },
      "text/plain": [
       "  0%|          | 0/250 [00:00<?, ?it/s]"
      ]
     },
     "metadata": {},
     "output_type": "display_data"
    },
    {
     "data": {
      "application/vnd.jupyter.widget-view+json": {
       "model_id": "cfc9f08174674b5a80623f4711efb9b3",
       "version_major": 2,
       "version_minor": 0
      },
      "text/plain": [
       "  0%|          | 0/250 [00:00<?, ?it/s]"
      ]
     },
     "metadata": {},
     "output_type": "display_data"
    },
    {
     "data": {
      "application/vnd.jupyter.widget-view+json": {
       "model_id": "5e5e4ccc856d4d90bca76527b54f3db2",
       "version_major": 2,
       "version_minor": 0
      },
      "text/plain": [
       "  0%|          | 0/250 [00:00<?, ?it/s]"
      ]
     },
     "metadata": {},
     "output_type": "display_data"
    },
    {
     "name": "stdout",
     "output_type": "stream",
     "text": [
      "19.1 s ± 0 ns per loop (mean ± std. dev. of 1 run, 3 loops each)\n"
     ]
    },
    {
     "data": {
      "application/vnd.jupyter.widget-view+json": {
       "model_id": "e98d5d67b94745219d71d4a522a69a76",
       "version_major": 2,
       "version_minor": 0
      },
      "text/plain": [
       "  0%|          | 0/125 [00:00<?, ?it/s]"
      ]
     },
     "metadata": {},
     "output_type": "display_data"
    },
    {
     "data": {
      "application/vnd.jupyter.widget-view+json": {
       "model_id": "08af1a9aeeb048b796a170d3a2c056cf",
       "version_major": 2,
       "version_minor": 0
      },
      "text/plain": [
       "  0%|          | 0/125 [00:00<?, ?it/s]"
      ]
     },
     "metadata": {},
     "output_type": "display_data"
    },
    {
     "data": {
      "application/vnd.jupyter.widget-view+json": {
       "model_id": "66abc49174054c8a82b831d5d7e41ae2",
       "version_major": 2,
       "version_minor": 0
      },
      "text/plain": [
       "  0%|          | 0/125 [00:00<?, ?it/s]"
      ]
     },
     "metadata": {},
     "output_type": "display_data"
    },
    {
     "name": "stdout",
     "output_type": "stream",
     "text": [
      "19.6 s ± 0 ns per loop (mean ± std. dev. of 1 run, 3 loops each)\n"
     ]
    }
   ],
   "source": [
    "results_gpu = []\n",
    "\n",
    "for batch_size in batch_sizes:\n",
    "    num_workers_gpu = 0\n",
    "    result = %timeit  -n 3 -r 1 -o process_data_loader_gpu(num_workers_gpu, batch_size)\n",
    "    results_gpu.append(result.average)"
   ]
  },
  {
   "cell_type": "code",
   "execution_count": 20,
   "id": "2ec8ca8c",
   "metadata": {},
   "outputs": [
    {
     "data": {
      "application/vnd.jupyter.widget-view+json": {
       "model_id": "31edd27937dd47a08ff96cc844d1ea5d",
       "version_major": 2,
       "version_minor": 0
      },
      "text/plain": [
       "  0%|          | 0/2000 [00:00<?, ?it/s]"
      ]
     },
     "metadata": {},
     "output_type": "display_data"
    },
    {
     "data": {
      "application/vnd.jupyter.widget-view+json": {
       "model_id": "401956d20ae74f79930df1a9737efaa8",
       "version_major": 2,
       "version_minor": 0
      },
      "text/plain": [
       "  0%|          | 0/2000 [00:00<?, ?it/s]"
      ]
     },
     "metadata": {},
     "output_type": "display_data"
    },
    {
     "data": {
      "application/vnd.jupyter.widget-view+json": {
       "model_id": "f2787a9af85a4ce6ba74dd1d0a7d588d",
       "version_major": 2,
       "version_minor": 0
      },
      "text/plain": [
       "  0%|          | 0/2000 [00:00<?, ?it/s]"
      ]
     },
     "metadata": {},
     "output_type": "display_data"
    },
    {
     "name": "stdout",
     "output_type": "stream",
     "text": [
      "23.4 s ± 0 ns per loop (mean ± std. dev. of 1 run, 3 loops each)\n"
     ]
    },
    {
     "data": {
      "application/vnd.jupyter.widget-view+json": {
       "model_id": "d3a654efa8b842419477f96e10afee6e",
       "version_major": 2,
       "version_minor": 0
      },
      "text/plain": [
       "  0%|          | 0/1000 [00:00<?, ?it/s]"
      ]
     },
     "metadata": {},
     "output_type": "display_data"
    },
    {
     "data": {
      "application/vnd.jupyter.widget-view+json": {
       "model_id": "925f6ec7c0704ce6bedc65bb0360079d",
       "version_major": 2,
       "version_minor": 0
      },
      "text/plain": [
       "  0%|          | 0/1000 [00:00<?, ?it/s]"
      ]
     },
     "metadata": {},
     "output_type": "display_data"
    },
    {
     "data": {
      "application/vnd.jupyter.widget-view+json": {
       "model_id": "c6349f07e1144fe9bd254e9612c65467",
       "version_major": 2,
       "version_minor": 0
      },
      "text/plain": [
       "  0%|          | 0/1000 [00:00<?, ?it/s]"
      ]
     },
     "metadata": {},
     "output_type": "display_data"
    },
    {
     "name": "stdout",
     "output_type": "stream",
     "text": [
      "24 s ± 0 ns per loop (mean ± std. dev. of 1 run, 3 loops each)\n"
     ]
    },
    {
     "data": {
      "application/vnd.jupyter.widget-view+json": {
       "model_id": "56e6485607304fcba86fc068a3afacbd",
       "version_major": 2,
       "version_minor": 0
      },
      "text/plain": [
       "  0%|          | 0/500 [00:00<?, ?it/s]"
      ]
     },
     "metadata": {},
     "output_type": "display_data"
    },
    {
     "data": {
      "application/vnd.jupyter.widget-view+json": {
       "model_id": "b4480166149043639d569cef764103bb",
       "version_major": 2,
       "version_minor": 0
      },
      "text/plain": [
       "  0%|          | 0/500 [00:00<?, ?it/s]"
      ]
     },
     "metadata": {},
     "output_type": "display_data"
    },
    {
     "data": {
      "application/vnd.jupyter.widget-view+json": {
       "model_id": "97ffab1252884c66af029720988b1ddf",
       "version_major": 2,
       "version_minor": 0
      },
      "text/plain": [
       "  0%|          | 0/500 [00:00<?, ?it/s]"
      ]
     },
     "metadata": {},
     "output_type": "display_data"
    },
    {
     "name": "stdout",
     "output_type": "stream",
     "text": [
      "34.7 s ± 0 ns per loop (mean ± std. dev. of 1 run, 3 loops each)\n"
     ]
    },
    {
     "data": {
      "application/vnd.jupyter.widget-view+json": {
       "model_id": "c0562b92ee294fdc93e9f82ae9d10f22",
       "version_major": 2,
       "version_minor": 0
      },
      "text/plain": [
       "  0%|          | 0/250 [00:00<?, ?it/s]"
      ]
     },
     "metadata": {},
     "output_type": "display_data"
    },
    {
     "data": {
      "application/vnd.jupyter.widget-view+json": {
       "model_id": "6fd7b0531ea24e5a97a2fb402795b1dc",
       "version_major": 2,
       "version_minor": 0
      },
      "text/plain": [
       "  0%|          | 0/250 [00:00<?, ?it/s]"
      ]
     },
     "metadata": {},
     "output_type": "display_data"
    },
    {
     "data": {
      "application/vnd.jupyter.widget-view+json": {
       "model_id": "647a85a6337e44578486eda7e47bf123",
       "version_major": 2,
       "version_minor": 0
      },
      "text/plain": [
       "  0%|          | 0/250 [00:00<?, ?it/s]"
      ]
     },
     "metadata": {},
     "output_type": "display_data"
    },
    {
     "name": "stdout",
     "output_type": "stream",
     "text": [
      "37.5 s ± 0 ns per loop (mean ± std. dev. of 1 run, 3 loops each)\n"
     ]
    },
    {
     "data": {
      "application/vnd.jupyter.widget-view+json": {
       "model_id": "778c4faf5dca4ad8ab50ba4eba63fe79",
       "version_major": 2,
       "version_minor": 0
      },
      "text/plain": [
       "  0%|          | 0/125 [00:00<?, ?it/s]"
      ]
     },
     "metadata": {},
     "output_type": "display_data"
    },
    {
     "data": {
      "application/vnd.jupyter.widget-view+json": {
       "model_id": "6844d6e83505471ca159e5c9e2e9c66d",
       "version_major": 2,
       "version_minor": 0
      },
      "text/plain": [
       "  0%|          | 0/125 [00:00<?, ?it/s]"
      ]
     },
     "metadata": {},
     "output_type": "display_data"
    },
    {
     "data": {
      "application/vnd.jupyter.widget-view+json": {
       "model_id": "9a4f97a2ac714886ab7a49a776e69e5d",
       "version_major": 2,
       "version_minor": 0
      },
      "text/plain": [
       "  0%|          | 0/125 [00:00<?, ?it/s]"
      ]
     },
     "metadata": {},
     "output_type": "display_data"
    },
    {
     "name": "stdout",
     "output_type": "stream",
     "text": [
      "36.8 s ± 0 ns per loop (mean ± std. dev. of 1 run, 3 loops each)\n"
     ]
    }
   ],
   "source": [
    "results_gpu_cpu = []\n",
    "\n",
    "for batch_size in batch_sizes:\n",
    "    num_workers_gpu = 0\n",
    "    result = %timeit  -n 3 -r 1 -o process_data_loader_gpu_cpu(num_workers_gpu, batch_size)\n",
    "    results_gpu_cpu.append(result.average)"
   ]
  },
  {
   "cell_type": "code",
   "execution_count": 21,
   "id": "d4aafb85",
   "metadata": {},
   "outputs": [
    {
     "data": {
      "application/vnd.jupyter.widget-view+json": {
       "model_id": "60a4e7b5bb08440a91c3f787cb46e2a9",
       "version_major": 2,
       "version_minor": 0
      },
      "text/plain": [
       "  0%|          | 0/2000 [00:00<?, ?it/s]"
      ]
     },
     "metadata": {},
     "output_type": "display_data"
    },
    {
     "data": {
      "application/vnd.jupyter.widget-view+json": {
       "model_id": "2601d99f35ca402e900975b33d945f27",
       "version_major": 2,
       "version_minor": 0
      },
      "text/plain": [
       "  0%|          | 0/2000 [00:00<?, ?it/s]"
      ]
     },
     "metadata": {},
     "output_type": "display_data"
    },
    {
     "data": {
      "application/vnd.jupyter.widget-view+json": {
       "model_id": "08d919b1cb034a13810adcffc9bcb359",
       "version_major": 2,
       "version_minor": 0
      },
      "text/plain": [
       "  0%|          | 0/2000 [00:00<?, ?it/s]"
      ]
     },
     "metadata": {},
     "output_type": "display_data"
    },
    {
     "name": "stdout",
     "output_type": "stream",
     "text": [
      "34.3 s ± 0 ns per loop (mean ± std. dev. of 1 run, 3 loops each)\n"
     ]
    },
    {
     "data": {
      "application/vnd.jupyter.widget-view+json": {
       "model_id": "597ad15e6fae463f91bfd0029539961c",
       "version_major": 2,
       "version_minor": 0
      },
      "text/plain": [
       "  0%|          | 0/1000 [00:00<?, ?it/s]"
      ]
     },
     "metadata": {},
     "output_type": "display_data"
    },
    {
     "data": {
      "application/vnd.jupyter.widget-view+json": {
       "model_id": "aac55c0e23b14f199937fef34fb07f73",
       "version_major": 2,
       "version_minor": 0
      },
      "text/plain": [
       "  0%|          | 0/1000 [00:00<?, ?it/s]"
      ]
     },
     "metadata": {},
     "output_type": "display_data"
    },
    {
     "data": {
      "application/vnd.jupyter.widget-view+json": {
       "model_id": "d01f79d08d9b4281b8c4a93120550f02",
       "version_major": 2,
       "version_minor": 0
      },
      "text/plain": [
       "  0%|          | 0/1000 [00:00<?, ?it/s]"
      ]
     },
     "metadata": {},
     "output_type": "display_data"
    },
    {
     "name": "stdout",
     "output_type": "stream",
     "text": [
      "45.3 s ± 0 ns per loop (mean ± std. dev. of 1 run, 3 loops each)\n"
     ]
    },
    {
     "data": {
      "application/vnd.jupyter.widget-view+json": {
       "model_id": "f6e4f5d57d6146bd889fe252ce5d3351",
       "version_major": 2,
       "version_minor": 0
      },
      "text/plain": [
       "  0%|          | 0/500 [00:00<?, ?it/s]"
      ]
     },
     "metadata": {},
     "output_type": "display_data"
    },
    {
     "data": {
      "application/vnd.jupyter.widget-view+json": {
       "model_id": "8407d35000a54fbcbbb97f4fd955994c",
       "version_major": 2,
       "version_minor": 0
      },
      "text/plain": [
       "  0%|          | 0/500 [00:00<?, ?it/s]"
      ]
     },
     "metadata": {},
     "output_type": "display_data"
    },
    {
     "data": {
      "application/vnd.jupyter.widget-view+json": {
       "model_id": "22e038189d9440d0aaf867d8ae8e4351",
       "version_major": 2,
       "version_minor": 0
      },
      "text/plain": [
       "  0%|          | 0/500 [00:00<?, ?it/s]"
      ]
     },
     "metadata": {},
     "output_type": "display_data"
    },
    {
     "name": "stdout",
     "output_type": "stream",
     "text": [
      "46 s ± 0 ns per loop (mean ± std. dev. of 1 run, 3 loops each)\n"
     ]
    },
    {
     "data": {
      "application/vnd.jupyter.widget-view+json": {
       "model_id": "ad755df2b1fb4eb9848d50ffbd8f2272",
       "version_major": 2,
       "version_minor": 0
      },
      "text/plain": [
       "  0%|          | 0/250 [00:00<?, ?it/s]"
      ]
     },
     "metadata": {},
     "output_type": "display_data"
    },
    {
     "data": {
      "application/vnd.jupyter.widget-view+json": {
       "model_id": "408a8d3c86f14b818f4fd966f97a7710",
       "version_major": 2,
       "version_minor": 0
      },
      "text/plain": [
       "  0%|          | 0/250 [00:00<?, ?it/s]"
      ]
     },
     "metadata": {},
     "output_type": "display_data"
    },
    {
     "data": {
      "application/vnd.jupyter.widget-view+json": {
       "model_id": "6cb6bbc73f814179b82797267b74fbc7",
       "version_major": 2,
       "version_minor": 0
      },
      "text/plain": [
       "  0%|          | 0/250 [00:00<?, ?it/s]"
      ]
     },
     "metadata": {},
     "output_type": "display_data"
    },
    {
     "name": "stdout",
     "output_type": "stream",
     "text": [
      "46.1 s ± 0 ns per loop (mean ± std. dev. of 1 run, 3 loops each)\n"
     ]
    },
    {
     "data": {
      "application/vnd.jupyter.widget-view+json": {
       "model_id": "bdc475dd1a4a458f8558f75d988b5f37",
       "version_major": 2,
       "version_minor": 0
      },
      "text/plain": [
       "  0%|          | 0/125 [00:00<?, ?it/s]"
      ]
     },
     "metadata": {},
     "output_type": "display_data"
    },
    {
     "data": {
      "application/vnd.jupyter.widget-view+json": {
       "model_id": "2509a8b34a8a42008b4c32dfd3f36cea",
       "version_major": 2,
       "version_minor": 0
      },
      "text/plain": [
       "  0%|          | 0/125 [00:00<?, ?it/s]"
      ]
     },
     "metadata": {},
     "output_type": "display_data"
    },
    {
     "data": {
      "application/vnd.jupyter.widget-view+json": {
       "model_id": "77e1283c966e4fa1b0009be35c01d40b",
       "version_major": 2,
       "version_minor": 0
      },
      "text/plain": [
       "  0%|          | 0/125 [00:00<?, ?it/s]"
      ]
     },
     "metadata": {},
     "output_type": "display_data"
    },
    {
     "name": "stdout",
     "output_type": "stream",
     "text": [
      "46 s ± 0 ns per loop (mean ± std. dev. of 1 run, 3 loops each)\n"
     ]
    },
    {
     "data": {
      "application/vnd.jupyter.widget-view+json": {
       "model_id": "61479992413d4a2aa955743447259212",
       "version_major": 2,
       "version_minor": 0
      },
      "text/plain": [
       "  0%|          | 0/2000 [00:00<?, ?it/s]"
      ]
     },
     "metadata": {},
     "output_type": "display_data"
    },
    {
     "data": {
      "application/vnd.jupyter.widget-view+json": {
       "model_id": "7001a91dc3424709a813ad2aef9ddf66",
       "version_major": 2,
       "version_minor": 0
      },
      "text/plain": [
       "  0%|          | 0/2000 [00:00<?, ?it/s]"
      ]
     },
     "metadata": {},
     "output_type": "display_data"
    },
    {
     "data": {
      "application/vnd.jupyter.widget-view+json": {
       "model_id": "bcde002ae5d84dc1b30416844671928e",
       "version_major": 2,
       "version_minor": 0
      },
      "text/plain": [
       "  0%|          | 0/2000 [00:00<?, ?it/s]"
      ]
     },
     "metadata": {},
     "output_type": "display_data"
    },
    {
     "name": "stdout",
     "output_type": "stream",
     "text": [
      "1min 48s ± 0 ns per loop (mean ± std. dev. of 1 run, 3 loops each)\n"
     ]
    },
    {
     "data": {
      "application/vnd.jupyter.widget-view+json": {
       "model_id": "da5528aee6a74a36b63ca1795fc44e6a",
       "version_major": 2,
       "version_minor": 0
      },
      "text/plain": [
       "  0%|          | 0/1000 [00:00<?, ?it/s]"
      ]
     },
     "metadata": {},
     "output_type": "display_data"
    },
    {
     "data": {
      "application/vnd.jupyter.widget-view+json": {
       "model_id": "00b65a44f3d6439eaf35d4be197b1178",
       "version_major": 2,
       "version_minor": 0
      },
      "text/plain": [
       "  0%|          | 0/1000 [00:00<?, ?it/s]"
      ]
     },
     "metadata": {},
     "output_type": "display_data"
    },
    {
     "data": {
      "application/vnd.jupyter.widget-view+json": {
       "model_id": "51d19a32b85c4c2fb857bc4e1a133f1c",
       "version_major": 2,
       "version_minor": 0
      },
      "text/plain": [
       "  0%|          | 0/1000 [00:00<?, ?it/s]"
      ]
     },
     "metadata": {},
     "output_type": "display_data"
    },
    {
     "name": "stdout",
     "output_type": "stream",
     "text": [
      "1min 35s ± 0 ns per loop (mean ± std. dev. of 1 run, 3 loops each)\n"
     ]
    },
    {
     "data": {
      "application/vnd.jupyter.widget-view+json": {
       "model_id": "3f1990e91ea542b99d5477a663f74f65",
       "version_major": 2,
       "version_minor": 0
      },
      "text/plain": [
       "  0%|          | 0/500 [00:00<?, ?it/s]"
      ]
     },
     "metadata": {},
     "output_type": "display_data"
    },
    {
     "data": {
      "application/vnd.jupyter.widget-view+json": {
       "model_id": "80aa951841a1479b975d7ec6a73816f1",
       "version_major": 2,
       "version_minor": 0
      },
      "text/plain": [
       "  0%|          | 0/500 [00:00<?, ?it/s]"
      ]
     },
     "metadata": {},
     "output_type": "display_data"
    },
    {
     "data": {
      "application/vnd.jupyter.widget-view+json": {
       "model_id": "5a7801c9798d4d5891ea8ee145e7469f",
       "version_major": 2,
       "version_minor": 0
      },
      "text/plain": [
       "  0%|          | 0/500 [00:00<?, ?it/s]"
      ]
     },
     "metadata": {},
     "output_type": "display_data"
    },
    {
     "name": "stdout",
     "output_type": "stream",
     "text": [
      "1min 26s ± 0 ns per loop (mean ± std. dev. of 1 run, 3 loops each)\n"
     ]
    },
    {
     "data": {
      "application/vnd.jupyter.widget-view+json": {
       "model_id": "d4785228c7f944b399420e3114dadf6c",
       "version_major": 2,
       "version_minor": 0
      },
      "text/plain": [
       "  0%|          | 0/250 [00:00<?, ?it/s]"
      ]
     },
     "metadata": {},
     "output_type": "display_data"
    },
    {
     "data": {
      "application/vnd.jupyter.widget-view+json": {
       "model_id": "30c42160addd4b558f66d88da646de1f",
       "version_major": 2,
       "version_minor": 0
      },
      "text/plain": [
       "  0%|          | 0/250 [00:00<?, ?it/s]"
      ]
     },
     "metadata": {},
     "output_type": "display_data"
    },
    {
     "data": {
      "application/vnd.jupyter.widget-view+json": {
       "model_id": "2b0812d1b1c1440d8515022d246bcb75",
       "version_major": 2,
       "version_minor": 0
      },
      "text/plain": [
       "  0%|          | 0/250 [00:00<?, ?it/s]"
      ]
     },
     "metadata": {},
     "output_type": "display_data"
    },
    {
     "name": "stdout",
     "output_type": "stream",
     "text": [
      "1min 11s ± 0 ns per loop (mean ± std. dev. of 1 run, 3 loops each)\n"
     ]
    },
    {
     "data": {
      "application/vnd.jupyter.widget-view+json": {
       "model_id": "1a250105ba9c4e8aaf368b0c1b111264",
       "version_major": 2,
       "version_minor": 0
      },
      "text/plain": [
       "  0%|          | 0/125 [00:00<?, ?it/s]"
      ]
     },
     "metadata": {},
     "output_type": "display_data"
    },
    {
     "data": {
      "application/vnd.jupyter.widget-view+json": {
       "model_id": "9d708f6df6fe4d8f893b33d1ccfd1b64",
       "version_major": 2,
       "version_minor": 0
      },
      "text/plain": [
       "  0%|          | 0/125 [00:00<?, ?it/s]"
      ]
     },
     "metadata": {},
     "output_type": "display_data"
    },
    {
     "data": {
      "application/vnd.jupyter.widget-view+json": {
       "model_id": "0ff373075c80498ab5b5139df1fa3d27",
       "version_major": 2,
       "version_minor": 0
      },
      "text/plain": [
       "  0%|          | 0/125 [00:00<?, ?it/s]"
      ]
     },
     "metadata": {},
     "output_type": "display_data"
    },
    {
     "name": "stdout",
     "output_type": "stream",
     "text": [
      "1min 15s ± 0 ns per loop (mean ± std. dev. of 1 run, 3 loops each)\n"
     ]
    },
    {
     "data": {
      "application/vnd.jupyter.widget-view+json": {
       "model_id": "b0e567379920436facedf0d750c61ead",
       "version_major": 2,
       "version_minor": 0
      },
      "text/plain": [
       "  0%|          | 0/2000 [00:00<?, ?it/s]"
      ]
     },
     "metadata": {},
     "output_type": "display_data"
    },
    {
     "data": {
      "application/vnd.jupyter.widget-view+json": {
       "model_id": "02e0b14bc2ab4053aa73c0fe139ce79a",
       "version_major": 2,
       "version_minor": 0
      },
      "text/plain": [
       "  0%|          | 0/2000 [00:00<?, ?it/s]"
      ]
     },
     "metadata": {},
     "output_type": "display_data"
    },
    {
     "data": {
      "application/vnd.jupyter.widget-view+json": {
       "model_id": "05d39e3e794c45ed82e1a0137daea246",
       "version_major": 2,
       "version_minor": 0
      },
      "text/plain": [
       "  0%|          | 0/2000 [00:00<?, ?it/s]"
      ]
     },
     "metadata": {},
     "output_type": "display_data"
    },
    {
     "name": "stdout",
     "output_type": "stream",
     "text": [
      "58.2 s ± 0 ns per loop (mean ± std. dev. of 1 run, 3 loops each)\n"
     ]
    },
    {
     "data": {
      "application/vnd.jupyter.widget-view+json": {
       "model_id": "4717474edeb742f69553ce083323e844",
       "version_major": 2,
       "version_minor": 0
      },
      "text/plain": [
       "  0%|          | 0/1000 [00:00<?, ?it/s]"
      ]
     },
     "metadata": {},
     "output_type": "display_data"
    },
    {
     "data": {
      "application/vnd.jupyter.widget-view+json": {
       "model_id": "99d0916255414f25b70d5d97ef23d14c",
       "version_major": 2,
       "version_minor": 0
      },
      "text/plain": [
       "  0%|          | 0/1000 [00:00<?, ?it/s]"
      ]
     },
     "metadata": {},
     "output_type": "display_data"
    },
    {
     "data": {
      "application/vnd.jupyter.widget-view+json": {
       "model_id": "39c86a6d8a304d2bbb5b9306deb8114b",
       "version_major": 2,
       "version_minor": 0
      },
      "text/plain": [
       "  0%|          | 0/1000 [00:00<?, ?it/s]"
      ]
     },
     "metadata": {},
     "output_type": "display_data"
    },
    {
     "name": "stdout",
     "output_type": "stream",
     "text": [
      "49.2 s ± 0 ns per loop (mean ± std. dev. of 1 run, 3 loops each)\n"
     ]
    },
    {
     "data": {
      "application/vnd.jupyter.widget-view+json": {
       "model_id": "9dabda4a85014dbca54c7db2871cfac5",
       "version_major": 2,
       "version_minor": 0
      },
      "text/plain": [
       "  0%|          | 0/500 [00:00<?, ?it/s]"
      ]
     },
     "metadata": {},
     "output_type": "display_data"
    },
    {
     "data": {
      "application/vnd.jupyter.widget-view+json": {
       "model_id": "b1c4af290b264b1394a907d605fc7b5b",
       "version_major": 2,
       "version_minor": 0
      },
      "text/plain": [
       "  0%|          | 0/500 [00:00<?, ?it/s]"
      ]
     },
     "metadata": {},
     "output_type": "display_data"
    },
    {
     "data": {
      "application/vnd.jupyter.widget-view+json": {
       "model_id": "4971fff19d5a44dcae1e4a635adb68c9",
       "version_major": 2,
       "version_minor": 0
      },
      "text/plain": [
       "  0%|          | 0/500 [00:00<?, ?it/s]"
      ]
     },
     "metadata": {},
     "output_type": "display_data"
    },
    {
     "name": "stdout",
     "output_type": "stream",
     "text": [
      "44.8 s ± 0 ns per loop (mean ± std. dev. of 1 run, 3 loops each)\n"
     ]
    },
    {
     "data": {
      "application/vnd.jupyter.widget-view+json": {
       "model_id": "4e9e1faa27ac4ac6911163606f35897f",
       "version_major": 2,
       "version_minor": 0
      },
      "text/plain": [
       "  0%|          | 0/250 [00:00<?, ?it/s]"
      ]
     },
     "metadata": {},
     "output_type": "display_data"
    },
    {
     "data": {
      "application/vnd.jupyter.widget-view+json": {
       "model_id": "a476f982a98745de9b372eb13d7679fc",
       "version_major": 2,
       "version_minor": 0
      },
      "text/plain": [
       "  0%|          | 0/250 [00:00<?, ?it/s]"
      ]
     },
     "metadata": {},
     "output_type": "display_data"
    },
    {
     "data": {
      "application/vnd.jupyter.widget-view+json": {
       "model_id": "0bc22fe82d33414cbc9cddf47399f4b8",
       "version_major": 2,
       "version_minor": 0
      },
      "text/plain": [
       "  0%|          | 0/250 [00:00<?, ?it/s]"
      ]
     },
     "metadata": {},
     "output_type": "display_data"
    },
    {
     "name": "stdout",
     "output_type": "stream",
     "text": [
      "37.6 s ± 0 ns per loop (mean ± std. dev. of 1 run, 3 loops each)\n"
     ]
    },
    {
     "data": {
      "application/vnd.jupyter.widget-view+json": {
       "model_id": "85b0328bbfa9401d96564cd6139947ae",
       "version_major": 2,
       "version_minor": 0
      },
      "text/plain": [
       "  0%|          | 0/125 [00:00<?, ?it/s]"
      ]
     },
     "metadata": {},
     "output_type": "display_data"
    },
    {
     "data": {
      "application/vnd.jupyter.widget-view+json": {
       "model_id": "97162795b7974762a1c4ebab5ad5444a",
       "version_major": 2,
       "version_minor": 0
      },
      "text/plain": [
       "  0%|          | 0/125 [00:00<?, ?it/s]"
      ]
     },
     "metadata": {},
     "output_type": "display_data"
    },
    {
     "data": {
      "application/vnd.jupyter.widget-view+json": {
       "model_id": "acff14ad6734493798ceba2b15e613e2",
       "version_major": 2,
       "version_minor": 0
      },
      "text/plain": [
       "  0%|          | 0/125 [00:00<?, ?it/s]"
      ]
     },
     "metadata": {},
     "output_type": "display_data"
    },
    {
     "name": "stdout",
     "output_type": "stream",
     "text": [
      "38.6 s ± 0 ns per loop (mean ± std. dev. of 1 run, 3 loops each)\n"
     ]
    },
    {
     "data": {
      "application/vnd.jupyter.widget-view+json": {
       "model_id": "5cb47f1c137d4a5aa9775f64643f5c4b",
       "version_major": 2,
       "version_minor": 0
      },
      "text/plain": [
       "  0%|          | 0/2000 [00:00<?, ?it/s]"
      ]
     },
     "metadata": {},
     "output_type": "display_data"
    },
    {
     "data": {
      "application/vnd.jupyter.widget-view+json": {
       "model_id": "cf2f2b85916f487d8a447d15591e1fec",
       "version_major": 2,
       "version_minor": 0
      },
      "text/plain": [
       "  0%|          | 0/2000 [00:00<?, ?it/s]"
      ]
     },
     "metadata": {},
     "output_type": "display_data"
    },
    {
     "data": {
      "application/vnd.jupyter.widget-view+json": {
       "model_id": "fed2179ac64a4f3ebad4e886e5eace52",
       "version_major": 2,
       "version_minor": 0
      },
      "text/plain": [
       "  0%|          | 0/2000 [00:00<?, ?it/s]"
      ]
     },
     "metadata": {},
     "output_type": "display_data"
    },
    {
     "name": "stdout",
     "output_type": "stream",
     "text": [
      "31.7 s ± 0 ns per loop (mean ± std. dev. of 1 run, 3 loops each)\n"
     ]
    },
    {
     "data": {
      "application/vnd.jupyter.widget-view+json": {
       "model_id": "15e129931ac446c9a57412fa9611fa3d",
       "version_major": 2,
       "version_minor": 0
      },
      "text/plain": [
       "  0%|          | 0/1000 [00:00<?, ?it/s]"
      ]
     },
     "metadata": {},
     "output_type": "display_data"
    },
    {
     "data": {
      "application/vnd.jupyter.widget-view+json": {
       "model_id": "0701eaf0ef7f4f94a06ae232485c62c8",
       "version_major": 2,
       "version_minor": 0
      },
      "text/plain": [
       "  0%|          | 0/1000 [00:00<?, ?it/s]"
      ]
     },
     "metadata": {},
     "output_type": "display_data"
    },
    {
     "data": {
      "application/vnd.jupyter.widget-view+json": {
       "model_id": "9819eb749b784cf4a0c3e041ef417505",
       "version_major": 2,
       "version_minor": 0
      },
      "text/plain": [
       "  0%|          | 0/1000 [00:00<?, ?it/s]"
      ]
     },
     "metadata": {},
     "output_type": "display_data"
    },
    {
     "name": "stdout",
     "output_type": "stream",
     "text": [
      "26.4 s ± 0 ns per loop (mean ± std. dev. of 1 run, 3 loops each)\n"
     ]
    },
    {
     "data": {
      "application/vnd.jupyter.widget-view+json": {
       "model_id": "7a0cf2e8afb447118d8817c01d857e12",
       "version_major": 2,
       "version_minor": 0
      },
      "text/plain": [
       "  0%|          | 0/500 [00:00<?, ?it/s]"
      ]
     },
     "metadata": {},
     "output_type": "display_data"
    },
    {
     "data": {
      "application/vnd.jupyter.widget-view+json": {
       "model_id": "743b66f31f1c4fe4ab7420e75b953c1a",
       "version_major": 2,
       "version_minor": 0
      },
      "text/plain": [
       "  0%|          | 0/500 [00:00<?, ?it/s]"
      ]
     },
     "metadata": {},
     "output_type": "display_data"
    },
    {
     "data": {
      "application/vnd.jupyter.widget-view+json": {
       "model_id": "35337f222faa4e07b551e48fe3a804f6",
       "version_major": 2,
       "version_minor": 0
      },
      "text/plain": [
       "  0%|          | 0/500 [00:00<?, ?it/s]"
      ]
     },
     "metadata": {},
     "output_type": "display_data"
    },
    {
     "name": "stdout",
     "output_type": "stream",
     "text": [
      "24 s ± 0 ns per loop (mean ± std. dev. of 1 run, 3 loops each)\n"
     ]
    },
    {
     "data": {
      "application/vnd.jupyter.widget-view+json": {
       "model_id": "ad843c9d982b4436aec006a79d50a4c5",
       "version_major": 2,
       "version_minor": 0
      },
      "text/plain": [
       "  0%|          | 0/250 [00:00<?, ?it/s]"
      ]
     },
     "metadata": {},
     "output_type": "display_data"
    },
    {
     "data": {
      "application/vnd.jupyter.widget-view+json": {
       "model_id": "8d0955af48f14c6f8a718770abed1145",
       "version_major": 2,
       "version_minor": 0
      },
      "text/plain": [
       "  0%|          | 0/250 [00:00<?, ?it/s]"
      ]
     },
     "metadata": {},
     "output_type": "display_data"
    },
    {
     "data": {
      "application/vnd.jupyter.widget-view+json": {
       "model_id": "d54756452af249328f3233285c679821",
       "version_major": 2,
       "version_minor": 0
      },
      "text/plain": [
       "  0%|          | 0/250 [00:00<?, ?it/s]"
      ]
     },
     "metadata": {},
     "output_type": "display_data"
    },
    {
     "name": "stdout",
     "output_type": "stream",
     "text": [
      "20.3 s ± 0 ns per loop (mean ± std. dev. of 1 run, 3 loops each)\n"
     ]
    },
    {
     "data": {
      "application/vnd.jupyter.widget-view+json": {
       "model_id": "a2d4f5a0bbca452eb0e5a30e5e3eabb1",
       "version_major": 2,
       "version_minor": 0
      },
      "text/plain": [
       "  0%|          | 0/125 [00:00<?, ?it/s]"
      ]
     },
     "metadata": {},
     "output_type": "display_data"
    },
    {
     "data": {
      "application/vnd.jupyter.widget-view+json": {
       "model_id": "a3c6d15452674fb98c92c950f4cf6ad2",
       "version_major": 2,
       "version_minor": 0
      },
      "text/plain": [
       "  0%|          | 0/125 [00:00<?, ?it/s]"
      ]
     },
     "metadata": {},
     "output_type": "display_data"
    },
    {
     "data": {
      "application/vnd.jupyter.widget-view+json": {
       "model_id": "a9aa7bbfc66d4cdba64a229bc322ca6e",
       "version_major": 2,
       "version_minor": 0
      },
      "text/plain": [
       "  0%|          | 0/125 [00:00<?, ?it/s]"
      ]
     },
     "metadata": {},
     "output_type": "display_data"
    },
    {
     "name": "stdout",
     "output_type": "stream",
     "text": [
      "21.3 s ± 0 ns per loop (mean ± std. dev. of 1 run, 3 loops each)\n"
     ]
    },
    {
     "data": {
      "application/vnd.jupyter.widget-view+json": {
       "model_id": "a769de8ba468431382cf8c9f17f2eb1b",
       "version_major": 2,
       "version_minor": 0
      },
      "text/plain": [
       "  0%|          | 0/2000 [00:00<?, ?it/s]"
      ]
     },
     "metadata": {},
     "output_type": "display_data"
    },
    {
     "data": {
      "application/vnd.jupyter.widget-view+json": {
       "model_id": "e21a5c3c806a45858412bfba4aa5ee14",
       "version_major": 2,
       "version_minor": 0
      },
      "text/plain": [
       "  0%|          | 0/2000 [00:00<?, ?it/s]"
      ]
     },
     "metadata": {},
     "output_type": "display_data"
    },
    {
     "data": {
      "application/vnd.jupyter.widget-view+json": {
       "model_id": "ca1b6349b3d44f748cdb361ee621b1a3",
       "version_major": 2,
       "version_minor": 0
      },
      "text/plain": [
       "  0%|          | 0/2000 [00:00<?, ?it/s]"
      ]
     },
     "metadata": {},
     "output_type": "display_data"
    },
    {
     "name": "stdout",
     "output_type": "stream",
     "text": [
      "19.6 s ± 0 ns per loop (mean ± std. dev. of 1 run, 3 loops each)\n"
     ]
    },
    {
     "data": {
      "application/vnd.jupyter.widget-view+json": {
       "model_id": "99d31e1726a74509ba5b8767936575ae",
       "version_major": 2,
       "version_minor": 0
      },
      "text/plain": [
       "  0%|          | 0/1000 [00:00<?, ?it/s]"
      ]
     },
     "metadata": {},
     "output_type": "display_data"
    },
    {
     "data": {
      "application/vnd.jupyter.widget-view+json": {
       "model_id": "7b5b05eef6eb4781a55358048fcd4349",
       "version_major": 2,
       "version_minor": 0
      },
      "text/plain": [
       "  0%|          | 0/1000 [00:00<?, ?it/s]"
      ]
     },
     "metadata": {},
     "output_type": "display_data"
    },
    {
     "data": {
      "application/vnd.jupyter.widget-view+json": {
       "model_id": "ac958c9841ce466b9e9705e63fc6807b",
       "version_major": 2,
       "version_minor": 0
      },
      "text/plain": [
       "  0%|          | 0/1000 [00:00<?, ?it/s]"
      ]
     },
     "metadata": {},
     "output_type": "display_data"
    },
    {
     "name": "stdout",
     "output_type": "stream",
     "text": [
      "17.2 s ± 0 ns per loop (mean ± std. dev. of 1 run, 3 loops each)\n"
     ]
    },
    {
     "data": {
      "application/vnd.jupyter.widget-view+json": {
       "model_id": "1021fca4b7c34b9c9c4817db709dad15",
       "version_major": 2,
       "version_minor": 0
      },
      "text/plain": [
       "  0%|          | 0/500 [00:00<?, ?it/s]"
      ]
     },
     "metadata": {},
     "output_type": "display_data"
    },
    {
     "data": {
      "application/vnd.jupyter.widget-view+json": {
       "model_id": "ea5ab6803d994a028fd432cad4ca96f6",
       "version_major": 2,
       "version_minor": 0
      },
      "text/plain": [
       "  0%|          | 0/500 [00:00<?, ?it/s]"
      ]
     },
     "metadata": {},
     "output_type": "display_data"
    },
    {
     "data": {
      "application/vnd.jupyter.widget-view+json": {
       "model_id": "158514540c43443da047a4df897c762c",
       "version_major": 2,
       "version_minor": 0
      },
      "text/plain": [
       "  0%|          | 0/500 [00:00<?, ?it/s]"
      ]
     },
     "metadata": {},
     "output_type": "display_data"
    },
    {
     "name": "stdout",
     "output_type": "stream",
     "text": [
      "16.7 s ± 0 ns per loop (mean ± std. dev. of 1 run, 3 loops each)\n"
     ]
    },
    {
     "data": {
      "application/vnd.jupyter.widget-view+json": {
       "model_id": "9b917e378ffa419e9fe14c715ae0ae7c",
       "version_major": 2,
       "version_minor": 0
      },
      "text/plain": [
       "  0%|          | 0/250 [00:00<?, ?it/s]"
      ]
     },
     "metadata": {},
     "output_type": "display_data"
    },
    {
     "data": {
      "application/vnd.jupyter.widget-view+json": {
       "model_id": "d1a34f1b117a4209b6dd4510af96a883",
       "version_major": 2,
       "version_minor": 0
      },
      "text/plain": [
       "  0%|          | 0/250 [00:00<?, ?it/s]"
      ]
     },
     "metadata": {},
     "output_type": "display_data"
    },
    {
     "data": {
      "application/vnd.jupyter.widget-view+json": {
       "model_id": "4f397ff3b916425e9f4377c5beda10ac",
       "version_major": 2,
       "version_minor": 0
      },
      "text/plain": [
       "  0%|          | 0/250 [00:00<?, ?it/s]"
      ]
     },
     "metadata": {},
     "output_type": "display_data"
    },
    {
     "name": "stdout",
     "output_type": "stream",
     "text": [
      "16.1 s ± 0 ns per loop (mean ± std. dev. of 1 run, 3 loops each)\n"
     ]
    },
    {
     "data": {
      "application/vnd.jupyter.widget-view+json": {
       "model_id": "655f717031654b01b966d1181c6d8d9c",
       "version_major": 2,
       "version_minor": 0
      },
      "text/plain": [
       "  0%|          | 0/125 [00:00<?, ?it/s]"
      ]
     },
     "metadata": {},
     "output_type": "display_data"
    },
    {
     "data": {
      "application/vnd.jupyter.widget-view+json": {
       "model_id": "c9b58b6b76a445488ac5f1fb58d0c3e6",
       "version_major": 2,
       "version_minor": 0
      },
      "text/plain": [
       "  0%|          | 0/125 [00:00<?, ?it/s]"
      ]
     },
     "metadata": {},
     "output_type": "display_data"
    },
    {
     "data": {
      "application/vnd.jupyter.widget-view+json": {
       "model_id": "7602389d51c44728898037fba1db7d00",
       "version_major": 2,
       "version_minor": 0
      },
      "text/plain": [
       "  0%|          | 0/125 [00:00<?, ?it/s]"
      ]
     },
     "metadata": {},
     "output_type": "display_data"
    },
    {
     "name": "stdout",
     "output_type": "stream",
     "text": [
      "16.5 s ± 0 ns per loop (mean ± std. dev. of 1 run, 3 loops each)\n"
     ]
    }
   ],
   "source": [
    "results_cpu = []\n",
    "    \n",
    "for num_workers_cpu in num_workers_list:\n",
    "    temp_list = []\n",
    "    for batch_size in batch_sizes:\n",
    "        result = %timeit -n 3 -r 1 -o process_data_loader_cpu(num_workers_cpu, batch_size)\n",
    "        temp_list.append(result.average)\n",
    "    results_cpu.append(temp_list)"
   ]
  },
  {
   "cell_type": "code",
   "execution_count": 32,
   "id": "a4ab1df7",
   "metadata": {},
   "outputs": [
    {
     "data": {
      "image/png": "[encoded data removed]",
      "text/plain": [
       "<Figure size 640x480 with 1 Axes>"
      ]
     },
     "metadata": {},
     "output_type": "display_data"
    }
   ],
   "source": [
    "fig = plt.figure()\n",
    "plt.plot(batch_sizes, results_gpu_cpu, color='pink', marker='x')\n",
    "plt.plot(batch_sizes, results_gpu, color='red', marker='s')\n",
    "plt.plot(batch_sizes, results_cpu[0], color='blue', marker='o')\n",
    "plt.plot(batch_sizes, results_cpu[1], color='green', marker='^')\n",
    "plt.plot(batch_sizes, results_cpu[2], color='yellow', marker='p')\n",
    "plt.plot(batch_sizes, results_cpu[3], color='orange', marker='*')\n",
    "plt.plot(batch_sizes, results_cpu[4][:5], color='orange', marker='*')\n",
    "plt.title(\"DataLoader Times\", fontsize=14)\n",
    "plt.xlabel(\"Batch Size\", fontsize=14)\n",
    "plt.ylabel(\"Runtime (s)\", fontsize=14)\n",
    "plt.grid(True)\n",
    "plt.legend([\"GPU+CPU (workers: 0)\", \"GPU (workers: 0)\", \"CPU (workers: 0)\", \"CPU (workers: 1)\", \"CPU (workers: 2)\", \"CPU (workers: 4)\", \"CPU (workers: 8)\"])\n",
    "plt.show()"
   ]
  },
  {
   "cell_type": "markdown",
   "id": "443425a9",
   "metadata": {},
   "source": [
    "## Automatic Mixed Precision (AMP)"
   ]
  },
  {
   "cell_type": "code",
   "execution_count": 4,
   "id": "6e1d7975",
   "metadata": {},
   "outputs": [],
   "source": [
    "# Global Libraries\n",
    "import collections\n",
    "import gluoncv as gcv\n",
    "from gluoncv.utils.metrics.segmentation import SegmentationMetric\n",
    "from mxnet.gluon.data.vision import transforms\n",
    "from gluoncv.loss import MixSoftmaxCrossEntropyLoss\n",
    "from importlib import reload\n",
    "import matplotlib.pyplot as plt\n",
    "import mxnet as mx\n",
    "import numpy as np\n",
    "import os\n",
    "from sklearn import metrics\n",
    "import time\n",
    "from tqdm.notebook import tqdm\n",
    "\n",
    "# Local Libraries\n",
    "import pedestrian\n",
    "import seg_model\n",
    "\n",
    "# GPU mode\n",
    "ctx = mx.gpu()"
   ]
  },
  {
   "cell_type": "code",
   "execution_count": 5,
   "id": "99204447",
   "metadata": {},
   "outputs": [
    {
     "name": "stdout",
     "output_type": "stream",
     "text": [
      "Read 120 images with 307 pedestrians\n",
      "Read 25 images with 68 pedestrians\n",
      "Read 25 images with 48 pedestrians\n"
     ]
    }
   ],
   "source": [
    "# Penn-Fudan Pedestrian Dataset\n",
    "# https://www.cis.upenn.edu/~jshi/ped_html/\n",
    "reload(pedestrian)\n",
    "\n",
    "if not os.path.exists(pedestrian.PEDESTRIAN_FILE):\n",
    "    !wget https://www.cis.upenn.edu/~jshi/ped_html/PennFudanPed.zip\n",
    "\n",
    "pedestrian_path = os.getcwd()\n",
    "\n",
    "# Datasets\n",
    "pedestrian_train_dataset = pedestrian.PedestrianDataset(\n",
    "    pedestrian_path,\n",
    "    split=\"train\",\n",
    "    is_segmentation_task=True,\n",
    "    invert_masks=False)\n",
    "\n",
    "pedestrian_val_dataset = pedestrian.PedestrianDataset(\n",
    "    pedestrian_path,\n",
    "    split=\"val\",\n",
    "    is_segmentation_task=True,\n",
    "    invert_masks=False)\n",
    "\n",
    "pedestrian_test_dataset = pedestrian.PedestrianDataset(\n",
    "    pedestrian_path,\n",
    "    split=\"test\",\n",
    "    is_segmentation_task=True,\n",
    "    invert_masks=False)\n",
    "\n",
    "\n",
    "# Further pre-processing\n",
    "# Training pre-processing optimized for speed\n",
    "# Evaluation pre-processing optimized for visualizations\n",
    "image_size = 480\n",
    "\n",
    "imagenet_transform = transforms.Compose([\n",
    "    transforms.Resize(image_size, keep_ratio=True),\n",
    "    transforms.CenterCrop(image_size),\n",
    "    transforms.ToTensor(),\n",
    "    transforms.Normalize([.485, .456, .406], [.229, .224, .225]),\n",
    "])\n",
    "\n",
    "size_transform = transforms.Compose([\n",
    "    transforms.Resize(image_size, keep_ratio=True),\n",
    "    transforms.CenterCrop(image_size)\n",
    "])\n",
    "\n",
    "train_val_transform = lambda data, output: (imagenet_transform(data), size_transform(output))\n",
    "test_transform = lambda data, output: (size_transform(data), mx.nd.moveaxis(size_transform(output), -1, 0))\n",
    "\n",
    "p_train = pedestrian_train_dataset.transform(train_val_transform)\n",
    "p_val   = pedestrian_val_dataset.transform(train_val_transform)\n",
    "p_test  = pedestrian_test_dataset.transform(test_transform)"
   ]
  },
  {
   "cell_type": "code",
   "execution_count": 49,
   "id": "22c61436",
   "metadata": {},
   "outputs": [],
   "source": [
    "deeplab_pt = gcv.model_zoo.get_model('deeplab_resnet101_coco', pretrained=True, ctx=ctx)"
   ]
  },
  {
   "cell_type": "code",
   "execution_count": 54,
   "id": "72199802",
   "metadata": {},
   "outputs": [
    {
     "name": "stdout",
     "output_type": "stream",
     "text": [
      "Input data type: <class 'numpy.float32'> Model Parameters data type: <class 'numpy.float32'>\n"
     ]
    }
   ],
   "source": [
    "print(\"Input data type:\", p_val[0][0].dtype, \"Model Parameters data type:\", deeplab_pt.conv1[0].params[\"deeplabv337_resnetv1s_conv0_weight\"].dtype)"
   ]
  },
  {
   "cell_type": "code",
   "execution_count": 76,
   "id": "8212cf98",
   "metadata": {},
   "outputs": [
    {
     "name": "stdout",
     "output_type": "stream",
     "text": [
      "1/3 as Float32: 0.333333343267440795898437500000\n",
      "1/3 as Float16: 0.333251953125000000000000000000\n"
     ]
    }
   ],
   "source": [
    "a = mx.nd.array([1/3], dtype=np.float32)\n",
    "b = a.astype(np.float16)\n",
    "\n",
    "print(\"1/3 as Float32: {0:.30f}\".format(a.asscalar()))\n",
    "print(\"1/3 as Float16: {0:.30f}\".format(b.asscalar()))"
   ]
  },
  {
   "cell_type": "markdown",
   "id": "5a675a27",
   "metadata": {},
   "source": [
    "### Float32 Training"
   ]
  },
  {
   "cell_type": "code",
   "execution_count": 6,
   "id": "06d5ada5",
   "metadata": {},
   "outputs": [
    {
     "name": "stderr",
     "output_type": "stream",
     "text": [
      "[16:13:06] /work/mxnet/src/base.cc:79: cuDNN lib mismatch: linked-against version 8200 != compiled-against version 8201.  Set MXNET_CUDNN_LIB_CHECKING=0 to quiet this warning.\n"
     ]
    },
    {
     "data": {
      "application/vnd.jupyter.widget-view+json": {
       "model_id": "7b200d5c5bfe4638b5f4b05e2149a3de",
       "version_major": 2,
       "version_minor": 0
      },
      "text/plain": [
       "  0%|          | 0/10 [00:00<?, ?it/s]"
      ]
     },
     "metadata": {},
     "output_type": "display_data"
    },
    {
     "name": "stderr",
     "output_type": "stream",
     "text": [
      "[16:13:10] /work/mxnet/src/operator/nn/./cudnn/./cudnn_algoreg-inl.h:96: Running performance tests to find the best convolution algorithm, this can take a while... (set the environment variable MXNET_CUDNN_AUTOTUNE_DEFAULT to 0 to disable)\n"
     ]
    },
    {
     "name": "stdout",
     "output_type": "stream",
     "text": [
      "E:    1, TrL:      inf, VL: 1.052876 --- Updating saved model\n",
      "E:    2, TrL: 0.742097, VL: 1.714529\n",
      "E:    3, TrL: 0.702785, VL: 0.992210 --- Updating saved model\n",
      "E:    4, TrL: 0.648438, VL: 0.822017 --- Updating saved model\n",
      "E:    5, TrL: 0.593720, VL: 0.773931 --- Updating saved model\n",
      "E:    6, TrL: 0.572978, VL: 1.156278\n",
      "E:    7, TrL: 0.541276, VL: 0.680043 --- Updating saved model\n",
      "E:    8, TrL: 0.534532, VL: 0.854894\n",
      "E:    9, TrL: 0.511685, VL: 0.720281\n",
      "E:   10, TrL: 0.483089, VL: 1.077385\n",
      "Training time for 10 epochs: 594.4833037853241 / Best validation loss: 0.6800425\n"
     ]
    }
   ],
   "source": [
    "# Model\n",
    "deeplab_ft_direct_f32 = gcv.model_zoo.get_model('deeplab_resnet101_coco', pretrained=True, ctx=ctx)\n",
    "\n",
    "# FT-Direct, no freezing layers\n",
    "# # Freeze Layers (keeping track of the updated parameters)\n",
    "# updated_params = []\n",
    "# for param in deeplab_ft_direct_f32.collect_params().values():\n",
    "#     if param.grad_req == \"write\":\n",
    "#         param.grad_req = \"null\"\n",
    "#         updated_params += [param.name]\n",
    "\n",
    "# Replace the last layers\n",
    "deeplab_ft_direct_f32.head = gcv.model_zoo.deeplabv3._DeepLabHead(2)\n",
    "deeplab_ft_direct_f32.head.initialize(ctx=ctx)\n",
    "\n",
    "# DeepLab v3 has an additional auxiliary output for training/loss\n",
    "# Not required for our person detector\n",
    "deeplab_ft_direct_f32.aux = False\n",
    "for param in deeplab_ft_direct_f32.auxlayer.collect_params().values():\n",
    "    if param.grad_req == \"write\":\n",
    "        param.grad_req = \"null\"\n",
    "\n",
    "deeplab_ft_direct_f32.hybridize(static_alloc=True, static_shape=True)\n",
    "\n",
    "model_filename_ft_direct_f32 = \"deeplab_resnet101_coco_ft_direct_f32.params\"\n",
    "\n",
    "reload(seg_model)\n",
    "\n",
    "loss_fn = gcv.loss.SoftmaxCrossEntropyLoss()\n",
    "\n",
    "# Epochs & Batch Size\n",
    "epochs = 10\n",
    "batch_size = 4\n",
    "\n",
    "# Define Optimizer and Hyper Parameters\n",
    "trainer = mx.gluon.Trainer(deeplab_ft_direct_f32.collect_params(), \"sgd\", {\"learning_rate\": 1.0})\n",
    "\n",
    "start_time = time.time()\n",
    "\n",
    "training_loss, validation_loss = seg_model.training_loop(\n",
    "    deeplab_ft_direct_f32,\n",
    "    loss_fn, \n",
    "    trainer, \n",
    "    epochs, \n",
    "    batch_size, \n",
    "    p_train, \n",
    "    p_val, \n",
    "    model_filename_ft_direct_f32, \n",
    "    ctx)\n",
    "\n",
    "print(\"Training time for 10 epochs:\", time.time() - start_time, \"/ Best validation loss:\", min(validation_loss))"
   ]
  },
  {
   "cell_type": "markdown",
   "id": "8e0d44e6",
   "metadata": {},
   "source": [
    "### Float16 Training"
   ]
  },
  {
   "cell_type": "code",
   "execution_count": 7,
   "id": "943cfc48",
   "metadata": {},
   "outputs": [
    {
     "data": {
      "application/vnd.jupyter.widget-view+json": {
       "model_id": "1bebe5ad5dad495688cd7b3dfc5d46ec",
       "version_major": 2,
       "version_minor": 0
      },
      "text/plain": [
       "  0%|          | 0/10 [00:00<?, ?it/s]"
      ]
     },
     "metadata": {},
     "output_type": "display_data"
    },
    {
     "name": "stderr",
     "output_type": "stream",
     "text": [
      "[16:25:09] /work/mxnet/src/operator/nn/./cudnn/./cudnn_algoreg-inl.h:96: Running performance tests to find the best convolution algorithm, this can take a while... (set the environment variable MXNET_CUDNN_AUTOTUNE_DEFAULT to 0 to disable)\n"
     ]
    },
    {
     "name": "stdout",
     "output_type": "stream",
     "text": [
      "E:    1, TrL:      nan, VL:      nan\n",
      "E:    2, TrL:      nan, VL:      nan\n",
      "E:    3, TrL:      nan, VL:      nan\n",
      "E:    4, TrL:      nan, VL:      nan\n",
      "E:    5, TrL:      nan, VL:      nan\n",
      "E:    6, TrL:      nan, VL:      nan\n",
      "E:    7, TrL:      nan, VL:      nan\n",
      "E:    8, TrL:      nan, VL:      nan\n",
      "E:    9, TrL:      nan, VL:      nan\n",
      "E:   10, TrL:      nan, VL:      nan\n",
      "Training time for 10 epochs: 199.80901980400085 / Best validation loss: nan\n"
     ]
    }
   ],
   "source": [
    "# Model\n",
    "deeplab_ft_direct_f16 = gcv.model_zoo.get_model('deeplab_resnet101_coco', pretrained=True, ctx=ctx)\n",
    "\n",
    "# FT-Direct, no freezing layers\n",
    "# # Freeze Layers (keeping track of the updated parameters)\n",
    "# updated_params = []\n",
    "# for param in deeplab_ft_direct_f32.collect_params().values():\n",
    "#     if param.grad_req == \"write\":\n",
    "#         param.grad_req = \"null\"\n",
    "#         updated_params += [param.name]\n",
    "\n",
    "# Replace the last layers\n",
    "deeplab_ft_direct_f16.head = gcv.model_zoo.deeplabv3._DeepLabHead(2)\n",
    "deeplab_ft_direct_f16.head.initialize(ctx=ctx)\n",
    "\n",
    "# Float16 model\n",
    "deeplab_ft_direct_f16.cast('float16')\n",
    "\n",
    "# DeepLab v3 has an additional auxiliary output for training/loss\n",
    "# Not required for our person detector\n",
    "deeplab_ft_direct_f16.aux = False\n",
    "for param in deeplab_ft_direct_f16.auxlayer.collect_params().values():\n",
    "    if param.grad_req == \"write\":\n",
    "        param.grad_req = \"null\"\n",
    "\n",
    "deeplab_ft_direct_f16.hybridize(static_alloc=True, static_shape=True)\n",
    "\n",
    "model_filename_ft_direct_f16 = \"deeplab_resnet101_coco_ft_direct_f16.params\"\n",
    "\n",
    "reload(seg_model)\n",
    "\n",
    "loss_fn = gcv.loss.SoftmaxCrossEntropyLoss()\n",
    "\n",
    "# Epochs & Batch Size\n",
    "epochs = 10\n",
    "batch_size = 4\n",
    "\n",
    "# Define Optimizer and Hyper Parameters\n",
    "trainer = mx.gluon.Trainer(deeplab_ft_direct_f16.collect_params(), \"sgd\", {\n",
    "    \"learning_rate\": 1e-6, \n",
    "    \"multi_precision\": True\n",
    "})\n",
    "\n",
    "start_time = time.time()\n",
    "\n",
    "training_loss, validation_loss = seg_model.training_loop(\n",
    "    deeplab_ft_direct_f16,\n",
    "    loss_fn, \n",
    "    trainer, \n",
    "    epochs, \n",
    "    batch_size, \n",
    "    p_train, \n",
    "    p_val, \n",
    "    model_filename_ft_direct_f16, \n",
    "    ctx,\n",
    "    half_precision=True)\n",
    "\n",
    "print(\"Training time for 10 epochs:\", time.time() - start_time, \"/ Best validation loss:\", min(validation_loss))"
   ]
  },
  {
   "cell_type": "code",
   "execution_count": 90,
   "id": "f643a75c",
   "metadata": {},
   "outputs": [
    {
     "name": "stdout",
     "output_type": "stream",
     "text": [
      "65519 as Float16: 65504.000000000000000000000000000000\n",
      "65520 as Float16: inf\n",
      "65519 as Float16: 0.000000119209289550781250000000\n",
      "65520 as Float16: 0.000000000000000000000000000000\n"
     ]
    }
   ],
   "source": [
    "a = mx.nd.array([65519], dtype=np.float16)\n",
    "b = mx.nd.array([65520], dtype=np.float16)\n",
    "\n",
    "print(\"65519 as Float16: {0:.30f}\".format(a.asscalar()))\n",
    "print(\"65520 as Float16: {0:.30f}\".format(b.asscalar()))\n",
    "\n",
    "a = mx.nd.array([1e-7], dtype=np.float16)\n",
    "b = mx.nd.array([1e-8], dtype=np.float16)\n",
    "\n",
    "print(\"65519 as Float16: {0:.30f}\".format(a.asscalar()))\n",
    "print(\"65520 as Float16: {0:.30f}\".format(b.asscalar()))"
   ]
  },
  {
   "cell_type": "markdown",
   "id": "7ddd30b8",
   "metadata": {},
   "source": [
    "### Automatic Mixed Precision (AMP) Training"
   ]
  },
  {
   "cell_type": "code",
   "execution_count": 8,
   "id": "66984439",
   "metadata": {},
   "outputs": [
    {
     "data": {
      "application/vnd.jupyter.widget-view+json": {
       "model_id": "464e0c1ef68f4913943e47baaee4d760",
       "version_major": 2,
       "version_minor": 0
      },
      "text/plain": [
       "  0%|          | 0/10 [00:00<?, ?it/s]"
      ]
     },
     "metadata": {},
     "output_type": "display_data"
    },
    {
     "name": "stdout",
     "output_type": "stream",
     "text": [
      "E:    1, TrL:      inf, VL: 1.024292 --- Updating saved model\n",
      "E:    2, TrL: 0.797540, VL: 1.140231\n",
      "E:    3, TrL: 0.812618, VL: 0.979564 --- Updating saved model\n",
      "E:    4, TrL: 0.743529, VL: 1.035632\n",
      "E:    5, TrL: 0.687345, VL: 0.920520 --- Updating saved model\n",
      "E:    6, TrL: 0.646200, VL: 2.283948\n",
      "E:    7, TrL: 0.591441, VL: 0.914035 --- Updating saved model\n",
      "E:    8, TrL: 0.551181, VL: 0.775137 --- Updating saved model\n",
      "E:    9, TrL: 0.553194, VL: 0.784849\n",
      "E:   10, TrL: 0.517108, VL: 0.708273 --- Updating saved model\n",
      "Training time for 10 epochs: 217.64903020858765 / Best validation loss: 0.7082735\n"
     ]
    }
   ],
   "source": [
    "# AMP\n",
    "amp.init()\n",
    "\n",
    "# Model\n",
    "deeplab_ft_direct_amp = gcv.model_zoo.get_model('deeplab_resnet101_coco', pretrained=True, ctx=ctx)\n",
    "\n",
    "# FT-Direct, no freezing layers\n",
    "# # Freeze Layers (keeping track of the updated parameters)\n",
    "# updated_params = []\n",
    "# for param in deeplab_ft_direct_f32.collect_params().values():\n",
    "#     if param.grad_req == \"write\":\n",
    "#         param.grad_req = \"null\"\n",
    "#         updated_params += [param.name]\n",
    "\n",
    "# Replace the last layers\n",
    "deeplab_ft_direct_amp.head = gcv.model_zoo.deeplabv3._DeepLabHead(2)\n",
    "deeplab_ft_direct_amp.head.initialize(ctx=ctx)\n",
    "\n",
    "# DeepLab v3 has an additional auxiliary output for training/loss\n",
    "# Not required for our person detector\n",
    "deeplab_ft_direct_amp.aux = False\n",
    "for param in deeplab_ft_direct_amp.auxlayer.collect_params().values():\n",
    "    if param.grad_req == \"write\":\n",
    "        param.grad_req = \"null\"\n",
    "\n",
    "deeplab_ft_direct_amp.hybridize(static_alloc=True, static_shape=True)\n",
    "\n",
    "model_filename_ft_direct_amp = \"deeplab_resnet101_coco_ft_direct_amp.params\"\n",
    "\n",
    "reload(seg_model)\n",
    "\n",
    "loss_fn = gcv.loss.SoftmaxCrossEntropyLoss()\n",
    "\n",
    "# Epochs & Batch Size\n",
    "epochs = 10\n",
    "batch_size = 4\n",
    "\n",
    "# Define Optimizer and Hyper Parameters\n",
    "trainer = mx.gluon.Trainer(deeplab_ft_direct_amp.collect_params(), \"sgd\", {\"learning_rate\": 1.0})\n",
    "\n",
    "start_time = time.time()\n",
    "\n",
    "training_loss, validation_loss = seg_model.training_loop(\n",
    "    deeplab_ft_direct_amp,\n",
    "    loss_fn, \n",
    "    trainer, \n",
    "    epochs, \n",
    "    batch_size, \n",
    "    p_train, \n",
    "    p_val, \n",
    "    model_filename_ft_direct_amp, \n",
    "    ctx,\n",
    "    amp_enabled=True)\n",
    "\n",
    "print(\"Training time for 10 epochs:\", time.time() - start_time, \"/ Best validation loss:\", min(validation_loss))"
   ]
  },
  {
   "cell_type": "markdown",
   "id": "b3a6f64e",
   "metadata": {},
   "source": [
    "#### 2x BatchSize"
   ]
  },
  {
   "cell_type": "code",
   "execution_count": 14,
   "id": "088cfa0f",
   "metadata": {},
   "outputs": [
    {
     "data": {
      "application/vnd.jupyter.widget-view+json": {
       "model_id": "18bcdfe7c2ac4b30863838a6039aac61",
       "version_major": 2,
       "version_minor": 0
      },
      "text/plain": [
       "  0%|          | 0/10 [00:00<?, ?it/s]"
      ]
     },
     "metadata": {},
     "output_type": "display_data"
    },
    {
     "name": "stdout",
     "output_type": "stream",
     "text": [
      "E:    1, TrL: 0.389132, VL: 0.303815 --- Updating saved model\n",
      "E:    2, TrL: 0.186275, VL: 0.257895 --- Updating saved model\n",
      "E:    3, TrL: 0.134914, VL: 0.210688 --- Updating saved model\n",
      "E:    4, TrL: 0.109792, VL: 0.223997\n",
      "E:    5, TrL: 0.095182, VL: 0.219189\n",
      "E:    6, TrL: 0.085338, VL: 0.195552 --- Updating saved model\n",
      "E:    7, TrL: 0.077981, VL: 0.181985 --- Updating saved model\n",
      "E:    8, TrL: 0.073843, VL: 0.193172\n",
      "E:    9, TrL: 0.068550, VL: 0.201830\n",
      "E:   10, TrL: 0.065619, VL: 0.192543\n",
      "Training time for 10 epochs: 218.82141995429993 / Best validation loss: 0.18198483\n"
     ]
    }
   ],
   "source": [
    "# AMP\n",
    "amp.init()\n",
    "\n",
    "# Model\n",
    "deeplab_ft_direct_amp = gcv.model_zoo.get_model('deeplab_resnet101_coco', pretrained=True, ctx=ctx)\n",
    "\n",
    "# FT-Direct, no freezing layers\n",
    "# # Freeze Layers (keeping track of the updated parameters)\n",
    "# updated_params = []\n",
    "# for param in deeplab_ft_direct_f32.collect_params().values():\n",
    "#     if param.grad_req == \"write\":\n",
    "#         param.grad_req = \"null\"\n",
    "#         updated_params += [param.name]\n",
    "\n",
    "# Replace the last layers\n",
    "deeplab_ft_direct_amp.head = gcv.model_zoo.deeplabv3._DeepLabHead(2)\n",
    "deeplab_ft_direct_amp.head.initialize(ctx=ctx)\n",
    "\n",
    "# DeepLab v3 has an additional auxiliary output for training/loss\n",
    "# Not required for our person detector\n",
    "deeplab_ft_direct_amp.aux = False\n",
    "for param in deeplab_ft_direct_amp.auxlayer.collect_params().values():\n",
    "    if param.grad_req == \"write\":\n",
    "        param.grad_req = \"null\"\n",
    "\n",
    "deeplab_ft_direct_amp.hybridize(static_alloc=True, static_shape=True)\n",
    "\n",
    "model_filename_ft_direct_amp = \"deeplab_resnet101_coco_ft_direct_amp.params\"\n",
    "\n",
    "reload(seg_model)\n",
    "\n",
    "loss_fn = gcv.loss.SoftmaxCrossEntropyLoss()\n",
    "\n",
    "# Epochs & Batch Size\n",
    "epochs = 10\n",
    "batch_size = 8\n",
    "\n",
    "# Define Optimizer and Hyper Parameters\n",
    "trainer = mx.gluon.Trainer(deeplab_ft_direct_amp.collect_params(), \"sgd\", {\"learning_rate\": 1.0})\n",
    "\n",
    "start_time = time.time()\n",
    "\n",
    "training_loss, validation_loss = seg_model.training_loop(\n",
    "    deeplab_ft_direct_amp,\n",
    "    loss_fn, \n",
    "    trainer, \n",
    "    epochs, \n",
    "    batch_size, \n",
    "    p_train, \n",
    "    p_val, \n",
    "    model_filename_ft_direct_amp, \n",
    "    ctx,\n",
    "    amp_enabled=True)\n",
    "\n",
    "print(\"Training time for 10 epochs:\", time.time() - start_time, \"/ Best validation loss:\", min(validation_loss))"
   ]
  },
  {
   "cell_type": "markdown",
   "id": "c360c76b",
   "metadata": {},
   "source": [
    "#### 2x Batchsize + 3x epochs"
   ]
  },
  {
   "cell_type": "code",
   "execution_count": 91,
   "id": "886c4efb",
   "metadata": {},
   "outputs": [
    {
     "data": {
      "application/vnd.jupyter.widget-view+json": {
       "model_id": "a18d18dec44444d9a907d7bb52459463",
       "version_major": 2,
       "version_minor": 0
      },
      "text/plain": [
       "  0%|          | 0/30 [00:00<?, ?it/s]"
      ]
     },
     "metadata": {},
     "output_type": "display_data"
    },
    {
     "name": "stdout",
     "output_type": "stream",
     "text": [
      "E:    1, TrL: 0.402396, VL: 0.277328 --- Updating saved model\n",
      "E:    2, TrL: 0.183476, VL: 0.250136 --- Updating saved model\n",
      "E:    3, TrL: 0.135281, VL: 0.200705 --- Updating saved model\n",
      "E:    4, TrL: 0.108729, VL: 0.218331\n",
      "E:    5, TrL: 0.096049, VL: 0.197262 --- Updating saved model\n",
      "E:    6, TrL: 0.087256, VL: 0.193183 --- Updating saved model\n",
      "E:    7, TrL: 0.078887, VL: 0.168608 --- Updating saved model\n",
      "E:    8, TrL: 0.073169, VL: 0.182085\n",
      "E:    9, TrL: 0.067686, VL: 0.194122\n",
      "E:   10, TrL: 0.065026, VL: 0.184833\n",
      "E:   11, TrL: 0.061416, VL: 0.164398 --- Updating saved model\n",
      "E:   12, TrL: 0.060552, VL: 0.179351\n",
      "E:   13, TrL: 0.059573, VL: 0.174664\n",
      "E:   14, TrL: 0.055687, VL: 0.213759\n",
      "E:   15, TrL: 0.054580, VL: 0.172833\n",
      "E:   16, TrL: 0.052671, VL: 0.178162\n",
      "E:   17, TrL: 0.051071, VL: 0.169275\n",
      "E:   18, TrL: 0.049306, VL: 0.201066\n",
      "E:   19, TrL: 0.048858, VL: 0.183281\n",
      "E:   20, TrL: 0.047757, VL: 0.223146\n",
      "E:   21, TrL: 0.046628, VL: 0.191476\n",
      "E:   22, TrL: 0.045585, VL: 0.194995\n",
      "E:   23, TrL: 0.045642, VL: 0.179634\n",
      "E:   24, TrL: 0.044161, VL: 0.209175\n",
      "E:   25, TrL: 0.044511, VL: 0.183108\n",
      "E:   26, TrL: 0.042922, VL: 0.202025\n",
      "E:   27, TrL: 0.042603, VL: 0.191739\n",
      "E:   28, TrL: 0.041666, VL: 0.205722\n",
      "E:   29, TrL: 0.041908, VL: 0.187950\n",
      "E:   30, TrL: 0.040699, VL: 0.218090\n",
      "Training time for 10 epochs: 645.7392318248749 / Best validation loss: 0.16439788\n"
     ]
    }
   ],
   "source": [
    "# AMP\n",
    "amp.init()\n",
    "\n",
    "# Model\n",
    "deeplab_ft_direct_amp = gcv.model_zoo.get_model('deeplab_resnet101_coco', pretrained=True, ctx=ctx)\n",
    "\n",
    "# FT-Direct, no freezing layers\n",
    "# # Freeze Layers (keeping track of the updated parameters)\n",
    "# updated_params = []\n",
    "# for param in deeplab_ft_direct_f32.collect_params().values():\n",
    "#     if param.grad_req == \"write\":\n",
    "#         param.grad_req = \"null\"\n",
    "#         updated_params += [param.name]\n",
    "\n",
    "# Replace the last layers\n",
    "deeplab_ft_direct_amp.head = gcv.model_zoo.deeplabv3._DeepLabHead(2)\n",
    "deeplab_ft_direct_amp.head.initialize(ctx=ctx)\n",
    "\n",
    "# DeepLab v3 has an additional auxiliary output for training/loss\n",
    "# Not required for our person detector\n",
    "deeplab_ft_direct_amp.aux = False\n",
    "for param in deeplab_ft_direct_amp.auxlayer.collect_params().values():\n",
    "    if param.grad_req == \"write\":\n",
    "        param.grad_req = \"null\"\n",
    "\n",
    "deeplab_ft_direct_amp.hybridize(static_alloc=True, static_shape=True)\n",
    "\n",
    "model_filename_ft_direct_amp = \"deeplab_resnet101_coco_ft_direct_amp.params\"\n",
    "\n",
    "reload(seg_model)\n",
    "\n",
    "loss_fn = gcv.loss.SoftmaxCrossEntropyLoss()\n",
    "\n",
    "# Epochs & Batch Size\n",
    "epochs = 30\n",
    "batch_size = 8\n",
    "\n",
    "# Define Optimizer and Hyper Parameters\n",
    "trainer = mx.gluon.Trainer(deeplab_ft_direct_amp.collect_params(), \"sgd\", {\"learning_rate\": 1.0})\n",
    "\n",
    "start_time = time.time()\n",
    "\n",
    "training_loss, validation_loss = seg_model.training_loop(\n",
    "    deeplab_ft_direct_amp,\n",
    "    loss_fn, \n",
    "    trainer, \n",
    "    epochs, \n",
    "    batch_size, \n",
    "    p_train, \n",
    "    p_val, \n",
    "    model_filename_ft_direct_amp, \n",
    "    ctx,\n",
    "    amp_enabled=True)\n",
    "\n",
    "print(\"Training time for 10 epochs:\", time.time() - start_time, \"/ Best validation loss:\", min(validation_loss))"
   ]
  },
  {
   "cell_type": "markdown",
   "id": "c506b654",
   "metadata": {},
   "source": [
    "### Multi-GPU Training"
   ]
  },
  {
   "cell_type": "code",
   "execution_count": 6,
   "id": "5172906d",
   "metadata": {},
   "outputs": [],
   "source": [
    "# Context variable is now a list,\n",
    "# with each element corresponding to a GPU device\n",
    "ctx_list = [mx.gpu(0)]"
   ]
  },
  {
   "cell_type": "code",
   "execution_count": 7,
   "id": "afb5464d",
   "metadata": {},
   "outputs": [
    {
     "name": "stderr",
     "output_type": "stream",
     "text": [
      "/home/ext_andres_pereztorres_oxbotica_/.local/lib/python3.9/site-packages/mxnet/gluon/block.py:825: UserWarning: Parameter deeplabv30__fcnhead0_hybridsequential0_batchnorm0_running_mean, deeplabv30__fcnhead0_hybridsequential0_conv0_weight, deeplabv30__fcnhead0_hybridsequential0_conv1_weight, deeplabv30__fcnhead0_hybridsequential0_conv1_bias, deeplabv30__fcnhead0_hybridsequential0_batchnorm0_running_var, deeplabv30__fcnhead0_hybridsequential0_batchnorm0_gamma, deeplabv30__fcnhead0_hybridsequential0_batchnorm0_beta is not used by any computation. Is this intended?\n",
      "  out = self.forward(*args)\n"
     ]
    },
    {
     "name": "stdout",
     "output_type": "stream",
     "text": [
      "E:    1, TrL: 1.057983, VL: 0.220516 --- Updating saved model\n",
      "E:    2, TrL: 0.503621, VL: 0.158298 --- Updating saved model\n",
      "E:    3, TrL: 0.393605, VL: 0.123313 --- Updating saved model\n",
      "E:    4, TrL: 0.308222, VL: 0.141282\n",
      "E:    5, TrL: 0.267527, VL: 0.107261 --- Updating saved model\n",
      "E:    6, TrL: 0.248439, VL: 0.099912 --- Updating saved model\n",
      "E:    7, TrL: 0.221087, VL: 0.099837 --- Updating saved model\n",
      "E:    8, TrL: 0.201491, VL: 0.107823\n",
      "E:    9, TrL: 0.191541, VL: 0.106381\n",
      "E:   10, TrL: 0.182945, VL: 0.093767 --- Updating saved model\n",
      "Training time for 10 epochs: 647.753002166748 / Best validation loss: 0.0937674343585968\n"
     ]
    }
   ],
   "source": [
    "# Model\n",
    "deeplab_ft_direct_f32 = gcv.model_zoo.get_model('deeplab_resnet101_coco', pretrained=True, ctx=ctx_list)\n",
    "\n",
    "# FT-Direct, no freezing layers\n",
    "# # Freeze Layers (keeping track of the updated parameters)\n",
    "# updated_params = []\n",
    "# for param in deeplab_ft_direct_f32.collect_params().values():\n",
    "#     if param.grad_req == \"write\":\n",
    "#         param.grad_req = \"null\"\n",
    "#         updated_params += [param.name]\n",
    "\n",
    "# Replace the last layers\n",
    "deeplab_ft_direct_f32.head = gcv.model_zoo.deeplabv3._DeepLabHead(2)\n",
    "deeplab_ft_direct_f32.head.initialize(ctx=ctx_list)\n",
    "\n",
    "# DeepLab v3 has an additional auxiliary output for training/loss\n",
    "# Not required for our person detector\n",
    "deeplab_ft_direct_f32.aux = False\n",
    "for param in deeplab_ft_direct_f32.auxlayer.collect_params().values():\n",
    "    if param.grad_req == \"write\":\n",
    "        param.grad_req = \"null\"\n",
    "\n",
    "deeplab_ft_direct_f32.hybridize(static_alloc=True, static_shape=True)\n",
    "\n",
    "model_filename_ft_direct_f32 = \"deeplab_resnet101_coco_ft_direct_f32.params\"\n",
    "\n",
    "reload(seg_model)\n",
    "\n",
    "loss_fn = gcv.loss.SoftmaxCrossEntropyLoss()\n",
    "\n",
    "# Epochs & Batch Size\n",
    "epochs = 10\n",
    "batch_size = 4\n",
    "\n",
    "# Define Optimizer and Hyper Parameters\n",
    "trainer = mx.gluon.Trainer(deeplab_ft_direct_f32.collect_params(), \"sgd\", {\"learning_rate\": 0.1})\n",
    "\n",
    "start_time = time.time()\n",
    "\n",
    "training_loss, validation_loss = seg_model.multi_training_loop(\n",
    "    deeplab_ft_direct_f32,\n",
    "    loss_fn, \n",
    "    trainer, \n",
    "    epochs, \n",
    "    batch_size, \n",
    "    p_train, \n",
    "    p_val, \n",
    "    model_filename_ft_direct_f32, \n",
    "    ctx_list)\n",
    "\n",
    "print(\"Training time for 10 epochs:\", time.time() - start_time, \"/ Best validation loss:\", min(validation_loss))"
   ]
  },
  {
   "cell_type": "code",
   "execution_count": 8,
   "id": "b089a804",
   "metadata": {},
   "outputs": [],
   "source": [
    "# Context variable is now a list,\n",
    "# with each element corresponding to a GPU device\n",
    "ctx_list = [mx.gpu(0), mx.gpu(1), mx.gpu(2), mx.gpu(3)]\n",
    "num_gpus = len(ctx_list)"
   ]
  },
  {
   "cell_type": "code",
   "execution_count": 9,
   "id": "ac7e6be9",
   "metadata": {
    "scrolled": false
   },
   "outputs": [
    {
     "name": "stderr",
     "output_type": "stream",
     "text": [
      "/home/ext_andres_pereztorres_oxbotica_/.local/lib/python3.9/site-packages/mxnet/gluon/block.py:825: UserWarning: Parameter deeplabv31__fcnhead0_hybridsequential0_conv0_weight, deeplabv31__fcnhead0_hybridsequential0_conv1_bias, deeplabv31__fcnhead0_hybridsequential0_batchnorm0_running_mean, deeplabv31__fcnhead0_hybridsequential0_batchnorm0_gamma, deeplabv31__fcnhead0_hybridsequential0_batchnorm0_beta, deeplabv31__fcnhead0_hybridsequential0_conv1_weight, deeplabv31__fcnhead0_hybridsequential0_batchnorm0_running_var is not used by any computation. Is this intended?\n",
      "  out = self.forward(*args)\n"
     ]
    },
    {
     "name": "stdout",
     "output_type": "stream",
     "text": [
      "E:    1, TrL: 4.510626, VL: 0.330724 --- Updating saved model\n",
      "E:    2, TrL: 2.277204, VL: 0.408388\n",
      "E:    3, TrL: 1.589747, VL: 0.156678 --- Updating saved model\n",
      "E:    4, TrL: 1.382671, VL: 0.313606\n",
      "E:    5, TrL: 1.031660, VL: 0.131599 --- Updating saved model\n",
      "E:    6, TrL: 1.122431, VL: 0.185414\n",
      "E:    7, TrL: 0.862841, VL: 0.091557 --- Updating saved model\n",
      "E:    8, TrL: 0.932939, VL: 0.195323\n",
      "E:    9, TrL: 0.740517, VL: 0.165574\n",
      "E:   10, TrL: 0.920897, VL: 0.082047 --- Updating saved model\n",
      "Training time for 10 epochs: 177.23532104492188 / Best validation loss: 0.082047363743186\n"
     ]
    }
   ],
   "source": [
    "# Model\n",
    "deeplab_ft_direct_f32 = gcv.model_zoo.get_model('deeplab_resnet101_coco', pretrained=True, ctx=ctx_list)\n",
    "\n",
    "# FT-Direct, no freezing layers\n",
    "# # Freeze Layers (keeping track of the updated parameters)\n",
    "# updated_params = []\n",
    "# for param in deeplab_ft_direct_f32.collect_params().values():\n",
    "#     if param.grad_req == \"write\":\n",
    "#         param.grad_req = \"null\"\n",
    "#         updated_params += [param.name]\n",
    "\n",
    "# Replace the last layers\n",
    "deeplab_ft_direct_f32.head = gcv.model_zoo.deeplabv3._DeepLabHead(2)\n",
    "deeplab_ft_direct_f32.head.initialize(ctx=ctx_list)\n",
    "\n",
    "# DeepLab v3 has an additional auxiliary output for training/loss\n",
    "# Not required for our person detector\n",
    "deeplab_ft_direct_f32.aux = False\n",
    "for param in deeplab_ft_direct_f32.auxlayer.collect_params().values():\n",
    "    if param.grad_req == \"write\":\n",
    "        param.grad_req = \"null\"\n",
    "\n",
    "deeplab_ft_direct_f32.hybridize(static_alloc=True, static_shape=True)\n",
    "\n",
    "model_filename_ft_direct_f32 = \"deeplab_resnet101_coco_ft_direct_f32.params\"\n",
    "\n",
    "reload(seg_model)\n",
    "\n",
    "loss_fn = gcv.loss.SoftmaxCrossEntropyLoss()\n",
    "\n",
    "# Epochs & Batch Size\n",
    "epochs = 10\n",
    "batch_size_per_gpu = 4\n",
    "batch_size = len(ctx_list) * batch_size_per_gpu\n",
    "\n",
    "# Define Optimizer and Hyper Parameters\n",
    "trainer = mx.gluon.Trainer(deeplab_ft_direct_f32.collect_params(), \"sgd\", {\"learning_rate\": 0.5})\n",
    "\n",
    "start_time = time.time()\n",
    "\n",
    "training_loss, validation_loss = seg_model.multi_training_loop(\n",
    "    deeplab_ft_direct_f32,\n",
    "    loss_fn, \n",
    "    trainer, \n",
    "    epochs, \n",
    "    batch_size, \n",
    "    p_train, \n",
    "    p_val, \n",
    "    model_filename_ft_direct_f32, \n",
    "    ctx_list)\n",
    "\n",
    "print(\"Training time for 10 epochs:\", time.time() - start_time, \"/ Best validation loss:\", min(validation_loss))"
   ]
  }
 ],
 "metadata": {
  "kernelspec": {
   "display_name": "Python 3 (ipykernel)",
   "language": "python",
   "name": "python3"
  },
  "language_info": {
   "codemirror_mode": {
    "name": "ipython",
    "version": 3
   },
   "file_extension": ".py",
   "mimetype": "text/x-python",
   "name": "python",
   "nbconvert_exporter": "python",
   "pygments_lexer": "ipython3",
   "version": "3.9.2"
  }
 },
 "nbformat": 4,
 "nbformat_minor": 5
}
